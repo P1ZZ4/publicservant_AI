{
  "nbformat": 4,
  "nbformat_minor": 0,
  "metadata": {
    "colab": {
      "name": "심화3_GPT2 구현하기",
      "provenance": [],
      "toc_visible": true,
      "machine_shape": "hm",
      "authorship_tag": "ABX9TyN5j77gLFHZT5CAp8lWvygh",
      "include_colab_link": true
    },
    "kernelspec": {
      "name": "python3",
      "display_name": "Python 3"
    },
    "accelerator": "GPU",
    "widgets": {
      "application/vnd.jupyter.widget-state+json": {
        "c37797e63566461887d99095c5191d48": {
          "model_module": "@jupyter-widgets/controls",
          "model_name": "HBoxModel",
          "state": {
            "_view_name": "HBoxView",
            "_dom_classes": [],
            "_model_name": "HBoxModel",
            "_view_module": "@jupyter-widgets/controls",
            "_model_module_version": "1.5.0",
            "_view_count": null,
            "_view_module_version": "1.5.0",
            "box_style": "",
            "layout": "IPY_MODEL_e2e641582d6b48feae32181cf1b88416",
            "_model_module": "@jupyter-widgets/controls",
            "children": [
              "IPY_MODEL_9523ed77fadd4dfa8fd3e711d4e01715",
              "IPY_MODEL_2114a9acb4e64921982c05d18c1dda14"
            ]
          }
        },
        "e2e641582d6b48feae32181cf1b88416": {
          "model_module": "@jupyter-widgets/base",
          "model_name": "LayoutModel",
          "state": {
            "_view_name": "LayoutView",
            "grid_template_rows": null,
            "right": null,
            "justify_content": null,
            "_view_module": "@jupyter-widgets/base",
            "overflow": null,
            "_model_module_version": "1.2.0",
            "_view_count": null,
            "flex_flow": null,
            "width": null,
            "min_width": null,
            "border": null,
            "align_items": null,
            "bottom": null,
            "_model_module": "@jupyter-widgets/base",
            "top": null,
            "grid_column": null,
            "overflow_y": null,
            "overflow_x": null,
            "grid_auto_flow": null,
            "grid_area": null,
            "grid_template_columns": null,
            "flex": null,
            "_model_name": "LayoutModel",
            "justify_items": null,
            "grid_row": null,
            "max_height": null,
            "align_content": null,
            "visibility": null,
            "align_self": null,
            "height": null,
            "min_height": null,
            "padding": null,
            "grid_auto_rows": null,
            "grid_gap": null,
            "max_width": null,
            "order": null,
            "_view_module_version": "1.2.0",
            "grid_template_areas": null,
            "object_position": null,
            "object_fit": null,
            "grid_auto_columns": null,
            "margin": null,
            "display": null,
            "left": null
          }
        },
        "9523ed77fadd4dfa8fd3e711d4e01715": {
          "model_module": "@jupyter-widgets/controls",
          "model_name": "FloatProgressModel",
          "state": {
            "_view_name": "ProgressView",
            "style": "IPY_MODEL_5d25f43c157f4e6f91ca49c1a67babe2",
            "_dom_classes": [],
            "description": "Dl Completed...: 100%",
            "_model_name": "FloatProgressModel",
            "bar_style": "success",
            "max": 1,
            "_view_module": "@jupyter-widgets/controls",
            "_model_module_version": "1.5.0",
            "value": 1,
            "_view_count": null,
            "_view_module_version": "1.5.0",
            "orientation": "horizontal",
            "min": 0,
            "description_tooltip": null,
            "_model_module": "@jupyter-widgets/controls",
            "layout": "IPY_MODEL_e21c46a1ddd04cffb4d122a709998396"
          }
        },
        "2114a9acb4e64921982c05d18c1dda14": {
          "model_module": "@jupyter-widgets/controls",
          "model_name": "HTMLModel",
          "state": {
            "_view_name": "HTMLView",
            "style": "IPY_MODEL_12f6f83093954a36bb9c62350a77715f",
            "_dom_classes": [],
            "description": "",
            "_model_name": "HTMLModel",
            "placeholder": "​",
            "_view_module": "@jupyter-widgets/controls",
            "_model_module_version": "1.5.0",
            "value": " 1/1 [00:06&lt;00:00,  6.68s/ url]",
            "_view_count": null,
            "_view_module_version": "1.5.0",
            "description_tooltip": null,
            "_model_module": "@jupyter-widgets/controls",
            "layout": "IPY_MODEL_4b025f4752354adfb532e2f89df2524c"
          }
        },
        "5d25f43c157f4e6f91ca49c1a67babe2": {
          "model_module": "@jupyter-widgets/controls",
          "model_name": "ProgressStyleModel",
          "state": {
            "_view_name": "StyleView",
            "_model_name": "ProgressStyleModel",
            "description_width": "initial",
            "_view_module": "@jupyter-widgets/base",
            "_model_module_version": "1.5.0",
            "_view_count": null,
            "_view_module_version": "1.2.0",
            "bar_color": null,
            "_model_module": "@jupyter-widgets/controls"
          }
        },
        "e21c46a1ddd04cffb4d122a709998396": {
          "model_module": "@jupyter-widgets/base",
          "model_name": "LayoutModel",
          "state": {
            "_view_name": "LayoutView",
            "grid_template_rows": null,
            "right": null,
            "justify_content": null,
            "_view_module": "@jupyter-widgets/base",
            "overflow": null,
            "_model_module_version": "1.2.0",
            "_view_count": null,
            "flex_flow": null,
            "width": null,
            "min_width": null,
            "border": null,
            "align_items": null,
            "bottom": null,
            "_model_module": "@jupyter-widgets/base",
            "top": null,
            "grid_column": null,
            "overflow_y": null,
            "overflow_x": null,
            "grid_auto_flow": null,
            "grid_area": null,
            "grid_template_columns": null,
            "flex": null,
            "_model_name": "LayoutModel",
            "justify_items": null,
            "grid_row": null,
            "max_height": null,
            "align_content": null,
            "visibility": null,
            "align_self": null,
            "height": null,
            "min_height": null,
            "padding": null,
            "grid_auto_rows": null,
            "grid_gap": null,
            "max_width": null,
            "order": null,
            "_view_module_version": "1.2.0",
            "grid_template_areas": null,
            "object_position": null,
            "object_fit": null,
            "grid_auto_columns": null,
            "margin": null,
            "display": null,
            "left": null
          }
        },
        "12f6f83093954a36bb9c62350a77715f": {
          "model_module": "@jupyter-widgets/controls",
          "model_name": "DescriptionStyleModel",
          "state": {
            "_view_name": "StyleView",
            "_model_name": "DescriptionStyleModel",
            "description_width": "",
            "_view_module": "@jupyter-widgets/base",
            "_model_module_version": "1.5.0",
            "_view_count": null,
            "_view_module_version": "1.2.0",
            "_model_module": "@jupyter-widgets/controls"
          }
        },
        "4b025f4752354adfb532e2f89df2524c": {
          "model_module": "@jupyter-widgets/base",
          "model_name": "LayoutModel",
          "state": {
            "_view_name": "LayoutView",
            "grid_template_rows": null,
            "right": null,
            "justify_content": null,
            "_view_module": "@jupyter-widgets/base",
            "overflow": null,
            "_model_module_version": "1.2.0",
            "_view_count": null,
            "flex_flow": null,
            "width": null,
            "min_width": null,
            "border": null,
            "align_items": null,
            "bottom": null,
            "_model_module": "@jupyter-widgets/base",
            "top": null,
            "grid_column": null,
            "overflow_y": null,
            "overflow_x": null,
            "grid_auto_flow": null,
            "grid_area": null,
            "grid_template_columns": null,
            "flex": null,
            "_model_name": "LayoutModel",
            "justify_items": null,
            "grid_row": null,
            "max_height": null,
            "align_content": null,
            "visibility": null,
            "align_self": null,
            "height": null,
            "min_height": null,
            "padding": null,
            "grid_auto_rows": null,
            "grid_gap": null,
            "max_width": null,
            "order": null,
            "_view_module_version": "1.2.0",
            "grid_template_areas": null,
            "object_position": null,
            "object_fit": null,
            "grid_auto_columns": null,
            "margin": null,
            "display": null,
            "left": null
          }
        },
        "bb57f094cd0b437582525c090c304e6d": {
          "model_module": "@jupyter-widgets/controls",
          "model_name": "HBoxModel",
          "state": {
            "_view_name": "HBoxView",
            "_dom_classes": [],
            "_model_name": "HBoxModel",
            "_view_module": "@jupyter-widgets/controls",
            "_model_module_version": "1.5.0",
            "_view_count": null,
            "_view_module_version": "1.5.0",
            "box_style": "",
            "layout": "IPY_MODEL_836e834393e24ac5806a44205a083549",
            "_model_module": "@jupyter-widgets/controls",
            "children": [
              "IPY_MODEL_1b9077d3a68b43159aea6d96b8d26485",
              "IPY_MODEL_043f44b6598f49af9068001c05552723"
            ]
          }
        },
        "836e834393e24ac5806a44205a083549": {
          "model_module": "@jupyter-widgets/base",
          "model_name": "LayoutModel",
          "state": {
            "_view_name": "LayoutView",
            "grid_template_rows": null,
            "right": null,
            "justify_content": null,
            "_view_module": "@jupyter-widgets/base",
            "overflow": null,
            "_model_module_version": "1.2.0",
            "_view_count": null,
            "flex_flow": null,
            "width": null,
            "min_width": null,
            "border": null,
            "align_items": null,
            "bottom": null,
            "_model_module": "@jupyter-widgets/base",
            "top": null,
            "grid_column": null,
            "overflow_y": null,
            "overflow_x": null,
            "grid_auto_flow": null,
            "grid_area": null,
            "grid_template_columns": null,
            "flex": null,
            "_model_name": "LayoutModel",
            "justify_items": null,
            "grid_row": null,
            "max_height": null,
            "align_content": null,
            "visibility": null,
            "align_self": null,
            "height": null,
            "min_height": null,
            "padding": null,
            "grid_auto_rows": null,
            "grid_gap": null,
            "max_width": null,
            "order": null,
            "_view_module_version": "1.2.0",
            "grid_template_areas": null,
            "object_position": null,
            "object_fit": null,
            "grid_auto_columns": null,
            "margin": null,
            "display": null,
            "left": null
          }
        },
        "1b9077d3a68b43159aea6d96b8d26485": {
          "model_module": "@jupyter-widgets/controls",
          "model_name": "FloatProgressModel",
          "state": {
            "_view_name": "ProgressView",
            "style": "IPY_MODEL_f47a2e8f7ec24eb18695272fa2a1a151",
            "_dom_classes": [],
            "description": "Dl Size...: 100%",
            "_model_name": "FloatProgressModel",
            "bar_style": "success",
            "max": 1,
            "_view_module": "@jupyter-widgets/controls",
            "_model_module_version": "1.5.0",
            "value": 1,
            "_view_count": null,
            "_view_module_version": "1.5.0",
            "orientation": "horizontal",
            "min": 0,
            "description_tooltip": null,
            "_model_module": "@jupyter-widgets/controls",
            "layout": "IPY_MODEL_4c821bab2a3c4157b12d4a9042115c74"
          }
        },
        "043f44b6598f49af9068001c05552723": {
          "model_module": "@jupyter-widgets/controls",
          "model_name": "HTMLModel",
          "state": {
            "_view_name": "HTMLView",
            "style": "IPY_MODEL_4abf8b136de44ea192c9db109099aa12",
            "_dom_classes": [],
            "description": "",
            "_model_name": "HTMLModel",
            "placeholder": "​",
            "_view_module": "@jupyter-widgets/controls",
            "_model_module_version": "1.5.0",
            "value": " 124/124 [00:06&lt;00:00, 18.64 MiB/s]",
            "_view_count": null,
            "_view_module_version": "1.5.0",
            "description_tooltip": null,
            "_model_module": "@jupyter-widgets/controls",
            "layout": "IPY_MODEL_801b0f7aa0ec48308383e46aef87f774"
          }
        },
        "f47a2e8f7ec24eb18695272fa2a1a151": {
          "model_module": "@jupyter-widgets/controls",
          "model_name": "ProgressStyleModel",
          "state": {
            "_view_name": "StyleView",
            "_model_name": "ProgressStyleModel",
            "description_width": "initial",
            "_view_module": "@jupyter-widgets/base",
            "_model_module_version": "1.5.0",
            "_view_count": null,
            "_view_module_version": "1.2.0",
            "bar_color": null,
            "_model_module": "@jupyter-widgets/controls"
          }
        },
        "4c821bab2a3c4157b12d4a9042115c74": {
          "model_module": "@jupyter-widgets/base",
          "model_name": "LayoutModel",
          "state": {
            "_view_name": "LayoutView",
            "grid_template_rows": null,
            "right": null,
            "justify_content": null,
            "_view_module": "@jupyter-widgets/base",
            "overflow": null,
            "_model_module_version": "1.2.0",
            "_view_count": null,
            "flex_flow": null,
            "width": null,
            "min_width": null,
            "border": null,
            "align_items": null,
            "bottom": null,
            "_model_module": "@jupyter-widgets/base",
            "top": null,
            "grid_column": null,
            "overflow_y": null,
            "overflow_x": null,
            "grid_auto_flow": null,
            "grid_area": null,
            "grid_template_columns": null,
            "flex": null,
            "_model_name": "LayoutModel",
            "justify_items": null,
            "grid_row": null,
            "max_height": null,
            "align_content": null,
            "visibility": null,
            "align_self": null,
            "height": null,
            "min_height": null,
            "padding": null,
            "grid_auto_rows": null,
            "grid_gap": null,
            "max_width": null,
            "order": null,
            "_view_module_version": "1.2.0",
            "grid_template_areas": null,
            "object_position": null,
            "object_fit": null,
            "grid_auto_columns": null,
            "margin": null,
            "display": null,
            "left": null
          }
        },
        "4abf8b136de44ea192c9db109099aa12": {
          "model_module": "@jupyter-widgets/controls",
          "model_name": "DescriptionStyleModel",
          "state": {
            "_view_name": "StyleView",
            "_model_name": "DescriptionStyleModel",
            "description_width": "",
            "_view_module": "@jupyter-widgets/base",
            "_model_module_version": "1.5.0",
            "_view_count": null,
            "_view_module_version": "1.2.0",
            "_model_module": "@jupyter-widgets/controls"
          }
        },
        "801b0f7aa0ec48308383e46aef87f774": {
          "model_module": "@jupyter-widgets/base",
          "model_name": "LayoutModel",
          "state": {
            "_view_name": "LayoutView",
            "grid_template_rows": null,
            "right": null,
            "justify_content": null,
            "_view_module": "@jupyter-widgets/base",
            "overflow": null,
            "_model_module_version": "1.2.0",
            "_view_count": null,
            "flex_flow": null,
            "width": null,
            "min_width": null,
            "border": null,
            "align_items": null,
            "bottom": null,
            "_model_module": "@jupyter-widgets/base",
            "top": null,
            "grid_column": null,
            "overflow_y": null,
            "overflow_x": null,
            "grid_auto_flow": null,
            "grid_area": null,
            "grid_template_columns": null,
            "flex": null,
            "_model_name": "LayoutModel",
            "justify_items": null,
            "grid_row": null,
            "max_height": null,
            "align_content": null,
            "visibility": null,
            "align_self": null,
            "height": null,
            "min_height": null,
            "padding": null,
            "grid_auto_rows": null,
            "grid_gap": null,
            "max_width": null,
            "order": null,
            "_view_module_version": "1.2.0",
            "grid_template_areas": null,
            "object_position": null,
            "object_fit": null,
            "grid_auto_columns": null,
            "margin": null,
            "display": null,
            "left": null
          }
        },
        "210139daf4ef49469e6a618b26d89d8e": {
          "model_module": "@jupyter-widgets/controls",
          "model_name": "HBoxModel",
          "state": {
            "_view_name": "HBoxView",
            "_dom_classes": [],
            "_model_name": "HBoxModel",
            "_view_module": "@jupyter-widgets/controls",
            "_model_module_version": "1.5.0",
            "_view_count": null,
            "_view_module_version": "1.5.0",
            "box_style": "",
            "layout": "IPY_MODEL_8272010e035347aaa26eab3566cb474e",
            "_model_module": "@jupyter-widgets/controls",
            "children": [
              "IPY_MODEL_9ba7c032ab61440eb7c09324b90eabaf",
              "IPY_MODEL_1688810eac1f4e25b2fd9d172b2466ca"
            ]
          }
        },
        "8272010e035347aaa26eab3566cb474e": {
          "model_module": "@jupyter-widgets/base",
          "model_name": "LayoutModel",
          "state": {
            "_view_name": "LayoutView",
            "grid_template_rows": null,
            "right": null,
            "justify_content": null,
            "_view_module": "@jupyter-widgets/base",
            "overflow": null,
            "_model_module_version": "1.2.0",
            "_view_count": null,
            "flex_flow": null,
            "width": null,
            "min_width": null,
            "border": null,
            "align_items": null,
            "bottom": null,
            "_model_module": "@jupyter-widgets/base",
            "top": null,
            "grid_column": null,
            "overflow_y": null,
            "overflow_x": null,
            "grid_auto_flow": null,
            "grid_area": null,
            "grid_template_columns": null,
            "flex": null,
            "_model_name": "LayoutModel",
            "justify_items": null,
            "grid_row": null,
            "max_height": null,
            "align_content": null,
            "visibility": null,
            "align_self": null,
            "height": null,
            "min_height": null,
            "padding": null,
            "grid_auto_rows": null,
            "grid_gap": null,
            "max_width": null,
            "order": null,
            "_view_module_version": "1.2.0",
            "grid_template_areas": null,
            "object_position": null,
            "object_fit": null,
            "grid_auto_columns": null,
            "margin": null,
            "display": null,
            "left": null
          }
        },
        "9ba7c032ab61440eb7c09324b90eabaf": {
          "model_module": "@jupyter-widgets/controls",
          "model_name": "FloatProgressModel",
          "state": {
            "_view_name": "ProgressView",
            "style": "IPY_MODEL_49cd57608ec94bdc9134b15b5797acba",
            "_dom_classes": [],
            "description": "Extraction completed...: 100%",
            "_model_name": "FloatProgressModel",
            "bar_style": "success",
            "max": 1,
            "_view_module": "@jupyter-widgets/controls",
            "_model_module_version": "1.5.0",
            "value": 1,
            "_view_count": null,
            "_view_module_version": "1.5.0",
            "orientation": "horizontal",
            "min": 0,
            "description_tooltip": null,
            "_model_module": "@jupyter-widgets/controls",
            "layout": "IPY_MODEL_91a5f3fdbd784bdf9d44a2d3b540405e"
          }
        },
        "1688810eac1f4e25b2fd9d172b2466ca": {
          "model_module": "@jupyter-widgets/controls",
          "model_name": "HTMLModel",
          "state": {
            "_view_name": "HTMLView",
            "style": "IPY_MODEL_9fca0781e9ae49f08d86266519aae5dc",
            "_dom_classes": [],
            "description": "",
            "_model_name": "HTMLModel",
            "placeholder": "​",
            "_view_module": "@jupyter-widgets/controls",
            "_model_module_version": "1.5.0",
            "value": " 1/1 [00:06&lt;00:00,  6.62s/ file]",
            "_view_count": null,
            "_view_module_version": "1.5.0",
            "description_tooltip": null,
            "_model_module": "@jupyter-widgets/controls",
            "layout": "IPY_MODEL_e4e38f188f88416089c2c357af6a0fcb"
          }
        },
        "49cd57608ec94bdc9134b15b5797acba": {
          "model_module": "@jupyter-widgets/controls",
          "model_name": "ProgressStyleModel",
          "state": {
            "_view_name": "StyleView",
            "_model_name": "ProgressStyleModel",
            "description_width": "initial",
            "_view_module": "@jupyter-widgets/base",
            "_model_module_version": "1.5.0",
            "_view_count": null,
            "_view_module_version": "1.2.0",
            "bar_color": null,
            "_model_module": "@jupyter-widgets/controls"
          }
        },
        "91a5f3fdbd784bdf9d44a2d3b540405e": {
          "model_module": "@jupyter-widgets/base",
          "model_name": "LayoutModel",
          "state": {
            "_view_name": "LayoutView",
            "grid_template_rows": null,
            "right": null,
            "justify_content": null,
            "_view_module": "@jupyter-widgets/base",
            "overflow": null,
            "_model_module_version": "1.2.0",
            "_view_count": null,
            "flex_flow": null,
            "width": null,
            "min_width": null,
            "border": null,
            "align_items": null,
            "bottom": null,
            "_model_module": "@jupyter-widgets/base",
            "top": null,
            "grid_column": null,
            "overflow_y": null,
            "overflow_x": null,
            "grid_auto_flow": null,
            "grid_area": null,
            "grid_template_columns": null,
            "flex": null,
            "_model_name": "LayoutModel",
            "justify_items": null,
            "grid_row": null,
            "max_height": null,
            "align_content": null,
            "visibility": null,
            "align_self": null,
            "height": null,
            "min_height": null,
            "padding": null,
            "grid_auto_rows": null,
            "grid_gap": null,
            "max_width": null,
            "order": null,
            "_view_module_version": "1.2.0",
            "grid_template_areas": null,
            "object_position": null,
            "object_fit": null,
            "grid_auto_columns": null,
            "margin": null,
            "display": null,
            "left": null
          }
        },
        "9fca0781e9ae49f08d86266519aae5dc": {
          "model_module": "@jupyter-widgets/controls",
          "model_name": "DescriptionStyleModel",
          "state": {
            "_view_name": "StyleView",
            "_model_name": "DescriptionStyleModel",
            "description_width": "",
            "_view_module": "@jupyter-widgets/base",
            "_model_module_version": "1.5.0",
            "_view_count": null,
            "_view_module_version": "1.2.0",
            "_model_module": "@jupyter-widgets/controls"
          }
        },
        "e4e38f188f88416089c2c357af6a0fcb": {
          "model_module": "@jupyter-widgets/base",
          "model_name": "LayoutModel",
          "state": {
            "_view_name": "LayoutView",
            "grid_template_rows": null,
            "right": null,
            "justify_content": null,
            "_view_module": "@jupyter-widgets/base",
            "overflow": null,
            "_model_module_version": "1.2.0",
            "_view_count": null,
            "flex_flow": null,
            "width": null,
            "min_width": null,
            "border": null,
            "align_items": null,
            "bottom": null,
            "_model_module": "@jupyter-widgets/base",
            "top": null,
            "grid_column": null,
            "overflow_y": null,
            "overflow_x": null,
            "grid_auto_flow": null,
            "grid_area": null,
            "grid_template_columns": null,
            "flex": null,
            "_model_name": "LayoutModel",
            "justify_items": null,
            "grid_row": null,
            "max_height": null,
            "align_content": null,
            "visibility": null,
            "align_self": null,
            "height": null,
            "min_height": null,
            "padding": null,
            "grid_auto_rows": null,
            "grid_gap": null,
            "max_width": null,
            "order": null,
            "_view_module_version": "1.2.0",
            "grid_template_areas": null,
            "object_position": null,
            "object_fit": null,
            "grid_auto_columns": null,
            "margin": null,
            "display": null,
            "left": null
          }
        },
        "e70146c14ef241bb9474c04ee5fde26d": {
          "model_module": "@jupyter-widgets/controls",
          "model_name": "HBoxModel",
          "state": {
            "_view_name": "HBoxView",
            "_dom_classes": [],
            "_model_name": "HBoxModel",
            "_view_module": "@jupyter-widgets/controls",
            "_model_module_version": "1.5.0",
            "_view_count": null,
            "_view_module_version": "1.5.0",
            "box_style": "",
            "layout": "IPY_MODEL_e54b1e8d128b48258dfe3121dfb8a992",
            "_model_module": "@jupyter-widgets/controls",
            "children": [
              "IPY_MODEL_c6c0f409dace4fe4b51f60ce55ecf98a",
              "IPY_MODEL_557575b8508345f5bb9a1908d599ed1e"
            ]
          }
        },
        "e54b1e8d128b48258dfe3121dfb8a992": {
          "model_module": "@jupyter-widgets/base",
          "model_name": "LayoutModel",
          "state": {
            "_view_name": "LayoutView",
            "grid_template_rows": null,
            "right": null,
            "justify_content": null,
            "_view_module": "@jupyter-widgets/base",
            "overflow": null,
            "_model_module_version": "1.2.0",
            "_view_count": null,
            "flex_flow": null,
            "width": null,
            "min_width": null,
            "border": null,
            "align_items": null,
            "bottom": null,
            "_model_module": "@jupyter-widgets/base",
            "top": null,
            "grid_column": null,
            "overflow_y": null,
            "overflow_x": null,
            "grid_auto_flow": null,
            "grid_area": null,
            "grid_template_columns": null,
            "flex": null,
            "_model_name": "LayoutModel",
            "justify_items": null,
            "grid_row": null,
            "max_height": null,
            "align_content": null,
            "visibility": null,
            "align_self": null,
            "height": null,
            "min_height": null,
            "padding": null,
            "grid_auto_rows": null,
            "grid_gap": null,
            "max_width": null,
            "order": null,
            "_view_module_version": "1.2.0",
            "grid_template_areas": null,
            "object_position": null,
            "object_fit": null,
            "grid_auto_columns": null,
            "margin": null,
            "display": null,
            "left": null
          }
        },
        "c6c0f409dace4fe4b51f60ce55ecf98a": {
          "model_module": "@jupyter-widgets/controls",
          "model_name": "FloatProgressModel",
          "state": {
            "_view_name": "ProgressView",
            "style": "IPY_MODEL_53e3d5481a7a4288bbf384c63ce47321",
            "_dom_classes": [],
            "description": "",
            "_model_name": "FloatProgressModel",
            "bar_style": "info",
            "max": 1,
            "_view_module": "@jupyter-widgets/controls",
            "_model_module_version": "1.5.0",
            "value": 1,
            "_view_count": null,
            "_view_module_version": "1.5.0",
            "orientation": "horizontal",
            "min": 0,
            "description_tooltip": null,
            "_model_module": "@jupyter-widgets/controls",
            "layout": "IPY_MODEL_e825e1ded9a0453a98df0d60ede6e4fa"
          }
        },
        "557575b8508345f5bb9a1908d599ed1e": {
          "model_module": "@jupyter-widgets/controls",
          "model_name": "HTMLModel",
          "state": {
            "_view_name": "HTMLView",
            "style": "IPY_MODEL_0ba82adf82fd49e9be0ef2f55ade1051",
            "_dom_classes": [],
            "description": "",
            "_model_name": "HTMLModel",
            "placeholder": "​",
            "_view_module": "@jupyter-widgets/controls",
            "_model_module_version": "1.5.0",
            "value": " 51785/0 [00:13&lt;00:00, 3746.46 examples/s]",
            "_view_count": null,
            "_view_module_version": "1.5.0",
            "description_tooltip": null,
            "_model_module": "@jupyter-widgets/controls",
            "layout": "IPY_MODEL_0e2e8591b9b34e1a965236591602cd99"
          }
        },
        "53e3d5481a7a4288bbf384c63ce47321": {
          "model_module": "@jupyter-widgets/controls",
          "model_name": "ProgressStyleModel",
          "state": {
            "_view_name": "StyleView",
            "_model_name": "ProgressStyleModel",
            "description_width": "initial",
            "_view_module": "@jupyter-widgets/base",
            "_model_module_version": "1.5.0",
            "_view_count": null,
            "_view_module_version": "1.2.0",
            "bar_color": null,
            "_model_module": "@jupyter-widgets/controls"
          }
        },
        "e825e1ded9a0453a98df0d60ede6e4fa": {
          "model_module": "@jupyter-widgets/base",
          "model_name": "LayoutModel",
          "state": {
            "_view_name": "LayoutView",
            "grid_template_rows": null,
            "right": null,
            "justify_content": null,
            "_view_module": "@jupyter-widgets/base",
            "overflow": null,
            "_model_module_version": "1.2.0",
            "_view_count": null,
            "flex_flow": null,
            "width": null,
            "min_width": null,
            "border": null,
            "align_items": null,
            "bottom": null,
            "_model_module": "@jupyter-widgets/base",
            "top": null,
            "grid_column": null,
            "overflow_y": null,
            "overflow_x": null,
            "grid_auto_flow": null,
            "grid_area": null,
            "grid_template_columns": null,
            "flex": null,
            "_model_name": "LayoutModel",
            "justify_items": null,
            "grid_row": null,
            "max_height": null,
            "align_content": null,
            "visibility": null,
            "align_self": null,
            "height": null,
            "min_height": null,
            "padding": null,
            "grid_auto_rows": null,
            "grid_gap": null,
            "max_width": null,
            "order": null,
            "_view_module_version": "1.2.0",
            "grid_template_areas": null,
            "object_position": null,
            "object_fit": null,
            "grid_auto_columns": null,
            "margin": null,
            "display": null,
            "left": null
          }
        },
        "0ba82adf82fd49e9be0ef2f55ade1051": {
          "model_module": "@jupyter-widgets/controls",
          "model_name": "DescriptionStyleModel",
          "state": {
            "_view_name": "StyleView",
            "_model_name": "DescriptionStyleModel",
            "description_width": "",
            "_view_module": "@jupyter-widgets/base",
            "_model_module_version": "1.5.0",
            "_view_count": null,
            "_view_module_version": "1.2.0",
            "_model_module": "@jupyter-widgets/controls"
          }
        },
        "0e2e8591b9b34e1a965236591602cd99": {
          "model_module": "@jupyter-widgets/base",
          "model_name": "LayoutModel",
          "state": {
            "_view_name": "LayoutView",
            "grid_template_rows": null,
            "right": null,
            "justify_content": null,
            "_view_module": "@jupyter-widgets/base",
            "overflow": null,
            "_model_module_version": "1.2.0",
            "_view_count": null,
            "flex_flow": null,
            "width": null,
            "min_width": null,
            "border": null,
            "align_items": null,
            "bottom": null,
            "_model_module": "@jupyter-widgets/base",
            "top": null,
            "grid_column": null,
            "overflow_y": null,
            "overflow_x": null,
            "grid_auto_flow": null,
            "grid_area": null,
            "grid_template_columns": null,
            "flex": null,
            "_model_name": "LayoutModel",
            "justify_items": null,
            "grid_row": null,
            "max_height": null,
            "align_content": null,
            "visibility": null,
            "align_self": null,
            "height": null,
            "min_height": null,
            "padding": null,
            "grid_auto_rows": null,
            "grid_gap": null,
            "max_width": null,
            "order": null,
            "_view_module_version": "1.2.0",
            "grid_template_areas": null,
            "object_position": null,
            "object_fit": null,
            "grid_auto_columns": null,
            "margin": null,
            "display": null,
            "left": null
          }
        },
        "b01321092359457ca0e0db920ec18799": {
          "model_module": "@jupyter-widgets/controls",
          "model_name": "HBoxModel",
          "state": {
            "_view_name": "HBoxView",
            "_dom_classes": [],
            "_model_name": "HBoxModel",
            "_view_module": "@jupyter-widgets/controls",
            "_model_module_version": "1.5.0",
            "_view_count": null,
            "_view_module_version": "1.5.0",
            "box_style": "",
            "layout": "IPY_MODEL_3338139a2f844d3a9d9f65df2164c0d1",
            "_model_module": "@jupyter-widgets/controls",
            "children": [
              "IPY_MODEL_f3101dcbc12a464a8b7229e97cf5485c",
              "IPY_MODEL_37f8165faecf4b24a4e91ff7089b695d"
            ]
          }
        },
        "3338139a2f844d3a9d9f65df2164c0d1": {
          "model_module": "@jupyter-widgets/base",
          "model_name": "LayoutModel",
          "state": {
            "_view_name": "LayoutView",
            "grid_template_rows": null,
            "right": null,
            "justify_content": null,
            "_view_module": "@jupyter-widgets/base",
            "overflow": null,
            "_model_module_version": "1.2.0",
            "_view_count": null,
            "flex_flow": null,
            "width": null,
            "min_width": null,
            "border": null,
            "align_items": null,
            "bottom": null,
            "_model_module": "@jupyter-widgets/base",
            "top": null,
            "grid_column": null,
            "overflow_y": null,
            "overflow_x": null,
            "grid_auto_flow": null,
            "grid_area": null,
            "grid_template_columns": null,
            "flex": null,
            "_model_name": "LayoutModel",
            "justify_items": null,
            "grid_row": null,
            "max_height": null,
            "align_content": null,
            "visibility": null,
            "align_self": null,
            "height": null,
            "min_height": null,
            "padding": null,
            "grid_auto_rows": null,
            "grid_gap": null,
            "max_width": null,
            "order": null,
            "_view_module_version": "1.2.0",
            "grid_template_areas": null,
            "object_position": null,
            "object_fit": null,
            "grid_auto_columns": null,
            "margin": null,
            "display": null,
            "left": null
          }
        },
        "f3101dcbc12a464a8b7229e97cf5485c": {
          "model_module": "@jupyter-widgets/controls",
          "model_name": "FloatProgressModel",
          "state": {
            "_view_name": "ProgressView",
            "style": "IPY_MODEL_70699cb187324e1498ad12e138a4b34f",
            "_dom_classes": [],
            "description": " 27%",
            "_model_name": "FloatProgressModel",
            "bar_style": "danger",
            "max": 51785,
            "_view_module": "@jupyter-widgets/controls",
            "_model_module_version": "1.5.0",
            "value": 14108,
            "_view_count": null,
            "_view_module_version": "1.5.0",
            "orientation": "horizontal",
            "min": 0,
            "description_tooltip": null,
            "_model_module": "@jupyter-widgets/controls",
            "layout": "IPY_MODEL_76b78ef4ff7b49948b07fe66d42f14b1"
          }
        },
        "37f8165faecf4b24a4e91ff7089b695d": {
          "model_module": "@jupyter-widgets/controls",
          "model_name": "HTMLModel",
          "state": {
            "_view_name": "HTMLView",
            "style": "IPY_MODEL_26dac39cccc445b8ba3cae6957416d11",
            "_dom_classes": [],
            "description": "",
            "_model_name": "HTMLModel",
            "placeholder": "​",
            "_view_module": "@jupyter-widgets/controls",
            "_model_module_version": "1.5.0",
            "value": " 14108/51785 [00:01&lt;00:00, 141079.13 examples/s]",
            "_view_count": null,
            "_view_module_version": "1.5.0",
            "description_tooltip": null,
            "_model_module": "@jupyter-widgets/controls",
            "layout": "IPY_MODEL_c161d73db3584da38dd170b69d861313"
          }
        },
        "70699cb187324e1498ad12e138a4b34f": {
          "model_module": "@jupyter-widgets/controls",
          "model_name": "ProgressStyleModel",
          "state": {
            "_view_name": "StyleView",
            "_model_name": "ProgressStyleModel",
            "description_width": "initial",
            "_view_module": "@jupyter-widgets/base",
            "_model_module_version": "1.5.0",
            "_view_count": null,
            "_view_module_version": "1.2.0",
            "bar_color": null,
            "_model_module": "@jupyter-widgets/controls"
          }
        },
        "76b78ef4ff7b49948b07fe66d42f14b1": {
          "model_module": "@jupyter-widgets/base",
          "model_name": "LayoutModel",
          "state": {
            "_view_name": "LayoutView",
            "grid_template_rows": null,
            "right": null,
            "justify_content": null,
            "_view_module": "@jupyter-widgets/base",
            "overflow": null,
            "_model_module_version": "1.2.0",
            "_view_count": null,
            "flex_flow": null,
            "width": null,
            "min_width": null,
            "border": null,
            "align_items": null,
            "bottom": null,
            "_model_module": "@jupyter-widgets/base",
            "top": null,
            "grid_column": null,
            "overflow_y": null,
            "overflow_x": null,
            "grid_auto_flow": null,
            "grid_area": null,
            "grid_template_columns": null,
            "flex": null,
            "_model_name": "LayoutModel",
            "justify_items": null,
            "grid_row": null,
            "max_height": null,
            "align_content": null,
            "visibility": null,
            "align_self": null,
            "height": null,
            "min_height": null,
            "padding": null,
            "grid_auto_rows": null,
            "grid_gap": null,
            "max_width": null,
            "order": null,
            "_view_module_version": "1.2.0",
            "grid_template_areas": null,
            "object_position": null,
            "object_fit": null,
            "grid_auto_columns": null,
            "margin": null,
            "display": null,
            "left": null
          }
        },
        "26dac39cccc445b8ba3cae6957416d11": {
          "model_module": "@jupyter-widgets/controls",
          "model_name": "DescriptionStyleModel",
          "state": {
            "_view_name": "StyleView",
            "_model_name": "DescriptionStyleModel",
            "description_width": "",
            "_view_module": "@jupyter-widgets/base",
            "_model_module_version": "1.5.0",
            "_view_count": null,
            "_view_module_version": "1.2.0",
            "_model_module": "@jupyter-widgets/controls"
          }
        },
        "c161d73db3584da38dd170b69d861313": {
          "model_module": "@jupyter-widgets/base",
          "model_name": "LayoutModel",
          "state": {
            "_view_name": "LayoutView",
            "grid_template_rows": null,
            "right": null,
            "justify_content": null,
            "_view_module": "@jupyter-widgets/base",
            "overflow": null,
            "_model_module_version": "1.2.0",
            "_view_count": null,
            "flex_flow": null,
            "width": null,
            "min_width": null,
            "border": null,
            "align_items": null,
            "bottom": null,
            "_model_module": "@jupyter-widgets/base",
            "top": null,
            "grid_column": null,
            "overflow_y": null,
            "overflow_x": null,
            "grid_auto_flow": null,
            "grid_area": null,
            "grid_template_columns": null,
            "flex": null,
            "_model_name": "LayoutModel",
            "justify_items": null,
            "grid_row": null,
            "max_height": null,
            "align_content": null,
            "visibility": null,
            "align_self": null,
            "height": null,
            "min_height": null,
            "padding": null,
            "grid_auto_rows": null,
            "grid_gap": null,
            "max_width": null,
            "order": null,
            "_view_module_version": "1.2.0",
            "grid_template_areas": null,
            "object_position": null,
            "object_fit": null,
            "grid_auto_columns": null,
            "margin": null,
            "display": null,
            "left": null
          }
        },
        "776d12bfa9ce4d6382a0f5f5aa5a3577": {
          "model_module": "@jupyter-widgets/controls",
          "model_name": "HBoxModel",
          "state": {
            "_view_name": "HBoxView",
            "_dom_classes": [],
            "_model_name": "HBoxModel",
            "_view_module": "@jupyter-widgets/controls",
            "_model_module_version": "1.5.0",
            "_view_count": null,
            "_view_module_version": "1.5.0",
            "box_style": "",
            "layout": "IPY_MODEL_b6289f7ae3d74d6ca8eca79c4cf57566",
            "_model_module": "@jupyter-widgets/controls",
            "children": [
              "IPY_MODEL_21c8a328485b4b468c043a13e1dceed4",
              "IPY_MODEL_ec16a4cdd2e644f1bcef14fb4be74e65"
            ]
          }
        },
        "b6289f7ae3d74d6ca8eca79c4cf57566": {
          "model_module": "@jupyter-widgets/base",
          "model_name": "LayoutModel",
          "state": {
            "_view_name": "LayoutView",
            "grid_template_rows": null,
            "right": null,
            "justify_content": null,
            "_view_module": "@jupyter-widgets/base",
            "overflow": null,
            "_model_module_version": "1.2.0",
            "_view_count": null,
            "flex_flow": null,
            "width": null,
            "min_width": null,
            "border": null,
            "align_items": null,
            "bottom": null,
            "_model_module": "@jupyter-widgets/base",
            "top": null,
            "grid_column": null,
            "overflow_y": null,
            "overflow_x": null,
            "grid_auto_flow": null,
            "grid_area": null,
            "grid_template_columns": null,
            "flex": null,
            "_model_name": "LayoutModel",
            "justify_items": null,
            "grid_row": null,
            "max_height": null,
            "align_content": null,
            "visibility": null,
            "align_self": null,
            "height": null,
            "min_height": null,
            "padding": null,
            "grid_auto_rows": null,
            "grid_gap": null,
            "max_width": null,
            "order": null,
            "_view_module_version": "1.2.0",
            "grid_template_areas": null,
            "object_position": null,
            "object_fit": null,
            "grid_auto_columns": null,
            "margin": null,
            "display": null,
            "left": null
          }
        },
        "21c8a328485b4b468c043a13e1dceed4": {
          "model_module": "@jupyter-widgets/controls",
          "model_name": "FloatProgressModel",
          "state": {
            "_view_name": "ProgressView",
            "style": "IPY_MODEL_533a3d2f86bb41aa967c558c91e7b1bc",
            "_dom_classes": [],
            "description": "",
            "_model_name": "FloatProgressModel",
            "bar_style": "info",
            "max": 1,
            "_view_module": "@jupyter-widgets/controls",
            "_model_module_version": "1.5.0",
            "value": 1,
            "_view_count": null,
            "_view_module_version": "1.5.0",
            "orientation": "horizontal",
            "min": 0,
            "description_tooltip": null,
            "_model_module": "@jupyter-widgets/controls",
            "layout": "IPY_MODEL_07b7c327f7d7494caaf05d1f4b15ee4b"
          }
        },
        "ec16a4cdd2e644f1bcef14fb4be74e65": {
          "model_module": "@jupyter-widgets/controls",
          "model_name": "HTMLModel",
          "state": {
            "_view_name": "HTMLView",
            "style": "IPY_MODEL_2abf75e343fa4c3d9fc623a463950333",
            "_dom_classes": [],
            "description": "",
            "_model_name": "HTMLModel",
            "placeholder": "​",
            "_view_module": "@jupyter-widgets/controls",
            "_model_module_version": "1.5.0",
            "value": " 1193/0 [00:00&lt;00:00, 3204.29 examples/s]",
            "_view_count": null,
            "_view_module_version": "1.5.0",
            "description_tooltip": null,
            "_model_module": "@jupyter-widgets/controls",
            "layout": "IPY_MODEL_7946bdb328fb46fa8335a17ccaf6f2c6"
          }
        },
        "533a3d2f86bb41aa967c558c91e7b1bc": {
          "model_module": "@jupyter-widgets/controls",
          "model_name": "ProgressStyleModel",
          "state": {
            "_view_name": "StyleView",
            "_model_name": "ProgressStyleModel",
            "description_width": "initial",
            "_view_module": "@jupyter-widgets/base",
            "_model_module_version": "1.5.0",
            "_view_count": null,
            "_view_module_version": "1.2.0",
            "bar_color": null,
            "_model_module": "@jupyter-widgets/controls"
          }
        },
        "07b7c327f7d7494caaf05d1f4b15ee4b": {
          "model_module": "@jupyter-widgets/base",
          "model_name": "LayoutModel",
          "state": {
            "_view_name": "LayoutView",
            "grid_template_rows": null,
            "right": null,
            "justify_content": null,
            "_view_module": "@jupyter-widgets/base",
            "overflow": null,
            "_model_module_version": "1.2.0",
            "_view_count": null,
            "flex_flow": null,
            "width": null,
            "min_width": null,
            "border": null,
            "align_items": null,
            "bottom": null,
            "_model_module": "@jupyter-widgets/base",
            "top": null,
            "grid_column": null,
            "overflow_y": null,
            "overflow_x": null,
            "grid_auto_flow": null,
            "grid_area": null,
            "grid_template_columns": null,
            "flex": null,
            "_model_name": "LayoutModel",
            "justify_items": null,
            "grid_row": null,
            "max_height": null,
            "align_content": null,
            "visibility": null,
            "align_self": null,
            "height": null,
            "min_height": null,
            "padding": null,
            "grid_auto_rows": null,
            "grid_gap": null,
            "max_width": null,
            "order": null,
            "_view_module_version": "1.2.0",
            "grid_template_areas": null,
            "object_position": null,
            "object_fit": null,
            "grid_auto_columns": null,
            "margin": null,
            "display": null,
            "left": null
          }
        },
        "2abf75e343fa4c3d9fc623a463950333": {
          "model_module": "@jupyter-widgets/controls",
          "model_name": "DescriptionStyleModel",
          "state": {
            "_view_name": "StyleView",
            "_model_name": "DescriptionStyleModel",
            "description_width": "",
            "_view_module": "@jupyter-widgets/base",
            "_model_module_version": "1.5.0",
            "_view_count": null,
            "_view_module_version": "1.2.0",
            "_model_module": "@jupyter-widgets/controls"
          }
        },
        "7946bdb328fb46fa8335a17ccaf6f2c6": {
          "model_module": "@jupyter-widgets/base",
          "model_name": "LayoutModel",
          "state": {
            "_view_name": "LayoutView",
            "grid_template_rows": null,
            "right": null,
            "justify_content": null,
            "_view_module": "@jupyter-widgets/base",
            "overflow": null,
            "_model_module_version": "1.2.0",
            "_view_count": null,
            "flex_flow": null,
            "width": null,
            "min_width": null,
            "border": null,
            "align_items": null,
            "bottom": null,
            "_model_module": "@jupyter-widgets/base",
            "top": null,
            "grid_column": null,
            "overflow_y": null,
            "overflow_x": null,
            "grid_auto_flow": null,
            "grid_area": null,
            "grid_template_columns": null,
            "flex": null,
            "_model_name": "LayoutModel",
            "justify_items": null,
            "grid_row": null,
            "max_height": null,
            "align_content": null,
            "visibility": null,
            "align_self": null,
            "height": null,
            "min_height": null,
            "padding": null,
            "grid_auto_rows": null,
            "grid_gap": null,
            "max_width": null,
            "order": null,
            "_view_module_version": "1.2.0",
            "grid_template_areas": null,
            "object_position": null,
            "object_fit": null,
            "grid_auto_columns": null,
            "margin": null,
            "display": null,
            "left": null
          }
        },
        "afe8711d48024490a9cfb12478eca383": {
          "model_module": "@jupyter-widgets/controls",
          "model_name": "HBoxModel",
          "state": {
            "_view_name": "HBoxView",
            "_dom_classes": [],
            "_model_name": "HBoxModel",
            "_view_module": "@jupyter-widgets/controls",
            "_model_module_version": "1.5.0",
            "_view_count": null,
            "_view_module_version": "1.5.0",
            "box_style": "",
            "layout": "IPY_MODEL_6448e656f6794e80962f2ec56ae40b7d",
            "_model_module": "@jupyter-widgets/controls",
            "children": [
              "IPY_MODEL_9c7f3c41b75c4122a974164016ae6558",
              "IPY_MODEL_f846550ddc3242a895a7029098642d7b"
            ]
          }
        },
        "6448e656f6794e80962f2ec56ae40b7d": {
          "model_module": "@jupyter-widgets/base",
          "model_name": "LayoutModel",
          "state": {
            "_view_name": "LayoutView",
            "grid_template_rows": null,
            "right": null,
            "justify_content": null,
            "_view_module": "@jupyter-widgets/base",
            "overflow": null,
            "_model_module_version": "1.2.0",
            "_view_count": null,
            "flex_flow": null,
            "width": null,
            "min_width": null,
            "border": null,
            "align_items": null,
            "bottom": null,
            "_model_module": "@jupyter-widgets/base",
            "top": null,
            "grid_column": null,
            "overflow_y": null,
            "overflow_x": null,
            "grid_auto_flow": null,
            "grid_area": null,
            "grid_template_columns": null,
            "flex": null,
            "_model_name": "LayoutModel",
            "justify_items": null,
            "grid_row": null,
            "max_height": null,
            "align_content": null,
            "visibility": null,
            "align_self": null,
            "height": null,
            "min_height": null,
            "padding": null,
            "grid_auto_rows": null,
            "grid_gap": null,
            "max_width": null,
            "order": null,
            "_view_module_version": "1.2.0",
            "grid_template_areas": null,
            "object_position": null,
            "object_fit": null,
            "grid_auto_columns": null,
            "margin": null,
            "display": null,
            "left": null
          }
        },
        "9c7f3c41b75c4122a974164016ae6558": {
          "model_module": "@jupyter-widgets/controls",
          "model_name": "FloatProgressModel",
          "state": {
            "_view_name": "ProgressView",
            "style": "IPY_MODEL_63b3bbfd8b044b7b8aea5b772a104622",
            "_dom_classes": [],
            "description": "  0%",
            "_model_name": "FloatProgressModel",
            "bar_style": "danger",
            "max": 1193,
            "_view_module": "@jupyter-widgets/controls",
            "_model_module_version": "1.5.0",
            "value": 0,
            "_view_count": null,
            "_view_module_version": "1.5.0",
            "orientation": "horizontal",
            "min": 0,
            "description_tooltip": null,
            "_model_module": "@jupyter-widgets/controls",
            "layout": "IPY_MODEL_f1cac2073451439a801a9f4716101874"
          }
        },
        "f846550ddc3242a895a7029098642d7b": {
          "model_module": "@jupyter-widgets/controls",
          "model_name": "HTMLModel",
          "state": {
            "_view_name": "HTMLView",
            "style": "IPY_MODEL_3929f070f4ea4eebb74c9a6d8585b72c",
            "_dom_classes": [],
            "description": "",
            "_model_name": "HTMLModel",
            "placeholder": "​",
            "_view_module": "@jupyter-widgets/controls",
            "_model_module_version": "1.5.0",
            "value": " 0/1193 [00:00&lt;?, ? examples/s]",
            "_view_count": null,
            "_view_module_version": "1.5.0",
            "description_tooltip": null,
            "_model_module": "@jupyter-widgets/controls",
            "layout": "IPY_MODEL_f4b5c9e928cd4cbdafd657eaec89a810"
          }
        },
        "63b3bbfd8b044b7b8aea5b772a104622": {
          "model_module": "@jupyter-widgets/controls",
          "model_name": "ProgressStyleModel",
          "state": {
            "_view_name": "StyleView",
            "_model_name": "ProgressStyleModel",
            "description_width": "initial",
            "_view_module": "@jupyter-widgets/base",
            "_model_module_version": "1.5.0",
            "_view_count": null,
            "_view_module_version": "1.2.0",
            "bar_color": null,
            "_model_module": "@jupyter-widgets/controls"
          }
        },
        "f1cac2073451439a801a9f4716101874": {
          "model_module": "@jupyter-widgets/base",
          "model_name": "LayoutModel",
          "state": {
            "_view_name": "LayoutView",
            "grid_template_rows": null,
            "right": null,
            "justify_content": null,
            "_view_module": "@jupyter-widgets/base",
            "overflow": null,
            "_model_module_version": "1.2.0",
            "_view_count": null,
            "flex_flow": null,
            "width": null,
            "min_width": null,
            "border": null,
            "align_items": null,
            "bottom": null,
            "_model_module": "@jupyter-widgets/base",
            "top": null,
            "grid_column": null,
            "overflow_y": null,
            "overflow_x": null,
            "grid_auto_flow": null,
            "grid_area": null,
            "grid_template_columns": null,
            "flex": null,
            "_model_name": "LayoutModel",
            "justify_items": null,
            "grid_row": null,
            "max_height": null,
            "align_content": null,
            "visibility": null,
            "align_self": null,
            "height": null,
            "min_height": null,
            "padding": null,
            "grid_auto_rows": null,
            "grid_gap": null,
            "max_width": null,
            "order": null,
            "_view_module_version": "1.2.0",
            "grid_template_areas": null,
            "object_position": null,
            "object_fit": null,
            "grid_auto_columns": null,
            "margin": null,
            "display": null,
            "left": null
          }
        },
        "3929f070f4ea4eebb74c9a6d8585b72c": {
          "model_module": "@jupyter-widgets/controls",
          "model_name": "DescriptionStyleModel",
          "state": {
            "_view_name": "StyleView",
            "_model_name": "DescriptionStyleModel",
            "description_width": "",
            "_view_module": "@jupyter-widgets/base",
            "_model_module_version": "1.5.0",
            "_view_count": null,
            "_view_module_version": "1.2.0",
            "_model_module": "@jupyter-widgets/controls"
          }
        },
        "f4b5c9e928cd4cbdafd657eaec89a810": {
          "model_module": "@jupyter-widgets/base",
          "model_name": "LayoutModel",
          "state": {
            "_view_name": "LayoutView",
            "grid_template_rows": null,
            "right": null,
            "justify_content": null,
            "_view_module": "@jupyter-widgets/base",
            "overflow": null,
            "_model_module_version": "1.2.0",
            "_view_count": null,
            "flex_flow": null,
            "width": null,
            "min_width": null,
            "border": null,
            "align_items": null,
            "bottom": null,
            "_model_module": "@jupyter-widgets/base",
            "top": null,
            "grid_column": null,
            "overflow_y": null,
            "overflow_x": null,
            "grid_auto_flow": null,
            "grid_area": null,
            "grid_template_columns": null,
            "flex": null,
            "_model_name": "LayoutModel",
            "justify_items": null,
            "grid_row": null,
            "max_height": null,
            "align_content": null,
            "visibility": null,
            "align_self": null,
            "height": null,
            "min_height": null,
            "padding": null,
            "grid_auto_rows": null,
            "grid_gap": null,
            "max_width": null,
            "order": null,
            "_view_module_version": "1.2.0",
            "grid_template_areas": null,
            "object_position": null,
            "object_fit": null,
            "grid_auto_columns": null,
            "margin": null,
            "display": null,
            "left": null
          }
        },
        "d8a44f324c6540089c0874c1f038ce91": {
          "model_module": "@jupyter-widgets/controls",
          "model_name": "HBoxModel",
          "state": {
            "_view_name": "HBoxView",
            "_dom_classes": [],
            "_model_name": "HBoxModel",
            "_view_module": "@jupyter-widgets/controls",
            "_model_module_version": "1.5.0",
            "_view_count": null,
            "_view_module_version": "1.5.0",
            "box_style": "",
            "layout": "IPY_MODEL_a55780dcf57e4e498d07a6f22a491d09",
            "_model_module": "@jupyter-widgets/controls",
            "children": [
              "IPY_MODEL_002de47067394acfbe21b3023b18bc84",
              "IPY_MODEL_56f2e80ecfdc4ac3801851f21cd38a53"
            ]
          }
        },
        "a55780dcf57e4e498d07a6f22a491d09": {
          "model_module": "@jupyter-widgets/base",
          "model_name": "LayoutModel",
          "state": {
            "_view_name": "LayoutView",
            "grid_template_rows": null,
            "right": null,
            "justify_content": null,
            "_view_module": "@jupyter-widgets/base",
            "overflow": null,
            "_model_module_version": "1.2.0",
            "_view_count": null,
            "flex_flow": null,
            "width": null,
            "min_width": null,
            "border": null,
            "align_items": null,
            "bottom": null,
            "_model_module": "@jupyter-widgets/base",
            "top": null,
            "grid_column": null,
            "overflow_y": null,
            "overflow_x": null,
            "grid_auto_flow": null,
            "grid_area": null,
            "grid_template_columns": null,
            "flex": null,
            "_model_name": "LayoutModel",
            "justify_items": null,
            "grid_row": null,
            "max_height": null,
            "align_content": null,
            "visibility": null,
            "align_self": null,
            "height": null,
            "min_height": null,
            "padding": null,
            "grid_auto_rows": null,
            "grid_gap": null,
            "max_width": null,
            "order": null,
            "_view_module_version": "1.2.0",
            "grid_template_areas": null,
            "object_position": null,
            "object_fit": null,
            "grid_auto_columns": null,
            "margin": null,
            "display": null,
            "left": null
          }
        },
        "002de47067394acfbe21b3023b18bc84": {
          "model_module": "@jupyter-widgets/controls",
          "model_name": "FloatProgressModel",
          "state": {
            "_view_name": "ProgressView",
            "style": "IPY_MODEL_ceff8c3edb374216aeb2025ad5dbe671",
            "_dom_classes": [],
            "description": "",
            "_model_name": "FloatProgressModel",
            "bar_style": "info",
            "max": 1,
            "_view_module": "@jupyter-widgets/controls",
            "_model_module_version": "1.5.0",
            "value": 1,
            "_view_count": null,
            "_view_module_version": "1.5.0",
            "orientation": "horizontal",
            "min": 0,
            "description_tooltip": null,
            "_model_module": "@jupyter-widgets/controls",
            "layout": "IPY_MODEL_9b05d46d15e94251ac4cd87c37d97dd4"
          }
        },
        "56f2e80ecfdc4ac3801851f21cd38a53": {
          "model_module": "@jupyter-widgets/controls",
          "model_name": "HTMLModel",
          "state": {
            "_view_name": "HTMLView",
            "style": "IPY_MODEL_51aaf06b7d98406d8f56741abcae36dc",
            "_dom_classes": [],
            "description": "",
            "_model_name": "HTMLModel",
            "placeholder": "​",
            "_view_module": "@jupyter-widgets/controls",
            "_model_module_version": "1.5.0",
            "value": " 1803/0 [00:00&lt;00:00, 3267.84 examples/s]",
            "_view_count": null,
            "_view_module_version": "1.5.0",
            "description_tooltip": null,
            "_model_module": "@jupyter-widgets/controls",
            "layout": "IPY_MODEL_471ae9f57ebe4cdd9e6fb4e08553fd27"
          }
        },
        "ceff8c3edb374216aeb2025ad5dbe671": {
          "model_module": "@jupyter-widgets/controls",
          "model_name": "ProgressStyleModel",
          "state": {
            "_view_name": "StyleView",
            "_model_name": "ProgressStyleModel",
            "description_width": "initial",
            "_view_module": "@jupyter-widgets/base",
            "_model_module_version": "1.5.0",
            "_view_count": null,
            "_view_module_version": "1.2.0",
            "bar_color": null,
            "_model_module": "@jupyter-widgets/controls"
          }
        },
        "9b05d46d15e94251ac4cd87c37d97dd4": {
          "model_module": "@jupyter-widgets/base",
          "model_name": "LayoutModel",
          "state": {
            "_view_name": "LayoutView",
            "grid_template_rows": null,
            "right": null,
            "justify_content": null,
            "_view_module": "@jupyter-widgets/base",
            "overflow": null,
            "_model_module_version": "1.2.0",
            "_view_count": null,
            "flex_flow": null,
            "width": null,
            "min_width": null,
            "border": null,
            "align_items": null,
            "bottom": null,
            "_model_module": "@jupyter-widgets/base",
            "top": null,
            "grid_column": null,
            "overflow_y": null,
            "overflow_x": null,
            "grid_auto_flow": null,
            "grid_area": null,
            "grid_template_columns": null,
            "flex": null,
            "_model_name": "LayoutModel",
            "justify_items": null,
            "grid_row": null,
            "max_height": null,
            "align_content": null,
            "visibility": null,
            "align_self": null,
            "height": null,
            "min_height": null,
            "padding": null,
            "grid_auto_rows": null,
            "grid_gap": null,
            "max_width": null,
            "order": null,
            "_view_module_version": "1.2.0",
            "grid_template_areas": null,
            "object_position": null,
            "object_fit": null,
            "grid_auto_columns": null,
            "margin": null,
            "display": null,
            "left": null
          }
        },
        "51aaf06b7d98406d8f56741abcae36dc": {
          "model_module": "@jupyter-widgets/controls",
          "model_name": "DescriptionStyleModel",
          "state": {
            "_view_name": "StyleView",
            "_model_name": "DescriptionStyleModel",
            "description_width": "",
            "_view_module": "@jupyter-widgets/base",
            "_model_module_version": "1.5.0",
            "_view_count": null,
            "_view_module_version": "1.2.0",
            "_model_module": "@jupyter-widgets/controls"
          }
        },
        "471ae9f57ebe4cdd9e6fb4e08553fd27": {
          "model_module": "@jupyter-widgets/base",
          "model_name": "LayoutModel",
          "state": {
            "_view_name": "LayoutView",
            "grid_template_rows": null,
            "right": null,
            "justify_content": null,
            "_view_module": "@jupyter-widgets/base",
            "overflow": null,
            "_model_module_version": "1.2.0",
            "_view_count": null,
            "flex_flow": null,
            "width": null,
            "min_width": null,
            "border": null,
            "align_items": null,
            "bottom": null,
            "_model_module": "@jupyter-widgets/base",
            "top": null,
            "grid_column": null,
            "overflow_y": null,
            "overflow_x": null,
            "grid_auto_flow": null,
            "grid_area": null,
            "grid_template_columns": null,
            "flex": null,
            "_model_name": "LayoutModel",
            "justify_items": null,
            "grid_row": null,
            "max_height": null,
            "align_content": null,
            "visibility": null,
            "align_self": null,
            "height": null,
            "min_height": null,
            "padding": null,
            "grid_auto_rows": null,
            "grid_gap": null,
            "max_width": null,
            "order": null,
            "_view_module_version": "1.2.0",
            "grid_template_areas": null,
            "object_position": null,
            "object_fit": null,
            "grid_auto_columns": null,
            "margin": null,
            "display": null,
            "left": null
          }
        },
        "c57b28cb0a794cb4bb08c61bbb0fb2bb": {
          "model_module": "@jupyter-widgets/controls",
          "model_name": "HBoxModel",
          "state": {
            "_view_name": "HBoxView",
            "_dom_classes": [],
            "_model_name": "HBoxModel",
            "_view_module": "@jupyter-widgets/controls",
            "_model_module_version": "1.5.0",
            "_view_count": null,
            "_view_module_version": "1.5.0",
            "box_style": "",
            "layout": "IPY_MODEL_97c445ad82364b33ad13bc3891010bb2",
            "_model_module": "@jupyter-widgets/controls",
            "children": [
              "IPY_MODEL_f8804f49082e4513830d5f60ad11f269",
              "IPY_MODEL_55998e357ab443ef8724b57137177c1a"
            ]
          }
        },
        "97c445ad82364b33ad13bc3891010bb2": {
          "model_module": "@jupyter-widgets/base",
          "model_name": "LayoutModel",
          "state": {
            "_view_name": "LayoutView",
            "grid_template_rows": null,
            "right": null,
            "justify_content": null,
            "_view_module": "@jupyter-widgets/base",
            "overflow": null,
            "_model_module_version": "1.2.0",
            "_view_count": null,
            "flex_flow": null,
            "width": null,
            "min_width": null,
            "border": null,
            "align_items": null,
            "bottom": null,
            "_model_module": "@jupyter-widgets/base",
            "top": null,
            "grid_column": null,
            "overflow_y": null,
            "overflow_x": null,
            "grid_auto_flow": null,
            "grid_area": null,
            "grid_template_columns": null,
            "flex": null,
            "_model_name": "LayoutModel",
            "justify_items": null,
            "grid_row": null,
            "max_height": null,
            "align_content": null,
            "visibility": null,
            "align_self": null,
            "height": null,
            "min_height": null,
            "padding": null,
            "grid_auto_rows": null,
            "grid_gap": null,
            "max_width": null,
            "order": null,
            "_view_module_version": "1.2.0",
            "grid_template_areas": null,
            "object_position": null,
            "object_fit": null,
            "grid_auto_columns": null,
            "margin": null,
            "display": null,
            "left": null
          }
        },
        "f8804f49082e4513830d5f60ad11f269": {
          "model_module": "@jupyter-widgets/controls",
          "model_name": "FloatProgressModel",
          "state": {
            "_view_name": "ProgressView",
            "style": "IPY_MODEL_6a92a20556514554bc91188847303f05",
            "_dom_classes": [],
            "description": "  0%",
            "_model_name": "FloatProgressModel",
            "bar_style": "danger",
            "max": 1803,
            "_view_module": "@jupyter-widgets/controls",
            "_model_module_version": "1.5.0",
            "value": 0,
            "_view_count": null,
            "_view_module_version": "1.5.0",
            "orientation": "horizontal",
            "min": 0,
            "description_tooltip": null,
            "_model_module": "@jupyter-widgets/controls",
            "layout": "IPY_MODEL_af90355ef5ad4ddd971d782e9cc79aad"
          }
        },
        "55998e357ab443ef8724b57137177c1a": {
          "model_module": "@jupyter-widgets/controls",
          "model_name": "HTMLModel",
          "state": {
            "_view_name": "HTMLView",
            "style": "IPY_MODEL_5240f8150c74400fa0516d78c2880826",
            "_dom_classes": [],
            "description": "",
            "_model_name": "HTMLModel",
            "placeholder": "​",
            "_view_module": "@jupyter-widgets/controls",
            "_model_module_version": "1.5.0",
            "value": " 0/1803 [00:00&lt;?, ? examples/s]",
            "_view_count": null,
            "_view_module_version": "1.5.0",
            "description_tooltip": null,
            "_model_module": "@jupyter-widgets/controls",
            "layout": "IPY_MODEL_8420316ef1014303b5b8e43dcf539850"
          }
        },
        "6a92a20556514554bc91188847303f05": {
          "model_module": "@jupyter-widgets/controls",
          "model_name": "ProgressStyleModel",
          "state": {
            "_view_name": "StyleView",
            "_model_name": "ProgressStyleModel",
            "description_width": "initial",
            "_view_module": "@jupyter-widgets/base",
            "_model_module_version": "1.5.0",
            "_view_count": null,
            "_view_module_version": "1.2.0",
            "bar_color": null,
            "_model_module": "@jupyter-widgets/controls"
          }
        },
        "af90355ef5ad4ddd971d782e9cc79aad": {
          "model_module": "@jupyter-widgets/base",
          "model_name": "LayoutModel",
          "state": {
            "_view_name": "LayoutView",
            "grid_template_rows": null,
            "right": null,
            "justify_content": null,
            "_view_module": "@jupyter-widgets/base",
            "overflow": null,
            "_model_module_version": "1.2.0",
            "_view_count": null,
            "flex_flow": null,
            "width": null,
            "min_width": null,
            "border": null,
            "align_items": null,
            "bottom": null,
            "_model_module": "@jupyter-widgets/base",
            "top": null,
            "grid_column": null,
            "overflow_y": null,
            "overflow_x": null,
            "grid_auto_flow": null,
            "grid_area": null,
            "grid_template_columns": null,
            "flex": null,
            "_model_name": "LayoutModel",
            "justify_items": null,
            "grid_row": null,
            "max_height": null,
            "align_content": null,
            "visibility": null,
            "align_self": null,
            "height": null,
            "min_height": null,
            "padding": null,
            "grid_auto_rows": null,
            "grid_gap": null,
            "max_width": null,
            "order": null,
            "_view_module_version": "1.2.0",
            "grid_template_areas": null,
            "object_position": null,
            "object_fit": null,
            "grid_auto_columns": null,
            "margin": null,
            "display": null,
            "left": null
          }
        },
        "5240f8150c74400fa0516d78c2880826": {
          "model_module": "@jupyter-widgets/controls",
          "model_name": "DescriptionStyleModel",
          "state": {
            "_view_name": "StyleView",
            "_model_name": "DescriptionStyleModel",
            "description_width": "",
            "_view_module": "@jupyter-widgets/base",
            "_model_module_version": "1.5.0",
            "_view_count": null,
            "_view_module_version": "1.2.0",
            "_model_module": "@jupyter-widgets/controls"
          }
        },
        "8420316ef1014303b5b8e43dcf539850": {
          "model_module": "@jupyter-widgets/base",
          "model_name": "LayoutModel",
          "state": {
            "_view_name": "LayoutView",
            "grid_template_rows": null,
            "right": null,
            "justify_content": null,
            "_view_module": "@jupyter-widgets/base",
            "overflow": null,
            "_model_module_version": "1.2.0",
            "_view_count": null,
            "flex_flow": null,
            "width": null,
            "min_width": null,
            "border": null,
            "align_items": null,
            "bottom": null,
            "_model_module": "@jupyter-widgets/base",
            "top": null,
            "grid_column": null,
            "overflow_y": null,
            "overflow_x": null,
            "grid_auto_flow": null,
            "grid_area": null,
            "grid_template_columns": null,
            "flex": null,
            "_model_name": "LayoutModel",
            "justify_items": null,
            "grid_row": null,
            "max_height": null,
            "align_content": null,
            "visibility": null,
            "align_self": null,
            "height": null,
            "min_height": null,
            "padding": null,
            "grid_auto_rows": null,
            "grid_gap": null,
            "max_width": null,
            "order": null,
            "_view_module_version": "1.2.0",
            "grid_template_areas": null,
            "object_position": null,
            "object_fit": null,
            "grid_auto_columns": null,
            "margin": null,
            "display": null,
            "left": null
          }
        }
      }
    }
  },
  "cells": [
    {
      "cell_type": "markdown",
      "metadata": {
        "id": "view-in-github",
        "colab_type": "text"
      },
      "source": [
        "<a href=\"https://colab.research.google.com/github/kimwoonggon/publicservant_AI/blob/master/%EC%8B%AC%ED%99%943_GPT2_%EA%B5%AC%ED%98%84%ED%95%98%EA%B8%B0.ipynb\" target=\"_parent\"><img src=\"https://colab.research.google.com/assets/colab-badge.svg\" alt=\"Open In Colab\"/></a>"
      ]
    },
    {
      "cell_type": "markdown",
      "metadata": {
        "id": "Fujonmg8dcHl",
        "colab_type": "text"
      },
      "source": [
        "# GPT2\n",
        "오늘은 GPT2를 텐서플로우 2.0을 활용하여 직접 훈련시켜보고자 합니다.  \n",
        "순서는 <b>1)sentencepiece를 활용한 데이터 전처리 -> 2)임베딩 -> 3)멀티헤드어텐션 -> 4)피드 포워드 네트워크 -> 5)디코더 -> 6)아웃풋 -> 7)추론</b> 으로 구성됩니다."
      ]
    },
    {
      "cell_type": "markdown",
      "metadata": {
        "id": "gtX1MQHmgTfu",
        "colab_type": "text"
      },
      "source": [
        "## 개요\n",
        "GPT2를 레이어를 직접 처음부터 쌓아보고자 합니다.  \n",
        "\n",
        "\n",
        "트랜스포머에 사용했던 데이터인 <b>포르투갈어->영어</b> 데이터를 활용하여 GPT2를 직접 학습시킵니다.  \n",
        "이번 튜토리얼에서는 GPT2를 일반적인 데이터로 훈련시키기에는 너무 많은 시간이 소요되기 때문에 가벼운 데이터셋으로 하려고 해요.  \n",
        "GPT2는 트랜스포머만 잘 이해했으면 어려울 것이 없습니다.  \n",
        "인코더-디코더로 이루어진 트랜스포머와 다른 점은 단지 디코더로만 이루어졌을 뿐이기 때문입니다. 참고로 트랜스포머 모델 중 유명한 모델인 버트는 인코더로만 이루어져 있습니다.  \n",
        "포르투갈어를 영어로 바꾸는 문제를 예시로 들면, 기존 트랜스포머에서는 포르투갈어가 인코더로 들어가고, 인코딩된 결과가 디코더와 상호작용 하면서 영어로 아웃풋을 내는 번역을 했었습니다.   \n",
        "그리고 훈련 시킬 때에는 영어도 디코더 인풋에 들어갔었지요. \n",
        "![Imgur](https://i.imgur.com/mZRCi1o.png)  \n",
        "인코더 인풋 : os meus vizinhos ouviram sobre esta ideia.  \n",
        "디코더 인풋 : and my neighboring homes heard about this idea .  \n",
        "번역 결과 : and my neighboring homes heard about this idea .\n",
        "  \n",
        "하지만 **GPT2는 (포르투갈어, 구분자, 영어)가 한 문장에** 들어가게 됩니다.  \n",
        "예를 들면, 기존 트랜스포머에서는 os meus vizinhos ouviram sobre esta ideia. 라는 포르투갈어가  인코더로 들어가고, and my neighboring homes heard about this idea . 라는 영어가 디코더로 들어가서 서로 인코더와 디코더가 상호작용 해서 모델이 훈련이 되었습니다.  \n",
        "\n",
        "  \n",
        "그런데 GPT2에서는  \n",
        "**인풋: os meus vizinhos ouviram sobre esta ideia.<구분자>and my neighboring homes heard about this idea .  <끝맺음>**\n",
        "두 문장이 한번에 들어가게 됩니다.  왜냐하면 인코더가 없으니 디코더에 모든 정보를 넣어 주어야 하기 때문입니다.  \n",
        "훈련은 앞단어를 활용해서 뒷단어를 예측하는 문제로 아주 간단합니다.  \n",
        "![Imgur](https://i.imgur.com/RKl4lUt.png)  \n",
        "인풋은 앞단어로 뒷단어를 추론하는 방식을 취합니다.  \n",
        "\n",
        "\n",
        "인풋 : os meus vizinhos ouviram sobre esta ideia.<구분자>and my neighboring homes heard about this idea .   \n",
        "\n",
        "아웃풋 : meus vizinhos ouviram sobre esta ideia.<구분자>and my neighboring homes heard about this idea . <끝맺음>  \n"
      ]
    },
    {
      "cell_type": "markdown",
      "metadata": {
        "id": "qLu25UCj7gvW",
        "colab_type": "text"
      },
      "source": [
        "# 데이터 전처리\n",
        "텐서플로우에서 제공하는 포르투갈어를 영어로 번역하는 데이터를 불러옵니다.  \n",
        "sentencepiece로 단어에 인덱스를 부여하는 기능을 만들 것이고, 데이터를 텐서플로우 dataset으로 만들어 줄 것입니다.  "
      ]
    },
    {
      "cell_type": "code",
      "metadata": {
        "id": "TSKhv8knQT7s",
        "colab_type": "code",
        "outputId": "ea9035aa-a9cf-4d1e-956b-eb8d939039dc",
        "colab": {
          "base_uri": "https://localhost:8080/",
          "height": 70
        }
      },
      "source": [
        "# 포르투갈어 -> 영어 데이터 가져오기\n",
        "!pip install -q tf-nightly\n",
        "import tensorflow_datasets as tfds"
      ],
      "execution_count": 1,
      "outputs": [
        {
          "output_type": "stream",
          "text": [
            "\u001b[K     |████████████████████████████████| 525.1MB 25kB/s \n",
            "\u001b[K     |████████████████████████████████| 2.9MB 39.8MB/s \n",
            "\u001b[K     |████████████████████████████████| 460kB 10.1MB/s \n",
            "\u001b[?25h"
          ],
          "name": "stdout"
        }
      ]
    },
    {
      "cell_type": "code",
      "metadata": {
        "id": "sHdHB5pH-nZJ",
        "colab_type": "code",
        "colab": {}
      },
      "source": [
        "import tensorflow as tf\n",
        "import numpy as np\n",
        "import math"
      ],
      "execution_count": 0,
      "outputs": []
    },
    {
      "cell_type": "code",
      "metadata": {
        "id": "uRS1opPCRIp1",
        "colab_type": "code",
        "outputId": "249517ea-9e20-4cd9-a984-898d10d262a5",
        "colab": {
          "base_uri": "https://localhost:8080/",
          "height": 422,
          "referenced_widgets": [
            "c37797e63566461887d99095c5191d48",
            "e2e641582d6b48feae32181cf1b88416",
            "9523ed77fadd4dfa8fd3e711d4e01715",
            "2114a9acb4e64921982c05d18c1dda14",
            "5d25f43c157f4e6f91ca49c1a67babe2",
            "e21c46a1ddd04cffb4d122a709998396",
            "12f6f83093954a36bb9c62350a77715f",
            "4b025f4752354adfb532e2f89df2524c",
            "bb57f094cd0b437582525c090c304e6d",
            "836e834393e24ac5806a44205a083549",
            "1b9077d3a68b43159aea6d96b8d26485",
            "043f44b6598f49af9068001c05552723",
            "f47a2e8f7ec24eb18695272fa2a1a151",
            "4c821bab2a3c4157b12d4a9042115c74",
            "4abf8b136de44ea192c9db109099aa12",
            "801b0f7aa0ec48308383e46aef87f774",
            "210139daf4ef49469e6a618b26d89d8e",
            "8272010e035347aaa26eab3566cb474e",
            "9ba7c032ab61440eb7c09324b90eabaf",
            "1688810eac1f4e25b2fd9d172b2466ca",
            "49cd57608ec94bdc9134b15b5797acba",
            "91a5f3fdbd784bdf9d44a2d3b540405e",
            "9fca0781e9ae49f08d86266519aae5dc",
            "e4e38f188f88416089c2c357af6a0fcb",
            "e70146c14ef241bb9474c04ee5fde26d",
            "e54b1e8d128b48258dfe3121dfb8a992",
            "c6c0f409dace4fe4b51f60ce55ecf98a",
            "557575b8508345f5bb9a1908d599ed1e",
            "53e3d5481a7a4288bbf384c63ce47321",
            "e825e1ded9a0453a98df0d60ede6e4fa",
            "0ba82adf82fd49e9be0ef2f55ade1051",
            "0e2e8591b9b34e1a965236591602cd99",
            "b01321092359457ca0e0db920ec18799",
            "3338139a2f844d3a9d9f65df2164c0d1",
            "f3101dcbc12a464a8b7229e97cf5485c",
            "37f8165faecf4b24a4e91ff7089b695d",
            "70699cb187324e1498ad12e138a4b34f",
            "76b78ef4ff7b49948b07fe66d42f14b1",
            "26dac39cccc445b8ba3cae6957416d11",
            "c161d73db3584da38dd170b69d861313",
            "776d12bfa9ce4d6382a0f5f5aa5a3577",
            "b6289f7ae3d74d6ca8eca79c4cf57566",
            "21c8a328485b4b468c043a13e1dceed4",
            "ec16a4cdd2e644f1bcef14fb4be74e65",
            "533a3d2f86bb41aa967c558c91e7b1bc",
            "07b7c327f7d7494caaf05d1f4b15ee4b",
            "2abf75e343fa4c3d9fc623a463950333",
            "7946bdb328fb46fa8335a17ccaf6f2c6",
            "afe8711d48024490a9cfb12478eca383",
            "6448e656f6794e80962f2ec56ae40b7d",
            "9c7f3c41b75c4122a974164016ae6558",
            "f846550ddc3242a895a7029098642d7b",
            "63b3bbfd8b044b7b8aea5b772a104622",
            "f1cac2073451439a801a9f4716101874",
            "3929f070f4ea4eebb74c9a6d8585b72c",
            "f4b5c9e928cd4cbdafd657eaec89a810",
            "d8a44f324c6540089c0874c1f038ce91",
            "a55780dcf57e4e498d07a6f22a491d09",
            "002de47067394acfbe21b3023b18bc84",
            "56f2e80ecfdc4ac3801851f21cd38a53",
            "ceff8c3edb374216aeb2025ad5dbe671",
            "9b05d46d15e94251ac4cd87c37d97dd4",
            "51aaf06b7d98406d8f56741abcae36dc",
            "471ae9f57ebe4cdd9e6fb4e08553fd27",
            "c57b28cb0a794cb4bb08c61bbb0fb2bb",
            "97c445ad82364b33ad13bc3891010bb2",
            "f8804f49082e4513830d5f60ad11f269",
            "55998e357ab443ef8724b57137177c1a",
            "6a92a20556514554bc91188847303f05",
            "af90355ef5ad4ddd971d782e9cc79aad",
            "5240f8150c74400fa0516d78c2880826",
            "8420316ef1014303b5b8e43dcf539850"
          ]
        }
      },
      "source": [
        "# 포르투갈어 -> 영어 데이터 불러오기\n",
        "\n",
        "examples, metadata = tfds.load('ted_hrlr_translate/pt_to_en', with_info=True,\n",
        "                               as_supervised=True)"
      ],
      "execution_count": 3,
      "outputs": [
        {
          "output_type": "stream",
          "text": [
            "\u001b[1mDownloading and preparing dataset ted_hrlr_translate/pt_to_en/1.0.0 (download: 124.94 MiB, generated: Unknown size, total: 124.94 MiB) to /root/tensorflow_datasets/ted_hrlr_translate/pt_to_en/1.0.0...\u001b[0m\n"
          ],
          "name": "stdout"
        },
        {
          "output_type": "display_data",
          "data": {
            "application/vnd.jupyter.widget-view+json": {
              "model_id": "c37797e63566461887d99095c5191d48",
              "version_minor": 0,
              "version_major": 2
            },
            "text/plain": [
              "HBox(children=(FloatProgress(value=1.0, bar_style='info', description='Dl Completed...', max=1.0, style=Progre…"
            ]
          },
          "metadata": {
            "tags": []
          }
        },
        {
          "output_type": "display_data",
          "data": {
            "application/vnd.jupyter.widget-view+json": {
              "model_id": "bb57f094cd0b437582525c090c304e6d",
              "version_minor": 0,
              "version_major": 2
            },
            "text/plain": [
              "HBox(children=(FloatProgress(value=1.0, bar_style='info', description='Dl Size...', max=1.0, style=ProgressSty…"
            ]
          },
          "metadata": {
            "tags": []
          }
        },
        {
          "output_type": "display_data",
          "data": {
            "application/vnd.jupyter.widget-view+json": {
              "model_id": "210139daf4ef49469e6a618b26d89d8e",
              "version_minor": 0,
              "version_major": 2
            },
            "text/plain": [
              "HBox(children=(FloatProgress(value=1.0, bar_style='info', description='Extraction completed...', max=1.0, styl…"
            ]
          },
          "metadata": {
            "tags": []
          }
        },
        {
          "output_type": "stream",
          "text": [
            "\n",
            "\n",
            "\n",
            "\n",
            "\n",
            "\n"
          ],
          "name": "stdout"
        },
        {
          "output_type": "display_data",
          "data": {
            "application/vnd.jupyter.widget-view+json": {
              "model_id": "e70146c14ef241bb9474c04ee5fde26d",
              "version_minor": 0,
              "version_major": 2
            },
            "text/plain": [
              "HBox(children=(FloatProgress(value=1.0, bar_style='info', max=1.0), HTML(value='')))"
            ]
          },
          "metadata": {
            "tags": []
          }
        },
        {
          "output_type": "stream",
          "text": [
            "\rShuffling and writing examples to /root/tensorflow_datasets/ted_hrlr_translate/pt_to_en/1.0.0.incompleteBQBHEJ/ted_hrlr_translate-train.tfrecord\n"
          ],
          "name": "stdout"
        },
        {
          "output_type": "display_data",
          "data": {
            "application/vnd.jupyter.widget-view+json": {
              "model_id": "b01321092359457ca0e0db920ec18799",
              "version_minor": 0,
              "version_major": 2
            },
            "text/plain": [
              "HBox(children=(FloatProgress(value=0.0, max=51785.0), HTML(value='')))"
            ]
          },
          "metadata": {
            "tags": []
          }
        },
        {
          "output_type": "display_data",
          "data": {
            "application/vnd.jupyter.widget-view+json": {
              "model_id": "776d12bfa9ce4d6382a0f5f5aa5a3577",
              "version_minor": 0,
              "version_major": 2
            },
            "text/plain": [
              "HBox(children=(FloatProgress(value=1.0, bar_style='info', max=1.0), HTML(value='')))"
            ]
          },
          "metadata": {
            "tags": []
          }
        },
        {
          "output_type": "stream",
          "text": [
            "Shuffling and writing examples to /root/tensorflow_datasets/ted_hrlr_translate/pt_to_en/1.0.0.incompleteBQBHEJ/ted_hrlr_translate-validation.tfrecord\n"
          ],
          "name": "stdout"
        },
        {
          "output_type": "display_data",
          "data": {
            "application/vnd.jupyter.widget-view+json": {
              "model_id": "afe8711d48024490a9cfb12478eca383",
              "version_minor": 0,
              "version_major": 2
            },
            "text/plain": [
              "HBox(children=(FloatProgress(value=0.0, max=1193.0), HTML(value='')))"
            ]
          },
          "metadata": {
            "tags": []
          }
        },
        {
          "output_type": "display_data",
          "data": {
            "application/vnd.jupyter.widget-view+json": {
              "model_id": "d8a44f324c6540089c0874c1f038ce91",
              "version_minor": 0,
              "version_major": 2
            },
            "text/plain": [
              "HBox(children=(FloatProgress(value=1.0, bar_style='info', max=1.0), HTML(value='')))"
            ]
          },
          "metadata": {
            "tags": []
          }
        },
        {
          "output_type": "stream",
          "text": [
            "Shuffling and writing examples to /root/tensorflow_datasets/ted_hrlr_translate/pt_to_en/1.0.0.incompleteBQBHEJ/ted_hrlr_translate-test.tfrecord\n",
            "\r"
          ],
          "name": "stdout"
        },
        {
          "output_type": "display_data",
          "data": {
            "application/vnd.jupyter.widget-view+json": {
              "model_id": "c57b28cb0a794cb4bb08c61bbb0fb2bb",
              "version_minor": 0,
              "version_major": 2
            },
            "text/plain": [
              "HBox(children=(FloatProgress(value=0.0, max=1803.0), HTML(value='')))"
            ]
          },
          "metadata": {
            "tags": []
          }
        },
        {
          "output_type": "stream",
          "text": [
            "\u001b[1mDataset ted_hrlr_translate downloaded and prepared to /root/tensorflow_datasets/ted_hrlr_translate/pt_to_en/1.0.0. Subsequent calls will reuse this data.\u001b[0m\n"
          ],
          "name": "stdout"
        }
      ]
    },
    {
      "cell_type": "code",
      "metadata": {
        "id": "pBVGtZ9zQbwF",
        "colab_type": "code",
        "colab": {}
      },
      "source": [
        "train_examples, val_examples, test_examples = examples['train'], examples['validation'], examples['test']"
      ],
      "execution_count": 0,
      "outputs": []
    },
    {
      "cell_type": "code",
      "metadata": {
        "id": "EyloOERbRKii",
        "colab_type": "code",
        "outputId": "baedb6f2-5cca-48dc-e4b5-a1e97bd88a60",
        "colab": {
          "base_uri": "https://localhost:8080/",
          "height": 70
        }
      },
      "source": [
        "# tensorflow dataset iterator로 되어 있다\n",
        "examples"
      ],
      "execution_count": 5,
      "outputs": [
        {
          "output_type": "execute_result",
          "data": {
            "text/plain": [
              "{'test': <DatasetV1Adapter shapes: ((), ()), types: (tf.string, tf.string)>,\n",
              " 'train': <DatasetV1Adapter shapes: ((), ()), types: (tf.string, tf.string)>,\n",
              " 'validation': <DatasetV1Adapter shapes: ((), ()), types: (tf.string, tf.string)>}"
            ]
          },
          "metadata": {
            "tags": []
          },
          "execution_count": 5
        }
      ]
    },
    {
      "cell_type": "code",
      "metadata": {
        "id": "G3KhbAuFRMQX",
        "colab_type": "code",
        "colab": {}
      },
      "source": [
        "train_examples, val_examples, test_examples = examples['train'], examples['validation'], examples['test']"
      ],
      "execution_count": 0,
      "outputs": []
    },
    {
      "cell_type": "markdown",
      "metadata": {
        "id": "Eo-rXgpMuDvM",
        "colab_type": "text"
      },
      "source": [
        "sentencepiece를 활용하여 토큰 처리를 해주기 위해 리스트로 바꿔 준다. 이후 txt 파일로 만들 것이다."
      ]
    },
    {
      "cell_type": "code",
      "metadata": {
        "id": "JTq8timHRuAs",
        "colab_type": "code",
        "colab": {}
      },
      "source": [
        "# pt : 포르투갈어\n",
        "# eng : 영어\n",
        "# pt_val : 포르투갈어(검증 데이터 셋)\n",
        "# eng_val : 영어(검증 데이터 셋)\n",
        "pt = [x.numpy().decode() for x,y in train_examples]\n",
        "eng = [y.numpy().decode() for x,y in train_examples]\n",
        "pt_val = [x.numpy().decode() for x,y in val_examples]\n",
        "eng_val = [y.numpy().decode() for x,y in val_examples]"
      ],
      "execution_count": 0,
      "outputs": []
    },
    {
      "cell_type": "code",
      "metadata": {
        "id": "_qEPgcZPYHlP",
        "colab_type": "code",
        "colab": {}
      },
      "source": [
        "# 데이터들을 txt 파일로 변경해준다\n",
        "train_data = pt + eng + pt_val + eng_val\n",
        "f = open(\"train.txt\", 'w')\n",
        "for i in range(len(train_data)):\n",
        "  data =train_data[i] + \"\\n\"\n",
        "  f.write(data)\n",
        "f.close()"
      ],
      "execution_count": 0,
      "outputs": []
    },
    {
      "cell_type": "code",
      "metadata": {
        "id": "caeSMS7Ru95i",
        "colab_type": "code",
        "outputId": "9e35941c-4e6c-4d18-cb9b-10060a519a69",
        "colab": {
          "base_uri": "https://localhost:8080/",
          "height": 125
        }
      },
      "source": [
        "!pip install sentencepiece"
      ],
      "execution_count": 9,
      "outputs": [
        {
          "output_type": "stream",
          "text": [
            "Collecting sentencepiece\n",
            "\u001b[?25l  Downloading https://files.pythonhosted.org/packages/d4/a4/d0a884c4300004a78cca907a6ff9a5e9fe4f090f5d95ab341c53d28cbc58/sentencepiece-0.1.91-cp36-cp36m-manylinux1_x86_64.whl (1.1MB)\n",
            "\r\u001b[K     |▎                               | 10kB 22.5MB/s eta 0:00:01\r\u001b[K     |▋                               | 20kB 1.7MB/s eta 0:00:01\r\u001b[K     |█                               | 30kB 2.6MB/s eta 0:00:01\r\u001b[K     |█▏                              | 40kB 3.4MB/s eta 0:00:01\r\u001b[K     |█▌                              | 51kB 2.1MB/s eta 0:00:01\r\u001b[K     |█▉                              | 61kB 2.5MB/s eta 0:00:01\r\u001b[K     |██▏                             | 71kB 2.9MB/s eta 0:00:01\r\u001b[K     |██▍                             | 81kB 3.3MB/s eta 0:00:01\r\u001b[K     |██▊                             | 92kB 2.5MB/s eta 0:00:01\r\u001b[K     |███                             | 102kB 2.8MB/s eta 0:00:01\r\u001b[K     |███▍                            | 112kB 2.8MB/s eta 0:00:01\r\u001b[K     |███▋                            | 122kB 2.8MB/s eta 0:00:01\r\u001b[K     |████                            | 133kB 2.8MB/s eta 0:00:01\r\u001b[K     |████▎                           | 143kB 2.8MB/s eta 0:00:01\r\u001b[K     |████▋                           | 153kB 2.8MB/s eta 0:00:01\r\u001b[K     |████▉                           | 163kB 2.8MB/s eta 0:00:01\r\u001b[K     |█████▏                          | 174kB 2.8MB/s eta 0:00:01\r\u001b[K     |█████▌                          | 184kB 2.8MB/s eta 0:00:01\r\u001b[K     |█████▉                          | 194kB 2.8MB/s eta 0:00:01\r\u001b[K     |██████                          | 204kB 2.8MB/s eta 0:00:01\r\u001b[K     |██████▍                         | 215kB 2.8MB/s eta 0:00:01\r\u001b[K     |██████▊                         | 225kB 2.8MB/s eta 0:00:01\r\u001b[K     |███████                         | 235kB 2.8MB/s eta 0:00:01\r\u001b[K     |███████▎                        | 245kB 2.8MB/s eta 0:00:01\r\u001b[K     |███████▋                        | 256kB 2.8MB/s eta 0:00:01\r\u001b[K     |████████                        | 266kB 2.8MB/s eta 0:00:01\r\u001b[K     |████████▎                       | 276kB 2.8MB/s eta 0:00:01\r\u001b[K     |████████▌                       | 286kB 2.8MB/s eta 0:00:01\r\u001b[K     |████████▉                       | 296kB 2.8MB/s eta 0:00:01\r\u001b[K     |█████████▏                      | 307kB 2.8MB/s eta 0:00:01\r\u001b[K     |█████████▌                      | 317kB 2.8MB/s eta 0:00:01\r\u001b[K     |█████████▊                      | 327kB 2.8MB/s eta 0:00:01\r\u001b[K     |██████████                      | 337kB 2.8MB/s eta 0:00:01\r\u001b[K     |██████████▍                     | 348kB 2.8MB/s eta 0:00:01\r\u001b[K     |██████████▊                     | 358kB 2.8MB/s eta 0:00:01\r\u001b[K     |███████████                     | 368kB 2.8MB/s eta 0:00:01\r\u001b[K     |███████████▎                    | 378kB 2.8MB/s eta 0:00:01\r\u001b[K     |███████████▋                    | 389kB 2.8MB/s eta 0:00:01\r\u001b[K     |████████████                    | 399kB 2.8MB/s eta 0:00:01\r\u001b[K     |████████████▏                   | 409kB 2.8MB/s eta 0:00:01\r\u001b[K     |████████████▌                   | 419kB 2.8MB/s eta 0:00:01\r\u001b[K     |████████████▉                   | 430kB 2.8MB/s eta 0:00:01\r\u001b[K     |█████████████▏                  | 440kB 2.8MB/s eta 0:00:01\r\u001b[K     |█████████████▍                  | 450kB 2.8MB/s eta 0:00:01\r\u001b[K     |█████████████▊                  | 460kB 2.8MB/s eta 0:00:01\r\u001b[K     |██████████████                  | 471kB 2.8MB/s eta 0:00:01\r\u001b[K     |██████████████▍                 | 481kB 2.8MB/s eta 0:00:01\r\u001b[K     |██████████████▋                 | 491kB 2.8MB/s eta 0:00:01\r\u001b[K     |███████████████                 | 501kB 2.8MB/s eta 0:00:01\r\u001b[K     |███████████████▎                | 512kB 2.8MB/s eta 0:00:01\r\u001b[K     |███████████████▋                | 522kB 2.8MB/s eta 0:00:01\r\u001b[K     |███████████████▉                | 532kB 2.8MB/s eta 0:00:01\r\u001b[K     |████████████████▏               | 542kB 2.8MB/s eta 0:00:01\r\u001b[K     |████████████████▌               | 552kB 2.8MB/s eta 0:00:01\r\u001b[K     |████████████████▉               | 563kB 2.8MB/s eta 0:00:01\r\u001b[K     |█████████████████               | 573kB 2.8MB/s eta 0:00:01\r\u001b[K     |█████████████████▍              | 583kB 2.8MB/s eta 0:00:01\r\u001b[K     |█████████████████▊              | 593kB 2.8MB/s eta 0:00:01\r\u001b[K     |██████████████████              | 604kB 2.8MB/s eta 0:00:01\r\u001b[K     |██████████████████▎             | 614kB 2.8MB/s eta 0:00:01\r\u001b[K     |██████████████████▋             | 624kB 2.8MB/s eta 0:00:01\r\u001b[K     |███████████████████             | 634kB 2.8MB/s eta 0:00:01\r\u001b[K     |███████████████████▎            | 645kB 2.8MB/s eta 0:00:01\r\u001b[K     |███████████████████▌            | 655kB 2.8MB/s eta 0:00:01\r\u001b[K     |███████████████████▉            | 665kB 2.8MB/s eta 0:00:01\r\u001b[K     |████████████████████▏           | 675kB 2.8MB/s eta 0:00:01\r\u001b[K     |████████████████████▌           | 686kB 2.8MB/s eta 0:00:01\r\u001b[K     |████████████████████▊           | 696kB 2.8MB/s eta 0:00:01\r\u001b[K     |█████████████████████           | 706kB 2.8MB/s eta 0:00:01\r\u001b[K     |█████████████████████▍          | 716kB 2.8MB/s eta 0:00:01\r\u001b[K     |█████████████████████▋          | 727kB 2.8MB/s eta 0:00:01\r\u001b[K     |██████████████████████          | 737kB 2.8MB/s eta 0:00:01\r\u001b[K     |██████████████████████▎         | 747kB 2.8MB/s eta 0:00:01\r\u001b[K     |██████████████████████▋         | 757kB 2.8MB/s eta 0:00:01\r\u001b[K     |██████████████████████▉         | 768kB 2.8MB/s eta 0:00:01\r\u001b[K     |███████████████████████▏        | 778kB 2.8MB/s eta 0:00:01\r\u001b[K     |███████████████████████▌        | 788kB 2.8MB/s eta 0:00:01\r\u001b[K     |███████████████████████▉        | 798kB 2.8MB/s eta 0:00:01\r\u001b[K     |████████████████████████        | 808kB 2.8MB/s eta 0:00:01\r\u001b[K     |████████████████████████▍       | 819kB 2.8MB/s eta 0:00:01\r\u001b[K     |████████████████████████▊       | 829kB 2.8MB/s eta 0:00:01\r\u001b[K     |█████████████████████████       | 839kB 2.8MB/s eta 0:00:01\r\u001b[K     |█████████████████████████▎      | 849kB 2.8MB/s eta 0:00:01\r\u001b[K     |█████████████████████████▋      | 860kB 2.8MB/s eta 0:00:01\r\u001b[K     |██████████████████████████      | 870kB 2.8MB/s eta 0:00:01\r\u001b[K     |██████████████████████████▎     | 880kB 2.8MB/s eta 0:00:01\r\u001b[K     |██████████████████████████▌     | 890kB 2.8MB/s eta 0:00:01\r\u001b[K     |██████████████████████████▉     | 901kB 2.8MB/s eta 0:00:01\r\u001b[K     |███████████████████████████▏    | 911kB 2.8MB/s eta 0:00:01\r\u001b[K     |███████████████████████████▌    | 921kB 2.8MB/s eta 0:00:01\r\u001b[K     |███████████████████████████▊    | 931kB 2.8MB/s eta 0:00:01\r\u001b[K     |████████████████████████████    | 942kB 2.8MB/s eta 0:00:01\r\u001b[K     |████████████████████████████▍   | 952kB 2.8MB/s eta 0:00:01\r\u001b[K     |████████████████████████████▊   | 962kB 2.8MB/s eta 0:00:01\r\u001b[K     |█████████████████████████████   | 972kB 2.8MB/s eta 0:00:01\r\u001b[K     |█████████████████████████████▎  | 983kB 2.8MB/s eta 0:00:01\r\u001b[K     |█████████████████████████████▋  | 993kB 2.8MB/s eta 0:00:01\r\u001b[K     |██████████████████████████████  | 1.0MB 2.8MB/s eta 0:00:01\r\u001b[K     |██████████████████████████████▏ | 1.0MB 2.8MB/s eta 0:00:01\r\u001b[K     |██████████████████████████████▌ | 1.0MB 2.8MB/s eta 0:00:01\r\u001b[K     |██████████████████████████████▉ | 1.0MB 2.8MB/s eta 0:00:01\r\u001b[K     |███████████████████████████████▏| 1.0MB 2.8MB/s eta 0:00:01\r\u001b[K     |███████████████████████████████▍| 1.1MB 2.8MB/s eta 0:00:01\r\u001b[K     |███████████████████████████████▊| 1.1MB 2.8MB/s eta 0:00:01\r\u001b[K     |████████████████████████████████| 1.1MB 2.8MB/s \n",
            "\u001b[?25hInstalling collected packages: sentencepiece\n",
            "Successfully installed sentencepiece-0.1.91\n"
          ],
          "name": "stdout"
        }
      ]
    },
    {
      "cell_type": "code",
      "metadata": {
        "id": "YhrJlBdPR5uZ",
        "colab_type": "code",
        "outputId": "30608a7f-9d06-4636-fdb9-51303ceec766",
        "colab": {
          "base_uri": "https://localhost:8080/",
          "height": 52
        }
      },
      "source": [
        "# sentencepiece를 활용하기\n",
        "templates = '--input={} --pad_id={} --bos_id={} --eos_id={} --unk_id={} --model_prefix={} --vocab_size={} --character_coverage={} --model_type={}'\n",
        "\n",
        "\n",
        "train_input_file = 'train.txt' # train.txt에서 문장 불러 오기\n",
        "pad_id = 0\n",
        "vocab_size = 40000 # 최대 단어 수는 40000으로 한다\n",
        "prefix = \"gpt2_spm\" # sentencepiece가 gpt2_spm.model gpt2_spm.vocab으로 저장된다.\n",
        "unk_id = 1 # 모르는 단어 [UNK]의 인덱스\n",
        "bos_id = 2 # Beginning of sentence, 문장의 시작을 알려주는 인덱스\n",
        "eos_id = 3 # End of sentecnce, 문장의 끝을 알려주는 인덱스\n",
        "character_coverage = 1.0 # 한국어는 0.9정도가 좋음.(단어 하나가 함의하는게 클수록 작게 준다)\n",
        "model_type = 'bpe' # 토크나이징에 bpe 기법을 사용 예정\n",
        "\n",
        "cmd = templates.format(train_input_file,\n",
        "                       pad_id,\n",
        "                       bos_id,\n",
        "                       eos_id,\n",
        "                       unk_id,\n",
        "                       prefix,\n",
        "                       vocab_size,\n",
        "                       character_coverage,\n",
        "                       model_type)\n",
        "print(cmd)\n",
        "import sentencepiece as spm\n",
        "\n",
        "spm.SentencePieceTrainer.Train(cmd) # sentencepiece 모델을 훈련시킨다\n",
        "\n",
        "sp = spm.SentencePieceProcessor()\n",
        "sp.Load(\"gpt2_spm.model\") # 훈련한 모델을 불러온다\n",
        "\n"
      ],
      "execution_count": 10,
      "outputs": [
        {
          "output_type": "stream",
          "text": [
            "--input=train.txt --pad_id=0 --bos_id=2 --eos_id=3 --unk_id=1 --model_prefix=gpt2_spm --vocab_size=40000 --character_coverage=1.0 --model_type=bpe\n"
          ],
          "name": "stdout"
        },
        {
          "output_type": "execute_result",
          "data": {
            "text/plain": [
              "True"
            ]
          },
          "metadata": {
            "tags": []
          },
          "execution_count": 10
        }
      ]
    },
    {
      "cell_type": "code",
      "metadata": {
        "id": "aYvUPRniaPhw",
        "colab_type": "code",
        "colab": {}
      },
      "source": [
        "# vocab 파일을 불러와서 단어 사전을 만든다\n",
        "with open(\"gpt2_spm.vocab\", encoding='utf-8') as f:\n",
        "  Vo = [doc.strip().split(\"\\t\") for doc in f]\n",
        "word2idx = {w[0] : i for i, w in enumerate(Vo)}"
      ],
      "execution_count": 0,
      "outputs": []
    },
    {
      "cell_type": "code",
      "metadata": {
        "id": "HJjANwHMakqj",
        "colab_type": "code",
        "outputId": "39064143-aeca-4d39-b198-45a4091d6007",
        "colab": {
          "base_uri": "https://localhost:8080/",
          "height": 54
        }
      },
      "source": [
        "print(word2idx)"
      ],
      "execution_count": 12,
      "outputs": [
        {
          "output_type": "stream",
          "text": [
            "{'<pad>': 0, '<unk>': 1, '<s>': 2, '</s>': 3, '▁a': 4, '▁t': 5, '▁,': 6, '▁.': 7, '▁e': 8, '▁d': 9, 'er': 10, '▁i': 11, '▁s': 12, '▁th': 13, '▁p': 14, '▁c': 15, '▁o': 16, '▁m': 17, 'es': 18, 'os': 19, 'en': 20, 'ar': 21, 'as': 22, '▁n': 23, '▁w': 24, 'in': 25, 'or': 26, 'qu': 27, 'an': 28, '▁f': 29, 're': 30, 'at': 31, '▁the': 32, 'is': 33, 'on': 34, \"▁'\": 35, '▁b': 36, 'ou': 37, 'al': 38, '▁de': 39, '▁qu': 40, 'om': 41, '▁h': 42, 'nd': 43, '▁u': 44, 'em': 45, 'it': 46, '▁l': 47, 'am': 48, 'ent': 49, 'st': 50, 'ad': 51, '▁to': 52, 'ic': 53, 'ão': 54, '▁in': 55, '▁que': 56, 'ing': 57, '▁and': 58, '▁v': 59, \"▁''\": 60, 'ed': 61, '▁g': 62, 'el': 63, '▁of': 64, '▁com': 65, 'ro': 66, 'id': 67, '▁um': 68, 'ra': 69, 'ri': 70, 'le': 71, '▁y': 72, 'ut': 73, '▁that': 74, '▁re': 75, '▁do': 76, 'ec': 77, '▁est': 78, 'il': 79, '▁is': 80, '▁no': 81, 've': 82, 'et': 83, '▁it': 84, '▁`': 85, '▁``': 86, '▁par': 87, 'ol': 88, '▁é': 89, '▁you': 90, '▁wh': 91, 'ia': 92, 'im': 93, 'ion': 94, '▁we': 95, '▁se': 96, 'se': 97, '▁as': 98, '▁al': 99, '▁con': 100, 'ir': 101, 'so': 102, '▁so': 103, 'ac': 104, 'ur': 105, 'ant': 106, 'od': 107, 'ly': 108, '▁mu': 109, 'ig': 110, '▁for': 111, '▁an': 112, 'ver': 113, '▁en': 114, '▁em': 115, 'ere': 116, '▁on': 117, '▁para': 118, '▁uma': 119, '▁ma': 120, '▁?': 121, '▁r': 122, 'ente': 123, '▁this': 124, 'um': 125, '▁não': 126, 'est': 127, 'ul': 128, 'ter': 129, '▁pro': 130, '▁por': 131, 'ist': 132, 'and': 133, '▁ex': 134, 'ow': 135, '▁be': 136, '▁st': 137, '▁da': 138, '▁j': 139, 'un': 140, '▁ha': 141, '▁ac': 142, 'ção': 143, '▁me': 144, '▁os': 145, 'iv': 146, '▁es': 147, 'ot': 148, '▁at': 149, '▁ch': 150, 'if': 151, 'ess': 152, '▁ap': 153, 'ld': 154, 'ade': 155, 'ce': 156, 'iz': 157, 'ke': 158, '▁:': 159, 'au': 160, 'ay': 161, '▁ab': 162, '▁was': 163, 'emos': 164, 'ab': 165, 'ci': 166, 'op': 167, 'amos': 168, '▁they': 169, '▁su': 170, '▁per': 171, 'ag': 172, '▁are': 173, '▁mas': 174, 'her': 175, 'ado': 176, '▁pod': 177, '▁ver': 178, 'ith': 179, '▁but': 180, '▁k': 181, '▁como': 182, '▁ne': 183, 'av': 184, '▁im': 185, '▁nos': 186, 'to': 187, '▁go': 188, '▁with': 189, '▁what': 190, '▁na': 191, '▁—': 192, 'pl': 193, '▁have': 194, 'az': 195, 'oc': 196, '▁can': 197, 'gh': 198, 'ito': 199, 'ally': 200, '▁eu': 201, '▁)': 202, '▁(': 203, '▁tr': 204, 'ch': 205, '▁des': 206, 'out': 207, '▁out': 208, 'ica': 209, '▁mais': 210, 'ation': 211, 'ens': 212, '▁not': 213, 'inh': 214, '▁pe': 215, 'gu': 216, 'ort': 217, 'end': 218, 'ei': 219, '▁tod': 220, 'us': 221, 'ust': 222, 'ud': 223, '▁sh': 224, '▁ser': 225, 'ear': 226, '▁li': 227, 'ost': 228, 'ould': 229, '▁us': 230, '▁fr': 231, '▁comp': 232, '▁my': 233, '▁som': 234, '▁ent': 235, '▁wor': 236, 'ada': 237, '▁1': 238, 'ões': 239, 'ação': 240, '▁faz': 241, 'esso': 242, 'ind': 243, '▁there': 244, '▁ar': 245, 'per': 246, '▁about': 247, 'po': 248, '▁pr': 249, '▁all': 250, 'og': 251, '▁ag': 252, '▁el': 253, '▁or': 254, 'ect': 255, 'ill': 256, 'ont': 257, '▁co': 258, 'ando': 259, 'idade': 260, '▁he': 261, 'tu': 262, '▁ter': 263, '▁cont': 264, 'ore': 265, 'mos': 266, '▁pre': 267, 'de': 268, '▁am': 269, 'ell': 270, 'ap': 271, 'vel': 272, '▁pesso': 273, 'ause': 274, '▁dis': 275, '▁muito': 276, '▁one': 277, 'que': 278, '▁un': 279, 'ho': 280, '▁ou': 281, '▁isso': 282, 'ento': 283, '▁part': 284, '▁our': 285, '▁res': 286, 'amente': 287, 'ity': 288, 'sto': 289, '▁peop': 290, '▁people': 291, '▁le': 292, 'orm': 293, 'ok': 294, '▁tem': 295, 'mente': 296, '▁dif': 297, '▁são': 298, '▁isto': 299, '▁bec': 300, 'ate': 301, 'ive': 302, '▁like': 303, '▁car': 304, 'cia': 305, '▁if': 306, '▁inter': 307, '▁gr': 308, 'ct': 309, '▁from': 310, 'inha': 311, '▁now': 312, 'ados': 313, 'co': 314, '▁à': 315, '▁alg': 316, 'bl': 317, 'ast': 318, 'ém': 319, '▁just': 320, 'all': 321, 'sa': 322, '▁pl': 323, 'ese': 324, '▁fo': 325, '▁ele': 326, 'igh': 327, '▁pessoas': 328, '▁lo': 329, '▁ob': 330, 'ers': 331, 'ante': 332, 'ans': 333, '▁2': 334, '▁kn': 335, '▁aqu': 336, '▁imp': 337, '▁cl': 338, 'ies': 339, '▁tra': 340, 'th': 341, '▁está': 342, 'ên': 343, '▁sp': 344, 'ge': 345, '▁num': 346, '▁quando': 347, '▁fazer': 348, '▁man': 349, 'ink': 350, 'ós': 351, '▁these': 352, 'ez': 353, '▁how': 354, 'ass': 355, 'ta': 356, 'mo': 357, '▁when': 358, 'ça': 359, 'ix': 360, 'ida': 361, 'ora': 362, '▁di': 363, '▁dos': 364, '▁ao': 365, '▁by': 366, 'me': 367, 'ores': 368, '00': 369, '▁porque': 370, '▁real': 371, 'bre': 372, 'ais': 373, 'ido': 374, '▁know': 375, '▁mes': 376, 'ros': 377, '▁cois': 378, 'du': 379, '▁sa': 380, '▁há': 381, 'ound': 382, '▁ever': 383, 'ght': 384, 'ma': 385, '▁them': 386, 'io': 387, 'ico': 388, 'one': 389, '▁because': 390, '▁see': 391, 'ber': 392, '▁ev': 393, '▁ad': 394, '▁more': 395, '▁think': 396, '▁who': 397, '▁foi': 398, 'ções': 399, 'ru': 400, 'ria': 401, 'ine': 402, '▁get': 403, '▁esc': 404, 'ava': 405, '▁very': 406, '▁fac': 407, '▁então': 408, '▁some': 409, 'pp': 410, '▁thing': 411, '▁up': 412, '▁tim': 413, '▁tal': 414, 'fer': 415, '▁than': 416, '▁had': 417, 'ight': 418, '▁quer': 419, '▁esta': 420, 'lo': 421, '▁fe': 422, 'art': 423, '▁cri': 424, '▁era': 425, '▁your': 426, '▁af': 427, '▁esp': 428, 'bal': 429, '▁would': 430, '▁their': 431, '▁este': 432, '▁pri': 433, '▁come': 434, '▁sobre': 435, '▁nós': 436, 'sos': 437, '▁inf': 438, '▁were': 439, 'anto': 440, 'ndo': 441, '▁pos': 442, 'ong': 443, '▁going': 444, '▁pel': 445, '▁hum': 446, 'ign': 447, '▁year': 448, '▁rec': 449, 'res': 450, '▁das': 451, 'ose': 452, 'ib': 453, 'ack': 454, 'ip': 455, 'ure': 456, 'ência': 457, 'ich': 458, 'olog': 459, '▁every': 460, 'ame': 461, '▁sem': 462, 'ês': 463, 'our': 464, '▁ass': 465, '▁look': 466, '▁here': 467, 'ous': 468, 'iver': 469, '▁anos': 470, '▁sim': 471, 'ilh': 472, 'ther': 473, '▁want': 474, '▁col': 475, 'ram': 476, '▁pa': 477, 'ence': 478, '▁tam': 479, 'cis': 480, 'ca': 481, 'te': 482, '▁work': 483, 'ard': 484, 'ide': 485, '▁ta': 486, 'ial': 487, '▁ro': 488, '▁vez': 489, '▁ra': 490, '▁imag': 491, '▁world': 492, '▁way': 493, 'wn': 494, 'hing': 495, '▁todos': 496, '▁ri': 497, '▁sab': 498, '▁diz': 499, 'lh': 500, '▁really': 501, 'blem': 502, 'ase': 503, '▁mat': 504, '▁problem': 505, '▁temos': 506, '▁most': 507, 'ions': 508, '▁has': 509, '▁time': 510, '▁mo': 511, '▁fal': 512, '▁could': 513, 'entes': 514, '▁other': 515, '▁ind': 516, 'elh': 517, 'ite': 518, '▁cer': 519, 'orn': 520, '▁inc': 521, '▁human': 522, 'ras': 523, '▁eles': 524, '▁te': 525, '▁then': 526, '▁actu': 527, 'reat': 528, 'ord': 529, 'enas': 530, '▁ris': 531, '▁tamb': 532, 'aram': 533, '▁which': 534, '▁também': 535, '▁will': 536, '▁po': 537, '▁mar': 538, 'll': 539, '▁aqui': 540, '▁pens': 541, 'red': 542, '▁minha': 543, 'ough': 544, 'ior': 545, '▁agora': 546, '▁did': 547, 'ild': 548, '▁where': 549, '▁mundo': 550, '▁tw': 551, '▁tec': 552, '▁cons': 553, 'rig': 554, 'ece': 555, '▁estão': 556, 'ond': 557, 'pt': 558, '▁cor': 559, '▁ide': 560, 'cul': 561, '▁meu': 562, '▁actually': 563, 'int': 564, 'ach': 565, 'king': 566, 'adas': 567, 'rar': 568, '▁ca': 569, '▁new': 570, 'ment': 571, 'rio': 572, '▁bem': 573, '▁mesmo': 574, 'ical': 575, 'dade': 576, '▁qual': 577, '▁lit': 578, '▁muit': 579, 'ain': 580, '▁trabal': 581, 'vi': 582, '▁import': 583, '▁need': 584, '▁well': 585, '▁dest': 586, '▁pass': 587, '▁into': 588, '▁trans': 589, 'ome': 590, '▁nov': 591, '▁podem': 592, 'ult': 593, '▁med': 594, '▁bu': 595, 'ice': 596, '▁years': 597, '▁somet': 598, '▁precis': 599, 'ely': 600, 'oun': 601, '▁resp': 602, '▁pol': 603, '▁mod': 604, '▁rep': 605, '▁conse': 606, '▁inv': 607, '▁soci': 608, '▁any': 609, '▁rel': 610, '▁voc': 611, 'age': 612, 'êm': 613, 'nos': 614, '▁enc': 615, '▁podemos': 616, '▁start': 617, 'ry': 618, 'udo': 619, '▁coisas': 620, '▁fir': 621, '▁poder': 622, '▁br': 623, '▁bo': 624, 'ina': 625, '▁make': 626, '▁right': 627, '▁hist': 628, '▁á': 629, '▁pode': 630, 'fic': 631, '▁cas': 632, 'eiro': 633, '▁prim': 634, '▁been': 635, 'pre': 636, '▁sol': 637, '▁ond': 638, '▁apl': 639, '▁those': 640, 'ress': 641, '▁sent': 642, '▁forma': 643, '▁chan': 644, 'ace': 645, '▁gen': 646, '▁apenas': 647, 'ple': 648, '▁ec': 649, '▁happ': 650, '▁let': 651, '▁say': 652, '▁inst': 653, 'ço': 654, '▁first': 655, '▁exper': 656, 'nolog': 657, '▁grand': 658, '▁quest': 659, '▁also': 660, '▁two': 661, '▁over': 662, '▁things': 663, 'ámos': 664, '▁acont': 665, '▁consegu': 666, 'ível': 667, '▁liv': 668, '▁ir': 669, 'ie': 670, '▁depo': 671, '▁depois': 672, '▁sur': 673, '▁she': 674, 'ife': 675, '▁much': 676, 'und': 677, '▁even': 678, '▁onde': 679, '▁vida': 680, '▁bl': 681, 'ghter': 682, 'ades': 683, '▁têm': 684, 'ory': 685, '▁lau': 686, 'almente': 687, 'ons': 688, 'tle': 689, '▁ph': 690, 'ents': 691, '▁cam': 692, 'unt': 693, '▁sua': 694, 'imento': 695, 'able': 696, '▁vos': 697, '▁poss': 698, '▁differ': 699, '▁call': 700, '▁und': 701, 'ree': 702, '▁int': 703, 'gar': 704, '▁day': 705, '▁cap': 706, '▁something': 707, '▁appl': 708, 'act': 709, '▁dia': 710, '▁ins': 711, '▁segu': 712, 'ific': 713, '▁algum': 714, '▁cham': 715, '▁difer': 716, '▁under': 717, 'iam': 718, '▁até': 719, 'enh': 720, 'ças': 721, '▁fl': 722, 'ís': 723, 'ança': 724, '▁melh': 725, '▁proc': 726, '▁assim': 727, '▁back': 728, '▁lu': 729, '▁3': 730, '▁laughter': 731, '▁bet': 732, 'eira': 733, '▁pers': 734, '▁inform': 735, 'way': 736, 'sas': 737, 'istem': 738, '▁only': 739, 'ric': 740, 'sel': 741, 'cent': 742, 'ura': 743, 'ount': 744, 'lt': 745, '▁tempo': 746, '▁mud': 747, '▁estava': 748, 'ecer': 749, 'imos': 750, '▁lot': 751, '▁const': 752, '▁risos': 753, 'ias': 754, '▁gu': 755, '▁nas': 756, '▁começ': 757, '▁fun': 758, '▁comple': 759, '▁life': 760, '▁many': 761, '▁got': 762, '▁tudo': 763, 'ios': 764, '▁só': 765, '▁little': 766, 'ks': 767, 'entar': 768, 'quer': 769, '▁vol': 770, 'anh': 771, '▁tinha': 772, 'ue': 773, '▁jo': 774, '▁coisa': 775, '▁dec': 776, '▁take': 777, '▁vocês': 778, '▁men': 779, 'vol': 780, '▁his': 781, 'erg': 782, '▁torn': 783, '▁fam': 784, '▁her': 785, '▁nossa': 786, '▁verdade': 787, 'cion': 788, 'be': 789, 'ated': 790, '▁ú': 791, '▁dizer': 792, '▁ant': 793, 'ativ': 794, 'icos': 795, '▁exp': 796, '▁long': 797, '▁aplau': 798, '▁nest': 799, '▁che': 800, '▁ext': 801, 'ual': 802, '▁conf': 803, '▁olh': 804, '▁applause': 805, '▁why': 806, 'ire': 807, 'par': 808, '▁sy': 809, 'ater': 810, 'amento': 811, '▁já': 812, 'ân': 813, '▁op': 814, '▁aplausos': 815, '▁pal': 816, 'ep': 817, '▁20': 818, 'entos': 819, 'je': 820, 'vos': 821, '▁estamos': 822, 'ador': 823, '▁sec': 824, '▁mom': 825, 'gan': 826, '▁cent': 827, 'ations': 828, '▁seu': 829, '▁numa': 830, '▁histó': 831, '▁sign': 832, '▁pou': 833, '▁ela': 834, '▁met': 835, '▁does': 836, 'ody': 837, '▁dev': 838, '▁encont': 839, '▁different': 840, '▁ho': 841, '▁pró': 842, '▁port': 843, '000': 844, '▁nat': 845, '▁kind': 846, '▁algo': 847, '▁sc': 848, '▁expl': 849, '▁fin': 850, '▁dem': 851, 'ff': 852, 'ful': 853, '▁said': 854, '▁milh': 855, '▁entre': 856, 'át': 857, 'ular': 858, 'antes': 859, '▁ti': 860, '▁cé': 861, '▁obrig': 862, 'rav': 863, '▁del': 864, '▁dire': 865, 'inda': 866, 'ject': 867, '▁univer': 868, '▁econ': 869, '▁vi': 870, '▁prof': 871, '▁nosso': 872, 'ata': 873, '▁vis': 874, 'ance': 875, 'idos': 876, '▁experi': 877, 'ista': 878, '▁good': 879, 'other': 880, '▁form': 881, '▁maior': 882, '▁melhor': 883, '▁ainda': 884, 'ender': 885, 'ional': 886, 'rough': 887, 'quen': 888, 'rop': 889, 'icas': 890, 'agem': 891, 'ações': 892, 'ian': 893, 'veis': 894, '▁cada': 895, '▁comm': 896, '▁thank': 897, 'ele': 898, 'ting': 899, '▁pat': 900, 'get': 901, '▁art': 902, '▁around': 903, 'arem': 904, '▁fact': 905, 'are': 906, '▁reg': 907, '▁plan': 908, 'ít': 909, '▁show': 910, '▁;': 911, '▁19': 912, '▁through': 913, 'rios': 914, '▁dur': 915, '▁pen': 916, 'ger': 917, 'urn': 918, '▁estas': 919, 'ren': 920, '▁sm': 921, '▁5': 922, '▁tell': 923, '▁dist': 924, '▁use': 925, 'ás': 926, '▁min': 927, '▁sal': 928, 'rit': 929, '▁may': 930, '▁escol': 931, 'avam': 932, 'iss': 933, '▁♫': 934, '▁prov': 935, 'plo': 936, '▁vamos': 937, '▁!': 938, 'duc': 939, '▁big': 940, 'ower': 941, '▁tão': 942, '▁hoje': 943, 'ín': 944, '▁down': 945, '▁bel': 946, '▁sub': 947, 'ish': 948, 'uns': 949, '▁disse': 950, 'és': 951, '▁fut': 952, '▁parte': 953, '▁lear': 954, 'form': 955, 'rias': 956, 'igo': 957, '▁learn': 958, 'íci': 959, 'ares': 960, '▁grande': 961, '▁count': 962, 'idades': 963, '▁percent': 964, '▁10': 965, '▁comput': 966, '▁today': 967, '▁bra': 968, '▁pelo': 969, '▁falar': 970, 'ick': 971, '▁same': 972, 'cer': 973, '▁du': 974, '▁perg': 975, 'enho': 976, 'ph': 977, 'ples': 978, 'ai': 979, 'ys': 980, '▁estes': 981, 'ors': 982, '▁fic': 983, 'itu': 984, '▁sch': 985, 'xt': 986, '▁happen': 987, '▁intern': 988, '▁val': 989, '▁energ': 990, '▁dar': 991, 'ves': 992, 'ja': 993, '▁trabalh': 994, '▁mil': 995, '▁deix': 996, '▁aut': 997, '▁find': 998, '▁tech': 999, '▁exist': 1000, 'stem': 1001, '▁apr': 1002, 'bro': 1003, 'ição': 1004, '▁hel': 1005, '▁vou': 1006, '▁todas': 1007, '▁pela': 1008, '▁emp': 1009, '▁after': 1010, '▁portanto': 1011, 'aria': 1012, '▁pequen': 1013, '▁exem': 1014, '▁person': 1015, 'mer': 1016, 'íamos': 1017, 'adores': 1018, 'ário': 1019, '▁aos': 1020, 'ought': 1021, '▁pres': 1022, '▁econom': 1023, 'ris': 1024, '▁realmente': 1025, 'ital': 1026, '▁lev': 1027, 'ible': 1028, '▁vezes': 1029, '▁being': 1030, 'idas': 1031, '▁fa': 1032, '▁hom': 1033, '▁bas': 1034, '▁made': 1035, '▁fiz': 1036, 'ima': 1037, '▁partic': 1038, '▁tipo': 1039, '▁todo': 1040, '▁id': 1041, '▁put': 1042, 'hec': 1043, 'ável': 1044, 'til': 1045, '▁av': 1046, '▁exam': 1047, '▁loc': 1048, '▁child': 1049, '▁mul': 1050, 'row': 1051, 'ture': 1052, '▁contin': 1053, '▁talk': 1054, '▁three': 1055, '▁constru': 1056, '▁ci': 1057, '▁own': 1058, '▁qualquer': 1059, 'tura': 1060, '▁stud': 1061, 'inar': 1062, 'rica': 1063, '▁sistem': 1064, 'aix': 1065, 'self': 1066, '▁4': 1067, '▁bar': 1068, 'ira': 1069, '▁país': 1070, 'up': 1071, 'cil': 1072, '▁equ': 1073, '▁produ': 1074, '▁system': 1075, 'no': 1076, 'ile': 1077, 'itar': 1078, '▁glo': 1079, 'rib': 1080, '▁ok': 1081, '▁great': 1082, '▁mulher': 1083, '▁fil': 1084, 'he': 1085, '▁aj': 1086, '▁build': 1087, '▁gover': 1088, '▁eng': 1089, '▁clar': 1090, '▁estr': 1091, '▁trabalho': 1092, '▁design': 1093, '▁again': 1094, '▁lá': 1095, 'thing': 1096, 'ces': 1097, '▁perce': 1098, '▁pu': 1099, '▁ear': 1100, '▁dois': 1101, '▁prog': 1102, '▁história': 1103, '▁problema': 1104, 'ft': 1105, '▁sempre': 1106, '▁change': 1107, 'ea': 1108, '▁fu': 1109, '▁vai': 1110, '▁outra': 1111, '▁acontece': 1112, 'ics': 1113, '▁rem': 1114, '▁tenho': 1115, '▁funcion': 1116, '▁mal': 1117, 'itos': 1118, 'ating': 1119, '▁called': 1120, 'ool': 1121, '▁hav': 1122, '▁wom': 1123, '▁alguns': 1124, '▁ve': 1125, '▁vo': 1126, '▁quero': 1127, '▁seus': 1128, '▁toda': 1129, '▁pouco': 1130, '▁..': 1131, '▁hear': 1132, '▁...': 1133, '▁outros': 1134, 'ates': 1135, '▁ajud': 1136, 'old': 1137, '▁sou': 1138, '▁desco': 1139, '▁-': 1140, '▁esper': 1141, 'ural': 1142, '▁mov': 1143, '▁exemplo': 1144, '▁feel': 1145, 'ita': 1146, '▁às': 1147, '▁try': 1148, '▁ideia': 1149, '▁sci': 1150, '▁muitas': 1151, '▁pensar': 1152, 'vez': 1153, '▁act': 1154, '▁anim': 1155, '▁educ': 1156, '▁technolog': 1157, 'ivo': 1158, 'ities': 1159, '▁help': 1160, 'fore': 1161, '▁nun': 1162, 'stand': 1163, '▁%': 1164, '▁mé': 1165, '▁estou': 1166, '▁school': 1167, '▁talvez': 1168, 'kes': 1169, 'anças': 1170, '▁should': 1171, '▁nunca': 1172, '▁cur': 1173, '▁model': 1174, '▁bom': 1175, 'ize': 1176, 'body': 1177, 'illion': 1178, '▁esse': 1179, '▁end': 1180, '▁mim': 1181, '▁dep': 1182, '▁estar': 1183, '▁nossos': 1184, '▁milhões': 1185, '▁off': 1186, 'istas': 1187, '▁understand': 1188, 'we': 1189, '▁def': 1190, '▁vir': 1191, '▁primeiro': 1192, '▁ke': 1193, '▁sin': 1194, '▁started': 1195, 'gether': 1196, 'ela': 1197, '▁ger': 1198, '▁set': 1199, '▁essa': 1200, '▁turn': 1201, '▁contro': 1202, 'bo': 1203, '▁doing': 1204, '▁z': 1205, '▁cour': 1206, '▁still': 1207, 'íd': 1208, 'uc': 1209, '▁durante': 1210, '▁ask': 1211, '▁pop': 1212, '▁simples': 1213, '▁organ': 1214, 'erv': 1215, 'ict': 1216, '▁bi': 1217, '▁muitos': 1218, '▁obrigado': 1219, 'ty': 1220, '▁idea': 1221, '▁exc': 1222, '▁him': 1223, '▁desc': 1224, '▁quem': 1225, 'la': 1226, '▁acc': 1227, '▁cal': 1228, '▁last': 1229, '▁mor': 1230, '▁test': 1231, '▁tecnolog': 1232, '▁together': 1233, '▁três': 1234, '▁menos': 1235, '▁never': 1236, '▁power': 1237, '▁might': 1238, '▁invest': 1239, '▁bit': 1240, '▁better': 1241, '▁espec': 1242, '▁global': 1243, 'ang': 1244, '▁famil': 1245, '▁social': 1246, 'ins': 1247, '▁ret': 1248, 'ental': 1249, '▁mean': 1250, '▁[': 1251, '▁prop': 1252, '▁próp': 1253, 'ider': 1254, 'ction': 1255, 'ifica': 1256, '▁before': 1257, '▁ess': 1258, 'bi': 1259, '▁200': 1260, '▁far': 1261, '▁creat': 1262, 'fe': 1263, '▁each': 1264, '▁another': 1265, '▁]': 1266, 'esse': 1267, '▁lar': 1268, 'ón': 1269, 'ather': 1270, '▁found': 1271, '▁ano': 1272, 'ven': 1273, '▁its': 1274, '▁nú': 1275, '▁duas': 1276, 'uro': 1277, '▁point': 1278, 'ically': 1279, '▁neg': 1280, '▁question': 1281, 'imo': 1282, 'eram': 1283, '▁palav': 1284, 'ew': 1285, 'ands': 1286, 'fici': 1287, '▁comun': 1288, 'rem': 1289, '▁cu': 1290, 'min': 1291, 'oss': 1292, '▁perm': 1293, '▁example': 1294, '▁er': 1295, '▁neste': 1296, '▁super': 1297, 'ave': 1298, '▁mem': 1299, '▁outro': 1300, '▁interess': 1301, '▁story': 1302, '▁result': 1303, 'jet': 1304, '▁sistema': 1305, '▁important': 1306, 'cias': 1307, '▁norm': 1308, 'na': 1309, '▁tri': 1310, '▁interest': 1311, '▁cau': 1312, '▁dig': 1313, '▁conhec': 1314, 'iu': 1315, '▁nossas': 1316, '▁internet': 1317, '▁rece': 1318, 'bri': 1319, '▁belie': 1320, '▁algumas': 1321, '▁cre': 1322, '▁ped': 1323, '▁amer': 1324, 'ten': 1325, 'orte': 1326, '▁few': 1327, '▁went': 1328, '▁facto': 1329, '▁pergunt': 1330, '▁decid': 1331, '▁continu': 1332, 'gn': 1333, '▁outras': 1334, '▁númer': 1335, 'ings': 1336, 'ness': 1337, '▁antes': 1338, '▁lado': 1339, '▁publ': 1340, '▁thought': 1341, '▁fund': 1342, '▁commun': 1343, 'ól': 1344, '▁course': 1345, '▁ed': 1346, 'ition': 1347, 'ution': 1348, '▁cére': 1349, '▁importante': 1350, '▁lim': 1351, '▁lig': 1352, 'gua': 1353, 'emente': 1354, '▁atrav': 1355, 'les': 1356, 'abil': 1357, '▁suas': 1358, '▁sl': 1359, '▁give': 1360, '▁mont': 1361, '▁diferentes': 1362, 'osta': 1363, '▁nem': 1364, '▁elas': 1365, '▁precisamos': 1366, 'ps': 1367, '▁usar': 1368, '▁program': 1369, 'enci': 1370, '▁next': 1371, '▁rest': 1372, 'iva': 1373, 'vers': 1374, 'pe': 1375, ',000': 1376, '▁too': 1377, '▁casa': 1378, '▁high': 1379, '▁fri': 1380, '▁mic': 1381, '▁nec': 1382, '▁desen': 1383, 'iar': 1384, 'lear': 1385, 'read': 1386, 'ds': 1387, '▁ref': 1388, '▁able': 1389, 'lu': 1390, '▁oc': 1391, '▁kid': 1392, '▁mus': 1393, '▁nova': 1394, '▁bus': 1395, '▁enqu': 1396, '▁brain': 1397, 'vir': 1398, '▁viol': 1399, 'ortun': 1400, 'endo': 1401, 'ingu': 1402, 'ists': 1403, '▁méd': 1404, '▁fre': 1405, '▁suc': 1406, '▁estud': 1407, '▁7': 1408, 'ana': 1409, 'ino': 1410, 'ways': 1411, '▁sex': 1412, 'ved': 1413, '▁att': 1414, '▁data': 1415, '▁criar': 1416, '▁used': 1417, '▁complet': 1418, '▁enquanto': 1419, 'als': 1420, 'ne': 1421, '▁primeira': 1422, 'ilo': 1423, '▁últ': 1424, '▁spec': 1425, '▁gener': 1426, '▁descobri': 1427, 'cy': 1428, 'alth': 1429, 'ogra': 1430, '▁tom': 1431, '▁la': 1432, '▁mã': 1433, '▁sé': 1434, '▁claro': 1435, 'abor': 1436, '▁gost': 1437, '▁junt': 1438, 'asse': 1439, '▁eram': 1440, '▁read': 1441, '▁seja': 1442, '▁crianças': 1443, '▁mot': 1444, '▁place': 1445, 'ha': 1446, 'velop': 1447, 'guém': 1448, '▁alguém': 1449, 'ited': 1450, 'ures': 1451, '▁women': 1452, '▁fel': 1453, '▁indiv': 1454, '▁lugar': 1455, 'ized': 1456, '▁necess': 1457, '▁mulheres': 1458, 'inho': 1459, '▁gra': 1460, '▁red': 1461, 'icamente': 1462, '▁complex': 1463, '▁desenvol': 1464, '▁informação': 1465, 'go': 1466, '▁prin': 1467, 'ências': 1468, '▁tentar': 1469, '▁profess': 1470, '▁mater': 1471, '▁pessoa': 1472, 'ús': 1473, '▁6': 1474, '▁aprend': 1475, '▁planet': 1476, 'ork': 1477, '▁chang': 1478, '▁quant': 1479, 'pa': 1480, '▁ago': 1481, '▁bot': 1482, '▁fot': 1483, '▁hor': 1484, '▁sel': 1485, '▁came': 1486, '▁maybe': 1487, '▁friend': 1488, 'atch': 1489, 'ween': 1490, '▁univers': 1491, '▁between': 1492, 'ars': 1493, '▁ún': 1494, 'iros': 1495, '▁vão': 1496, '▁ens': 1497, '▁meus': 1498, 'ização': 1499, '▁8': 1500, 'angu': 1501, '▁cir': 1502, '▁acab': 1503, '▁cres': 1504, '▁face': 1505, '▁acred': 1506, '▁children': 1507, 'ket': 1508, '▁small': 1509, '▁develop': 1510, '▁technology': 1511, '▁project': 1512, 'ato': 1513, '▁nada': 1514, '▁pra': 1515, '▁9': 1516, '▁hard': 1517, 'igos': 1518, 'iras': 1519, '▁old': 1520, '▁cérebro': 1521, '▁information': 1522, '▁fi': 1523, '▁minut': 1524, '▁trad': 1525, '▁obs': 1526, '▁less': 1527, '▁love': 1528, '▁cerca': 1529, '▁penso': 1530, 'izar': 1531, '▁transform': 1532, '▁tecnologia': 1533, '▁wr': 1534, '▁dent': 1535, '▁difí': 1536, '▁foram': 1537, '▁sabem': 1538, 'jo': 1539, 'ços': 1540, 'nect': 1541, '▁viv': 1542, 'ários': 1543, '▁live': 1544, '▁através': 1545, 'íl': 1546, 'ary': 1547, '▁raz': 1548, '▁local': 1549, '▁second': 1550, 'ts': 1551, 'ath': 1552, 'aço': 1553, 'ward': 1554, '▁always': 1555, '▁empres': 1556, '▁process': 1557, '▁significa': 1558, '▁beh': 1559, 'íveis': 1560, 'ibil': 1561, '▁momento': 1562, 'onder': 1563, '▁care': 1564, '▁everything': 1565, '▁particular': 1566, '▁cab': 1567, 'ement': 1568, '▁15': 1569, '▁cul': 1570, '▁extra': 1571, '▁imagin': 1572, '▁home': 1573, '▁dados': 1574, '▁tot': 1575, '▁volt': 1576, '▁volta': 1577, 'ução': 1578, '▁str': 1579, '▁means': 1580, 'ise': 1581, 'ross': 1582, 'ática': 1583, 'ária': 1584, 'gest': 1585, '▁ali': 1586, 'armos': 1587, '▁grow': 1588, '▁elect': 1589, '▁acontecer': 1590, 'óm': 1591, 'eles': 1592, '▁public': 1593, 'anç': 1594, 'ença': 1595, '▁dias': 1596, 'ense': 1597, '▁govern': 1598, '▁somos': 1599, 'car': 1600, 'ters': 1601, '▁cost': 1602, 'resent': 1603, 'cept': 1604, '▁wanted': 1605, 'pos': 1606, '▁ví': 1607, '▁alguma': 1608, '▁prot': 1609, '▁reas': 1610, 'ious': 1611, '▁certa': 1612, 'entemente': 1613, '▁30': 1614, '▁sk': 1615, 'culo': 1616, '▁mesma': 1617, '▁compan': 1618, '▁compre': 1619, '▁abs': 1620, '▁quase': 1621, '▁cert': 1622, '▁contra': 1623, 'ican': 1624, '▁water': 1625, '▁health': 1626, 'ak': 1627, '▁disso': 1628, 'ism': 1629, 'uras': 1630, '▁play': 1631, '▁consider': 1632, 'ech': 1633, 'ning': 1634, '▁gre': 1635, '▁away': 1636, '▁cond': 1637, '▁colle': 1638, '▁country': 1639, 'za': 1640, 'ral': 1641, '▁det': 1642, '▁via': 1643, '▁coloc': 1644, 'plic': 1645, '▁100': 1646, '▁four': 1647, 'ope': 1648, '▁ru': 1649, '▁cin': 1650, '▁dri': 1651, '▁space': 1652, 'oney': 1653, '▁apar': 1654, '▁light': 1655, 'ck': 1656, 'ced': 1657, '▁50': 1658, '▁nature': 1659, '▁sabemos': 1660, 'pid': 1661, 'iness': 1662, 'af': 1663, 'its': 1664, 'onto': 1665, '▁bast': 1666, '▁times': 1667, '▁number': 1668, 'ries': 1669, '▁acho': 1670, '▁pret': 1671, '▁diferente': 1672, 'ock': 1673, '▁dentro': 1674, 'tern': 1675, '▁ans': 1676, 'ember': 1677, '▁done': 1678, 'jam': 1679, '▁pot': 1680, '▁novo': 1681, '▁popul': 1682, 'leg': 1683, 'ner': 1684, '▁app': 1685, '▁bro': 1686, 'ância': 1687, '▁open': 1688, '▁sound': 1689, '▁future': 1690, '▁mús': 1691, '▁son': 1692, '▁cell': 1693, '▁disc': 1694, '▁água': 1695, '▁hou': 1696, '▁pes': 1697, 'selves': 1698, '▁famíl': 1699, 'gin': 1700, '▁polít': 1701, '▁connect': 1702, '▁encontrar': 1703, 'line': 1704, '▁believe': 1705, '▁vide': 1706, '▁pi': 1707, '▁europ': 1708, '▁número': 1709, '▁net': 1710, '▁baix': 1711, '▁hand': 1712, '▁fer': 1713, '▁rob': 1714, '▁quanto': 1715, '▁difícil': 1716, 'ót': 1717, '▁dess': 1718, '▁recon': 1719, '▁seria': 1720, '▁parece': 1721, 'der': 1722, 'los': 1723, '▁mudar': 1724, '▁looking': 1725, '▁million': 1726, 'óg': 1727, '▁♪': 1728, 'cos': 1729, 'duz': 1730, 'edade': 1731, 'inham': 1732, 'ições': 1733, '▁book': 1734, '▁essas': 1735, '▁liber': 1736, '▁energia': 1737, 'anho': 1738, '▁sei': 1739, '▁comb': 1740, '▁sort': 1741, 'ale': 1742, '▁fá': 1743, '▁emb': 1744, '▁sil': 1745, '▁amaz': 1746, '▁evol': 1747, '▁five': 1748, '▁exact': 1749, '▁começar': 1750, '▁wal': 1751, 'ories': 1752, '▁certo': 1753, '▁cust': 1754, '▁trabalhar': 1755, '▁phys': 1756, '▁será': 1757, '▁estavam': 1758, 'gr': 1759, '▁giv': 1760, '▁ted': 1761, 'ício': 1762, '▁seg': 1763, '▁espaço': 1764, '▁control': 1765, '▁arm': 1766, '▁base': 1767, '▁youn': 1768, '▁fazem': 1769, '▁futuro': 1770, '▁oh': 1771, '▁desta': 1772, '▁using': 1773, 'inheiro': 1774, '▁imagine': 1775, '▁lem': 1776, '▁conc': 1777, 'ational': 1778, '▁partilh': 1779, '▁espé': 1780, '▁create': 1781, '▁societ': 1782, 'ble': 1783, '▁eff': 1784, '▁war': 1785, '▁best': 1786, '▁without': 1787, '▁palavras': 1788, '▁stop': 1789, '▁escre': 1790, '▁terra': 1791, '▁dinheiro': 1792, 'ismo': 1793, '▁fas': 1794, 'vamos': 1795, 'áveis': 1796, '▁realidade': 1797, '▁gl': 1798, '▁eas': 1799, '▁desde': 1800, '▁prote': 1801, '▁become': 1802, '▁espéci': 1803, '▁mer': 1804, '▁uns': 1805, '▁sido': 1806, '▁money': 1807, 'lhe': 1808, '▁má': 1809, '▁neur': 1810, 'wh': 1811, 'ably': 1812, 'ines': 1813, '▁luz': 1814, '▁cho': 1815, '▁cheg': 1816, '▁sens': 1817, '▁util': 1818, 'iro': 1819, 'ula': 1820, '▁cr': 1821, 'anha': 1822, '▁tiv': 1823, 'ative': 1824, '▁natural': 1825, 'hip': 1826, 'pect': 1827, '▁saber': 1828, '▁mostrar': 1829, 'ét': 1830, '▁dan': 1831, 'ilhos': 1832, '▁answ': 1833, '▁mant': 1834, '▁situ': 1835, '▁individ': 1836, 'ror': 1837, '▁ur': 1838, '▁hal': 1839, '▁sing': 1840, 'ião': 1841, 'ull': 1842, 'avel': 1843, 'ever': 1844, 'ices': 1845, 'inhas': 1846, '▁left': 1847, '▁havia': 1848, 'gs': 1849, 'ari': 1850, '▁teac': 1851, '▁tu': 1852, 'fect': 1853, 'br': 1854, 'ulas': 1855, 'amentos': 1856, '▁lead': 1857, '▁resposta': 1858, '▁ach': 1859, '▁run': 1860, '▁char': 1861, '▁food': 1862, '▁tent': 1863, '▁class': 1864, '▁music': 1865, 'bs': 1866, 'indo': 1867, '▁prob': 1868, '▁enorm': 1869, '▁video': 1870, '▁working': 1871, '▁thinking': 1872, 'ató': 1873, 'ogo': 1874, '▁city': 1875, 'unto': 1876, '▁revol': 1877, '▁science': 1878, '▁próx': 1879, '▁comes': 1880, '▁whole': 1881, '▁tinham': 1882, '▁material': 1883, 'hes': 1884, '▁trying': 1885, '▁fora': 1886, '▁grou': 1887, '▁kids': 1888, '▁meio': 1889, '▁pont': 1890, '▁democ': 1891, 'vis': 1892, 'iram': 1893, '▁bre': 1894, '▁supp': 1895, '▁lives': 1896, '▁altura': 1897, '▁escola': 1898, '▁moment': 1899, 'icar': 1900, '▁air': 1901, '▁feito': 1902, '▁liter': 1903, '▁energy': 1904, '▁maneira': 1905, '▁talking': 1906, '▁países': 1907, '▁existem': 1908, 'atro': 1909, '▁medic': 1910, '▁questão': 1911, '▁201': 1912, '▁diss': 1913, '▁nenh': 1914, '▁add': 1915, '▁mãe': 1916, '▁música': 1917, 'isto': 1918, 'ivos': 1919, '▁head': 1920, '▁took': 1921, '▁bastante': 1922, '▁experiência': 1923, 'ail': 1924, 'úbl': 1925, '▁aum': 1926, '▁ban': 1927, '▁told': 1928, '▁plant': 1929, '▁aquilo': 1930, '▁interesting': 1931, '▁such': 1932, '▁cient': 1933, '▁polit': 1934, '▁resol': 1935, 'aut': 1936, '▁across': 1937, '▁nenhum': 1938, 'éc': 1939, 'aces': 1940, '▁days': 1941, '▁stru': 1942, '▁ponto': 1943, '▁existe': 1944, '▁family': 1945, '▁ge': 1946, '▁wee': 1947, '▁nesta': 1948, 'da': 1949, 'ál': 1950, 'ím': 1951, '▁saú': 1952, '▁okay': 1953, '▁relig': 1954, '▁getting': 1955, '▁alm': 1956, '▁saúde': 1957, '▁x': 1958, 'adr': 1959, '▁oper': 1960, '▁room': 1961, '▁respons': 1962, 'ier': 1963, 'las': 1964, '▁foc': 1965, '▁públ': 1966, '▁especial': 1967, 'ala': 1968, 'rer': 1969, '▁orig': 1970, '▁side': 1971, '▁china': 1972, '▁posso': 1973, '▁ben': 1974, '▁mind': 1975, '▁mult': 1976, '▁víde': 1977, '▁young': 1978, '▁cidade': 1979, '▁possível': 1980, '▁fol': 1981, '▁allow': 1982, 'eza': 1983, '▁tar': 1984, '▁happened': 1985, '▁case': 1986, '▁daqu': 1987, '▁fant': 1988, '▁deste': 1989, '▁month': 1990, '▁desenvolv': 1991, '▁government': 1992, 'ying': 1993, '▁cél': 1994, '▁dom': 1995, '▁phot': 1996, '▁pretty': 1997, '▁reason': 1998, 'cum': 1999, 'avor': 2000, 'ites': 2001, '▁cou': 2002, '▁pic': 2003, 'cover': 2004, '▁keep': 2005, '▁stre': 2006, '▁makes': 2007, 'âm': 2008, 'ude': 2009, '▁dól': 2010, '▁rad': 2011, 'ativa': 2012, '▁seem': 2013, '▁observ': 2014, '▁ps': 2015, '▁har': 2016, '▁body': 2017, '▁making': 2018, '▁projet': 2019, '▁aprender': 2020, '▁aud': 2021, '▁bri': 2022, '▁enough': 2023, '▁business': 2024, 'led': 2025, 'allen': 2026, '▁indust': 2027, '▁jov': 2028, 'ov': 2029, 'inguém': 2030, '▁homem': 2031, '▁vossa': 2032, 'rás': 2033, 'reas': 2034, '▁deb': 2035, '▁gir': 2036, '▁modo': 2037, '▁later': 2038, '▁razão': 2039, '▁stand': 2040, '▁almost': 2041, '▁ninguém': 2042, '▁problemas': 2043, 'ane': 2044, '▁fui': 2045, '▁saw': 2046, '▁level': 2047, '▁vemos': 2048, 'osp': 2049, '▁fra': 2050, '▁matter': 2051, '▁quatro': 2052, '▁pequeno': 2053, 'bon': 2054, '▁ways': 2055, '▁earth': 2056, '▁viver': 2057, '▁princi': 2058, 'avelmente': 2059, '▁remember': 2060, '▁si': 2061, '▁adv': 2062, '▁opp': 2063, '▁doll': 2064, 'icação': 2065, '▁effect': 2066, '▁obrigada': 2067, 'ert': 2068, '▁div': 2069, '▁yet': 2070, '▁past': 2071, '▁comec': 2072, 'imentos': 2073, '▁signific': 2074, '▁pas': 2075, '▁half': 2076, '▁insp': 2077, '▁decis': 2078, 'oso': 2079, '▁corre': 2080, '▁simple': 2081, 'dut': 2082, '▁ty': 2083, '▁nuc': 2084, 'ately': 2085, '▁else': 2086, '▁inside': 2087, '▁scient': 2088, 'én': 2089, 'ues': 2090, 'olut': 2091, 'ization': 2092, '▁myself': 2093, '▁friends': 2094, '▁maioria': 2095, '▁building': 2096, '▁represent': 2097, 'do': 2098, 'ron': 2099, '▁sat': 2100, '▁deles': 2101, '▁olhar': 2102, '▁answer': 2103, '▁imagem': 2104, '▁object': 2105, '▁absolut': 2106, '▁countries': 2107, 'man': 2108, '▁aí': 2109, '▁market': 2110, '▁wonder': 2111, '▁25': 2112, '▁mon': 2113, '▁obvi': 2114, '▁self': 2115, '▁spea': 2116, '▁ident': 2117, '▁often': 2118, '▁pequena': 2119, 'ór': 2120, '▁caso': 2121, '▁capac': 2122, '▁queria': 2123, 'osa': 2124, 'ently': 2125, '▁hope': 2126, '▁list': 2127, '▁move': 2128, '▁contr': 2129, '▁ficar': 2130, '▁gente': 2131, '▁moder': 2132, '▁sense': 2133, '▁fundam': 2134, '▁queremos': 2135, 'íst': 2136, '▁ey': 2137, '▁ult': 2138, '▁asked': 2139, '▁vosso': 2140, '▁normal': 2141, '▁sw': 2142, 'iais': 2143, 'inas': 2144, '▁bab': 2145, 'acter': 2146, '▁hosp': 2147, '▁math': 2148, '▁priv': 2149, '▁trat': 2150, '▁corpo': 2151, '▁quite': 2152, '▁challen': 2153, 'low': 2154, 'lus': 2155, '▁pag': 2156, '▁naqu': 2157, '▁sust': 2158, '▁langu': 2159, '▁família': 2160, 'ied': 2161, '▁fís': 2162, '▁online': 2163, '▁individual': 2164, '▁fez': 2165, 'where': 2166, '▁cris': 2167, '▁consum': 2168, '▁experim': 2169, '▁fazemos': 2170, '▁construir': 2171, 'osto': 2172, '▁fim': 2173, '▁clim': 2174, '▁once': 2175, '▁cinco': 2176, '▁thous': 2177, '▁experience': 2178, 'eias': 2179, '▁bad': 2180, '▁carbon': 2181, '▁tornar': 2182, '▁40': 2183, '▁anal': 2184, '▁estado': 2185, '▁dólares': 2186, '▁tre': 2187, '▁bring': 2188, '▁favor': 2189, '▁nível': 2190, '▁podia': 2191, 'ef': 2192, 'less': 2193, 'osse': 2194, '▁bat': 2195, '▁blo': 2196, '▁pet': 2197, '▁stu': 2198, 'ready': 2199, '▁hour': 2200, '▁watch': 2201, '▁consci': 2202, '▁passado': 2203, '▁probably': 2204, 'ex': 2205, 'va': 2206, '▁pud': 2207, 'semos': 2208, '▁ambi': 2209, '▁conv': 2210, '▁term': 2211, '▁begin': 2212, '▁while': 2213, '▁grandes': 2214, '▁perceber': 2215, 'ilt': 2216, 'ken': 2217, '▁amb': 2218, '▁cult': 2219, '▁ajudar': 2220, '▁already': 2221, '▁happens': 2222, '▁interessante': 2223, 'ga': 2224, 'ily': 2225, '▁vê': 2226, '▁pap': 2227, '▁matem': 2228, '▁permit': 2229, '▁personal': 2230, '▁simplesmente': 2231, 'bers': 2232, '▁leg': 2233, 'ciais': 2234, 'imens': 2235, 'ograf': 2236, '▁guer': 2237, '▁both': 2238, '▁sala': 2239, '▁quais': 2240, '▁segur': 2241, '▁wrong': 2242, '▁amazing': 2243, '▁ciência': 2244, '▁aconteceu': 2245, 'ano': 2246, 'idd': 2247, 'rim': 2248, '▁hu': 2249, 'cial': 2250, '▁fig': 2251, '▁girl': 2252, '▁netw': 2253, '▁beaut': 2254, 'ást': 2255, 'imes': 2256, '▁acer': 2257, '▁dise': 2258, '▁pati': 2259, '▁tenh': 2260, '▁labor': 2261, '▁resear': 2262, '▁education': 2263, '▁esqu': 2264, '▁must': 2265, '▁tend': 2266, '▁having': 2267, '▁humanos': 2268, 'ogn': 2269, 'por': 2270, 'orth': 2271, 'ially': 2272, '▁living': 2273, '▁longo': 2274, '▁funciona': 2275, 'aps': 2276, '▁wa': 2277, '▁civ': 2278, '▁pai': 2279, '▁capaz': 2280, '▁equip': 2281, '▁intel': 2282, '▁amigos': 2283, '▁incred': 2284, '▁computer': 2285, 'enta': 2286, '▁imm': 2287, '▁defin': 2288, '▁front': 2289, '▁parec': 2290, '▁words': 2291, '▁única': 2292, '▁acerca': 2293, '▁homens': 2294, '▁sure': 2295, '▁black': 2296, '▁vídeo': 2297, '▁works': 2298, '▁encontr': 2299, 'cas': 2300, '▁18': 2301, '▁err': 2302, '▁law': 2303, 'árias': 2304, '▁fran': 2305, '▁goes': 2306, '▁mort': 2307, '▁docum': 2308, '▁until': 2309, '▁coming': 2310, '▁looked': 2311, '▁segundo': 2312, '▁students': 2313, 'arr': 2314, 'for': 2315, '▁top': 2316, '▁vac': 2317, 'ention': 2318, '▁humano': 2319, '▁mother': 2320, '▁community': 2321, 'elho': 2322, '▁miss': 2323, 'undred': 2324, '▁produt': 2325, '▁comecei': 2326, '▁american': 2327, '▁anything': 2328, 'cio': 2329, 'inal': 2330, 'vert': 2331, '▁boa': 2332, '▁writ': 2333, '▁night': 2334, '▁hundred': 2335, '▁nothing': 2336, 'air': 2337, 'atic': 2338, '▁age': 2339, 'ually': 2340, '▁news': 2341, 'onment': 2342, '▁preoc': 2343, '▁chegar': 2344, '▁teacher': 2345, '▁histórias': 2346, 'port': 2347, '▁desaf': 2348, '▁visual': 2349, '▁dollars': 2350, 'vironment': 2351, '▁sociedade': 2352, 'pet': 2353, '▁esses': 2354, '▁digital': 2355, '▁provavelmente': 2356, 'edi': 2357, '▁oce': 2358, '▁apro': 2359, '▁surp': 2360, '▁billion': 2361, '▁society': 2362, '▁someone': 2363, '▁conseguem': 2364, '▁environment': 2365, '▁grav': 2366, '▁press': 2367, '▁12': 2368, '▁cop': 2369, '▁clear': 2370, '▁biolog': 2371, '▁states': 2372, '▁exactly': 2373, '▁picture': 2374, '▁poderia': 2375, '▁processo': 2376, 'cin': 2377, 'atos': 2378, '▁seen': 2379, '▁rá': 2380, 'omes': 2381, 'acion': 2382, 'ether': 2383, 'ously': 2384, '▁arte': 2385, '▁mach': 2386, '▁quis': 2387, '▁europe': 2388, 'ara': 2389, 'ola': 2390, 'ury': 2391, 'fico': 2392, 'ving': 2393, '▁cra': 2394, '▁goog': 2395, '▁frente': 2396, '▁segund': 2397, '▁nuclear': 2398, '▁pais': 2399, '▁possible': 2400, 'ream': 2401, '▁mund': 2402, '▁stuff': 2403, '▁aquele': 2404, 'ator': 2405, 'rível': 2406, '▁você': 2407, '▁micro': 2408, '▁espécie': 2409, '▁learned': 2410, '▁everybody': 2411, 'ird': 2412, '▁yes': 2413, '▁became': 2414, '▁explor': 2415, '▁express': 2416, '▁extraord': 2417, '▁conseguimos': 2418, 'itas': 2419, 'ones': 2420, 'ead': 2421, 'eld': 2422, 'unta': 2423, '▁kill': 2424, '▁prom': 2425, '▁atrás': 2426, '▁fácil': 2427, '▁google': 2428, '▁history': 2429, '▁tir': 2430, '▁voz': 2431, '▁arch': 2432, '▁true': 2433, '▁event': 2434, '▁tanto': 2435, '▁whether': 2436, 'ware': 2437, '▁hab': 2438, '▁trust': 2439, '▁vidas': 2440, '▁comport': 2441, '▁questions': 2442, 'els': 2443, 'ológ': 2444, '▁bal': 2445, '▁gru': 2446, '▁hig': 2447, 'ences': 2448, '▁meses': 2449, '▁since': 2450, '▁melhores': 2451, 'elas': 2452, 'ined': 2453, 'enção': 2454, 'ident': 2455, '▁ador': 2456, '▁film': 2457, '▁mass': 2458, '▁prime': 2459, '▁within': 2460, '▁caminho': 2461, 'iões': 2462, '▁ign': 2463, '▁six': 2464, '▁disp': 2465, '▁flor': 2466, '▁novas': 2467, '▁dra': 2468, '▁hon': 2469, '▁job': 2470, '▁pay': 2471, '▁além': 2472, '▁tele': 2473, '▁tool': 2474, '▁causa': 2475, '▁compet': 2476, '▁contar': 2477, '▁street': 2478, '▁oportun': 2479, '▁preciso': 2480, 'ero': 2481, '▁knew': 2482, '▁mess': 2483, '▁rede': 2484, '▁confi': 2485, '▁querem': 2486, '▁democra': 2487, '▁mudança': 2488, '▁sometimes': 2489, '▁comunidade': 2490, '▁completamente': 2491, 'vo': 2492, '▁caus': 2493, '▁cuid': 2494, '▁alter': 2495, '▁muita': 2496, '▁mental': 2497, '▁single': 2498, 'eed': 2499, 'eter': 2500, 'iting': 2501, '▁grupo': 2502, '▁pelos': 2503, '▁partir': 2504, '▁though': 2505, '▁product': 2506, '▁stories': 2507, '▁everyone': 2508, '▁investig': 2509, '▁ing': 2510, '▁carro': 2511, '▁fosse': 2512, '▁depend': 2513, '▁direct': 2514, '▁united': 2515, '▁language': 2516, '▁completely': 2517, 'ats': 2518, 'eça': 2519, 'oca': 2520, 'uss': 2521, '▁flu': 2522, '▁civil': 2523, '▁group': 2524, '▁estrut': 2525, '▁hospital': 2526, 'cess': 2527, 'irem': 2528, '▁tip': 2529, '▁deter': 2530, '▁final': 2531, '▁share': 2532, '▁months': 2533, '▁changed': 2534, '▁instead': 2535, '▁discover': 2536, '▁milhares': 2537, '▁research': 2538, 'gem': 2539, 'book': 2540, 'icion': 2541, '▁horas': 2542, '▁africa': 2543, '▁guerra': 2544, '▁prepar': 2545, 'quis': 2546, 'unch': 2547, '▁medo': 2548, '▁padr': 2549, '▁vers': 2550, 'preend': 2551, '▁células': 2552, '▁imagens': 2553, 'iful': 2554, 'itut': 2555, 'lhes': 2556, 'enças': 2557, '▁perd': 2558, '▁behav': 2559, '▁media': 2560, '▁animal': 2561, '▁formas': 2562, '▁others': 2563, '▁fizemos': 2564, '▁pergunta': 2565, '▁universe': 2566, '▁universo': 2567, '▁conseguir': 2568, 'ret': 2569, '▁arr': 2570, 'hamos': 2571, 'iores': 2572, '▁says': 2573, '▁cells': 2574, '▁follow': 2575, '▁chamado': 2576, '▁learning': 2577, 'óp': 2578, 'let': 2579, 'ange': 2580, '▁alt': 2581, '▁fix': 2582, 'agens': 2583, '▁tive': 2584, '▁activ': 2585, '▁heard': 2586, '▁capital': 2587, '▁dr': 2588, '▁mi': 2589, 'ecto': 2590, 'ides': 2591, '▁fazê': 2592, '▁built': 2593, '▁order': 2594, '▁17': 2595, 'ribu': 2596, 'essem': 2597, '▁noite': 2598, '▁passar': 2599, '▁decided': 2600, '▁princip': 2601, '▁computador': 2602, '▁wo': 2603, '▁lut': 2604, '▁conj': 2605, '▁merc': 2606, '▁step': 2607, '▁large': 2608, '▁state': 2609, '▁certain': 2610, '▁sentido': 2611, '▁possibil': 2612, 'ked': 2613, '▁áf': 2614, '▁cresc': 2615, '▁áfrica': 2616, 'atamente': 2617, '▁depress': 2618, '▁particip': 2619, 'ared': 2620, '▁vot': 2621, '▁pris': 2622, '▁stay': 2623, '▁objet': 2624, '▁valor': 2625, '▁filhos': 2626, '▁projeto': 2627, 'har': 2628, 'ages': 2629, '▁iss': 2630, '▁destas': 2631, '▁minhas': 2632, '▁produz': 2633, '▁estados': 2634, 'ód': 2635, 'elo': 2636, '▁mag': 2637, '▁ness': 2638, '▁company': 2639, '▁empresas': 2640, 'ape': 2641, 'acto': 2642, '▁sit': 2643, '▁alun': 2644, '▁wall': 2645, '▁treat': 2646, '▁entire': 2647, '▁sufici': 2648, 'mit': 2649, '▁60': 2650, '▁ce': 2651, '▁tín': 2652, '▁confl': 2653, '▁livro': 2654, 'acional': 2655, '▁comida': 2656, '▁diffic': 2657, '▁enorme': 2658, '▁behavior': 2659, 'ér': 2660, '▁ouv': 2661, '▁envi': 2662, '▁hold': 2663, '▁looks': 2664, '▁ouvir': 2665, '▁ferram': 2666, '▁places': 2667, '▁difficult': 2668, 'cle': 2669, 'quei': 2670, 'side': 2671, 'istic': 2672, '▁feliz': 2673, '▁rapid': 2674, '▁escrit': 2675, '▁record': 2676, '▁termos': 2677, '▁against': 2678, '▁organiz': 2679, '▁tínhamos': 2680, '▁basically': 2681, 'by': 2682, 'sei': 2683, '▁web': 2684, '▁envol': 2685, '▁conver': 2686, '▁terror': 2687, '▁reality': 2688, '▁cod': 2689, '▁audi': 2690, '▁mens': 2691, '▁mill': 2692, '▁tarde': 2693, 'ped': 2694, 'ãos': 2695, 'oria': 2696, 'culos': 2697, '▁impro': 2698, '▁turns': 2699, '▁deixar': 2700, '▁problems': 2701, 'ilar': 2702, '▁lab': 2703, '▁free': 2704, '▁ganh': 2705, '▁baixo': 2706, '▁solar': 2707, '▁modelo': 2708, '▁palest': 2709, '▁convers': 2710, '▁palavra': 2711, '▁imaginem': 2712, 'ró': 2713, '▁eg': 2714, '▁ox': 2715, 'omos': 2716, '▁gar': 2717, '▁vie': 2718, '▁dese': 2719, '▁easy': 2720, '▁inte': 2721, '▁máqu': 2722, '▁conce': 2723, '▁frequ': 2724, '▁cancer': 2725, '▁itself': 2726, '▁taking': 2727, '▁success': 2728, '▁economia': 2729, '▁beautiful': 2730, '▁dá': 2731, '▁ast': 2732, '▁hol': 2733, '▁sav': 2734, '▁humana': 2735, '▁ideias': 2736, 'lex': 2737, '▁000': 2738, '▁sof': 2739, 'iddle': 2740, '▁fear': 2741, '▁jour': 2742, '▁york': 2743, '▁destes': 2744, '▁saying': 2745, '▁cidades': 2746, '▁explain': 2747, 'imas': 2748, '▁199': 2749, '▁eua': 2750, '▁ill': 2751, '▁gets': 2752, '▁lots': 2753, '▁dever': 2754, '▁genes': 2755, '▁olhos': 2756, '▁papel': 2757, '▁carros': 2758, '▁doença': 2759, '▁middle': 2760, '▁acredit': 2761, 'iga': 2762, 'anas': 2763, '▁mão': 2764, '▁line': 2765, '▁view': 2766, '▁color': 2767, '▁aquela': 2768, '▁invent': 2769, '▁impress': 2770, '▁natureza': 2771, 'íp': 2772, 'den': 2773, 'ney': 2774, 'viv': 2775, 'osos': 2776, '▁yea': 2777, 'ático': 2778, '▁pred': 2779, 'atório': 2780, '▁couple': 2781, '▁criança': 2782, '▁fantást': 2783, 'brar': 2784, 'inte': 2785, '▁igu': 2786, '▁opt': 2787, 'cture': 2788, '▁coll': 2789, '▁dele': 2790, '▁tiver': 2791, '▁woman': 2792, '▁ourselves': 2793, 'iado': 2794, 'osed': 2795, 'ícios': 2796, '▁bran': 2797, '▁cars': 2798, '▁impl': 2799, '▁name': 2800, '▁negó': 2801, '▁nome': 2802, '▁pain': 2803, '▁vari': 2804, '▁yeah': 2805, '▁ajuda': 2806, '▁study': 2807, '▁takes': 2808, '▁procur': 2809, '▁aqueles': 2810, '▁90': 2811, 'outh': 2812, '▁ang': 2813, '▁asso': 2814, '▁canc': 2815, '▁traz': 2816, '▁dizem': 2817, '▁early': 2818, '▁companies': 2819, '▁compreender': 2820, 'ases': 2821, '▁muse': 2822, '▁word': 2823, 'idente': 2824, '▁separ': 2825, '▁voltar': 2826, '▁governo': 2827, '▁protect': 2828, '▁fotograf': 2829, 'of': 2830, 'ted': 2831, '▁ol': 2832, 'ility': 2833, '▁meas': 2834, '▁simp': 2835, '▁speak': 2836, '▁extrem': 2837, '▁father': 2838, '▁preocup': 2839, '▁electric': 2840, 'bol': 2841, '▁cy': 2842, '▁dna': 2843, '▁ora': 2844, '▁urb': 2845, '▁deal': 2846, '▁road': 2847, '▁calcul': 2848, '▁intelig': 2849, '▁species': 2850, '▁tamanho': 2851, 'pr': 2852, 'ibly': 2853, 'adora': 2854, '▁dela': 2855, '▁fail': 2856, '▁felt': 2857, '▁sabe': 2858, 'ential': 2859, '▁emerg': 2860, '▁focus': 2861, '▁green': 2862, '▁pract': 2863, '▁início': 2864, '▁planeta': 2865, '▁ambiente': 2866, '▁relations': 2867, '▁segurança': 2868, 'dos': 2869, 'ime': 2870, 'ton': 2871, '▁lou': 2872, '▁edif': 2873, '▁autom': 2874, '▁chama': 2875, '▁influ': 2876, '▁paint': 2877, '▁sabia': 2878, '▁tipos': 2879, '▁total': 2880, '▁cities': 2881, '▁listen': 2882, '▁opportun': 2883, '▁80': 2884, '▁je': 2885, 'ians': 2886, '▁lhe': 2887, '▁soft': 2888, '▁wind': 2889, '▁dream': 2890, '▁kinds': 2891, '▁porqu': 2892, '▁complic': 2893, '▁disease': 2894, 'abilidade': 2895, '▁matemática': 2896, '▁et': 2897, 'ling': 2898, '▁bol': 2899, '▁cut': 2900, '▁week': 2901, '▁haver': 2902, '▁seguir': 2903, '▁utiliz': 2904, '▁america': 2905, '▁pesquis': 2906, '▁sociais': 2907, '▁surpris': 2908, '▁powerful': 2909, '▁themselves': 2910, '▁lon': 2911, '▁ráp': 2912, '▁elem': 2913, '▁huge': 2914, '▁inov': 2915, '▁land': 2916, '▁ment': 2917, '▁piece': 2918, '▁expect': 2919, '▁pensem': 2920, '▁porquê': 2921, '▁começou': 2922, '▁próprio': 2923, '▁thousands': 2924, 'urg': 2925, 'bros': 2926, '▁mob': 2927, 'ração': 2928, '▁aper': 2929, '▁epid': 2930, '▁teve': 2931, '▁intro': 2932, '▁created': 2933, '▁desenvolvimento': 2934, 'ush': 2935, 'xim': 2936, '▁16': 2937, 'etic': 2938, '▁ace': 2939, 'itive': 2940, '▁seis': 2941, '▁acord': 2942, '▁along': 2943, '▁deixem': 2944, '▁pensei': 2945, '▁relação': 2946, 'úst': 2947, '▁lín': 2948, '▁maj': 2949, 'ativo': 2950, 'feito': 2951, '▁deus': 2952, '▁full': 2953, '▁tant': 2954, '▁heart': 2955, '▁hours': 2956, '▁paper': 2957, '▁quick': 2958, '▁engine': 2959, '▁educação': 2960, 'fr': 2961, 'xo': 2962, 'nov': 2963, '▁13': 2964, 'ique': 2965, 'onst': 2966, '▁dou': 2967, '▁ste': 2968, '▁cima': 2969, '▁afric': 2970, '▁empresa': 2971, '▁finally': 2972, '▁política': 2973, 'land': 2974, '▁dru': 2975, 'ining': 2976, 'ished': 2977, '▁meet': 2978, '▁serv': 2979, '▁ideas': 2980, '▁spend': 2981, '▁voice': 2982, '▁figure': 2983, '▁worked': 2984, '▁estávamos': 2985, '▁happening': 2986, 'ama': 2987, 'ges': 2988, 'ques': 2989, '▁low': 2990, '▁map': 2991, '▁tel': 2992, 'hecer': 2993, '▁near': 2994, '▁rele': 2995, '▁eight': 2996, '▁image': 2997, '▁começa': 2998, '▁chamada': 2999, '▁conjunto': 3000, 'ony': 3001, '▁hy': 3002, 'ency': 3003, 'ford': 3004, '▁hot': 3005, 'itect': 3006, 'ments': 3007, '▁gave': 3008, '▁mole': 3009, 'ograph': 3010, '▁innov': 3011, '▁leave': 3012, 'ualmente': 3013, '▁present': 3014, '▁í': 3015, 'haps': 3016, 'isso': 3017, 'itor': 3018, '▁adn': 3019, '▁cle': 3020, '▁pac': 3021, 'entas': 3022, '▁marav': 3023, '▁redes': 3024, '▁visão': 3025, '▁access': 3026, '▁económ': 3027, '▁jovens': 3028, '▁animais': 3029, '▁pattern': 3030, '▁perhaps': 3031, '▁segunda': 3032, 'rei': 3033, 'face': 3034, 'tual': 3035, '▁cit': 3036, '▁key': 3037, '▁mos': 3038, '▁san': 3039, 'ançar': 3040, '▁ones': 3041, '▁delas': 3042, '▁levar': 3043, '▁subst': 3044, '▁destru': 3045, '▁epidem': 3046, '▁cultura': 3047, '▁support': 3048, '▁descobrir': 3049, 'omp': 3050, 'room': 3051, '▁fem': 3052, '▁dark': 3053, '▁própria': 3054, '▁somebody': 3055, '▁dro': 3056, '▁déc': 3057, '▁lid': 3058, 'culas': 3059, '▁arqu': 3060, '▁cade': 3061, '▁farm': 3062, '▁size': 3063, 'encial': 3064, '▁comer': 3065, '▁ignor': 3066, '▁século': 3067, '▁institu': 3068, '▁maiores': 3069, '▁mundial': 3070, '▁institut': 3071, '▁relationship': 3072, '▁il': 3073, 'esar': 3074, 'uais': 3075, '▁gal': 3076, '▁lost': 3077, '▁park': 3078, '▁poor': 3079, 'ávamos': 3080, '▁empre': 3081, '▁interact': 3082, '▁resolver': 3083, '▁fundamental': 3084, '▁apo': 3085, '▁vem': 3086, '▁doct': 3087, '▁agric': 3088, '▁robot': 3089, '▁third': 3090, '▁century': 3091, '▁escrever': 3092, '▁confiança': 3093, '▁professor': 3094, '▁surpreend': 3095, '▁violência': 3096, 'bra': 3097, 'day': 3098, 'eio': 3099, 'anda': 3100, '▁don': 3101, '▁guy': 3102, '▁irm': 3103, '▁inic': 3104, '▁main': 3105, '▁house': 3106, '▁longe': 3107, 'apar': 3108, 'imin': 3109, 'éria': 3110, '▁cru': 3111, '▁disto': 3112, '▁needs': 3113, '▁behind': 3114, '▁impact': 3115, '▁longer': 3116, '▁outside': 3117, '▁população': 3118, '▁professores': 3119, 'ged': 3120, 'has': 3121, '▁sed': 3122, '▁deep': 3123, '▁eyes': 3124, '▁incl': 3125, '▁post': 3126, '▁major': 3127, '▁value': 3128, 'ability': 3129, '▁amount': 3130, '▁juntos': 3131, '▁rather': 3132, '▁communic': 3133, '▁physical': 3134, 'hn': 3135, 'oma': 3136, 'ume': 3137, '▁god': 3138, 'ption': 3139, '▁torna': 3140, '▁medida': 3141, '▁demonst': 3142, '▁últimos': 3143, '▁transport': 3144, 'eta': 3145, 'rie': 3146, '▁11': 3147, '▁70': 3148, '▁ár': 3149, 'ired': 3150, '▁cat': 3151, '▁ner': 3152, '▁sud': 3153, 'ither': 3154, '▁requ': 3155, '▁text': 3156, '▁appro': 3157, '▁conduz': 3158, '▁locais': 3159, '▁unidos': 3160, '▁collect': 3161, '▁similar': 3162, '▁conhecimento': 3163, 'tar': 3164, 'aixo': 3165, 'erem': 3166, 'rael': 3167, '▁sau': 3168, '▁brit': 3169, '▁blood': 3170, '▁alunos': 3171, '▁insect': 3172, '▁needed': 3173, '▁sentir': 3174, '▁minutos': 3175, '▁parents': 3176, 'zy': 3177, '▁alc': 3178, '▁tin': 3179, 'eiras': 3180, '▁field': 3181, '▁serem': 3182, '▁during': 3183, '▁tornou': 3184, '▁central': 3185, '▁sucesso': 3186, '▁beginning': 3187, '▁diferença': 3188, '▁capacidade': 3189, '▁oportunidade': 3190, 'rea': 3191, 'ump': 3192, 'ung': 3193, 'urs': 3194, 'çam': 3195, '▁jan': 3196, '▁miú': 3197, '▁sum': 3198, '▁tru': 3199, 'atura': 3200, '▁deve': 3201, '▁death': 3202, '▁demas': 3203, '▁least': 3204, '▁cabeça': 3205, '▁travel': 3206, '▁florest': 3207, '▁economic': 3208, '▁imaginar': 3209, '▁pequenos': 3210, '▁começámos': 3211, 'ze': 3212, 'gos': 3213, 'rito': 3214, '▁fab': 3215, '▁nan': 3216, 'inhos': 3217, '▁alim': 3218, '▁quar': 3219, 'ativas': 3220, '▁campo': 3221, '▁given': 3222, '▁invis': 3223, '▁pelas': 3224, '▁sever': 3225, '▁indúst': 3226, '▁vossos': 3227, '▁centenas': 3228, '▁facebook': 3229, '▁challenge': 3230, '▁difference': 3231, '▁ó': 3232, 'jar': 3233, '▁aw': 3234, 'ried': 3235, '▁hip': 3236, 'ource': 3237, '▁feed': 3238, '▁servi': 3239, '▁único': 3240, '▁compar': 3241, '▁modern': 3242, '▁prefer': 3243, '▁machine': 3244, '▁profund': 3245, '▁gostaria': 3246, '▁precisam': 3247, '▁situação': 3248, '▁violence': 3249, 'con': 3250, 'ames': 3251, 'ateg': 3252, '▁lat': 3253, '▁ven': 3254, '▁team': 3255, '▁tens': 3256, '▁conta': 3257, '▁idade': 3258, '▁perto': 3259, '▁cancro': 3260, '▁network': 3261, '▁numbers': 3262, '▁realized': 3263, '▁finalmente': 3264, 'ído': 3265, 'ndia': 3266, '▁bir': 3267, '▁sun': 3268, 'assem': 3269, 'elhos': 3270, '▁amor': 3271, '▁bloc': 3272, 'ificar': 3273, '▁coleg': 3274, '▁estre': 3275, '▁trata': 3276, '▁inspir': 3277, '▁israel': 3278, '▁respon': 3279, '▁simply': 3280, '▁público': 3281, '▁perspect': 3282, '▁partilhar': 3283, 'odo': 3284, 'rut': 3285, '▁deg': 3286, '▁sug': 3287, 'ively': 3288, 'ledge': 3289, '▁após': 3290, '▁fort': 3291, '▁hora': 3292, '▁irão': 3293, '▁short': 3294, '▁apesar': 3295, '▁attack': 3296, '▁imposs': 3297, '▁resist': 3298, '▁economy': 3299, '▁respond': 3300, '▁technologies': 3301, 'ark': 3302, 'inc': 3303, '▁arg': 3304, '▁rou': 3305, '▁sít': 3306, 'inary': 3307, '▁manh': 3308, '▁conte': 3309, '▁happy': 3310, '▁terce': 3311, '▁associ': 3312, '▁comigo': 3313, '▁escala': 3314, '▁fascin': 3315, '▁mathem': 3316, '▁números': 3317, '▁incrível': 3318, '▁basicamente': 3319, '50': 3320, 'mas': 3321, 'rus': 3322, 'cios': 3323, 'ecem': 3324, 'rial': 3325, 'ustr': 3326, '▁gas': 3327, '▁ple': 3328, '▁ren': 3329, '▁sus': 3330, '▁bill': 3331, '▁bomb': 3332, '▁lhes': 3333, '▁stat': 3334, '▁break': 3335, '▁aperce': 3336, '▁atenção': 3337, '▁entanto': 3338, '▁perfect': 3339, '▁seguinte': 3340, '▁yourself': 3341, 'acy': 3342, 'gue': 3343, 'rab': 3344, 'este': 3345, '▁fib': 3346, 'ribut': 3347, '▁send': 3348, '▁west': 3349, '▁houve': 3350, '▁known': 3351, '▁rapar': 3352, '▁colocar': 3353, '▁nenhuma': 3354, '▁systems': 3355, '▁rapidamente': 3356, '▁tecnologias': 3357, 'cu': 3358, 'amo': 3359, 'ych': 3360, 'hood': 3361, '▁tro': 3362, '▁tur': 3363, 'ality': 3364, '▁umas': 3365, '▁vend': 3366, '▁força': 3367, '▁obter': 3368, '▁seven': 3369, '▁livros': 3370, '▁culture': 3371, '▁population': 3372, 'ulo': 3373, 'lish': 3374, '▁ori': 3375, '▁tax': 3376, 'ermos': 3377, '▁crit': 3378, '▁evid': 3379, '▁fall': 3380, '▁saud': 3381, '▁inclu': 3382, '▁conven': 3383, '▁ground': 3384, '▁semana': 3385, '▁usando': 3386, 'ets': 3387, '▁pô': 3388, 'omas': 3389, 'itivo': 3390, 'ícias': 3391, '▁camp': 3392, '▁path': 3393, '▁sair': 3394, '▁walk': 3395, '▁área': 3396, '▁polic': 3397, '▁assist': 3398, '▁desenh': 3399, '▁pontos': 3400, '▁seeing': 3401, '▁disseram': 3402, 'bor': 3403, 'enn': 3404, 'reg': 3405, 'eres': 3406, 'tain': 3407, '▁din': 3408, '▁sob': 3409, 'érica': 3410, '▁john': 3411, '▁risk': 3412, '▁benef': 3413, '▁teach': 3414, '▁tools': 3415, '▁vista': 3416, '▁anyone': 3417, '▁strong': 3418, '▁temper': 3419, '▁animals': 3420, '▁minutes': 3421, '▁totalmente': 3422, 'igr': 3423, '▁14': 3424, '▁beb': 3425, '▁irá': 3426, '▁abri': 3427, '▁caix': 3428, '▁cart': 3429, '▁chin': 3430, '▁emot': 3431, '▁slow': 3432, '▁vict': 3433, 'itions': 3434, '▁ating': 3435, '▁norte': 3436, '▁risco': 3437, '▁esquer': 3438, '▁humans': 3439, '▁manter': 3440, '▁neurón': 3441, '▁estiver': 3442, '▁sistemas': 3443, 'ug': 3444, 'uma': 3445, '▁bon': 3446, '▁eat': 3447, '▁gps': 3448, 'ostas': 3449, '▁cort': 3450, '▁close': 3451, '▁comum': 3452, '▁recogn': 3453, '▁doenças': 3454, '▁pensamos': 3455, '▁teachers': 3456, '▁estudantes': 3457, '▁experiment': 3458, '▁ferramentas': 3459, '▁ef': 3460, '▁pá': 3461, 'arch': 3462, 'ster': 3463, 'stru': 3464, 'vent': 3465, '▁box': 3466, '▁baby': 3467, '▁born': 3468, '▁chem': 3469, '▁salv': 3470, '▁alone': 3471, '▁began': 3472, '▁books': 3473, '▁linha': 3474, '▁phone': 3475, '▁taken': 3476, '▁affect': 3477, '▁devido': 3478, '▁equipa': 3479, '▁última': 3480, '▁solução': 3481, '▁special': 3482, '▁crescimento': 3483, 'apt': 3484, 'ilha': 3485, 'omet': 3486, 'year': 3487, '▁rap': 3488, '▁pick': 3489, '▁finan': 3490, '▁impacto': 3491, '▁acredito': 3492, '▁importantes': 3493, 'rum': 3494, 'anos': 3495, 'echan': 3496, '▁narr': 3497, '▁lingu': 3498, '▁passa': 3499, '▁write': 3500, '▁entrar': 3501, '▁images': 3502, '▁turned': 3503, '▁fizeram': 3504, '▁semanas': 3505, '▁national': 3506, 'écn': 3507, 'idge': 3508, 'igas': 3509, '▁hit': 3510, 'fully': 3511, '▁foss': 3512, '▁quão': 3513, '▁zero': 3514, '▁hands': 3515, '▁psych': 3516, '▁sangu': 3517, '▁tried': 3518, '▁vejam': 3519, '▁mechan': 3520, '▁precisa': 3521, '▁estrutura': 3522, '▁incredible': 3523, 'éd': 3524, 'com': 3525, 'aves': 3526, '▁non': 3527, '▁suf': 3528, '▁fast': 3529, '▁praz': 3530, '▁rich': 3531, '▁cento': 3532, '▁novos': 3533, '▁sejam': 3534, '▁série': 3535, '▁white': 3536, 'ivamente': 3537, '▁controlo': 3538, '▁continuar': 3539, '▁movimento': 3540, '▁ler': 3541, '▁mec': 3542, '▁mis': 3543, '▁mol': 3544, '▁oil': 3545, '▁sul': 3546, 'wards': 3547, '▁clos': 3548, '▁jorn': 3549, '▁perform': 3550, '▁hundreds': 3551, '▁questões': 3552, '▁knowledge': 3553, '▁political': 3554, '▁opportunity': 3555, '▁experiências': 3556, 'ham': 3557, 'ensa': 3558, 'ging': 3559, '▁dez': 3560, '▁obt': 3561, 'ature': 3562, '▁sequ': 3563, '▁técn': 3564, '▁compr': 3565, '▁fight': 3566, '▁estudo': 3567, '▁mesmos': 3568, '▁sudden': 3569, '▁último': 3570, '▁certeza': 3571, '▁measure': 3572, '▁familiar': 3573, '▁absolutely': 3574, 'uth': 3575, 'ants': 3576, 'ivas': 3577, '▁fat': 3578, '▁flo': 3579, '▁lif': 3580, '▁grad': 3581, '▁amigo': 3582, '▁dessa': 3583, '▁devem': 3584, '▁estim': 3585, '▁filho': 3586, '▁mosqu': 3587, '▁nessa': 3588, '▁áreas': 3589, '▁acesso': 3590, '▁common': 3591, 'iramente': 3592, '▁feeling': 3593, '▁general': 3594, '▁descober': 3595, '▁comportamento': 3596, 'era': 3597, 'esc': 3598, 'own': 3599, 'ídu': 3600, '▁typ': 3601, '▁quím': 3602, 'ientes': 3603, '▁blind': 3604, '▁smart': 3605, '▁ensino': 3606, '▁levant': 3607, '▁micros': 3608, '▁stress': 3609, '▁carbono': 3610, '▁industry': 3611, '▁demasiado': 3612, '▁resultado': 3613, '▁quantidade': 3614, '▁mac': 3615, '▁squ': 3616, 'jecto': 3617, '▁magn': 3618, '▁verm': 3619, '▁chris': 3620, '▁guard': 3621, '▁limit': 3622, '▁motiv': 3623, '▁dessas': 3624, '▁either': 3625, '▁realize': 3626, '▁resultados': 3627, 'ium': 3628, 'ícia': 3629, '▁aber': 3630, '▁cool': 3631, '▁dead': 3632, '▁mist': 3633, '▁pois': 3634, '▁recu': 3635, '▁scre': 3636, 'verage': 3637, '▁based': 3638, '▁nisso': 3639, '▁curios': 3640, '▁europa': 3641, '▁semelh': 3642, 'adamente': 3643, '▁aprendi': 3644, '▁discuss': 3645, '▁procura': 3646, '▁revolution': 3647, '▁universidade': 3648, 'li': 3649, 'pped': 3650, '▁vel': 3651, 'aring': 3652, 'orque': 3653, '▁abord': 3654, '▁mente': 3655, '▁parar': 3656, '▁truth': 3657, '▁cientí': 3658, '▁padrões': 3659, '▁patients': 3660, '▁software': 3661, '▁perguntas': 3662, 'ows': 3663, 'ída': 3664, 'ming': 3665, 'ímos': 3666, '▁tum': 3667, '▁rate': 3668, '▁drive': 3669, '▁fundo': 3670, '▁morte': 3671, '▁passe': 3672, '▁passo': 3673, '▁recur': 3674, '▁south': 3675, '▁partes': 3676, '▁secret': 3677, '▁várias': 3678, '▁américa': 3679, '▁climate': 3680, '▁desafio': 3681, '▁máquina': 3682, '▁whatever': 3683, '▁esperança': 3684, 'ny': 3685, 'uck': 3686, 'view': 3687, '▁die': 3688, '▁mex': 3689, '▁elev': 3690, '▁iria': 3691, '▁mand': 3692, '▁citiz': 3693, '▁ensin': 3694, '▁neigh': 3695, '▁terms': 3696, '▁weeks': 3697, '▁center': 3698, '▁física': 3699, '▁growth': 3700, '▁millions': 3701, '▁indústria': 3702, '▁perguntar': 3703, '▁computadores': 3704, 'ash': 3705, '▁líd': 3706, '▁sym': 3707, 'epend': 3708, '▁aula': 3709, 'áticas': 3710, '▁apart': 3711, '▁estiv': 3712, '▁invol': 3713, '▁cirurg': 3714, '▁detect': 3715, '▁dispos': 3716, '▁embora': 3717, '▁viagem': 3718, '▁pesquisa': 3719, '▁próprios': 3720, '▁começaram': 3721, '▁suficiente': 3722, 'iti': 3723, 'aged': 3724, 'óvel': 3725, 'ética': 3726, '▁curr': 3727, '▁enfr': 3728, '▁opin': 3729, 'ission': 3730, '▁reduz': 3731, '▁scale': 3732, '▁urban': 3733, 'itional': 3734, '▁sounds': 3735, '▁consigo': 3736, '▁direito': 3737, '▁tivemos': 3738, '▁mensagem': 3739, '▁architect': 3740, '▁exatamente': 3741, '▁scientists': 3742, 'leo': 3743, '▁ia': 3744, 'pass': 3745, 'word': 3746, '▁198': 3747, '▁dam': 3748, 'elhas': 3749, 'passe': 3750, '▁gene': 3751, '▁type': 3752, '▁block': 3753, '▁pegar': 3754, '▁princ': 3755, '▁dimens': 3756, '▁expand': 3757, '▁iorque': 3758, '▁spread': 3759, '▁capazes': 3760, '▁crescer': 3761, '▁militar': 3762, '▁direitos': 3763, '▁independ': 3764, '▁notícias': 3765, '▁relacion': 3766, '▁structure': 3767, '▁maravilhos': 3768, 'ena': 3769, 'eto': 3770, 'tom': 3771, 'idad': 3772, 'orre': 3773, '▁org': 3774, '▁sho': 3775, '▁vul': 3776, '▁win': 3777, '▁elet': 3778, '▁guys': 3779, '▁pequ': 3780, '▁nisto': 3781, '▁repar': 3782, '▁ultra': 3783, '▁fiquei': 3784, '▁pensam': 3785, '▁possam': 3786, '▁molecul': 3787, '▁solution': 3788, '▁reconstru': 3789, '▁cientistas': 3790, '▁extraordin': 3791, '▁descobrimos': 3792, 'oud': 3793, 'icul': 3794, 'upos': 3795, '▁bil': 3796, '▁ine': 3797, '▁jap': 3798, '▁blue': 3799, '▁bura': 3800, '▁exer': 3801, '▁remo': 3802, '▁habit': 3803, '▁india': 3804, '▁refer': 3805, '▁seems': 3806, 'éssemos': 3807, '▁centro': 3808, '▁descre': 3809, '▁forest': 3810, '▁changes': 3811, '▁desapar': 3812, '▁devemos': 3813, '▁english': 3814, '▁interested': 3815, '▁laboratório': 3816, 'ake': 3817, 'ler': 3818, 'mar': 3819, 'cing': 3820, '▁lay': 3821, '▁pan': 3822, '▁árv': 3823, '▁song': 3824, 'ources': 3825, '▁among': 3826, '▁pared': 3827, '▁resto': 3828, '▁altern': 3829, '▁grupos': 3830, '▁increas': 3831, '▁neurons': 3832, '▁telling': 3833, '▁consegue': 3834, '▁recently': 3835, 'ona': 3836, 'fort': 3837, 'lect': 3838, 'plos': 3839, 'tail': 3840, '▁fly': 3841, 'urity': 3842, '▁card': 3843, '▁gast': 3844, '▁cidad': 3845, '▁jovem': 3846, '▁neuro': 3847, '▁parts': 3848, '▁honest': 3849, '▁sequer': 3850, 'entially': 3851, '▁ensinar': 3852, '▁escolas': 3853, '▁pessoal': 3854, '▁predict': 3855, '▁quickly': 3856, '▁sustain': 3857, '▁indivídu': 3858, '▁funcionar': 3859, '▁wonderful': 3860, 'ste': 3861, 'eler': 3862, '▁agr': 3863, '▁boc': 3864, 'uring': 3865, '▁ball': 3866, '▁bang': 3867, '▁gone': 3868, '▁rain': 3869, '▁tiny': 3870, '▁apanh': 3871, '▁lidar': 3872, '▁mudou': 3873, '▁telem': 3874, '▁veloc': 3875, '▁visto': 3876, '▁metade': 3877, '▁perceb': 3878, '▁growing': 3879, '▁permite': 3880, '▁popular': 3881, '▁audience': 3882, '▁constant': 3883, '▁starting': 3884, '▁developed': 3885, '▁understanding': 3886, 'app': 3887, 'gas': 3888, 'lar': 3889, '▁24': 3890, '▁od': 3891, 'bres': 3892, 'osas': 3893, 'ract': 3894, '▁ord': 3895, 'ators': 3896, 'ering': 3897, '▁draw': 3898, '▁ingl': 3899, '▁stra': 3900, '▁trou': 3901, '▁lived': 3902, '▁mostr': 3903, '▁nesse': 3904, '▁pobre': 3905, '▁teria': 3906, '▁visit': 3907, '▁índia': 3908, 'icações': 3909, '▁biggest': 3910, '▁message': 3911, '▁suggest': 3912, '▁chamamos': 3913, '▁explicar': 3914, '▁neurónios': 3915, 'ago': 3916, 'use': 3917, 'rote': 3918, '▁buy': 3919, '▁den': 3920, '▁fur': 3921, '▁mut': 3922, 'ivers': 3923, '▁boas': 3924, '▁chip': 3925, '▁adult': 3926, '▁girls': 3927, '▁igual': 3928, '▁seres': 3929, '▁shows': 3930, '▁moving': 3931, '▁teoria': 3932, '▁brought': 3933, '▁leaders': 3934, '▁mercado': 3935, '▁aprendiz': 3936, '▁password': 3937, '▁pequenas': 3938, 'ete': 3939, 'fica': 3940, 'itch': 3941, 'onte': 3942, '▁rua': 3943, '▁soz': 3944, '▁tex': 3945, '▁code': 3946, 'ologia': 3947, '▁solve': 3948, '▁telef': 3949, '▁língua': 3950, '▁theory': 3951, '▁sustent': 3952, '▁apresent': 3953, '▁industrial': 3954, '▁university': 3955, 'nas': 3956, '▁tv': 3957, '▁boy': 3958, '▁ton': 3959, '▁save': 3960, '▁sete': 3961, '▁argum': 3962, '▁arran': 3963, '▁autor': 3964, '▁diagn': 3965, '▁gosto': 3966, '▁react': 3967, '▁dispon': 3968, '▁envolv': 3969, '▁companh': 3970, '▁próximo': 3971, '▁aumentar': 3972, '▁desenvolver': 3973, '▁development': 3974, 'fa': 3975, 'rif': 3976, 'atas': 3977, '▁grá': 3978, '▁log': 3979, '▁los': 3980, '▁reb': 3981, '▁sor': 3982, 'embro': 3983, '▁entr': 3984, '▁sexo': 3985, '▁clean': 3986, '▁extre': 3987, '▁facil': 3988, '▁acabar': 3989, '▁danger': 3990, '▁indeed': 3991, 'ecimento': 3992, '▁lugares': 3993, '▁approach': 3994, '▁contrário': 3995, '▁principal': 3996, '▁eventually': 3997, 'ots': 3998, 'une': 3999, 'vas': 4000, 'aços': 4001, '▁nut': 4002, '▁pur': 4003, '▁mãos': 4004, '▁oito': 4005, '▁ouvi': 4006, '▁senh': 4007, '▁star': 4008, '▁veem': 4009, '▁algor': 4010, '▁avail': 4011, '▁fazia': 4012, '▁freed': 4013, '▁imedi': 4014, '▁reach': 4015, '▁combin': 4016, '▁entend': 4017, '▁sangue': 4018, '▁superf': 4019, '▁colegas': 4020, '▁journey': 4021, '▁naquele': 4022, '▁schools': 4023, '▁mathemat': 4024, 'imensional': 4025, '▁everywhere': 4026, '▁aprendizagem': 4027, 'él': 4028, '▁az': 4029, 'aste': 4030, '▁câm': 4031, '▁cód': 4032, '▁isl': 4033, '▁jog': 4034, '▁lik': 4035, 'ister': 4036, 'ivity': 4037, '▁area': 4038, '▁cele': 4039, '▁cogn': 4040, '▁leva': 4041, '▁robô': 4042, '▁suic': 4043, 'edades': 4044, '▁higgs': 4045, '▁revel': 4046, '▁espero': 4047, '▁médico': 4048, '▁serious': 4049, '▁determin': 4050, '▁espécies': 4051, '▁melhorar': 4052, '▁liberdade': 4053, '▁novamente': 4054, 'ift': 4055, 'ploy': 4056, '▁nam': 4057, 'istan': 4058, '▁alto': 4059, '▁digo': 4060, '▁ofer': 4061, '▁sect': 4062, '▁vejo': 4063, 'terior': 4064, '▁crazy': 4065, '▁moral': 4066, '▁recol': 4067, '▁actual': 4068, '▁infect': 4069, '▁pobres': 4070, '▁podiam': 4071, '▁ability': 4072, '▁aproxim': 4073, '▁passion': 4074, '▁changing': 4075, '▁entender': 4076, '▁compreend': 4077, '▁linguagem': 4078, '▁literally': 4079, '▁fotografia': 4080, '▁incredibly': 4081, 'oms': 4082, 'ote': 4083, 'ulho': 4084, 'ória': 4085, '▁rul': 4086, '▁tan': 4087, 'itter': 4088, 'róleo': 4089, '▁phil': 4090, '▁pint': 4091, '▁sand': 4092, '▁areas': 4093, '▁fotos': 4094, '▁levou': 4095, '▁motor': 4096, '▁prest': 4097, '▁integr': 4098, '▁average': 4099, '▁subject': 4100, '▁tivesse': 4101, '▁creating': 4102, '▁petróleo': 4103, '▁response': 4104, '▁security': 4105, '▁available': 4106, 'cri': 4107, 'orks': 4108, '▁jud': 4109, '▁sea': 4110, '▁tou': 4111, '▁unf': 4112, '▁uso': 4113, 'izing': 4114, '▁alta': 4115, '▁faço': 4116, '▁pior': 4117, '▁usam': 4118, 'ativos': 4119, '▁afast': 4120, '▁brilh': 4121, '▁enter': 4122, '▁techn': 4123, '▁worth': 4124, '▁wrote': 4125, '▁asking': 4126, '▁nobody': 4127, '▁computers': 4128, '▁fundament': 4129, 'aco': 4130, 'çar': 4131, 'ring': 4132, '▁adm': 4133, 'inhar': 4134, 'itude': 4135, 'pping': 4136, '▁ativ': 4137, '▁desp': 4138, '▁site': 4139, '▁soon': 4140, '▁email': 4141, '▁desper': 4142, '▁giving': 4143, '▁mostra': 4144, '▁instrum': 4145, '▁patient': 4146, '▁princíp': 4147, '▁continue': 4148, '▁cuidados': 4149, '▁obviously': 4150, '▁revolução': 4151, 'ety': 4152, 'more': 4153, '▁197': 4154, '▁300': 4155, '▁asp': 4156, '▁coz': 4157, '▁inj': 4158, 'stein': 4159, '▁auto': 4160, '▁cand': 4161, '▁pros': 4162, '▁pull': 4163, '▁surg': 4164, '▁webs': 4165, 'áticos': 4166, '▁adapt': 4167, '▁calif': 4168, '▁custo': 4169, '▁dimin': 4170, '▁issue': 4171, '▁ready': 4172, '▁tirar': 4173, '▁choice': 4174, '▁report': 4175, '▁sobrev': 4176, '▁concent': 4177, '▁doentes': 4178, '▁running': 4179, '▁sitting': 4180, '▁democracy': 4181, '▁situation': 4182, '▁societies': 4183, '▁sociedades': 4184, 'ég': 4185, 'cur': 4186, 'iqu': 4187, 'ênt': 4188, '▁ata': 4189, '▁bey': 4190, '▁dor': 4191, '▁led': 4192, '▁rod': 4193, 'eiros': 4194, 'ostos': 4195, '▁fair': 4196, '▁andar': 4197, '▁geral': 4198, '▁guess': 4199, '▁rapaz': 4200, '▁speed': 4201, '▁spent': 4202, '▁tenha': 4203, '▁descri': 4204, '▁divers': 4205, '▁miúdos': 4206, '▁poderá': 4207, '▁colabor': 4208, '▁further': 4209, '▁several': 4210, '▁famílias': 4211, '▁produtos': 4212, '▁discovered': 4213, 'gg': 4214, 'med': 4215, 'oto': 4216, '▁21': 4217, 'icle': 4218, 'ival': 4219, '▁ira': 4220, '▁sup': 4221, 'etros': 4222, 'itais': 4223, 'ology': 4224, '▁bons': 4225, '▁coun': 4226, '▁fire': 4227, '▁lanç': 4228, '▁rend': 4229, '▁trás': 4230, '▁caixa': 4231, '▁desse': 4232, '▁domin': 4233, '▁entus': 4234, '▁estab': 4235, '▁pedir': 4236, '▁sonho': 4237, 'ibility': 4238, '▁bottom': 4239, '▁engenh': 4240, '▁groups': 4241, '▁higher': 4242, '▁instru': 4243, '▁starts': 4244, '▁surviv': 4245, '▁compass': 4246, '▁coração': 4247, '▁microsc': 4248, '▁interior': 4249, '▁primeiros': 4250, '▁recentemente': 4251, 'atu': 4252, 'rón': 4253, '▁500': 4254, '▁ced': 4255, '▁eye': 4256, '▁kil': 4257, '▁pôr': 4258, 'astic': 4259, 'iação': 4260, 'izado': 4261, '▁acad': 4262, '▁corr': 4263, '▁efic': 4264, '▁molé': 4265, '▁role': 4266, 'ensive': 4267, '▁manhã': 4268, '▁miles': 4269, '▁accept': 4270, '▁beyond': 4271, '▁bigger': 4272, '▁confer': 4273, '▁device': 4274, '▁efeito': 4275, '▁espant': 4276, '▁return': 4277, '▁search': 4278, '▁tenham': 4279, 'velmente': 4280, '▁meaning': 4281, '▁médicos': 4282, '▁próxima': 4283, '▁writing': 4284, '▁escolher': 4285, '▁palestra': 4286, '▁podíamos': 4287, '▁specific': 4288, '▁buildings': 4289, '▁superfíci': 4290, '▁especially': 4291, '▁fantástico': 4292, '▁humanidade': 4293, '▁obviamente': 4294, '▁normalmente': 4295, 'ah': 4296, 'ema': 4297, 'head': 4298, '▁bed': 4299, '▁der': 4300, 'ensão': 4301, '▁logo': 4302, '▁meth': 4303, '▁reun': 4304, '▁stage': 4305, '▁terem': 4306, '▁concer': 4307, '▁likely': 4308, '▁proper': 4309, '▁comprar': 4310, '▁deliver': 4311, '▁freedom': 4312, '▁naquela': 4313, '▁reasons': 4314, '▁twitter': 4315, '▁conversa': 4316, '▁relações': 4317, '▁conseguia': 4318, '▁instituições': 4319, 'uf': 4320, 'iot': 4321, 'iça': 4322, 'eceu': 4323, 'pers': 4324, '▁mau': 4325, 'istão': 4326, '▁lond': 4327, '▁nice': 4328, '▁nine': 4329, '▁nout': 4330, '▁sold': 4331, '▁adoro': 4332, '▁receb': 4333, '▁correr': 4334, '▁regras': 4335, '▁ligação': 4336, '▁repente': 4337, '▁original': 4338, '▁programa': 4339, '▁recursos': 4340, '▁materiais': 4341, '▁democracia': 4342, 'zz': 4343, 'íg': 4344, 'lig': 4345, 'veu': 4346, 'amer': 4347, 'bios': 4348, 'ives': 4349, '▁mad': 4350, 'cient': 4351, 'duced': 4352, 'jamos': 4353, '▁ampl': 4354, '▁fica': 4355, '▁redu': 4356, '▁repl': 4357, '▁wish': 4358, 'adoras': 4359, '▁estat': 4360, '▁fomos': 4361, '▁infel': 4362, '▁sinal': 4363, '▁action': 4364, '▁democr': 4365, '▁instal': 4366, '▁perman': 4367, '▁sexual': 4368, '▁malária': 4369, '▁caracter': 4370, '▁cultural': 4371, '▁possamos': 4372, '▁procurar': 4373, '▁suddenly': 4374, '▁attention': 4375, '▁consciência': 4376, 'cula': 4377, 'iano': 4378, 'idão': 4379, '▁cry': 4380, '▁pig': 4381, '▁sam': 4382, '▁amea': 4383, '▁aval': 4384, '▁flow': 4385, '▁rema': 4386, 'ística': 4387, '▁esfor': 4388, '▁ficam': 4389, '▁respe': 4390, '▁costum': 4391, '▁descon': 4392, '▁errado': 4393, '▁razões': 4394, '▁showed': 4395, '▁suffer': 4396, '▁finding': 4397, '▁forward': 4398, '▁recuper': 4399, '▁relativ': 4400, '▁vivemos': 4401, '▁nacional': 4402, '▁networks': 4403, '▁classroom': 4404, '▁developing': 4405, '▁scientific': 4406, 'hor': 4407, 'ims': 4408, '▁hi': 4409, 'ards': 4410, 'icks': 4411, '▁lei': 4412, '▁vít': 4413, '▁core': 4414, '▁morn': 4415, '▁espal': 4416, '▁loved': 4417, '▁assust': 4418, '▁diminu': 4419, '▁includ': 4420, '▁jornal': 4421, '▁killed': 4422, '▁threat': 4423, '▁becomes': 4424, '▁chinese': 4425, '▁correct': 4426, '▁infeliz': 4427, '▁medical': 4428, '▁posição': 4429, '▁produce': 4430, '▁entusias': 4431, '▁esquerda': 4432, '▁produção': 4433, 'rivelmente': 4434, '▁superfície': 4435, '▁velocidade': 4436, '▁especialmente': 4437, 'gen': 4438, 'ámo': 4439, '▁ép': 4440, 'cção': 4441, '▁ann': 4442, '▁adol': 4443, '▁cook': 4444, '▁foto': 4445, '▁iran': 4446, '▁isol': 4447, 'minist': 4448, '▁cause': 4449, '▁cross': 4450, '▁diret': 4451, '▁glass': 4452, '▁hipót': 4453, '▁médio': 4454, '▁sítio': 4455, '▁tomar': 4456, '▁crimin': 4457, '▁except': 4458, '▁fabric': 4459, '▁notice': 4460, '▁account': 4461, '▁artific': 4462, '▁colleag': 4463, '▁concept': 4464, '▁modelos': 4465, '▁negócio': 4466, '▁surface': 4467, '▁progress': 4468, '▁institutions': 4469, 'cl': 4470, 'ms': 4471, 'áx': 4472, 'alo': 4473, 'bar': 4474, '▁ót': 4475, 'back': 4476, 'eces': 4477, 'iana': 4478, 'iant': 4479, 'inos': 4480, 'uros': 4481, '▁etc': 4482, '▁rid': 4483, 'ellig': 4484, '▁forn': 4485, '▁ther': 4486, '▁vill': 4487, '▁wait': 4488, '▁force': 4489, '▁knows': 4490, '▁média': 4491, '▁optim': 4492, '▁repet': 4493, '▁sinto': 4494, '▁table': 4495, '▁choose': 4496, '▁divert': 4497, '▁espera': 4498, '▁histor': 4499, '▁metros': 4500, '▁virtual': 4501, '▁transpar': 4502, '▁edifícios': 4503, '▁responder': 4504, 'bia': 4505, 'ery': 4506, 'uls': 4507, '▁cá': 4508, '▁deu': 4509, '▁jul': 4510, '▁pus': 4511, '▁ran': 4512, '▁sky': 4513, '▁aust': 4514, '▁chec': 4515, '▁east': 4516, '▁mapa': 4517, '▁safe': 4518, '▁vêem': 4519, '▁carre': 4520, '▁gives': 4521, '▁possa': 4522, '▁rules': 4523, '▁senti': 4524, '▁compon': 4525, '▁museum': 4526, '▁reform': 4527, '▁líderes': 4528, '▁morning': 4529, '▁perigos': 4530, '▁student': 4531, '▁conflict': 4532, '▁movement': 4533, '▁neighbor': 4534, '▁transfer': 4535, '▁connected': 4536, '▁poderíamos': 4537, 'eno': 4538, 'ify': 4539, '▁ein': 4540, '▁mét': 4541, '▁peg': 4542, 'óveis': 4543, '▁bord': 4544, '▁cara': 4545, '▁died': 4546, '▁emoc': 4547, '▁mart': 4548, '▁atmos': 4549, '▁casos': 4550, '▁efici': 4551, '▁engan': 4552, '▁livre': 4553, '▁ocean': 4554, '▁older': 4555, '▁surge': 4556, 'ológica': 4557, '▁bacter': 4558, '▁desejo': 4559, '▁morrer': 4560, '▁nervos': 4561, '▁origin': 4562, '▁photos': 4563, '▁propor': 4564, '▁remark': 4565, '▁shared': 4566, '▁source': 4567, '▁aquelas': 4568, '▁college': 4569, '▁consequ': 4570, '▁parecer': 4571, '▁einstein': 4572, '▁exemplos': 4573, '▁patterns': 4574, 'encialmente': 4575, 'eu': 4576, 'yn': 4577, '▁1,': 4578, '▁ju': 4579, '▁sn': 4580, 'itmo': 4581, 'riam': 4582, 'ério': 4583, '▁ful': 4584, '▁saf': 4585, '▁tas': 4586, 'ances': 4587, 'entei': 4588, 'issão': 4589, 'rease': 4590, '▁adop': 4591, '▁diag': 4592, '▁poll': 4593, '▁aplic': 4594, '▁aspet': 4595, '▁assum': 4596, '▁casas': 4597, '▁evolu': 4598, '▁excel': 4599, '▁falta': 4600, '▁forte': 4601, '▁massa': 4602, '▁meant': 4603, '▁partí': 4604, '▁peace': 4605, '▁prior': 4606, '▁touch': 4607, '▁transl': 4608, '▁usamos': 4609, '▁adolesc': 4610, '▁combust': 4611, '▁finance': 4612, '▁putting': 4613, '▁distribu': 4614, '▁families': 4615, '▁próprias': 4616, '▁innovation': 4617, '▁comunicação': 4618, '▁extraordinary': 4619, 'nel': 4620, 'tur': 4621, 'ised': 4622, '▁pin': 4623, '▁rot': 4624, '▁sac': 4625, '▁vós': 4626, 'lusão': 4627, '▁brin': 4628, '▁coop': 4629, '▁foot': 4630, '▁geor': 4631, '▁grew': 4632, '▁king': 4633, 'cional': 4634, 'izados': 4635, '▁achie': 4636, '▁ambos': 4637, '▁pagar': 4638, '▁plano': 4639, '▁reput': 4640, '▁vivem': 4641, '▁código': 4642, '▁debate': 4643, '▁detail': 4644, '▁entrop': 4645, '▁expans': 4646, '▁inglês': 4647, '▁please': 4648, '▁adicion': 4649, '▁estudar': 4650, '▁geração': 4651, '▁matéria': 4652, '▁negócios': 4653, '▁encontrei': 4654, '▁respostas': 4655, '▁conversation': 4656, 'gth': 4657, 'ids': 4658, 'ased': 4659, 'ills': 4660, 'iente': 4661, 'izada': 4662, '▁gala': 4663, '▁hall': 4664, '▁mine': 4665, '▁sell': 4666, '▁tare': 4667, '▁wife': 4668, 'ríveis': 4669, '▁ficou': 4670, '▁paris': 4671, '▁acordo': 4672, '▁analis': 4673, '▁crisis': 4674, '▁custos': 4675, '▁effici': 4676, '▁faster': 4677, '▁microb': 4678, '▁models': 4679, '▁rápido': 4680, '▁anybody': 4681, '▁assunto': 4682, '▁however': 4683, '▁instant': 4684, '▁largest': 4685, '▁showing': 4686, '▁televis': 4687, '▁qualidade': 4688, '▁photograph': 4689, '▁traditional': 4690, '▁frequentemente': 4691, 'cor': 4692, 'ood': 4693, 'vem': 4694, '▁mr': 4695, 'cher': 4696, 'elha': 4697, 'ners': 4698, 'rast': 4699, '▁bic': 4700, 'ellow': 4701, 'oming': 4702, '▁bank': 4703, '▁cant': 4704, '▁dram': 4705, '▁link': 4706, '▁perí': 4707, '▁pict': 4708, '▁topo': 4709, '▁veio': 4710, 'idores': 4711, '▁campa': 4712, '▁crise': 4713, '▁galax': 4714, '▁indic': 4715, '▁north': 4716, '▁porta': 4717, '▁prost': 4718, '▁teste': 4719, 'itation': 4720, '▁target': 4721, '▁thanks': 4722, '▁vulner': 4723, '▁escolha': 4724, '▁estudos': 4725, '▁percebi': 4726, '▁creative': 4727, '▁demonstr': 4728, '▁estranho': 4729, '▁favorite': 4730, '▁governos': 4731, '▁medicine': 4732, '▁pictures': 4733, '▁presente': 4734, '▁teaching': 4735, '▁thousand': 4736, '▁training': 4737, '▁designers': 4738, '▁evolution': 4739, '▁materials': 4740, '▁resources': 4741, '▁governments': 4742, '▁organização': 4743, '▁transformar': 4744, 'ley': 4745, 'oth': 4746, 'val': 4747, '▁dú': 4748, '▁km': 4749, '▁eis': 4750, '▁fit': 4751, '▁sle': 4752, '▁vas': 4753, 'uções': 4754, '▁2008': 4755, '▁atra': 4756, '▁door': 4757, '▁spir': 4758, '▁birth': 4759, '▁feita': 4760, '▁filme': 4761, '▁offic': 4762, '▁truly': 4763, '▁época': 4764, '▁americ': 4765, '▁chance': 4766, '▁commit': 4767, '▁immedi': 4768, '▁brother': 4769, '▁lembrar': 4770, '▁physics': 4771, '▁results': 4772, '▁totally': 4773, '▁exciting': 4774, '▁floresta': 4775, '▁projecto': 4776, '▁substitu': 4777, '▁compassion': 4778, '▁necessário': 4779, '▁comunidades': 4780, '▁perspective': 4781, '▁incrivelmente': 4782, 'ba': 4783, 'dio': 4784, 'off': 4785, 'énio': 4786, 'ónia': 4787, '▁gig': 4788, '▁mam': 4789, '▁tau': 4790, 'eless': 4791, '▁late': 4792, '▁quil': 4793, '▁rein': 4794, '▁skin': 4795, '▁divid': 4796, '▁marca': 4797, '▁notic': 4798, '▁perfe': 4799, '▁resta': 4800, '▁retir': 4801, '▁rever': 4802, '▁vimos': 4803, '▁applic': 4804, '▁doctor': 4805, '▁estive': 4806, '▁larger': 4807, '▁lembro': 4808, '▁perder': 4809, '▁screen': 4810, '▁anymore': 4811, '▁receber': 4812, '▁respect': 4813, '▁serviços': 4814, '▁potential': 4815, '▁somewhere': 4816, '▁electricity': 4817, 'bel': 4818, 'nal': 4819, 'erve': 4820, 'ocar': 4821, 'vida': 4822, '▁bás': 4823, '▁fis': 4824, '▁hur': 4825, '▁pun': 4826, 'esper': 4827, 'ingly': 4828, 'rible': 4829, '▁crít': 4830, '▁gest': 4831, '▁gold': 4832, '▁roll': 4833, '▁sons': 4834, '▁vivo': 4835, '▁moved': 4836, '▁afford': 4837, '▁desses': 4838, '▁unique': 4839, '▁vários': 4840, '▁towards': 4841, '▁written': 4842, '▁collabor': 4843, '▁decision': 4844, '▁designed': 4845, '▁inovação': 4846, '▁mudanças': 4847, '▁politics': 4848, '▁superior': 4849, '▁alimentar': 4850, '▁mosquitos': 4851, '▁generation': 4852, '▁communities': 4853, '▁architecture': 4854, '▁literalmente': 4855, 'sh': 4856, '.000': 4857, 'bble': 4858, 'ceis': 4859, 'isse': 4860, 'ouse': 4861, 'rico': 4862, 'work': 4863, '▁mel': 4864, '▁duma': 4865, '▁fech': 4866, '▁fuel': 4867, '▁game': 4868, '▁quad': 4869, '▁tiss': 4870, '▁aband': 4871, '▁brand': 4872, '▁categ': 4873, '▁lower': 4874, '▁serão': 4875, '▁varia': 4876, '▁vírus': 4877, 'icidade': 4878, '▁abaixo': 4879, '▁câmara': 4880, '▁decidi': 4881, '▁issues': 4882, '▁talked': 4883, '▁taught': 4884, 'itamente': 4885, '▁conceito': 4886, '▁evidence': 4887, '▁medicina': 4888, '▁transmit': 4889, '▁distância': 4890, '▁sobreviver': 4891, '▁individuals': 4892, '▁absolutamente': 4893, 'ua': 4894, 'time': 4895, '▁abo': 4896, '▁cic': 4897, '▁nar': 4898, '▁nav': 4899, '▁rev': 4900, 'érias': 4901, '▁amar': 4902, '▁perf': 4903, '▁sint': 4904, '▁traf': 4905, '▁trem': 4906, '▁aceit': 4907, '▁carne': 4908, '▁ultim': 4909, '▁aspect': 4910, '▁strugg': 4911, 'resentar': 4912, '▁acontec': 4913, '▁estrada': 4914, '▁prosper': 4915, '▁agricult': 4916, '▁aparecer': 4917, '▁continua': 4918, '▁edifício': 4919, '▁intellig': 4920, '▁maneiras': 4921, '▁position': 4922, '▁certainly': 4923, '▁verdadeira': 4924, '▁particularly': 4925, '▁relationships': 4926, 'bit': 4927, 'irm': 4928, 'iza': 4929, 'oph': 4930, 'via': 4931, 'ypt': 4932, 'ânt': 4933, '▁nu': 4934, 'enom': 4935, 'enso': 4936, 'ínio': 4937, 'ório': 4938, '▁beg': 4939, '▁bur': 4940, '▁ice': 4941, '▁vêm': 4942, 'verty': 4943, '▁arab': 4944, '▁jogo': 4945, 'itivos': 4946, '▁amost': 4947, '▁basic': 4948, '▁diver': 4949, '▁femin': 4950, '▁galáx': 4951, '▁preço': 4952, '▁quadr': 4953, '▁repro': 4954, '▁worse': 4955, '▁brains': 4956, '▁célula': 4957, '▁físico': 4958, '▁libert': 4959, '▁prison': 4960, '▁provid': 4961, '▁rights': 4962, '▁salvar': 4963, '▁allowed': 4964, '▁começam': 4965, '▁conserv': 4966, '▁gráfico': 4967, '▁importa': 4968, '▁malaria': 4969, '▁campaign': 4970, '▁examples': 4971, '▁practice': 4972, '▁próximos': 4973, '▁sensação': 4974, '▁marketing': 4975, '▁raparigas': 4976, '▁successful': 4977, '▁infelizmente': 4978, '▁investigação': 4979, 'fo': 4980, 'úr': 4981, '▁ep': 4982, 'guei': 4983, 'idro': 4984, 'ived': 4985, '▁bor': 4986, '▁eth': 4987, '▁fáb': 4988, '▁lic': 4989, '▁rar': 4990, '▁tun': 4991, '▁usa': 4992, 'odies': 4993, '▁bair': 4994, '▁cere': 4995, '▁cold': 4996, '▁drug': 4997, '▁erro': 4998, '▁paix': 4999, '▁rand': 5000, 'ultura': 5001, '▁abrir': 5002, '▁barre': 5003, '▁relev': 5004, '▁tumor': 5005, 'ísticas': 5006, '▁cadeia': 5007, '▁celebr': 5008, '▁cooper': 5009, '▁doente': 5010, '▁pieces': 5011, '▁abelhas': 5012, '▁compaix': 5013, '▁parecem': 5014, '▁poverty': 5015, '▁produto': 5016, '▁atravess': 5017, '▁biologia': 5018, '▁document': 5019, '▁humanity': 5020, '▁objetivo': 5021, '▁poderiam': 5022, '▁acreditar': 5023, '▁económico': 5024, '▁effective': 5025, 'rã': 5026, 'isf': 5027, '▁ór': 5028, 'ioso': 5029, '▁oxy': 5030, '▁rom': 5031, '▁tor': 5032, 'enced': 5033, 'stood': 5034, '▁drop': 5035, '▁page': 5036, '▁push': 5037, 'ground': 5038, 'utions': 5039, '▁costs': 5040, '▁cover': 5041, '▁daqui': 5042, '▁virus': 5043, '▁candid': 5044, '▁contex': 5045, '▁década': 5046, '▁employ': 5047, '▁mesmas': 5048, '▁method': 5049, '▁mobile': 5050, '▁policy': 5051, '▁quarto': 5052, '▁trazer': 5053, '▁african': 5054, '▁biology': 5055, '▁context': 5056, '▁equival': 5057, '▁esperar': 5058, '▁pobreza': 5059, '▁provide': 5060, '▁administ': 5061, '▁cidadãos': 5062, '▁conhecer': 5063, '▁cérebros': 5064, '▁sobreviv': 5065, '▁supposed': 5066, '▁compaixão': 5067, '▁aprendemos': 5068, '▁artificial': 5069, 'ik': 5070, 'ned': 5071, 'vão': 5072, 'áss': 5073, '▁1.': 5074, 'ches': 5075, 'iste': 5076, '▁ale': 5077, '▁tit': 5078, 'eness': 5079, 'istry': 5080, 'light': 5081, 'phone': 5082, 'usion': 5083, '▁2010': 5084, '▁plac': 5085, '▁graph': 5086, '▁memor': 5087, '▁mover': 5088, '▁offer': 5089, '▁regul': 5090, '▁shape': 5091, '▁suger': 5092, '▁trade': 5093, '▁aument': 5094, '▁chegou': 5095, '▁enviar': 5096, '▁launch': 5097, '▁office': 5098, '▁passou': 5099, '▁tecido': 5100, 'ificação': 5101, '▁traffic': 5102, '▁citizens': 5103, '▁evolução': 5104, '▁interpre': 5105, '▁produzir': 5106, '▁terceiro': 5107, '▁políticos': 5108, '▁complicated': 5109, 'ern': 5110, 'mes': 5111, 'son': 5112, 'tas': 5113, 'guas': 5114, 'ires': 5115, 'rees': 5116, '▁dau': 5117, '▁pul': 5118, '▁saí': 5119, '▁var': 5120, 'aging': 5121, '▁azul': 5122, '▁cria': 5123, '▁hair': 5124, '▁psic': 5125, '▁teen': 5126, '▁alive': 5127, '▁detal': 5128, '▁drugs': 5129, '▁egypt': 5130, '▁frank': 5131, '▁paral': 5132, '▁wants': 5133, '▁destro': 5134, '▁eficaz': 5135, '▁especí': 5136, '▁explos': 5137, '▁police': 5138, '▁surger': 5139, '▁vision': 5140, '▁abandon': 5141, '▁deveria': 5142, '▁reading': 5143, '▁restaur': 5144, '▁daughter': 5145, '▁military': 5146, 'aticamente': 5147, '▁abordagem': 5148, '▁funcionam': 5149, '▁construção': 5150, '▁exactamente': 5151, '▁organization': 5152, '▁imediatamente': 5153, 'att': 5154, 'des': 5155, 'ili': 5156, 'och': 5157, 'vey': 5158, 'umin': 5159, '▁194': 5160, '▁mit': 5161, '▁paz': 5162, '▁pil': 5163, '▁pir': 5164, '▁sad': 5165, 'ended': 5166, 'ricas': 5167, '▁atac': 5168, '▁copy': 5169, '▁ecrã': 5170, '▁fing': 5171, '▁flex': 5172, '▁onto': 5173, '▁ruas': 5174, '▁stri': 5175, '▁vest': 5176, 'feitos': 5177, '▁apply': 5178, '▁cases': 5179, '▁devia': 5180, '▁manip': 5181, '▁print': 5182, '▁simul': 5183, 'ilidade': 5184, '▁astron': 5185, '▁escolh': 5186, '▁gostar': 5187, '▁padrão': 5188, '▁parque': 5189, '▁clearly': 5190, '▁inteiro': 5191, '▁período': 5192, '▁quantos': 5193, '▁walking': 5194, '▁website': 5195, '▁function': 5196, '▁conscious': 5197, '▁universal': 5198, 'how': 5199, 'pan': 5200, 'sia': 5201, 'win': 5202, 'éis': 5203, '▁ah': 5204, 'ardo': 5205, 'come': 5206, 'utor': 5207, '▁afe': 5208, '▁bud': 5209, '▁cos': 5210, 'ficos': 5211, '▁2000': 5212, '▁anál': 5213, '▁coal': 5214, '▁cred': 5215, '▁feet': 5216, '▁peri': 5217, '▁emiss': 5218, '▁envel': 5219, '▁equil': 5220, '▁escut': 5221, '▁infin': 5222, '▁lista': 5223, '▁verde': 5224, '▁verão': 5225, 'rimento': 5226, '▁double': 5227, '▁feitos': 5228, '▁parede': 5229, '▁querer': 5230, '▁remind': 5231, '▁useful': 5232, 'american': 5233, '▁olharem': 5234, '▁reflect': 5235, '▁usually': 5236, '▁reconhec': 5237, '▁direction': 5238, '▁potencial': 5239, '▁certamente': 5240, '▁sentimento': 5241, '▁international': 5242, 'cr': 5243, 'emp': 5244, 'eth': 5245, 'nia': 5246, 'ode': 5247, 'vio': 5248, 'bage': 5249, 'eech': 5250, 'oura': 5251, '▁150': 5252, '▁chr': 5253, '▁mês': 5254, '▁veí': 5255, 'atory': 5256, 'dades': 5257, 'ramos': 5258, 'ânica': 5259, '▁afgh': 5260, '▁alem': 5261, '▁luck': 5262, '▁pele': 5263, '▁above': 5264, '▁acima': 5265, '▁avanç': 5266, '▁dance': 5267, '▁inici': 5268, '▁multi': 5269, '▁museu': 5270, 'ómetros': 5271, '▁branco': 5272, '▁corpor': 5273, '▁passei': 5274, '▁speech': 5275, '▁address': 5276, '▁regular': 5277, '▁tiveram': 5278, '▁árvores': 5279, '▁becoming': 5280, '▁diseases': 5281, '▁increase': 5282, '▁permitir': 5283, '▁standing': 5284, '▁president': 5285, '▁reconhecer': 5286, '▁tratamento': 5287, 'aw': 5288, '▁–': 5289, 'ceu': 5290, 'gon': 5291, 'riz': 5292, 'bert': 5293, 'deia': 5294, 'ench': 5295, 'gina': 5296, 'rupt': 5297, '▁ded': 5298, '▁gri': 5299, '▁gro': 5300, '▁ken': 5301, '▁rio': 5302, '▁scr': 5303, '▁tab': 5304, 'ander': 5305, 'ecção': 5306, 'urais': 5307, '▁2011': 5308, '▁bact': 5309, '▁enjo': 5310, '▁irmã': 5311, '▁moun': 5312, '▁nasc': 5313, '▁peix': 5314, '▁povo': 5315, '▁taxa': 5316, '▁vast': 5317, '▁baixa': 5318, '▁bread': 5319, '▁broad': 5320, '▁divis': 5321, '▁lines': 5322, '▁lutar': 5323, '▁palco': 5324, '▁sorte': 5325, 'ássemos': 5326, '▁allows': 5327, '▁camera': 5328, '▁fossem': 5329, '▁german': 5330, '▁milhão': 5331, '▁minute': 5332, '▁oceano': 5333, '▁poucos': 5334, '▁página': 5335, '▁random': 5336, '▁secund': 5337, '▁direita': 5338, '▁emprego': 5339, '▁pudesse': 5340, '▁pública': 5341, '▁scratch': 5342, '▁conduzir': 5343, '▁speaking': 5344, '▁straight': 5345, '▁character': 5346, '▁expensive': 5347, '▁listening': 5348, '▁recognize': 5349, '▁ultrapass': 5350, '▁connection': 5351, '▁documentos': 5352, '▁impression': 5353, '▁pensamento': 5354, '▁presidente': 5355, '▁experiences': 5356, 'uz': 5357, 'cha': 5358, 'ene': 5359, 'oid': 5360, 'ray': 5361, 'umb': 5362, 'orar': 5363, 'viam': 5364, '▁céu': 5365, '▁dad': 5366, '▁gás': 5367, '▁ham': 5368, '▁whe': 5369, 'anhas': 5370, 'erson': 5371, 'ified': 5372, 'ânico': 5373, '▁ecos': 5374, '▁fish': 5375, '▁gain': 5376, '▁kept': 5377, '▁nove': 5378, '▁vacc': 5379, 'cionar': 5380, 'ctions': 5381, 'iração': 5382, '▁fonte': 5383, '▁mista': 5384, '▁prazo': 5385, '▁radio': 5386, '▁range': 5387, '▁sendo': 5388, '▁veter': 5389, '▁artist': 5390, '▁coment': 5391, '▁helped': 5392, '▁points': 5393, '▁sinais': 5394, '▁decades': 5395, '▁degrees': 5396, '▁dificul': 5397, '▁direção': 5398, '▁genetic': 5399, '▁perspet': 5400, '▁quality': 5401, '▁radical': 5402, '▁washing': 5403, '▁complexo': 5404, '▁perguntei': 5405, '▁políticas': 5406, '▁partículas': 5407, '▁remarkable': 5408, '▁semelhante': 5409, '▁essentially': 5410, '▁necessidade': 5411, '▁verdadeiramente': 5412, '▁ber': 5413, '▁veh': 5414, 'estic': 5415, 'vosco': 5416, '▁band': 5417, '▁dign': 5418, '▁harm': 5419, '▁harv': 5420, '▁hero': 5421, '▁jobs': 5422, '▁leis': 5423, '▁lose': 5424, '▁muda': 5425, '▁pena': 5426, '▁peso': 5427, '▁vant': 5428, 'ending': 5429, '▁afect': 5430, '▁breat': 5431, '▁infra': 5432, '▁ligar': 5433, '▁sight': 5434, '▁sorts': 5435, '▁trees': 5436, 'alidade': 5437, '▁academ': 5438, '▁afghan': 5439, '▁period': 5440, '▁transp': 5441, '▁vossas': 5442, '▁artista': 5443, '▁contact': 5444, '▁journal': 5445, '▁matters': 5446, '▁monitor': 5447, '▁proteín': 5448, '▁prática': 5449, '▁regress': 5450, '▁smaller': 5451, '▁constitu': 5452, '▁contribu': 5453, '▁convosco': 5454, '▁involved': 5455, '▁products': 5456, '▁following': 5457, '▁understood': 5458, '▁extremamente': 5459, 'ub': 5460, 'got': 5461, 'osh': 5462, 'ulh': 5463, 'ager': 5464, 'fera': 5465, 'rado': 5466, 'tube': 5467, '▁fen': 5468, '▁lad': 5469, 'iados': 5470, '▁cast': 5471, '▁dorm': 5472, '▁host': 5473, '▁marc': 5474, '▁olho': 5475, '▁admit': 5476, '▁aulas': 5477, '▁chamo': 5478, '▁circu': 5479, '▁forem': 5480, '▁frase': 5481, '▁magic': 5482, '▁natur': 5483, '▁novel': 5484, '▁tells': 5485, '▁worry': 5486, '▁arquit': 5487, '▁bodies': 5488, '▁crispr': 5489, '▁cultiv': 5490, '▁descul': 5491, '▁juntar': 5492, '▁nestas': 5493, '▁tornam': 5494, '▁volume': 5495, '▁devices': 5496, '▁décadas': 5497, '▁himself': 5498, '▁knowing': 5499, '▁parecia': 5500, '▁polícia': 5501, '▁youtube': 5502, 'ibilidade': 5503, '▁observar': 5504, '▁unfortun': 5505, '▁condições': 5506, '▁entusiasm': 5507, '▁telemóvel': 5508, '▁indivíduos': 5509, 'fl': 5510, '▁ip': 5511, '▁ób': 5512, 'brem': 5513, 'elet': 5514, 'enda': 5515, 'like': 5516, '▁exh': 5517, '▁hop': 5518, '▁vib': 5519, 'resso': 5520, '▁bene': 5521, '▁bras': 5522, '▁fill': 5523, '▁frag': 5524, '▁hole': 5525, '▁intu': 5526, '▁poet': 5527, '▁silk': 5528, '▁tema': 5529, '▁board': 5530, '▁costa': 5531, '▁crime': 5532, '▁filha': 5533, '▁haiti': 5534, '▁horiz': 5535, '▁infer': 5536, '▁manuf': 5537, '▁shown': 5538, '▁sério': 5539, '▁tocar': 5540, 'acidade': 5541, '▁carvão': 5542, '▁conect': 5543, '▁depart': 5544, '▁explic': 5545, '▁propós': 5546, '▁região': 5547, '▁seguro': 5548, '▁square': 5549, '▁biliões': 5550, '▁debaixo': 5551, '▁decisão': 5552, '▁describ': 5553, '▁doctors': 5554, '▁driving': 5555, '▁efeitos': 5556, '▁improve': 5557, '▁massive': 5558, '▁membros': 5559, '▁memória': 5560, '▁village': 5561, '▁electron': 5562, '▁feedback': 5563, '▁including': 5564, '▁colleagues': 5565, '▁encontramos': 5566, '30': 5567, 'ila': 5568, 'ker': 5569, '▁75': 5570, '▁cí': 5571, '▁xx': 5572, 'imer': 5573, 'usão': 5574, '▁ade': 5575, '▁avi': 5576, '▁hus': 5577, '▁pis': 5578, '▁pés': 5579, '▁syn': 5580, '▁van': 5581, 'remos': 5582, 'right': 5583, '▁2009': 5584, '▁alar': 5585, '▁aleg': 5586, '▁beat': 5587, '▁cedo': 5588, '▁chão': 5589, '▁cord': 5590, '▁horm': 5591, '▁pack': 5592, '▁radi': 5593, '▁vont': 5594, '▁agrad': 5595, '▁bater': 5596, '▁curso': 5597, '▁diria': 5598, '▁meios': 5599, '▁nanop': 5600, '▁olhem': 5601, '▁photo': 5602, '▁aceler': 5603, '▁anyway': 5604, '▁chamar': 5605, '▁dispar': 5606, '▁gostam': 5607, '▁multip': 5608, '▁paixão': 5609, '▁phenom': 5610, '▁regist': 5611, '▁tempos': 5612, '▁contain': 5613, '▁content': 5614, '▁falamos': 5615, '▁insects': 5616, '▁vontade': 5617, 'atividade': 5618, '▁consegui': 5619, '▁depressa': 5620, '▁aplicação': 5621, '▁começamos': 5622, '▁financial': 5623, '▁passwords': 5624, '▁treatment': 5625, '▁descoberta': 5626, '▁impossível': 5627, '▁neighborhood': 5628, 'kn': 5629, 'hop': 5630, 'rew': 5631, 'amin': 5632, 'cola': 5633, 'orme': 5634, 'resp': 5635, 'upar': 5636, 'wise': 5637, 'éner': 5638, '▁quê': 5639, '▁spo': 5640, '▁ten': 5641, '▁vig': 5642, '▁viz': 5643, 'arily': 5644, 'nosco': 5645, 'orais': 5646, 'phere': 5647, '▁anat': 5648, '▁choc': 5649, '▁fala': 5650, '▁laws': 5651, '▁tido': 5652, '▁vive': 5653, '▁apple': 5654, '▁bitco': 5655, '▁cheap': 5656, '▁deixa': 5657, '▁erros': 5658, '▁gradu': 5659, '▁imped': 5660, '▁polar': 5661, '▁price': 5662, '▁simpl': 5663, '▁sleep': 5664, '▁stars': 5665, 'itution': 5666, '▁circul': 5667, '▁closer': 5668, '▁decide': 5669, '▁genome': 5670, '▁highly': 5671, '▁nearly': 5672, '▁propri': 5673, '▁region': 5674, '▁senhor': 5675, '▁spirit': 5676, '▁ancient': 5677, '▁concord': 5678, '▁poderão': 5679, '▁private': 5680, '▁protest': 5681, '▁somehow': 5682, '▁surgery': 5683, '▁vítimas': 5684, '▁connosco': 5685, '▁contexto': 5686, '▁critical': 5687, '▁mercados': 5688, '▁quiserem': 5689, '▁utilizar': 5690, '▁watching': 5691, '▁dangerous': 5692, '▁interesse': 5693, '▁challenges': 5694, '▁impossible': 5695, '▁verdadeiro': 5696, 'utu': 5697, 'ést': 5698, '▁om': 5699, 'band': 5700, 'pren': 5701, 'pção': 5702, 'tion': 5703, 'ópio': 5704, '▁pão': 5705, '▁rab': 5706, '▁tua': 5707, 'ético': 5708, '▁bees': 5709, '▁corn': 5710, '▁fest': 5711, '▁goal': 5712, '▁loss': 5713, '▁nerv': 5714, '▁seda': 5715, '▁trib': 5716, 'appear': 5717, 'estrut': 5718, 'istics': 5719, 'itário': 5720, '▁calor': 5721, '▁carry': 5722, '▁chave': 5723, '▁corte': 5724, '▁géner': 5725, '▁hotel': 5726, '▁serve': 5727, '▁usado': 5728, '▁physic': 5729, '▁sermos': 5730, '▁termin': 5731, '▁weight': 5732, '▁angeles': 5733, '▁conheci': 5734, '▁daquele': 5735, '▁espaços': 5736, '▁excited': 5737, '▁workers': 5738, 'ariamente': 5739, '▁complete': 5740, '▁decisões': 5741, '▁estrelas': 5742, '▁máquinas': 5743, '▁proteger': 5744, '▁religião': 5745, '▁services': 5746, '▁soluções': 5747, '▁production': 5748, '▁encontrámos': 5749, 'gra': 5750, 'vit': 5751, 'grad': 5752, 'inct': 5753, 'onia': 5754, 'vive': 5755, 'ália': 5756, '▁400': 5757, '▁cav': 5758, '▁gab': 5759, 'aixon': 5760, 'aling': 5761, 'aving': 5762, '▁afet': 5763, '▁bebé': 5764, '▁lack': 5765, '▁paid': 5766, '▁subs': 5767, '▁town': 5768, 'izadas': 5769, '▁apont': 5770, '▁check': 5771, '▁chega': 5772, '▁dança': 5773, '▁estás': 5774, '▁fenóm': 5775, '▁floor': 5776, '▁legal': 5777, '▁lider': 5778, '▁pensa': 5779, '▁raise': 5780, '▁stick': 5781, 'icional': 5782, '▁acabou': 5783, '▁devast': 5784, '▁effort': 5785, '▁factos': 5786, '▁female': 5787, '▁forget': 5788, '▁incent': 5789, '▁inevit': 5790, '▁intens': 5791, '▁nestes': 5792, '▁reserv': 5793, '▁slight': 5794, '▁comprom': 5795, '▁mention': 5796, '▁obvious': 5797, '▁quantas': 5798, '▁queriam': 5799, '▁streets': 5800, '▁survive': 5801, '▁valores': 5802, '▁victims': 5803, '▁bringing': 5804, '▁campanha': 5805, '▁greatest': 5806, '▁hipótese': 5807, '▁religion': 5808, '▁decidimos': 5809, '▁elementos': 5810, '▁invisible': 5811, '▁atualmente': 5812, '▁claramente': 5813, '▁washington': 5814, '▁immediately': 5815, '▁importância': 5816, '▁informações': 5817, '▁unfortunately': 5818, 'col': 5819, 'óst': 5820, 'ecut': 5821, 'eses': 5822, 'etro': 5823, 'raid': 5824, 'unci': 5825, '▁dav': 5826, '▁dir': 5827, '▁hey': 5828, '▁nor': 5829, '▁viu': 5830, 'itiva': 5831, '▁circ': 5832, '▁fash': 5833, '▁poup': 5834, '▁repe': 5835, '▁shad': 5836, '▁surr': 5837, '▁weap': 5838, '▁armas': 5839, '▁falam': 5840, '▁façam': 5841, '▁rural': 5842, '▁track': 5843, '▁viram': 5844, '▁afegan': 5845, '▁buraco': 5846, '▁conteú': 5847, '▁função': 5848, '▁ganhar': 5849, '▁george': 5850, '▁linhas': 5851, '▁master': 5852, '▁memory': 5853, '▁pedaço': 5854, '▁prisão': 5855, '▁recebe': 5856, '▁recent': 5857, '▁apaixon': 5858, '▁austral': 5859, '▁criação': 5860, '▁felizes': 5861, '▁illness': 5862, '▁waiting': 5863, '▁alcançar': 5864, '▁terceira': 5865, '▁tornaram': 5866, '▁emotional': 5867, '▁interface': 5868, '▁propósito': 5869, '▁conhecemos': 5870, '▁mechanical': 5871, '▁afeganistão': 5872, '60': 5873, '▁0': 5874, 'ils': 5875, 'tos': 5876, 'zhe': 5877, 'ball': 5878, 'ront': 5879, 'teis': 5880, 'used': 5881, '▁cál': 5882, '▁joy': 5883, '▁lin': 5884, '▁sir': 5885, '▁clin': 5886, '▁luta': 5887, '▁mark': 5888, '▁shap': 5889, '▁valu': 5890, '▁vent': 5891, '▁abund': 5892, '▁acham': 5893, '▁alzhe': 5894, '▁creio': 5895, '▁dizia': 5896, '▁incom': 5897, '▁lands': 5898, '▁negro': 5899, '▁sites': 5900, '▁troux': 5901, '▁virtu': 5902, '▁afraid': 5903, '▁disord': 5904, '▁gather': 5905, '▁genoma': 5906, '▁infant': 5907, '▁sequen': 5908, '▁tantas': 5909, '▁wealth': 5910, '▁criámos': 5911, '▁enfrent': 5912, '▁fashion': 5913, '▁objects': 5914, '▁oriente': 5915, '▁recover': 5916, '▁richard': 5917, '▁cirurgia': 5918, '▁explorar': 5919, '▁poderoso': 5920, '▁projects': 5921, '▁terrible': 5922, '▁alzheimer': 5923, '▁entrepren': 5924, '▁poderemos': 5925, '▁profission': 5926, '▁transporte': 5927, '▁communicate': 5928, '▁inteligente': 5929, '▁performance': 5930, '▁complexidade': 5931, '▁oportunidades': 5932, '▁possibilidade': 5933, '▁surpreendente': 5934, 'dom': 5935, 'lin': 5936, 'pro': 5937, '▁27': 5938, '▁bg': 5939, '▁pé': 5940, 'eign': 5941, 'hand': 5942, 'ping': 5943, 'segu': 5944, '▁cem': 5945, '▁dog': 5946, '▁les': 5947, '▁lua': 5948, 'legal': 5949, 'ystem': 5950, '▁abra': 5951, '▁espí': 5952, '▁fine': 5953, '▁mesa': 5954, '▁peça': 5955, '▁prém': 5956, '▁scan': 5957, '▁solo': 5958, '▁task': 5959, 'osição': 5960, '▁assem': 5961, '▁avoid': 5962, '▁chain': 5963, '▁click': 5964, '▁expon': 5965, '▁ritmo': 5966, '▁silên': 5967, 'ografia': 5968, '▁brings': 5969, '▁convin': 5970, '▁engage': 5971, '▁estrat': 5972, '▁proced': 5973, '▁riscos': 5974, '▁saving': 5975, '▁seemed': 5976, '▁sentem': 5977, '▁symbol': 5978, '▁terren': 5979, '▁francis': 5980, '▁anderson': 5981, '▁rapariga': 5982, '▁controlar': 5983, '▁disappear': 5984, '▁estivesse': 5985, '▁implement': 5986, '▁molecules': 5987, 'dimensional': 5988, '▁perspetiva': 5989, '▁afghanistan': 5990, '▁significado': 5991, '▁22': 5992, '▁ig': 5993, '▁lí': 5994, 'icha': 5995, 'ises': 5996, 'lier': 5997, 'ored': 5998, 'term': 5999, '▁bul': 6000, '▁qui': 6001, '▁órg': 6002, 'bling': 6003, 'ising': 6004, 'queza': 6005, '▁burn': 6006, '▁dipl': 6007, '▁dito': 6008, '▁fogo': 6009, '▁keny': 6010, '▁trip': 6011, 'elling': 6012, 'rastru': 6013, '▁apoio': 6014, '▁canad': 6015, '▁cloud': 6016, '▁equal': 6017, '▁japan': 6018, '▁noise': 6019, '▁oppos': 6020, '▁reino': 6021, '▁shift': 6022, '▁waste': 6023, '▁aprove': 6024, '▁beings': 6025, '▁decade': 6026, '▁desemp': 6027, '▁género': 6028, '▁letter': 6029, '▁tempor': 6030, '▁testem': 6031, '▁aumento': 6032, '▁empower': 6033, '▁farmers': 6034, '▁greater': 6035, '▁markets': 6036, '▁members': 6037, '▁playing': 6038, '▁quantum': 6039, '▁química': 6040, '▁service': 6041, '▁stopped': 6042, '▁chemical': 6043, '▁diagnost': 6044, '▁estratég': 6045, '▁momentos': 6046, '▁painting': 6047, '▁estiverem': 6048, '▁incluindo': 6049, '▁infrastru': 6050, '▁moléculas': 6051, '▁queríamos': 6052, '▁conditions': 6053, '▁construímos': 6054, '▁quilómetros': 6055, '▁professional': 6056, '▁communication': 6057, '▁interessantes': 6058, '▁trabalhadores': 6059, '▁particularmente': 6060, 'iat': 6061, 'uge': 6062, '▁23': 6063, '▁wk': 6064, 'ulos': 6065, 'íram': 6066, '▁chu': 6067, '▁emo': 6068, '▁olá': 6069, '▁sap': 6070, 'elesc': 6071, 'iosos': 6072, 'ricos': 6073, '▁coca': 6074, '▁merg': 6075, '▁morr': 6076, '▁plat': 6077, '▁ahead': 6078, '▁carta': 6079, '▁grave': 6080, '▁pares': 6081, '▁smell': 6082, '▁vindo': 6083, '▁contem': 6084, '▁easier': 6085, '▁injust': 6086, '▁philos': 6087, '▁sentia': 6088, '▁telesc': 6089, '▁versão': 6090, 'acionais': 6091, 'ological': 6092, '▁earlier': 6093, '▁estabel': 6094, '▁gostava': 6095, '▁strange': 6096, '▁strateg': 6097, '▁epidemic': 6098, '▁permitem': 6099, '▁segundos': 6100, '▁mensagens': 6101, '▁solutions': 6102, '▁tradicion': 6103, '▁diferenças': 6104, '▁felicidade': 6105, '▁investment': 6106, '▁inteligência': 6107, 'fas': 6108, 'jas': 6109, 'put': 6110, 'berg': 6111, 'ceed': 6112, 'cipl': 6113, 'cito': 6114, 'rest': 6115, '▁bio': 6116, '▁bos': 6117, '▁cla': 6118, '▁daí': 6119, '▁dão': 6120, '▁mix': 6121, '▁roc': 6122, '▁vit': 6123, 'ropri': 6124, '▁barb': 6125, '▁exig': 6126, '▁held': 6127, '▁hell': 6128, '▁ocor': 6129, '▁rock': 6130, '▁shop': 6131, '▁útil': 6132, 'ishing': 6133, '▁acres': 6134, '▁desej': 6135, '▁famos': 6136, '▁forms': 6137, '▁fully': 6138, '▁mecan': 6139, '▁possu': 6140, '▁previ': 6141, '▁usada': 6142, 'ometers': 6143, '▁aspeto': 6144, '▁certas': 6145, '▁começo': 6146, '▁determ': 6147, '▁esteja': 6148, '▁níveis': 6149, '▁series': 6150, '▁struct': 6151, '▁teriam': 6152, '▁tratar': 6153, 'fortable': 6154, '▁contudo': 6155, '▁enormes': 6156, '▁failure': 6157, '▁insight': 6158, '▁justiça': 6159, '▁línguas': 6160, '▁sharing': 6161, '▁bacteria': 6162, '▁silêncio': 6163, '▁encontram': 6164, '▁extremely': 6165, '▁otherwise': 6166, '▁princípio': 6167, '▁therefore': 6168, '▁throughout': 6169, '▁experiments': 6170, '▁sustainable': 6171, 'han': 6172, 'hos': 6173, 'pot': 6174, 'pto': 6175, 'zil': 6176, '▁2.': 6177, 'esia': 6178, 'ifer': 6179, 'imed': 6180, 'ogos': 6181, 'omer': 6182, 'onal': 6183, '▁abr': 6184, '▁lie': 6185, '▁swe': 6186, '▁tap': 6187, 'astre': 6188, '▁agir': 6189, '▁beet': 6190, '▁cole': 6191, '▁cong': 6192, '▁desl': 6193, '▁gram': 6194, '▁jard': 6195, '▁obst': 6196, '▁rise': 6197, '▁absor': 6198, '▁altru': 6199, '▁batal': 6200, '▁embra': 6201, '▁frame': 6202, '▁ideal': 6203, '▁manus': 6204, '▁minds': 6205, '▁notas': 6206, '▁peças': 6207, '▁resid': 6208, 'atórios': 6209, 'entação': 6210, 'iamente': 6211, '▁afinal': 6212, '▁belief': 6213, '▁driver': 6214, '▁frustr': 6215, '▁garant': 6216, '▁mostly': 6217, '▁poucas': 6218, '▁requer': 6219, '▁skills': 6220, 'ossistem': 6221, '▁answers': 6222, '▁babbage': 6223, '▁corresp': 6224, '▁extreme': 6225, '▁fazerem': 6226, '▁focused': 6227, '▁humanas': 6228, '▁noticed': 6229, '▁opinião': 6230, '▁pensava': 6231, '▁willing': 6232, '▁arquitet': 6233, '▁difíceis': 6234, '▁encontra': 6235, '▁exterior': 6236, '▁galáxias': 6237, '▁insectos': 6238, '▁pressure': 6239, '▁respeito': 6240, '▁testemun': 6241, '▁conseguiu': 6242, '▁expressão': 6243, '▁estruturas': 6244, '▁surprising': 6245, '▁criatividade': 6246, '▁medicamentos': 6247, '▁profissionais': 6248, 'eda': 6249, 'ees': 6250, 'fia': 6251, '▁ni': 6252, '▁zo': 6253, 'ding': 6254, 'gens': 6255, 'igma': 6256, '▁jew': 6257, '▁sen': 6258, 'alled': 6259, '▁acas': 6260, '▁anti': 6261, '▁clín': 6262, '▁exér': 6263, '▁glac': 6264, '▁glob': 6265, '▁male': 6266, '▁moon': 6267, '▁obes': 6268, '▁shot': 6269, '▁tree': 6270, '▁trop': 6271, '▁zona': 6272, 'iction': 6273, '▁brown': 6274, '▁enjoy': 6275, '▁nobel': 6276, '▁plane': 6277, '▁prove': 6278, '▁sorry': 6279, '▁spect': 6280, '▁store': 6281, '▁tanta': 6282, '▁tough': 6283, 'ination': 6284, '▁aldeia': 6285, '▁anatom': 6286, '▁appear': 6287, '▁author': 6288, '▁barato': 6289, '▁bocado': 6290, '▁brazil': 6291, '▁bridge': 6292, '▁broken': 6293, '▁christ': 6294, '▁convid': 6295, '▁forças': 6296, '▁implic': 6297, '▁éramos': 6298, '▁brincar': 6299, '▁effects': 6300, '▁encoura': 6301, '▁financi': 6302, '▁healthy': 6303, '▁helping': 6304, '▁reparem': 6305, '▁desafios': 6306, '▁encontro': 6307, '▁perfeito': 6308, '▁setembro': 6309, '▁depressão': 6310, '▁ecosystem': 6311, '▁particles': 6312, '▁complexity': 6313, '▁ferramenta': 6314, '▁protection': 6315, '▁investimento': 6316, '▁infrastructure': 6317, 'ún': 6318, 'ota': 6319, 'oty': 6320, 'cest': 6321, 'etes': 6322, 'kers': 6323, 'rava': 6324, 'ídos': 6325, '▁cen': 6326, '▁ram': 6327, 'ismos': 6328, 'ounds': 6329, 'rious': 6330, 'worth': 6331, '▁chim': 6332, '▁dado': 6333, '▁gelo': 6334, '▁impr': 6335, '▁imun': 6336, '▁leon': 6337, '▁prem': 6338, '▁puzz': 6339, '▁quin': 6340, 'acular': 6341, 'âncias': 6342, '▁armaz': 6343, '▁compl': 6344, '▁deser': 6345, '▁james': 6346, '▁laugh': 6347, '▁named': 6348, '▁occur': 6349, '▁perda': 6350, '▁proto': 6351, '▁trend': 6352, '▁deixou': 6353, '▁dentes': 6354, '▁easily': 6355, '▁evitar': 6356, '▁idosos': 6357, '▁inclus': 6358, '▁lesson': 6359, '▁myster': 6360, '▁negros': 6361, '▁origem': 6362, '▁propag': 6363, '▁review': 6364, '▁select': 6365, '▁spaces': 6366, '▁strang': 6367, '▁switch': 6368, '▁tissue': 6369, '▁buracos': 6370, '▁esforço': 6371, '▁harvard': 6372, '▁introdu': 6373, '▁nervous': 6374, '▁politic': 6375, '▁algorith': 6376, '▁confront': 6377, '▁conselho': 6378, '▁olharmos': 6379, '▁standard': 6380, '▁terminar': 6381, '▁condition': 6382, '▁contribut': 6383, '▁florestas': 6384, '▁francisco': 6385, '▁interessa': 6386, '▁programas': 6387, '▁scientist': 6388, '▁desaparecer': 6389, '▁mathematics': 6390, 'deu': 6391, 'emo': 6392, 'athy': 6393, 'eder': 6394, 'ivel': 6395, 'rabe': 6396, 'rows': 6397, 'çado': 6398, '▁dol': 6399, '▁fug': 6400, '▁gut': 6401, '▁pré': 6402, '▁sms': 6403, '▁won': 6404, 'anhos': 6405, 'ficas': 6406, '▁alth': 6407, '▁bola': 6408, '▁cure': 6409, '▁heav': 6410, '▁legs': 6411, '▁tecn': 6412, 'ements': 6413, 'vement': 6414, '▁areia': 6415, '▁birds': 6416, '▁bunch': 6417, '▁cores': 6418, '▁dirig': 6419, '▁faith': 6420, '▁matar': 6421, '▁match': 6422, '▁medir': 6423, '▁nutri': 6424, '▁ratos': 6425, '▁renov': 6426, '▁risks': 6427, '▁trill': 6428, '▁árabe': 6429, '▁analog': 6430, '▁ancest': 6431, '▁beauty': 6432, '▁beleza': 6433, '▁brasil': 6434, '▁degree': 6435, '▁escond': 6436, '▁habitu': 6437, '▁meters': 6438, '▁parado': 6439, '▁desperd': 6440, '▁husband': 6441, '▁require': 6442, '▁western': 6443, '▁although': 6444, '▁artistas': 6445, '▁californ': 6446, '▁devíamos': 6447, '▁directly': 6448, '▁espírito': 6449, '▁estradas': 6450, '▁exército': 6451, '▁machines': 6452, '▁molecular': 6453, '▁tendência': 6454, '▁considerar': 6455, '▁creativity': 6456, '▁geralmente': 6457, '▁inteligentes': 6458, '▁$': 6459, '▁ii': 6460, 'iter': 6461, 'undo': 6462, '▁lav': 6463, '▁tes': 6464, '▁teu': 6465, 'organ': 6466, '▁exce': 6467, '▁hack': 6468, '▁heat': 6469, '▁migr': 6470, '▁pair': 6471, '▁paul': 6472, '▁prev': 6473, '▁wide': 6474, '▁wood': 6475, 'eladas': 6476, 'itação': 6477, '▁acomp': 6478, '▁comet': 6479, '▁delic': 6480, '▁espac': 6481, '▁exerc': 6482, '▁feels': 6483, '▁imens': 6484, '▁river': 6485, '▁tendo': 6486, '▁trein': 6487, '▁velho': 6488, '▁ótimo': 6489, '▁blocks': 6490, '▁conclu': 6491, '▁entrev': 6492, '▁fortes': 6493, '▁income': 6494, '▁iremos': 6495, '▁minuto': 6496, '▁objeto': 6497, '▁previs': 6498, '▁quente': 6499, '▁sister': 6500, '▁traduz': 6501, '▁análise': 6502, '▁aspecto': 6503, '▁despite': 6504, '▁estrela': 6505, '▁holding': 6506, '▁teremos': 6507, '▁anywhere': 6508, '▁believed': 6509, '▁conflito': 6510, '▁conhecem': 6511, '▁envelhec': 6512, '▁epidemia': 6513, '▁european': 6514, '▁multiple': 6515, '▁phenomen': 6516, '▁positive': 6517, '▁possibly': 6518, '▁provável': 6519, '▁públicos': 6520, '▁sentimos': 6521, '▁slightly': 6522, '▁surround': 6523, '▁tivessem': 6524, '▁audiência': 6525, '▁enfrentar': 6526, '▁incríveis': 6527, '▁interview': 6528, '▁precisava': 6529, '▁científica': 6530, '▁entreprene': 6531, '▁sentimentos': 6532, '▁organizações': 6533, '▁eventualmente': 6534, '▁essencialmente': 6535, 'fi': 6536, 'ky': 6537, 'rá': 6538, 'sc': 6539, 'íss': 6540, '▁35': 6541, '▁gh': 6542, 'bram': 6543, 'hern': 6544, 'irei': 6545, '▁atl': 6546, '▁bag': 6547, '▁dot': 6548, '▁jer': 6549, '▁jun': 6550, '▁wit': 6551, 'anced': 6552, 'icais': 6553, 'print': 6554, 'ulate': 6555, '▁abst': 6556, '▁biom': 6557, '▁brut': 6558, '▁lixo': 6559, '▁nave': 6560, '▁reve': 6561, '▁uses': 6562, 'aturas': 6563, 'itária': 6564, 'rength': 6565, '▁acess': 6566, '▁alien': 6567, '▁daily': 6568, '▁drink': 6569, '▁entra': 6570, '▁holes': 6571, '▁micró': 6572, '▁pront': 6573, '▁reais': 6574, '▁slide': 6575, '▁train': 6576, '▁trial': 6577, '▁types': 6578, 'agement': 6579, '▁antiga': 6580, '▁begins': 6581, '▁career': 6582, '▁comuns': 6583, '▁encora': 6584, '▁landsc': 6585, '▁método': 6586, '▁ouvido': 6587, '▁spider': 6588, '▁sítios': 6589, '▁volunt': 6590, 'ológicos': 6591, '▁artists': 6592, '▁counter': 6593, '▁cuidado': 6594, '▁depende': 6595, '▁forever': 6596, '▁pressão': 6597, '▁elements': 6598, '▁feelings': 6599, '▁strength': 6600, '▁comunicar': 6601, '▁excelente': 6602, '▁fantastic': 6603, '▁preocupar': 6604, '▁apresentar': 6605, '▁california': 6606, '▁differently': 6607, '▁dispositivo': 6608, '▁individuais': 6609, '▁significant': 6610, '▁adolescentes': 6611, '▁responsibility': 6612, 'hi': 6613, 'aff': 6614, 'bos': 6615, 'met': 6616, 'seg': 6617, '▁eh': 6618, '▁ug': 6619, '▁és': 6620, 'ania': 6621, 'atia': 6622, 'onom': 6623, 'urso': 6624, 'édia': 6625, '▁fós': 6626, '▁hem': 6627, '▁toc': 6628, '▁usá': 6629, 'idden': 6630, 'iling': 6631, 'ocina': 6632, 'omers': 6633, '▁arri': 6634, '▁doub': 6635, '▁elét': 6636, '▁fome': 6637, '▁mold': 6638, '▁none': 6639, '▁sara': 6640, '▁sick': 6641, '▁upon': 6642, '▁voar': 6643, '▁abert': 6644, '▁below': 6645, '▁canal': 6646, '▁colon': 6647, '▁eleph': 6648, '▁espet': 6649, '▁longa': 6650, '▁ordem': 6651, '▁toile': 6652, '▁vento': 6653, '▁aberto': 6654, '▁amazon': 6655, '▁contas': 6656, '▁desist': 6657, '▁elimin': 6658, '▁obsess': 6659, '▁plants': 6660, '▁produc': 6661, '▁rápida': 6662, '▁satisf': 6663, '▁secure': 6664, '▁summer': 6665, '▁tantos': 6666, '▁thomas': 6667, '▁alterar': 6668, '▁barulho': 6669, '▁consumo': 6670, '▁creates': 6671, '▁escrita': 6672, '▁ficaram': 6673, '▁foreign': 6674, '▁justice': 6675, '▁musical': 6676, '▁pretend': 6677, '▁riqueza': 6678, '▁seconds': 6679, '▁serviço': 6680, '▁studies': 6681, '▁surpres': 6682, '▁turning': 6683, '▁version': 6684, '▁capacity': 6685, '▁fenómeno': 6686, '▁formação': 6687, '▁mountain': 6688, '▁proteção': 6689, '▁surprise': 6690, '▁terrível': 6691, '▁descrever': 6692, '▁necessary': 6693, '▁primeiras': 6694, '▁trabalhos': 6695, '▁ecossistem': 6696, '▁kilometers': 6697, '▁principais': 6698, '▁fotografias': 6699, '▁importantly': 6700, '▁agricultores': 6701, '▁organizations': 6702, '▁suficientemente': 6703, 'ee': 6704, 'ka': 6705, 'ns': 6706, 'esa': 6707, 'esh': 6708, 'iel': 6709, 'rir': 6710, 'âng': 6711, '▁pm': 6712, '▁vá': 6713, 'agir': 6714, 'iger': 6715, 'irar': 6716, 'urar': 6717, 'xico': 6718, '▁cír': 6719, '▁mid': 6720, '▁más': 6721, '▁sím': 6722, '▁urg': 6723, '▁vag': 6724, '▁vaz': 6725, 'cking': 6726, 'iosas': 6727, 'point': 6728, '▁army': 6729, '▁cren': 6730, '▁devo': 6731, '▁dots': 6732, '▁edge': 6733, '▁gard': 6734, '▁meia': 6735, '▁vert': 6736, '▁wild': 6737, 'edores': 6738, '▁agree': 6739, '▁banco': 6740, '▁cardí': 6741, '▁condu': 6742, '▁dedic': 6743, '▁flutu': 6744, '▁forth': 6745, '▁gratu': 6746, '▁graus': 6747, '▁lição': 6748, '▁quart': 6749, '▁quânt': 6750, '▁recom': 6751, '▁redor': 6752, '▁wheel': 6753, 'enciais': 6754, '▁bubble': 6755, '▁desert': 6756, '▁flores': 6757, '▁iphone': 6758, '▁lights': 6759, '▁marido': 6760, '▁pernas': 6761, '▁poupar': 6762, '▁robots': 6763, '▁segred': 6764, '▁sensor': 6765, '▁tarefa': 6766, '▁therap': 6767, '▁values': 6768, '▁versus': 6769, '▁vídeos': 6770, '▁algures': 6771, '▁aperceb': 6772, '▁bitcoin': 6773, '▁british': 6774, '▁cheguei': 6775, '▁chimpan': 6776, '▁consist': 6777, '▁crucial': 6778, '▁current': 6779, '▁daquela': 6780, '▁fazendo': 6781, '▁fábrica': 6782, '▁notícia': 6783, '▁affected': 6784, '▁eleições': 6785, '▁escreveu': 6786, '▁everyday': 6787, '▁poderosa': 6788, '▁técnicas': 6789, '▁acreditam': 6790, '▁brilhante': 6791, '▁happiness': 6792, '▁languages': 6793, '▁disponível': 6794, '▁felizmente': 6795, '▁representa': 6796, '▁compreensão': 6797, '▁maravilhoso': 6798, '▁responsável': 6799, '▁internacional': 6800, 'aus': 6801, 'cip': 6802, 'roz': 6803, 'vam': 6804, 'ães': 6805, '▁kg': 6806, 'amic': 6807, 'anta': 6808, 'atar': 6809, 'eper': 6810, 'énia': 6811, '▁dei': 6812, '▁dry': 6813, '▁hiv': 6814, '▁rat': 6815, '▁tij': 6816, 'aking': 6817, 'aster': 6818, 'ianos': 6819, 'iares': 6820, 'inson': 6821, 'rific': 6822, '▁2012': 6823, '▁alex': 6824, '▁estú': 6825, '▁fixe': 6826, '▁infl': 6827, '▁ocup': 6828, '▁russ': 6829, '▁shel': 6830, '▁ship': 6831, '▁susp': 6832, '▁thri': 6833, 'atives': 6834, '▁basis': 6835, '▁busca': 6836, '▁cards': 6837, '▁cheia': 6838, '▁chuva': 6839, '▁clust': 6840, '▁demor': 6841, '▁displ': 6842, '▁imper': 6843, '▁irmão': 6844, '▁lados': 6845, '▁luzes': 6846, '▁march': 6847, '▁menor': 6848, '▁morre': 6849, '▁plata': 6850, '▁secre': 6851, '▁vozes': 6852, '▁whose': 6853, 'idental': 6854, 'ividade': 6855, '▁10,000': 6856, '▁accord': 6857, '▁antigo': 6858, '▁cabelo': 6859, '▁commer': 6860, '▁config': 6861, '▁drogas': 6862, '▁errada': 6863, '▁famous': 6864, '▁fossil': 6865, '▁graças': 6866, '▁intest': 6867, '▁levels': 6868, '▁london': 6869, '▁microf': 6870, '▁médica': 6871, '▁nation': 6872, '▁pertur': 6873, '▁sabiam': 6874, '▁slowly': 6875, '▁walked': 6876, '▁aceitar': 6877, '▁escrito': 6878, '▁evolved': 6879, '▁hearing': 6880, '▁studied': 6881, '▁unidade': 6882, '▁analisar': 6883, '▁carreira': 6884, '▁describe': 6885, '▁instance': 6886, '▁invented': 6887, '▁microbes': 6888, '▁opposite': 6889, '▁precisão': 6890, '▁received': 6891, '▁teríamos': 6892, '▁vermelho': 6893, '▁chemistry': 6894, '▁cientista': 6895, '▁companhia': 6896, '▁conhecido': 6897, '▁construct': 6898, '▁essential': 6899, '▁interpret': 6900, '▁pacientes': 6901, '▁televisão': 6902, '▁background': 6903, '▁depression': 6904, '▁imaginação': 6905, '▁combustível': 6906, '▁engineering': 6907, '▁sustentável': 6908, '▁conseguirmos': 6909, ',5': 6910, 'bur': 6911, 'eca': 6912, '▁sí': 6913, 'ancy': 6914, 'aper': 6915, 'apor': 6916, 'edor': 6917, 'ered': 6918, 'estr': 6919, 'ests': 6920, 'pose': 6921, 'ídas': 6922, '▁caf': 6923, '▁due': 6924, '▁rig': 6925, 'ecido': 6926, 'icles': 6927, 'tocin': 6928, 'tured': 6929, 'órnia': 6930, '▁agar': 6931, '▁bear': 6932, '▁culp': 6933, '▁faça': 6934, '▁gras': 6935, '▁moda': 6936, '▁rout': 6937, '▁terá': 6938, '▁acaso': 6939, '▁adequ': 6940, '▁decor': 6941, '▁facul': 6942, '▁gates': 6943, '▁integ': 6944, '▁kenya': 6945, '▁mouth': 6946, '▁noção': 6947, '▁quiet': 6948, '▁robôs': 6949, '▁salas': 6950, '▁solid': 6951, '▁talib': 6952, '▁terão': 6953, '▁trick': 6954, '▁tuber': 6955, '▁twice': 6956, '▁walls': 6957, 'ológico': 6958, '▁acabei': 6959, '▁ataque': 6960, '▁defici': 6961, '▁detrás': 6962, '▁deviam': 6963, '▁discut': 6964, '▁electr': 6965, '▁execut': 6966, '▁feitas': 6967, '▁gender': 6968, '▁harder': 6969, '▁leaves': 6970, '▁manage': 6971, '▁missão': 6972, '▁prazer': 6973, '▁recomp': 6974, '▁testar': 6975, '▁transm': 6976, '▁voltei': 6977, '▁aumenta': 6978, '▁cadeira': 6979, '▁choices': 6980, '▁destroy': 6981, '▁diagnos': 6982, '▁emocion': 6983, '▁exercis': 6984, '▁leading': 6985, '▁lembrem': 6986, '▁letters': 6987, '▁mission': 6988, '▁ouvimos': 6989, '▁plantas': 6990, '▁recente': 6991, '▁reduzir': 6992, '▁terreno': 6993, '▁vacinas': 6994, '▁accident': 6995, '▁argument': 6996, '▁conteúdo': 6997, '▁direcção': 6998, '▁empreend': 6999, '▁enormous': 7000, '▁escolhas': 7001, '▁manufact': 7002, '▁oxytocin': 7003, '▁precisar': 7004, '▁profunda': 7005, '▁sentence': 7006, '▁bactérias': 7007, '▁decisions': 7008, '▁essencial': 7009, '▁micróbios': 7010, '▁califórnia': 7011, '▁foundation': 7012, '▁identidade': 7013, '▁temperatura': 7014, '▁temperature': 7015, '▁intelligence': 7016, '▁consciousness': 7017, 'eo': 7018, 'yl': 7019, 'íb': 7020, 'alk': 7021, 'ami': 7022, '▁mc': 7023, '▁ss': 7024, 'erei': 7025, 'ient': 7026, 'iles': 7027, 'iosa': 7028, 'isms': 7029, 'roph': 7030, 'ídio': 7031, '▁agu': 7032, '▁avó': 7033, '▁dyn': 7034, '▁gor': 7035, '▁rei': 7036, '▁wid': 7037, 'cript': 7038, 'ester': 7039, 'ginas': 7040, 'issem': 7041, 'itado': 7042, 'opard': 7043, 'oting': 7044, 'órias': 7045, '▁2050': 7046, '▁crow': 7047, '▁cura': 7048, '▁gall': 7049, '▁hate': 7050, '▁indo': 7051, '▁iron': 7052, '▁julg': 7053, '▁oxit': 7054, '▁rato': 7055, '▁soil': 7056, '▁tons': 7057, '▁trag': 7058, '▁uber': 7059, '▁vote': 7060, '▁whom': 7061, 'atures': 7062, 'uração': 7063, '▁aware': 7064, '▁bebés': 7065, '▁brill': 7066, '▁clara': 7067, '▁damos': 7068, '▁david': 7069, '▁ended': 7070, '▁error': 7071, '▁euros': 7072, '▁facts': 7073, '▁magia': 7074, '▁pleas': 7075, '▁renew': 7076, '▁vidro': 7077, '▁worst': 7078, 'ionally': 7079, 'itarian': 7080, '▁bright': 7081, '▁caught': 7082, '▁certos': 7083, '▁desire': 7084, '▁limite': 7085, '▁ocorre': 7086, '▁passam': 7087, '▁perigo': 7088, '▁pronto': 7089, '▁puzzle': 7090, '▁raised': 7091, '▁seriam': 7092, '▁símbol': 7093, '▁treino': 7094, '▁yellow': 7095, '▁curious': 7096, '▁dezenas': 7097, '▁normais': 7098, '▁obtemos': 7099, '▁prevent': 7100, '▁privacy': 7101, '▁purpose': 7102, '▁anterior': 7103, '▁benefits': 7104, '▁chegámos': 7105, '▁defender': 7106, '▁galaxies': 7107, '▁gostamos': 7108, '▁inspired': 7109, '▁interven': 7110, '▁leonardo': 7111, '▁majority': 7112, '▁messages': 7113, '▁naturais': 7114, '▁platform': 7115, '▁profound': 7116, '▁telefone': 7117, '▁altamente': 7118, '▁casamento': 7119, '▁economics': 7120, '▁indivíduo': 7121, '▁nanopatch': 7122, '▁oxitocina': 7123, '▁perguntou': 7124, '▁plataform': 7125, '▁sequência': 7126, '▁engenharia': 7127, '▁facilmente': 7128, '▁fantástica': 7129, '▁structures': 7130, '▁ultimately': 7131, 'idimensional': 7132, '▁connections': 7133, '▁descobriram': 7134, '▁experienced': 7135, '▁reconstruir': 7136, '▁tradicional': 7137, '▁tradicionais': 7138, 'hen': 7139, 'pas': 7140, 'ute': 7141, 'vie': 7142, 'âns': 7143, '▁45': 7144, 'bras': 7145, 'cule': 7146, 'enar': 7147, 'opia': 7148, 'orto': 7149, 'ured': 7150, '▁dil': 7151, '▁eld': 7152, '▁fle': 7153, '▁las': 7154, '▁àqu': 7155, 'ables': 7156, 'antic': 7157, 'chain': 7158, 'oster': 7159, '▁2001': 7160, '▁2007': 7161, '▁apre': 7162, '▁ater': 7163, '▁blog': 7164, '▁cabo': 7165, '▁falh': 7166, '▁fell': 7167, '▁heró': 7168, '▁kore': 7169, '▁leve': 7170, '▁mars': 7171, '▁ouro': 7172, '▁vibr': 7173, 'bridge': 7174, 'enciar': 7175, '▁afirm': 7176, '▁anter': 7177, '▁atual': 7178, '▁corru': 7179, '▁escal': 7180, '▁heads': 7181, '▁micha': 7182, '▁natal': 7183, '▁prova': 7184, '▁saved': 7185, '▁stuck': 7186, '▁texto': 7187, '▁throw': 7188, '▁traum': 7189, '▁trâns': 7190, '▁unido': 7191, '▁active': 7192, '▁advant': 7193, '▁camada': 7194, '▁canção': 7195, '▁eating': 7196, '▁forces': 7197, '▁formar': 7198, '▁immigr': 7199, '▁juntas': 7200, '▁motion': 7201, '▁prémio': 7202, '▁replic': 7203, '▁signal': 7204, '▁skelet': 7205, '▁testes': 7206, '▁vender': 7207, '▁voices': 7208, '▁window': 7209, '▁citizen': 7210, '▁criamos': 7211, '▁londres': 7212, '▁mostram': 7213, '▁páginas': 7214, '▁silence': 7215, '▁various': 7216, 'entamente': 7217, '▁acompanh': 7218, '▁desenhar': 7219, '▁desesper': 7220, '▁envolver': 7221, '▁expansão': 7222, '▁partners': 7223, '▁passaram': 7224, '▁podermos': 7225, '▁político': 7226, '▁projetos': 7227, '▁sabíamos': 7228, '▁valuable': 7229, '▁definição': 7230, '▁described': 7231, '▁impressão': 7232, '▁invisível': 7233, '▁aplicações': 7234, '▁blockchain': 7235, '▁collective': 7236, '▁juntamente': 7237, '▁princípios': 7238, '▁substituir': 7239, '▁agricultura': 7240, '▁differences': 7241, '▁imagination': 7242, '▁infraestrut': 7243, '▁environmental': 7244, '▁profundamente': 7245, 'tr': 7246, 'ym': 7247, 'isl': 7248, 'uit': 7249, 'una': 7250, '▁fé': 7251, '▁fê': 7252, '▁ot': 7253, 'acia': 7254, 'acos': 7255, 'agar': 7256, 'airs': 7257, 'ales': 7258, 'itam': 7259, 'izes': 7260, 'odos': 7261, 'olar': 7262, 'rais': 7263, 'veja': 7264, '▁edi': 7265, '▁gap': 7266, '▁han': 7267, '▁ilh': 7268, '▁luc': 7269, '▁máx': 7270, '▁twe': 7271, 'attan': 7272, 'based': 7273, 'untos': 7274, 'ássar': 7275, '▁cair': 7276, '▁cama': 7277, '▁diga': 7278, '▁frio': 7279, '▁join': 7280, '▁leit': 7281, '▁lies': 7282, '▁race': 7283, '▁swim': 7284, '▁tran': 7285, '▁wave': 7286, 'ulação': 7287, 'ólogos': 7288, '▁alice': 7289, '▁analy': 7290, '▁beach': 7291, '▁conhe': 7292, '▁faces': 7293, '▁franc': 7294, '▁homes': 7295, '▁intim': 7296, '▁invas': 7297, '▁lying': 7298, '▁milit': 7299, '▁negra': 7300, '▁persu': 7301, '▁prize': 7302, '▁rádio': 7303, '▁torno': 7304, 'ception': 7305, '▁blocos': 7306, '▁chines': 7307, '▁corner': 7308, '▁darwin': 7309, '▁defend': 7310, '▁espalh': 7311, '▁estilo': 7312, '▁expert': 7313, '▁fairly': 7314, '▁frases': 7315, '▁garden': 7316, '▁passed': 7317, '▁pássar': 7318, '▁tentei': 7319, '▁viajar': 7320, '▁attract': 7321, '▁avançar': 7322, '▁cheaper': 7323, '▁conclus': 7324, '▁congest': 7325, '▁consult': 7326, '▁decidir': 7327, '▁emoções': 7328, '▁estejam': 7329, '▁managed': 7330, '▁moments': 7331, '▁neander': 7332, '▁watched': 7333, '▁weather': 7334, '▁amostras': 7335, '▁arranjar': 7336, '▁clientes': 7337, '▁compared': 7338, '▁domestic': 7339, '▁entropia': 7340, '▁libertar': 7341, '▁oferecer': 7342, '▁pensarem': 7343, '▁produced': 7344, '▁sequence': 7345, '▁tenhamos': 7346, '▁according': 7347, '▁administr': 7348, '▁americana': 7349, '▁arquitect': 7350, '▁cognitive': 7351, '▁landscape': 7352, '▁manhattan': 7353, '▁operating': 7354, '▁religious': 7355, '▁frequência': 7356, '▁telemóveis': 7357, '▁arquitetura': 7358, '▁effectively': 7359, '▁instituição': 7360, '▁privacidade': 7361, '▁applications': 7362, '▁dispositivos': 7363, 'rog': 7364, 'yer': 7365, 'éct': 7366, '▁ax': 7367, '▁sr': 7368, 'arre': 7369, 'bled': 7370, 'cons': 7371, 'empt': 7372, 'gust': 7373, 'load': 7374, 'onas': 7375, 'onym': 7376, 'over': 7377, 'rete': 7378, 'rigo': 7379, 'ript': 7380, 'ties': 7381, 'tudo': 7382, '▁aid': 7383, '▁gol': 7384, '▁mur': 7385, 'neath': 7386, 'ontes': 7387, 'vidas': 7388, 'ótica': 7389, '▁abus': 7390, '▁arma': 7391, '▁awes': 7392, '▁bias': 7393, '▁bits': 7394, '▁capt': 7395, '▁caro': 7396, '▁chef': 7397, '▁chic': 7398, '▁clip': 7399, '▁dung': 7400, '▁hang': 7401, '▁lect': 7402, '▁olha': 7403, '▁plus': 7404, '▁rule': 7405, '▁stan': 7406, '▁suit': 7407, '▁temp': 7408, '▁toca': 7409, '▁vale': 7410, '▁viaj': 7411, '▁1,000': 7412, '▁bomba': 7413, '▁catch': 7414, '▁detet': 7415, '▁inver': 7416, '▁lucky': 7417, '▁mobil': 7418, '▁monte': 7419, '▁rodas': 7420, '▁rosto': 7421, '▁óbvio': 7422, '▁aberta': 7423, '▁babies': 7424, '▁batter': 7425, '▁canada': 7426, '▁cartas': 7427, '▁chinês': 7428, '▁corpos': 7429, '▁damage': 7430, '▁dúvida': 7431, '▁french': 7432, '▁haverá': 7433, '▁ingred': 7434, '▁mortes': 7435, '▁played': 7436, '▁retina': 7437, '▁aparece': 7438, '▁details': 7439, '▁eletric': 7440, '▁explore': 7441, '▁limites': 7442, '▁olhamos': 7443, '▁preserv': 7444, '▁somente': 7445, '▁william': 7446, '▁apareceu': 7447, '▁certific': 7448, '▁designer': 7449, '▁distance': 7450, '▁identity': 7451, '▁introduz': 7452, '▁investir': 7453, '▁spending': 7454, '▁trillion': 7455, '▁trânsito': 7456, '▁acrescent': 7457, '▁brilliant': 7458, '▁conflitos': 7459, '▁documents': 7460, '▁ignorance': 7461, '▁suffering': 7462, '▁tradition': 7463, '▁deveríamos': 7464, '▁ignorância': 7465, '▁rendimento': 7466, '▁secundário': 7467, '▁underneath': 7468, '▁disponíveis': 7469, '▁fascinating': 7470, '▁institution': 7471, '▁mathematical': 7472, '▁consequências': 7473, '▁relativamente': 7474, '▁comportamentos': 7475, '20': 7476, 'ax': 7477, 'ob': 7478, 'ág': 7479, 'che': 7480, 'eds': 7481, 'men': 7482, 'net': 7483, 'ril': 7484, '▁36': 7485, '▁ai': 7486, '▁mt': 7487, '▁mú': 7488, 'hold': 7489, 'ulta': 7490, 'wood': 7491, 'ânia': 7492, 'énis': 7493, '▁aff': 7494, '▁doz': 7495, '▁gel': 7496, '▁shi': 7497, '▁wel': 7498, 'alous': 7499, 'anger': 7500, '▁alma': 7501, '▁elef': 7502, '▁fase': 7503, '▁iraq': 7504, '▁loud': 7505, '▁obra': 7506, '▁reac': 7507, '▁unif': 7508, '▁accur': 7509, '▁aging': 7510, '▁austr': 7511, '▁dinâm': 7512, '▁enfer': 7513, '▁incap': 7514, '▁marri': 7515, '▁minor': 7516, '▁parad': 7517, '▁ponte': 7518, '▁sides': 7519, '▁tesla': 7520, '▁toler': 7521, '▁veget': 7522, '▁virem': 7523, '▁aranha': 7524, '▁assign': 7525, '▁bairro': 7526, '▁capita': 7527, '▁chamam': 7528, '▁circum': 7529, '▁colors': 7530, '▁demais': 7531, '▁domést': 7532, '▁espect': 7533, '▁failed': 7534, '▁filmes': 7535, '▁legisl': 7536, '▁nações': 7537, '▁phones': 7538, '▁resili': 7539, '▁safety': 7540, '▁survey': 7541, '▁árvore': 7542, 'ribution': 7543, '▁afastar': 7544, '▁apanhar': 7545, '▁ataques': 7546, '▁atingir': 7547, '▁awesome': 7548, '▁baseado': 7549, '▁chicago': 7550, '▁compare': 7551, '▁convert': 7552, '▁digamos': 7553, '▁dizemos': 7554, '▁existir': 7555, '▁germany': 7556, '▁pedaços': 7557, '▁registo': 7558, '▁release': 7559, '▁trained': 7560, '▁técnica': 7561, '▁vehicle': 7562, '▁witness': 7563, '▁cozinhar': 7564, '▁esquerdo': 7565, '▁montanha': 7566, '▁normally': 7567, '▁profundo': 7568, '▁alimentos': 7569, '▁americano': 7570, '▁atmosfera': 7571, '▁behaviors': 7572, '▁cambridge': 7573, '▁carefully': 7574, '▁childhood': 7575, '▁copyright': 7576, '▁divertido': 7577, '▁emocional': 7578, '▁faculdade': 7579, '▁influence': 7580, '▁reputação': 7581, '▁biological': 7582, '▁exploração': 7583, '▁praticamente': 7584, '▁constantemente': 7585, '▁possibilidades': 7586, 'amp': 7587, 'ays': 7588, 'itz': 7589, 'ixo': 7590, 'olo': 7591, '▁ut': 7592, 'anes': 7593, 'ison': 7594, 'lled': 7595, 'oust': 7596, 'unte': 7597, 'wide': 7598, 'ysis': 7599, '▁avô': 7600, '▁fór': 7601, '▁hun': 7602, '▁mun': 7603, '▁occ': 7604, '▁ost': 7605, '▁row': 7606, 'ament': 7607, 'ocket': 7608, 'water': 7609, 'ítulo': 7610, '▁ação': 7611, '▁chap': 7612, '▁chur': 7613, '▁decl': 7614, '▁dens': 7615, '▁drag': 7616, '▁fake': 7617, '▁gent': 7618, '▁jump': 7619, '▁meat': 7620, '▁mira': 7621, '▁neut': 7622, '▁parl': 7623, '▁porc': 7624, '▁rebu': 7625, '▁ring': 7626, '▁seat': 7627, '▁soul': 7628, '▁suje': 7629, '▁weak': 7630, 'father': 7631, 'mother': 7632, 'opardy': 7633, '▁cegos': 7634, '▁chips': 7635, '▁ciclo': 7636, '▁colet': 7637, '▁criou': 7638, '▁false': 7639, '▁grade': 7640, '▁metal': 7641, '▁miúdo': 7642, '▁moves': 7643, '▁movie': 7644, '▁nucle': 7645, '▁occas': 7646, '▁parce': 7647, '▁party': 7648, '▁peixe': 7649, '▁rough': 7650, '▁teeth': 7651, 'ctional': 7652, 'ulation': 7653, '▁causes': 7654, '▁charge': 7655, '▁circle': 7656, '▁define': 7657, '▁extens': 7658, '▁france': 7659, '▁gestão': 7660, '▁gotten': 7661, '▁opções': 7662, '▁papers': 7663, '▁patent': 7664, '▁provar': 7665, '▁provoc': 7666, '▁quadro': 7667, '▁vergon': 7668, '▁autocar': 7669, '▁batalha': 7670, '▁calling': 7671, '▁criaram': 7672, '▁entropy': 7673, '▁factors': 7674, '▁físicos': 7675, '▁michael': 7676, '▁mudaram': 7677, '▁persegu': 7678, '▁savings': 7679, '▁succeed': 7680, '▁visitar': 7681, '▁billions': 7682, '▁diagnóst': 7683, '▁elemento': 7684, '▁fragment': 7685, '▁launched': 7686, '▁ligações': 7687, '▁planetas': 7688, '▁pudessem': 7689, '▁recolher': 7690, '▁vaccines': 7691, '▁desconhec': 7692, '▁economies': 7693, '▁efficient': 7694, '▁surprised': 7695, '▁benefícios': 7696, '▁científico': 7697, '▁climáticas': 7698, '▁phenomenon': 7699, '▁terrorismo': 7700, '▁civilization': 7701, '▁eletricidade': 7702, '▁necessidades': 7703, '▁opportunities': 7704, '▁extraordinário': 7705, 'ank': 7706, 'fab': 7707, 'fit': 7708, 'key': 7709, 'rol': 7710, '▁au': 7711, '▁ts': 7712, 'aled': 7713, 'apia': 7714, 'bles': 7715, 'bral': 7716, 'cido': 7717, 'ográ': 7718, 'omin': 7719, 'quem': 7720, 'ífer': 7721, '▁agg': 7722, '▁bow': 7723, '▁cow': 7724, '▁pib': 7725, '▁wik': 7726, 'aries': 7727, 'intes': 7728, 'iving': 7729, 'orrow': 7730, '▁2004': 7731, '▁airb': 7732, '▁arms': 7733, '▁bibl': 7734, '▁cens': 7735, '▁cruz': 7736, '▁date': 7737, '▁dout': 7738, '▁exch': 7739, '▁flag': 7740, '▁hous': 7741, '▁josh': 7742, '▁larg': 7743, '▁limp': 7744, '▁note': 7745, '▁stem': 7746, '▁tony': 7747, '▁unex': 7748, '▁unit': 7749, 'pected': 7750, '▁appre': 7751, '▁avião': 7752, '▁banho': 7753, '▁breve': 7754, '▁calls': 7755, '▁canto': 7756, '▁clima': 7757, '▁escar': 7758, '▁espir': 7759, '▁funny': 7760, '▁giant': 7761, '▁gripe': 7762, '▁idênt': 7763, '▁iriam': 7764, '▁japão': 7765, '▁marte': 7766, '▁nomes': 7767, '▁ondas': 7768, '▁preto': 7769, '▁round': 7770, '▁silic': 7771, '▁supos': 7772, 'ologist': 7773, '▁agress': 7774, '▁ajudam': 7775, '▁andava': 7776, '▁bought': 7777, '▁cortar': 7778, '▁declar': 7779, '▁deeply': 7780, '▁escuro': 7781, '▁esquec': 7782, '▁exclus': 7783, '▁fantas': 7784, '▁faziam': 7785, '▁forced': 7786, '▁immune': 7787, '▁poetry': 7788, '▁refuge': 7789, '▁replac': 7790, '▁retorn': 7791, '▁reward': 7792, '▁scared': 7793, '▁velhos': 7794, '▁balance': 7795, '▁daquilo': 7796, '▁eletrón': 7797, '▁factory': 7798, '▁inicial': 7799, '▁jealous': 7800, '▁limited': 7801, '▁meeting': 7802, '▁moderna': 7803, '▁objecto': 7804, '▁observe': 7805, '▁paredes': 7806, '▁perturb': 7807, '▁sozinho': 7808, '▁suicide': 7809, '▁tecidos': 7810, '▁volunte': 7811, 'ivelmente': 7812, '▁activity': 7813, '▁construí': 7814, '▁contract': 7815, '▁espacial': 7816, '▁followed': 7817, '▁molecule': 7818, '▁multiver': 7819, '▁separate': 7820, '▁struggle': 7821, '▁studying': 7822, '▁tomorrow': 7823, '▁americans': 7824, '▁comercial': 7825, '▁complexos': 7826, '▁continuam': 7827, '▁conversas': 7828, '▁currently': 7829, '▁descobriu': 7830, '▁discovery': 7831, '▁espantoso': 7832, '▁estranhos': 7833, '▁hospitais': 7834, '▁ocidental': 7835, '▁proteínas': 7836, '▁sobretudo': 7837, '▁strangers': 7838, '▁terrorism': 7839, '▁toneladas': 7840, '▁atmosphere': 7841, '▁complicado': 7842, '▁correspond': 7843, '▁definition': 7844, '▁fascinante': 7845, '▁participar': 7846, '▁principles': 7847, '▁equipamento': 7848, '▁grandmother': 7849, '▁semelhantes': 7850, '▁dificuldades': 7851, '▁características': 7852, 'dia': 7853, 'edy': 7854, 'tem': 7855, 'the': 7856, '▁26': 7857, 'aust': 7858, '▁250': 7859, '▁dum': 7860, '▁esm': 7861, '▁fum': 7862, '▁jam': 7863, '▁nad': 7864, '▁ras': 7865, '▁seb': 7866, '▁spl': 7867, 'chers': 7868, 'ctive': 7869, 'eição': 7870, 'feira': 7871, 'iamos': 7872, 'renia': 7873, 'tered': 7874, 'íbrio': 7875, '▁2005': 7876, '▁2015': 7877, '▁agre': 7878, '▁asia': 7879, '▁cras': 7880, '▁crop': 7881, '▁diál': 7882, '▁eixo': 7883, '▁empt': 7884, '▁jail': 7885, '▁kick': 7886, '▁nota': 7887, '▁ocas': 7888, '▁rare': 7889, '▁retr': 7890, '▁scot': 7891, '▁sept': 7892, '▁sess': 7893, '▁wear': 7894, 'acters': 7895, '▁accom': 7896, '▁acção': 7897, '▁antib': 7898, '▁assin': 7899, '▁bloco': 7900, '▁braço': 7901, '▁carto': 7902, '▁cheio': 7903, '▁dedos': 7904, '▁dying': 7905, '▁frees': 7906, '▁layer': 7907, '▁magaz': 7908, '▁nação': 7909, '▁opção': 7910, '▁pages': 7911, '▁plate': 7912, '▁ponta': 7913, '▁proud': 7914, '▁punch': 7915, '▁roads': 7916, '▁sabes': 7917, '▁shame': 7918, '▁shock': 7919, '▁waves': 7920, '▁ameaça': 7921, '▁cresci': 7922, '▁criado': 7923, '▁dinner': 7924, '▁diplom': 7925, '▁empreg': 7926, '▁galaxy': 7927, '▁inters': 7928, '▁iraque': 7929, '▁morreu': 7930, '▁opened': 7931, '▁pocket': 7932, '▁poesia': 7933, '▁quénia': 7934, '▁recolh': 7935, '▁sector': 7936, '▁tornei': 7937, '▁órgãos': 7938, '▁acceler': 7939, '▁alegria': 7940, '▁desenho': 7941, '▁illegal': 7942, '▁illustr': 7943, '▁leaving': 7944, '▁missing': 7945, '▁ouvidos': 7946, '▁pintura': 7947, '▁tiverem': 7948, '▁tremend': 7949, '▁alemanha': 7950, '▁aparelho': 7951, '▁criminal': 7952, '▁culturas': 7953, '▁digitais': 7954, '▁discurso': 7955, '▁elephant': 7956, '▁empregos': 7957, '▁gerações': 7958, '▁jeopardy': 7959, '▁molécula': 7960, '▁pensámos': 7961, '▁programs': 7962, '▁sentidos': 7963, '▁stanford': 7964, '▁vergonha': 7965, '▁adicionar': 7966, '▁programar': 7967, '▁published': 7968, '▁quisermos': 7969, '▁religions': 7970, '▁religiões': 7971, '▁tentativa': 7972, '▁trabalhei': 7973, '▁worldwide': 7974, '▁alterações': 7975, '▁americanos': 7976, '▁characters': 7977, '▁destruição': 7978, '▁reputation': 7979, '▁politicians': 7980, '▁rendimentos': 7981, '▁ultrapassar': 7982, '▁consumidores': 7983, '▁fundamentais': 7984, '▁extraordinária': 7985, 'dp': 7986, 'alu': 7987, 'cks': 7988, 'jud': 7989, 'yle': 7990, 'bing': 7991, 'ched': 7992, 'ener': 7993, 'ille': 7994, 'odes': 7995, 'ópia': 7996, '▁aer': 7997, '▁gdp': 7998, '▁pux': 7999, '▁wow': 8000, '▁ópt': 8001, 'anted': 8002, 'ented': 8003, 'órios': 8004, '▁1000': 8005, '▁1970': 8006, '▁alvo': 8007, '▁arre': 8008, '▁bell': 8009, '▁bicy': 8010, '▁blah': 8011, '▁boca': 8012, '▁club': 8013, '▁dose': 8014, '▁gift': 8015, '▁grat': 8016, '▁hers': 8017, '▁jant': 8018, '▁maps': 8019, '▁nasa': 8020, '▁nele': 8021, '▁outc': 8022, '▁poem': 8023, '▁prol': 8024, '▁salt': 8025, '▁sout': 8026, '▁wire': 8027, 'atória': 8028, 'idence': 8029, 'ortion': 8030, 'ístico': 8031, '▁advog': 8032, '▁broke': 8033, '▁camer': 8034, '▁custa': 8035, '▁cyber': 8036, '▁empur': 8037, '▁fabul': 8038, '▁fewer': 8039, '▁helps': 8040, '▁ilust': 8041, '▁metab': 8042, '▁minús': 8043, '▁mouse': 8044, '▁numer': 8045, '▁obras': 8046, '▁privi': 8047, '▁refug': 8048, '▁stock': 8049, '▁anonym': 8050, '▁baixos': 8051, '▁battle': 8052, '▁caused': 8053, '▁colega': 8054, '▁demand': 8055, '▁duplic': 8056, '▁events': 8057, '▁fertil': 8058, '▁fontes': 8059, '▁forgot': 8060, '▁frança': 8061, '▁nutrit': 8062, '▁passos': 8063, '▁recebi': 8064, '▁remain': 8065, '▁satell': 8066, '▁toilet': 8067, '▁videos': 8068, '▁anivers': 8069, '▁attempt': 8070, '▁britain': 8071, '▁contrar': 8072, '▁definit': 8073, '▁depends': 8074, '▁lembram': 8075, '▁reprodu': 8076, '▁revista': 8077, '▁seguros': 8078, '▁signals': 8079, '▁veículo': 8080, '▁windows': 8081, '▁apercebi': 8082, '▁cerebral': 8083, '▁contrast': 8084, '▁detalhes': 8085, '▁dissemos': 8086, '▁entirely': 8087, '▁fighting': 8088, '▁fizermos': 8089, '▁genética': 8090, '▁reaction': 8091, '▁surpresa': 8092, '▁dimensões': 8093, '▁igualdade': 8094, '▁militares': 8095, '▁narrative': 8096, '▁radiation': 8097, '▁recuperar': 8098, '▁september': 8099, '▁congestion': 8100, '▁existência': 8101, '▁necessária': 8102, '▁plataforma': 8103, '▁acreditamos': 8104, '▁aniversário': 8105, '▁destruction': 8106, '▁diretamente': 8107, '▁mortalidade': 8108, '▁perspectiva': 8109, '▁possibility': 8110, '▁distribuição': 8111, '▁conversations': 8112, '▁possibilities': 8113, 'ár': 8114, 'íz': 8115, 'alg': 8116, 'ará': 8117, 'bum': 8118, 'ded': 8119, 'hol': 8120, 'igu': 8121, 'isa': 8122, 'lem': 8123, 'lti': 8124, 'nam': 8125, 'uta': 8126, '▁28': 8127, '▁65': 8128, '▁ze': 8129, 'apse': 8130, 'atts': 8131, 'bits': 8132, 'ened': 8133, 'enty': 8134, 'iber': 8135, 'iped': 8136, 'pher': 8137, 'seis': 8138, 'upid': 8139, 'viol': 8140, 'ódio': 8141, '▁asc': 8142, '▁bam': 8143, '▁bes': 8144, '▁blá': 8145, '▁hyd': 8146, '▁jes': 8147, '▁lóg': 8148, 'ening': 8149, '▁adqu': 8150, '▁avan': 8151, '▁belo': 8152, '▁boys': 8153, '▁bron': 8154, '▁ciro': 8155, '▁ensa': 8156, '▁fiel': 8157, '▁fogu': 8158, '▁hide': 8159, '▁init': 8160, '▁jack': 8161, '▁jude': 8162, '▁mamm': 8163, '▁nela': 8164, '▁peer': 8165, '▁seas': 8166, '▁shif': 8167, '▁zoom': 8168, '▁aluno': 8169, '▁basta': 8170, '▁cyrus': 8171, '▁deram': 8172, '▁empty': 8173, '▁encar': 8174, '▁excit': 8175, '▁grate': 8176, '▁honor': 8177, '▁keeps': 8178, '▁minim': 8179, '▁múlti': 8180, '▁rabis': 8181, '▁satél': 8182, '▁songs': 8183, '▁termo': 8184, '▁úteis': 8185, 'identes': 8186, 'itários': 8187, 'remento': 8188, 'ributed': 8189, '▁accent': 8190, '▁assass': 8191, '▁atribu': 8192, '▁campos': 8193, '▁closed': 8194, '▁dreams': 8195, '▁facing': 8196, '▁hidden': 8197, '▁insist': 8198, '▁mandar': 8199, '▁máximo': 8200, '▁méxico': 8201, '▁percor': 8202, '▁protót': 8203, '▁retire': 8204, '▁sonhos': 8205, '▁supply': 8206, '▁trouxe': 8207, '▁unless': 8208, 'atically': 8209, '▁applied': 8210, '▁appreci': 8211, '▁bibliot': 8212, '▁capable': 8213, '▁cenário': 8214, '▁cooking': 8215, '▁discipl': 8216, '▁escrevi': 8217, '▁nations': 8218, '▁objetos': 8219, '▁protein': 8220, '▁prototy': 8221, '▁sugerir': 8222, '▁testing': 8223, '▁advanced': 8224, '▁concentr': 8225, '▁conforme': 8226, '▁creation': 8227, '▁emissões': 8228, '▁explosão': 8229, '▁imprensa': 8230, '▁interlig': 8231, '▁outcomes': 8232, '▁preparar': 8233, '▁previous': 8234, '▁requires': 8235, '▁saudável': 8236, '▁vizinhos': 8237, '▁austrália': 8238, '▁contempor': 8239, '▁costumava': 8240, '▁economias': 8241, '▁employees': 8242, '▁esperamos': 8243, '▁hospitals': 8244, '▁identical': 8245, '▁practical': 8246, '▁progresso': 8247, '▁trabalham': 8248, '▁atravessar': 8249, '▁conference': 8250, '▁dimensions': 8251, '▁disability': 8252, '▁interesses': 8253, '▁passionate': 8254, '▁equivalente': 8255, '▁generations': 8256, '▁electricidade': 8257, '▁envelhecimento': 8258, 'hy': 8259, 'aks': 8260, 'bed': 8261, 'beu': 8262, 'bio': 8263, 'lim': 8264, 'nes': 8265, 'roc': 8266, '▁eb': 8267, '▁át': 8268, 'iada': 8269, 'iers': 8270, 'rase': 8271, '▁191': 8272, '▁enf': 8273, '▁fif': 8274, '▁mín': 8275, '▁ric': 8276, '▁ros': 8277, '▁uau': 8278, '▁wis': 8279, 'ecion': 8280, 'elson': 8281, 'inder': 8282, 'intas': 8283, 'iques': 8284, 'itual': 8285, 'oking': 8286, 'place': 8287, 'rimin': 8288, 'scale': 8289, '▁acol': 8290, '▁acus': 8291, '▁bela': 8292, '▁bens': 8293, '▁coff': 8294, '▁cosm': 8295, '▁diam': 8296, '▁dood': 8297, '▁eric': 8298, '▁foxo': 8299, '▁fême': 8300, '▁inim': 8301, '▁intr': 8302, '▁lige': 8303, '▁liqu': 8304, '▁purs': 8305, '▁soph': 8306, '▁sovi': 8307, '▁vais': 8308, '▁viva': 8309, 'astian': 8310, 'imedes': 8311, '▁acaba': 8312, '▁arris': 8313, '▁atras': 8314, '▁coinc': 8315, '▁court': 8316, '▁doubt': 8317, '▁eléct': 8318, '▁grown': 8319, '▁jogar': 8320, '▁names': 8321, '▁podes': 8322, '▁reven': 8323, '▁roupa': 8324, '▁saída': 8325, '▁sport': 8326, '▁stood': 8327, '▁stret': 8328, '▁subir': 8329, '▁uncom': 8330, '▁adults': 8331, '▁advent': 8332, '▁artigo': 8333, '▁belong': 8334, '▁braços': 8335, '▁canadá': 8336, '▁causar': 8337, '▁cortex': 8338, '▁cuidar': 8339, '▁diziam': 8340, '▁escura': 8341, '▁fortun': 8342, '▁janela': 8343, '▁linear': 8344, '▁medium': 8345, '▁mexico': 8346, '▁mistur': 8347, '▁mortos': 8348, '▁motivo': 8349, '▁nelson': 8350, '▁oposto': 8351, '▁realiz': 8352, '▁repeat': 8353, '▁resolv': 8354, '▁silent': 8355, '▁sombra': 8356, '▁vieram': 8357, '▁aliment': 8358, '▁bairros': 8359, '▁centers': 8360, '▁contrad': 8361, '▁designs': 8362, '▁equilib': 8363, '▁inteira': 8364, '▁partner': 8365, '▁persist': 8366, '▁planets': 8367, '▁prestes': 8368, '▁related': 8369, '▁station': 8370, '▁tempest': 8371, '▁violent': 8372, '▁viruses': 8373, '▁worried': 8374, '▁younger': 8375, '▁acidente': 8376, '▁aprendem': 8377, '▁completa': 8378, '▁contacto': 8379, '▁deveriam': 8380, '▁director': 8381, '▁election': 8382, '▁emotions': 8383, '▁infantil': 8384, '▁morreram': 8385, '▁ordinary': 8386, '▁perfeita': 8387, '▁perigoso': 8388, '▁proteins': 8389, '▁radiação': 8390, '▁realizar': 8391, '▁recorded': 8392, '▁survival': 8393, 'ificamente': 8394, '▁parkinson': 8395, '▁pensarmos': 8396, '▁possíveis': 8397, '▁processos': 8398, '▁sebastian': 8399, '▁considered': 8400, '▁constantly': 8401, '▁equilíbrio': 8402, '▁fronteiras': 8403, '▁mathematic': 8404, '▁civilização': 8405, '▁comentários': 8406, '▁compromisso': 8407, '▁conferência': 8408, '▁grandfather': 8409, '▁resistência': 8410, '▁ligeiramente': 8411, '▁transformação': 8412, '▁“': 8413, 'jos': 8414, 'lyn': 8415, 'osc': 8416, 'unk': 8417, 'çul': 8418, '▁72': 8419, '▁dê': 8420, '▁gg': 8421, 'anhã': 8422, 'caix': 8423, 'ciar': 8424, 'cles': 8425, 'essa': 8426, 'gues': 8427, 'here': 8428, 'rage': 8429, 'zero': 8430, 'ácia': 8431, '▁aim': 8432, '▁lâm': 8433, '▁mir': 8434, '▁mág': 8435, '▁smo': 8436, 'child': 8437, 'ength': 8438, 'estar': 8439, 'ilhas': 8440, 'lying': 8441, 'ogram': 8442, '▁anún': 8443, '▁bath': 8444, '▁ends': 8445, '▁epis': 8446, '▁fico': 8447, '▁flat': 8448, '▁fold': 8449, '▁hung': 8450, '▁hurt': 8451, '▁mest': 8452, '▁mães': 8453, '▁paqu': 8454, '▁peço': 8455, '▁pion': 8456, '▁ress': 8457, '▁sets': 8458, '▁usou': 8459, 'adinho': 8460, 'kistan': 8461, '▁ambul': 8462, '▁argue': 8463, '▁ações': 8464, '▁bound': 8465, '▁brinc': 8466, '▁conex': 8467, '▁coral': 8468, '▁escap': 8469, '▁explo': 8470, '▁inten': 8471, '▁jogos': 8472, '▁leads': 8473, '▁metro': 8474, '▁resum': 8475, '▁revis': 8476, '▁shoes': 8477, '▁talks': 8478, '▁viral': 8479, '▁votar': 8480, 'areness': 8481, '▁agenda': 8482, '▁announ': 8483, '▁anunci': 8484, '▁circun': 8485, '▁classe': 8486, '▁contém': 8487, '▁deeper': 8488, '▁deslig': 8489, '▁diante': 8490, '▁doming': 8491, '▁encaix': 8492, '▁fellow': 8493, '▁filled': 8494, '▁gravit': 8495, '▁imenso': 8496, '▁island': 8497, '▁jardim': 8498, '▁librar': 8499, '▁mantém': 8500, '▁mentes': 8501, '▁minist': 8502, '▁notion': 8503, '▁pintar': 8504, '▁prever': 8505, '▁queres': 8506, '▁rocket': 8507, '▁script': 8508, '▁segura': 8509, '▁simult': 8510, '▁sofrer': 8511, '▁verdes': 8512, 'ologists': 8513, '▁achamos': 8514, '▁actions': 8515, '▁adultos': 8516, '▁amostra': 8517, '▁capture': 8518, '▁confiar': 8519, '▁diagram': 8520, '▁empatia': 8521, '▁estação': 8522, '▁existia': 8523, '▁generos': 8524, '▁inesper': 8525, '▁mystery': 8526, '▁oceanos': 8527, '▁olhando': 8528, '▁ouviram': 8529, '▁perante': 8530, '▁perdido': 8531, '▁promise': 8532, '▁rapazes': 8533, '▁recebem': 8534, '▁reparar': 8535, '▁tarefas': 8536, '▁typical': 8537, '▁vejamos': 8538, '▁benefici': 8539, '▁distingu': 8540, '▁expandir': 8541, '▁grateful': 8542, '▁infância': 8543, '▁magazine': 8544, '▁mecânica': 8545, '▁paciente': 8546, '▁percebem': 8547, '▁resource': 8548, '▁australia': 8549, '▁climática': 8550, '▁conclusão': 8551, '▁elections': 8552, '▁estudante': 8553, '▁hopefully': 8554, '▁seriously': 8555, '▁efficiency': 8556, '▁escritório': 8557, '▁familiares': 8558, '▁pudéssemos': 8559, '▁statistics': 8560, '▁tivéssemos': 8561, '▁propriedade': 8562, '▁responsible': 8563, '▁increasingly': 8564, '▁naturalmente': 8565, '▁fundamentally': 8566, '▁perfeitamente': 8567, '▁sobrevivência': 8568, '▁transportation': 8569, '▁aproximadamente': 8570, '-1': 8571, 'bu': 8572, 'box': 8573, 'cal': 8574, 'isy': 8575, 'rey': 8576, '▁32': 8577, '▁ak': 8578, '▁ál': 8579, 'bret': 8580, 'etas': 8581, 'ette': 8582, 'idel': 8583, 'onde': 8584, 'rane': 8585, 'ucks': 8586, '▁196': 8587, '▁bee': 8588, '▁ceo': 8589, '▁cil': 8590, '▁coc': 8591, '▁grã': 8592, '▁meg': 8593, '▁pól': 8594, '▁sai': 8595, '▁típ': 8596, 'ansas': 8597, 'chave': 8598, 'estim': 8599, 'ianas': 8600, 'iders': 8601, 'lomer': 8602, 'vesse': 8603, 'ículo': 8604, 'ífico': 8605, '▁adot': 8606, '▁café': 8607, '▁ears': 8608, '▁egíp': 8609, '▁gray': 8610, '▁jeff': 8611, '▁liga': 8612, '▁mary': 8613, '▁otim': 8614, '▁rica': 8615, '▁roub': 8616, '▁tang': 8617, 'iedade': 8618, 'iência': 8619, 'pothes': 8620, 'ptions': 8621, 'ulture': 8622, '▁appar': 8623, '▁brook': 8624, '▁coach': 8625, '▁coast': 8626, '▁cober': 8627, '▁conqu': 8628, '▁curto': 8629, '▁curve': 8630, '▁divul': 8631, '▁exhib': 8632, '▁extin': 8633, '▁focar': 8634, '▁grass': 8635, '▁idiot': 8636, '▁maxim': 8637, '▁morto': 8638, '▁nasci': 8639, '▁nuvem': 8640, '▁penet': 8641, '▁primo': 8642, '▁rooms': 8643, '▁sales': 8644, '▁scene': 8645, '▁signs': 8646, '▁staff': 8647, '▁stone': 8648, '▁vital': 8649, '▁acting': 8650, '▁advice': 8651, '▁cinema': 8652, '▁dollar': 8653, '▁explan': 8654, '▁explod': 8655, '▁factor': 8656, '▁fields': 8657, '▁fourth': 8658, '▁fracas': 8659, '▁gastar': 8660, '▁ilusão': 8661, '▁leader': 8662, '▁membro': 8663, '▁nessas': 8664, '▁nesses': 8665, '▁repres': 8666, '▁senses': 8667, '▁spring': 8668, '▁struck': 8669, '▁thinks': 8670, '▁transc': 8671, '▁victor': 8672, '▁átomos': 8673, 'bretanha': 8674, 'ificados': 8675, 'ographic': 8676, '▁courage': 8677, '▁círculo': 8678, '▁dealing': 8679, '▁diálogo': 8680, '▁mandela': 8681, '▁mexican': 8682, '▁moderno': 8683, '▁silenci': 8684, '▁therapy': 8685, '▁treated': 8686, '▁trouble': 8687, '▁wearing': 8688, '▁ciências': 8689, '▁concrete': 8690, '▁corrente': 8691, '▁desculpa': 8692, '▁expected': 8693, '▁fundação': 8694, '▁gigantes': 8695, '▁hypothes': 8696, '▁ocidente': 8697, '▁pakistan': 8698, '▁parecido': 8699, '▁permitiu': 8700, '▁práticas': 8701, '▁tracking': 8702, '▁veículos': 8703, '▁astronaut': 8704, '▁awareness': 8705, '▁constante': 8706, '▁convencer': 8707, '▁convinced': 8708, '▁económica': 8709, '▁engineers': 8710, '▁explained': 8711, '▁mentioned': 8712, '▁narrativa': 8713, '▁resolução': 8714, '▁saudáveis': 8715, '▁transição': 8716, '▁variation': 8717, '▁companhias': 8718, '▁construído': 8719, '▁desempenho': 8720, '▁diagnostic': 8721, '▁estratégia': 8722, '▁explicação': 8723, '▁laboratory': 8724, '▁transmitir': 8725, '▁trustworth': 8726, '▁alternativa': 8727, '▁application': 8728, '▁capacidades': 8729, '▁descobertas': 8730, '▁diversidade': 8731, '▁educational': 8732, '▁reconstruct': 8733, '▁especialistas': 8734, '▁principalmente': 8735, 'aa': 8736, 'hu': 8737, 'my': 8738, 'zi': 8739, '▁&': 8740, '▁q': 8741, 'eos': 8742, 'fri': 8743, '▁99': 8744, '▁tú': 8745, 'care': 8746, 'iday': 8747, 'moço': 8748, 'udes': 8749, '▁ato': 8750, '▁bob': 8751, '▁ego': 8752, '▁hat': 8753, '▁kit': 8754, '▁soa': 8755, '▁wol': 8756, 'enham': 8757, 'ients': 8758, 'orest': 8759, 'orias': 8760, 'peech': 8761, 'tains': 8762, 'uries': 8763, 'ândia': 8764, '▁2006': 8765, '▁agul': 8766, '▁cabe': 8767, '▁cave': 8768, '▁cinz': 8769, '▁desm': 8770, '▁haja': 8771, '▁inac': 8772, '▁lady': 8773, '▁loop': 8774, '▁maus': 8775, '▁raio': 8776, '▁roof': 8777, '▁saib': 8778, '▁sett': 8779, '▁tear': 8780, '▁thro': 8781, '▁ásia': 8782, 'inação': 8783, '▁anger': 8784, '▁artes': 8785, '▁atoms': 8786, '▁claim': 8787, '▁congo': 8788, '▁dolor': 8789, '▁evalu': 8790, '▁exter': 8791, '▁extro': 8792, '▁gasol': 8793, '▁goods': 8794, '▁manif': 8795, '▁muçul': 8796, '▁navig': 8797, '▁occup': 8798, '▁pedra': 8799, '▁peers': 8800, '▁piada': 8801, '▁steps': 8802, '▁steve': 8803, '▁suced': 8804, '▁torná': 8805, '▁vapor': 8806, '▁alcanç': 8807, '▁amanhã': 8808, '▁andrew': 8809, '▁apoiar': 8810, '▁catast': 8811, '▁church': 8812, '▁clever': 8813, '▁coffee': 8814, '▁corrig': 8815, '▁distúr': 8816, '▁esquel': 8817, '▁flower': 8818, '▁fundos': 8819, '▁ilumin': 8820, '▁jantar': 8821, '▁losing': 8822, '▁manual': 8823, '▁member': 8824, '▁nasceu': 8825, '▁neurol': 8826, '▁newspa': 8827, '▁prejud': 8828, '▁presos': 8829, '▁quiser': 8830, '▁sample': 8831, '▁shadow': 8832, '▁shapes': 8833, '▁status': 8834, '▁usadas': 8835, '▁usados': 8836, '▁weapon': 8837, '▁alcance': 8838, '▁antigos': 8839, '▁attacks': 8840, '▁baseada': 8841, '▁comunic': 8842, '▁consent': 8843, '▁drawing': 8844, '▁experts': 8845, '▁ficamos': 8846, '▁gravity': 8847, '▁married': 8848, '▁mencion': 8849, '▁mistake': 8850, '▁sending': 8851, '▁solving': 8852, '▁welcome': 8853, '▁últimas': 8854, 'abilities': 8855, '▁accurate': 8856, '▁acelerar': 8857, '▁addition': 8858, '▁consumer': 8859, '▁fornecer': 8860, '▁inferior': 8861, '▁internal': 8862, '▁paisagem': 8863, '▁químicos': 8864, '▁relevant': 8865, '▁sozinhos': 8866, '▁vertical': 8867, '▁advantage': 8868, '▁bocadinho': 8869, '▁decidiram': 8870, '▁discussão': 8871, '▁disorders': 8872, '▁diversity': 8873, '▁doméstica': 8874, '▁eficiente': 8875, '▁emissions': 8876, '▁fronteira': 8877, '▁gravidade': 8878, '▁interagir': 8879, '▁naturally': 8880, '▁objectivo': 8881, '▁perfectly': 8882, '▁seguintes': 8883, '▁wondering': 8884, '▁criminosos': 8885, '▁expression': 8886, '▁freespeech': 8887, '▁personally': 8888, '▁properties': 8889, '▁proporcion': 8890, '▁refugiados': 8891, '▁sofrimento': 8892, '▁vulnerable': 8893, '▁comfortable': 8894, '▁comprimento': 8895, '▁engenheiros': 8896, '▁exploration': 8897, '▁maravilhosa': 8898, '▁combustíveis': 8899, '▁specifically': 8900, '▁manufacturing': 8901, '11': 8902, 'nb': 8903, 'ãs': 8904, 'óx': 8905, 'ald': 8906, 'arm': 8907, 'dis': 8908, 'ipo': 8909, 'ius': 8910, 'jac': 8911, 'ndr': 8912, 'tes': 8913, 'tex': 8914, 'yal': 8915, '▁38': 8916, '▁54': 8917, '▁mk': 8918, '▁ét': 8919, 'ache': 8920, 'dura': 8921, 'esis': 8922, 'igar': 8923, 'izam': 8924, 'lete': 8925, 'mail': 8926, 'otic': 8927, 'âneo': 8928, 'çada': 8929, 'écia': 8930, '▁cyl': 8931, '▁gun': 8932, '▁haw': 8933, '▁iam': 8934, '▁orb': 8935, '▁toy': 8936, 'agers': 8937, 'board': 8938, 'iante': 8939, 'itmos': 8940, 'oresc': 8941, 'ravam': 8942, 'rimir': 8943, 'ritos': 8944, 'uação': 8945, 'áculo': 8946, 'ónica': 8947, '▁anda': 8948, '▁bush': 8949, '▁cash': 8950, '▁clot': 8951, '▁coch': 8952, '▁edit': 8953, '▁fato': 8954, '▁fool': 8955, '▁igre': 8956, '▁irre': 8957, '▁jenn': 8958, '▁joel': 8959, '▁lego': 8960, '▁loja': 8961, '▁nalg': 8962, '▁pedi': 8963, '▁ride': 8964, '▁shar': 8965, '▁spot': 8966, '▁trav': 8967, 'phones': 8968, 'éticas': 8969, '▁absur': 8970, '▁abuse': 8971, '▁added': 8972, '▁angar': 8973, '▁aprov': 8974, '▁aspir': 8975, '▁asseg': 8976, '▁beber': 8977, '▁carol': 8978, '▁chose': 8979, '▁elder': 8980, '▁gerir': 8981, '▁inner': 8982, '▁lovel': 8983, '▁metap': 8984, '▁meter': 8985, '▁paras': 8986, '▁queda': 8987, '▁recus': 8988, '▁solly': 8989, '▁sympt': 8990, '▁texas': 8991, '▁uncer': 8992, '▁vazio': 8993, 'atórias': 8994, 'igração': 8995, 'quences': 8996, '▁advert': 8997, '▁archie': 8998, '▁bonito': 8999, '▁border': 9000, '▁chamou': 9001, '▁cheiro': 9002, '▁chorar': 9003, '▁deaths': 9004, '▁engano': 9005, '▁esposa': 9006, '▁falhar': 9007, '▁fibers': 9008, '▁iguais': 9009, '▁mantêm': 9010, '▁oceans': 9011, '▁owners': 9012, '▁planos': 9013, '▁pulled': 9014, '▁reação': 9015, '▁remote': 9016, '▁repair': 9017, '▁saturn': 9018, '▁storyt': 9019, '▁ventil': 9020, 'osamente': 9021, 'riedades': 9022, '▁100,000': 9023, '▁achieve': 9024, '▁associa': 9025, '▁benefit': 9026, '▁camadas': 9027, '▁charles': 9028, '▁closely': 9029, '▁confort': 9030, '▁conheço': 9031, '▁coragem': 9032, '▁destino': 9033, '▁estaria': 9034, '▁killing': 9035, '▁madeira': 9036, '▁nervoso': 9037, '▁notável': 9038, '▁passada': 9039, '▁poderem': 9040, '▁secular': 9041, '▁segredo': 9042, '▁seguida': 9043, '▁setting': 9044, '▁transpl': 9045, '▁aconteça': 9046, '▁assistir': 9047, '▁circumst': 9048, '▁condutor': 9049, '▁disaster': 9050, '▁essência': 9051, '▁inventar': 9052, '▁levantar': 9053, '▁marriage': 9054, '▁memorial': 9055, '▁mistakes': 9056, '▁particle': 9057, '▁perdemos': 9058, '▁pergunto': 9059, '▁pleasure': 9060, '▁policies': 9061, '▁pássaros': 9062, '▁quadrado': 9063, '▁southern': 9064, '▁strategy': 9065, '▁tentamos': 9066, '▁textbook': 9067, '▁vantagem': 9068, '▁anonymous': 9069, '▁atividade': 9070, '▁curiosity': 9071, '▁designing': 9072, '▁generally': 9073, '▁increased': 9074, '▁interests': 9075, '▁providing': 9076, '▁searching': 9077, '▁statement': 9078, '▁technical': 9079, '▁variedade': 9080, '▁associated': 9081, '▁assustador': 9082, '▁businesses': 9083, '▁democratic': 9084, '▁económicos': 9085, '▁eficiência': 9086, '▁específico': 9087, '▁influência': 9088, '▁lentamente': 9089, '▁management': 9090, '▁sanitation': 9091, '▁transforma': 9092, '▁agriculture': 9093, '▁curiosidade': 9094, '▁necessarily': 9095, '▁consequences': 9096, '▁instrumentos': 9097, '▁propriedades': 9098, '-2': 9099, '70': 9100, 'hh': 9101, 'bly': 9102, 'cec': 9103, 'emy': 9104, 'eng': 9105, 'eor': 9106, 'org': 9107, 'rot': 9108, 'ums': 9109, '▁ji': 9110, '▁tb': 9111, 'bors': 9112, 'cado': 9113, 'cont': 9114, 'icip': 9115, 'imet': 9116, 'ocks': 9117, 'oked': 9118, 'util': 9119, '▁160': 9120, '▁cel': 9121, '▁hen': 9122, '▁inh': 9123, '▁lux': 9124, '▁pip': 9125, 'conce': 9126, 'inter': 9127, 'opher': 9128, 'ércio': 9129, '▁1950': 9130, '▁acum': 9131, '▁bone': 9132, '▁cena': 9133, '▁colo': 9134, '▁deit': 9135, '▁emit': 9136, '▁falo': 9137, '▁imit': 9138, '▁ital': 9139, '▁lord': 9140, '▁mice': 9141, '▁milk': 9142, '▁polu': 9143, '▁prat': 9144, '▁sees': 9145, '▁stew': 9146, '▁telh': 9147, '▁tort': 9148, '▁tour': 9149, 'encies': 9150, 'friend': 9151, '▁ajust': 9152, '▁barco': 9153, '▁barri': 9154, '▁brian': 9155, '▁criam': 9156, '▁crowd': 9157, '▁curva': 9158, '▁danos': 9159, '▁dialo': 9160, '▁estil': 9161, '▁fresh': 9162, '▁gabby': 9163, '▁games': 9164, '▁input': 9165, '▁latin': 9166, '▁obcec': 9167, '▁pouca': 9168, '▁pregn': 9169, '▁ricos': 9170, '▁rigor': 9171, '▁score': 9172, '▁stack': 9173, '▁surve': 9174, '▁taste': 9175, '▁tenta': 9176, '▁titan': 9177, '▁truck': 9178, '▁usual': 9179, '▁virar': 9180, '▁weigh': 9181, 'osition': 9182, '▁ajudou': 9183, '▁arranj': 9184, '▁degrad': 9185, '▁entrou': 9186, '▁gritar': 9187, '▁handle': 9188, '▁height': 9189, '▁mascul': 9190, '▁needle': 9191, '▁noites': 9192, '▁orient': 9193, '▁percur': 9194, '▁pounds': 9195, '▁presum': 9196, '▁provas': 9197, '▁solved': 9198, '▁stayed': 9199, '▁stream': 9200, '▁suport': 9201, '▁territ': 9202, '▁tribun': 9203, '▁unlike': 9204, '▁venced': 9205, '▁virgin': 9206, 'idamente': 9207, 'stâncias': 9208, '▁aglomer': 9209, '▁aspetos': 9210, '▁cartões': 9211, '▁channel': 9212, '▁comment': 9213, '▁council': 9214, '▁cálculo': 9215, '▁deserto': 9216, '▁element': 9217, '▁empathy': 9218, '▁equally': 9219, '▁falando': 9220, '▁figured': 9221, '▁forests': 9222, '▁fósseis': 9223, '▁guerras': 9224, '▁highest': 9225, '▁interac': 9226, '▁janeiro': 9227, '▁janelas': 9228, '▁liberal': 9229, '▁opinion': 9230, '▁options': 9231, '▁privado': 9232, '▁rebuild': 9233, '▁viagens': 9234, 'aneamente': 9235, '▁abstract': 9236, '▁aspectos': 9237, '▁comércio': 9238, '▁daqueles': 9239, '▁equality': 9240, '▁esconder': 9241, '▁estranha': 9242, '▁exchange': 9243, '▁features': 9244, '▁intelect': 9245, '▁jealousy': 9246, '▁mistério': 9247, '▁objectos': 9248, '▁partilha': 9249, '▁pessoais': 9250, '▁programm': 9251, '▁property': 9252, '▁protocol': 9253, '▁stronger': 9254, '▁thoughts': 9255, '▁tivermos': 9256, '▁variação': 9257, 'abilidades': 9258, 'americanos': 9259, '▁aparelhos': 9260, '▁avaliação': 9261, '▁existence': 9262, '▁intestino': 9263, '▁introduce': 9264, '▁principle': 9265, '▁sentences': 9266, '▁acontecido': 9267, '▁classrooms': 9268, '▁commercial': 9269, '▁connectome': 9270, '▁equivalent': 9271, '▁matemático': 9272, '▁meaningful': 9273, '▁techniques': 9274, '▁television': 9275, '▁transition': 9276, '▁unexpected': 9277, '▁identificar': 9278, '▁inspiration': 9279, '▁microscópio': 9280, '▁pensamentos': 9281, '▁relacionadas': 9282, '▁utilizadores': 9283, '▁aparentemente': 9284, '▁desenvolvemos': 9285, '▁entrepreneurs': 9286, '▁transformation': 9287, 'ey': 9288, 'tz': 9289, 'cam': 9290, 'cto': 9291, 'hed': 9292, 'ops': 9293, 'rel': 9294, 'tra': 9295, '▁95': 9296, '▁ei': 9297, '▁oy': 9298, 'eiam': 9299, 'fast': 9300, 'ints': 9301, 'iorm': 9302, 'rict': 9303, 'vial': 9304, 'ógra': 9305, '▁120': 9306, '▁800': 9307, '▁cha': 9308, '▁daf': 9309, '▁dal': 9310, '▁dut': 9311, '▁gam': 9312, '▁oct': 9313, '▁odd': 9314, '▁vic': 9315, 'atson': 9316, 'cidos': 9317, 'etime': 9318, 'icity': 9319, 'olate': 9320, 'sters': 9321, 'çamos': 9322, '▁atom': 9323, '▁biod': 9324, '▁bird': 9325, '▁efet': 9326, '▁eleg': 9327, '▁hier': 9328, '▁hunt': 9329, '▁inex': 9330, '▁inqu': 9331, '▁lind': 9332, '▁nort': 9333, '▁onda': 9334, '▁plot': 9335, '▁pure': 9336, '▁raci': 9337, '▁scar': 9338, '▁scul': 9339, '▁soub': 9340, '▁stim': 9341, '▁tedt': 9342, '▁user': 9343, '▁voto': 9344, 'adeira': 9345, 'icleta': 9346, 'stream': 9347, '▁actor': 9348, '▁admir': 9349, '▁antec': 9350, '▁botão': 9351, '▁brief': 9352, '▁chart': 9353, '▁comem': 9354, '▁egito': 9355, '▁embar': 9356, '▁faced': 9357, '▁faria': 9358, '▁gerar': 9359, '▁imigr': 9360, '▁líder': 9361, '▁portu': 9362, '▁psiqu': 9363, '▁telep': 9364, '▁terço': 9365, '▁topic': 9366, '▁união': 9367, '▁vivos': 9368, 'quality': 9369, 'rónomos': 9370, '▁adding': 9371, '▁budget': 9372, '▁caminh': 9373, '▁cantar': 9374, '▁cordas': 9375, '▁correl': 9376, '▁crença': 9377, '▁distin': 9378, '▁divide': 9379, '▁dormir': 9380, '▁doutor': 9381, '▁falsos': 9382, '▁finish': 9383, '▁fought': 9384, '▁imensa': 9385, '▁indian': 9386, '▁interv': 9387, '▁irmãos': 9388, '▁kansas': 9389, '▁linked': 9390, '▁manusc': 9391, '▁mentir': 9392, '▁parent': 9393, '▁quinta': 9394, '▁rastre': 9395, '▁recept': 9396, '▁reduce': 9397, '▁reflex': 9398, '▁singap': 9399, '▁toward': 9400, '▁voting': 9401, '▁watson': 9402, 'iormente': 9403, '▁accompl': 9404, '▁aplicar': 9405, '▁armazen': 9406, '▁autonom': 9407, '▁centros': 9408, '▁decidiu': 9409, '▁dizendo': 9410, '▁elevado': 9411, '▁embrace': 9412, '▁engaged': 9413, '▁fatores': 9414, '▁funções': 9415, '▁globais': 9416, '▁install': 9417, '▁invited': 9418, '▁lessons': 9419, '▁mostrei': 9420, '▁métodos': 9421, '▁olhámos': 9422, '▁retirar': 9423, '▁roughly': 9424, '▁sapatos': 9425, '▁sources': 9426, '▁suposto': 9427, '▁variety': 9428, '▁visible': 9429, '▁wanting': 9430, '▁caminhar': 9431, '▁chegaram': 9432, '▁completo': 9433, '▁complexa': 9434, '▁emerging': 9435, '▁espalhar': 9436, '▁exercise': 9437, '▁generate': 9438, '▁manifest': 9439, '▁memories': 9440, '▁passámos': 9441, '▁shipping': 9442, '▁tradição': 9443, '▁vermelha': 9444, '▁conectoma': 9445, '▁consumers': 9446, '▁exposição': 9447, '▁funcionou': 9448, '▁mecanismo': 9449, '▁mortality': 9450, '▁neighbors': 9451, '▁organized': 9452, '▁palestras': 9453, '▁philosoph': 9454, '▁processes': 9455, '▁traveling': 9456, '▁collection': 9457, '▁inspiração': 9458, '▁physically': 9459, '▁propaganda': 9460, '▁utilização': 9461, '▁aquecimento': 9462, '▁componentes': 9463, '▁distributed': 9464, '▁ecossistema': 9465, '▁necessários': 9466, '▁potentially': 9467, '▁construction': 9468, '▁experimentar': 9469, '▁interessados': 9470, '▁circunstâncias': 9471, 'oh': 9472, 'ox': 9473, 'ôm': 9474, 'aca': 9475, 'azz': 9476, 'fun': 9477, 'hid': 9478, 'iev': 9479, 'ipp': 9480, 'lec': 9481, 'omo': 9482, 'rad': 9483, 'ule': 9484, 'acci': 9485, 'akes': 9486, 'apso': 9487, 'ecia': 9488, 'enha': 9489, 'eria': 9490, 'hece': 9491, 'know': 9492, 'lock': 9493, 'riqu': 9494, 'uary': 9495, 'usal': 9496, 'xual': 9497, '▁600': 9498, '▁pon': 9499, '▁rus': 9500, '▁tag': 9501, '▁vin': 9502, '▁vál': 9503, '▁wed': 9504, '▁âng': 9505, '▁índ': 9506, 'icial': 9507, 'iment': 9508, 'iquei': 9509, 'oston': 9510, 'rency': 9511, 'taint': 9512, 'vemos': 9513, 'ólica': 9514, 'ólogo': 9515, '▁1998': 9516, '▁agrí': 9517, '▁anón': 9518, '▁atir': 9519, '▁aves': 9520, '▁avis': 9521, '▁bind': 9522, '▁blow': 9523, '▁bond': 9524, '▁calc': 9525, '▁cath': 9526, '▁chor': 9527, '▁jean': 9528, '▁líqu': 9529, '▁mini': 9530, '▁myth': 9531, '▁ours': 9532, '▁pete': 9533, '▁puts': 9534, '▁quot': 9535, '▁rice': 9536, '▁sopa': 9537, '▁stro': 9538, '▁subm': 9539, '▁tack': 9540, '▁tais': 9541, '▁tied': 9542, '▁wake': 9543, 'called': 9544, 'ifying': 9545, 'isters': 9546, 'onacci': 9547, 'rações': 9548, 'áculos': 9549, 'ânicos': 9550, '▁advoc': 9551, '▁altas': 9552, '▁altos': 9553, '▁avent': 9554, '▁brows': 9555, '▁crack': 9556, '▁criei': 9557, '▁droga': 9558, '▁drove': 9559, '▁dólar': 9560, '▁efect': 9561, '▁esmag': 9562, '▁feder': 9563, '▁honey': 9564, '▁jesus': 9565, '▁label': 9566, '▁leões': 9567, '▁lindo': 9568, '▁membr': 9569, '▁moeda': 9570, '▁obama': 9571, '▁recor': 9572, '▁suspe': 9573, '▁tinta': 9574, '▁toque': 9575, '▁verem': 9576, '▁weird': 9577, 'ficient': 9578, '▁abrand': 9579, '▁airbnb': 9580, '▁attach': 9581, '▁barata': 9582, '▁boston': 9583, '▁caixas': 9584, '▁carpet': 9585, '▁carreg': 9586, '▁encoun': 9587, '▁esteve': 9588, '▁evento': 9589, '▁exceto': 9590, '▁ficção': 9591, '▁formam': 9592, '▁formed': 9593, '▁heróis': 9594, '▁incert': 9595, '▁incons': 9596, '▁joined': 9597, '▁ligado': 9598, '▁menina': 9599, '▁nascer': 9600, '▁neuros': 9601, '▁oxygen': 9602, '▁peixes': 9603, '▁preven': 9604, '▁tensão': 9605, '▁terram': 9606, '▁terrif': 9607, '▁victim': 9608, 'ológicas': 9609, '▁abertos': 9610, '▁afterno': 9611, '▁amongst': 9612, '▁canções': 9613, '▁combine': 9614, '▁covered': 9615, '▁elderly': 9616, '▁estarem': 9617, '▁extract': 9618, '▁fiction': 9619, '▁ligados': 9620, '▁mamífer': 9621, '▁mentais': 9622, '▁metabol': 9623, '▁opening': 9624, '▁overall': 9625, '▁partido': 9626, '▁plastic': 9627, '▁prision': 9628, '▁replace': 9629, '▁section': 9630, '▁sentado': 9631, '▁taliban': 9632, '▁tonight': 9633, '▁vaccine': 9634, '▁weapons': 9635, '▁wheelch': 9636, 'ification': 9637, '▁contamin': 9638, '▁criativo': 9639, '▁cybercri': 9640, '▁fazermos': 9641, '▁finished': 9642, '▁fracasso': 9643, '▁horrível': 9644, '▁memórias': 9645, '▁muçulman': 9646, '▁official': 9647, '▁planning': 9648, '▁potência': 9649, '▁preconce': 9650, '▁proteína': 9651, '▁ultimate': 9652, 'ativamente': 9653, '▁acreditem': 9654, '▁algorithm': 9655, '▁ambientes': 9656, '▁automóvel': 9657, '▁bicicleta': 9658, '▁biodivers': 9659, '▁breakfast': 9660, '▁esqueleto': 9661, '▁fibonacci': 9662, '▁hipóteses': 9663, '▁poderosos': 9664, '▁regressar': 9665, '▁situações': 9666, '▁affordable': 9667, '▁concentrar': 9668, '▁department': 9669, '▁hypothesis': 9670, '▁igualmente': 9671, '▁literatura': 9672, '▁microscope': 9673, '▁perception': 9674, '▁actualmente': 9675, '▁alternative': 9676, '▁challenging': 9677, '▁diagnóstico': 9678, '▁electronics': 9679, '▁encontraram': 9680, '▁enfrentamos': 9681, '▁estatística': 9682, '▁explanation': 9683, '▁interactive': 9684, '▁medicamento': 9685, '▁representar': 9686, '▁desenvolvido': 9687, '▁humanitarian': 9688, '▁precisávamos': 9689, '▁reconhecimento': 9690, '40': 9691, '▁=': 9692, '/11': 9693, 'anc': 9694, 'fos': 9695, 'oft': 9696, 'set': 9697, 'uso': 9698, '▁55': 9699, '▁mm': 9700, '▁sá': 9701, 'agen': 9702, 'agre': 9703, 'case': 9704, 'chas': 9705, 'down': 9706, 'ende': 9707, 'etos': 9708, 'just': 9709, 'oder': 9710, 'ogen': 9711, 'osit': 9712, '▁404': 9713, '▁700': 9714, '▁aus': 9715, '▁cão': 9716, '▁inú': 9717, '▁pec': 9718, '▁pit': 9719, '▁pós': 9720, '▁tóp': 9721, '▁unt': 9722, 'abled': 9723, 'apses': 9724, 'enses': 9725, 'igual': 9726, 'inete': 9727, 'izoph': 9728, 'known': 9729, 'lands': 9730, 'letas': 9731, 'orter': 9732, 'owers': 9733, 'quake': 9734, 'ville': 9735, 'çados': 9736, 'órtex': 9737, '▁2014': 9738, '▁9/11': 9739, '▁acto': 9740, '▁adap': 9741, '▁adiv': 9742, '▁ages': 9743, '▁ante': 9744, '▁auth': 9745, '▁cora': 9746, '▁cump': 9747, '▁cênt': 9748, '▁elim': 9749, '▁evit': 9750, '▁gato': 9751, '▁gore': 9752, '▁hits': 9753, '▁hond': 9754, '▁june': 9755, '▁ocul': 9756, '▁runs': 9757, '▁snow': 9758, '▁tall': 9759, '▁thir': 9760, '▁viet': 9761, '▁warm': 9762, '▁zone': 9763, '▁zumb': 9764, 'culose': 9765, 'ficial': 9766, 'itivas': 9767, 'ressão': 9768, 'ástico': 9769, '▁airpl': 9770, '▁boxes': 9771, '▁cable': 9772, '▁chefe': 9773, '▁cláss': 9774, '▁cours': 9775, '▁crist': 9776, '▁devol': 9777, '▁embed': 9778, '▁engra': 9779, '▁estúp': 9780, '▁flash': 9781, '▁fugir': 9782, '▁globe': 9783, '▁grows': 9784, '▁humor': 9785, '▁irrit': 9786, '▁islam': 9787, '▁levam': 9788, '▁moham': 9789, '▁mudam': 9790, '▁olham': 9791, '▁ossos': 9792, '▁proib': 9793, '▁rates': 9794, '▁redef': 9795, '▁relóg': 9796, '▁scary': 9797, '▁serra': 9798, '▁sweet': 9799, '▁thick': 9800, '▁académ': 9801, '▁beetle': 9802, '▁bother': 9803, '▁chegam': 9804, '▁cilind': 9805, '▁coloca': 9806, '▁credit': 9807, '▁crying': 9808, '▁driven': 9809, '▁facial': 9810, '▁fibras': 9811, '▁ficava': 9812, '▁flying': 9813, '▁heroes': 9814, '▁horror': 9815, '▁intang': 9816, '▁lições': 9817, '▁lógica': 9818, '▁mortas': 9819, '▁neural': 9820, '▁neuron': 9821, '▁organs': 9822, '▁orgulh': 9823, '▁perten': 9824, '▁phrase': 9825, '▁picked': 9826, '▁proust': 9827, '▁remove': 9828, '▁stupid': 9829, '▁surely': 9830, '▁surgiu': 9831, '▁trauma': 9832, '▁triste': 9833, '▁voltou': 9834, '▁vítima': 9835, '▁acabado': 9836, '▁antigas': 9837, '▁arrived': 9838, '▁brancos': 9839, '▁centrif': 9840, '▁chamava': 9841, '▁concret': 9842, '▁confess': 9843, '▁convinc': 9844, '▁crítica': 9845, '▁crítico': 9846, '▁cutting': 9847, '▁evening': 9848, '▁falámos': 9849, '▁leather': 9850, '▁lecture': 9851, '▁library': 9852, '▁medidas': 9853, '▁mostrou': 9854, '▁noutros': 9855, '▁operate': 9856, '▁quarter': 9857, '▁samples': 9858, '▁surgeon': 9859, '▁telefon': 9860, '▁visível': 9861, '▁zumbido': 9862, '▁absolute': 9863, '▁birthday': 9864, '▁brooklyn': 9865, '▁chamadas': 9866, '▁clinical': 9867, '▁dialogue': 9868, '▁discutir': 9869, '▁disorder': 9870, '▁metaphor': 9871, '▁mosquito': 9872, '▁mundiais': 9873, '▁negative': 9874, '▁percurso': 9875, '▁prostate': 9876, '▁psychiat': 9877, '▁pudermos': 9878, '▁schizoph': 9879, '▁sintomas': 9880, '▁skeleton': 9881, '▁traveled': 9882, '▁ambiental': 9883, '▁aproximar': 9884, '▁barreiras': 9885, '▁continent': 9886, '▁discrimin': 9887, '▁estiveram': 9888, '▁influenci': 9889, '▁neanderth': 9890, '▁paquistão': 9891, '▁presented': 9892, '▁raramente': 9893, '▁responses': 9894, '▁standards': 9895, '▁technique': 9896, '▁commitment': 9897, '▁comparação': 9898, '▁construída': 9899, '▁earthquake': 9900, '▁jornalista': 9901, '▁percebemos': 9902, '▁processing': 9903, '▁prosperity': 9904, '▁wheelchair': 9905, '▁consumption': 9906, '▁dificuldade': 9907, '▁gostaríamos': 9908, '▁interaction': 9909, '▁philosopher': 9910, '▁representam': 9911, '▁tratamentos': 9912, '▁tuberculose': 9913, '▁circumstances': 9914, '▁personalidade': 9915, '▁transparência': 9916, '▁especificamente': 9917, 'eg': 9918, 'õe': 9919, 'fal': 9920, 'gie': 9921, 'mon': 9922, 'ono': 9923, 'oti': 9924, 'pam': 9925, 'sem': 9926, 'xic': 9927, '▁cm': 9928, '▁dv': 9929, 'aras': 9930, 'ecas': 9931, 'enal': 9932, 'fund': 9933, 'hear': 9934, 'idal': 9935, 'idor': 9936, 'izof': 9937, 'oded': 9938, 'égio': 9939, '▁anx': 9940, '▁clu': 9941, '▁cup': 9942, '▁fio': 9943, '▁gay': 9944, '▁jum': 9945, '▁jur': 9946, '▁kar': 9947, '▁lac': 9948, '▁lob': 9949, '▁maç': 9950, '▁pad': 9951, '▁sag': 9952, '▁tat': 9953, '▁wra': 9954, 'eller': 9955, 'encia': 9956, 'graph': 9957, '▁1980': 9958, '▁1990': 9959, '▁abre': 9960, '▁acha': 9961, '▁caos': 9962, '▁desf': 9963, '▁diff': 9964, '▁dupl': 9965, '▁fios': 9966, '▁grab': 9967, '▁jose': 9968, '▁medi': 9969, '▁mile': 9970, '▁nick': 9971, '▁pega': 9972, '▁pink': 9973, '▁pude': 9974, '▁raça': 9975, '▁sane': 9976, '▁span': 9977, '▁sund': 9978, 'edoria': 9979, 'ndrome': 9980, 'urance': 9981, '▁arque': 9982, '▁bolas': 9983, '▁charl': 9984, '▁cobri': 9985, '▁colum': 9986, '▁drill': 9987, '▁fixed': 9988, '▁fuels': 9989, '▁hydro': 9990, '▁invés': 9991, '▁junto': 9992, '▁leite': 9993, '▁lifes': 9994, '▁mexer': 9995, '▁morce': 9996, '▁namor': 9997, '▁olhou': 9998, '▁perdi': 9999, '▁phase': 10000, '▁plans': 10001, '▁preci': 10002, '▁pénis': 10003, '▁queim': 10004, '▁quote': 10005, '▁raiva': 10006, '▁refor': 10007, '▁shout': 10008, '▁supre': 10009, '▁users': 10010, '▁vivas': 10011, 'iveness': 10012, '▁acabam': 10013, '▁atacar': 10014, '▁barely': 10015, '▁básica': 10016, '▁cavalo': 10017, '▁cursos': 10018, '▁drives': 10019, '▁editor': 10020, '▁encant': 10021, '▁exists': 10022, '▁friday': 10023, '▁hungry': 10024, '▁inveja': 10025, '▁layers': 10026, '▁length': 10027, '▁letras': 10028, '▁liquid': 10029, '▁livres': 10030, '▁margin': 10031, '▁negoti': 10032, '▁oxford': 10033, '▁perdeu': 10034, '▁preços': 10035, '▁revolu': 10036, '▁sincer': 10037, '▁tendem': 10038, '▁vacina': 10039, '▁wisdom': 10040, 'entional': 10041, '▁academy': 10042, '▁battery': 10043, '▁bicycle': 10044, '▁delight': 10045, '▁divisão': 10046, '▁dynamic': 10047, '▁extrair': 10048, '▁gigante': 10049, '▁january': 10050, '▁leitura': 10051, '▁motores': 10052, '▁offered': 10053, '▁passava': 10054, '▁patente': 10055, '▁rapidly': 10056, '▁remains': 10057, '▁repetir': 10058, '▁retorno': 10059, '▁selling': 10060, '▁sozinha': 10061, '▁spiders': 10062, '▁tedtalk': 10063, '▁tissues': 10064, '▁treinar': 10065, '▁acabaram': 10066, '▁acabámos': 10067, '▁analysis': 10068, '▁cálculos': 10069, '▁democrat': 10070, '▁diminuir': 10071, '▁equation': 10072, '▁esperava': 10073, '▁esquizof': 10074, '▁estacion': 10075, '▁garantir': 10076, '▁horizont': 10077, '▁lifetime': 10078, '▁maintain': 10079, '▁palestin': 10080, '▁passamos': 10081, '▁perceção': 10082, '▁prepared': 10083, '▁reconcil': 10084, '▁required': 10085, '▁returned': 10086, '▁sofistic': 10087, '▁tentámos': 10088, '▁unidades': 10089, '▁acessível': 10090, '▁africanos': 10091, '▁afternoon': 10092, '▁algoritmo': 10093, '▁alteração': 10094, '▁aperceber': 10095, '▁complexas': 10096, '▁confident': 10097, '▁conflicts': 10098, '▁customers': 10099, '▁deception': 10100, '▁functions': 10101, '▁highlight': 10102, '▁inclusive': 10103, '▁institute': 10104, '▁percorrer': 10105, '▁presentes': 10106, '▁sabedoria': 10107, '▁sophistic': 10108, '▁spreading': 10109, '▁terramoto': 10110, '▁accessible': 10111, '▁aproveitar': 10112, '▁biblioteca': 10113, '▁discussion': 10114, '▁importance': 10115, '▁indústrias': 10116, '▁innovative': 10117, '▁movimentos': 10118, '▁professora': 10119, '▁represents': 10120, '▁tendências': 10121, '▁uncertaint': 10122, '▁percentagem': 10123, '▁personality': 10124, '▁recuperação': 10125, '▁researchers': 10126, '▁transportes': 10127, '▁verdadeiros': 10128, '▁arquitectura': 10129, '▁competências': 10130, '▁distribution': 10131, '▁especialista': 10132, '▁implications': 10133, '▁interactions': 10134, '▁laboratórios': 10135, '▁pessoalmente': 10136, '▁precisamente': 10137, '▁productivity': 10138, '▁prosperidade': 10139, '▁probabilidade': 10140, '▁produtividade': 10141, '▁technological': 10142, '▁investigadores': 10143, '▁sustainability': 10144, '▁necessariamente': 10145, 'êx': 10146, '▁^': 10147, 'cho': 10148, 'cão': 10149, 'gal': 10150, 'het': 10151, 'icl': 10152, 'irt': 10153, 'lam': 10154, 'pes': 10155, 'yan': 10156, 'êut': 10157, 'óso': 10158, '▁86': 10159, '▁jh': 10160, '▁pó': 10161, 'acar': 10162, 'aded': 10163, 'cies': 10164, 'eios': 10165, 'fill': 10166, 'fora': 10167, 'hado': 10168, 'iest': 10169, 'olit': 10170, 'ouri': 10171, 'qued': 10172, 'rian': 10173, 'tles': 10174, 'unas': 10175, 'ânea': 10176, '▁195': 10177, '▁amo': 10178, '▁asl': 10179, '▁ciú': 10180, '▁haz': 10181, '▁jar': 10182, '▁lam': 10183, '▁max': 10184, '▁mum': 10185, '▁orç': 10186, '▁pav': 10187, '▁shr': 10188, '▁tbp': 10189, '▁tio': 10190, '▁tér': 10191, 'ested': 10192, 'hahid': 10193, 'icana': 10194, 'lines': 10195, 'olars': 10196, 'pture': 10197, 'rados': 10198, 'stata': 10199, 'érios': 10200, '▁1900': 10201, '▁1999': 10202, '▁2003': 10203, '▁adam': 10204, '▁biot': 10205, '▁boom': 10206, '▁busy': 10207, '▁desv': 10208, '▁dict': 10209, '▁filt': 10210, '▁foie': 10211, '▁gana': 10212, '▁ileg': 10213, '▁irem': 10214, '▁jane': 10215, '▁jord': 10216, '▁obsc': 10217, '▁pole': 10218, '▁prec': 10219, '▁repu': 10220, '▁rico': 10221, '▁sono': 10222, '▁tick': 10223, '▁wars': 10224, 'aterra': 10225, 'encing': 10226, 'entary': 10227, 'imeter': 10228, 'ipedia': 10229, 'óticos': 10230, '▁acert': 10231, '▁amiga': 10232, '▁andam': 10233, '▁badly': 10234, '▁bones': 10235, '▁cairo': 10236, '▁chile': 10237, '▁cigar': 10238, '▁combo': 10239, '▁couro': 10240, '▁cruel': 10241, '▁fluxo': 10242, '▁ganho': 10243, '▁ghana': 10244, '▁henry': 10245, '▁hidro': 10246, '▁honra': 10247, '▁impul': 10248, '▁incor': 10249, '▁inher': 10250, '▁irrig': 10251, '▁judge': 10252, '▁knock': 10253, '▁leste': 10254, '▁lions': 10255, '▁niger': 10256, '▁presa': 10257, '▁quebr': 10258, '▁regra': 10259, '▁reinv': 10260, '▁saudi': 10261, '▁sente': 10262, '▁senão': 10263, '▁storm': 10264, '▁synth': 10265, '▁troca': 10266, '▁uncle': 10267, '▁union': 10268, '▁units': 10269, '▁views': 10270, '▁vigil': 10271, '▁youth': 10272, 'cionais': 10273, 'izações': 10274, 'ression': 10275, '▁assume': 10276, '▁bombas': 10277, '▁bonita': 10278, '▁breath': 10279, '▁buscar': 10280, '▁cartão': 10281, '▁conceb': 10282, '▁corais': 10283, '▁dançar': 10284, '▁deixei': 10285, '▁descer': 10286, '▁discon': 10287, '▁fariam': 10288, '▁filóso': 10289, '▁latina': 10290, '▁nerves': 10291, '▁parcer': 10292, '▁pensou': 10293, '▁planta': 10294, '▁preval': 10295, '▁proteg': 10296, '▁racioc': 10297, '▁reflet': 10298, '▁regime': 10299, '▁severe': 10300, '▁signed': 10301, '▁tested': 10302, '▁worker': 10303, 'ographer': 10304, '▁agarrar': 10305, '▁apropri': 10306, '▁borders': 10307, '▁codific': 10308, '▁colapso': 10309, '▁corrida': 10310, '▁cresceu': 10311, '▁criando': 10312, '▁dropped': 10313, '▁england': 10314, '▁escutar': 10315, '▁essence': 10316, '▁estrang': 10317, '▁feature': 10318, '▁frances': 10319, '▁include': 10320, '▁inspire': 10321, '▁meninas': 10322, '▁millenn': 10323, '▁mothers': 10324, '▁nowhere': 10325, '▁painful': 10326, '▁paralis': 10327, '▁poorest': 10328, '▁rainfor': 10329, '▁reforma': 10330, '▁regener': 10331, '▁remover': 10332, '▁séculos': 10333, '▁tornado': 10334, '▁trivial': 10335, '▁ushahid': 10336, '▁accepted': 10337, '▁aparecem': 10338, '▁aproveit': 10339, '▁assuntos': 10340, '▁carregar': 10341, '▁convince': 10342, '▁cultures': 10343, '▁cylinder': 10344, '▁desastre': 10345, '▁destruir': 10346, '▁dimensão': 10347, '▁europeia': 10348, '▁existiam': 10349, '▁graduate': 10350, '▁hardware': 10351, '▁houvesse': 10352, '▁illusion': 10353, '▁improvis': 10354, '▁infinite': 10355, '▁intellec': 10356, '▁measured': 10357, '▁pensaram': 10358, '▁promessa': 10359, '▁próstata': 10360, '▁receptor': 10361, '▁reinvent': 10362, '▁scholars': 10363, '▁spectrum': 10364, '▁suggests': 10365, '▁symptoms': 10366, '▁vehicles': 10367, '▁websites': 10368, '▁collected': 10369, '▁concerned': 10370, '▁conhecida': 10371, '▁creatures': 10372, '▁destroyed': 10373, '▁emergency': 10374, '▁especiais': 10375, '▁expansion': 10376, '▁liderança': 10377, '▁mechanism': 10378, '▁multiplic': 10379, '▁paintings': 10380, '▁practices': 10381, '▁relevante': 10382, '▁wikipedia': 10383, '▁brilhantes': 10384, '▁excremento': 10385, '▁imigrantes': 10386, '▁industries': 10387, '▁instruções': 10388, '▁investigar': 10389, '▁leadership': 10390, '▁manuscript': 10391, '▁optimistic': 10392, '▁questionar': 10393, '▁recompensa': 10394, '▁tremendous': 10395, '▁conseguirem': 10396, '▁cybercrimin': 10397, '▁interessado': 10398, '▁participate': 10399, '▁personagens': 10400, '▁publicidade': 10401, '▁funcionários': 10402, '▁participação': 10403, '▁transparency': 10404, 'hr': 10405, 'bic': 10406, 'bul': 10407, 'cel': 10408, 'dri': 10409, 'elf': 10410, 'ief': 10411, 'imb': 10412, 'oec': 10413, 'rof': 10414, 'rom': 10415, 'rão': 10416, 'zed': 10417, '▁dh': 10418, '▁dí': 10419, '▁hp': 10420, '▁ka': 10421, 'chel': 10422, 'ivar': 10423, 'izou': 10424, 'leta': 10425, 'mann': 10426, 'owan': 10427, 'quez': 10428, 'quia': 10429, 'uctu': 10430, 'vera': 10431, 'átis': 10432, 'édio': 10433, 'ísmo': 10434, 'ízes': 10435, '▁ath': 10436, '▁bei': 10437, '▁joe': 10438, '▁lun': 10439, '▁nom': 10440, '▁raw': 10441, '▁sig': 10442, '▁unp': 10443, '▁xxi': 10444, 'force': 10445, 'icult': 10446, 'redit': 10447, 'rimas': 10448, 'ushed': 10449, '▁apoi': 10450, '▁boat': 10451, '▁carr': 10452, '▁cocó': 10453, '▁dada': 10454, '▁defe': 10455, '▁evan': 10456, '▁faix': 10457, '▁fals': 10458, '▁fila': 10459, '▁gand': 10460, '▁hamb': 10461, '▁metá': 10462, '▁nano': 10463, '▁nike': 10464, '▁obso': 10465, '▁oxig': 10466, '▁plas': 10467, '▁pool': 10468, '▁prót': 10469, '▁pulm': 10470, '▁razo': 10471, '▁rely': 10472, '▁rent': 10473, '▁saiu': 10474, '▁soup': 10475, '▁surf': 10476, '▁unus': 10477, 'lessly': 10478, 'ressed': 10479, 'utores': 10480, '▁casar': 10481, '▁ciúme': 10482, '▁concl': 10483, '▁consp': 10484, '▁depar': 10485, '▁duplo': 10486, '▁esgot': 10487, '▁festa': 10488, '▁holds': 10489, '▁horse': 10490, '▁hyper': 10491, '▁laser': 10492, '▁letra': 10493, '▁mapas': 10494, '▁marít': 10495, '▁notes': 10496, '▁núcle': 10497, '▁olhei': 10498, '▁param': 10499, '▁porco': 10500, '▁porém': 10501, '▁prima': 10502, '▁raios': 10503, '▁sabor': 10504, '▁yours': 10505, '▁aborre': 10506, '▁abrigo': 10507, '▁agreed': 10508, '▁agulha': 10509, '▁bigode': 10510, '▁calhar': 10511, '▁combat': 10512, '▁curric': 10513, '▁córtex': 10514, '▁daniel': 10515, '▁demora': 10516, '▁enferm': 10517, '▁flight': 10518, '▁folhas': 10519, '▁formos': 10520, '▁grátis': 10521, '▁hoping': 10522, '▁houses': 10523, '▁ingles': 10524, '▁lançar': 10525, '▁lembra': 10526, '▁longas': 10527, '▁marcas': 10528, '▁martin': 10529, '▁mirror': 10530, '▁missed': 10531, '▁montes': 10532, '▁morrem': 10533, '▁mínimo': 10534, '▁noutro': 10535, '▁option': 10536, '▁painel': 10537, '▁placed': 10538, '▁portra': 10539, '▁posted': 10540, '▁pratic': 10541, '▁preced': 10542, '▁recrut': 10543, '▁secção': 10544, '▁stands': 10545, '▁stored': 10546, '▁tunnel': 10547, '▁unidas': 10548, '▁vencer': 10549, '▁vendas': 10550, '▁únicos': 10551, 'aneously': 10552, '▁amarelo': 10553, '▁aranhas': 10554, '▁aspects': 10555, '▁authent': 10556, '▁careful': 10557, '▁clarity': 10558, '▁classic': 10559, '▁compras': 10560, '▁comprim': 10561, '▁correto': 10562, '▁cozinha': 10563, '▁elevada': 10564, '▁encoraj': 10565, '▁entrada': 10566, '▁equação': 10567, '▁escolar': 10568, '▁evoluir': 10569, '▁figures': 10570, '▁frankly': 10571, '▁habitat': 10572, '▁haveria': 10573, '▁helpful': 10574, '▁initial': 10575, '▁jerusal': 10576, '▁largely': 10577, '▁paradox': 10578, '▁pedimos': 10579, '▁prontos': 10580, '▁stewart': 10581, '▁terapia': 10582, '▁verific': 10583, 'ificações': 10584, '▁africano': 10585, '▁barreira': 10586, '▁calcular': 10587, '▁chegamos': 10588, '▁chimpanz': 10589, '▁concluir': 10590, '▁condição': 10591, '▁currency': 10592, '▁drinking': 10593, '▁engaging': 10594, '▁fábricas': 10595, '▁location': 10596, '▁obsessed': 10597, '▁passagem': 10598, '▁positiva': 10599, '▁positivo': 10600, '▁printing': 10601, '▁provided': 10602, '▁quântica': 10603, '▁released': 10604, '▁sentados': 10605, '▁transact': 10606, '▁tribunal': 10607, '▁wondered': 10608, '▁afirmação': 10609, '▁britânico': 10610, '▁cirurgião': 10611, '▁colleague': 10612, '▁committed': 10613, '▁criaturas': 10614, '▁dignidade': 10615, '▁ecológica': 10616, '▁encourage': 10617, '▁equipment': 10618, '▁exercício': 10619, '▁incerteza': 10620, '▁injustiça': 10621, '▁operation': 10622, '▁precisely': 10623, '▁protótipo': 10624, '▁recebemos': 10625, '▁additional': 10626, '▁algorithms': 10627, '▁capitalism': 10628, '▁computação': 10629, '▁consciente': 10630, '▁ecosystems': 10631, '▁increasing': 10632, '▁inglaterra': 10633, '▁introduced': 10634, '▁preparados': 10635, '▁relatively': 10636, '▁saneamento': 10637, '▁competition': 10638, '▁conseguiram': 10639, '▁continuamos': 10640, '▁espetacular': 10641, '▁fantásticas': 10642, '▁implicações': 10643, '▁consequência': 10644, '▁departamento': 10645, '▁investidores': 10646, '▁responsáveis': 10647, '▁infraestrutura': 10648, 'ek': 10649, 'ls': 10650, 'ini': 10651, 'lon': 10652, 'nah': 10653, 'uto': 10654, '▁85': 10655, '▁ms': 10656, '▁py': 10657, '▁rb': 10658, '▁rm': 10659, '▁êx': 10660, '▁ós': 10661, 'adic': 10662, 'anca': 10663, 'cida': 10664, 'fors': 10665, 'oras': 10666, 'pend': 10667, 'plan': 10668, 'rass': 10669, 'rich': 10670, 'rosa': 10671, 'tero': 10672, 'tico': 10673, '▁ate': 10674, '▁dúz': 10675, '▁jon': 10676, '▁pom': 10677, '▁spr': 10678, '▁tig': 10679, '▁tow': 10680, '▁trá': 10681, '▁vih': 10682, '▁voy': 10683, '▁xix': 10684, 'arial': 10685, 'ching': 10686, 'ffiti': 10687, 'iable': 10688, 'icing': 10689, 'inado': 10690, 'irobi': 10691, 'osing': 10692, 'power': 10693, 'riger': 10694, 'rozen': 10695, 'ónico': 10696, '▁1945': 10697, '▁afir': 10698, '▁agru': 10699, '▁brun': 10700, '▁cher': 10701, '▁créd': 10702, '▁debt': 10703, '▁dura': 10704, '▁earn': 10705, '▁ench': 10706, '▁evac': 10707, '▁firm': 10708, '▁infe': 10709, '▁leap': 10710, '▁lâmp': 10711, '▁mago': 10712, '▁mail': 10713, '▁mast': 10714, '▁rats': 10715, '▁reje': 10716, '▁seek': 10717, '▁slog': 10718, '▁tail': 10719, '▁tatu': 10720, '▁vess': 10721, '▁zang': 10722, 'etical': 10723, 'forshe': 10724, 'iremos': 10725, 'nected': 10726, 'rabbit': 10727, 'ternal': 10728, 'vasive': 10729, '▁3,000': 10730, '▁achei': 10731, '▁adqui': 10732, '▁agarr': 10733, '▁audio': 10734, '▁awful': 10735, '▁bases': 10736, '▁bless': 10737, '▁bolso': 10738, '▁crops': 10739, '▁cycle': 10740, '▁demos': 10741, '▁denis': 10742, '▁digam': 10743, '▁falei': 10744, '▁fibra': 10745, '▁genoc': 10746, '▁geoff': 10747, '▁goals': 10748, '▁gosta': 10749, '▁maria': 10750, '▁matri': 10751, '▁naveg': 10752, '▁pista': 10753, '▁poema': 10754, '▁polio': 10755, '▁povos': 10756, '▁remot': 10757, '▁roots': 10758, '▁sarah': 10759, '▁smith': 10760, '▁split': 10761, '▁steel': 10762, '▁tatto': 10763, '▁theor': 10764, '▁vivia': 10765, 'forward': 10766, 'lection': 10767, '▁achava': 10768, '▁argent': 10769, '▁bloque': 10770, '▁cometa': 10771, '▁congel': 10772, '▁cresce': 10773, '▁criada': 10774, '▁deixam': 10775, '▁desloc': 10776, '▁distra': 10777, '▁farmac': 10778, '▁finger': 10779, '▁frozen': 10780, '▁ganhou': 10781, '▁ignore': 10782, '▁igreja': 10783, '▁inject': 10784, '▁interf': 10785, '▁intrig': 10786, '▁johnny': 10787, '▁ligada': 10788, '▁movies': 10789, '▁operar': 10790, '▁paying': 10791, '▁pistas': 10792, '▁portas': 10793, '▁profit': 10794, '▁rating': 10795, '▁reject': 10796, '▁render': 10797, '▁sentar': 10798, '▁string': 10799, '▁sugere': 10800, '▁tentam': 10801, '▁truque': 10802, '▁uganda': 10803, '▁ultras': 10804, '▁writer': 10805, 'issional': 10806, 'ologista': 10807, '▁abordar': 10808, '▁artigos': 10809, '▁avaliar': 10810, '▁carried': 10811, '▁coincid': 10812, '▁colocou': 10813, '▁constra': 10814, '▁dancing': 10815, '▁deserve': 10816, '▁dignity': 10817, '▁disgust': 10818, '▁envolve': 10819, '▁extrema': 10820, '▁flowers': 10821, '▁gentlem': 10822, '▁incomod': 10823, '▁interna': 10824, '▁keeping': 10825, '▁nairobi': 10826, '▁ocasion': 10827, '▁offices': 10828, '▁organic': 10829, '▁pareceu': 10830, '▁pensado': 10831, '▁primary': 10832, '▁recurso': 10833, '▁redução': 10834, '▁reverse': 10835, '▁sanguín': 10836, '▁shelter': 10837, '▁silicon': 10838, '▁símbolo': 10839, '▁uniform': 10840, '▁veremos': 10841, '▁abertura': 10842, '▁amazónia': 10843, '▁antepass': 10844, '▁bactéria': 10845, '▁bathroom': 10846, '▁cilindro': 10847, '▁cochrane': 10848, '▁combater': 10849, '▁contrary': 10850, '▁corrigir': 10851, '▁daquelas': 10852, '▁desigual': 10853, '▁dinâmica': 10854, '▁eficazes': 10855, '▁elefante': 10856, '▁eliminar': 10857, '▁embedded': 10858, '▁esforços': 10859, '▁esquecer': 10860, '▁fluoresc': 10861, '▁gabinete': 10862, '▁gasolina': 10863, '▁graffiti': 10864, '▁heforshe': 10865, '▁instante': 10866, '▁jennifer': 10867, '▁mentiras': 10868, '▁missouri': 10869, '▁mustache': 10870, '▁neurónio': 10871, '▁pensavam': 10872, '▁plástico': 10873, '▁porcento': 10874, '▁recentes': 10875, '▁refriger': 10876, '▁register': 10877, '▁reverber': 10878, '▁robótica': 10879, '▁speakers': 10880, '▁tentando': 10881, '▁ushahidi': 10882, '▁wherever': 10883, '▁chimpanze': 10884, '▁chocolate': 10885, '▁computing': 10886, '▁delivered': 10887, '▁determine': 10888, '▁diagnosed': 10889, '▁expertise': 10890, '▁footprint': 10891, '▁infection': 10892, '▁injustice': 10893, '▁interrupt': 10894, '▁mamíferos': 10895, '▁nucleares': 10896, '▁parceiros': 10897, '▁projectos': 10898, '▁renewable': 10899, '▁respondeu': 10900, '▁teenagers': 10901, '▁universos': 10902, '▁algoritmos': 10903, '▁combinação': 10904, '▁competição': 10905, '▁confidence': 10906, '▁contribute': 10907, '▁desconfort': 10908, '▁distúrbios': 10909, '▁envolvidos': 10910, '▁historical': 10911, '▁inevitable': 10912, '▁literature': 10913, '▁observação': 10914, '▁organismos': 10915, '▁percentage': 10916, '▁populações': 10917, '▁trabalhava': 10918, '▁treatments': 10919, '▁combination': 10920, '▁considerado': 10921, '▁deficiência': 10922, '▁estabelecer': 10923, '▁fisicamente': 10924, '▁fortunately': 10925, '▁francamente': 10926, '▁instalações': 10927, '▁intelligent': 10928, '▁necessárias': 10929, '▁populations': 10930, '▁significava': 10931, '▁suficientes': 10932, '▁terroristas': 10933, '▁environments': 10934, '▁intellectual': 10935, '▁occasionally': 10936, '▁neighborhoods': 10937, '▁representação': 10938, '▁sophisticated': 10939, '▁uncomfortable': 10940, 'ae': 10941, 'sp': 10942, 'vê': 10943, 'ads': 10944, 'ann': 10945, 'hal': 10946, 'iff': 10947, 'ips': 10948, 'oga': 10949, 'uts': 10950, 'õem': 10951, '▁2,': 10952, '▁lê': 10953, '▁uk': 10954, 'bado': 10955, 'cada': 10956, 'dney': 10957, 'ebol': 10958, 'enos': 10959, 'guer': 10960, 'ield': 10961, 'miss': 10962, 'onho': 10963, 'oton': 10964, 'rigu': 10965, 'rões': 10966, 'vens': 10967, 'ânio': 10968, '▁190': 10969, '▁alf': 10970, '▁alu': 10971, '▁aço': 10972, '▁cad': 10973, '▁cai': 10974, '▁fan': 10975, '▁hid': 10976, '▁inn': 10977, '▁jaw': 10978, '▁lol': 10979, '▁mah': 10980, '▁nic': 10981, '▁ore': 10982, '▁pau': 10983, '▁pix': 10984, '▁rir': 10985, '▁rub': 10986, '▁sar': 10987, 'arter': 10988, 'berry': 10989, 'enhar': 10990, 'house': 10991, 'intos': 10992, 'iquem': 10993, 'istos': 10994, 'night': 10995, 'ptual': 10996, 'trans': 10997, 'ícula': 10998, 'ódulo': 10999, '▁arco': 11000, '▁bate': 11001, '▁bull': 11002, '▁coer': 11003, '▁coke': 11004, '▁cujo': 11005, '▁diet': 11006, '▁emma': 11007, '▁ethi': 11008, '▁gang': 11009, '▁gira': 11010, '▁gran': 11011, '▁gree': 11012, '▁guns': 11013, '▁hill': 11014, '▁hind': 11015, '▁lake': 11016, '▁lens': 11017, '▁mala': 11018, '▁mall': 11019, '▁nurs': 11020, '▁perc': 11021, '▁porn': 11022, '▁pron': 11023, '▁quit': 11024, '▁roda': 11025, '▁root': 11026, '▁selv': 11027, '▁trig': 11028, '▁vira': 11029, 'anging': 11030, 'avelho': 11031, 'ection': 11032, 'gueira': 11033, 'icking': 11034, 'izamos': 11035, 'ulated': 11036, 'ulsion': 11037, '▁anest': 11038, '▁angry': 11039, '▁apert': 11040, '▁banda': 11041, '▁conor': 11042, '▁daisy': 11043, '▁dozen': 11044, '▁falls': 11045, '▁fever': 11046, '▁fêmea': 11047, '▁ganha': 11048, '▁guide': 11049, '▁heavy': 11050, '▁junho': 11051, '▁ligam': 11052, '▁liked': 11053, '▁limpa': 11054, '▁louco': 11055, '▁nodes': 11056, '▁pairs': 11057, '▁perna': 11058, '▁pilot': 11059, '▁queix': 11060, '▁recru': 11061, '▁sandy': 11062, '▁seeds': 11063, '▁velha': 11064, '▁êxito': 11065, 'ificada': 11066, 'itárias': 11067, '▁captur': 11068, '▁causas': 11069, '▁choque': 11070, '▁colocá': 11071, '▁colony': 11072, '▁conden': 11073, '▁consig': 11074, '▁corred': 11075, '▁defesa': 11076, '▁enable': 11077, '▁escape': 11078, '▁exames': 11079, '▁filter': 11080, '▁fluctu': 11081, '▁fáceis': 11082, '▁genius': 11083, '▁intact': 11084, '▁juntam': 11085, '▁latest': 11086, '▁limits': 11087, '▁livrar': 11088, '▁mapear': 11089, '▁navios': 11090, '▁pareça': 11091, '▁pedido': 11092, '▁plasma': 11093, '▁plenty': 11094, '▁poster': 11095, '▁presid': 11096, '▁proven': 11097, '▁rarely': 11098, '▁recess': 11099, '▁refere': 11100, '▁reutil': 11101, '▁rising': 11102, '▁rostos': 11103, '▁roubar': 11104, '▁rurais': 11105, '▁served': 11106, '▁spinal': 11107, '▁surgir': 11108, '▁sydney': 11109, '▁teatro': 11110, '▁teleph': 11111, '▁tirada': 11112, '▁título': 11113, '▁verbal': 11114, '▁vulgar': 11115, '▁winter': 11116, '▁cartoon': 11117, '▁colónia': 11118, '▁confirm': 11119, '▁courses': 11120, '▁câmaras': 11121, '▁eastern': 11122, '▁ecology': 11123, '▁estarão': 11124, '▁exposed': 11125, '▁falling': 11126, '▁fotógra': 11127, '▁frequen': 11128, '▁futebol': 11129, '▁galáxia': 11130, '▁granted': 11131, '▁imensas': 11132, '▁impedir': 11133, '▁islands': 11134, '▁methods': 11135, '▁múltipl': 11136, '▁neither': 11137, '▁ocorreu': 11138, '▁plantar': 11139, '▁preench': 11140, '▁prepare': 11141, '▁procure': 11142, '▁relógio': 11143, '▁removed': 11144, '▁reviews': 11145, '▁romance': 11146, '▁staying': 11147, '▁unusual': 11148, '▁visuais': 11149, '▁warming': 11150, '▁allowing': 11151, '▁caminhos': 11152, '▁chamaram': 11153, '▁collapse': 11154, '▁contrato': 11155, '▁criativa': 11156, '▁deixaram': 11157, '▁desistir': 11158, '▁desperdi': 11159, '▁eficácia': 11160, '▁figuring': 11161, '▁globally': 11162, '▁identify': 11163, '▁incorpor': 11164, '▁instinct': 11165, '▁invenção': 11166, '▁involves': 11167, '▁literacy': 11168, '▁metáfora': 11169, '▁modernos': 11170, '▁naqueles': 11171, '▁operação': 11172, '▁oxigénio': 11173, '▁procrast': 11174, '▁proposta': 11175, '▁próximas': 11176, '▁reproduz': 11177, '▁secondly': 11178, '▁sementes': 11179, '▁subjects': 11180, '▁surgiram': 11181, '▁apartment': 11182, '▁argumento': 11183, '▁colocamos': 11184, '▁consegues': 11185, '▁detection': 11186, '▁funcional': 11187, '▁inacredit': 11188, '▁increases': 11189, '▁insurance': 11190, '▁introvert': 11191, '▁newspaper': 11192, '▁organizar': 11193, '▁perguntam': 11194, '▁precision': 11195, '▁prisoners': 11196, '▁separação': 11197, '▁telescope': 11198, '▁universes': 11199, '▁veteranos': 11200, '▁componente': 11201, '▁conhecidos': 11202, '▁continente': 11203, '▁expressões': 11204, '▁financeira': 11205, '▁functional': 11206, '▁muçulmanos': 11207, '▁perceberam': 11208, '▁raciocínio': 11209, '▁suggesting': 11210, '▁association': 11211, '▁capitalismo': 11212, '▁colaboração': 11213, '▁diariamente': 11214, '▁escaravelho': 11215, '▁improvement': 11216, '▁interacting': 11217, '▁programação': 11218, '▁voluntários': 11219, '▁estatísticas': 11220, '▁profissional': 11221, '▁administração': 11222, '▁anteriormente': 11223, '▁compreendemos': 11224, '▁globalization': 11225, 'mp': 11226, 'ati': 11227, 'bie': 11228, 'cre': 11229, 'hea': 11230, 'len': 11231, 'oon': 11232, 'sey': 11233, 'ups': 11234, '▁ba': 11235, '▁cp': 11236, '▁nl': 11237, '▁ub': 11238, 'abel': 11239, 'blin': 11240, 'elar': 11241, 'elly': 11242, 'ends': 11243, 'gers': 11244, 'olos': 11245, 'rina': 11246, 'tech': 11247, 'uced': 11248, 'umes': 11249, 'vias': 11250, 'whel': 11251, 'átil': 11252, '▁ble': 11253, '▁gém': 11254, '▁háb': 11255, '▁jim': 11256, '▁lee': 11257, 'aters': 11258, 'corps': 11259, 'elled': 11260, 'ereço': 11261, 'iring': 11262, 'press': 11263, 'rabes': 11264, 'unami': 11265, 'verts': 11266, 'ómica': 11267, 'óxido': 11268, '▁1984': 11269, '▁2016': 11270, '▁abol': 11271, '▁appe': 11272, '▁caiu': 11273, '▁casc': 11274, '▁cous': 11275, '▁diab': 11276, '▁duck': 11277, '▁foco': 11278, '▁frig': 11279, '▁fórm': 11280, '▁germ': 11281, '▁gord': 11282, '▁grau': 11283, '▁grid': 11284, '▁icon': 11285, '▁ilha': 11286, '▁irei': 11287, '▁joke': 11288, '▁lago': 11289, '▁lama': 11290, '▁ligu': 11291, '▁malu': 11292, '▁polo': 11293, '▁pump': 11294, '▁reef': 11295, '▁saem': 11296, '▁seca': 11297, '▁shit': 11298, '▁shut': 11299, '▁sida': 11300, '▁soma': 11301, '▁sque': 11302, '▁subt': 11303, '▁swed': 11304, '▁toma': 11305, '▁ward': 11306, '▁zimb': 11307, 'iações': 11308, 'iciais': 11309, 'izando': 11310, 'lywood': 11311, 'market': 11312, 'ânicas': 11313, '▁2,000': 11314, '▁adopt': 11315, '▁aerop': 11316, '▁afeta': 11317, '▁ambas': 11318, '▁aside': 11319, '▁babil': 11320, '▁bambo': 11321, '▁bruno': 11322, '▁cabos': 11323, '▁champ': 11324, '▁congr': 11325, '▁crash': 11326, '▁dense': 11327, '▁diego': 11328, '▁dopam': 11329, '▁eleit': 11330, '▁enemy': 11331, '▁faiza': 11332, '▁falso': 11333, '▁flour': 11334, '▁folks': 11335, '▁gases': 11336, '▁ilhas': 11337, '▁impre': 11338, '▁initi': 11339, '▁insul': 11340, '▁irmãs': 11341, '▁larga': 11342, '▁limpo': 11343, '▁logic': 11344, '▁louca': 11345, '▁mario': 11346, '▁mixed': 11347, '▁nelas': 11348, '▁pediu': 11349, '▁plays': 11350, '▁polin': 11351, '▁proje': 11352, '▁sexta': 11353, '▁skill': 11354, '▁skype': 11355, '▁spoke': 11356, '▁tirei': 11357, 'ography': 11358, '▁apreci': 11359, '▁burden': 11360, '▁button': 11361, '▁básico': 11362, '▁campus': 11363, '▁confir': 11364, '▁contín': 11365, '▁convey': 11366, '▁crimes': 11367, '▁critic': 11368, '▁dental': 11369, '▁desped': 11370, '▁digest': 11371, '▁entram': 11372, '▁famoso': 11373, '▁filoso': 11374, '▁fright': 11375, '▁guitar': 11376, '▁harbor': 11377, '▁humilh': 11378, '▁idosas': 11379, '▁joshua': 11380, '▁levado': 11381, '▁lucros': 11382, '▁menino': 11383, '▁native': 11384, '▁output': 11385, '▁oyster': 11386, '▁perpet': 11387, '▁pestic': 11388, '▁piores': 11389, '▁primos': 11390, '▁privil': 11391, '▁quotid': 11392, '▁rezero': 11393, '▁scenar': 11394, '▁servir': 11395, '▁sofrem': 11396, '▁traged': 11397, '▁trials': 11398, '▁tricks': 11399, '▁trucks': 11400, '▁velhas': 11401, '▁visita': 11402, '▁vivian': 11403, '▁árabes': 11404, '▁agentes': 11405, '▁aprende': 11406, '▁atlanta': 11407, '▁barbear': 11408, '▁burning': 11409, '▁cameras': 11410, '▁cidadão': 11411, '▁circuit': 11412, '▁clothes': 11413, '▁compete': 11414, '▁contrat': 11415, '▁definir': 11416, '▁demorar': 11417, '▁denisov': 11418, '▁descont': 11419, '▁devagar': 11420, '▁diretor': 11421, '▁dispers': 11422, '▁distant': 11423, '▁divided': 11424, '▁dividir': 11425, '▁domínio': 11426, '▁esperem': 11427, '▁estimul': 11428, '▁eventos': 11429, '▁exhaust': 11430, '▁farming': 11431, '▁funding': 11432, '▁imensos': 11433, '▁licenci': 11434, '▁mentira': 11435, '▁noutras': 11436, '▁orgulho': 11437, '▁parques': 11438, '▁recebeu': 11439, '▁revelar': 11440, '▁rápidos': 11441, '▁screens': 11442, '▁senhora': 11443, '▁sexuais': 11444, '▁theater': 11445, '▁traumat': 11446, '▁tsunami': 11447, '▁ultrass': 11448, '▁whereas': 11449, '▁abrandar': 11450, '▁agências': 11451, '▁ajudaram': 11452, '▁aumentou': 11453, '▁baseball': 11454, '▁cardíaco': 11455, '▁carnegie': 11456, '▁centrais': 11457, '▁circular': 11458, '▁concepts': 11459, '▁configur': 11460, '▁cêntimos': 11461, '▁delivery': 11462, '▁distinct': 11463, '▁download': 11464, '▁entendem': 11465, '▁existing': 11466, '▁flexible': 11467, '▁focusing': 11468, '▁habitats': 11469, '▁melhoria': 11470, '▁mohammed': 11471, '▁movember': 11472, '▁neurolog': 11473, '▁organize': 11474, '▁overwhel': 11475, '▁pinturas': 11476, '▁previsão': 11477, '▁públicas': 11478, '▁refugees': 11479, '▁reminded': 11480, '▁sacrific': 11481, '▁swimming': 11482, '▁símbolos': 11483, '▁whenever': 11484, '▁wireless': 11485, '▁acontecem': 11486, '▁celebrate': 11487, '▁centuries': 11488, '▁continued': 11489, '▁documento': 11490, '▁entrevist': 11491, '▁expanding': 11492, '▁exploring': 11493, '▁histórico': 11494, '▁identific': 11495, '▁inovações': 11496, '▁investors': 11497, '▁magnitude': 11498, '▁maravilha': 11499, '▁measuring': 11500, '▁microfone': 11501, '▁microsoft': 11502, '▁motivação': 11503, '▁originais': 11504, '▁percepção': 11505, '▁poderosas': 11506, '▁poupanças': 11507, '▁primavera': 11508, '▁profundas': 11509, '▁reasoning': 11510, '▁similarly': 11511, '▁translate': 11512, '▁vantagens': 11513, '▁appreciate': 11514, '▁conseguiam': 11515, '▁definitely': 11516, '▁descoberto': 11517, '▁determinar': 11518, '▁eficientes': 11519, '▁electronic': 11520, '▁encontrado': 11521, '▁estivessem': 11522, '▁explaining': 11523, '▁fascinated': 11524, '▁healthcare': 11525, '▁instrument': 11526, '▁invisíveis': 11527, '▁journalist': 11528, '▁littlebits': 11529, '▁nutrientes': 11530, '▁partilhada': 11531, '▁permission': 11532, '▁prioridade': 11533, '▁restaurant': 11534, '▁storycorps': 11535, '▁struggling': 11536, '▁telescópio': 11537, '▁utilizador': 11538, '▁apartamento': 11539, '▁desperdício': 11540, '▁intelectual': 11541, '▁intervenção': 11542, '▁jornalistas': 11543, '▁matemáticos': 11544, '▁partilhamos': 11545, '▁recognition': 11546, '▁uncertainty': 11547, '▁vulneráveis': 11548, '▁apresentação': 11549, '▁desconhecido': 11550, '▁directamente': 11551, '▁doutoramento': 11552, '▁efetivamente': 11553, '▁experimental': 11554, '▁globalização': 11555, '▁informáticos': 11556, '▁instructions': 11557, '▁preocupações': 11558, '▁acontecimento': 11559, '▁collaborative': 11560, '▁possivelmente': 11561, '▁universidades': 11562, '▁cybercriminals': 11563, '▁potencialmente': 11564, '▁tridimensional': 11565, '▁extraordinárias': 11566, 'ju': 11567, 'ía': 11568, 'ôs': 11569, 'das': 11570, 'eir': 11571, 'iab': 11572, 'mat': 11573, 'mel': 11574, 'uar': 11575, 'ând': 11576, 'ínt': 11577, '▁29': 11578, '▁3.': 11579, '▁31': 11580, '▁74': 11581, '▁bb': 11582, '▁bh': 11583, '▁ib': 11584, '▁rw': 11585, 'alho': 11586, 'biqu': 11587, 'bust': 11588, 'cats': 11589, 'cura': 11590, 'eday': 11591, 'enes': 11592, 'iceu': 11593, 'idez': 11594, 'igen': 11595, 'ilty': 11596, 'into': 11597, 'iria': 11598, 'jevo': 11599, 'name': 11600, 'pled': 11601, 'pool': 11602, 'rada': 11603, 'rill': 11604, 'town': 11605, 'ulum': 11606, 'wing': 11607, '▁1.2': 11608, '▁10-': 11609, '▁apt': 11610, '▁bru': 11611, '▁chá': 11612, '▁dvd': 11613, '▁dys': 11614, '▁eti': 11615, '▁gaz': 11616, '▁nur': 11617, '▁sep': 11618, '▁sól': 11619, '▁voo': 11620, 'aired': 11621, 'ctica': 11622, 'eding': 11623, 'eline': 11624, 'ensar': 11625, 'hetic': 11626, 'itous': 11627, 'mates': 11628, 'ulado': 11629, 'under': 11630, '▁arts': 11631, '▁axis': 11632, '▁carp': 11633, '▁cego': 11634, '▁clay': 11635, '▁cães': 11636, '▁dust': 11637, '▁falt': 11638, '▁flip': 11639, '▁guia': 11640, '▁herd': 11641, '▁lapt': 11642, '▁peak': 11643, '▁pige': 11644, '▁pill': 11645, '▁pura': 11646, '▁rode': 11647, '▁sedu': 11648, '▁sexy': 11649, '▁spin': 11650, '▁stom': 11651, '▁tape': 11652, '▁térm': 11653, '▁viam': 11654, '▁yale': 11655, '▁ódio': 11656, 'aching': 11657, 'arrass': 11658, 'ordial': 11659, 'éticos': 11660, '▁5,000': 11661, '▁alarm': 11662, '▁antár': 11663, '▁arroz': 11664, '▁arter': 11665, '▁aston': 11666, '▁autoc': 11667, '▁award': 11668, '▁caras': 11669, '▁cents': 11670, '▁chron': 11671, '▁climb': 11672, '▁curar': 11673, '▁desag': 11674, '▁digit': 11675, '▁drawn': 11676, '▁empol': 11677, '▁encol': 11678, '▁falsa': 11679, '▁fizer': 11680, '▁genet': 11681, '▁habil': 11682, '▁inund': 11683, '▁justo': 11684, '▁lavar': 11685, '▁legit': 11686, '▁liceu': 11687, '▁likes': 11688, '▁malic': 11689, '▁marco': 11690, '▁março': 11691, '▁miner': 11692, '▁mudei': 11693, '▁nariz': 11694, '▁ontem': 11695, '▁orelh': 11696, '▁penis': 11697, '▁placa': 11698, '▁poeta': 11699, '▁preso': 11700, '▁salto': 11701, '▁satur': 11702, '▁shell': 11703, '▁shoot': 11704, '▁smile': 11705, '▁soube': 11706, '▁style': 11707, '▁síria': 11708, '▁theme': 11709, '▁therm': 11710, '▁tweet': 11711, '▁twist': 11712, '▁ubiqu': 11713, '▁walks': 11714, '▁wired': 11715, '▁yield': 11716, 'aminais': 11717, 'ecnolog': 11718, 'illance': 11719, 'inações': 11720, 'through': 11721, 'íssemos': 11722, '▁ambigu': 11723, '▁autism': 11724, '▁behave': 11725, '▁bilião': 11726, '▁borrow': 11727, '▁clinic': 11728, '▁cosmos': 11729, '▁deadly': 11730, '▁diarre': 11731, '▁distor': 11732, '▁emails': 11733, '▁enriqu': 11734, '▁entreg': 11735, '▁entret': 11736, '▁establ': 11737, '▁excell': 11738, '▁farmer': 11739, '▁former': 11740, '▁foster': 11741, '▁gandhi': 11742, '▁geomet': 11743, '▁guarda': 11744, '▁ilegal': 11745, '▁judeus': 11746, '▁korean': 11747, '▁ladies': 11748, '▁limpar': 11749, '▁mágico': 11750, '▁narrow': 11751, '▁negras': 11752, '▁noutra': 11753, '▁obstac': 11754, '▁oferec': 11755, '▁pormen': 11756, '▁relate': 11757, '▁reveal': 11758, '▁richer': 11759, '▁robust': 11760, '▁ruanda': 11761, '▁sanita': 11762, '▁shaped': 11763, '▁souber': 11764, '▁static': 11765, '▁subway': 11766, '▁transg': 11767, '▁trends': 11768, '▁tweets': 11769, '▁usaram': 11770, '▁valley': 11771, '▁voters': 11772, '▁ameaças': 11773, '▁amounts': 11774, '▁antecip': 11775, '▁apontar': 11776, '▁babylon': 11777, '▁cabeças': 11778, '▁clareza': 11779, '▁classes': 11780, '▁concern': 11781, '▁crédito': 11782, '▁diverse': 11783, '▁efforts': 11784, '▁eleição': 11785, '▁ensinou': 11786, '▁envelop': 11787, '▁existed': 11788, '▁explica': 11789, '▁extremo': 11790, '▁federal': 11791, '▁ficarem': 11792, '▁fizesse': 11793, '▁fortune': 11794, '▁ignorar': 11795, '▁intrigu': 11796, '▁ligadas': 11797, '▁loucura': 11798, '▁partida': 11799, '▁parties': 11800, '▁pegamos': 11801, '▁possuem': 11802, '▁pudemos': 11803, '▁resulta': 11804, '▁rolling': 11805, '▁seguras': 11806, '▁sejamos': 11807, '▁sexting': 11808, '▁singing': 11809, '▁someday': 11810, '▁tension': 11811, '▁tijolos': 11812, '▁transit': 11813, '▁técnico': 11814, '▁unknown': 11815, 'ecnologia': 11816, '▁acredita': 11817, '▁activist': 11818, '▁airplane': 11819, '▁appropri': 11820, '▁brinqued': 11821, '▁chineses': 11822, '▁condução': 11823, '▁conexões': 11824, '▁confusão': 11825, '▁desenhos': 11826, '▁dramatic': 11827, '▁engineer': 11828, '▁estarmos': 11829, '▁fertiliz': 11830, '▁floating': 11831, '▁horrible': 11832, '▁incomple': 11833, '▁informal': 11834, '▁inventor': 11835, '▁minister': 11836, '▁movembro': 11837, '▁passados': 11838, '▁pression': 11839, '▁privileg': 11840, '▁receitas': 11841, '▁resultou': 11842, '▁robotics': 11843, '▁sarajevo': 11844, '▁sciences': 11845, '▁tornarem': 11846, '▁trabalha': 11847, '▁ancestors': 11848, '▁aparência': 11849, '▁autocarro': 11850, '▁categoria': 11851, '▁comecemos': 11852, '▁considero': 11853, '▁conversar': 11854, '▁currículo': 11855, '▁embarrass': 11856, '▁epidemias': 11857, '▁espantosa': 11858, '▁excitante': 11859, '▁farmacêut': 11860, '▁forgotten': 11861, '▁graduated': 11862, '▁hollywood': 11863, '▁imigração': 11864, '▁instantly': 11865, '▁manipular': 11866, '▁microscop': 11867, '▁motivated': 11868, '▁obesidade': 11869, '▁operações': 11870, '▁physician': 11871, '▁reduction': 11872, '▁satélites': 11873, '▁spiritual': 11874, '▁terríveis': 11875, '▁verificar': 11876, '▁acreditava': 11877, '▁anteriores': 11878, '▁apparently': 11879, '▁automóveis': 11880, '▁comentário': 11881, '▁complicada': 11882, '▁conclusion': 11883, '▁continuava': 11884, '▁controvers': 11885, '▁costumavam': 11886, '▁escolhemos': 11887, '▁estaminais': 11888, '▁excelentes': 11889, '▁instalação': 11890, '▁limitações': 11891, '▁obstáculos': 11892, '▁permanecer': 11893, '▁personagem': 11894, '▁primordial': 11895, '▁renováveis': 11896, '▁retirement': 11897, '▁underwater': 11898, '▁adolescente': 11899, '▁description': 11900, '▁determinado': 11901, '▁localização': 11902, '▁preocupação': 11903, '▁quantidades': 11904, '▁represented': 11905, '▁tecnológica': 11906, '▁transformou': 11907, '▁estabilidade': 11908, '▁photographer': 11909, '▁universities': 11910, '▁transferência': 11911, '▁empreendedores': 11912, '12': 11913, 'eb': 11914, 'uo': 11915, '▁+': 11916, 'abl': 11917, 'ani': 11918, 'aqu': 11919, 'cut': 11920, 'duk': 11921, 'far': 11922, 'fei': 11923, 'ths': 11924, 'usa': 11925, 'war': 11926, \"▁'9\": 11927, '▁48': 11928, '▁jr': 11929, '▁yr': 11930, 'aker': 11931, 'avas': 11932, 'azer': 11933, 'comp': 11934, 'ctic': 11935, 'enet': 11936, 'etta': 11937, 'ezas': 11938, 'free': 11939, 'hada': 11940, 'iced': 11941, 'iled': 11942, 'imag': 11943, 'kind': 11944, 'mart': 11945, 'ollo': 11946, 'osso': 11947, 'phia': 11948, 'tais': 11949, 'writ': 11950, 'ónio': 11951, '▁1,5': 11952, '▁192': 11953, '▁amy': 11954, '▁cro': 11955, '▁dat': 11956, '▁dit': 11957, '▁ink': 11958, '▁isa': 11959, '▁kin': 11960, '▁omn': 11961, '▁shy': 11962, 'adequ': 11963, 'ading': 11964, 'endas': 11965, 'iance': 11966, 'ision': 11967, 'itzer': 11968, 'orden': 11969, 'ótico': 11970, '▁1960': 11971, '▁1989': 11972, '▁1995': 11973, '▁argu': 11974, '▁bats': 11975, '▁bilh': 11976, '▁brid': 11977, '▁cage': 11978, '▁chat': 11979, '▁coma': 11980, '▁curs': 11981, '▁cute': 11982, '▁exib': 11983, '▁extr': 11984, '▁fasc': 11985, '▁flew': 11986, '▁glor': 11987, '▁guar': 11988, '▁inch': 11989, '▁liby': 11990, '▁luxo': 11991, '▁mega': 11992, '▁micr': 11993, '▁nose': 11994, '▁odys': 11995, '▁outs': 11996, '▁pace': 11997, '▁pend': 11998, '▁pigs': 11999, '▁reag': 12000, '▁stux': 12001, '▁tank': 12002, '▁tanz': 12003, '▁tart': 12004, '▁tast': 12005, '▁teus': 12006, '▁ugly': 12007, '▁usei': 12008, '▁virt': 12009, 'itudes': 12010, 'ocking': 12011, 'owanus': 12012, 'tained': 12013, 'tzmann': 12014, 'uridão': 12015, 'vision': 12016, 'ímetro': 12017, '▁apelo': 12018, '▁arbit': 12019, '▁bombe': 12020, '▁bronx': 12021, '▁carga': 12022, '▁chaos': 12023, '▁clock': 12024, '▁conto': 12025, '▁diarr': 12026, '▁dieta': 12027, '▁donos': 12028, '▁esque': 12029, '▁exped': 12030, '▁fluid': 12031, '▁freud': 12032, '▁grain': 12033, '▁graça': 12034, '▁helic': 12035, '▁insec': 12036, '▁inser': 12037, '▁islâm': 12038, '▁lunch': 12039, '▁marry': 12040, '▁nanot': 12041, '▁ostra': 12042, '▁panel': 12043, '▁parou': 12044, '▁pause': 12045, '▁pecul': 12046, '▁pharm': 12047, '▁praia': 12048, '▁recém': 12049, '▁segue': 12050, '▁sofre': 12051, '▁tento': 12052, '▁valid': 12053, '▁verme': 12054, '▁vocal': 12055, '▁wider': 12056, '▁órgão': 12057, 'ishment': 12058, 'ulating': 12059, '▁acknow': 12060, '▁advers': 12061, '▁arrang': 12062, '▁astero': 12063, '▁ativos': 12064, '▁autênt': 12065, '▁branca': 12066, '▁captar': 12067, '▁clicar': 12068, '▁coreia': 12069, '▁costas': 12070, '▁county': 12071, '▁cozinh': 12072, '▁desafi': 12073, '▁diapos': 12074, '▁empire': 12075, '▁empolg': 12076, '▁errors': 12077, '▁excess': 12078, '▁fallen': 12079, '▁férias': 12080, '▁ganham': 12081, '▁grades': 12082, '▁hambúr': 12083, '▁hannah': 12084, '▁havido': 12085, '▁hearts': 12086, '▁holmes': 12087, '▁loucos': 12088, '▁mainly': 12089, '▁marduk': 12090, '▁medula': 12091, '▁mundos': 12092, '▁newton': 12093, '▁recomm': 12094, '▁regard': 12095, '▁republ': 12096, '▁reunir': 12097, '▁rivers': 12098, '▁sacrif': 12099, '▁saltar': 12100, '▁scores': 12101, '▁season': 12102, '▁slides': 12103, '▁stroke': 12104, '▁tackle': 12105, '▁textos': 12106, '▁tomato': 12107, '▁usámos': 12108, '▁vistos': 12109, '▁worlds': 12110, '▁yester': 12111, 'children': 12112, '▁adorava': 12113, '▁anatomy': 12114, '▁artwork': 12115, '▁assumir': 12116, '▁beetles': 12117, '▁browser': 12118, '▁camiões': 12119, '▁causing': 12120, '▁chances': 12121, '▁cluster': 12122, '▁correio': 12123, '▁damaged': 12124, '▁defense': 12125, '▁disrupt': 12126, '▁dióxido': 12127, '▁drivers': 12128, '▁emotion': 12129, '▁ensinam': 12130, '▁errados': 12131, '▁estúdio': 12132, '▁etiópia': 12133, '▁excesso': 12134, '▁francês': 12135, '▁genomas': 12136, '▁genomes': 12137, '▁gordura': 12138, '▁gowanus': 12139, '▁incluir': 12140, '▁inverno': 12141, '▁levaram': 12142, '▁license': 12143, '▁mistura': 12144, '▁naquilo': 12145, '▁navegar': 12146, '▁obesity': 12147, '▁olhemos': 12148, '▁outcome': 12149, '▁painéis': 12150, '▁parking': 12151, '▁perdida': 12152, '▁prolong': 12153, '▁quantit': 12154, '▁raising': 12155, '▁reduced': 12156, '▁ridicul': 12157, '▁saudita': 12158, '▁sentada': 12159, '▁sisters': 12160, '▁stephen': 12161, '▁stomach': 12162, '▁sujeito': 12163, '▁suporte': 12164, '▁talento': 12165, '▁targets': 12166, '▁teenage': 12167, '▁tragedy': 12168, '▁truques': 12169, '▁voyager': 12170, '▁achieved': 12171, '▁brothers': 12172, '▁cadeiras': 12173, '▁carrying': 12174, '▁category': 12175, '▁chamados': 12176, '▁clínicos': 12177, '▁combinar': 12178, '▁começado': 12179, '▁concerns': 12180, '▁conclude': 12181, '▁consiste': 12182, '▁construt': 12183, '▁deixamos': 12184, '▁distante': 12185, '▁domingos': 12186, '▁egyptian': 12187, '▁energias': 12188, '▁estariam': 12189, '▁explicou': 12190, '▁factores': 12191, '▁flexível': 12192, '▁funcione': 12193, '▁generous': 12194, '▁honduras': 12195, '▁infected': 12196, '▁inspirar': 12197, '▁inventou': 12198, '▁invested': 12199, '▁kilogram': 12200, '▁levantem': 12201, '▁marginal': 12202, '▁morcegos': 12203, '▁nanopart': 12204, '▁posições': 12205, '▁poupança': 12206, '▁preocupa': 12207, '▁produzem': 12208, '▁publicar': 12209, '▁recovery': 12210, '▁resistir': 12211, '▁senhores': 12212, '▁sensores': 12213, '▁shooting': 12214, '▁shopping': 12215, '▁stations': 12216, '▁stranger': 12217, '▁suicídio': 12218, '▁tentaram': 12219, '▁tradução': 12220, '▁tragédia': 12221, '▁versions': 12222, '▁violenta': 12223, '▁agradecer': 12224, '▁announced': 12225, '▁argentina': 12226, '▁believing': 12227, '▁boltzmann': 12228, '▁circuitos': 12229, '▁cognitivo': 12230, '▁comportam': 12231, '▁compromet': 12232, '▁conceitos': 12233, '▁corrupção': 12234, '▁descrição': 12235, '▁dispostos': 12236, '▁economist': 12237, '▁epidemics': 12238, '▁escuridão': 12239, '▁framework': 12240, '▁generated': 12241, '▁genéticas': 12242, '▁immediate': 12243, '▁instituto': 12244, '▁invention': 12245, '▁microbial': 12246, '▁objective': 12247, '▁prototype': 12248, '▁quaisquer': 12249, '▁sculpture': 12250, '▁stability': 12251, '▁tradições': 12252, '▁typically': 12253, '▁yesterday': 12254, '▁acessíveis': 12255, '▁activities': 12256, '▁aprenderam': 12257, '▁autocarros': 12258, '▁collecting': 12259, '▁compelling': 12260, '▁contribuir': 12261, '▁emergência': 12262, '▁empowering': 12263, '▁empregados': 12264, '▁energética': 12265, '▁exercícios': 12266, '▁financeiro': 12267, '▁incentivos': 12268, '▁inevitável': 12269, '▁influenced': 12270, '▁iniciativa': 12271, '▁julgamento': 12272, '▁multiverse': 12273, '▁multiverso': 12274, '▁partilhado': 12275, '▁precisavam': 12276, '▁privilégio': 12277, '▁proportion': 12278, '▁recognized': 12279, '▁referência': 12280, '▁reinventar': 12281, '▁smartphone': 12282, '▁surrounded': 12283, '▁ubiquitous': 12284, '▁ultrasound': 12285, '▁visualizar': 12286, '▁calculating': 12287, '▁escritórios': 12288, '▁expressions': 12289, '▁immigration': 12290, '▁independent': 12291, '▁informática': 12292, '▁instrumento': 12293, '▁journalists': 12294, '▁surrounding': 12295, '▁trabalhamos': 12296, '▁verdadeiras': 12297, '▁alternativas': 12298, '▁antepassados': 12299, '▁breakthrough': 12300, '▁demonstração': 12301, '▁ecossistemas': 12302, '▁entrepreneur': 12303, '▁entusiasmado': 12304, '▁inicialmente': 12305, '▁intervention': 12306, '▁personalized': 12307, '▁conhecimentos': 12308, '▁schizophrenia': 12309, '▁acontecimentos': 12310, '▁impressionante': 12311, '▁ocasionalmente': 12312, '80': 12313, 'pi': 12314, 'zo': 12315, 'ób': 12316, '▁#': 12317, 'alt': 12318, 'cra': 12319, 'heu': 12320, 'mad': 12321, 'tsd': 12322, 'ênd': 12323, 'ína': 12324, '▁gi': 12325, '▁ím': 12326, 'city': 12327, 'elos': 12328, 'guem': 12329, 'hips': 12330, 'iety': 12331, 'ilia': 12332, 'offs': 12333, 'olas': 12334, 'olis': 12335, 'rust': 12336, 'stal': 12337, 'uate': 12338, 'untu': 12339, 'utan': 12340, '▁bay': 12341, '▁bin': 12342, '▁enl': 12343, '▁fda': 12344, '▁ian': 12345, '▁ske': 12346, '▁une': 12347, '▁wag': 12348, 'aming': 12349, 'antee': 12350, 'archy': 12351, 'econd': 12352, 'icted': 12353, 'ipped': 12354, 'iracy': 12355, 'oxide': 12356, 'porto': 12357, 'quear': 12358, 'ringe': 12359, 'watts': 12360, 'while': 12361, '▁acts': 12362, '▁aids': 12363, '▁avós': 12364, '▁bail': 12365, '▁bump': 12366, '▁clon': 12367, '▁curv': 12368, '▁diâm': 12369, '▁grit': 12370, '▁guid': 12371, '▁jung': 12372, '▁kenn': 12373, '▁lets': 12374, '▁mama': 12375, '▁nich': 12376, '▁node': 12377, '▁pato': 12378, '▁pico': 12379, '▁riso': 12380, '▁rose': 12381, '▁serm': 12382, '▁sits': 12383, '▁solu': 12384, '▁teia': 12385, '▁thin': 12386, '▁troc': 12387, '▁turk': 12388, '▁wash': 12389, 'apping': 12390, 'making': 12391, 'tering': 12392, 'urados': 12393, 'ântico': 12394, 'íssimo': 12395, 'ónicas': 12396, '▁6,000': 12397, '▁abast': 12398, '▁achar': 12399, '▁album': 12400, '▁aliás': 12401, '▁alvos': 12402, '▁angle': 12403, '▁antar': 12404, '▁apost': 12405, '▁apres': 12406, '▁arist': 12407, '▁begun': 12408, '▁bizar': 12409, '▁blast': 12410, '▁bolha': 12411, '▁buses': 12412, '▁camar': 12413, '▁careg': 12414, '▁caros': 12415, '▁chair': 12416, '▁curta': 12417, '▁deixe': 12418, '▁dobro': 12419, '▁donna': 12420, '▁donor': 12421, '▁doors': 12422, '▁dores': 12423, '▁dupla': 12424, '▁fears': 12425, '▁fiber': 12426, '▁fifth': 12427, '▁flick': 12428, '▁fusão': 12429, '▁garra': 12430, '▁harry': 12431, '▁hiper': 12432, '▁immun': 12433, '▁incon': 12434, '▁lembr': 12435, '▁lojas': 12436, '▁miser': 12437, '▁monum': 12438, '▁morta': 12439, '▁mount': 12440, '▁naked': 12441, '▁neles': 12442, '▁oeste': 12443, '▁ought': 12444, '▁outer': 12445, '▁pirat': 12446, '▁plain': 12447, '▁rebel': 12448, '▁recip': 12449, '▁reduc': 12450, '▁resil': 12451, '▁roger': 12452, '▁sadly': 12453, '▁safer': 12454, '▁saído': 12455, '▁shake': 12456, '▁shall': 12457, '▁syria': 12458, '▁taxas': 12459, '▁tests': 12460, '▁tunis': 12461, '▁turma': 12462, '▁túnel': 12463, '▁utter': 12464, '▁vasto': 12465, 'atively': 12466, 'ounding': 12467, 'restres': 12468, 'ventude': 12469, 'êssemos': 12470, 'ímetros': 12471, '▁aplica': 12472, '▁avanço': 12473, '▁aviões': 12474, '▁bhutan': 12475, '▁comedy': 12476, '▁correu': 12477, '▁crypto': 12478, '▁deitar': 12479, '▁desast': 12480, '▁distur': 12481, '▁embaix': 12482, '▁empenh': 12483, '▁enigma': 12484, '▁entrei': 12485, '▁escrav': 12486, '▁falava': 12487, '▁foguet': 12488, '▁formal': 12489, '▁freely': 12490, '▁frigor': 12491, '▁golden': 12492, '▁guilty': 12493, '▁houver': 12494, '▁lançou': 12495, '▁luxury': 12496, '▁macaco': 12497, '▁meteor': 12498, '▁monkey': 12499, '▁occupy': 12500, '▁pedras': 12501, '▁porcos': 12502, '▁prices': 12503, '▁promet': 12504, '▁quarta': 12505, '▁raízes': 12506, '▁russia': 12507, '▁scream': 12508, '▁seguem': 12509, '▁spoken': 12510, '▁sports': 12511, '▁studio': 12512, '▁sweden': 12513, '▁talent': 12514, '▁thrown': 12515, '▁trocar': 12516, '▁tópico': 12517, '▁ubuntu': 12518, '▁urbano': 12519, '▁vistas': 12520, '▁zimbab': 12521, 'amentais': 12522, 'identais': 12523, '▁adiante': 12524, '▁adopção': 12525, '▁advance': 12526, '▁affects': 12527, '▁airport': 12528, '▁analyze': 12529, '▁baratos': 12530, '▁bateria': 12531, '▁besides': 12532, '▁breathe': 12533, '▁cimento': 12534, '▁comemos': 12535, '▁comédia': 12536, '▁crenças': 12537, '▁culpado': 12538, '▁demorou': 12539, '▁detalhe': 12540, '▁detetar': 12541, '▁displac': 12542, '▁elected': 12543, '▁escapar': 12544, '▁estudei': 12545, '▁excepto': 12546, '▁gallery': 12547, '▁hackers': 12548, '▁herself': 12549, '▁imaging': 12550, '▁israeli': 12551, '▁letting': 12552, '▁lolcats': 12553, '▁methane': 12554, '▁miniatu': 12555, '▁morrido': 12556, '▁motivos': 12557, '▁neutral': 12558, '▁paradig': 12559, '▁pediram': 12560, '▁picking': 12561, '▁planear': 12562, '▁plateia': 12563, '▁potável': 12564, '▁profits': 12565, '▁químico': 12566, '▁reached': 12567, '▁seremos': 12568, '▁smoking': 12569, '▁speaker': 12570, '▁stuxnet': 12571, '▁threats': 12572, '▁adoption': 12573, '▁alimento': 12574, '▁anatomia': 12575, '▁branches': 12576, '▁captured': 12577, '▁cegueira': 12578, '▁clusters': 12579, '▁collagen': 12580, '▁comments': 12581, '▁competir': 12582, '▁complain': 12583, '▁congress': 12584, '▁conhecia': 12585, '▁contains': 12586, '▁corporal': 12587, '▁correcta': 12588, '▁cultivar': 12589, '▁diarreia': 12590, '▁doloroso': 12591, '▁doodling': 12592, '▁ecologia': 12593, '▁electrón': 12594, '▁escritos': 12595, '▁estações': 12596, '▁extensão': 12597, '▁gratidão': 12598, '▁insights': 12599, '▁japanese': 12600, '▁lighting': 12601, '▁morality': 12602, '▁navigate': 12603, '▁northern': 12604, '▁novidade': 12605, '▁overcome': 12606, '▁paradoxo': 12607, '▁patentes': 12608, '▁peculiar': 12609, '▁presença': 12610, '▁properly': 12611, '▁quântico': 12612, '▁regresso': 12613, '▁senhoras': 12614, '▁sentirem': 12615, '▁surgeons': 12616, '▁survived': 12617, '▁tropical': 12618, '▁voltando': 12619, '▁accenture': 12620, '▁blindness': 12621, '▁breathing': 12622, '▁candidate': 12623, '▁christmas': 12624, '▁component': 12625, '▁criadores': 12626, '▁depending': 12627, '▁escultura': 12628, '▁establish': 12629, '▁estivemos': 12630, '▁horizonte': 12631, '▁juventude': 12632, '▁literacia': 12633, '▁mountains': 12634, '▁movements': 12635, '▁nutrition': 12636, '▁paciência': 12637, '▁physicist': 12638, '▁pontuação': 12639, '▁positions': 12640, '▁relatório': 12641, '▁reparação': 12642, '▁satellite': 12643, '▁suggested': 12644, '▁sustentar': 12645, '▁tropicais': 12646, '▁vermelhos': 12647, '▁abundância': 12648, '▁altogether': 12649, '▁apaixonada': 12650, '▁apareceram': 12651, '▁approaches': 12652, '▁associação': 12653, '▁cirurgiões': 12654, '▁começarmos': 12655, '▁corruption': 12656, '▁discussões': 12657, '▁electrical': 12658, '▁específica': 12659, '▁evidências': 12660, '▁geographic': 12661, '▁integrated': 12662, '▁nascimento': 12663, '▁observamos': 12664, '▁permanente': 12665, '▁preocupado': 12666, '▁resistance': 12667, '▁respiração': 12668, '▁satellites': 12669, '▁separation': 12670, '▁sequências': 12671, '▁trabalhado': 12672, '▁vigilância': 12673, '▁aconteceria': 12674, '▁alimentação': 12675, '▁beautifully': 12676, '▁construídas': 12677, '▁disappeared': 12678, '▁economistas': 12679, '▁estratégias': 12680, '▁fabricantes': 12681, '▁instruments': 12682, '▁intensidade': 12683, '▁observation': 12684, '▁perguntaram': 12685, '▁photographs': 12686, '▁translation': 12687, '▁conventional': 12688, '▁incapacidade': 12689, '▁maravilhosas': 12690, '▁prisioneiros': 12691, '▁surveillance': 12692, '▁colaboradores': 12693, '▁efectivamente': 12694, '▁entusiasmante': 12695, '▁esquizofrenia': 12696, '▁mathematician': 12697, '▁participation': 12698, '▁professionals': 12699, '▁infraestruturas': 12700, 'wl': 12701, 'ws': 12702, 'úm': 12703, 'agn': 12704, 'ban': 12705, 'byl': 12706, 'fus': 12707, 'hot': 12708, 'iço': 12709, 'ole': 12710, 'pri': 12711, 'uel': 12712, '▁64': 12713, '▁84': 12714, '▁jb': 12715, '▁ly': 12716, '▁tk': 12717, 'ague': 12718, 'alia': 12719, 'anim': 12720, 'cass': 12721, 'cers': 12722, 'cipe': 12723, 'corn': 12724, 'ctor': 12725, 'esto': 12726, 'flow': 12727, 'gura': 12728, 'hyth': 12729, 'ilas': 12730, 'inga': 12731, 'ipos': 12732, 'lege': 12733, 'lets': 12734, 'lims': 12735, 'lymp': 12736, 'otes': 12737, 'pear': 12738, 'pler': 12739, 'ston': 12740, 'very': 12741, 'vido': 12742, 'vind': 12743, 'what': 12744, 'yers': 12745, 'ísta': 12746, '▁2.0': 12747, '▁abd': 12748, '▁bip': 12749, '▁cum': 12750, '▁enx': 12751, '▁ere': 12752, '▁hud': 12753, '▁lág': 12754, '▁piz': 12755, '▁pôs': 12756, '▁põe': 12757, '▁rum': 12758, '▁rús': 12759, '▁sla': 12760, '▁vim': 12761, '▁voa': 12762, '▁zip': 12763, 'agger': 12764, 'aning': 12765, 'arias': 12766, 'asing': 12767, 'cular': 12768, 'haran': 12769, 'icção': 12770, 'inada': 12771, 'inton': 12772, 'itors': 12773, 'nobyl': 12774, 'quete': 12775, 'stage': 12776, 'think': 12777, 'urado': 12778, 'versa': 12779, 'ístas': 12780, '▁1991': 12781, '▁2002': 12782, '▁amen': 12783, '▁anth': 12784, '▁bali': 12785, '▁berk': 12786, '▁bike': 12787, '▁buck': 12788, '▁clue': 12789, '▁cock': 12790, '▁denn': 12791, '▁desk': 12792, '▁dogs': 12793, '▁drew': 12794, '▁elog': 12795, '▁emer': 12796, '▁fart': 12797, '▁fura': 12798, '▁glue': 12799, '▁golf': 12800, '▁hans': 12801, '▁jews': 12802, '▁judg': 12803, '▁laid': 12804, '▁mode': 12805, '▁neck': 12806, '▁ngos': 12807, '▁ouve': 12808, '▁pale': 12809, '▁plug': 12810, '▁pour': 12811, '▁rect': 12812, '▁recy': 12813, '▁ross': 12814, '▁sink': 12815, '▁soar': 12816, '▁sond': 12817, '▁tide': 12818, '▁unic': 12819, '▁unir': 12820, '▁uplo': 12821, '▁vivi': 12822, '▁whis': 12823, 'almoço': 12824, 'imetal': 12825, 'ington': 12826, 'source': 12827, 'ígenas': 12828, '▁acons': 12829, '▁ajudá': 12830, '▁amino': 12831, '▁armad': 12832, '▁ativo': 12833, '▁balls': 12834, '▁barra': 12835, '▁capit': 12836, '▁civis': 12837, '▁clube': 12838, '▁craft': 12839, '▁cópia': 12840, '▁desvi': 12841, '▁embal': 12842, '▁enfor': 12843, '▁escav': 12844, '▁estôm': 12845, '▁expos': 12846, '▁fatal': 12847, '▁korea': 12848, '▁lever': 12849, '▁mante': 12850, '▁nerve': 12851, '▁ocorr': 12852, '▁olymp': 12853, '▁owner': 12854, '▁parks': 12855, '▁pione': 12856, '▁proof': 12857, '▁recre': 12858, '▁remix': 12859, '▁rocha': 12860, '▁scott': 12861, '▁settl': 12862, '▁sexos': 12863, '▁skept': 12864, '▁smoke': 12865, '▁spill': 12866, '▁stays': 12867, '▁sugar': 12868, '▁tasks': 12869, '▁texts': 12870, '▁title': 12871, '▁tutor': 12872, '▁vocab': 12873, '▁zonas': 12874, '▁50,000': 12875, '▁abelha': 12876, '▁abrang': 12877, '▁aceder': 12878, '▁aggreg': 12879, '▁antibi': 12880, '▁baixar': 12881, '▁bancos': 12882, '▁bonica': 12883, '▁breast': 12884, '▁buying': 12885, '▁colect': 12886, '▁contou': 12887, '▁corals': 12888, '▁decent': 12889, '▁deterg': 12890, '▁diária': 12891, '▁dozens': 12892, '▁espanh': 12893, '▁estará': 12894, '▁fiquem': 12895, '▁gravar': 12896, '▁hunger': 12897, '▁improv': 12898, '▁interm': 12899, '▁jewish': 12900, '▁kepler': 12901, '▁liguei': 12902, '▁lovely': 12903, '▁maslow': 12904, '▁metano': 12905, '▁mortal': 12906, '▁móveis': 12907, '▁normas': 12908, '▁oldest': 12909, '▁pedest': 12910, '▁peguei': 12911, '▁perple': 12912, '▁potter': 12913, '▁presas': 12914, '▁receio': 12915, '▁recicl': 12916, '▁reside': 12917, '▁resume': 12918, '▁robert': 12919, '▁roupas': 12920, '▁rwanda': 12921, '▁rússia': 12922, '▁safely': 12923, '▁saibam': 12924, '▁shakes': 12925, '▁submit': 12926, '▁suécia': 12927, '▁tablet': 12928, '▁terras': 12929, '▁tomada': 12930, '▁unlock': 12931, '▁vaccin': 12932, '▁ângulo': 12933, '▁óptimo': 12934, '▁actuais': 12935, '▁anxiety': 12936, '▁aplauso': 12937, '▁article': 12938, '▁aterror': 12939, '▁atitude': 12940, '▁charges': 12941, '▁chinesa': 12942, '▁clínica': 12943, '▁comfort': 12944, '▁confund': 12945, '▁difusão': 12946, '▁display': 12947, '▁esperam': 12948, '▁extinct': 12949, '▁fingers': 12950, '▁formato': 12951, '▁fulfill': 12952, '▁guardar': 12953, '▁hanging': 12954, '▁highway': 12955, '▁humanae': 12956, '▁illumin': 12957, '▁inadequ': 12958, '▁jornada': 12959, '▁jornais': 12960, '▁kingdom': 12961, '▁landing': 12962, '▁located': 12963, '▁macacos': 12964, '▁milagre': 12965, '▁multipl': 12966, '▁oferece': 12967, '▁origami': 12968, '▁parliam': 12969, '▁percebe': 12970, '▁popcorn': 12971, '▁printed': 12972, '▁progred': 12973, '▁propose': 12974, '▁receita': 12975, '▁rosetta': 12976, '▁sabendo': 12977, '▁shocked': 12978, '▁socioec': 12979, '▁sombras': 12980, '▁telhado': 12981, '▁teorias': 12982, '▁traject': 12983, '▁tratava': 12984, '▁vietnam': 12985, '▁warning': 12986, '▁acabamos': 12987, '▁academic': 12988, '▁agencies': 12989, '▁antibiot': 12990, '▁anúncios': 12991, '▁ascensão': 12992, '▁avançada': 12993, '▁breaking': 12994, '▁contamos': 12995, '▁desporto': 12996, '▁diabetes': 12997, '▁diarrhea': 12998, '▁diversas': 12999, '▁divertir': 13000, '▁diâmetro': 13001, '▁downtown': 13002, '▁egípcios': 13003, '▁ethiopia': 13004, '▁extrater': 13005, '▁fabulous': 13006, '▁homework': 13007, '▁imagined': 13008, '▁interrog': 13009, '▁lifespan': 13010, '▁measures': 13011, '▁mergulho': 13012, '▁mostrado': 13013, '▁multidão': 13014, '▁occurred': 13015, '▁perderam': 13016, '▁poluição': 13017, '▁pregnant': 13018, '▁primatas': 13019, '▁produces': 13020, '▁rabiscar': 13021, '▁relative': 13022, '▁shoulder': 13023, '▁supermer': 13024, '▁talentos': 13025, '▁tornando': 13026, '▁veterans': 13027, '▁agradável': 13028, '▁ancestral': 13029, '▁apercebeu': 13030, '▁assegurar': 13031, '▁chernobyl': 13032, '▁condicion': 13033, '▁continuou': 13034, '▁cooperate': 13035, '▁desenhado': 13036, '▁eleitores': 13037, '▁encontrou': 13038, '▁extension': 13039, '▁factories': 13040, '▁idênticas': 13041, '▁interação': 13042, '▁organismo': 13043, '▁organisms': 13044, '▁partícula': 13045, '▁perguntem': 13046, '▁populares': 13047, '▁preferido': 13048, '▁procedure': 13049, '▁processar': 13050, '▁producing': 13051, '▁profissão': 13052, '▁quadrados': 13053, '▁reactions': 13054, '▁receiving': 13055, '▁selection': 13056, '▁sequences': 13057, '▁telephone': 13058, '▁variáveis': 13059, '▁archimedes': 13060, '▁automática': 13061, '▁candidatos': 13062, '▁components': 13063, '▁curriculum': 13064, '▁demonstrar': 13065, '▁distinguir': 13066, '▁economists': 13067, '▁económicas': 13068, '▁emergentes': 13069, '▁engagement': 13070, '▁entretanto': 13071, '▁entrevista': 13072, '▁existentes': 13073, '▁horizontal': 13074, '▁incentives': 13075, '▁inequality': 13076, '▁lançamento': 13077, '▁manipulate': 13078, '▁medication': 13079, '▁ocidentais': 13080, '▁secundária': 13081, '▁shakespear': 13082, '▁situations': 13083, '▁taskrabbit': 13084, '▁terrorists': 13085, '▁traditions': 13086, '▁transplant': 13087, '▁tuberculos': 13088, '▁utilizando': 13089, '▁volunteers': 13090, '▁achievement': 13091, '▁estrangeiro': 13092, '▁financeiros': 13093, '▁spectacular': 13094, '▁supermarket': 13095, '▁surpreendeu': 13096, '▁transmissão': 13097, '▁trustworthy': 13098, '▁contemporary': 13099, '▁dramatically': 13100, '▁experiencing': 13101, '▁preconceitos': 13102, '▁procedimento': 13103, '▁profundidade': 13104, '▁proporcionar': 13105, '▁collaboration': 13106, '▁processamento': 13107, '▁internacionais': 13108, 'dy': 13109, 'mm': 13110, 'ác': 13111, 'alm': 13112, 'cus': 13113, 'die': 13114, 'ecd': 13115, 'erk': 13116, 'gio': 13117, 'iac': 13118, 'imp': 13119, 'iny': 13120, 'nec': 13121, 'oro': 13122, 'pem': 13123, 'rag': 13124, 'sea': 13125, 'str': 13126, 'ued': 13127, 'uis': 13128, '▁46': 13129, '▁52': 13130, '▁aé': 13131, '▁dm': 13132, '▁hí': 13133, 'alas': 13134, 'anal': 13135, 'axis': 13136, 'bola': 13137, 'enna': 13138, 'frut': 13139, 'igra': 13140, 'ince': 13141, 'olds': 13142, 'otar': 13143, 'rate': 13144, 'seus': 13145, 'ucky': 13146, 'udio': 13147, 'zing': 13148, 'ésia': 13149, 'íaco': 13150, 'ílio': 13151, '▁alo': 13152, '▁ars': 13153, '▁aug': 13154, '▁bla': 13155, '▁bub': 13156, '▁bum': 13157, '▁fec': 13158, '▁fox': 13159, '▁hes': 13160, '▁hug': 13161, '▁huh': 13162, '▁hél': 13163, '▁moz': 13164, '▁obl': 13165, '▁ous': 13166, '▁rew': 13167, '▁ríg': 13168, '▁tah': 13169, '▁tím': 13170, '▁xvi': 13171, 'agree': 13172, 'ashed': 13173, 'enger': 13174, 'ensas': 13175, 'enter': 13176, 'génio': 13177, 'iadas': 13178, 'irect': 13179, 'lling': 13180, '▁afro': 13181, '▁alco': 13182, '▁alph': 13183, '▁bale': 13184, '▁bold': 13185, '▁buff': 13186, '▁buzz': 13187, '▁deaf': 13188, '▁dear': 13189, '▁desa': 13190, '▁duro': 13191, '▁eman': 13192, '▁evil': 13193, '▁forç': 13194, '▁inoc': 13195, '▁labs': 13196, '▁levá': 13197, '▁lung': 13198, '▁mape': 13199, '▁mike': 13200, '▁muro': 13201, '▁orch': 13202, '▁osso': 13203, '▁palp': 13204, '▁pert': 13205, '▁pilh': 13206, '▁pond': 13207, '▁ptsd': 13208, '▁rang': 13209, '▁rios': 13210, '▁rush': 13211, '▁sota': 13212, '▁spac': 13213, '▁sper': 13214, '▁spra': 13215, '▁summ': 13216, '▁tela': 13217, '▁ties': 13218, '▁trin': 13219, '▁usem': 13220, '▁vice': 13221, '▁whit': 13222, 'agénio': 13223, 'believ': 13224, 'cement': 13225, 'ilares': 13226, 'itious': 13227, 'soever': 13228, 'utical': 13229, '▁acolh': 13230, '▁adjac': 13231, '▁agent': 13232, '▁armed': 13233, '▁array': 13234, '▁arred': 13235, '▁asset': 13236, '▁aviso': 13237, '▁azuis': 13238, '▁blank': 13239, '▁bosão': 13240, '▁caval': 13241, '▁coraj': 13242, '▁derru': 13243, '▁dirty': 13244, '▁dress': 13245, '▁durar': 13246, '▁dutch': 13247, '▁dúzia': 13248, '▁edges': 13249, '▁espre': 13250, '▁estic': 13251, '▁falha': 13252, '▁falou': 13253, '▁finds': 13254, '▁fumar': 13255, '▁grasp': 13256, '▁hello': 13257, '▁infec': 13258, '▁ingen': 13259, '▁innoc': 13260, '▁inseg': 13261, '▁kitch': 13262, '▁lento': 13263, '▁lesão': 13264, '▁links': 13265, '▁lobos': 13266, '▁males': 13267, '▁medos': 13268, '▁minas': 13269, '▁móvel': 13270, '▁netos': 13271, '▁norma': 13272, '▁opens': 13273, '▁orbit': 13274, '▁outdo': 13275, '▁owned': 13276, '▁pater': 13277, '▁perse': 13278, '▁pizza': 13279, '▁porto': 13280, '▁racis': 13281, '▁repor': 13282, '▁satis': 13283, '▁stake': 13284, '▁suppl': 13285, '▁tears': 13286, '▁treas': 13287, '▁trist': 13288, '▁upper': 13289, '▁venda': 13290, '▁vinci': 13291, '▁vinha': 13292, '▁álbum': 13293, '▁áudio': 13294, '▁ótima': 13295, 'discipl': 13296, 'ificado': 13297, 'ilities': 13298, 'onância': 13299, 'saharan': 13300, 'uamente': 13301, 'vements': 13302, '▁afetar': 13303, '▁albert': 13304, '▁altera': 13305, '▁arabic': 13306, '▁archae': 13307, '▁assets': 13308, '▁biases': 13309, '▁bottle': 13310, '▁brutal': 13311, '▁conter': 13312, '▁cortes': 13313, '▁custom': 13314, '▁desenc': 13315, '▁divulg': 13316, '▁dobrar': 13317, '▁dívida': 13318, '▁enviam': 13319, '▁enviou': 13320, '▁excuse': 13321, '▁extent': 13322, '▁falhas': 13323, '▁forger': 13324, '▁fusion': 13325, '▁garage': 13326, '▁hardly': 13327, '▁hudson': 13328, '▁hurric': 13329, '▁insult': 13330, '▁intent': 13331, '▁lawyer': 13332, '▁legacy': 13333, '▁marcar': 13334, '▁margem': 13335, '▁metric': 13336, '▁montar': 13337, '▁mudado': 13338, '▁murder': 13339, '▁muslim': 13340, '▁nuvens': 13341, '▁núcleo': 13342, '▁ostras': 13343, '▁paraly': 13344, '▁pegada': 13345, '▁perfil': 13346, '▁rachel': 13347, '▁respir': 13348, '▁restri': 13349, '▁ritual': 13350, '▁selves': 13351, '▁sonhar': 13352, '▁stones': 13353, '▁submar': 13354, '▁subtle': 13355, '▁tanque': 13356, '▁tentou': 13357, '▁trajet': 13358, '▁tranqu': 13359, '▁venham': 13360, '▁vermos': 13361, 'echnolog': 13362, '▁admitir': 13363, '▁anúncio': 13364, '▁augment': 13365, '▁barbers': 13366, '▁barrier': 13367, '▁cerveja': 13368, '▁chapter': 13369, '▁comboio': 13370, '▁condoms': 13371, '▁counsel': 13372, '▁crescem': 13373, '▁curioso': 13374, '▁decline': 13375, '▁denomin': 13376, '▁desfrut': 13377, '▁diction': 13378, '▁diminui': 13379, '▁dioxide': 13380, '▁duração': 13381, '▁educate': 13382, '▁emprest': 13383, '▁enables': 13384, '▁espelho': 13385, '▁failing': 13386, '▁façamos': 13387, '▁ficámos': 13388, '▁formula': 13389, '▁fórmula': 13390, '▁garagem': 13391, '▁happier': 13392, '▁holanda': 13393, '▁horizon': 13394, '▁hormone': 13395, '▁ilegais': 13396, '▁infidel': 13397, '▁inglesa': 13398, '▁inimigo': 13399, '▁insetos': 13400, '▁kennedy': 13401, '▁legitim': 13402, '▁liderar': 13403, '▁mammals': 13404, '▁merecem': 13405, '▁miracle': 13406, '▁modific': 13407, '▁muslims': 13408, '▁músicos': 13409, '▁ocorrer': 13410, '▁passive': 13411, '▁portugu': 13412, '▁possess': 13413, '▁puderam': 13414, '▁quartos': 13415, '▁queiram': 13416, '▁querida': 13417, '▁request': 13418, '▁resolve': 13419, '▁salário': 13420, '▁secrets': 13421, '▁sensors': 13422, '▁separar': 13423, '▁slowing': 13424, '▁smarter': 13425, '▁spanish': 13426, '▁suppose': 13427, '▁suspect': 13428, '▁symbols': 13429, '▁tiramos': 13430, '▁versões': 13431, '▁writers': 13432, '▁aconselh': 13433, '▁adoramos': 13434, '▁agrícola': 13435, '▁capítulo': 13436, '▁cardíaca': 13437, '▁combined': 13438, '▁confused': 13439, '▁darkness': 13440, '▁december': 13441, '▁desafiar': 13442, '▁dezembro': 13443, '▁disagree': 13444, '▁divisões': 13445, '▁dominant': 13446, '▁educated': 13447, '▁entering': 13448, '▁estômago': 13449, '▁explains': 13450, '▁external': 13451, '▁extinção': 13452, '▁frequent': 13453, '▁genético': 13454, '▁gráficos': 13455, '▁incident': 13456, '▁integrar': 13457, '▁intercon': 13458, '▁interfer': 13459, '▁intuição': 13460, '▁isolated': 13461, '▁leverage': 13462, '▁lágrimas': 13463, '▁minority': 13464, '▁necessit': 13465, '▁openness': 13466, '▁organism': 13467, '▁parceria': 13468, '▁pareciam': 13469, '▁patience': 13470, '▁permitam': 13471, '▁portátil': 13472, '▁promover': 13473, '▁protegem': 13474, '▁psiquiat': 13475, '▁reaching': 13476, '▁refeição': 13477, '▁responde': 13478, '▁scenario': 13479, '▁shifting': 13480, '▁stepping': 13481, '▁suitcase': 13482, '▁temporal': 13483, '▁unbeliev': 13484, '▁villages': 13485, '▁voltaram': 13486, '▁académico': 13487, '▁acidentes': 13488, '▁advogados': 13489, '▁aeroporto': 13490, '▁ansiedade': 13491, '▁calculate': 13492, '▁chemicals': 13493, '▁cobertura': 13494, '▁colagénio': 13495, '▁congresso': 13496, '▁conjuntos': 13497, '▁crescente': 13498, '▁criativos': 13499, '▁desculpem': 13500, '▁diagnosis': 13501, '▁dispostas': 13502, '▁encontros': 13503, '▁exception': 13504, '▁extrovert': 13505, '▁filosofia': 13506, '▁gathering': 13507, '▁gentlemen': 13508, '▁gradually': 13509, '▁intention': 13510, '▁medicação': 13511, '▁mostraram': 13512, '▁múltiplas': 13513, '▁objetivos': 13514, '▁permissão': 13515, '▁pesquisar': 13516, '▁pollution': 13517, '▁predicted': 13518, '▁primarily': 13519, '▁privilege': 13520, '▁proporção': 13521, '▁receberam': 13522, '▁recording': 13523, '▁renovável': 13524, '▁survivors': 13525, '▁terrorist': 13526, '▁undergrad': 13527, '▁vermelhas': 13528, '▁visualize': 13529, '▁acompanhar': 13530, '▁actividade': 13531, '▁aleatórias': 13532, '▁arquimedes': 13533, '▁astrónomos': 13534, '▁behavioral': 13535, '▁challenged': 13536, '▁controlled': 13537, '▁directions': 13538, '▁eletrónica': 13539, '▁moralidade': 13540, '▁orientação': 13541, '▁originally': 13542, '▁philosophy': 13543, '▁reflection': 13544, '▁remarkably': 13545, '▁resilience': 13546, '▁resolution': 13547, '▁revolucion': 13548, '▁revoluções': 13549, '▁strategies': 13550, '▁terrorista': 13551, '▁whatsoever': 13552, '▁astronomers': 13553, '▁brincadeira': 13554, '▁globalmente': 13555, '▁legislation': 13556, '▁monitorizar': 13557, '▁observações': 13558, '▁programming': 13559, '▁restaurante': 13560, '▁revolutions': 13561, '▁shakespeare': 13562, '▁smartphones': 13563, '▁subitamente': 13564, '▁transformed': 13565, '▁transportar': 13566, '▁desigualdade': 13567, '▁disabilities': 13568, '▁evolutionary': 13569, '▁generosidade': 13570, '▁independente': 13571, '▁neanderthals': 13572, '▁tuberculosis': 13573, '▁visualização': 13574, '▁evidentemente': 13575, '▁financiamento': 13576, '▁grandchildren': 13577, '▁interestingly': 13578, '▁participantes': 13579, '▁significativo': 13580, '▁sobreviventes': 13581, '▁administration': 13582, '▁característica': 13583, '▁cuidadosamente': 13584, '▁desconfortável': 13585, '▁mathematicians': 13586, '▁representation': 13587, '..': 13588, '.5': 13589, 'ng': 13590, 'uk': 13591, 'yt': 13592, 'dam': 13593, 'had': 13594, 'kin': 13595, 'lev': 13596, 'lho': 13597, 'mun': 13598, 'nat': 13599, 'orr': 13600, 'pra': 13601, 'rou': 13602, 'rói': 13603, 'sol': 13604, 'xit': 13605, '▁33': 13606, '▁44': 13607, '▁76': 13608, '▁93': 13609, '▁nt': 13610, 'abit': 13611, 'alin': 13612, 'amed': 13613, 'appy': 13614, 'arda': 13615, 'bita': 13616, 'born': 13617, 'cast': 13618, 'eley': 13619, 'eman': 13620, 'eral': 13621, 'esas': 13622, 'eton': 13623, 'icil': 13624, 'laim': 13625, 'nels': 13626, 'ouro': 13627, 'pair': 13628, 'pris': 13629, 'real': 13630, 'roll': 13631, 'rést': 13632, 'émos': 13633, 'írem': 13634, '▁2,5': 13635, '▁als': 13636, '▁bis': 13637, '▁caç': 13638, '▁dim': 13639, '▁eco': 13640, '▁fed': 13641, '▁fog': 13642, '▁ibm': 13643, '▁ido': 13644, '▁ike': 13645, '▁kev': 13646, '▁leo': 13647, '▁mcd': 13648, '▁nig': 13649, '▁onu': 13650, '▁rng': 13651, '▁soc': 13652, '▁tie': 13653, '▁xen': 13654, 'antly': 13655, 'being': 13656, 'brais': 13657, 'clock': 13658, 'endar': 13659, 'feiço': 13660, 'going': 13661, 'gover': 13662, 'ibera': 13663, 'igram': 13664, 'mails': 13665, 'ulgar': 13666, 'órter': 13667, '▁2030': 13668, '▁acqu': 13669, '▁ades': 13670, '▁alav': 13671, '▁anna': 13672, '▁asks': 13673, '▁athe': 13674, '▁bach': 13675, '▁banc': 13676, '▁beam': 13677, '▁bert': 13678, '▁boss': 13679, '▁cach': 13680, '▁cans': 13681, '▁chaz': 13682, '▁cola': 13683, '▁cows': 13684, '▁céus': 13685, '▁dedo': 13686, '▁dial': 13687, '▁dick': 13688, '▁diri': 13689, '▁doaa': 13690, '▁doce': 13691, '▁dono': 13692, '▁echo': 13693, '▁eras': 13694, '▁forb': 13695, '▁ford': 13696, '▁forg': 13697, '▁giga': 13698, '▁hipp': 13699, '▁hong': 13700, '▁iner': 13701, '▁ipad': 13702, '▁ipod': 13703, '▁kiss': 13704, '▁lied': 13705, '▁lisa': 13706, '▁lucr': 13707, '▁mans': 13708, '▁mate': 13709, '▁meal': 13710, '▁mord': 13711, '▁nets': 13712, '▁paga': 13713, '▁pede': 13714, '▁plut': 13715, '▁poop': 13716, '▁rebo': 13717, '▁sale': 13718, '▁sobr': 13719, '▁solt': 13720, '▁spar': 13721, '▁susc': 13722, '▁teto': 13723, '▁tubo': 13724, '▁vaca': 13725, '▁vias': 13726, '▁vila': 13727, '▁virg': 13728, '▁whoa': 13729, '▁wool': 13730, 'abling': 13731, 'comput': 13732, 'consci': 13733, 'eletos': 13734, 'estone': 13735, 'idents': 13736, 'onomic': 13737, 'sações': 13738, 'social': 13739, 'versão': 13740, '▁4,000': 13741, '▁abrig': 13742, '▁abuso': 13743, '▁accum': 13744, '▁adren': 13745, '▁advis': 13746, '▁ampla': 13747, '▁apoia': 13748, '▁aprox': 13749, '▁audit': 13750, '▁banks': 13751, '▁bated': 13752, '▁bears': 13753, '▁beira': 13754, '▁bordo': 13755, '▁boson': 13756, '▁burst': 13757, '▁butão': 13758, '▁carri': 13759, '▁chest': 13760, '▁dando': 13761, '▁depos': 13762, '▁diabo': 13763, '▁dinam': 13764, '▁drama': 13765, '▁drone': 13766, '▁dynam': 13767, '▁enver': 13768, '▁estát': 13769, '▁estím': 13770, '▁etiqu': 13771, '▁fases': 13772, '▁ferro': 13773, '▁fruit': 13774, '▁greek': 13775, '▁guiar': 13776, '▁hiros': 13777, '▁homic': 13778, '▁infet': 13779, '▁jihad': 13780, '▁jones': 13781, '▁krill': 13782, '▁laços': 13783, '▁levei': 13784, '▁líbia': 13785, '▁modos': 13786, '▁navio': 13787, '▁orden': 13788, '▁patri': 13789, '▁perde': 13790, '▁peter': 13791, '▁pirâm': 13792, '▁pitch': 13793, '▁praça': 13794, '▁pyram': 13795, '▁pólen': 13796, '▁relax': 13797, '▁segui': 13798, '▁sidew': 13799, '▁spots': 13800, '▁séria': 13801, '▁tired': 13802, '▁trash': 13803, '▁troll': 13804, '▁unpre': 13805, '▁vasos': 13806, '▁vasta': 13807, '▁venho': 13808, '▁vivid': 13809, '▁watts': 13810, '▁wires': 13811, 'avelhos': 13812, 'century': 13813, '▁aceite': 13814, '▁admira': 13815, '▁agency': 13816, '▁antide': 13817, '▁arctic': 13818, '▁atirar': 13819, '▁atrair': 13820, '▁august': 13821, '▁basket': 13822, '▁buried': 13823, '▁camião': 13824, '▁canais': 13825, '▁clicks': 13826, '▁coding': 13827, '▁comand': 13828, '▁copiar': 13829, '▁deploy': 13830, '▁descar': 13831, '▁dicion': 13832, '▁dinosa': 13833, '▁diriam': 13834, '▁earned': 13835, '▁educar': 13836, '▁elabor': 13837, '▁emerge': 13838, '▁ending': 13839, '▁ensina': 13840, '▁evolve': 13841, '▁export': 13842, '▁faixas': 13843, '▁fechar': 13844, '▁filmar': 13845, '▁gastos': 13846, '▁headed': 13847, '▁hubble': 13848, '▁humili': 13849, '▁injury': 13850, '▁invite': 13851, '▁joseph': 13852, '▁kibera': 13853, '▁longev': 13854, '▁matrix': 13855, '▁muscle': 13856, '▁narcis': 13857, '▁nether': 13858, '▁nights': 13859, '▁pasted': 13860, '▁player': 13861, '▁pollen': 13862, '▁pushed': 13863, '▁quanta': 13864, '▁reagir': 13865, '▁refiro': 13866, '▁sentei': 13867, '▁shrink': 13868, '▁slogan': 13869, '▁smooth': 13870, '▁speaks': 13871, '▁sucess': 13872, '▁tahrir': 13873, '▁talibã': 13874, '▁tribal': 13875, '▁típica': 13876, '▁urbana': 13877, '▁usarem': 13878, '▁usavam': 13879, '▁veneza': 13880, '▁voltam': 13881, '▁widely': 13882, '▁wolves': 13883, 'ficiente': 13884, '▁acordar': 13885, '▁afectam': 13886, '▁affairs': 13887, '▁aleator': 13888, '▁alturas': 13889, '▁atingiu': 13890, '▁basebol': 13891, '▁beliefs': 13892, '▁básicos': 13893, '▁celular': 13894, '▁circles': 13895, '▁cliente': 13896, '▁closing': 13897, '▁compens': 13898, '▁conduct': 13899, '▁consume': 13900, '▁defined': 13901, '▁demands': 13902, '▁dirigir': 13903, '▁discord': 13904, '▁dúvidas': 13905, '▁eleitor': 13906, '▁emerges': 13907, '▁emprést': 13908, '▁erradas': 13909, '▁escolhi': 13910, '▁escrevo': 13911, '▁estabil': 13912, '▁externa': 13913, '▁fechado': 13914, '▁fizeste': 13915, '▁físicas': 13916, '▁incluem': 13917, '▁indiano': 13918, '▁iniciar': 13919, '▁manuais': 13920, '▁municip': 13921, '▁músicas': 13922, '▁nalguns': 13923, '▁neuroci': 13924, '▁nigeria': 13925, '▁nigéria': 13926, '▁officer': 13927, '▁ouvirem': 13928, '▁painted': 13929, '▁pointed': 13930, '▁posters': 13931, '▁prender': 13932, '▁prestar': 13933, '▁primate': 13934, '▁printer': 13935, '▁pusemos': 13936, '▁pushing': 13937, '▁querido': 13938, '▁receive': 13939, '▁recruit': 13940, '▁reorgan': 13941, '▁reserva': 13942, '▁saturno': 13943, '▁seguido': 13944, '▁segurar': 13945, '▁seroton': 13946, '▁simplic': 13947, '▁solares': 13948, '▁statist': 13949, '▁stretch': 13950, '▁vessels': 13951, '▁walmart': 13952, '▁wedding': 13953, 'aceutical': 13954, 'cialmente': 13955, 'echnology': 13956, '▁advocate': 13957, '▁africana': 13958, '▁africans': 13959, '▁animação': 13960, '▁análises': 13961, '▁applying': 13962, '▁artistic': 13963, '▁assembly': 13964, '▁ativista': 13965, '▁attitude': 13966, '▁berkeley': 13967, '▁bitcoins': 13968, '▁bloquear': 13969, '▁clássico': 13970, '▁comparar': 13971, '▁connects': 13972, '▁contempl': 13973, '▁decrease': 13974, '▁detailed': 13975, '▁detecção': 13976, '▁esquecem': 13977, '▁estimate': 13978, '▁facility': 13979, '▁favorito': 13980, '▁festival': 13981, '▁football': 13982, '▁fornecem': 13983, '▁gathered': 13984, '▁homeless': 13985, '▁hormones': 13986, '▁hydrogen': 13987, '▁invulgar': 13988, '▁lançámos': 13989, '▁laughing': 13990, '▁limitado': 13991, '▁marítimo': 13992, '▁obcecado': 13993, '▁opiniões': 13994, '▁partidos': 13995, '▁pensemos': 13996, '▁pertence': 13997, '▁petition': 13998, '▁prevenir': 13999, '▁primates': 14000, '▁priority': 14001, '▁promised': 14002, '▁proposed': 14003, '▁quarteir': 14004, '▁registos': 14005, '▁reliable': 14006, '▁repeated': 14007, '▁replaced': 14008, '▁repórter': 14009, '▁respirar': 14010, '▁reuniões': 14011, '▁satélite': 14012, '▁segredos': 14013, '▁shouting': 14014, '▁silicone': 14015, '▁singular': 14016, '▁soldados': 14017, '▁somewhat': 14018, '▁suportar': 14019, '▁tangible': 14020, '▁throwing': 14021, '▁traduzir': 14022, '▁técnicos': 14023, '▁williams': 14024, 'ologically': 14025, '▁adivinhar': 14026, '▁adventure': 14027, '▁animation': 14028, '▁artístico': 14029, '▁associada': 14030, '▁cerebrais': 14031, '▁começando': 14032, '▁depressed': 14033, '▁desespero': 14034, '▁distantes': 14035, '▁dominante': 14036, '▁elefantes': 14037, '▁estimates': 14038, '▁evoluímos': 14039, '▁excellent': 14040, '▁favorites': 14041, '▁gostariam': 14042, '▁inconsist': 14043, '▁intervent': 14044, '▁musicians': 14045, '▁perseguir': 14046, '▁preocupam': 14047, '▁princeton': 14048, '▁reference': 14049, '▁reflected': 14050, '▁textbooks': 14051, '▁tornarmos': 14052, '▁assignment': 14053, '▁assistance': 14054, '▁atividades': 14055, '▁caracteres': 14056, '▁connecting': 14057, '▁conseguido': 14058, '▁continuing': 14059, '▁declaração': 14060, '▁esqueletos': 14061, '▁estilistas': 14062, '▁exhibition': 14063, '▁facilidade': 14064, '▁generosity': 14065, '▁habilidade': 14066, '▁interacção': 14067, '▁interfaces': 14068, '▁investimos': 14069, '▁israelitas': 14070, '▁legislação': 14071, '▁libertação': 14072, '▁mecanismos': 14073, '▁miniaturiz': 14074, '▁operations': 14075, '▁parlamento': 14076, '▁procuramos': 14077, '▁recolhemos': 14078, '▁remembered': 14079, '▁restrições': 14080, '▁simulation': 14081, '▁threatened': 14082, '▁transações': 14083, '▁underlying': 14084, '▁antidepress': 14085, '▁assistência': 14086, '▁assumptions': 14087, '▁científicos': 14088, '▁conscientes': 14089, '▁conseguiria': 14090, '▁desempenhar': 14091, '▁desenvolveu': 14092, '▁empresários': 14093, '▁established': 14094, '▁innovations': 14095, '▁matemáticas': 14096, '▁neandertais': 14097, '▁netherlands': 14098, '▁photography': 14099, '▁planeamento': 14100, '▁theoretical': 14101, '▁trabalhador': 14102, '▁transparent': 14103, '▁agricultural': 14104, '▁conservation': 14105, '▁convencional': 14106, '▁empreendedor': 14107, '▁escaravelhos': 14108, '▁estivéssemos': 14109, '▁expectations': 14110, '▁ingredientes': 14111, '▁programmable': 14112, '▁storytelling': 14113, '▁surprisingly': 14114, '▁transactions': 14115, '▁funcionamento': 14116, '▁inacreditável': 14117, '▁significativa': 14118, '▁estacionamento': 14119, '▁trustworthiness': 14120, 'ni': 14121, 'wa': 14122, 'éu': 14123, 'aby': 14124, 'add': 14125, 'asi': 14126, 'bag': 14127, 'bru': 14128, 'eze': 14129, 'ien': 14130, 'izá': 14131, 'iát': 14132, 'nut': 14133, 'opl': 14134, 'pal': 14135, 'uff': 14136, 'uri': 14137, 'éns': 14138, 'óis': 14139, 'úrg': 14140, '▁0,': 14141, '▁3,': 14142, '▁37': 14143, '▁42': 14144, '▁77': 14145, '▁aa': 14146, '▁bc': 14147, '▁tê': 14148, '▁íc': 14149, 'aids': 14150, 'azes': 14151, 'bees': 14152, 'brid': 14153, 'cell': 14154, 'coço': 14155, 'dios': 14156, 'emin': 14157, 'erta': 14158, 'fold': 14159, 'four': 14160, 'gras': 14161, 'hops': 14162, 'hour': 14163, 'idar': 14164, 'imee': 14165, 'iner': 14166, 'olen': 14167, 'osen': 14168, 'ouds': 14169, 'phas': 14170, 'rick': 14171, 'roem': 14172, 'roid': 14173, 'ubro': 14174, 'uman': 14175, 'west': 14176, 'yard': 14177, 'ábia': 14178, '▁ama': 14179, '▁ara': 14180, '▁arn': 14181, '▁chi': 14182, '▁cog': 14183, '▁dád': 14184, '▁fuz': 14185, '▁ida': 14186, '▁jet': 14187, '▁lag': 14188, '▁oft': 14189, '▁rna': 14190, '▁rug': 14191, '▁rup': 14192, '▁tea': 14193, 'aches': 14194, 'adays': 14195, 'break': 14196, 'dutor': 14197, 'estre': 14198, 'itada': 14199, 'level': 14200, 'pread': 14201, 'rence': 14202, 'state': 14203, 'stone': 14204, 'tempo': 14205, 'ulose': 14206, 'urada': 14207, '▁1930': 14208, '▁1994': 14209, '▁ader': 14210, '▁alan': 14211, '▁beer': 14212, '▁bust': 14213, '▁capa': 14214, '▁chad': 14215, '▁cope': 14216, '▁croc': 14217, '▁cuts': 14218, '▁dare': 14219, '▁dava': 14220, '▁dave': 14221, '▁enra': 14222, '▁fate': 14223, '▁flaw': 14224, '▁gado': 14225, '▁gama': 14226, '▁genu': 14227, '▁grão': 14228, '▁híbr': 14229, '▁kidn': 14230, '▁maçã': 14231, '▁meme': 14232, '▁meta': 14233, '▁nego': 14234, '▁neve': 14235, '▁nojo': 14236, '▁pisc': 14237, '▁pref': 14238, '▁pupp': 14239, '▁péss': 14240, '▁raiz': 14241, '▁rust': 14242, '▁saco': 14243, '▁seco': 14244, '▁seti': 14245, '▁sher': 14246, '▁snea': 14247, '▁suff': 14248, '▁tenn': 14249, '▁tira': 14250, '▁tiro': 14251, '▁troj': 14252, '▁trág': 14253, '▁unle': 14254, '▁ving': 14255, '▁válv': 14256, '▁worm': 14257, 'avelas': 14258, 'bruary': 14259, 'burger': 14260, 'cience': 14261, 'ecidos': 14262, 'entais': 14263, 'grafia': 14264, 'hammad': 14265, 'inária': 14266, 'ituais': 14267, 'ivemos': 14268, 'iveram': 14269, 'necess': 14270, 'rement': 14271, 'éricas': 14272, '▁agrup': 14273, '▁aimee': 14274, '▁alert': 14275, '▁ambic': 14276, '▁bicic': 14277, '▁blame': 14278, '▁blink': 14279, '▁bolsa': 14280, '▁cares': 14281, '▁catal': 14282, '▁caver': 14283, '▁chick': 14284, '▁choir': 14285, '▁colar': 14286, '▁colhe': 14287, '▁colid': 14288, '▁culpa': 14289, '▁darem': 14290, '▁datab': 14291, '▁debil': 14292, '▁denso': 14293, '▁dirão': 14294, '▁durou': 14295, '▁ebola': 14296, '▁etern': 14297, '▁exame': 14298, '▁fence': 14299, '▁flies': 14300, '▁flows': 14301, '▁fraca': 14302, '▁fraco': 14303, '▁gasta': 14304, '▁gasto': 14305, '▁halls': 14306, '▁johan': 14307, '▁linda': 14308, '▁loves': 14309, '▁loyal': 14310, '▁malas': 14311, '▁marks': 14312, '▁negoc': 14313, '▁obese': 14314, '▁ombro': 14315, '▁ouvem': 14316, '▁pagam': 14317, '▁paraí': 14318, '▁parem': 14319, '▁paste': 14320, '▁pausa': 14321, '▁puder': 14322, '▁purch': 14323, '▁pólio': 14324, '▁reper': 14325, '▁rhyth': 14326, '▁ricas': 14327, '▁rocks': 14328, '▁route': 14329, '▁ruído': 14330, '▁setor': 14331, '▁shine': 14332, '▁simon': 14333, '▁skate': 14334, '▁sperm': 14335, '▁spher': 14336, '▁stops': 14337, '▁telec': 14338, '▁tooth': 14339, '▁trail': 14340, '▁venha': 14341, '▁vigor': 14342, '▁viveu': 14343, '▁wides': 14344, '▁woods': 14345, '▁ébola': 14346, 'imentar': 14347, 'terapia': 14348, '▁absurd': 14349, '▁acções': 14350, '▁afirma': 14351, '▁agosto': 14352, '▁almoço': 14353, '▁aparec': 14354, '▁arábia': 14355, '▁attend': 14356, '▁bailar': 14357, '▁barulh': 14358, '▁branch': 14359, '▁breaks': 14360, '▁bricks': 14361, '▁cachor': 14362, '▁calças': 14363, '▁cheias': 14364, '▁chosen': 14365, '▁clouds': 14366, '▁contag': 14367, '▁contam': 14368, '▁curvas': 14369, '▁dating': 14370, '▁deprim': 14371, '▁domain': 14372, '▁emblem': 14373, '▁emphas': 14374, '▁ensaio': 14375, '▁ensure': 14376, '▁estend': 14377, '▁famosa': 14378, '▁ficado': 14379, '▁figura': 14380, '▁formid': 14381, '▁formou': 14382, '▁fortal': 14383, '▁gained': 14384, '▁graves': 14385, '▁haviam': 14386, '▁hemisf': 14387, '▁impede': 14388, '▁implem': 14389, '▁inovar': 14390, '▁learns': 14391, '▁leitor': 14392, '▁locked': 14393, '▁machos': 14394, '▁makers': 14395, '▁mapped': 14396, '▁marine': 14397, '▁mister': 14398, '▁morais': 14399, '▁multin': 14400, '▁nearby': 14401, '▁nurses': 14402, '▁odisse': 14403, '▁outono': 14404, '▁perdas': 14405, '▁perdem': 14406, '▁pigeon': 14407, '▁piloto': 14408, '▁placas': 14409, '▁ponham': 14410, '▁pontas': 14411, '▁possui': 14412, '▁powers': 14413, '▁proved': 14414, '▁proxim': 14415, '▁pânico': 14416, '▁queira': 14417, '▁reclam': 14418, '▁saírem': 14419, '▁scales': 14420, '▁sentiu': 14421, '▁silver': 14422, '▁sintet': 14423, '▁smells': 14424, '▁stages': 14425, '▁stolen': 14426, '▁sunday': 14427, '▁superp': 14428, '▁thirty': 14429, '▁tijolo': 14430, '▁tragic': 14431, '▁venice': 14432, '▁virtue': 14433, '▁índice': 14434, 'iversary': 14435, 'izadores': 14436, 'ossexual': 14437, '▁abertas': 14438, '▁adopted': 14439, '▁afectar': 14440, '▁atingem': 14441, '▁automob': 14442, '▁benefic': 14443, '▁briefly': 14444, '▁básicas': 14445, '▁charlie': 14446, '▁citação': 14447, '▁colocam': 14448, '▁colored': 14449, '▁contest': 14450, '▁creator': 14451, '▁criador': 14452, '▁crushed': 14453, '▁curiosa': 14454, '▁debates': 14455, '▁deliber': 14456, '▁desejos': 14457, '▁dismiss': 14458, '▁domingo': 14459, '▁emerged': 14460, '▁enganar': 14461, '▁especul': 14462, '▁esperma': 14463, '▁espiral': 14464, '▁facilit': 14465, '▁favelas': 14466, '▁fizerem': 14467, '▁focados': 14468, '▁fracass': 14469, '▁furacão': 14470, '▁futuros': 14471, '▁garbage': 14472, '▁impacts': 14473, '▁incapac': 14474, '▁indigen': 14475, '▁inferno': 14476, '▁islamic': 14477, '▁jackson': 14478, '▁kitchen': 14479, '▁largura': 14480, '▁lawyers': 14481, '▁líquido': 14482, '▁mapping': 14483, '▁mergulh': 14484, '▁microph': 14485, '▁perplex': 14486, '▁persuas': 14487, '▁pescoço': 14488, '▁prisões': 14489, '▁privada': 14490, '▁prémios': 14491, '▁puseram': 14492, '▁reações': 14493, '▁reboque': 14494, '▁refused': 14495, '▁retired': 14496, '▁reunião': 14497, '▁robotic': 14498, '▁seeking': 14499, '▁selfish': 14500, '▁sentiam': 14501, '▁soldier': 14502, '▁sounded': 14503, '▁suponho': 14504, '▁syringe': 14505, '▁tattoos': 14506, '▁traição': 14507, '▁tratado': 14508, '▁trigger': 14509, '▁tumores': 14510, '▁useless': 14511, '▁utility': 14512, 'americana': 14513, '▁advogado': 14514, '▁aguentar': 14515, '▁analogia': 14516, '▁appeared': 14517, '▁aproxima': 14518, '▁atlantic': 14519, '▁attacked': 14520, '▁attribut': 14521, '▁aventura': 14522, '▁bandeira': 14523, '▁coletiva': 14524, '▁comparem': 14525, '▁composto': 14526, '▁conquist': 14527, '▁continuo': 14528, '▁creature': 14529, '▁criatura': 14530, '▁círculos': 14531, '▁deforest': 14532, '▁desagrad': 14533, '▁desejava': 14534, '▁desligar': 14535, '▁diretora': 14536, '▁division': 14537, '▁duplicar': 14538, '▁elétrica': 14539, '▁elétrico': 14540, '▁envergon': 14541, '▁equações': 14542, '▁esqueçam': 14543, '▁estatuto': 14544, '▁estrange': 14545, '▁europeus': 14546, '▁fazíamos': 14547, '▁february': 14548, '▁fraction': 14549, '▁gratuita': 14550, '▁honestly': 14551, '▁imediata': 14552, '▁imprimir': 14553, '▁included': 14554, '▁infinito': 14555, '▁lectures': 14556, '▁magnific': 14557, '▁managing': 14558, '▁meetings': 14559, '▁microflu': 14560, '▁mobility': 14561, '▁modernas': 14562, '▁muhammad': 14563, '▁neuronal': 14564, '▁nowadays': 14565, '▁officers': 14566, '▁opinions': 14567, '▁paradigm': 14568, '▁pegarmos': 14569, '▁percebeu': 14570, '▁praticar': 14571, '▁procuram': 14572, '▁queridos': 14573, '▁químicas': 14574, '▁randomly': 14575, '▁rational': 14576, '▁registar': 14577, '▁remained': 14578, '▁retratos': 14579, '▁romantic': 14580, '▁soldiers': 14581, '▁strongly': 14582, '▁sunlight': 14583, '▁terminal': 14584, '▁theories': 14585, '▁treating': 14586, '▁uniforme': 14587, '▁visiting': 14588, 'americanas': 14589, '▁acontecia': 14590, '▁adicional': 14591, '▁ambitious': 14592, '▁amplitude': 14593, '▁aperfeiço': 14594, '▁biológica': 14595, '▁britânica': 14596, '▁constitut': 14597, '▁conteúdos': 14598, '▁continuei': 14599, '▁corporate': 14600, '▁culturais': 14601, '▁densidade': 14602, '▁descreveu': 14603, '▁dimension': 14604, '▁divertida': 14605, '▁educativo': 14606, '▁elétricos': 14607, '▁embracing': 14608, '▁encorajar': 14609, '▁engraçado': 14610, '▁ensinaram': 14611, '▁equations': 14612, '▁estimated': 14613, '▁estranhas': 14614, '▁fevereiro': 14615, '▁frequency': 14616, '▁household': 14617, '▁hurricane': 14618, '▁inspiring': 14619, '▁installed': 14620, '▁intenções': 14621, '▁intersect': 14622, '▁intuition': 14623, '▁kilograms': 14624, '▁mechanics': 14625, '▁montanhas': 14626, '▁municipal': 14627, '▁nacionais': 14628, '▁optimista': 14629, '▁ownership': 14630, '▁pagamento': 14631, '▁paralyzed': 14632, '▁partilham': 14633, '▁pervasive': 14634, '▁preparing': 14635, '▁previsões': 14636, '▁produzido': 14637, '▁simulação': 14638, '▁singapore': 14639, '▁singapura': 14640, '▁sobrevive': 14641, '▁tatuagens': 14642, '▁testemunh': 14643, '▁trouxeram': 14644, '▁utilidade': 14645, '▁variações': 14646, '▁antarctica': 14647, '▁apercebemo': 14648, '▁architects': 14649, '▁bicicletas': 14650, '▁categorias': 14651, '▁categories': 14652, '▁conceptual': 14653, '▁conhecidas': 14654, '▁considerem': 14655, '▁cooperação': 14656, '▁desaparece': 14657, '▁documentar': 14658, '▁ecological': 14659, '▁envelhecer': 14660, '▁escondidas': 14661, '▁espiritual': 14662, '▁essenciais': 14663, '▁facilities': 14664, '▁frustrated': 14665, '▁hidrogénio': 14666, '▁iluminação': 14667, '▁impressora': 14668, '▁inovadores': 14669, '▁integração': 14670, '▁mainstream': 14671, '▁manuscrito': 14672, '▁mechanisms': 14673, '▁mobilidade': 14674, '▁motivation': 14675, '▁performing': 14676, '▁preferidas': 14677, '▁productive': 14678, '▁projection': 14679, '▁psicologia': 14680, '▁relacionar': 14681, '▁religiosas': 14682, '▁renewables': 14683, '▁reprodução': 14684, '▁secretária': 14685, '▁significar': 14686, '▁transformá': 14687, '▁translator': 14688, '▁widespread': 14689, '▁acrescentar': 14690, '▁aglomerados': 14691, '▁alimentares': 14692, '▁anniversary': 14693, '▁appropriate': 14694, '▁astonishing': 14695, '▁blockchains': 14696, '▁certificado': 14697, '▁complicadas': 14698, '▁compreendem': 14699, '▁confortável': 14700, '▁constraints': 14701, '▁constructed': 14702, '▁empowerment': 14703, '▁exponential': 14704, '▁ingredients': 14705, '▁interacções': 14706, '▁perceptions': 14707, '▁relacionado': 14708, '▁understands': 14709, '▁urbanização': 14710, '▁calculations': 14711, '▁corporations': 14712, '▁extraordinar': 14713, '▁observations': 14714, '▁perspectives': 14715, '▁propriamente': 14716, '▁successfully': 14717, '▁credibilidade': 14718, '▁desapareceram': 14719, '▁desenvolveram': 14720, '▁institutional': 14721, '▁investimentos': 14722, '▁significantly': 14723, '▁biodiversidade': 14724, '▁emocionalmente': 14725, '▁pharmaceutical': 14726, '▁extraordinários': 14727, 'gi': 14728, 'gl': 14729, 'iá': 14730, 'rm': 14731, 'tw': 14732, 'xe': 14733, 'úp': 14734, 'apé': 14735, 'bai': 14736, 'cem': 14737, 'cir': 14738, 'eks': 14739, 'eme': 14740, 'fig': 14741, 'hhh': 14742, 'ijo': 14743, 'law': 14744, 'mod': 14745, 'omy': 14746, 'rov': 14747, 'voc': 14748, '▁0.': 14749, '▁43': 14750, '▁66': 14751, '▁96': 14752, '▁aç': 14753, '▁bp': 14754, '▁dy': 14755, '▁fm': 14756, '▁mw': 14757, '▁ov': 14758, '▁oz': 14759, '▁uh': 14760, 'adel': 14761, 'aeda': 14762, 'agon': 14763, 'atal': 14764, 'avio': 14765, 'char': 14766, 'enço': 14767, 'fego': 14768, 'inea': 14769, 'irds': 14770, 'ivot': 14771, 'keys': 14772, 'ocal': 14773, 'olic': 14774, 'omem': 14775, 'onic': 14776, 'ouqu': 14777, 'part': 14778, 'pera': 14779, 'play': 14780, 'quar': 14781, 'rain': 14782, 'rist': 14783, 'rove': 14784, 'seas': 14785, 'shar': 14786, 'step': 14787, 'take': 14788, 'thur': 14789, 'uega': 14790, 'uing': 14791, 'well': 14792, '▁1,2': 14793, '▁193': 14794, '▁350': 14795, '▁asi': 14796, '▁bbc': 14797, '▁bug': 14798, '▁cyn': 14799, '▁dun': 14800, '▁fav': 14801, '▁fôs': 14802, '▁gai': 14803, '▁húm': 14804, '▁jac': 14805, '▁jit': 14806, '▁jor': 14807, '▁nit': 14808, '▁onc': 14809, '▁pse': 14810, '▁pum': 14811, '▁rac': 14812, '▁suí': 14813, '▁tia': 14814, '▁zod': 14815, 'adura': 14816, 'afric': 14817, 'agram': 14818, 'angle': 14819, 'barak': 14820, 'field': 14821, 'fitri': 14822, 'front': 14823, 'guson': 14824, 'ience': 14825, 'inate': 14826, 'onald': 14827, 'ouros': 14828, 'ouses': 14829, 'pling': 14830, 'riais': 14831, 'ribly': 14832, 'rizes': 14833, 'ulhar': 14834, 'uracy': 14835, 'ureau': 14836, 'using': 14837, 'utora': 14838, 'édios': 14839, 'énios': 14840, 'érsia': 14841, 'ónias': 14842, '▁1979': 14843, '▁1993': 14844, '▁1996': 14845, '▁2013': 14846, '▁2020': 14847, '▁acid': 14848, '▁adul': 14849, '▁agit': 14850, '▁almo': 14851, '▁ariz': 14852, '▁assa': 14853, '▁aunt': 14854, '▁aven': 14855, '▁biof': 14856, '▁bite': 14857, '▁boun': 14858, '▁cass': 14859, '▁cats': 14860, '▁copo': 14861, '▁corp': 14862, '▁crew': 14863, '▁cuja': 14864, '▁damn': 14865, '▁dirt': 14866, '▁ebay': 14867, '▁eros': 14868, '▁file': 14869, '▁flux': 14870, '▁fres': 14871, '▁fumo': 14872, '▁fárm': 14873, '▁gate': 14874, '▁gera': 14875, '▁glad': 14876, '▁grey': 14877, '▁guin': 14878, '▁hors': 14879, '▁ikea': 14880, '▁item': 14881, '▁jazz': 14882, '▁kent': 14883, '▁lift': 14884, '▁mald': 14885, '▁maqu': 14886, '▁mede': 14887, '▁mooc': 14888, '▁octo': 14889, '▁owns': 14890, '▁peru': 14891, '▁pist': 14892, '▁poly': 14893, '▁prag': 14894, '▁prey': 14895, '▁pspt': 14896, '▁scal': 14897, '▁sier': 14898, '▁somb': 14899, '▁till': 14900, '▁torr': 14901, '▁trap': 14902, '▁turb': 14903, '▁twin': 14904, '▁wine': 14905, '▁xvii': 14906, '▁óleo': 14907, 'action': 14908, 'ageiro': 14909, 'ariana': 14910, 'encher': 14911, 'fabric': 14912, 'hetics': 14913, 'iation': 14914, 'icular': 14915, 'ilding': 14916, 'ilever': 14917, 'inente': 14918, 'ometer': 14919, 'places': 14920, 'ómicas': 14921, '▁abriu': 14922, '▁acend': 14923, '▁assom': 14924, '▁balão': 14925, '▁banjo': 14926, '▁belas': 14927, '▁bombs': 14928, '▁campe': 14929, '▁cated': 14930, '▁chery': 14931, '▁cicat': 14932, '▁civic': 14933, '▁clues': 14934, '▁dates': 14935, '▁despe': 14936, '▁deton': 14937, '▁drops': 14938, '▁eaten': 14939, '▁ecrãs': 14940, '▁envia': 14941, '▁errad': 14942, '▁exato': 14943, '▁excer': 14944, '▁fancy': 14945, '▁farms': 14946, '▁fator': 14947, '▁filip': 14948, '▁films': 14949, '▁flood': 14950, '▁forum': 14951, '▁gatos': 14952, '▁gelat': 14953, '▁grant': 14954, '▁haven': 14955, '▁indef': 14956, '▁isaac': 14957, '▁islão': 14958, '▁juntá': 14959, '▁lucro': 14960, '▁macho': 14961, '▁magní': 14962, '▁nadar': 14963, '▁ouviu': 14964, '▁papua': 14965, '▁pivot': 14966, '▁porre': 14967, '▁posse': 14968, '▁prato': 14969, '▁puxar': 14970, '▁queen': 14971, '▁risky': 14972, '▁royal': 14973, '▁salvo': 14974, '▁screw': 14975, '▁selec': 14976, '▁selva': 14977, '▁shops': 14978, '▁slums': 14979, '▁sober': 14980, '▁spark': 14981, '▁steal': 14982, '▁temas': 14983, '▁tempt': 14984, '▁theft': 14985, '▁thumb': 14986, '▁tiger': 14987, '▁tiram': 14988, '▁tubar': 14989, '▁ténis': 14990, '▁unint': 14991, '▁woody': 14992, '▁ética': 14993, 'eration': 14994, 'etermin': 14995, 'florest': 14996, 'related': 14997, 'ressive': 14998, '▁abenço': 14999, '▁activo': 15000, '▁adulta': 15001, '▁alemão': 15002, '▁alugar': 15003, '▁amigas': 15004, '▁andado': 15005, '▁antárt': 15006, '▁aposto': 15007, '▁appeal': 15008, '▁arrast': 15009, '▁arthur': 15010, '▁atinge': 15011, '▁atomic': 15012, '▁ballet': 15013, '▁bamboo': 15014, '▁benign': 15015, '▁botões': 15016, '▁brexit': 15017, '▁bronze': 15018, '▁bureau': 15019, '▁butler': 15020, '▁cables': 15021, '▁carter': 15022, '▁clique': 15023, '▁cobrir': 15024, '▁custar': 15025, '▁defens': 15026, '▁disney': 15027, '▁diário': 15028, '▁donald': 15029, '▁dádiva': 15030, '▁emoção': 15031, '▁eradic': 15032, '▁esclar': 15033, '▁evapor': 15034, '▁extend': 15035, '▁filmma': 15036, '▁fingir': 15037, '▁fornec': 15038, '▁forçar': 15039, '▁galile': 15040, '▁greenh': 15041, '▁grécia': 15042, '▁guinea': 15043, '▁halluc': 15044, '▁infilt': 15045, '▁inflam': 15046, '▁inúmer': 15047, '▁jumped': 15048, '▁jungle': 15049, '▁lacuna': 15050, '▁lasted': 15051, '▁legado': 15052, '▁lifest': 15053, '▁lifted': 15054, '▁limiar': 15055, '▁litros': 15056, '▁marcha': 15057, '▁merece': 15058, '▁merely': 15059, '▁metrop': 15060, '▁milhas': 15061, '▁ocupar': 15062, '▁parada': 15063, '▁parker': 15064, '▁portal': 15065, '▁precip': 15066, '▁psycho': 15067, '▁recall': 15068, '▁relent': 15069, '▁resign': 15070, '▁safari': 15071, '▁servem': 15072, '▁soviet': 15073, '▁sticks': 15074, '▁subida': 15075, '▁subsid': 15076, '▁tender': 15077, '▁traits': 15078, '▁traços': 15079, '▁tremor': 15080, '▁turing': 15081, '▁twenty': 15082, '▁típico': 15083, '▁upside': 15084, '▁vinham': 15085, '▁violin': 15086, '▁viviam': 15087, '▁winner': 15088, '▁yorker': 15089, '▁àquela': 15090, '▁ótimas': 15091, '▁únicas': 15092, 'cedented': 15093, 'quarters': 15094, '▁alcohol': 15095, '▁ampliar': 15096, '▁analogy': 15097, '▁anfitri': 15098, '▁anticip': 15099, '▁arizona': 15100, '▁avanços': 15101, '▁balloon': 15102, '▁bipolar': 15103, '▁cadeias': 15104, '▁cameron': 15105, '▁chegada': 15106, '▁chemist': 15107, '▁clinton': 15108, '▁combate': 15109, '▁conexão': 15110, '▁conhece': 15111, '▁contigo': 15112, '▁costume': 15113, '▁couples': 15114, '▁criados': 15115, '▁códigos': 15116, '▁dadores': 15117, '▁dancers': 15118, '▁deixado': 15119, '▁density': 15120, '▁dispend': 15121, '▁ensaios': 15122, '▁evoluiu': 15123, '▁exceção': 15124, '▁exploit': 15125, '▁feeding': 15126, '▁females': 15127, '▁ficando': 15128, '▁funeral': 15129, '▁gaining': 15130, '▁glaciar': 15131, '▁happily': 15132, '▁harvest': 15133, '▁hawking': 15134, '▁housing': 15135, '▁iceberg': 15136, '▁implica': 15137, '▁império': 15138, '▁indicar': 15139, '▁iniciou': 15140, '▁instrut': 15141, '▁joelhos': 15142, '▁jordans': 15143, '▁levanta': 15144, '▁limpeza': 15145, '▁magical': 15146, '▁mediter': 15147, '▁monkeys': 15148, '▁mubarak': 15149, '▁nonviol': 15150, '▁noruega': 15151, '▁novelty': 15152, '▁octavio': 15153, '▁origins': 15154, '▁paraíso': 15155, '▁parcial': 15156, '▁percebo': 15157, '▁piratas': 15158, '▁precurs': 15159, '▁primata': 15160, '▁profile': 15161, '▁prático': 15162, '▁pulmões': 15163, '▁pursuit': 15164, '▁quebrar': 15165, '▁reacção': 15166, '▁refugee': 15167, '▁reports': 15168, '▁respeit': 15169, '▁retrato': 15170, '▁revenue': 15171, '▁ringing': 15172, '▁routine': 15173, '▁sagrado': 15174, '▁secreto': 15175, '▁seringa': 15176, '▁shadows': 15177, '▁somália': 15178, '▁superar': 15179, '▁texting': 15180, '▁tomamos': 15181, '▁valioso': 15182, '▁vitória': 15183, '▁viveram': 15184, '▁wealthy': 15185, 'efficient': 15186, '▁absorver': 15187, '▁accounts': 15188, '▁accuracy': 15189, '▁adequada': 15190, '▁anónimas': 15191, '▁assemble': 15192, '▁atingido': 15193, '▁attached': 15194, '▁aumentam': 15195, '▁ausência': 15196, '▁barriers': 15197, '▁baterias': 15198, '▁calcário': 15199, '▁chocante': 15200, '▁circuito': 15201, '▁coletivo': 15202, '▁controls': 15203, '▁counting': 15204, '▁crossing': 15205, '▁críticas': 15206, '▁diagrama': 15207, '▁diminuiu': 15208, '▁disabled': 15209, '▁diversos': 15210, '▁elevados': 15211, '▁escrevem': 15212, '▁escritor': 15213, '▁examinar': 15214, '▁ferguson': 15215, '▁flourish': 15216, '▁fôssemos': 15217, '▁imediato': 15218, '▁impostos': 15219, '▁infeções': 15220, '▁informed': 15221, '▁innovate': 15222, '▁insecure': 15223, '▁instalar': 15224, '▁intimate': 15225, '▁kentucky': 15226, '▁listened': 15227, '▁mandarim': 15228, '▁ministry': 15229, '▁mutações': 15230, '▁namorada': 15231, '▁narrador': 15232, '▁narrator': 15233, '▁negativo': 15234, '▁november': 15235, '▁novembro': 15236, '▁observem': 15237, '▁overflow': 15238, '▁partilhá': 15239, '▁passeios': 15240, '▁propriet': 15241, '▁provocar': 15242, '▁razoável': 15243, '▁recomend': 15244, '▁relation': 15245, '▁suffered': 15246, '▁syndrome': 15247, '▁vencedor': 15248, '▁verdades': 15249, '▁youngest': 15250, '▁activists': 15251, '▁alexander': 15252, '▁ativistas': 15253, '▁audiences': 15254, '▁authority': 15255, '▁babilónia': 15256, '▁backwards': 15257, '▁centrifug': 15258, '▁colaborar': 15259, '▁comparado': 15260, '▁constroem': 15261, '▁contraste': 15262, '▁criativas': 15263, '▁dedicated': 15264, '▁egyptians': 15265, '▁enterpris': 15266, '▁expressar': 15267, '▁facilitar': 15268, '▁fascinado': 15269, '▁fotógrafo': 15270, '▁franceses': 15271, '▁improving': 15272, '▁impulsion': 15273, '▁limestone': 15274, '▁mencionar': 15275, '▁mencionei': 15276, '▁minúsculo': 15277, '▁mostrando': 15278, '▁múltiplos': 15279, '▁nutrients': 15280, '▁paradigma': 15281, '▁perigosos': 15282, '▁permanent': 15283, '▁photoshop': 15284, '▁preencher': 15285, '▁preferida': 15286, '▁prostitut': 15287, '▁protected': 15288, '▁protecção': 15289, '▁regularly': 15290, '▁replicate': 15291, '▁reporting': 15292, '▁separated': 15293, '▁substance': 15294, '▁substitut': 15295, '▁terrified': 15296, '▁testoster': 15297, '▁transcend': 15298, '▁tunneling': 15299, '▁workforce': 15300, '▁apresentam': 15301, '▁argumentos': 15302, '▁attractive': 15303, '▁autoridade': 15304, '▁candidates': 15305, '▁commission': 15306, '▁condutores': 15307, '▁convencido': 15308, '▁dependendo': 15309, '▁desenvolve': 15310, '▁difficulty': 15311, '▁educadores': 15312, '▁emocionais': 15313, '▁energético': 15314, '▁entendemos': 15315, '▁escritores': 15316, '▁estimativa': 15317, '▁hemisfério': 15318, '▁infections': 15319, '▁infectious': 15320, '▁interessam': 15321, '▁ministério': 15322, '▁mutuamente': 15323, '▁neurotrans': 15324, '▁pormenores': 15325, '▁preparação': 15326, '▁profession': 15327, '▁prosthetic': 15328, '▁psychology': 15329, '▁ridiculous': 15330, '▁terrifying': 15331, '▁território': 15332, '▁totalidade': 15333, 'ologicamente': 15334, '▁accountable': 15335, '▁advertising': 15336, '▁authorities': 15337, '▁autorização': 15338, '▁calculation': 15339, '▁científicas': 15340, '▁consequence': 15341, '▁conservação': 15342, '▁construídos': 15343, '▁construíram': 15344, '▁corresponde': 15345, '▁dependentes': 15346, '▁diagnostics': 15347, '▁diapositivo': 15348, '▁discussions': 15349, '▁encontrarem': 15350, '▁específicas': 15351, '▁fundamentos': 15352, '▁implementar': 15353, '▁indicadores': 15354, '▁instruction': 15355, '▁mentalidade': 15356, '▁preocupante': 15357, '▁programável': 15358, '▁projections': 15359, '▁proposition': 15360, '▁rainforests': 15361, '▁recognizing': 15362, '▁specialized': 15363, '▁superficial': 15364, '▁alternatives': 15365, '▁biodiversity': 15366, '▁colaborativo': 15367, '▁companheiros': 15368, '▁configuração': 15369, '▁constituição': 15370, '▁constitution': 15371, '▁deficiências': 15372, '▁entendimento': 15373, '▁exploitation': 15374, '▁fornecimento': 15375, '▁independence': 15376, '▁inteiramente': 15377, '▁licenciatura': 15378, '▁presidential': 15379, '▁surpreendido': 15380, '▁sustentáveis': 15381, '▁transparente': 15382, '▁unbelievable': 15383, '▁consentimento': 15384, '▁deforestation': 15385, '▁demonstration': 15386, '▁independência': 15387, '▁interventions': 15388, '▁preservativos': 15389, '▁programadores': 15390, '▁psychological': 15391, '▁surpreendidos': 15392, '▁traditionally': 15393, '▁unprecedented': 15394, '▁visualization': 15395, '▁governamentais': 15396, '▁surpreendentes': 15397, '▁unidimensional': 15398, '.”': 15399, 'oo': 15400, 'ôn': 15401, 'awi': 15402, 'bat': 15403, 'bow': 15404, 'boy': 15405, 'gic': 15406, 'kee': 15407, 'oir': 15408, 'sur': 15409, 'ulf': 15410, 'wan': 15411, 'wor': 15412, 'zar': 15413, 'ímp': 15414, '▁34': 15415, '▁47': 15416, '▁92': 15417, '▁94': 15418, '▁ga': 15419, '▁sê': 15420, '▁tá': 15421, '▁wi': 15422, '▁ás': 15423, 'acon': 15424, 'adir': 15425, 'agas': 15426, 'away': 15427, 'bern': 15428, 'brew': 15429, 'emia': 15430, 'eteu': 15431, 'fing': 15432, 'fire': 15433, 'gram': 15434, 'hist': 15435, 'ipes': 15436, 'irts': 15437, 'issa': 15438, 'long': 15439, 'oral': 15440, 'orde': 15441, 'plus': 15442, 'raft': 15443, 'rine': 15444, 'rium': 15445, 'ship': 15446, 'unha': 15447, 'uses': 15448, 'usor': 15449, 'ymph': 15450, 'ágio': 15451, 'úcar': 15452, \"▁'90\": 15453, '▁1,3': 15454, '▁450': 15455, '▁arc': 15456, '▁ard': 15457, '▁avc': 15458, '▁buc': 15459, '▁cot': 15460, '▁cív': 15461, '▁enh': 15462, '▁fei': 15463, '▁gon': 15464, '▁hyp': 15465, '▁kan': 15466, '▁ket': 15467, '▁kim': 15468, '▁kur': 15469, '▁lib': 15470, '▁lum': 15471, '▁nik': 15472, '▁nin': 15473, '▁oak': 15474, '▁oit': 15475, '▁ong': 15476, '▁ooh': 15477, '▁pho': 15478, '▁pne': 15479, '▁séc': 15480, '▁ucr': 15481, '▁unh': 15482, '▁unw': 15483, 'akers': 15484, 'amina': 15485, 'angue': 15486, 'apped': 15487, 'ariam': 15488, 'athan': 15489, 'bique': 15490, 'colas': 15491, 'ducer': 15492, 'feras': 15493, 'geous': 15494, 'liest': 15495, 'ollar': 15496, 'otion': 15497, 'owing': 15498, 'rador': 15499, 'ridge': 15500, 'ritas': 15501, 'rones': 15502, 'râneo': 15503, 'suced': 15504, 'ulsão': 15505, 'ursos': 15506, 'ácter': 15507, 'érito': 15508, 'ídios': 15509, 'ógico': 15510, 'ónios': 15511, '▁1985': 15512, '▁anom': 15513, '▁apag': 15514, '▁apel': 15515, '▁asas': 15516, '▁brev': 15517, '▁cake': 15518, '▁cess': 15519, '▁cron': 15520, '▁dano': 15521, '▁deck': 15522, '▁deem': 15523, '▁degr': 15524, '▁dish': 15525, '▁fria': 15526, '▁gear': 15527, '▁juda': 15528, '▁juiz': 15529, '▁keys': 15530, '▁kits': 15531, '▁leal': 15532, '▁limb': 15533, '▁mich': 15534, '▁mood': 15535, '▁oral': 15536, '▁orph': 15537, '▁pago': 15538, '▁pand': 15539, '▁rail': 15540, '▁rape': 15541, '▁reen': 15542, '▁shat': 15543, '▁stor': 15544, '▁toll': 15545, '▁tone': 15546, '▁tube': 15547, 'arquia': 15548, 'ashing': 15549, 'ecidas': 15550, 'engine': 15551, 'icting': 15552, 'ossegu': 15553, 'ronome': 15554, 'strong': 15555, 'ódulos': 15556, 'ómetro': 15557, '▁acúst': 15558, '▁agreg': 15559, '▁alfab': 15560, '▁amarr': 15561, '▁ameaç': 15562, '▁arref': 15563, '▁artif': 15564, '▁asfal': 15565, '▁atrai': 15566, '▁autod': 15567, '▁baker': 15568, '▁casal': 15569, '▁cativ': 15570, '▁cesar': 15571, '▁chuck': 15572, '▁colis': 15573, '▁craig': 15574, '▁defec': 15575, '▁deixo': 15576, '▁deleg': 15577, '▁desap': 15578, '▁desce': 15579, '▁desem': 15580, '▁dilem': 15581, '▁divor': 15582, '▁elite': 15583, '▁evang': 15584, '▁facit': 15585, '▁falem': 15586, '▁fidel': 15587, '▁forec': 15588, '▁fosso': 15589, '▁fruta': 15590, '▁fórum': 15591, '▁globo': 15592, '▁goose': 15593, '▁hemis': 15594, '▁herit': 15595, '▁hurts': 15596, '▁impot': 15597, '▁index': 15598, '▁junta': 15599, '▁lenta': 15600, '▁libya': 15601, '▁lifel': 15602, '▁manch': 15603, '▁matou': 15604, '▁modal': 15605, '▁moons': 15606, '▁movem': 15607, '▁multa': 15608, '▁pagos': 15609, '▁panic': 15610, '▁panor': 15611, '▁parto': 15612, '▁paths': 15613, '▁pedem': 15614, '▁peito': 15615, '▁phras': 15616, '▁pride': 15617, '▁pulse': 15618, '▁pulso': 15619, '▁reson': 15620, '▁roubo': 15621, '▁saves': 15622, '▁senso': 15623, '▁ships': 15624, '▁silks': 15625, '▁skull': 15626, '▁steam': 15627, '▁strip': 15628, '▁subiu': 15629, '▁suite': 15630, '▁tight': 15631, '▁tirot': 15632, '▁toast': 15633, '▁tomam': 15634, '▁tommy': 15635, '▁toxic': 15636, '▁trips': 15637, '▁trump': 15638, '▁twins': 15639, '▁upset': 15640, '▁usava': 15641, '▁vacas': 15642, '▁vitor': 15643, '▁votos': 15644, '▁wings': 15645, '▁íamos': 15646, '▁óbvia': 15647, 'assador': 15648, 'atories': 15649, 'cadores': 15650, 'elândia': 15651, 'estrada': 15652, 'itively': 15653, 'jamento': 15654, 'parents': 15655, 'percent': 15656, 'taining': 15657, 'udência': 15658, '▁acoust': 15659, '▁agente': 15660, '▁amazed': 15661, '▁antiqu': 15662, '▁arabia': 15663, '▁açúcar': 15664, '▁baleia': 15665, '▁banana': 15666, '▁baseia': 15667, '▁basics': 15668, '▁boring': 15669, '▁brilho': 15670, '▁butter': 15671, '▁cantos': 15672, '▁canvas': 15673, '▁cathed': 15674, '▁catást': 15675, '▁chairs': 15676, '▁cheese': 15677, '▁cheryl': 15678, '▁cirúrg': 15679, '▁coluna': 15680, '▁compos': 15681, '▁compra': 15682, '▁conced': 15683, '▁cooked': 15684, '▁crises': 15685, '▁crocod': 15686, '▁custam': 15687, '▁dissol': 15688, '▁doodle': 15689, '▁ecosia': 15690, '▁estima': 15691, '▁eólica': 15692, '▁firing': 15693, '▁fueled': 15694, '▁fêmeas': 15695, '▁givers': 15696, '▁guests': 15697, '▁gémeos': 15698, '▁humild': 15699, '▁hybrid': 15700, '▁hábito': 15701, '▁idiota': 15702, '▁implac': 15703, '▁insane': 15704, '▁insens': 15705, '▁irland': 15706, '▁jamais': 15707, '▁killer': 15708, '▁landed': 15709, '▁laptop': 15710, '▁losses': 15711, '▁maluco': 15712, '▁marked': 15713, '▁meados': 15714, '▁museus': 15715, '▁neglig': 15716, '▁offers': 15717, '▁orders': 15718, '▁packed': 15719, '▁panels': 15720, '▁parall': 15721, '▁pronta': 15722, '▁quinto': 15723, '▁rainha': 15724, '▁recife': 15725, '▁referi': 15726, '▁remoto': 15727, '▁repuls': 15728, '▁requis': 15729, '▁riding': 15730, '▁sacred': 15731, '▁segreg': 15732, '▁sentin': 15733, '▁sentou': 15734, '▁sierra': 15735, '▁sorris': 15736, '▁spends': 15737, '▁sticky': 15738, '▁stimul': 15739, '▁stores': 15740, '▁séries': 15741, '▁theirs': 15742, '▁thrive': 15743, '▁tongue': 15744, '▁tornem': 15745, '▁transf': 15746, '▁truths': 15747, '▁tumors': 15748, '▁waited': 15749, '▁waters': 15750, '▁àquele': 15751, '▁órbita': 15752, 'aggering': 15753, 'ográfica': 15754, '▁abraçar': 15755, '▁adrenal': 15756, '▁anthrop': 15757, '▁aplicam': 15758, '▁appears': 15759, '▁assault': 15760, '▁atribut': 15761, '▁baleias': 15762, '▁baratas': 15763, '▁barrels': 15764, '▁batedor': 15765, '▁brancas': 15766, '▁brilhar': 15767, '▁broader': 15768, '▁cancros': 15769, '▁capgras': 15770, '▁ceiling': 15771, '▁charged': 15772, '▁chicken': 15773, '▁comecem': 15774, '▁comprei': 15775, '▁concorr': 15776, '▁consiga': 15777, '▁convenc': 15778, '▁corrupt': 15779, '▁crystal': 15780, '▁deitado': 15781, '▁descend': 15782, '▁despair': 15783, '▁diploma': 15784, '▁distort': 15785, '▁enferme': 15786, '▁engines': 15787, '▁enlouqu': 15788, '▁entrega': 15789, '▁escalas': 15790, '▁esferas': 15791, '▁existiu': 15792, '▁famosos': 15793, '▁faremos': 15794, '▁farther': 15795, '▁ficaria': 15796, '▁fitness': 15797, '▁flowing': 15798, '▁forming': 15799, '▁glacier': 15800, '▁goering': 15801, '▁guardas': 15802, '▁healing': 15803, '▁hitting': 15804, '▁implant': 15805, '▁intense': 15806, '▁iranian': 15807, '▁labeled': 15808, '▁lâmpada': 15809, '▁manteve': 15810, '▁masters': 15811, '▁mastery': 15812, '▁olharam': 15813, '▁origens': 15814, '▁package': 15815, '▁passage': 15816, '▁passear': 15817, '▁passing': 15818, '▁patrick': 15819, '▁philipp': 15820, '▁pockets': 15821, '▁precise': 15822, '▁proceed': 15823, '▁psychop': 15824, '▁pyramid': 15825, '▁reconhe': 15826, '▁redefin': 15827, '▁reinfor': 15828, '▁reposit': 15829, '▁restore': 15830, '▁telecom': 15831, '▁trapped': 15832, '▁tráfego': 15833, '▁térmica': 15834, '▁urbanos': 15835, '▁usarmos': 15836, '▁utterly': 15837, '▁visitas': 15838, '▁vizinho': 15839, 'antemente': 15840, '▁absoluta': 15841, '▁academia': 15842, '▁approved': 15843, '▁approxim': 15844, '▁aprofund': 15845, '▁arrested': 15846, '▁articles': 15847, '▁attempts': 15848, '▁baseados': 15849, '▁basement': 15850, '▁basquete': 15851, '▁biólogos': 15852, '▁calculus': 15853, '▁carácter': 15854, '▁colocado': 15855, '▁consigam': 15856, '▁consomem': 15857, '▁controle': 15858, '▁correcto': 15859, '▁deixámos': 15860, '▁depender': 15861, '▁detectar': 15862, '▁diversão': 15863, '▁divulgar': 15864, '▁dragline': 15865, '▁endereço': 15866, '▁envelope': 15867, '▁episódio': 15868, '▁espectro': 15869, '▁estímulo': 15870, '▁evidente': 15871, '▁extended': 15872, '▁favorita': 15873, '▁feminina': 15874, '▁filósofo': 15875, '▁findings': 15876, '▁gastamos': 15877, '▁gravação': 15878, '▁hormonas': 15879, '▁impactos': 15880, '▁imprevis': 15881, '▁insectic': 15882, '▁inspirou': 15883, '▁integral': 15884, '▁intenção': 15885, '▁juntaram': 15886, '▁levantou': 15887, '▁masterpi': 15888, '▁momentum': 15889, '▁mudarmos': 15890, '▁nasceram': 15891, '▁observam': 15892, '▁odysseus': 15893, '▁oficiais': 15894, '▁parceiro': 15895, '▁passavam': 15896, '▁peaceful': 15897, '▁pensando': 15898, '▁perceive': 15899, '▁pilhagem': 15900, '▁pirâmide': 15901, '▁pointing': 15902, '▁presence': 15903, '▁privados': 15904, '▁projetar': 15905, '▁provides': 15906, '▁próteses': 15907, '▁psiquiát': 15908, '▁radicais': 15909, '▁redesign': 15910, '▁regional': 15911, '▁reported': 15912, '▁revealed': 15913, '▁sabermos': 15914, '▁saturday': 15915, '▁sinapses': 15916, '▁socially': 15917, '▁stealing': 15918, '▁subestim': 15919, '▁supports': 15920, '▁synapses': 15921, '▁síndrome': 15922, '▁teenager': 15923, '▁telhados': 15924, '▁terrenos': 15925, '▁tornamos': 15926, '▁tornámos': 15927, '▁tradutor': 15928, '▁utilizam': 15929, '▁visitors': 15930, '▁zimbabwe': 15931, '▁abandonar': 15932, '▁abandoned': 15933, '▁abilities': 15934, '▁affecting': 15935, '▁alongside': 15936, '▁altruísmo': 15937, '▁apresenta': 15938, '▁associado': 15939, '▁augmented': 15940, '▁authentic': 15941, '▁biológico': 15942, '▁blueprint': 15943, '▁brinquedo': 15944, '▁chimpanzé': 15945, '▁christian': 15946, '▁cirurgias': 15947, '▁cognitiva': 15948, '▁colocaram': 15949, '▁compreens': 15950, '▁confiante': 15951, '▁countless': 15952, '▁culinária': 15953, '▁destruída': 15954, '▁diffusion': 15955, '▁eleitoral': 15956, '▁elsewhere': 15957, '▁empowered': 15958, '▁entertain': 15959, '▁envolvida': 15960, '▁envolvido': 15961, '▁escondido': 15962, '▁estaremos': 15963, '▁explosion': 15964, '▁fenómenos': 15965, '▁filósofos': 15966, '▁guarantee': 15967, '▁horríveis': 15968, '▁instagram': 15969, '▁integrado': 15970, '▁interagem': 15971, '▁israelita': 15972, '▁jerusalém': 15973, '▁meanwhile': 15974, '▁metronome': 15975, '▁microscóp': 15976, '▁obstacles': 15977, '▁orçamento': 15978, '▁palestina': 15979, '▁passenger': 15980, '▁permitido': 15981, '▁phenomena': 15982, '▁pirataria': 15983, '▁portraits': 15984, '▁preocupem': 15985, '▁progredir': 15986, '▁replacing': 15987, '▁signature': 15988, '▁supported': 15989, '▁telefones': 15990, '▁variables': 15991, '▁ambassador': 15992, '▁ambientais': 15993, '▁apropriado': 15994, '▁atravessam': 15995, '▁australian': 15996, '▁barbershop': 15997, '▁biologists': 15998, '▁catastroph': 15999, '▁chimpanzee': 16000, '▁comerciais': 16001, '▁compreendo': 16002, '▁comprimido': 16003, '▁desflorest': 16004, '▁disciplina': 16005, '▁disconnect': 16006, '▁economista': 16007, '▁employment': 16008, '▁enfermaria': 16009, '▁engenheiro': 16010, '▁entusiasmo': 16011, '▁equilibrar': 16012, '▁escrituras': 16013, '▁estivermos': 16014, '▁evaluation': 16015, '▁girlfriend': 16016, '▁habituados': 16017, '▁immigrants': 16018, '▁imunitário': 16019, '▁inclinação': 16020, '▁indigenous': 16021, '▁inovadoras': 16022, '▁introduzir': 16023, '▁introdução': 16024, '▁lindamente': 16025, '▁manufactur': 16026, '▁metropolit': 16027, '▁metrónomos': 16028, '▁minúsculas': 16029, '▁mysterious': 16030, '▁orçamentos': 16031, '▁parliament': 16032, '▁perfurados': 16033, '▁perfuração': 16034, '▁physicists': 16035, '▁preferidos': 16036, '▁previously': 16037, '▁publicação': 16038, '▁reconhecem': 16039, '▁regulation': 16040, '▁reproduzir': 16041, '▁significam': 16042, '▁staggering': 16043, '▁substância': 16044, '▁tempestade': 16045, '▁vencedores': 16046, '▁visitantes': 16047, '▁certificate': 16048, '▁competitive': 16049, '▁compreendia': 16050, '▁conseguisse': 16051, '▁continentes': 16052, '▁cooperation': 16053, '▁desaparecem': 16054, '▁desapareceu': 16055, '▁determinada': 16056, '▁devastating': 16057, '▁distinction': 16058, '▁emocionante': 16059, '▁emotionally': 16060, '▁estimulante': 16061, '▁industriais': 16062, '▁influenciar': 16063, '▁integration': 16064, '▁investigate': 16065, '▁magnificent': 16066, '▁manuscritos': 16067, '▁medications': 16068, '▁partnership': 16069, '▁practically': 16070, '▁precedentes': 16071, '▁predictions': 16072, '▁preocupados': 16073, '▁prioridades': 16074, '▁realization': 16075, '▁resiliência': 16076, '▁resistentes': 16077, '▁ressonância': 16078, '▁tempestades': 16079, '▁tipicamente': 16080, '▁underground': 16081, '▁accomplished': 16082, '▁capabilities': 16083, '▁continuarmos': 16084, '▁envolvimento': 16085, '▁expectativas': 16086, '▁grandparents': 16087, '▁historically': 16088, '▁honestamente': 16089, '▁intervenções': 16090, '▁laboratories': 16091, '▁neuroscience': 16092, '▁overwhelming': 16093, '▁restaurantes': 16094, '▁significance': 16095, '▁biotecnologia': 16096, '▁communicating': 16097, '▁desenvolvidos': 16098, '▁gratuitamente': 16099, '▁gravitational': 16100, '▁universitário': 16101, '▁communications': 16102, '▁historicamente': 16103, '▁simultaneously': 16104, '▁universitários': 16105, '33': 16106, 'kh': 16107, 'ki': 16108, 'vy': 16109, 'úb': 16110, 'afa': 16111, 'alf': 16112, 'apa': 16113, 'bot': 16114, 'can': 16115, 'cot': 16116, 'cue': 16117, 'ett': 16118, 'him': 16119, 'hou': 16120, 'iou': 16121, 'lad': 16122, 'lah': 16123, 'lor': 16124, 'ofi': 16125, 'omi': 16126, 'opy': 16127, 'rat': 16128, '▁39': 16129, '▁57': 16130, '▁71': 16131, '▁89': 16132, '▁fú': 16133, '▁lé': 16134, '▁pê': 16135, '▁uc': 16136, '▁vm': 16137, 'acas': 16138, 'adél': 16139, 'aiss': 16140, 'aked': 16141, 'alah': 16142, 'alha': 16143, 'alks': 16144, 'amen': 16145, 'anth': 16146, 'arca': 16147, 'asty': 16148, 'atem': 16149, 'ault': 16150, 'bord': 16151, 'cuss': 16152, 'eger': 16153, 'hima': 16154, 'idou': 16155, 'intu': 16156, 'itis': 16157, 'kota': 16158, 'leto': 16159, 'mill': 16160, 'neys': 16161, 'nity': 16162, 'ogur': 16163, 'oler': 16164, 'oman': 16165, 'opes': 16166, 'oran': 16167, 'owed': 16168, 'riet': 16169, 'rita': 16170, 'rost': 16171, 'thew': 16172, 'tomo': 16173, 'uana': 16174, 'uits': 16175, 'ísia': 16176, \"▁'70\": 16177, '▁1.5': 16178, '▁140': 16179, '▁18-': 16180, '▁187': 16181, '▁202': 16182, '▁ald': 16183, '▁awk': 16184, '▁clo': 16185, '▁cpu': 16186, '▁cun': 16187, '▁cól': 16188, '▁cóp': 16189, '▁doc': 16190, '▁ecl': 16191, '▁fom': 16192, '▁fro': 16193, '▁gat': 16194, '▁gif': 16195, '▁gum': 16196, '▁hei': 16197, '▁igf': 16198, '▁jup': 16199, '▁mik': 16200, '▁poo': 16201, '▁pát': 16202, '▁sna': 16203, '▁spi': 16204, '▁tub': 16205, '▁táx': 16206, '▁unc': 16207, '▁yap': 16208, '▁zon': 16209, '▁ínt': 16210, 'apeut': 16211, 'arten': 16212, 'atisf': 16213, 'cados': 16214, 'ecida': 16215, 'ected': 16216, 'ertal': 16217, 'etown': 16218, 'ingue': 16219, 'ipres': 16220, 'juven': 16221, 'lived': 16222, 'ompan': 16223, 'rando': 16224, 'rillo': 16225, 'ronia': 16226, 'sized': 16227, 'vable': 16228, 'volta': 16229, 'ynman': 16230, 'áteis': 16231, 'émica': 16232, 'ígena': 16233, 'ítica': 16234, '▁1997': 16235, '▁2040': 16236, '▁alas': 16237, '▁aluc': 16238, '▁amiz': 16239, '▁anno': 16240, '▁bend': 16241, '▁bené': 16242, '▁caem': 16243, '▁caut': 16244, '▁cicl': 16245, '▁cine': 16246, '▁cube': 16247, '▁curt': 16248, '▁dawn': 16249, '▁drey': 16250, '▁dumb': 16251, '▁eggs': 16252, '▁ende': 16253, '▁enro': 16254, '▁esco': 16255, '▁estu': 16256, '▁fará': 16257, '▁fict': 16258, '▁fins': 16259, '▁fita': 16260, '▁flui': 16261, '▁giro': 16262, '▁hama': 16263, '▁hire': 16264, '▁inau': 16265, '▁jake': 16266, '▁july': 16267, '▁khan': 16268, '▁kofi': 16269, '▁kong': 16270, '▁lata': 16271, '▁leaf': 16272, '▁lobo': 16273, '▁maio': 16274, '▁mata': 16275, '▁mere': 16276, '▁mito': 16277, '▁moch': 16278, '▁nazi': 16279, '▁orle': 16280, '▁ouço': 16281, '▁piso': 16282, '▁pity': 16283, '▁preg': 16284, '▁puls': 16285, '▁ramo': 16286, '▁raro': 16287, '▁reck': 16288, '▁redd': 16289, '▁rita': 16290, '▁rosa': 16291, '▁ryan': 16292, '▁scra': 16293, '▁seam': 16294, '▁sele': 16295, '▁sket': 16296, '▁symp': 16297, '▁tale': 16298, '▁tedx': 16299, '▁thus': 16300, '▁tril': 16301, '▁unem': 16302, '▁urge': 16303, '▁veja': 16304, '▁vind': 16305, '▁yard': 16306, 'ancing': 16307, 'antrop': 16308, 'arious': 16309, 'depend': 16310, 'dollar': 16311, 'egeren': 16312, 'estima': 16313, 'estock': 16314, 'graphy': 16315, 'iforme': 16316, 'income': 16317, 'ionais': 16318, 'izador': 16319, 'izaram': 16320, 'lusion': 16321, 'prince': 16322, 'ration': 16323, 'rified': 16324, 'vindos': 16325, 'ástica': 16326, '▁abril': 16327, '▁aicha': 16328, '▁alinh': 16329, '▁alleg': 16330, '▁andei': 16331, '▁annan': 16332, '▁april': 16333, '▁arabs': 16334, '▁arrow': 16335, '▁autos': 16336, '▁awake': 16337, '▁bateu': 16338, '▁betão': 16339, '▁brush': 16340, '▁cardi': 16341, '▁cegas': 16342, '▁clich': 16343, '▁cloth': 16344, '▁corri': 16345, '▁demol': 16346, '▁depth': 16347, '▁dread': 16348, '▁elvis': 16349, '▁emite': 16350, '▁entes': 16351, '▁esqui': 16352, '▁estoc': 16353, '▁exclu': 16354, '▁faint': 16355, '▁fezes': 16356, '▁fifty': 16357, '▁filos': 16358, '▁fique': 16359, '▁fires': 16360, '▁forno': 16361, '▁fract': 16362, '▁fraud': 16363, '▁frost': 16364, '▁glând': 16365, '▁heter': 16366, '▁hills': 16367, '▁hipot': 16368, '▁inhib': 16369, '▁jerry': 16370, '▁jiade': 16371, '▁julho': 16372, '▁knees': 16373, '▁lestr': 16374, '▁lobby': 16375, '▁lungs': 16376, '▁lymph': 16377, '▁manut': 16378, '▁melan': 16379, '▁mesas': 16380, '▁mimic': 16381, '▁minus': 16382, '▁monst': 16383, '▁motel': 16384, '▁nanoc': 16385, '▁neand': 16386, '▁olímp': 16387, '▁palin': 16388, '▁perme': 16389, '▁piano': 16390, '▁posto': 16391, '▁radar': 16392, '▁ramos': 16393, '▁reass': 16394, '▁redem': 16395, '▁refin': 16396, '▁relva': 16397, '▁rodar': 16398, '▁salva': 16399, '▁sched': 16400, '▁seats': 16401, '▁sedas': 16402, '▁sharp': 16403, '▁silly': 16404, '▁slope': 16405, '▁spain': 16406, '▁spell': 16407, '▁suave': 16408, '▁swann': 16409, '▁tende': 16410, '▁tends': 16411, '▁tenth': 16412, '▁thres': 16413, '▁towns': 16414, '▁trilh': 16415, '▁vagas': 16416, '▁vinho': 16417, '▁whale': 16418, '▁águas': 16419, '▁átomo': 16420, 'adélfia': 16421, 'anthrop': 16422, 'borough': 16423, 'ometeor': 16424, 'raction': 16425, 'ruption': 16426, 'ísticos': 16427, '▁abismo': 16428, '▁aborto': 16429, '▁absorb': 16430, '▁alerta': 16431, '▁assess': 16432, '▁atuais': 16433, '▁baixas': 16434, '▁barrig': 16435, '▁barris': 16436, '▁behalf': 16437, '▁brands': 16438, '▁casais': 16439, '▁caíram': 16440, '▁chamei': 16441, '▁coelho': 16442, '▁copenh': 16443, '▁cripto': 16444, '▁cursor': 16445, '▁curves': 16446, '▁debbie': 16447, '▁desvan': 16448, '▁direto': 16449, '▁dirige': 16450, '▁edward': 16451, '▁endure': 16452, '▁enquad': 16453, '▁exigir': 16454, '▁ficará': 16455, '▁filhas': 16456, '▁finais': 16457, '▁fisher': 16458, '▁flickr': 16459, '▁germes': 16460, '▁greece': 16461, '▁guards': 16462, '▁hasbro': 16463, '▁holand': 16464, '▁horses': 16465, '▁hotels': 16466, '▁hotéis': 16467, '▁hunter': 16468, '▁inclui': 16469, '▁indica': 16470, '▁isabel': 16471, '▁jitney': 16472, '▁juntem': 16473, '▁kicked': 16474, '▁kinect': 16475, '▁lentes': 16476, '▁mammal': 16477, '▁marrow': 16478, '▁marvel': 16479, '▁metast': 16480, '▁mouths': 16481, '▁módulo': 16482, '▁nascem': 16483, '▁norway': 16484, '▁obtive': 16485, '▁orelha': 16486, '▁ponder': 16487, '▁pontes': 16488, '▁postos': 16489, '▁pretos': 16490, '▁prédio': 16491, '▁psicop': 16492, '▁pursue': 16493, '▁póster': 16494, '▁queijo': 16495, '▁quilos': 16496, '▁reader': 16497, '▁reator': 16498, '▁recebo': 16499, '▁redond': 16500, '▁rejeit': 16501, '▁reprim': 16502, '▁rescue': 16503, '▁revela': 16504, '▁rodeia': 16505, '▁saíram': 16506, '▁senior': 16507, '▁sessão': 16508, '▁stable': 16509, '▁steven': 16510, '▁subord': 16511, '▁sugest': 16512, '▁surgem': 16513, '▁surpre': 16514, '▁tables': 16515, '▁tamara': 16516, '▁tartar': 16517, '▁terços': 16518, '▁timing': 16519, '▁trains': 16520, '▁trinta': 16521, '▁vestíg': 16522, '▁viajei': 16523, '▁vivido': 16524, '▁wagner': 16525, '▁zipcar': 16526, 'adelphia': 16527, 'aissance': 16528, 'lessness': 16529, '▁200,000': 16530, '▁absence': 16531, '▁adquiri': 16532, '▁agência': 16533, '▁aldeias': 16534, '▁andamos': 16535, '▁applies': 16536, '▁arsenal': 16537, '▁awkward': 16538, '▁beating': 16539, '▁bedroom': 16540, '▁bridges': 16541, '▁budgets': 16542, '▁cereais': 16543, '▁charity': 16544, '▁charter': 16545, '▁chronic': 16546, '▁cineast': 16547, '▁command': 16548, '▁compart': 16549, '▁confusa': 16550, '▁consens': 16551, '▁constip': 16552, '▁contorn': 16553, '▁cousins': 16554, '▁criadas': 16555, '▁crossed': 16556, '▁cumprir': 16557, '▁decides': 16558, '▁deepest': 16559, '▁default': 16560, '▁deixava': 16561, '▁desmont': 16562, '▁desport': 16563, '▁diamond': 16564, '▁digging': 16565, '▁dreyfus': 16566, '▁endless': 16567, '▁enhance': 16568, '▁equipas': 16569, '▁espanha': 16570, '▁esperto': 16571, '▁esquina': 16572, '▁estádio': 16573, '▁europeu': 16574, '▁exhibit': 16575, '▁faciais': 16576, '▁falemos': 16577, '▁fastest': 16578, '▁feynman': 16579, '▁fishing': 16580, '▁founded': 16581, '▁fricção': 16582, '▁galinha': 16583, '▁grammar': 16584, '▁handful': 16585, '▁harmony': 16586, '▁harness': 16587, '▁harriet': 16588, '▁hillary': 16589, '▁impulso': 16590, '▁injured': 16591, '▁interag': 16592, '▁intimid': 16593, '▁intoler': 16594, '▁intrins': 16595, '▁iríamos': 16596, '▁jupiter': 16597, '▁kidding': 16598, '▁loyalty': 16599, '▁luckily': 16600, '▁mantido': 16601, '▁margens': 16602, '▁matches': 16603, '▁moldura': 16604, '▁museums': 16605, '▁músculo': 16606, '▁negação': 16607, '▁obscure': 16608, '▁ocorrem': 16609, '▁october': 16610, '▁odisseu': 16611, '▁offline': 16612, '▁oficial': 16613, '▁onstage': 16614, '▁outubro': 16615, '▁paixões': 16616, '▁pasting': 16617, '▁payment': 16618, '▁pedidos': 16619, '▁peoples': 16620, '▁phrases': 16621, '▁pigment': 16622, '▁planted': 16623, '▁pressup': 16624, '▁promiss': 16625, '▁protege': 16626, '▁prótese': 16627, '▁pulling': 16628, '▁pássaro': 16629, '▁quintas': 16630, '▁reclaim': 16631, '▁rejuven': 16632, '▁restric': 16633, '▁retinas': 16634, '▁russian': 16635, '▁rápidas': 16636, '▁seattle': 16637, '▁seleção': 16638, '▁shorter': 16639, '▁shortly': 16640, '▁slavery': 16641, '▁soldado': 16642, '▁sotaque': 16643, '▁spheres': 16644, '▁squares': 16645, '▁staring': 16646, '▁sugeriu': 16647, '▁suscept': 16648, '▁tijuana': 16649, '▁toilets': 16650, '▁toronto': 16651, '▁tuition': 16652, '▁tunisia': 16653, '▁tunísia': 16654, '▁urgente': 16655, '▁virtude': 16656, 'onografia': 16657, '▁abortion': 16658, '▁accompan': 16659, '▁actively': 16660, '▁adequado': 16661, '▁adquirir': 16662, '▁altruism': 16663, '▁asiático': 16664, '▁assassin': 16665, '▁assemelh': 16666, '▁avançado': 16667, '▁breadwin': 16668, '▁broadway': 16669, '▁cachorro': 16670, '▁cantores': 16671, '▁capturar': 16672, '▁carrillo': 16673, '▁carrinha': 16674, '▁catedral': 16675, '▁cenários': 16676, '▁circuits': 16677, '▁clínicas': 16678, '▁colecção': 16679, '▁comissão': 16680, '▁confined': 16681, '▁contente': 16682, '▁covering': 16683, '▁críticos': 16684, '▁customer': 16685, '▁decorrer': 16686, '▁dependem': 16687, '▁deterior': 16688, '▁district': 16689, '▁enabling': 16690, '▁encaixar': 16691, '▁ensinada': 16692, '▁escritas': 16693, '▁explicit': 16694, '▁expostos': 16695, '▁fantasia': 16696, '▁feminine': 16697, '▁feminino': 16698, '▁ficarmos': 16699, '▁friction': 16700, '▁geoffrey': 16701, '▁granular': 16702, '▁harmonia': 16703, '▁heritage': 16704, '▁hometown': 16705, '▁ilustrar': 16706, '▁improved': 16707, '▁incentiv': 16708, '▁inconsci': 16709, '▁instinto': 16710, '▁jonathan': 16711, '▁judgment': 16712, '▁lestrade': 16713, '▁lifelong': 16714, '▁maravilh': 16715, '▁medições': 16716, '▁meegeren': 16717, '▁ministro': 16718, '▁nascemos': 16719, '▁obsolete': 16720, '▁offering': 16721, '▁oposição': 16722, '▁optimism': 16723, '▁parasita': 16724, '▁passarem': 16725, '▁passions': 16726, '▁pathways': 16727, '▁percorre': 16728, '▁perigosa': 16729, '▁persever': 16730, '▁portrait': 16731, '▁portugal': 16732, '▁precious': 16733, '▁precisas': 16734, '▁precisos': 16735, '▁prolifer': 16736, '▁protests': 16737, '▁publicou': 16738, '▁quisemos': 16739, '▁racional': 16740, '▁recebido': 16741, '▁reconfig': 16742, '▁reflexão': 16743, '▁revenues': 16744, '▁sectores': 16745, '▁selvagem': 16746, '▁sexually': 16747, '▁shocking': 16748, '▁striking': 16749, '▁sucedida': 16750, '▁superint': 16751, '▁tendemos': 16752, '▁tendency': 16753, '▁terribly': 16754, '▁unilever': 16755, '▁variable': 16756, '▁velocity': 16757, '▁violação': 16758, '▁voltarem': 16759, '▁weakness': 16760, '▁abundance': 16761, '▁accidents': 16762, '▁agrícolas': 16763, '▁aleatória': 16764, '▁ambulance': 16765, '▁antártida': 16766, '▁apresento': 16767, '▁armadilha': 16768, '▁armstrong': 16769, '▁artística': 16770, '▁associate': 16771, '▁automated': 16772, '▁barbearia': 16773, '▁cathedral': 16774, '▁colocámos': 16775, '▁concordar': 16776, '▁continues': 16777, '▁correctly': 16778, '▁delicious': 16779, '▁dependent': 16780, '▁desastres': 16781, '▁descobrem': 16782, '▁distinção': 16783, '▁electrons': 16784, '▁enfrentam': 16785, '▁escolares': 16786, '▁espaciais': 16787, '▁esquecemo': 16788, '▁exercises': 16789, '▁gigawatts': 16790, '▁glaciares': 16791, '▁healthier': 16792, '▁hierarchy': 16793, '▁hiroshima': 16794, '▁histories': 16795, '▁idênticos': 16796, '▁inquérito': 16797, '▁inspirado': 16798, '▁jerusalem': 16799, '▁livestock': 16800, '▁locations': 16801, '▁malarious': 16802, '▁mecânicas': 16803, '▁migration': 16804, '▁mostramos': 16805, '▁mutations': 16806, '▁obtivemos': 16807, '▁palestine': 16808, '▁parecidas': 16809, '▁positivas': 16810, '▁precursor': 16811, '▁proibição': 16812, '▁projeções': 16813, '▁publicado': 16814, '▁recommend': 16815, '▁repercuss': 16816, '▁resolvido': 16817, '▁responded': 16818, '▁revelação': 16819, '▁seemingly': 16820, '▁sensitive': 16821, '▁sepultura': 16822, '▁skeletons': 16823, '▁synthetic': 16824, '▁terminado': 16825, '▁territory': 16826, '▁threshold': 16827, '▁vibrating': 16828, '▁virtually': 16829, '▁witnessed': 16830, '▁apaixonado': 16831, '▁apresentou': 16832, '▁assistente': 16833, '▁assumption': 16834, '▁astronauts': 16835, '▁basketball': 16836, '▁biológicos': 16837, '▁calculated': 16838, '▁chimpanzés': 16839, '▁composição': 16840, '▁contextual': 16841, '▁demonstram': 16842, '▁describing': 16843, '▁dictionary': 16844, '▁diminuição': 16845, '▁disturbing': 16846, '▁eléctricos': 16847, '▁encontrava': 16848, '▁espetáculo': 16849, '▁excelência': 16850, '▁extroverts': 16851, '▁filadélfia': 16852, '▁fizéssemos': 16853, '▁hambúrguer': 16854, '▁hemisphere': 16855, '▁isolamento': 16856, '▁livremente': 16857, '▁manutenção': 16858, '▁microphone': 16859, '▁millimeter': 16860, '▁neandertal': 16861, '▁objectivos': 16862, '▁politician': 16863, '▁powerpoint': 16864, '▁produtores': 16865, '▁programmer': 16866, '▁protecting': 16867, '▁protegidas': 16868, '▁protótipos': 16869, '▁qualidades': 16870, '▁quotidiana': 16871, '▁rainforest': 16872, '▁reasonable': 16873, '▁redemption': 16874, '▁regardless': 16875, '▁resistente': 16876, '▁sanguíneos': 16877, '▁seriamente': 16878, '▁solucionar': 16879, '▁tentativas': 16880, '▁translated': 16881, '▁variations': 16882, '▁vulnerável': 16883, '▁apercebemos': 16884, '▁approaching': 16885, '▁astronautas': 16886, '▁autoridades': 16887, '▁collaborate': 16888, '▁construindo': 16889, '▁controlling': 16890, '▁demonstrate': 16891, '▁desperately': 16892, '▁discoveries': 16893, '▁distribuído': 16894, '▁encouraging': 16895, '▁fantásticos': 16896, '▁frigorífico': 16897, '▁funcionário': 16898, '▁habilidades': 16899, '▁homossexual': 16900, '▁humanitária': 16901, '▁informático': 16902, '▁interruptor': 16903, '▁limitations': 16904, '▁micrometeor': 16905, '▁palestinian': 16906, '▁partilhados': 16907, '▁perguntámos': 16908, '▁positioning': 16909, '▁programmers': 16910, '▁proporciona': 16911, '▁reinventing': 16912, '▁responsabil': 16913, '▁sexualmente': 16914, '▁statistical': 16915, '▁surpreender': 16916, '▁trabalhámos': 16917, '▁transformam': 16918, '▁accelerating': 16919, '▁antibióticos': 16920, '▁catastrophic': 16921, '▁comunicações': 16922, '▁confortáveis': 16923, '▁consideração': 16924, '▁contribuição': 16925, '▁contribution': 16926, '▁costumávamos': 16927, '▁diagnósticos': 16928, '▁equipamentos': 16929, '▁gradualmente': 16930, '▁philadelphia': 16931, '▁philosophers': 16932, '▁sinceramente': 16933, '▁temperaturas': 16934, '▁transforming': 16935, '▁computacional': 16936, '▁configuration': 16937, '▁controversial': 16938, '▁exponentially': 16939, '▁institucional': 16940, '▁comportamental': 16941, '▁desflorestação': 16942, '▁discrimination': 16943, '▁probabilidades': 16944, '▁characteristics': 16945, '▁definitivamente': 16946, '▁relacionamentos': 16947, '▁straightforward': 16948, 'dt': 16949, 'hc': 16950, 'afi': 16951, 'aya': 16952, 'bil': 16953, 'bye': 16954, 'cél': 16955, 'din': 16956, 'eak': 16957, 'fly': 16958, 'fur': 16959, 'gia': 16960, 'hel': 16961, 'hyd': 16962, 'iom': 16963, 'itt': 16964, 'izz': 16965, 'mah': 16966, 'mal': 16967, 'ori': 16968, 'orp': 16969, 'pis': 16970, 'pop': 16971, 'ran': 16972, 'rip': 16973, 'sil': 16974, 'uda': 16975, 'yll': 16976, 'íns': 16977, 'ósm': 16978, '▁53': 16979, '▁67': 16980, '▁82': 16981, '▁83': 16982, '▁bê': 16983, '▁cd': 16984, '▁dk': 16985, '▁dé': 16986, '▁fã': 16987, '▁hg': 16988, '▁jf': 16989, '▁ki': 16990, '▁nó': 16991, 'abad': 16992, 'acta': 16993, 'alar': 16994, 'aped': 16995, 'auro': 16996, 'brei': 16997, 'cker': 16998, 'coce': 16999, 'core': 17000, 'cult': 17001, 'duct': 17002, 'esta': 17003, 'fish': 17004, 'fits': 17005, 'gado': 17006, 'iava': 17007, 'icut': 17008, 'impl': 17009, 'ipto': 17010, 'iwan': 17011, 'made': 17012, 'mark': 17013, 'mind': 17014, 'ocas': 17015, 'ofer': 17016, 'ogén': 17017, 'omed': 17018, 'oric': 17019, 'pack': 17020, 'peer': 17021, 'plég': 17022, 'pple': 17023, 'reto': 17024, 'rors': 17025, 'udos': 17026, 'uity': 17027, 'umph': 17028, 'urre': 17029, 'yles': 17030, 'ymah': 17031, 'ágil': 17032, 'élia': 17033, 'ínas': 17034, \"▁'80\": 17035, '▁105': 17036, '▁185': 17037, '▁360': 17038, '▁ado': 17039, '▁aux': 17040, '▁bid': 17041, '▁bun': 17042, '▁cmu': 17043, '▁cub': 17044, '▁duv': 17045, '▁eeg': 17046, '▁enz': 17047, '▁ets': 17048, '▁fíg': 17049, '▁jav': 17050, '▁leu': 17051, '▁lhc': 17052, '▁lis': 17053, '▁mog': 17054, '▁neu': 17055, '▁ngo': 17056, '▁pee': 17057, '▁phd': 17058, '▁quo': 17059, '▁reh': 17060, '▁rib': 17061, '▁sew': 17062, '▁tac': 17063, '▁ved': 17064, '▁vín': 17065, '▁wet': 17066, 'adela': 17067, 'adesh': 17068, 'andal': 17069, 'arian': 17070, 'bands': 17071, 'burgo': 17072, 'burst': 17073, 'class': 17074, 'edora': 17075, 'essas': 17076, 'eting': 17077, 'ezing': 17078, 'hamed': 17079, 'idões': 17080, 'iffer': 17081, 'inely': 17082, 'matic': 17083, 'peção': 17084, 'poses': 17085, 'ragem': 17086, 'ravos': 17087, 'rians': 17088, 'ribed': 17089, 'shirt': 17090, 'vendo': 17091, 'vente': 17092, 'world': 17093, 'ymmet': 17094, 'érico': 17095, 'ésimo': 17096, 'íduos': 17097, 'ítico': 17098, '▁1600': 17099, '▁1968': 17100, '▁3000': 17101, '▁4000': 17102, '▁5000': 17103, '▁acel': 17104, '▁afeg': 17105, '▁aliv': 17106, '▁ando': 17107, '▁anel': 17108, '▁atos': 17109, '▁atre': 17110, '▁avaz': 17111, '▁bars': 17112, '▁belt': 17113, '▁caps': 17114, '▁caça': 17115, '▁cega': 17116, '▁chew': 17117, '▁chol': 17118, '▁copi': 17119, '▁cran': 17120, '▁cree': 17121, '▁cycl': 17122, '▁cósm': 17123, '▁danç': 17124, '▁dece': 17125, '▁demo': 17126, '▁desg': 17127, '▁dies': 17128, '▁doze': 17129, '▁elon': 17130, '▁enzy': 17131, '▁ethn': 17132, '▁fale': 17133, '▁fans': 17134, '▁gaza': 17135, '▁gods': 17136, '▁grim': 17137, '▁holy': 17138, '▁indu': 17139, '▁inib': 17140, '▁isaf': 17141, '▁jaws': 17142, '▁lamb': 17143, '▁lido': 17144, '▁lion': 17145, '▁maid': 17146, '▁mond': 17147, '▁mong': 17148, '▁obed': 17149, '▁oecd': 17150, '▁ongs': 17151, '▁palm': 17152, '▁papa': 17153, '▁paus': 17154, '▁pear': 17155, '▁plum': 17156, '▁sede': 17157, '▁shoe': 17158, '▁sinc': 17159, '▁snap': 17160, '▁soap': 17161, '▁sonh': 17162, '▁stum': 17163, '▁suns': 17164, '▁tact': 17165, '▁titã': 17166, '▁verb': 17167, '▁whew': 17168, '▁wise': 17169, '▁zeal': 17170, 'asters': 17171, 'boards': 17172, 'cirurg': 17173, 'ecraft': 17174, 'ellers': 17175, 'govern': 17176, 'icatas': 17177, 'ighter': 17178, 'integr': 17179, 'iários': 17180, 'minute': 17181, 'onesia': 17182, 'onésia': 17183, 'ounded': 17184, 'redict': 17185, 'ribute': 17186, 'ricate': 17187, 'thirds': 17188, 'vation': 17189, 'étrica': 17190, 'ítulos': 17191, 'ónicos': 17192, '▁acamp': 17193, '▁adeus': 17194, '▁andes': 17195, '▁aonde': 17196, '▁arcos': 17197, '▁arrog': 17198, '▁autón': 17199, '▁banqu': 17200, '▁bites': 17201, '▁bloom': 17202, '▁booth': 17203, '▁cabin': 17204, '▁cared': 17205, '▁caves': 17206, '▁celeb': 17207, '▁cheer': 17208, '▁conso': 17209, '▁corda': 17210, '▁cript': 17211, '▁davam': 17212, '▁deixá': 17213, '▁delay': 17214, '▁deriv': 17215, '▁desil': 17216, '▁devil': 17217, '▁eager': 17218, '▁encom': 17219, '▁enviá': 17220, '▁ether': 17221, '▁evacu': 17222, '▁flesh': 17223, '▁foods': 17224, '▁fried': 17225, '▁frust': 17226, '▁fuzzy': 17227, '▁ghost': 17228, '▁gross': 17229, '▁guiné': 17230, '▁génio': 17231, '▁hired': 17232, '▁hopes': 17233, '▁impor': 17234, '▁incid': 17235, '▁inger': 17236, '▁italy': 17237, '▁jewel': 17238, '▁judeu': 17239, '▁julgo': 17240, '▁justa': 17241, '▁kilos': 17242, '▁knife': 17243, '▁lanes': 17244, '▁lexic': 17245, '▁lidam': 17246, '▁liver': 17247, '▁louis': 17248, '▁maker': 17249, '▁metas': 17250, '▁minar': 17251, '▁monop': 17252, '▁nasce': 17253, '▁newly': 17254, '▁ninho': 17255, '▁nomin': 17256, '▁nurse': 17257, '▁opera': 17258, '▁ouvia': 17259, '▁parei': 17260, '▁picos': 17261, '▁pilha': 17262, '▁plato': 17263, '▁plaus': 17264, '▁pleno': 17265, '▁pneum': 17266, '▁preta': 17267, '▁proph': 17268, '▁quint': 17269, '▁ratio': 17270, '▁remar': 17271, '▁resso': 17272, '▁retro': 17273, '▁rises': 17274, '▁salam': 17275, '▁salão': 17276, '▁santa': 17277, '▁sends': 17278, '▁senta': 17279, '▁shuff': 17280, '▁slice': 17281, '▁stain': 17282, '▁steep': 17283, '▁suíça': 17284, '▁swall': 17285, '▁teams': 17286, '▁threw': 17287, '▁tomou': 17288, '▁tries': 17289, '▁triun': 17290, '▁ursos': 17291, '▁vende': 17292, '▁venez': 17293, '▁vinte': 17294, '▁width': 17295, '▁wives': 17296, '▁worms': 17297, '▁wrist': 17298, '▁óscar': 17299, 'aterial': 17300, 'atorial': 17301, 'fulness': 17302, 'ignific': 17303, 'iologia': 17304, '▁15,000': 17305, '▁20,000': 17306, '▁30,000': 17307, '▁40,000': 17308, '▁adjust': 17309, '▁adoram': 17310, '▁agents': 17311, '▁agrade': 17312, '▁alarme': 17313, '▁allies': 17314, '▁amendo': 17315, '▁aplaud': 17316, '▁arbust': 17317, '▁ascend': 17318, '▁autent': 17319, '▁barrel': 17320, '▁burned': 17321, '▁caneta': 17322, '▁causou': 17323, '▁chains': 17324, '▁chefes': 17325, '▁cheios': 17326, '▁cheira': 17327, '▁cobert': 17328, '▁colher': 17329, '▁comedi': 17330, '▁consol': 17331, '▁correm': 17332, '▁corria': 17333, '▁cosmic': 17334, '▁counts': 17335, '▁courts': 17336, '▁cowork': 17337, '▁crânio': 17338, '▁descol': 17339, '▁deuses': 17340, '▁disfar': 17341, '▁disfun': 17342, '▁diverg': 17343, '▁décimo': 17344, '▁edição': 17345, '▁elites': 17346, '▁encher': 17347, '▁enrich': 17348, '▁esfera': 17349, '▁estufa': 17350, '▁falado': 17351, '▁falhou': 17352, '▁filosó': 17353, '▁filtro': 17354, '▁frames': 17355, '▁frágil': 17356, '▁gelado': 17357, '▁grocer': 17358, '▁handed': 17359, '▁heaven': 17360, '▁hebrew': 17361, '▁heroic': 17362, '▁howard': 17363, '▁idades': 17364, '▁inscre': 17365, '▁ironic': 17366, '▁itália': 17367, '▁jordan': 17368, '▁julian': 17369, '▁juntou': 17370, '▁kidney': 17371, '▁lander': 17372, '▁leymah': 17373, '▁lowest': 17374, '▁lâmina': 17375, '▁magnet': 17376, '▁manner': 17377, '▁mining': 17378, '▁motors': 17379, '▁nightm': 17380, '▁nódulo': 17381, '▁ombros': 17382, '▁partly': 17383, '▁passes': 17384, '▁piscar': 17385, '▁provin': 17386, '▁provém': 17387, '▁pulmão': 17388, '▁purple': 17389, '▁quebra': 17390, '▁reabil': 17391, '▁refres': 17392, '▁refuse': 17393, '▁regain': 17394, '▁relief': 17395, '▁retain': 17396, '▁revest': 17397, '▁rotina': 17398, '▁rubble': 17399, '▁salaam': 17400, '▁salary': 17401, '▁server': 17402, '▁sevent': 17403, '▁slower': 17404, '▁sooner': 17405, '▁subjac': 17406, '▁suborn': 17407, '▁subtis': 17408, '▁summar': 17409, '▁sábado': 17410, '▁taiwan': 17411, '▁temple': 17412, '▁tentem': 17413, '▁tintas': 17414, '▁trocas': 17415, '▁typing': 17416, '▁urgent': 17417, '▁weighs': 17418, '▁whales': 17419, '▁wheels': 17420, '▁wilder': 17421, 'bilidade': 17422, 'ministro': 17423, 'ográfico': 17424, '▁abraham': 17425, '▁abrimos': 17426, '▁absurdo': 17427, '▁abusive': 17428, '▁aceitou': 17429, '▁acolher': 17430, '▁alargar': 17431, '▁andares': 17432, '▁articul': 17433, '▁asfalto': 17434, '▁ashamed': 17435, '▁assinal': 17436, '▁atrasar': 17437, '▁beloved': 17438, '▁bonitas': 17439, '▁bonitos': 17440, '▁bubbles': 17441, '▁cleaner': 17442, '▁coleção': 17443, '▁collaps': 17444, '▁columns': 17445, '▁colunas': 17446, '▁coreano': 17447, '▁criarem': 17448, '▁cristal': 17449, '▁debilit': 17450, '▁descart': 17451, '▁egoísta': 17452, '▁encoder': 17453, '▁engenho': 17454, '▁enviado': 17455, '▁episode': 17456, '▁escadas': 17457, '▁estigma': 17458, '▁falarem': 17459, '▁falavam': 17460, '▁fathers': 17461, '▁florida': 17462, '▁footage': 17463, '▁fornece': 17464, '▁forçado': 17465, '▁futuras': 17466, '▁galeria': 17467, '▁garrafa': 17468, '▁generic': 17469, '▁gravado': 17470, '▁halfway': 17471, '▁handbag': 17472, '▁histori': 17473, '▁honesty': 17474, '▁hormona': 17475, '▁immense': 17476, '▁incomes': 17477, '▁indefin': 17478, '▁indifer': 17479, '▁iniciei': 17480, '▁intríns': 17481, '▁johnson': 17482, '▁liberia': 17483, '▁liberty': 17484, '▁libéria': 17485, '▁licença': 17486, '▁limitar': 17487, '▁looting': 17488, '▁manufac': 17489, '▁melhora': 17490, '▁mestres': 17491, '▁mestria': 17492, '▁modular': 17493, '▁mudámos': 17494, '▁médicas': 17495, '▁nascido': 17496, '▁ongoing': 17497, '▁opposed': 17498, '▁outward': 17499, '▁pacific': 17500, '▁passeio': 17501, '▁pathway': 17502, '▁pegámos': 17503, '▁periods': 17504, '▁petição': 17505, '▁piscina': 17506, '▁placing': 17507, '▁pontapé': 17508, '▁portion': 17509, '▁precoce': 17510, '▁priorit': 17511, '▁prisons': 17512, '▁promote': 17513, '▁publish': 17514, '▁puderem': 17515, '▁quadros': 17516, '▁ratings': 17517, '▁recordo': 17518, '▁reduces': 17519, '▁reduzem': 17520, '▁regiões': 17521, '▁reparei': 17522, '▁resumir': 17523, '▁retreat': 17524, '▁revisão': 17525, '▁russell': 17526, '▁sedução': 17527, '▁shaking': 17528, '▁sighted': 17529, '▁singers': 17530, '▁somalia': 17531, '▁strings': 17532, '▁suicida': 17533, '▁superst': 17534, '▁supreme': 17535, '▁surplus': 17536, '▁surveys': 17537, '▁tanques': 17538, '▁tentado': 17539, '▁termina': 17540, '▁triumph': 17541, '▁tráfico': 17542, '▁trágico': 17543, '▁unhappy': 17544, '▁volumes': 17545, '▁vínculo': 17546, '▁warhead': 17547, '▁whoever': 17548, 'ibilities': 17549, 'violência': 17550, '▁advances': 17551, '▁alimenta': 17552, '▁aplicada': 17553, '▁arranged': 17554, '▁atraente': 17555, '▁bicycles': 17556, '▁calorias': 17557, '▁calories': 17558, '▁caridade': 17559, '▁carteira': 17560, '▁castanha': 17561, '▁catastró': 17562, '▁celebrar': 17563, '▁channels': 17564, '▁cocktail': 17565, '▁coloquei': 17566, '▁colónias': 17567, '▁começava': 17568, '▁communal': 17569, '▁conceber': 17570, '▁conduziu': 17571, '▁consists': 17572, '▁contrair': 17573, '▁contínuo': 17574, '▁corredor': 17575, '▁criarmos': 17576, '▁curiosos': 17577, '▁declínio': 17578, '▁definido': 17579, '▁desajust': 17580, '▁descrevi': 17581, '▁destacar': 17582, '▁diameter': 17583, '▁dissesse': 17584, '▁distract': 17585, '▁dopamina': 17586, '▁dopamine': 17587, '▁drawings': 17588, '▁earliest': 17589, '▁entramos': 17590, '▁entregar': 17591, '▁espanhol': 17592, '▁espertos': 17593, '▁estudado': 17594, '▁estúpida': 17595, '▁explodir': 17596, '▁exprimir': 17597, '▁falarmos': 17598, '▁fechados': 17599, '▁fizessem': 17600, '▁florence': 17601, '▁foguetão': 17602, '▁forecast': 17603, '▁fármacos': 17604, '▁ganhamos': 17605, '▁ganharam': 17606, '▁goodness': 17607, '▁guitarra': 17608, '▁historic': 17609, '▁importam': 17610, '▁importar': 17611, '▁includes': 17612, '▁inconven': 17613, '▁indirect': 17614, '▁infantis': 17615, '▁iniciais': 17616, '▁inovador': 17617, '▁islâmico': 17618, '▁judicial': 17619, '▁juntamos': 17620, '▁lealdade': 17621, '▁liberais': 17622, '▁lâmpadas': 17623, '▁magnetic': 17624, '▁migração': 17625, '▁mosquite': 17626, '▁moviment': 17627, '▁naquelas': 17628, '▁nutrição': 17629, '▁observed': 17630, '▁observei': 17631, '▁omnipres': 17632, '▁orgânica': 17633, '▁oriental': 17634, '▁otimismo': 17635, '▁otimista': 17636, '▁pacífico': 17637, '▁papercut': 17638, '▁parasite': 17639, '▁payments': 17640, '▁percebam': 17641, '▁persuade': 17642, '▁períodos': 17643, '▁planting': 17644, '▁polícias': 17645, '▁posicion': 17646, '▁previsto': 17647, '▁privadas': 17648, '▁procurem': 17649, '▁pronunci': 17650, '▁prossegu': 17651, '▁quisesse': 17652, '▁rastreio': 17653, '▁recessão': 17654, '▁redenção': 17655, '▁reduzida': 17656, '▁reformar': 17657, '▁repensar': 17658, '▁reporter': 17659, '▁resident': 17660, '▁respondi': 17661, '▁resíduos': 17662, '▁scotland': 17663, '▁seguindo': 17664, '▁sentiram': 17665, '▁sequenci': 17666, '▁stopping': 17667, '▁supplies': 17668, '▁switched': 17669, '▁tentarem': 17670, '▁thrilled': 17671, '▁touching': 17672, '▁urgência': 17673, '▁vendedor': 17674, '▁veríamos': 17675, '▁virginia': 17676, '▁voltamos': 17677, '▁abundante': 17678, '▁acknowled': 17679, '▁afectadas': 17680, '▁aggregate': 17681, '▁alimentam': 17682, '▁amazingly': 17683, '▁andamento': 17684, '▁aprendido': 17685, '▁arguments': 17686, '▁arredores': 17687, '▁attending': 17688, '▁bacterial': 17689, '▁campanhas': 17690, '▁caçadores': 17691, '▁celebrity': 17692, '▁champions': 17693, '▁collusion': 17694, '▁correntes': 17695, '▁desencade': 17696, '▁determina': 17697, '▁dictators': 17698, '▁diplomacy': 17699, '▁dissessem': 17700, '▁dominated': 17701, '▁emergente': 17702, '▁enganados': 17703, '▁escolhido': 17704, '▁escritora': 17705, '▁evidência': 17706, '▁exigência': 17707, '▁existisse': 17708, '▁expressed': 17709, '▁filantrop': 17710, '▁genocídio': 17711, '▁gramática': 17712, '▁habitação': 17713, '▁hamburger': 17714, '▁headlines': 17715, '▁histórica': 17716, '▁homicídio': 17717, '▁honeybees': 17718, '▁illnesses': 17719, '▁imagining': 17720, '▁immigrant': 17721, '▁incidente': 17722, '▁increment': 17723, '▁indonesia': 17724, '▁indonésia': 17725, '▁initially': 17726, '▁logística': 17727, '▁motivados': 17728, '▁negotiate': 17729, '▁officials': 17730, '▁orgulhosa': 17731, '▁overnight': 17732, '▁paralisia': 17733, '▁pregnancy': 17734, '▁prevented': 17735, '▁punchline': 17736, '▁qualities': 17737, '▁realities': 17738, '▁recession': 17739, '▁relatives': 17740, '▁repararam': 17741, '▁reporters': 17742, '▁resilient': 17743, '▁secretary': 17744, '▁seduction': 17745, '▁separados': 17746, '▁similares': 17747, '▁simpático': 17748, '▁succeeded': 17749, '▁surpresas': 17750, '▁tiroteios': 17751, '▁treinador': 17752, '▁unpredict': 17753, '▁utilizada': 17754, '▁victorian': 17755, '▁workshops': 17756, 'asticamente': 17757, '▁accelerate': 17758, '▁accomplish': 17759, '▁aceleração': 17760, '▁afterwards': 17761, '▁apartments': 17762, '▁aprenderem': 17763, '▁automobile': 17764, '▁automático': 17765, '▁beneficiar': 17766, '▁boundaries': 17767, '▁brevemente': 17768, '▁capability': 17769, '▁casamentos': 17770, '▁comparison': 17771, '▁compreende': 17772, '▁compreendi': 17773, '▁conclusões': 17774, '▁conectomas': 17775, '▁consistent': 17776, '▁convincing': 17777, '▁critically': 17778, '▁determined': 17779, '▁determines': 17780, '▁diplomacia': 17781, '▁disponibil': 17782, '▁disposição': 17783, '▁distribuir': 17784, '▁empenhados': 17785, '▁empolgante': 17786, '▁encouraged': 17787, '▁enormously': 17788, '▁esperanças': 17789, '▁esquecemos': 17790, '▁exigências': 17791, '▁experienci': 17792, '▁extinction': 17793, '▁fabricante': 17794, '▁funcionava': 17795, '▁governação': 17796, '▁greenhouse': 17797, '▁humilhação': 17798, '▁impressive': 17799, '▁inesperado': 17800, '▁initiative': 17801, '▁insignific': 17802, '▁inspirados': 17803, '▁intangible': 17804, '▁interações': 17805, '▁interessar': 17806, '▁intrigante': 17807, '▁intriguing': 17808, '▁journalism': 17809, '▁mantiveram': 17810, '▁millennium': 17811, '▁organizing': 17812, '▁pensávamos': 17813, '▁physicians': 17814, '▁practicing': 17815, '▁procrastin': 17816, '▁professors': 17817, '▁progressos': 17818, '▁punishment': 17819, '▁realidades': 17820, '▁relatórios': 17821, '▁silenciosa': 17822, '▁spacecraft': 17823, '▁structural': 17824, '▁transducer': 17825, '▁transdutor': 17826, '▁underestim': 17827, '▁unintended': 17828, '▁aconteceram': 17829, '▁artificiais': 17830, '▁assignments': 17831, '▁basquetebol': 17832, '▁centímetros': 17833, '▁chimpanzees': 17834, '▁citizenship': 17835, '▁codificador': 17836, '▁composition': 17837, '▁connecticut': 17838, '▁convincente': 17839, '▁demographic': 17840, '▁encountered': 17841, '▁entrevistas': 17842, '▁fingerprint': 17843, '▁frightening': 17844, '▁honestidade': 17845, '▁humanitário': 17846, '▁implemented': 17847, '▁interessada': 17848, '▁manuscripts': 17849, '▁marketplace': 17850, '▁neanderthal': 17851, '▁philanthrop': 17852, '▁polarização': 17853, '▁pollination': 17854, '▁predictable': 17855, '▁probability': 17856, '▁psychiatric': 17857, '▁stimulation': 17858, '▁telefónicas': 17859, '▁testemunhar': 17860, '▁trabalharam': 17861, '▁agrupamentos': 17862, '▁authenticity': 17863, '▁condicionado': 17864, '▁conferências': 17865, '▁conseguissem': 17866, '▁conseguíamos': 17867, '▁demonstrated': 17868, '▁desenvolvida': 17869, '▁diagnosticar': 17870, '▁difficulties': 17871, '▁disconnected': 17872, '▁estrangeiros': 17873, '▁improvements': 17874, '▁measurements': 17875, '▁neurociência': 17876, '▁participants': 17877, '▁presentation': 17878, '▁psychologist': 17879, '▁reconstrução': 17880, '▁regularmente': 17881, '▁reverberação': 17882, '▁urbanization': 17883, '▁approximately': 17884, '▁classificação': 17885, '▁conseguiremos': 17886, '▁conservadores': 17887, '▁entusiasmados': 17888, '▁extrovertidos': 17889, '▁independentes': 17890, '▁philosophical': 17891, '▁procedimentos': 17892, '▁sensibilidade': 17893, '▁socioeconomic': 17894, '▁conseguiríamos': 17895, '▁familiarizados': 17896, '▁reconciliation': 17897, '▁systematically': 17898, '▁transformative': 17899, '15': 17900, 'iy': 17901, 'sm': 17902, 'çá': 17903, 'ña': 17904, 'abe': 17905, 'anz': 17906, 'asa': 17907, 'clu': 17908, 'dra': 17909, 'eas': 17910, 'eli': 17911, 'exc': 17912, 'fol': 17913, 'izo': 17914, 'kel': 17915, 'lum': 17916, 'oko': 17917, 'ols': 17918, 'olé': 17919, 'reo': 17920, 'see': 17921, 'sex': 17922, 'tha': 17923, 'uba': 17924, 'ufl': 17925, 'zac': 17926, 'zig': 17927, '▁5.': 17928, '▁58': 17929, '▁78': 17930, '▁bj': 17931, '▁bí': 17932, '▁ft': 17933, '▁hw': 17934, '▁ku': 17935, '▁lc': 17936, '▁ml': 17937, '▁mp': 17938, '▁rs': 17939, '▁uv': 17940, 'abha': 17941, 'achi': 17942, 'aque': 17943, 'aron': 17944, 'asco': 17945, 'aved': 17946, 'burg': 17947, 'cost': 17948, 'emic': 17949, 'enhe': 17950, 'enix': 17951, 'erão': 17952, 'etra': 17953, 'fall': 17954, 'fash': 17955, 'flix': 17956, 'foot': 17957, 'gada': 17958, 'gins': 17959, 'guan': 17960, 'held': 17961, 'holm': 17962, 'hran': 17963, 'ifes': 17964, 'ilde': 17965, 'ilot': 17966, 'izab': 17967, 'kets': 17968, 'life': 17969, 'mate': 17970, 'mine': 17971, 'ocam': 17972, 'odel': 17973, 'okes': 17974, 'olmo': 17975, 'omia': 17976, 'oped': 17977, 'ossa': 17978, 'oted': 17979, 'outs': 17980, 'pley': 17981, 'quim': 17982, 'rous': 17983, 'rypt': 17984, 'uded': 17985, 'udir': 17986, 'warz': 17987, 'weis': 17988, 'énix': 17989, 'ímer': 17990, '▁1,6': 17991, '▁1.3': 17992, '▁180': 17993, '▁2.5': 17994, '▁ads': 17995, '▁ash': 17996, '▁ddt': 17997, '▁egg': 17998, '▁eus': 17999, '▁gch': 18000, '▁gem': 18001, '▁gin': 18002, '▁hmm': 18003, '▁jop': 18004, '▁júp': 18005, '▁kat': 18006, '▁lan': 18007, '▁lix': 18008, '▁lyn': 18009, '▁mba': 18010, '▁nsa': 18011, '▁omm': 18012, '▁rud': 18013, '▁sie': 18014, '▁sra': 18015, '▁túm': 18016, '▁upd': 18017, '▁vor': 18018, '▁wok': 18019, '▁yan': 18020, '▁yor': 18021, 'adium': 18022, 'brand': 18023, 'brush': 18024, 'bucks': 18025, 'enceu': 18026, 'endal': 18027, 'essee': 18028, 'eston': 18029, 'etite': 18030, 'ffect': 18031, 'hados': 18032, 'hobia': 18033, 'hobic': 18034, 'iding': 18035, 'iform': 18036, 'iliar': 18037, 'inger': 18038, 'intro': 18039, 'iyama': 18040, 'mento': 18041, 'olloh': 18042, 'ordis': 18043, 'otype': 18044, 'owitz': 18045, 'phalt': 18046, 'pring': 18047, 'raine': 18048, 'regon': 18049, 'theid': 18050, 'ucked': 18051, 'ulary': 18052, 'urpos': 18053, 'verse': 18054, 'zalah': 18055, 'ólico': 18056, '▁1941': 18057, '▁1948': 18058, '▁1973': 18059, '▁1976': 18060, '▁1988': 18061, '▁aban': 18062, '▁agon': 18063, '▁alec': 18064, '▁amit': 18065, '▁beij': 18066, '▁bios': 18067, '▁blan': 18068, '▁boil': 18069, '▁bono': 18070, '▁butt': 18071, '▁calm': 18072, '▁cern': 18073, '▁coro': 18074, '▁cubo': 18075, '▁cues': 18076, '▁dali': 18077, '▁deer': 18078, '▁dete': 18079, '▁dive': 18080, '▁dong': 18081, '▁dour': 18082, '▁ease': 18083, '▁ergu': 18084, '▁exat': 18085, '▁exit': 18086, '▁ferv': 18087, '▁fits': 18088, '▁fred': 18089, '▁furn': 18090, '▁gaps': 18091, '▁geop': 18092, '▁gill': 18093, '▁hary': 18094, '▁ilum': 18095, '▁imip': 18096, '▁irra': 18097, '▁isis': 18098, '▁jain': 18099, '▁joan': 18100, '▁joie': 18101, '▁lane': 18102, '▁lean': 18103, '▁linf': 18104, '▁mann': 18105, '▁maré': 18106, '▁maui': 18107, '▁mell': 18108, '▁mock': 18109, '▁mush': 18110, '▁nash': 18111, '▁nato': 18112, '▁nemo': 18113, '▁nerd': 18114, '▁ocde': 18115, '▁omer': 18116, '▁ommm': 18117, '▁ovos': 18118, '▁pant': 18119, '▁pare': 18120, '▁peel': 18121, '▁pent': 18122, '▁pesa': 18123, '▁peña': 18124, '▁pier': 18125, '▁prín': 18126, '▁prós': 18127, '▁quiz': 18128, '▁rapt': 18129, '▁rara': 18130, '▁reto': 18131, '▁rome': 18132, '▁rumo': 18133, '▁sail': 18134, '▁sake': 18135, '▁sali': 18136, '▁sean': 18137, '▁seed': 18138, '▁silh': 18139, '▁sobe': 18140, '▁stab': 18141, '▁taxi': 18142, '▁thom': 18143, '▁toes': 18144, '▁tori': 18145, '▁unst': 18146, '▁uran': 18147, '▁urso': 18148, '▁vary': 18149, '▁wael': 18150, '▁wald': 18151, '▁wins': 18152, '▁woke': 18153, '▁wond': 18154, '▁wrap': 18155, '▁yoga': 18156, '▁árdu': 18157, 'ateral': 18158, 'ctured': 18159, 'ecemos': 18160, 'ensity': 18161, 'erkats': 18162, 'gueres': 18163, 'icasse': 18164, 'icasso': 18165, 'icious': 18166, 'inform': 18167, 'inotar': 18168, 'izável': 18169, 'jeição': 18170, 'minded': 18171, 'plegic': 18172, 'roniaz': 18173, 'ulados': 18174, 'veland': 18175, 'ângulo': 18176, 'ículas': 18177, 'íssima': 18178, 'ómicos': 18179, '▁acids': 18180, '▁adorm': 18181, '▁ahmed': 18182, '▁alemã': 18183, '▁align': 18184, '▁amava': 18185, '▁antic': 18186, '▁anual': 18187, '▁arrep': 18188, '▁arrum': 18189, '▁asian': 18190, '▁astro': 18191, '▁bench': 18192, '▁brave': 18193, '▁brick': 18194, '▁bruto': 18195, '▁budap': 18196, '▁camps': 18197, '▁casca': 18198, '▁catar': 18199, '▁cerne': 18200, '▁chief': 18201, '▁chord': 18202, '▁cobra': 18203, '▁cobre': 18204, '▁cohen': 18205, '▁coord': 18206, '▁dadas': 18207, '▁dalai': 18208, '▁decim': 18209, '▁decom': 18210, '▁depri': 18211, '▁desal': 18212, '▁duras': 18213, '▁embri': 18214, '▁enfim': 18215, '▁engol': 18216, '▁enrol': 18217, '▁espon': 18218, '▁estad': 18219, '▁exced': 18220, '▁exile': 18221, '▁fenom': 18222, '▁folha': 18223, '▁funds': 18224, '▁fénix': 18225, '▁geram': 18226, '▁girar': 18227, '▁grata': 18228, '▁grove': 18229, '▁grãos': 18230, '▁guilt': 18231, '▁hebra': 18232, '▁helen': 18233, '▁herói': 18234, '▁hindu': 18235, '▁hoped': 18236, '▁idaho': 18237, '▁imort': 18238, '▁ingén': 18239, '▁inorg': 18240, '▁invad': 18241, '▁irreg': 18242, '▁jimmy': 18243, '▁kevin': 18244, '▁kills': 18245, '▁lerem': 18246, '▁limbs': 18247, '▁loans': 18248, '▁marsh': 18249, '▁matam': 18250, '▁meias': 18251, '▁merda': 18252, '▁mesqu': 18253, '▁messy': 18254, '▁moist': 18255, '▁monoc': 18256, '▁moocs': 18257, '▁naomi': 18258, '▁noisy': 18259, '▁nonin': 18260, '▁oblig': 18261, '▁obtêm': 18262, '▁oprim': 18263, '▁oscar': 18264, '▁ouçam': 18265, '▁parti': 18266, '▁pasta': 18267, '▁pesad': 18268, '▁pomos': 18269, '▁recri': 18270, '▁recyc': 18271, '▁remen': 18272, '▁retal': 18273, '▁reuni': 18274, '▁reuse': 18275, '▁riley': 18276, '▁robin': 18277, '▁simps': 18278, '▁sirna': 18279, '▁solet': 18280, '▁sonar': 18281, '▁sonic': 18282, '▁sonny': 18283, '▁sorri': 18284, '▁sover': 18285, '▁stasi': 18286, '▁stere': 18287, '▁stern': 18288, '▁tanks': 18289, '▁tigre': 18290, '▁tirou': 18291, '▁tribe': 18292, '▁tribo': 18293, '▁tubos': 18294, '▁valem': 18295, '▁valer': 18296, '▁virou': 18297, '▁vivam': 18298, '▁vivre': 18299, '▁wound': 18300, '▁xviii': 18301, 'aughter': 18302, 'blinear': 18303, 'cimento': 18304, 'fashion': 18305, 'izabeth': 18306, 'melweis': 18307, 'organic': 18308, 'ossomas': 18309, 'ramento': 18310, 'rospect': 18311, 'tamente': 18312, 'theless': 18313, 'version': 18314, '▁aceito': 18315, '▁actors': 18316, '▁adorei': 18317, '▁afecta': 18318, '▁ajudem': 18319, '▁alfred': 18320, '▁alphab': 18321, '▁amamos': 18322, '▁angles': 18323, '▁annual': 18324, '▁antrop': 18325, '▁apollo': 18326, '▁aposta': 18327, '▁arrive': 18328, '▁backup': 18329, '▁bassem': 18330, '▁beaten': 18331, '▁bioflu': 18332, '▁blogue': 18333, '▁builds': 18334, '▁bullet': 18335, '▁cantor': 18336, '▁casaco': 18337, '▁chapéu': 18338, '▁coined': 18339, '▁compat': 18340, '▁copied': 18341, '▁cotton': 18342, '▁cousin': 18343, '▁cracks': 18344, '▁cumpri': 18345, '▁curtas': 18346, '▁dakota': 18347, '▁denial': 18348, '▁descod': 18349, '▁destin': 18350, '▁edited': 18351, '▁egipto': 18352, '▁engrav': 18353, '▁enters': 18354, '▁escuta': 18355, '▁espada': 18356, '▁espont': 18357, '▁evolut': 18358, '▁examin': 18359, '▁exempl': 18360, '▁exista': 18361, '▁exílio': 18362, '▁festas': 18363, '▁fixing': 18364, '▁fluent': 18365, '▁folded': 18366, '▁fuller': 18367, '▁fígado': 18368, '▁fóssil': 18369, '▁gaiola': 18370, '▁ganhei': 18371, '▁gerais': 18372, '▁gordos': 18373, '▁gritos': 18374, '▁hammer': 18375, '▁harlem': 18376, '▁harold': 18377, '▁hippoc': 18378, '▁immers': 18379, '▁immort': 18380, '▁improb': 18381, '▁inanim': 18382, '▁inflex': 18383, '▁ironia': 18384, '▁janine': 18385, '▁joplin': 18386, '▁justin': 18387, '▁kendal': 18388, '▁larvas': 18389, '▁league': 18390, '▁lecion': 18391, '▁legend': 18392, '▁loucas': 18393, '▁louder': 18394, '▁maddie': 18395, '▁mandei': 18396, '▁manhãs': 18397, '▁mantra': 18398, '▁megafa': 18399, '▁miscon': 18400, '▁moldar': 18401, '▁mozart': 18402, '▁máscar': 18403, '▁nalgum': 18404, '▁natanz': 18405, '▁neurop': 18406, '▁nikola': 18407, '▁noises': 18408, '▁noneth': 18409, '▁norman': 18410, '▁noturn': 18411, '▁oposta': 18412, '▁oregon': 18413, '▁ouvida': 18414, '▁partit': 18415, '▁peguem': 18416, '▁pencil': 18417, '▁perdão': 18418, '▁pesado': 18419, '▁planes': 18420, '▁poeira': 18421, '▁potato': 18422, '▁prayer': 18423, '▁promov': 18424, '▁propus': 18425, '▁protet': 18426, '▁provou': 18427, '▁prozac': 18428, '▁psicos': 18429, '▁purely': 18430, '▁recorr': 18431, '▁recuar': 18432, '▁regret': 18433, '▁rehear': 18434, '▁reimag': 18435, '▁ripley': 18436, '▁rubber': 18437, '▁salvou': 18438, '▁scaled': 18439, '▁sculpt': 18440, '▁seguiu': 18441, '▁sentim': 18442, '▁sheets': 18443, '▁shifts': 18444, '▁shower': 18445, '▁sintam': 18446, '▁stigma': 18447, '▁strict': 18448, '▁submet': 18449, '▁teerão': 18450, '▁tehran': 18451, '▁templo': 18452, '▁ticket': 18453, '▁toyota': 18454, '▁travar': 18455, '▁trazem': 18456, '▁trojan': 18457, '▁unfold': 18458, '▁vendem': 18459, '▁venter': 18460, '▁vestir': 18461, '▁viewed': 18462, '▁viscer': 18463, '▁wasted': 18464, '▁ártico': 18465, '▁óculos': 18466, 'changing': 18467, 'cionados': 18468, 'ergarten': 18469, 'ificadas': 18470, '▁acordos': 18471, '▁adapted': 18472, '▁admirar': 18473, '▁ajustar': 18474, '▁alexand': 18475, '▁aliados': 18476, '▁ambição': 18477, '▁amizade': 18478, '▁andarem': 18479, '▁apanhei': 18480, '▁aquecer': 18481, '▁asphalt': 18482, '▁assegur': 18483, '▁assusta': 18484, '▁asymmet': 18485, '▁athlete': 18486, '▁autismo': 18487, '▁bananas': 18488, '▁barriga': 18489, '▁belongs': 18490, '▁beneath': 18491, '▁bimetal': 18492, '▁bizarre': 18493, '▁braille': 18494, '▁causado': 18495, '▁cavalos': 18496, '▁checked': 18497, '▁claimed': 18498, '▁cleaned': 18499, '▁clients': 18500, '▁closest': 18501, '▁comando': 18502, '▁cometer': 18503, '▁controv': 18504, '▁coorden': 18505, '▁copying': 18506, '▁counted': 18507, '▁curador': 18508, '▁curator': 18509, '▁descans': 18510, '▁deserts': 18511, '▁directo': 18512, '▁disparo': 18513, '▁dominar': 18514, '▁enabled': 18515, '▁encoded': 18516, '▁entered': 18517, '▁enzimas': 18518, '▁enzymes': 18519, '▁estando': 18520, '▁estranh': 18521, '▁estável': 18522, '▁ethical': 18523, '▁exercer': 18524, '▁ficavam': 18525, '▁flutuar': 18526, '▁fragile': 18527, '▁genital': 18528, '▁goldman': 18529, '▁gradual': 18530, '▁grandma': 18531, '▁graphic': 18532, '▁gravada': 18533, '▁grounds': 18534, '▁hacking': 18535, '▁haryana': 18536, '▁helicop': 18537, '▁helicóp': 18538, '▁houston': 18539, '▁imagery': 18540, '▁imagino': 18541, '▁infeção': 18542, '▁inspect': 18543, '▁interno': 18544, '▁isolado': 18545, '▁japones': 18546, '▁joining': 18547, '▁júpiter': 18548, '▁katrina': 18549, '▁liberta': 18550, '▁logical': 18551, '▁margins': 18552, '▁maridos': 18553, '▁massach': 18554, '▁matthew': 18555, '▁medimos': 18556, '▁menores': 18557, '▁milénio': 18558, '▁mirrors': 18559, '▁mudamos': 18560, '▁netflix': 18561, '▁nicolas': 18562, '▁ocasião': 18563, '▁okolloh': 18564, '▁orações': 18565, '▁pagamos': 18566, '▁paleont': 18567, '▁passiva': 18568, '▁phoenix': 18569, '▁picasso': 18570, '▁players': 18571, '▁pollock': 18572, '▁polímer': 18573, '▁powered': 18574, '▁prontas': 18575, '▁quantia': 18576, '▁quintal': 18577, '▁reaches': 18578, '▁reactor': 18579, '▁recolha': 18580, '▁recorde': 18581, '▁records': 18582, '▁referir': 18583, '▁reflete': 18584, '▁reintro': 18585, '▁reminds': 18586, '▁reserve': 18587, '▁saberem': 18588, '▁scaling': 18589, '▁scholar': 18590, '▁schwarz': 18591, '▁secreta': 18592, '▁sensing': 18593, '▁sentimo': 18594, '▁session': 18595, '▁settled': 18596, '▁shifted': 18597, '▁shining': 18598, '▁simpler': 18599, '▁spreads': 18600, '▁squared': 18601, '▁stadium': 18602, '▁storage': 18603, '▁synthes': 18604, '▁thordis': 18605, '▁tornamo': 18606, '▁touches': 18607, '▁trailer': 18608, '▁trazido': 18609, '▁ucrânia': 18610, '▁ukraine': 18611, '▁vantage': 18612, '▁vestido': 18613, '▁viewing': 18614, '▁visited': 18615, '▁visitei': 18616, '▁whewell': 18617, '▁wrapped': 18618, '▁ângulos': 18619, 'conscious': 18620, 'icultural': 18621, 'ologistas': 18622, '▁abundant': 18623, '▁activism': 18624, '▁adoraram': 18625, '▁afetadas': 18626, '▁agradeço': 18627, '▁alterado': 18628, '▁amitabha': 18629, '▁annoying': 18630, '▁aparecia': 18631, '▁arbitrar': 18632, '▁ativismo': 18633, '▁attacker': 18634, '▁batalhas': 18635, '▁believes': 18636, '▁boundary': 18637, '▁canadian': 18638, '▁catholic': 18639, '▁chamámos': 18640, '▁cleaning': 18641, '▁committe': 18642, '▁conforto': 18643, '▁constrói': 18644, '▁consumir': 18645, '▁corações': 18646, '▁corremos': 18647, '▁criteria': 18648, '▁deixadas': 18649, '▁deixando': 18650, '▁descrevê': 18651, '▁desempre': 18652, '▁desertos': 18653, '▁devolver': 18654, '▁dividida': 18655, '▁dongguan': 18656, '▁dropping': 18657, '▁encolher': 18658, '▁enjoying': 18659, '▁ensinado': 18660, '▁entidade': 18661, '▁escolhem': 18662, '▁escravos': 18663, '▁espelhos': 18664, '▁exatidão': 18665, '▁externos': 18666, '▁falecido': 18667, '▁famously': 18668, '▁feminist': 18669, '▁genocide': 18670, '▁glaciers': 18671, '▁gratuito': 18672, '▁gravidez': 18673, '▁hallucin': 18674, '▁hatzalah': 18675, '▁highways': 18676, '▁honestos': 18677, '▁horários': 18678, '▁híbridos': 18679, '▁imitador': 18680, '▁inclusão': 18681, '▁indicate': 18682, '▁injuries': 18683, '▁inteiras': 18684, '▁iproniaz': 18685, '▁lawrence': 18686, '▁levantam': 18687, '▁lovelace': 18688, '▁mcdonald': 18689, '▁meerkats': 18690, '▁membrana': 18691, '▁membrane': 18692, '▁mineiros': 18693, '▁moreover': 18694, '▁munições': 18695, '▁musicais': 18696, '▁narração': 18697, '▁nervosos': 18698, '▁notebook': 18699, '▁notáveis': 18700, '▁obtained': 18701, '▁ocupados': 18702, '▁operator': 18703, '▁orbiting': 18704, '▁overload': 18705, '▁panorama': 18706, '▁parallel': 18707, '▁policial': 18708, '▁preferem': 18709, '▁premissa': 18710, '▁princess': 18711, '▁projeção': 18712, '▁prospect': 18713, '▁príncipe': 18714, '▁purposes': 18715, '▁quarters': 18716, '▁recordar': 18717, '▁repurpos': 18718, '▁responds': 18719, '▁salvador': 18720, '▁scanners': 18721, '▁seguiram': 18722, '▁selected': 18723, '▁selecção': 18724, '▁smallest': 18725, '▁solteira': 18726, '▁sozinhas': 18727, '▁sticking': 18728, '▁suicidas': 18729, '▁sujeitos': 18730, '▁supervis': 18731, '▁surgical': 18732, '▁symbolic': 18733, '▁talented': 18734, '▁taniyama': 18735, '▁tanzânia': 18736, '▁terrific': 18737, '▁thriving': 18738, '▁tremendo': 18739, '▁tristeza': 18740, '▁uberpool': 18741, '▁unemploy': 18742, '▁uploaded': 18743, '▁vacation': 18744, '▁verifica': 18745, '▁vietname': 18746, '▁voltámos': 18747, 'excremento': 18748, 'iabilidade': 18749, '▁aceitável': 18750, '▁adaptação': 18751, '▁admiração': 18752, '▁answering': 18753, '▁armazenar': 18754, '▁atributos': 18755, '▁attracted': 18756, '▁avançando': 18757, '▁aventuras': 18758, '▁bacterium': 18759, '▁bastantes': 18760, '▁batteries': 18761, '▁benefício': 18762, '▁campaigns': 18763, '▁chegarmos': 18764, '▁cidadania': 18765, '▁circuitry': 18766, '▁cleveland': 18767, '▁comparada': 18768, '▁confiamos': 18769, '▁container': 18770, '▁contracts': 18771, '▁critérios': 18772, '▁cultivate': 18773, '▁daughters': 18774, '▁demonstra': 18775, '▁describes': 18776, '▁desejamos': 18777, '▁desnecess': 18778, '▁desperate': 18779, '▁diginotar': 18780, '▁displaced': 18781, '▁educators': 18782, '▁elizabeth': 18783, '▁encounter': 18784, '▁espreitar': 18785, '▁estocolmo': 18786, '▁evoluíram': 18787, '▁exclusion': 18788, '▁exhausted': 18789, '▁expecting': 18790, '▁explosões': 18791, '▁flexíveis': 18792, '▁frequente': 18793, '▁impressos': 18794, '▁inclusiva': 18795, '▁ingenuity': 18796, '▁inorganic': 18797, '▁inovadora': 18798, '▁intrigued': 18799, '▁inventado': 18800, '▁inventing': 18801, '▁investing': 18802, '▁iranianos': 18803, '▁irregular': 18804, '▁lifestyle': 18805, '▁limitadas': 18806, '▁localizar': 18807, '▁logistics': 18808, '▁magnética': 18809, '▁marriages': 18810, '▁mecânicos': 18811, '▁mergulhar': 18812, '▁millennia': 18813, '▁milímetro': 18814, '▁navegador': 18815, '▁originals': 18816, '▁paisagens': 18817, '▁persuadir': 18818, '▁pesquisas': 18819, '▁pneumonia': 18820, '▁potenciar': 18821, '▁promising': 18822, '▁prosperar': 18823, '▁protestos': 18824, '▁protocell': 18825, '▁psychotic': 18826, '▁quisessem': 18827, '▁radically': 18828, '▁realistic': 18829, '▁recovered': 18830, '▁screening': 18831, '▁selvagens': 18832, '▁skeptical': 18833, '▁sovereign': 18834, '▁specimens': 18835, '▁starbucks': 18836, '▁statistic': 18837, '▁stockholm': 18838, '▁stretched': 18839, '▁struggled': 18840, '▁sublinear': 18841, '▁surgeries': 18842, '▁suricatas': 18843, '▁surviving': 18844, '▁temporary': 18845, '▁tennessee': 18846, '▁tolerance': 18847, '▁trabalhou': 18848, '▁traumatic': 18849, '▁trillions': 18850, '▁valorizar': 18851, '▁volunteer': 18852, 'imensionais': 18853, '▁abordagens': 18854, '▁acceptable': 18855, '▁accounting': 18856, '▁acontecerá': 18857, '▁advantages': 18858, '▁agricultor': 18859, '▁amplamente': 18860, '▁argumentar': 18861, '▁assinatura': 18862, '▁assistimos': 18863, '▁associados': 18864, '▁attributes': 18865, '▁avaliações': 18866, '▁celebrated': 18867, '▁circulação': 18868, '▁classmates': 18869, '▁cloudburst': 18870, '▁confession': 18871, '▁confiantes': 18872, '▁consigamos': 18873, '▁conspiracy': 18874, '▁continuous': 18875, '▁corredores': 18876, '▁desenvolvi': 18877, '▁devastated': 18878, '▁dicionário': 18879, '▁differenti': 18880, '▁distâncias': 18881, '▁elementary': 18882, '▁encontrámo': 18883, '▁escrevemos': 18884, '▁excitement': 18885, '▁flutuações': 18886, '▁fotografar': 18887, '▁friendship': 18888, '▁habitantes': 18889, '▁identified': 18890, '▁identities': 18891, '▁illustrate': 18892, '▁ilustração': 18893, '▁implacável': 18894, '▁improvável': 18895, '▁inherently': 18896, '▁innovators': 18897, '▁intangível': 18898, '▁intentions': 18899, '▁interviews': 18900, '▁irrigation': 18901, '▁maliciosos': 18902, '▁maravilhas': 18903, '▁negligenci': 18904, '▁newspapers': 18905, '▁observámos': 18906, '▁pesticidas': 18907, '▁phenomenal': 18908, '▁prediction': 18909, '▁privileged': 18910, '▁procedures': 18911, '▁programmed': 18912, '▁realização': 18913, '▁rebuilding': 18914, '▁relevantes': 18915, '▁religiosos': 18916, '▁republican': 18917, '▁repórteres': 18918, '▁researcher': 18919, '▁semmelweis': 18920, '▁sequenciar': 18921, '▁settlement': 18922, '▁silencioso': 18923, '▁subsariana': 18924, '▁sufficient': 18925, '▁supporting': 18926, '▁surpreende': 18927, '▁tenderness': 18928, '▁terrestres': 18929, '▁testemunho': 18930, '▁tolerância': 18931, '▁vocabulary': 18932, '▁wilderness': 18933, '▁acampamento': 18934, '▁antibiotics': 18935, '▁comprometer': 18936, '▁connectomes': 18937, '▁conseguirei': 18938, '▁conspiração': 18939, '▁construções': 18940, '▁contentores': 18941, '▁continuando': 18942, '▁controversa': 18943, '▁convenience': 18944, '▁dangerously': 18945, '▁democrática': 18946, '▁democrático': 18947, '▁destination': 18948, '▁documenting': 18949, '▁eletrónicas': 18950, '▁empréstimos': 18951, '▁enforcement': 18952, '▁entrevistar': 18953, '▁equilibrium': 18954, '▁financeiras': 18955, '▁foundations': 18956, '▁funcionavam': 18957, '▁iniciativas': 18958, '▁interpretar': 18959, '▁negociações': 18960, '▁neuroscient': 18961, '▁nonetheless': 18962, '▁perguntamos': 18963, '▁perspetivas': 18964, '▁polinização': 18965, '▁politically': 18966, '▁prosthetics': 18967, '▁questioning': 18968, '▁renaissance': 18969, '▁trabalharem': 18970, '▁trafficking': 18971, '▁transferred': 18972, '▁apartamentos': 18973, '▁collaborator': 18974, '▁concentração': 18975, '▁concorrentes': 18976, '▁consideramos': 18977, '▁curiosamente': 18978, '▁encontrarmos': 18979, '▁experimentei': 18980, '▁fluctuations': 18981, '▁invisibility': 18982, '▁nevertheless': 18983, '▁polarization': 18984, '▁problemático': 18985, '▁radicalmente': 18986, '▁ramificações': 18987, '▁reabilitação': 18988, '▁representado': 18989, '▁supermercado': 18990, '▁abastecimento': 18991, '▁autenticidade': 18992, '▁collaborators': 18993, '▁compassionate': 18994, '▁investigation': 18995, '▁originalmente': 18996, '▁participating': 18997, '▁personalizada': 18998, '▁politicamente': 18999, '▁reconciliação': 19000, '▁revolutionary': 19001, '▁unpredictable': 19002, '▁accountability': 19003, '▁aleatoriamente': 19004, '▁aproveitamento': 19005, '▁contrariamente': 19006, '▁relacionamento': 19007, ',2': 19008, '/7': 19009, '25': 19010, '45': 19011, '99': 19012, 'ji': 19013, 'oz': 19014, 'pé': 19015, '▁/': 19016, 'aci': 19017, 'aki': 19018, 'bom': 19019, 'ceb': 19020, 'dão': 19021, 'eco': 19022, 'esp': 19023, 'fif': 19024, 'hus': 19025, 'oke': 19026, 'omé': 19027, 'opa': 19028, 'rep': 19029, 'rez': 19030, 'tic': 19031, 'uct': 19032, 'xia': 19033, 'yss': 19034, 'zes': 19035, 'íde': 19036, 'óia': 19037, '▁41': 19038, '▁56': 19039, '▁61': 19040, '▁cs': 19041, '▁dó': 19042, '▁ko': 19043, '▁og': 19044, '▁rv': 19045, '▁vr': 19046, '▁âm': 19047, '▁ín': 19048, 'abul': 19049, 'acle': 19050, 'agog': 19051, 'amor': 19052, 'anci': 19053, 'anja': 19054, 'apes': 19055, 'atra': 19056, 'azar': 19057, 'bour': 19058, 'cert': 19059, 'club': 19060, 'cool': 19061, 'edge': 19062, 'etts': 19063, 'ilos': 19064, 'ipse': 19065, 'itud': 19066, 'jada': 19067, 'ocre': 19068, 'odão': 19069, 'omat': 19070, 'oned': 19071, 'oste': 19072, 'page': 19073, 'prot': 19074, 'ptic': 19075, 'rato': 19076, 'rays': 19077, 'reen': 19078, 'rofe': 19079, 'size': 19080, 'teen': 19081, 'test': 19082, 'ulam': 19083, 'wind': 19084, 'ylum': 19085, 'âmer': 19086, 'ínia': 19087, 'ívio': 19088, 'ólio': 19089, 'ónus': 19090, '▁175': 19091, '▁20-': 19092, '▁50-': 19093, '▁900': 19094, '▁amp': 19095, '▁awe': 19096, '▁cia': 19097, '▁cis': 19098, '▁edu': 19099, '▁esf': 19100, '▁fãs': 19101, '▁gaf': 19102, '▁hob': 19103, '▁irr': 19104, '▁mai': 19105, '▁mri': 19106, '▁mug': 19107, '▁nev': 19108, '▁olf': 19109, '▁oms': 19110, '▁pie': 19111, '▁rah': 19112, '▁ski': 19113, '▁teó': 19114, '▁tus': 19115, '▁usb': 19116, '▁ves': 19117, '▁wan': 19118, 'anhar': 19119, 'aware': 19120, 'cause': 19121, 'elada': 19122, 'eland': 19123, 'emies': 19124, 'entou': 19125, 'eping': 19126, 'heceu': 19127, 'icina': 19128, 'ields': 19129, 'ifies': 19130, 'impse': 19131, 'inity': 19132, 'itely': 19133, 'iture': 19134, 'opian': 19135, 'ostum': 19136, 'pless': 19137, 'proof': 19138, 'traum': 19139, 'white': 19140, 'âmica': 19141, 'ífero': 19142, 'óloga': 19143, 'órdia': 19144, 'órico': 19145, 'úncia': 19146, '▁1800': 19147, '▁1920': 19148, '▁1987': 19149, '▁abro': 19150, '▁acre': 19151, '▁aest': 19152, '▁alum': 19153, '▁amig': 19154, '▁ardu': 19155, '▁arro': 19156, '▁aura': 19157, '▁bare': 19158, '▁blew': 19159, '▁blur': 19160, '▁bows': 19161, '▁brig': 19162, '▁bíbl': 19163, '▁chag': 19164, '▁cint': 19165, '▁conn': 19166, '▁crom': 19167, '▁crum': 19168, '▁dang': 19169, '▁dean': 19170, '▁dobr': 19171, '▁drum': 19172, '▁dude': 19173, '▁dump': 19174, '▁embr': 19175, '▁epic': 19176, '▁eter': 19177, '▁etsy': 19178, '▁exec': 19179, '▁exos': 19180, '▁feat': 19181, '▁fich': 19182, '▁fled': 19183, '▁flee': 19184, '▁fond': 19185, '▁gadd': 19186, '▁garg': 19187, '▁geek': 19188, '▁gere': 19189, '▁gota': 19190, '▁greg': 19191, '▁gulf': 19192, '▁hect': 19193, '▁heel': 19194, '▁higi': 19195, '▁hust': 19196, '▁icel': 19197, '▁ilus': 19198, '▁insc': 19199, '▁iter': 19200, '▁junk': 19201, '▁kate': 19202, '▁leio': 19203, '▁lemb': 19204, '▁lips': 19205, '▁loan': 19206, '▁mull': 19207, '▁nour': 19208, '▁opec': 19209, '▁opep': 19210, '▁pipe': 19211, '▁pops': 19212, '▁pous': 19213, '▁poço': 19214, '▁puro': 19215, '▁pára': 19216, '▁refl': 19217, '▁resg': 19218, '▁rook': 19219, '▁scyt': 19220, '▁seta': 19221, '▁shed': 19222, '▁simb': 19223, '▁slam': 19224, '▁sofá': 19225, '▁sufi': 19226, '▁taça': 19227, '▁ting': 19228, '▁tong': 19229, '▁toss': 19230, '▁tron': 19231, '▁tutu': 19232, '▁ware': 19233, '▁watt': 19234, '▁wing': 19235, 'abytes': 19236, 'active': 19237, 'contro': 19238, 'ctures': 19239, 'ertips': 19240, 'eurial': 19241, 'feiras': 19242, 'ificam': 19243, 'ipping': 19244, 'irable': 19245, 'issões': 19246, 'itable': 19247, 'ladesh': 19248, 'nesday': 19249, 'nidade': 19250, 'ocated': 19251, 'orient': 19252, 'person': 19253, 'planet': 19254, 'reiros': 19255, 'restre': 19256, 'rophys': 19257, 'shaped': 19258, 'terror': 19259, 'ulário': 19260, 'usetts': 19261, 'usions': 19262, 'ussani': 19263, 'visual': 19264, 'ácidos': 19265, 'íntese': 19266, '▁achas': 19267, '▁adora': 19268, '▁alast': 19269, '▁alley': 19270, '▁amplo': 19271, '▁anjos': 19272, '▁antig': 19273, '▁arena': 19274, '▁atend': 19275, '▁atten': 19276, '▁audac': 19277, '▁barro': 19278, '▁belly': 19279, '▁billy': 19280, '▁bonds': 19281, '▁bored': 19282, '▁bucks': 19283, '▁candy': 19284, '▁carav': 19285, '▁cargo': 19286, '▁carru': 19287, '▁chefs': 19288, '▁chore': 19289, '▁coher': 19290, '▁couch': 19291, '▁crawl': 19292, '▁cream': 19293, '▁crias': 19294, '▁crude': 19295, '▁daria': 19296, '▁datas': 19297, '▁delta': 19298, '▁doces': 19299, '▁draws': 19300, '▁drown': 19301, '▁durad': 19302, '▁duram': 19303, '▁ervas': 19304, '▁etapa': 19305, '▁ethic': 19306, '▁expet': 19307, '▁fails': 19308, '▁faixa': 19309, '▁fardo': 19310, '▁feste': 19311, '▁filas': 19312, '▁fixes': 19313, '▁foste': 19314, '▁gamma': 19315, '▁golfe': 19316, '▁handy': 19317, '▁hated': 19318, '▁haunt': 19319, '▁hence': 19320, '▁icons': 19321, '▁incis': 19322, '▁incóm': 19323, '▁indel': 19324, '▁inequ': 19325, '▁irony': 19326, '▁irrad': 19327, '▁items': 19328, '▁jeito': 19329, '▁juríd': 19330, '▁juven': 19331, '▁kabul': 19332, '▁kings': 19333, '▁koran': 19334, '▁leiam': 19335, '▁leone': 19336, '▁logos': 19337, '▁manic': 19338, '▁maomé': 19339, '▁mason': 19340, '▁maçãs': 19341, '▁meals': 19342, '▁meets': 19343, '▁migra': 19344, '▁milha': 19345, '▁milky': 19346, '▁monet': 19347, '▁naive': 19348, '▁nervo': 19349, '▁nobre': 19350, '▁noiva': 19351, '▁norms': 19352, '▁notar': 19353, '▁notei': 19354, '▁obtém': 19355, '▁pants': 19356, '▁paraf': 19357, '▁pesca': 19358, '▁physi': 19359, '▁polls': 19360, '▁posed': 19361, '▁poses': 19362, '▁pouso': 19363, '▁reefs': 19364, '▁relut': 19365, '▁renas': 19366, '▁rides': 19367, '▁rolar': 19368, '▁roles': 19369, '▁roofs': 19370, '▁saque': 19371, '▁selet': 19372, '▁semic': 19373, '▁serge': 19374, '▁shady': 19375, '▁shelf': 19376, '▁shots': 19377, '▁shrim': 19378, '▁spare': 19379, '▁spons': 19380, '▁spont': 19381, '▁spray': 19382, '▁subur': 19383, '▁sweat': 19384, '▁swiss': 19385, '▁tetra': 19386, '▁tomei': 19387, '▁tomem': 19388, '▁viria': 19389, '▁volto': 19390, '▁voted': 19391, '▁wheat': 19392, '▁wrest': 19393, '▁óssea': 19394, 'arregar': 19395, 'central': 19396, 'crições': 19397, 'ensável': 19398, 'essemos': 19399, 'genesis': 19400, 'ifiquem': 19401, 'ighters': 19402, 'imeters': 19403, 'irações': 19404, 'ituição': 19405, 'natural': 19406, 'osexual': 19407, 'ossauro': 19408, 'perform': 19409, 'weaving': 19410, '▁12,000': 19411, '▁abused': 19412, '▁admire': 19413, '▁aiming': 19414, '▁alívio': 19415, '▁angels': 19416, '▁aplicá': 19417, '▁apolog': 19418, '▁aponta': 19419, '▁asylum': 19420, '▁athlet': 19421, '▁atleta': 19422, '▁atores': 19423, '▁avesso': 19424, '▁backed': 19425, '▁bandas': 19426, '▁barbar': 19427, '▁barbie': 19428, '▁barril': 19429, '▁benjam': 19430, '▁betray': 19431, '▁bolsos': 19432, '▁calend': 19433, '▁caring': 19434, '▁causam': 19435, '▁cement': 19436, '▁cessar': 19437, '▁chamem': 19438, '▁checks': 19439, '▁chover': 19440, '▁claros': 19441, '▁client': 19442, '▁clubes': 19443, '▁concil': 19444, '▁contêm': 19445, '▁criava': 19446, '▁crowds': 19447, '▁cultur': 19448, '▁cópias': 19449, '▁dances': 19450, '▁debora': 19451, '▁deriva': 19452, '▁despre': 19453, '▁difund': 19454, '▁dignos': 19455, '▁direta': 19456, '▁dormit': 19457, '▁dysfun': 19458, '▁elevar': 19459, '▁escult': 19460, '▁espess': 19461, '▁esping': 19462, '▁esquis': 19463, '▁estere': 19464, '▁exager': 19465, '▁exaust': 19466, '▁extras': 19467, '▁favela': 19468, '▁fooled': 19469, '▁fraude': 19470, '▁fósfor': 19471, '▁gafanh': 19472, '▁gallon': 19473, '▁grains': 19474, '▁iceber': 19475, '▁imitar': 19476, '▁impose': 19477, '▁incend': 19478, '▁inches': 19479, '▁incont': 19480, '▁interp': 19481, '▁invert': 19482, '▁isolar': 19483, '▁knight': 19484, '▁lastly': 19485, '▁latino': 19486, '▁laughs': 19487, '▁lesões': 19488, '▁lethal': 19489, '▁longos': 19490, '▁luther': 19491, '▁malawi': 19492, '▁malign': 19493, '▁margar': 19494, '▁massac': 19495, '▁matriz': 19496, '▁medido': 19497, '▁modest': 19498, '▁motiva': 19499, '▁multif': 19500, '▁mínima': 19501, '▁neutro': 19502, '▁olhava': 19503, '▁opress': 19504, '▁orange': 19505, '▁ordens': 19506, '▁orphan': 19507, '▁papéis': 19508, '▁parano': 19509, '▁paraph': 19510, '▁piadas': 19511, '▁piracy': 19512, '▁pirate': 19513, '▁poupam': 19514, '▁propos': 19515, '▁queima': 19516, '▁raises': 19517, '▁reagem': 19518, '▁restor': 19519, '▁restra': 19520, '▁retira': 19521, '▁rhythm': 19522, '▁rolled': 19523, '▁rooted': 19524, '▁router': 19525, '▁saltos': 19526, '▁savana': 19527, '▁scares': 19528, '▁shares': 19529, '▁sonora': 19530, '▁sought': 19531, '▁speeds': 19532, '▁spiral': 19533, '▁strike': 19534, '▁strive': 19535, '▁subter': 19536, '▁supost': 19537, '▁sussur': 19538, '▁sólido': 19539, '▁tabela': 19540, '▁tagged': 19541, '▁tattoo': 19542, '▁thermo': 19543, '▁thread': 19544, '▁throat': 19545, '▁thrust': 19546, '▁topics': 19547, '▁tremer': 19548, '▁tricky': 19549, '▁triple': 19550, '▁unexpl': 19551, '▁vanier': 19552, '▁vasari': 19553, '▁vascul': 19554, '▁vazios': 19555, '▁viemos': 19556, '▁vislum': 19557, '▁vissem': 19558, '▁vocais': 19559, '▁wooden': 19560, '▁álcool': 19561, 'ariedade': 19562, 'etically': 19563, 'interest': 19564, 'izations': 19565, 'rássemos': 19566, '▁150,000': 19567, '▁abrigos': 19568, '▁aceitei': 19569, '▁acertar': 19570, '▁acostum': 19571, '▁adaptar': 19572, '▁adivinh': 19573, '▁afetado': 19574, '▁algodão': 19575, '▁android': 19576, '▁animada': 19577, '▁anxious': 19578, '▁apostar': 19579, '▁appoint': 19580, '▁aristoc': 19581, '▁armados': 19582, '▁armazém': 19583, '▁assinar': 19584, '▁audição': 19585, '▁banking': 19586, '▁baralho': 19587, '▁batatas': 19588, '▁battles': 19589, '▁bilhões': 19590, '▁bloquei': 19591, '▁bocados': 19592, '▁boiling': 19593, '▁buttons': 19594, '▁caltech': 19595, '▁captain': 19596, '▁carpool': 19597, '▁cascata': 19598, '▁chasing': 19599, '▁chegado': 19600, '▁chromos': 19601, '▁cigarro': 19602, '▁cintura': 19603, '▁coberta': 19604, '▁colisão': 19605, '▁comprou': 19606, '▁conquer': 19607, '▁correta': 19608, '▁crashes': 19609, '▁crónica': 19610, '▁daycare': 19611, '▁debater': 19612, '▁degener': 19613, '▁degrada': 19614, '▁deparei': 19615, '▁desejam': 19616, '▁desejar': 19617, '▁desvant': 19618, '▁deteção': 19619, '▁dificil': 19620, '▁dizerem': 19621, '▁diárias': 19622, '▁diários': 19623, '▁editing': 19624, '▁editors': 19625, '▁enemies': 19626, '▁epidemi': 19627, '▁escreve': 19628, '▁espalha': 19629, '▁espetro': 19630, '▁espinal': 19631, '▁esqueci': 19632, '▁estilos': 19633, '▁estudou': 19634, '▁estupid': 19635, '▁estágio': 19636, '▁fabrico': 19637, '▁falaram': 19638, '▁fantasy': 19639, '▁feather': 19640, '▁fechada': 19641, '▁feridas': 19642, '▁figuras': 19643, '▁filming': 19644, '▁filtrar': 19645, '▁fugiram': 19646, '▁gaddafi': 19647, '▁garante': 19648, '▁glimpse': 19649, '▁grocery': 19650, '▁hardest': 19651, '▁harmful': 19652, '▁heavens': 19653, '▁holland': 19654, '▁honesta': 19655, '▁honesto': 19656, '▁hábitos': 19657, '▁iceland': 19658, '▁ignored': 19659, '▁indoors': 19660, '▁infring': 19661, '▁inhabit': 19662, '▁inserir': 19663, '▁instint': 19664, '▁invasão': 19665, '▁involve': 19666, '▁italian': 19667, '▁julgava': 19668, '▁lançado': 19669, '▁lateral': 19670, '▁laughed': 19671, '▁levando': 19672, '▁ligarem': 19673, '▁literal': 19674, '▁longing': 19675, '▁magnets': 19676, '▁mankind': 19677, '▁maxilar': 19678, '▁maximum': 19679, '▁minoria': 19680, '▁mudaria': 19681, '▁muscles': 19682, '▁nódulos': 19683, '▁oakland': 19684, '▁olympic': 19685, '▁orelhas': 19686, '▁pegadas': 19687, '▁peritos': 19688, '▁perpetu': 19689, '▁pouring': 19690, '▁princes': 19691, '▁proport': 19692, '▁queimar': 19693, '▁rabbits': 19694, '▁racismo': 19695, '▁reflexo': 19696, '▁regions': 19697, '▁regulam': 19698, '▁rethink': 19699, '▁revelou': 19700, '▁revenge': 19701, '▁rockets': 19702, '▁saberão': 19703, '▁sanitas': 19704, '▁scanner': 19705, '▁sectors': 19706, '▁signing': 19707, '▁solidar': 19708, '▁sorriso': 19709, '▁spoofer': 19710, '▁stepped': 19711, '▁surpass': 19712, '▁switzer': 19713, '▁temples': 19714, '▁templos': 19715, '▁textura': 19716, '▁thermal': 19717, '▁tirando': 19718, '▁tomaram': 19719, '▁tomarem': 19720, '▁tomates': 19721, '▁tornámo': 19722, '▁touched': 19723, '▁tópicos': 19724, '▁utiliza': 19725, '▁vegetal': 19726, '▁vermeer': 19727, '▁veteran': 19728, '▁virtues': 19729, '▁watches': 19730, '▁zangado': 19731, '▁zealand': 19732, '▁àqueles': 19733, 'americano': 19734, 'icultores': 19735, 'ográficos': 19736, '▁accommod': 19737, '▁acordado': 19738, '▁acústica': 19739, '▁ambition': 19740, '▁anesthes': 19741, '▁animated': 19742, '▁answered': 19743, '▁anunciou': 19744, '▁apreciar': 19745, '▁aprendam': 19746, '▁arrancar': 19747, '▁arterial': 19748, '▁assustar': 19749, '▁atitudes': 19750, '▁atrasado': 19751, '▁autistas': 19752, '▁autorais': 19753, '▁backpack': 19754, '▁backyard': 19755, '▁blocking': 19756, '▁católica': 19757, '▁choosing': 19758, '▁cinzenta': 19759, '▁clothing': 19760, '▁coloquem': 19761, '▁colorful': 19762, '▁columbia': 19763, '▁comboios': 19764, '▁commerce': 19765, '▁conduzem': 19766, '▁contabil': 19767, '▁contínua': 19768, '▁convidar': 19769, '▁cooperar': 19770, '▁cortaram': 19771, '▁crescido': 19772, '▁database': 19773, '▁daylight': 19774, '▁deixados': 19775, '▁deixarem': 19776, '▁descobre': 19777, '▁descrito': 19778, '▁desenhei': 19779, '▁deserves': 19780, '▁destruiu': 19781, '▁diagnose': 19782, '▁dinosaur': 19783, '▁directed': 19784, '▁direções': 19785, '▁disparar': 19786, '▁dissemin': 19787, '▁dynamics': 19788, '▁eletrões': 19789, '▁embarcar': 19790, '▁embraced': 19791, '▁entregue': 19792, '▁envolvem': 19793, '▁escrevia': 19794, '▁expanded': 19795, '▁explorer': 19796, '▁fabricar': 19797, '▁falantes': 19798, '▁fracking': 19799, '▁friendly': 19800, '▁ganharem': 19801, '▁gasoline': 19802, '▁generosa': 19803, '▁geometry': 19804, '▁gigantic': 19805, '▁giussani': 19806, '▁gostavam': 19807, '▁governar': 19808, '▁helpless': 19809, '▁imagenet': 19810, '▁imaginei': 19811, '▁impulsos': 19812, '▁infinita': 19813, '▁johannes': 19814, '▁juntarem': 19815, '▁legendas': 19816, '▁limitada': 19817, '▁longitud': 19818, '▁mantemos': 19819, '▁manterem': 19820, '▁mentiros': 19821, '▁mestrado': 19822, '▁milénios': 19823, '▁modeling': 19824, '▁multiply': 19825, '▁mutation': 19826, '▁músculos': 19827, '▁nickname': 19828, '▁noticing': 19829, '▁numeracy': 19830, '▁objetiva': 19831, '▁obsessão': 19832, '▁olhadela': 19833, '▁olympics': 19834, '▁operated': 19835, '▁outdoors': 19836, '▁overseas': 19837, '▁parecida': 19838, '▁partimos': 19839, '▁pinpoint': 19840, '▁porcaria': 19841, '▁predomin': 19842, '▁pretende': 19843, '▁propinas': 19844, '▁protagon': 19845, '▁pursuing': 19846, '▁reacting': 19847, '▁rejeição': 19848, '▁resultar': 19849, '▁reunimos': 19850, '▁ridículo': 19851, '▁salarial': 19852, '▁salários': 19853, '▁scytodes': 19854, '▁seguidos': 19855, '▁selecion': 19856, '▁sidewalk': 19857, '▁sleeping': 19858, '▁speeding': 19859, '▁substant': 19860, '▁sucedido': 19861, '▁suspeita': 19862, '▁suspeito': 19863, '▁suspenso': 19864, '▁tanzania': 19865, '▁targeted': 19866, '▁tedsters': 19867, '▁threaten': 19868, '▁tratados': 19869, '▁tubarões': 19870, '▁vendidos': 19871, '▁virgínia': 19872, '▁virtuais': 19873, '▁visíveis': 19874, '▁voltaria': 19875, '▁voltemos': 19876, '▁anfitrião': 19877, '▁aplicamos': 19878, '▁automatic': 19879, '▁autonomia': 19880, '▁autêntico': 19881, '▁avançados': 19882, '▁biologist': 19883, '▁bombeiros': 19884, '▁boyfriend': 19885, '▁colheitas': 19886, '▁collapsed': 19887, '▁colocadas': 19888, '▁colocarem': 19889, '▁começarem': 19890, '▁comparing': 19891, '▁competing': 19892, '▁comportar': 19893, '▁comunicam': 19894, '▁concertos': 19895, '▁concordam': 19896, '▁concursos': 19897, '▁confissão': 19898, '▁controlam': 19899, '▁converter': 19900, '▁coworkers': 19901, '▁crescemos': 19902, '▁cresceram': 19903, '▁cryptocur': 19904, '▁defending': 19905, '▁deixarmos': 19906, '▁delighted': 19907, '▁demasiada': 19908, '▁desculpas': 19909, '▁desfrutar': 19910, '▁despertar': 19911, '▁destroços': 19912, '▁distances': 19913, '▁distúrbio': 19914, '▁elephants': 19915, '▁eliminate': 19916, '▁eléctrica': 19917, '▁eléctrico': 19918, '▁emergence': 19919, '▁estejamos': 19920, '▁existente': 19921, '▁existirem': 19922, '▁favoritos': 19923, '▁filmmaker': 19924, '▁financiar': 19925, '▁formation': 19926, '▁fortunate': 19927, '▁gratitude': 19928, '▁habituais': 19929, '▁historial': 19930, '▁importava': 19931, '▁impressed': 19932, '▁indígenas': 19933, '▁inflation': 19934, '▁iniciámos': 19935, '▁innocence': 19936, '▁instrução': 19937, '▁integrity': 19938, '▁intricate': 19939, '▁intrinsic': 19940, '▁irrigação': 19941, '▁limitados': 19942, '▁limitação': 19943, '▁magnífico': 19944, '▁maioritar': 19945, '▁mantenham': 19946, '▁masculino': 19947, '▁messaging': 19948, '▁metabolic': 19949, '▁mexicanos': 19950, '▁mostrámos': 19951, '▁nightmare': 19952, '▁occurring': 19953, '▁orgânicos': 19954, '▁paralysis': 19955, '▁parcerias': 19956, '▁parenting': 19957, '▁passively': 19958, '▁percebido': 19959, '▁perceived': 19960, '▁perceções': 19961, '▁perigosas': 19962, '▁pioneiros': 19963, '▁platforms': 19964, '▁preparado': 19965, '▁processed': 19966, '▁procurava': 19967, '▁propulsão': 19968, '▁recompens': 19969, '▁reconhece': 19970, '▁rectangle': 19971, '▁registado': 19972, '▁religioso': 19973, '▁remaining': 19974, '▁sensíveis': 19975, '▁slaughter': 19976, '▁soviética': 19977, '▁sustained': 19978, '▁tailândia': 19979, '▁transbord': 19980, '▁transfers': 19981, '▁utilizado': 19982, '▁violentas': 19983, '▁wednesday': 19984, '▁abrangente': 19985, '▁accurately': 19986, '▁adventures': 19987, '▁aglomerado': 19988, '▁altruístas': 19989, '▁ambulância': 19990, '▁aparecerem': 19991, '▁aprofundar': 19992, '▁arquitetos': 19993, '▁autonomous': 19994, '▁bailarinos': 19995, '▁bangladesh': 19996, '▁calculator': 19997, '▁catástrofe': 19998, '▁certificar': 19999, '▁chegaremos': 20000, '▁cognitivos': 20001, '▁colocarmos': 20002, '▁complained': 20003, '▁compressão': 20004, '▁conductive': 20005, '▁confronted': 20006, '▁conquistas': 20007, '▁continents': 20008, '▁contradict': 20009, '▁converting': 20010, '▁convidados': 20011, '▁creatively': 20012, '▁destroying': 20013, '▁divulgação': 20014, '▁documented': 20015, '▁envolvente': 20016, '▁estrutural': 20017, '▁evaluating': 20018, '▁exceptions': 20019, '▁exhausting': 20020, '▁expressing': 20021, '▁facilitate': 20022, '▁ferimentos': 20023, '▁fingertips': 20024, '▁futureless': 20025, '▁governance': 20026, '▁hierarquia': 20027, '▁imperative': 20028, '▁inadequate': 20029, '▁interativo': 20030, '▁introverts': 20031, '▁inventores': 20032, '▁jornalismo': 20033, '▁justificar': 20034, '▁limitation': 20035, '▁monitoring': 20036, '▁neurocient': 20037, '▁nutritious': 20038, '▁permitindo': 20039, '▁permitiram': 20040, '▁playground': 20041, '▁portuguese': 20042, '▁prioritize': 20043, '▁procurando': 20044, '▁procurámos': 20045, '▁produzimos': 20046, '▁profoundly': 20047, '▁prosseguir': 20048, '▁publishing': 20049, '▁quarteirão': 20050, '▁reflecting': 20051, '▁reinforced': 20052, '▁relentless': 20053, '▁resolvidos': 20054, '▁restricted': 20055, '▁satisfação': 20056, '▁significou': 20057, '▁simpáticos': 20058, '▁simultâneo': 20059, '▁specialist': 20060, '▁subjacente': 20061, '▁transferir': 20062, '▁transgress': 20063, '▁tripulação': 20064, '▁utilizámos': 20065, '▁acknowledge': 20066, '▁acolhimento': 20067, '▁aminoácidos': 20068, '▁associações': 20069, '▁atentamente': 20070, '▁companheiro': 20071, '▁competência': 20072, '▁comunitário': 20073, '▁consciously': 20074, '▁corporation': 20075, '▁danificados': 20076, '▁descrevemos': 20077, '▁desperdiçar': 20078, '▁electrónica': 20079, '▁empresarial': 20080, '▁encontravam': 20081, '▁escravatura': 20082, '▁espectáculo': 20083, '▁específicos': 20084, '▁flexibility': 20085, '▁frequências': 20086, '▁frustrating': 20087, '▁functioning': 20088, '▁genetically': 20089, '▁implication': 20090, '▁integridade': 20091, '▁interdepend': 20092, '▁intersecção': 20093, '▁longevidade': 20094, '▁measurement': 20095, '▁minimamente': 20096, '▁neurocirurg': 20097, '▁observarmos': 20098, '▁organizadas': 20099, '▁pornografia': 20100, '▁presidentes': 20101, '▁problematic': 20102, '▁processador': 20103, '▁programador': 20104, '▁regulations': 20105, '▁replacement': 20106, '▁requirement': 20107, '▁researching': 20108, '▁responderam': 20109, '▁restaurants': 20110, '▁socialmente': 20111, '▁supercomput': 20112, '▁supervision': 20113, '▁switzerland': 20114, '▁tecnológico': 20115, '▁trabalhando': 20116, '▁transported': 20117, '▁volunteered': 20118, '▁aparecimento': 20119, '▁appreciation': 20120, '▁associations': 20121, '▁coincidência': 20122, '▁conservative': 20123, '▁consideradas': 20124, '▁controvérsia': 20125, '▁conveniência': 20126, '▁corretamente': 20127, '▁espectacular': 20128, '▁exponenciais': 20129, '▁farmacêutica': 20130, '▁fluorescence': 20131, '▁fragmentação': 20132, '▁instrumental': 20133, '▁interdiscipl': 20134, '▁interligados': 20135, '▁introduction': 20136, '▁ironicamente': 20137, '▁kindergarten': 20138, '▁maravilhosos': 20139, '▁mundialmente': 20140, '▁necessitamos': 20141, '▁passivamente': 20142, '▁questionário': 20143, '▁requirements': 20144, '▁substituição': 20145, '▁supostamente': 20146, '▁transmission': 20147, '▁armazenamento': 20148, '▁contabilidade': 20149, '▁contemporânea': 20150, '▁diagnosticado': 20151, '▁discriminação': 20152, '▁drasticamente': 20153, '▁flexibilidade': 20154, '▁fluorescência': 20155, '▁massachusetts': 20156, '▁multicultural': 20157, '▁solidariedade': 20158, '▁superintellig': 20159, '▁undergraduate': 20160, '▁aconselhamento': 20161, '▁conseguíssemos': 20162, '▁interconnected': 20163, '▁mathematically': 20164, '▁meteorológicos': 20165, '▁nanotechnology': 20166, '▁personalizados': 20167, '▁conscientemente': 20168, '▁entrepreneurial': 20169, '▁extraterrestres': 20170, '▁impressionantes': 20171, '16': 20172, '47': 20173, 'ht': 20174, 'ku': 20175, 'rl': 20176, 'su': 20177, 'ti': 20178, 'ux': 20179, 'xy': 20180, 'ya': 20181, 'ès': 20182, 'ív': 20183, '▁‘': 20184, 'adi': 20185, 'adv': 20186, 'aga': 20187, 'dig': 20188, 'dle': 20189, 'eis': 20190, 'eps': 20191, 'ext': 20192, 'fti': 20193, 'gro': 20194, 'grá': 20195, 'hão': 20196, 'ifi': 20197, 'ilm': 20198, 'jal': 20199, 'jif': 20200, 'lie': 20201, 'new': 20202, 'nio': 20203, 'ozy': 20204, 'pit': 20205, 'ptu': 20206, 'rah': 20207, 'rin': 20208, 'sts': 20209, 'two': 20210, 'uas': 20211, 'vae': 20212, 'ylv': 20213, '▁4.': 20214, '▁49': 20215, '▁63': 20216, '▁97': 20217, '▁ck': 20218, '▁hr': 20219, '▁ht': 20220, '▁ic': 20221, '▁io': 20222, '▁iw': 20223, '▁jl': 20224, '▁jn': 20225, '▁ky': 20226, '▁ld': 20227, '▁lg': 20228, '▁lp': 20229, '▁lt': 20230, '▁oi': 20231, '▁pí': 20232, '▁ré': 20233, '▁tc': 20234, '▁tó': 20235, '▁va': 20236, '▁ân': 20237, 'acco': 20238, 'acey': 20239, 'afar': 20240, 'alli': 20241, 'aris': 20242, 'aths': 20243, 'atma': 20244, 'boro': 20245, 'bris': 20246, 'conf': 20247, 'ctea': 20248, 'cton': 20249, 'cões': 20250, 'dess': 20251, 'dire': 20252, 'dist': 20253, 'ecca': 20254, 'eikh': 20255, 'emas': 20256, 'erto': 20257, 'eted': 20258, 'fare': 20259, 'five': 20260, 'gain': 20261, 'geon': 20262, 'half': 20263, 'icef': 20264, 'icer': 20265, 'icit': 20266, 'ided': 20267, 'ilho': 20268, 'imen': 20269, 'inai': 20270, 'ivoc': 20271, 'jado': 20272, 'leys': 20273, 'look': 20274, 'math': 20275, 'mite': 20276, 'mont': 20277, 'moon': 20278, 'mund': 20279, 'odin': 20280, 'ogam': 20281, 'olia': 20282, 'ople': 20283, 'oron': 20284, 'otos': 20285, 'rame': 20286, 'ramo': 20287, 'rant': 20288, 'rocr': 20289, 'roit': 20290, 'rugu': 20291, 'sais': 20292, 'spec': 20293, 'tery': 20294, 'thia': 20295, 'ugas': 20296, 'ught': 20297, 'ules': 20298, 'unes': 20299, 'uous': 20300, 'utos': 20301, 'verm': 20302, 'ylan': 20303, 'ylon': 20304, 'çoso': 20305, 'ília': 20306, \"▁'60\": 20307, '▁1,4': 20308, '▁110': 20309, '▁130': 20310, '▁155': 20311, '▁158': 20312, '▁189': 20313, '▁24-': 20314, '▁30-': 20315, '▁380': 20316, '▁544': 20317, '▁747': 20318, '▁aaa': 20319, '▁anf': 20320, '▁ave': 20321, '▁bós': 20322, '▁coe': 20323, '▁cox': 20324, '▁cue': 20325, '▁edx': 20326, '▁eno': 20327, '▁eso': 20328, '▁eul': 20329, '▁fbi': 20330, '▁fey': 20331, '▁geo': 20332, '▁gib': 20333, '▁gil': 20334, '▁hut': 20335, '▁hós': 20336, '▁idi': 20337, '▁iii': 20338, '▁kal': 20339, '▁lov': 20340, '▁lud': 20341, '▁lur': 20342, '▁líb': 20343, '▁mck': 20344, '▁már': 20345, '▁ovo': 20346, '▁owe': 20347, '▁pep': 20348, '▁pew': 20349, '▁raj': 20350, '▁rim': 20351, '▁rip': 20352, '▁ron': 20353, '▁sco': 20354, '▁tay': 20355, '▁tóx': 20356, '▁unl': 20357, '▁uou': 20358, '▁upl': 20359, '▁usc': 20360, '▁vil': 20361, '▁wax': 20362, 'abama': 20363, 'acher': 20364, 'acked': 20365, 'airab': 20366, 'aldas': 20367, 'ampus': 20368, 'andin': 20369, 'arton': 20370, 'ashes': 20371, 'avajo': 20372, 'ctico': 20373, 'emble': 20374, 'enhos': 20375, 'ennon': 20376, 'entin': 20377, 'esday': 20378, 'essim': 20379, 'etria': 20380, 'guste': 20381, 'heast': 20382, 'hoven': 20383, 'icans': 20384, 'iping': 20385, 'itled': 20386, 'iário': 20387, 'minas': 20388, 'moços': 20389, 'ndale': 20390, 'nsylv': 20391, 'odied': 20392, 'ogens': 20393, 'prazo': 20394, 'prime': 20395, 'pções': 20396, 'quard': 20397, 'quart': 20398, 'rasse': 20399, 'reram': 20400, 'rical': 20401, 'rição': 20402, 'rlich': 20403, 'rofís': 20404, 'rolar': 20405, 'tedly': 20406, 'tical': 20407, 'valor': 20408, 'works': 20409, 'âmera': 20410, 'âneos': 20411, 'çadas': 20412, 'énese': 20413, 'ópica': 20414, '▁1912': 20415, '▁1949': 20416, '▁1962': 20417, '▁1972': 20418, '▁1982': 20419, '▁1992': 20420, '▁24/7': 20421, '▁acal': 20422, '▁amam': 20423, '▁ambí': 20424, '▁arup': 20425, '▁aten': 20426, '▁bina': 20427, '▁budd': 20428, '▁cape': 20429, '▁cels': 20430, '▁cerv': 20431, '▁cing': 20432, '▁cmus': 20433, '▁coin': 20434, '▁colm': 20435, '▁crap': 20436, '▁dash': 20437, '▁deah': 20438, '▁deci': 20439, '▁defl': 20440, '▁ding': 20441, '▁doar': 20442, '▁dual': 20443, '▁dêem': 20444, '▁eats': 20445, '▁edin': 20446, '▁ehud': 20447, '▁esbo': 20448, '▁faca': 20449, '▁folk': 20450, '▁fore': 20451, '▁fren': 20452, '▁gary': 20453, '▁gaze': 20454, '▁goss': 20455, '▁gris': 20456, '▁hala': 20457, '▁homo': 20458, '▁hood': 20459, '▁imob': 20460, '▁inje': 20461, '▁insu': 20462, '▁ishi': 20463, '▁jama': 20464, '▁jess': 20465, '▁karl': 20466, '▁kipp': 20467, '▁koko': 20468, '▁lawn': 20469, '▁lema': 20470, '▁lida': 20471, '▁ligo': 20472, '▁luas': 20473, '▁lust': 20474, '▁marx': 20475, '▁matt': 20476, '▁menu': 20477, '▁mild': 20478, '▁milo': 20479, '▁mina': 20480, '▁mous': 20481, '▁neat': 20482, '▁nuts': 20483, '▁offs': 20484, '▁olhe': 20485, '▁oslo': 20486, '▁pali': 20487, '▁pinc': 20488, '▁prel': 20489, '▁proj': 20490, '▁punk': 20491, '▁põem': 20492, '▁raku': 20493, '▁reap': 20494, '▁reed': 20495, '▁reus': 20496, '▁rift': 20497, '▁rins': 20498, '▁roma': 20499, '▁rope': 20500, '▁sach': 20501, '▁sang': 20502, '▁sant': 20503, '▁sark': 20504, '▁saía': 20505, '▁scat': 20506, '▁scri': 20507, '▁semi': 20508, '▁sene': 20509, '▁skip': 20510, '▁slee': 20511, '▁spat': 20512, '▁stam': 20513, '▁ster': 20514, '▁swat': 20515, '▁tect': 20516, '▁teeb': 20517, '▁teor': 20518, '▁tren': 20519, '▁trim': 20520, '▁tuas': 20521, '▁ucla': 20522, '▁vaga': 20523, '▁vies': 20524, '▁virá': 20525, '▁wolf': 20526, '▁wore': 20527, '▁yang': 20528, 'abrigo': 20529, 'advant': 20530, 'ailand': 20531, 'andler': 20532, 'bourne': 20533, 'brandt': 20534, 'cially': 20535, 'ciação': 20536, 'ciosas': 20537, 'driven': 20538, 'eaking': 20539, 'ecendo': 20540, 'ecções': 20541, 'ennial': 20542, 'ension': 20543, 'estres': 20544, 'ficacy': 20545, 'getown': 20546, 'health': 20547, 'hinhas': 20548, 'ielite': 20549, 'ifique': 20550, 'illing': 20551, 'ingale': 20552, 'irinho': 20553, 'itting': 20554, 'jifilm': 20555, 'lahoma': 20556, 'linear': 20557, 'makers': 20558, 'moidal': 20559, 'opular': 20560, 'ourced': 20561, 'primas': 20562, 'ribati': 20563, 'second': 20564, 'sophia': 20565, 'teiras': 20566, 'uminum': 20567, 'utsche': 20568, 'veling': 20569, 'weight': 20570, 'âncton': 20571, 'ículos': 20572, 'ólicos': 20573, '▁aaron': 20574, '▁abram': 20575, '▁ajude': 20576, '▁alike': 20577, '▁allan': 20578, '▁almof': 20579, '▁amada': 20580, '▁andou': 20581, '▁annie': 20582, '▁arche': 20583, '▁arder': 20584, '▁atlas': 20585, '▁atroc': 20586, '▁bacon': 20587, '▁baral': 20588, '▁barón': 20589, '▁blabl': 20590, '▁blown': 20591, '▁bocas': 20592, '▁boils': 20593, '▁borbo': 20594, '▁bruce': 20595, '▁bully': 20596, '▁burke': 20597, '▁cabel': 20598, '▁cajal': 20599, '▁cauda': 20600, '▁cenas': 20601, '▁cerem': 20602, '▁cerim': 20603, '▁chase': 20604, '▁cinto': 20605, '▁cliff': 20606, '▁codes': 20607, '▁cubic': 20608, '▁cujos': 20609, '▁deals': 20610, '▁debat': 20611, '▁decif': 20612, '▁degra': 20613, '▁demit': 20614, '▁densa': 20615, '▁derem': 20616, '▁diger': 20617, '▁direc': 20618, '▁disap': 20619, '▁disco': 20620, '▁dolph': 20621, '▁drunk': 20622, '▁dubai': 20623, '▁dylan': 20624, '▁ebert': 20625, '▁edgar': 20626, '▁ellen': 20627, '▁embel': 20628, '▁embry': 20629, '▁embut': 20630, '▁emily': 20631, '▁emits': 20632, '▁encer': 20633, '▁endor': 20634, '▁enfat': 20635, '▁envio': 20636, '▁erect': 20637, '▁espar': 20638, '▁essex': 20639, '▁excav': 20640, '▁excec': 20641, '▁fairy': 20642, '▁farão': 20643, '▁fatia': 20644, '▁fecho': 20645, '▁flaws': 20646, '▁floss': 20647, '▁fluir': 20648, '▁frios': 20649, '▁futur': 20650, '▁gangu': 20651, '▁germs': 20652, '▁glenn': 20653, '▁gmail': 20654, '▁grabs': 20655, '▁grams': 20656, '▁grego': 20657, '▁guest': 20658, '▁hicks': 20659, '▁himba': 20660, '▁holoc': 20661, '▁indis': 20662, '▁indus': 20663, '▁intra': 20664, '▁javas': 20665, '▁jokes': 20666, '▁juris': 20667, '▁kanzi': 20668, '▁kelly': 20669, '▁largo': 20670, '▁laure': 20671, '▁legít': 20672, '▁leito': 20673, '▁leram': 20674, '▁levem': 20675, '▁limor': 20676, '▁lucas': 20677, '▁lumin': 20678, '▁lutas': 20679, '▁lápis': 20680, '▁maced': 20681, '▁macro': 20682, '▁marat': 20683, '▁marie': 20684, '▁mayor': 20685, '▁meyer': 20686, '▁midst': 20687, '▁milho': 20688, '▁mitch': 20689, '▁monol': 20690, '▁moore': 20691, '▁mural': 20692, '▁nanom': 20693, '▁nasty': 20694, '▁nylon': 20695, '▁obedi': 20696, '▁palli': 20697, '▁paolo': 20698, '▁patch': 20699, '▁paulo': 20700, '▁pearl': 20701, '▁pegou': 20702, '▁perdo': 20703, '▁petro': 20704, '▁pixar': 20705, '▁polly': 20706, '▁pondo': 20707, '▁prevê': 20708, '▁pumps': 20709, '▁qaeda': 20710, '▁quinh': 20711, '▁rally': 20712, '▁ramón': 20713, '▁raped': 20714, '▁rasto': 20715, '▁rearr': 20716, '▁recet': 20717, '▁relat': 20718, '▁relem': 20719, '▁reneg': 20720, '▁retou': 20721, '▁risen': 20722, '▁rival': 20723, '▁ruins': 20724, '▁sabão': 20725, '▁saiba': 20726, '▁salta': 20727, '▁saram': 20728, '▁savan': 20729, '▁scare': 20730, '▁sells': 20731, '▁seman': 20732, '▁shade': 20733, '▁shave': 20734, '▁sheer': 20735, '▁shhhh': 20736, '▁shirt': 20737, '▁sizes': 20738, '▁slink': 20739, '▁snake': 20740, '▁snaps': 20741, '▁sobem': 20742, '▁spear': 20743, '▁spine': 20744, '▁spite': 20745, '▁straw': 20746, '▁sudan': 20747, '▁sudão': 20748, '▁swing': 20749, '▁taboo': 20750, '▁terap': 20751, '▁terça': 20752, '▁theat': 20753, '▁tirem': 20754, '▁towel': 20755, '▁trace': 20756, '▁trigo': 20757, '▁tunel': 20758, '▁unequ': 20759, '▁untie': 20760, '▁urugu': 20761, '▁valve': 20762, '▁vegas': 20763, '▁veias': 20764, '▁veins': 20765, '▁vendo': 20766, '▁vinda': 20767, '▁virei': 20768, '▁vitro': 20769, '▁waist': 20770, '▁wavel': 20771, '▁whist': 20772, '▁wiped': 20773, '▁yusor': 20774, '▁ícone': 20775, 'ablanca': 20776, 'bimetal': 20777, 'centric': 20778, 'cionado': 20779, 'driving': 20780, 'elihood': 20781, 'enhamos': 20782, 'esterol': 20783, 'holders': 20784, 'implant': 20785, 'inished': 20786, 'issions': 20787, 'iterate': 20788, 'itivity': 20789, 'keepers': 20790, 'looking': 20791, 'minster': 20792, 'ocation': 20793, 'oficial': 20794, 'ologias': 20795, 'ologies': 20796, 'ondrial': 20797, 'orações': 20798, 'ourcing': 20799, 'powered': 20800, 'raising': 20801, 'rencies': 20802, 'rifying': 20803, 'rimónio': 20804, 'solving': 20805, 'turfing': 20806, 'writing': 20807, 'íssimos': 20808, '▁25,000': 20809, '▁adotar': 20810, '▁adquir': 20811, '▁adulto': 20812, '▁afasta': 20813, '▁afetam': 20814, '▁alaska': 20815, '▁anders': 20816, '▁angari': 20817, '▁angola': 20818, '▁append': 20819, '▁argued': 20820, '▁arrest': 20821, '▁assert': 20822, '▁austin': 20823, '▁barack': 20824, '▁behold': 20825, '▁berlim': 20826, '▁berlin': 20827, '▁betzig': 20828, '▁biomas': 20829, '▁bloody': 20830, '▁boards': 20831, '▁bolhas': 20832, '▁burocr': 20833, '▁bypass': 20834, '▁bósnia': 20835, '▁cabana': 20836, '▁cabine': 20837, '▁callum': 20838, '▁candle': 20839, '▁celest': 20840, '▁chaves': 20841, '▁cheers': 20842, '▁cibern': 20843, '▁claims': 20844, '▁climat': 20845, '▁coloco': 20846, '▁comece': 20847, '▁comido': 20848, '▁commut': 20849, '▁compor': 20850, '▁condem': 20851, '▁confin': 20852, '▁constr': 20853, '▁cristo': 20854, '▁câmera': 20855, '▁dancer': 20856, '▁dantes': 20857, '▁danças': 20858, '▁decept': 20859, '▁dennis': 20860, '▁digits': 20861, '▁dilema': 20862, '▁discer': 20863, '▁dishes': 20864, '▁disper': 20865, '▁doação': 20866, '▁drones': 20867, '▁dublin': 20868, '▁dyslex': 20869, '▁eleven': 20870, '▁elogio': 20871, '▁empilh': 20872, '▁enthus': 20873, '▁enviei': 20874, '▁equals': 20875, '▁esquad': 20876, '▁exeter': 20877, '▁exotic': 20878, '▁extrap': 20879, '▁faltam': 20880, '▁famine': 20881, '▁fights': 20882, '▁finite': 20883, '▁fiável': 20884, '▁floors': 20885, '▁fluido': 20886, '▁fluxos': 20887, '▁format': 20888, '▁fração': 20889, '▁fresca': 20890, '▁furios': 20891, '▁genial': 20892, '▁gentil': 20893, '▁gestos': 20894, '▁girass': 20895, '▁glands': 20896, '▁gostem': 20897, '▁graphs': 20898, '▁guides': 20899, '▁hiding': 20900, '▁hitler': 20901, '▁hollow': 20902, '▁hooked': 20903, '▁hosped': 20904, '▁humble': 20905, '▁hypoth': 20906, '▁hósped': 20907, '▁iconic': 20908, '▁ideais': 20909, '▁incess': 20910, '▁inclin': 20911, '▁incênd': 20912, '▁indese': 20913, '▁ingest': 20914, '▁insegu': 20915, '▁intend': 20916, '▁interc': 20917, '▁itiner': 20918, '▁jacket': 20919, '▁javier': 20920, '▁julgar': 20921, '▁juntei': 20922, '▁kaplan': 20923, '▁labels': 20924, '▁largar': 20925, '▁largas': 20926, '▁larvae': 20927, '▁lasers': 20928, '▁legais': 20929, '▁lennon': 20930, '▁lesion': 20931, '▁levava': 20932, '▁libras': 20933, '▁loudly': 20934, '▁lábios': 20935, '▁láctea': 20936, '▁marath': 20937, '▁mastro': 20938, '▁mellon': 20939, '▁mentem': 20940, '▁miklos': 20941, '▁milion': 20942, '▁miners': 20943, '▁moinho': 20944, '▁monday': 20945, '▁moscas': 20946, '▁mostro': 20947, '▁mutant': 20948, '▁navajo': 20949, '▁nuclei': 20950, '▁occurs': 20951, '▁oftalm': 20952, '▁operam': 20953, '▁paints': 20954, '▁palmas': 20955, '▁passem': 20956, '▁perasa': 20957, '▁petals': 20958, '▁pintou': 20959, '▁pixels': 20960, '▁porcel': 20961, '▁porous': 20962, '▁primes': 20963, '▁provis': 20964, '▁pulses': 20965, '▁qualit': 20966, '▁racial': 20967, '▁racism': 20968, '▁recipe': 20969, '▁recort': 20970, '▁reddit': 20971, '▁redist': 20972, '▁redund': 20973, '▁regres': 20974, '▁reluct': 20975, '▁repete': 20976, '▁revers': 20977, '▁ritmos': 20978, '▁rochas': 20979, '▁russos': 20980, '▁salman': 20981, '▁samuel': 20982, '▁saímos': 20983, '▁sermão': 20984, '▁settle': 20985, '▁sharks': 20986, '▁sheila': 20987, '▁shells': 20988, '▁shrimp': 20989, '▁shrunk': 20990, '▁simbol': 20991, '▁soccer': 20992, '▁sofreu': 20993, '▁squeak': 20994, '▁stacey': 20995, '▁startu': 20996, '▁subtra': 20997, '▁sucked': 20998, '▁superv': 20999, '▁suscet': 21000, '▁symmet': 21001, '▁taller': 21002, '▁tambor': 21003, '▁tastes': 21004, '▁taylor': 21005, '▁tether': 21006, '▁timber': 21007, '▁tocava': 21008, '▁tomate': 21009, '▁towers': 21010, '▁traces': 21011, '▁trafic': 21012, '▁tratam': 21013, '▁turkey': 21014, '▁underw': 21015, '▁unicef': 21016, '▁unicór': 21017, '▁upward': 21018, '▁vagina': 21019, '▁valued': 21020, '▁verões': 21021, '▁vessel': 21022, '▁visões': 21023, '▁vizinh': 21024, '▁walker': 21025, '▁wallet': 21026, '▁washed': 21027, '▁wished': 21028, '▁zodiac': 21029, '▁ímanes': 21030, '▁óbvias': 21031, 'determin': 21032, 'inheiros': 21033, 'ossauros': 21034, 'personal': 21035, 'restrial': 21036, 'specific': 21037, '▁acelera': 21038, '▁acender': 21039, '▁achavam': 21040, '▁acident': 21041, '▁agulhas': 21042, '▁alabama': 21043, '▁alcunha': 21044, '▁alemães': 21045, '▁allison': 21046, '▁alright': 21047, '▁alteram': 21048, '▁andavam': 21049, '▁anytime': 21050, '▁aptidão': 21051, '▁atómica': 21052, '▁auguste': 21053, '▁autocon': 21054, '▁bargain': 21055, '▁beijing': 21056, '▁biomole': 21057, '▁biomolé': 21058, '▁blended': 21059, '▁blowing': 21060, '▁bondade': 21061, '▁brancot': 21062, '▁brasile': 21063, '▁builder': 21064, '▁bumping': 21065, '▁buzzcar': 21066, '▁calcula': 21067, '▁cancers': 21068, '▁celsius': 21069, '▁censors': 21070, '▁censura': 21071, '▁chegava': 21072, '▁choques': 21073, '▁cleared': 21074, '▁clinics': 21075, '▁clooney': 21076, '▁coating': 21077, '▁colidir': 21078, '▁comeram': 21079, '▁comprov': 21080, '▁compuls': 21081, '▁condado': 21082, '▁conform': 21083, '▁confuse': 21084, '▁conselh': 21085, '▁contado': 21086, '▁corners': 21087, '▁cortado': 21088, '▁cortina': 21089, '▁creches': 21090, '▁crescia': 21091, '▁culprit': 21092, '▁customs': 21093, '▁cynthia': 21094, '▁decidem': 21095, '▁decimal': 21096, '▁dedicar': 21097, '▁descobr': 21098, '▁detroit': 21099, '▁devesse': 21100, '▁devised': 21101, '▁dickens': 21102, '▁diferem': 21103, '▁directa': 21104, '▁dispara': 21105, '▁dressed': 21106, '▁drought': 21107, '▁drucker': 21108, '▁egípcio': 21109, '▁ehrlich': 21110, '▁elegans': 21111, '▁emancip': 21112, '▁enjoyed': 21113, '▁entendi': 21114, '▁entendo': 21115, '▁escaped': 21116, '▁escolhe': 21117, '▁escuros': 21118, '▁escutem': 21119, '▁esperei': 21120, '▁esquema': 21121, '▁estilha': 21122, '▁evolves': 21123, '▁excerpt': 21124, '▁expands': 21125, '▁expense': 21126, '▁ferment': 21127, '▁flipped': 21128, '▁follows': 21129, '▁forgive': 21130, '▁formado': 21131, '▁fracção': 21132, '▁fraldas': 21133, '▁franken': 21134, '▁galileo': 21135, '▁georgia': 21136, '▁goodbye': 21137, '▁grading': 21138, '▁greatly': 21139, '▁heading': 21140, '▁heavily': 21141, '▁herança': 21142, '▁honored': 21143, '▁humilde': 21144, '▁hunting': 21145, '▁ignited': 21146, '▁igrejas': 21147, '▁ilustra': 21148, '▁imipram': 21149, '▁interro': 21150, '▁irrelev': 21151, '▁irónico': 21152, '▁isolada': 21153, '▁jardins': 21154, '▁judaica': 21155, '▁jumping': 21156, '▁justine': 21157, '▁lacunas': 21158, '▁laptops': 21159, '▁legally': 21160, '▁lembrei': 21161, '▁levámos': 21162, '▁líquida': 21163, '▁mahatma': 21164, '▁malware': 21165, '▁marmite': 21166, '▁melting': 21167, '▁meninos': 21168, '▁merging': 21169, '▁metrics': 21170, '▁miseric': 21171, '▁missões': 21172, '▁mochila': 21173, '▁mortais': 21174, '▁motorcy': 21175, '▁mullins': 21176, '▁mundane': 21177, '▁mutação': 21178, '▁nervosa': 21179, '▁noturno': 21180, '▁núcleos': 21181, '▁obrigar': 21182, '▁ocupado': 21183, '▁operado': 21184, '▁opostos': 21185, '▁outdoor': 21186, '▁oysters': 21187, '▁painter': 21188, '▁patents': 21189, '▁permita': 21190, '▁persons': 21191, '▁pesados': 21192, '▁pilares': 21193, '▁plotted': 21194, '▁polegar': 21195, '▁portray': 21196, '▁potente': 21197, '▁premise': 21198, '▁prescri': 21199, '▁prestig': 21200, '▁prevail': 21201, '▁pricing': 21202, '▁procuro': 21203, '▁procurá': 21204, '▁proving': 21205, '▁prédios': 21206, '▁publica': 21207, '▁rapidez': 21208, '▁readers': 21209, '▁rebecca': 21210, '▁recifes': 21211, '▁recorte': 21212, '▁regimes': 21213, '▁rehabil': 21214, '▁resolvê': 21215, '▁retinal': 21216, '▁reveals': 21217, '▁rituais': 21218, '▁rodeiam': 21219, '▁rosling': 21220, '▁sarkozy': 21221, '▁senegal': 21222, '▁sensory': 21223, '▁serving': 21224, '▁sevente': 21225, '▁seventh': 21226, '▁skeptic': 21227, '▁slogans': 21228, '▁smiling': 21229, '▁substan': 21230, '▁teaches': 21231, '▁tentava': 21232, '▁texture': 21233, '▁tiraram': 21234, '▁titanic': 21235, '▁tocamos': 21236, '▁tomadas': 21237, '▁tratada': 21238, '▁travels': 21239, '▁tribais': 21240, '▁tuesday': 21241, '▁unicorn': 21242, '▁urbanas': 21243, '▁utilize': 21244, '▁vendida': 21245, '▁vicious': 21246, '▁victory': 21247, '▁viverem': 21248, '▁votaram': 21249, '▁válvula': 21250, '▁weekend': 21251, '▁whisper': 21252, '▁winners': 21253, '▁wonders': 21254, '▁índices': 21255, 'antically': 21256, 'fashioned': 21257, 'ficamente': 21258, 'ioterapia': 21259, 'istically': 21260, 'nsylvania': 21261, '▁abandono': 21262, '▁acoustic': 21263, '▁activate': 21264, '▁adoraria': 21265, '▁afetados': 21266, '▁agitando': 21267, '▁americas': 21268, '▁animados': 21269, '▁apanhado': 21270, '▁aplicado': 21271, '▁aprendeu': 21272, '▁arbustos': 21273, '▁arquivos': 21274, '▁arriscar': 21275, '▁aspiring': 21276, '▁assigned': 21277, '▁associar': 21278, '▁astrofís': 21279, '▁atribuir': 21280, '▁attracts': 21281, '▁autónomo': 21282, '▁blessing': 21283, '▁blogging': 21284, '▁caroline': 21285, '▁castanho': 21286, '▁champion': 21287, '▁chandler': 21288, '▁charging': 21289, '▁chegando': 21290, '▁chemists': 21291, '▁cinzento': 21292, '▁civilian': 21293, '▁climbing': 21294, '▁colocada': 21295, '▁colonies': 21296, '▁colonosc': 21297, '▁colorado': 21298, '▁comandos': 21299, '▁combinam': 21300, '▁composed': 21301, '▁conheçam': 21302, '▁contágio': 21303, '▁defenses': 21304, '▁defining': 21305, '▁degraded': 21306, '▁demónios': 21307, '▁desinter': 21308, '▁deslocar': 21309, '▁dessalin': 21310, '▁distrito': 21311, '▁dreaming': 21312, '▁duration': 21313, '▁efficacy': 21314, '▁elegante': 21315, '▁elevadas': 21316, '▁elevated': 21317, '▁elástica': 21318, '▁emergent': 21319, '▁empurrar': 21320, '▁endeavor': 21321, '▁enviarem': 21322, '▁escrevam': 21323, '▁espalhou': 21324, '▁estatais': 21325, '▁etiqueta': 21326, '▁evolving': 21327, '▁exceções': 21328, '▁executar': 21329, '▁expostas': 21330, '▁exposure': 21331, '▁fabulosa': 21332, '▁featured': 21333, '▁filmclub': 21334, '▁finanças': 21335, '▁forçados': 21336, '▁friedman': 21337, '▁fujifilm': 21338, '▁garantia': 21339, '▁garganta': 21340, '▁geograph': 21341, '▁gestures': 21342, '▁glorious': 21343, '▁guidance': 21344, '▁herschel': 21345, '▁hopeless': 21346, '▁hormonal': 21347, '▁humility': 21348, '▁husbands': 21349, '▁idêntico': 21350, '▁imaginam': 21351, '▁inimigos': 21352, '▁insisted': 21353, '▁instável': 21354, '▁intended': 21355, '▁internos': 21356, '▁inúmeras': 21357, '▁iranians': 21358, '▁israelis': 21359, '▁jacquard': 21360, '▁killings': 21361, '▁kiribati': 21362, '▁learners': 21363, '▁leitores': 21364, '▁levantei': 21365, '▁libertam': 21366, '▁licenças': 21367, '▁literary': 21368, '▁margaret': 21369, '▁marshall': 21370, '▁mattered': 21371, '▁matérias': 21372, '▁mecânico': 21373, '▁medicare': 21374, '▁minorias': 21375, '▁missions': 21376, '▁misturar': 21377, '▁misunder': 21378, '▁mongolia': 21379, '▁morrerem': 21380, '▁mushroom': 21381, '▁needless': 21382, '▁nominate': 21383, '▁obcecada': 21384, '▁obedecer': 21385, '▁obstacle': 21386, '▁occasion': 21387, '▁ocorrido': 21388, '▁oklahoma': 21389, '▁orgânico': 21390, '▁outbreak': 21391, '▁packaged': 21392, '▁paradise': 21393, '▁passando': 21394, '▁pesadelo': 21395, '▁philippe': 21396, '▁pioneers': 21397, '▁portable': 21398, '▁precioso': 21399, '▁pressing': 21400, '▁primária': 21401, '▁primário': 21402, '▁protesto': 21403, '▁quererem': 21404, '▁realista': 21405, '▁reducing': 21406, '▁refletir': 21407, '▁releases': 21408, '▁reminder': 21409, '▁repairab': 21410, '▁reparado': 21411, '▁reprimit': 21412, '▁reservas': 21413, '▁resulted': 21414, '▁retenção': 21415, '▁retirado': 21416, '▁reusable': 21417, '▁salamand': 21418, '▁sauditas': 21419, '▁sections': 21420, '▁seguimos': 21421, '▁sensible': 21422, '▁sequestr': 21423, '▁servidor': 21424, '▁seríamos': 21425, '▁severely': 21426, '▁souberem': 21427, '▁specimen': 21428, '▁stressed': 21429, '▁survivor': 21430, '▁tentação': 21431, '▁thailand': 21432, '▁timeline': 21433, '▁tonelada': 21434, '▁tortured': 21435, '▁tratamos': 21436, '▁travagem': 21437, '▁tremenda': 21438, '▁tutorial': 21439, '▁uncommon': 21440, '▁valiosas': 21441, '▁vascular': 21442, '▁vibração': 21443, '▁vingança': 21444, '▁violento': 21445, '▁virtudes': 21446, '▁visceral': 21447, '▁vivíamos': 21448, '▁worrying': 21449, '▁zelândia': 21450, 'government': 21451, '▁aceitação': 21452, '▁acordados': 21453, '▁activados': 21454, '▁adaptável': 21455, '▁aftermath': 21456, '▁agreement': 21457, '▁aleatório': 21458, '▁apartheid': 21459, '▁apercebem': 21460, '▁arriscado': 21461, '▁astrophys': 21462, '▁atlântico': 21463, '▁atravessa': 21464, '▁attacking': 21465, '▁attitudes': 21466, '▁auditório': 21467, '▁aumentada': 21468, '▁beethoven': 21469, '▁blablacar': 21470, '▁brazilian': 21471, '▁broadcast': 21472, '▁carpenter': 21473, '▁carruagem': 21474, '▁cigarette': 21475, '▁cinzentos': 21476, '▁colectiva': 21477, '▁collision': 21478, '▁colocando': 21479, '▁combinado': 21480, '▁começavam': 21481, '▁committee': 21482, '▁completed': 21483, '▁compostos': 21484, '▁confusion': 21485, '▁congelado': 21486, '▁conquista': 21487, '▁conselhos': 21488, '▁consensus': 21489, '▁consuming': 21490, '▁contratos': 21491, '▁controlos': 21492, '▁convicted': 21493, '▁criminals': 21494, '▁criticism': 21495, '▁descontra': 21496, '▁desenhada': 21497, '▁detalhada': 21498, '▁detergent': 21499, '▁disadvant': 21500, '▁disasters': 21501, '▁dispersed': 21502, '▁distingue': 21503, '▁distorted': 21504, '▁dramático': 21505, '▁escondida': 21506, '▁espessura': 21507, '▁estimação': 21508, '▁estudamos': 21509, '▁estudámos': 21510, '▁excedente': 21511, '▁exclusive': 21512, '▁fenomenal': 21513, '▁finishing': 21514, '▁firsthand': 21515, '▁florescer': 21516, '▁flutuação': 21517, '▁foguetões': 21518, '▁furniture': 21519, '▁generosos': 21520, '▁geometria': 21521, '▁glândulas': 21522, '▁guardados': 21523, '▁habitável': 21524, '▁humankind': 21525, '▁humildade': 21526, '▁ideologia': 21527, '▁inseguras': 21528, '▁instantes': 21529, '▁intencion': 21530, '▁intensity': 21531, '▁interfere': 21532, '▁intermedi': 21533, '▁inventors': 21534, '▁investido': 21535, '▁irritante': 21536, '▁isolation': 21537, '▁jefferson': 21538, '▁lembrarem': 21539, '▁libertado': 21540, '▁manchetes': 21541, '▁maximizar': 21542, '▁medicines': 21543, '▁megafauna': 21544, '▁melbourne': 21545, '▁melhorias': 21546, '▁memorizar': 21547, '▁ministers': 21548, '▁mobilizar': 21549, '▁mustaches': 21550, '▁nashville': 21551, '▁negativas': 21552, '▁negativos': 21553, '▁orgulhoso': 21554, '▁parecemos': 21555, '▁perfeitos': 21556, '▁pertencer': 21557, '▁portáteis': 21558, '▁preferiam': 21559, '▁preservar': 21560, '▁prevenção': 21561, '▁producers': 21562, '▁profundos': 21563, '▁protocolo': 21564, '▁publiquei': 21565, '▁realizing': 21566, '▁reduzindo': 21567, '▁religiosa': 21568, '▁rembrandt': 21569, '▁repetidas': 21570, '▁residents': 21571, '▁respeitos': 21572, '▁restantes': 21573, '▁retângulo': 21574, '▁salientar': 21575, '▁sensation': 21576, '▁separadas': 21577, '▁sexuality': 21578, '▁shattered': 21579, '▁shootings': 21580, '▁sigmoidal': 21581, '▁solarcity': 21582, '▁soubessem': 21583, '▁strengths': 21584, '▁struggles': 21585, '▁summarize': 21586, '▁surprises': 21587, '▁surrender': 21588, '▁telefonar': 21589, '▁therapeut': 21590, '▁transmite': 21591, '▁treinados': 21592, '▁vestígios': 21593, '▁voluntari': 21594, '▁workplace': 21595, 'isticamente': 21596, '▁aborrecido': 21597, '▁académicos': 21598, '▁acceptance': 21599, '▁addressing': 21600, '▁adicionais': 21601, '▁adrenalina': 21602, '▁antibiotic': 21603, '▁appearance': 21604, '▁arduamente': 21605, '▁brinquedos': 21606, '▁caregivers': 21607, '▁carpooling': 21608, '▁casablanca': 21609, '▁centrifuge': 21610, '▁cicatrizes': 21611, '▁clustering': 21612, '▁contracept': 21613, '▁contribuem': 21614, '▁controlada': 21615, '▁controlado': 21616, '▁convidámos': 21617, '▁courageous': 21618, '▁detergente': 21619, '▁developers': 21620, '▁devêssemos': 21621, '▁disappoint': 21622, '▁disruption': 21623, '▁ecológicos': 21624, '▁economizar': 21625, '▁empresário': 21626, '▁engineered': 21627, '▁entusiasma': 21628, '▁envolvidas': 21629, '▁espingarda': 21630, '▁estaríamos': 21631, '▁excecional': 21632, '▁explicitly': 21633, '▁fortalecer': 21634, '▁fortemente': 21635, '▁fragmented': 21636, '▁generating': 21637, '▁georgetown': 21638, '▁gooseberry': 21639, '▁helicopter': 21640, '▁históricos': 21641, '▁improbable': 21642, '▁incomplete': 21643, '▁indicators': 21644, '▁infeciosas': 21645, '▁infidelity': 21646, '▁inspirador': 21647, '▁interiores': 21648, '▁interpreta': 21649, '▁inventámos': 21650, '▁ironically': 21651, '▁javascript': 21652, '▁largamente': 21653, '▁legitimate': 21654, '▁levantaram': 21655, '▁meyerowitz': 21656, '▁microfluid': 21657, '▁movimentar': 21658, '▁muitíssimo': 21659, '▁narrativas': 21660, '▁narratives': 21661, '▁necessitam': 21662, '▁nonviolent': 21663, '▁operatório': 21664, '▁opposition': 21665, '▁pagamentos': 21666, '▁palliative': 21667, '▁paraphrase': 21668, '▁património': 21669, '▁perguntava': 21670, '▁pescadores': 21671, '▁potenciais': 21672, '▁preocupada': 21673, '▁presenting': 21674, '▁presumably': 21675, '▁propagação': 21676, '▁propulsion': 21677, '▁protective': 21678, '▁publicados': 21679, '▁quantities': 21680, '▁requisitos': 21681, '▁responding': 21682, '▁reutilizar': 21683, '▁satisfazer': 21684, '▁sequencing': 21685, '▁simplicity': 21686, '▁simplistic': 21687, '▁solidarity': 21688, '▁starvation': 21689, '▁substitute': 21690, '▁systematic': 21691, '▁tartarugas': 21692, '▁telefónica': 21693, '▁temptation': 21694, '▁testemunha': 21695, '▁trajectory': 21696, '▁transcript': 21697, '▁universais': 21698, '▁vendedores': 21699, '▁ventilação': 21700, '▁accompanied': 21701, '▁acompanhado': 21702, '▁acontecesse': 21703, '▁apresentada': 21704, '▁aproximação': 21705, '▁assistentes': 21706, '▁backgrounds': 21707, '▁biofluoresc': 21708, '▁buckminster': 21709, '▁celebration': 21710, '▁classificar': 21711, '▁collections': 21712, '▁commitments': 21713, '▁competitors': 21714, '▁computation': 21715, '▁comunicamos': 21716, '▁concretizar': 21717, '▁conservador': 21718, '▁considerada': 21719, '▁considerava': 21720, '▁construírem': 21721, '▁correlacion': 21722, '▁democracias': 21723, '▁dependência': 21724, '▁destructive': 21725, '▁dinossauros': 21726, '▁distinctive': 21727, '▁documentary': 21728, '▁educacional': 21729, '▁embarrassed': 21730, '▁entendermos': 21731, '▁exceptional': 21732, '▁exponencial': 21733, '▁extremidade': 21734, '▁fascinantes': 21735, '▁frequencies': 21736, '▁funcionaria': 21737, '▁furthermore': 21738, '▁helicóptero': 21739, '▁hippocampus': 21740, '▁humiliation': 21741, '▁identidades': 21742, '▁immortality': 21743, '▁influential': 21744, '▁initiatives': 21745, '▁instantânea': 21746, '▁investments': 21747, '▁masterpiece': 21748, '▁microbianas': 21749, '▁neurologist': 21750, '▁nightingale': 21751, '▁perturbação': 21752, '▁plataformas': 21753, '▁preconceito': 21754, '▁preparation': 21755, '▁programados': 21756, '▁proximidade': 21757, '▁remembering': 21758, '▁respondemos': 21759, '▁scholarship': 21760, '▁seleccionar': 21761, '▁seriousness': 21762, '▁simplificar': 21763, '▁sofisticada': 21764, '▁storyteller': 21765, '▁testemunhas': 21766, '▁trabalhavam': 21767, '▁tunelamento': 21768, '▁vocabulário': 21769, '▁willingness': 21770, '▁yellowstone': 21771, '▁astroturfing': 21772, '▁celebridades': 21773, '▁combinations': 21774, '▁complicações': 21775, '▁conditioning': 21776, '▁constructive': 21777, '▁desalination': 21778, '▁developments': 21779, '▁entusiasmada': 21780, '▁hambúrgueres': 21781, '▁illustration': 21782, '▁imortalidade': 21783, '▁installation': 21784, '▁interessadas': 21785, '▁introduzidos': 21786, '▁longitudinal': 21787, '▁marketplaces': 21788, '▁negotiations': 21789, '▁neurogenesis': 21790, '▁papercutting': 21791, '▁pennsylvania': 21792, '▁perspectivas': 21793, '▁perturbações': 21794, '▁philanthropy': 21795, '▁preferências': 21796, '▁prostituição': 21797, '▁prostitution': 21798, '▁publicamente': 21799, '▁regulamentos': 21800, '▁representing': 21801, '▁reproduction': 21802, '▁revolucionar': 21803, '▁simplicidade': 21804, '▁sobreviveram': 21805, '▁sofisticados': 21806, '▁storytellers': 21807, '▁temperatures': 21808, '▁transformado': 21809, '▁characterized': 21810, '▁conservatives': 21811, '▁contemporâneo': 21812, '▁desagradáveis': 21813, '▁entertainment': 21814, '▁gravitacional': 21815, '▁impressionado': 21816, '▁independently': 21817, '▁infinitamente': 21818, '▁intersections': 21819, '▁introvertidos': 21820, '▁perigosamente': 21821, '▁repairability': 21822, '▁reverberation': 21823, '▁supermercados': 21824, '▁transformando': 21825, '▁universitária': 21826, '▁archaeological': 21827, '▁característico': 21828, '▁characteristic': 21829, '▁especializados': 21830, '▁rehabilitation': 21831, '▁representative': 21832, '▁significativas': 21833, '▁neurocientistas': 21834, '▁neuroscientists': 21835, '▁simultaneamente': 21836, ',7': 21837, '.7': 21838, 'hd': 21839, 'km': 21840, 'lé': 21841, 'mi': 21842, 'vs': 21843, 'íc': 21844, 'óf': 21845, 'ôr': 21846, '▁€': 21847, '800': 21848, 'abi': 21849, 'ali': 21850, 'dec': 21851, 'deg': 21852, 'eck': 21853, 'ezy': 21854, 'fam': 21855, 'gir': 21856, 'gle': 21857, 'hma': 21858, 'hoo': 21859, 'inu': 21860, 'jou': 21861, 'kas': 21862, 'lan': 21863, 'lhi': 21864, 'lik': 21865, 'lov': 21866, 'não': 21867, 'obs': 21868, 'pic': 21869, 'pir': 21870, 'pix': 21871, 'rec': 21872, 'rob': 21873, 'run': 21874, 'sal': 21875, 'sen': 21876, 'spe': 21877, 'tua': 21878, 'umn': 21879, 'utá': 21880, 'uum': 21881, 'wis': 21882, 'yon': 21883, 'zas': 21884, 'zwe': 21885, 'çou': 21886, 'éne': 21887, 'éus': 21888, 'ênf': 21889, 'ígd': 21890, '▁62': 21891, '▁7.': 21892, '▁8.': 21893, '▁gn': 21894, '▁hm': 21895, '▁iv': 21896, '▁lâ': 21897, '▁ng': 21898, '▁rh': 21899, '▁tg': 21900, '▁tm': 21901, '▁vu': 21902, 'aced': 21903, 'ader': 21904, 'adha': 21905, 'ahua': 21906, 'asis': 21907, 'atom': 21908, 'bake': 21909, 'brir': 21910, 'béns': 21911, 'chos': 21912, 'cile': 21913, 'cise': 21914, 'dler': 21915, 'edas': 21916, 'elve': 21917, 'emen': 21918, 'fact': 21919, 'gger': 21920, 'gica': 21921, 'greg': 21922, 'hara': 21923, 'hard': 21924, 'heav': 21925, 'hero': 21926, 'hots': 21927, 'iens': 21928, 'imir': 21929, 'inch': 21930, 'irst': 21931, 'jord': 21932, 'lado': 21933, 'leep': 21934, 'meia': 21935, 'nóst': 21936, 'obra': 21937, 'odiv': 21938, 'omod': 21939, 'onta': 21940, 'onês': 21941, 'opic': 21942, 'opot': 21943, 'oque': 21944, 'orta': 21945, 'osem': 21946, 'oter': 21947, 'quil': 21948, 'quím': 21949, 'raqu': 21950, 'reta': 21951, 'rime': 21952, 'rora': 21953, 'ruci': 21954, 'safe': 21955, 'teve': 21956, 'urou': 21957, 'utas': 21958, 'uted': 21959, 'vana': 21960, 'vres': 21961, 'zzle': 21962, 'áver': 21963, '▁1.4': 21964, '▁13-': 21965, '▁4,5': 21966, '▁acr': 21967, '▁alb': 21968, '▁bou': 21969, '▁bry': 21970, '▁caí': 21971, '▁cob': 21972, '▁cúb': 21973, '▁dic': 21974, '▁díg': 21975, '▁ell': 21976, '▁fet': 21977, '▁gan': 21978, '▁hay': 21979, '▁ire': 21980, '▁jig': 21981, '▁kms': 21982, '▁mig': 21983, '▁nod': 21984, '▁nud': 21985, '▁nóm': 21986, '▁orf': 21987, '▁pál': 21988, '▁pét': 21989, '▁raf': 21990, '▁ray': 21991, '▁rif': 21992, '▁rés': 21993, '▁sca': 21994, '▁sue': 21995, '▁tut': 21996, '▁tén': 21997, '▁ups': 21998, '▁vom': 21999, '▁wob': 22000, '▁wre': 22001, '▁ênf': 22002, 'adeza': 22003, 'adrez': 22004, 'antom': 22005, 'arcer': 22006, 'arted': 22007, 'assez': 22008, 'banho': 22009, 'berta': 22010, 'bomba': 22011, 'burgh': 22012, 'cemos': 22013, 'cimes': 22014, 'earch': 22015, 'erias': 22016, 'eries': 22017, 'essed': 22018, 'estra': 22019, 'eters': 22020, 'ewrit': 22021, 'grass': 22022, 'hadas': 22023, 'human': 22024, 'icill': 22025, 'idity': 22026, 'ieval': 22027, 'ighth': 22028, 'inais': 22029, 'inent': 22030, 'inery': 22031, 'inese': 22032, 'inted': 22033, 'iorqu': 22034, 'iphan': 22035, 'iriam': 22036, 'ishes': 22037, 'istor': 22038, 'ivind': 22039, 'marks': 22040, 'mines': 22041, 'noite': 22042, 'ochem': 22043, 'opias': 22044, 'otive': 22045, 'ouras': 22046, 'ourse': 22047, 'prima': 22048, 'racha': 22049, 'racia': 22050, 'radas': 22051, 'rared': 22052, 'rated': 22053, 'rates': 22054, 'retro': 22055, 'rolog': 22056, 'ronto': 22057, 'rosas': 22058, 'speed': 22059, 'ubram': 22060, 'uding': 22061, 'umbus': 22062, 'unção': 22063, 'uário': 22064, 'zweil': 22065, 'ínios': 22066, 'ómico': 22067, 'ópios': 22068, '▁1975': 22069, '▁1986': 22070, '▁6000': 22071, '▁aaaa': 22072, '▁aged': 22073, '▁agem': 22074, '▁alch': 22075, '▁anch': 22076, '▁aned': 22077, '▁anne': 22078, '▁apes': 22079, '▁bake': 22080, '▁bala': 22081, '▁bole': 22082, '▁bolo': 22083, '▁brus': 22084, '▁cafe': 22085, '▁cela': 22086, '▁cera': 22087, '▁chop': 22088, '▁chum': 22089, '▁chun': 22090, '▁clan': 22091, '▁cops': 22092, '▁coup': 22093, '▁crus': 22094, '▁devi': 22095, '▁dita': 22096, '▁dren': 22097, '▁duke': 22098, '▁duty': 22099, '▁elus': 22100, '▁erva': 22101, '▁espl': 22102, '▁feia': 22103, '▁fino': 22104, '▁fixa': 22105, '▁fixo': 22106, '▁flan': 22107, '▁fuga': 22108, '▁hast': 22109, '▁heal': 22110, '▁hint': 22111, '▁hook': 22112, '▁hugh': 22113, '▁ilim': 22114, '▁inad': 22115, '▁leoa': 22116, '▁lobe': 22117, '▁lock': 22118, '▁mamã': 22119, '▁mash': 22120, '▁mask': 22121, '▁mead': 22122, '▁medí': 22123, '▁muco': 22124, '▁mudá': 22125, '▁neon': 22126, '▁nevo': 22127, '▁odds': 22128, '▁oiço': 22129, '▁pací': 22130, '▁pará': 22131, '▁pays': 22132, '▁peek': 22133, '▁penn': 22134, '▁pian': 22135, '▁pile': 22136, '▁pose': 22137, '▁prud': 22138, '▁puxa': 22139, '▁póst': 22140, '▁quen': 22141, '▁rage': 22142, '▁rais': 22143, '▁reis': 22144, '▁rodo': 22145, '▁rota': 22146, '▁saio': 22147, '▁serp': 22148, '▁shak': 22149, '▁shru': 22150, '▁sibl': 22151, '▁sist': 22152, '▁slip': 22153, '▁slum': 22154, '▁sock': 22155, '▁socr': 22156, '▁stun': 22157, '▁subl': 22158, '▁sudo': 22159, '▁suma': 22160, '▁supl': 22161, '▁tabu': 22162, '▁tags': 22163, '▁tard': 22164, '▁tata': 22165, '▁tern': 22166, '▁thor': 22167, '▁thou': 22168, '▁tomb': 22169, '▁táxi': 22170, '▁unac': 22171, '▁uter': 22172, '▁vela': 22173, '▁void': 22174, '▁weed': 22175, 'adeiro': 22176, 'adhafi': 22177, 'aduras': 22178, 'andade': 22179, 'aneous': 22180, 'anship': 22181, 'anting': 22182, 'apeuta': 22183, 'ariais': 22184, 'carbon': 22185, 'cepção': 22186, 'coming': 22187, 'degree': 22188, 'ducing': 22189, 'ecuted': 22190, 'eições': 22191, 'eração': 22192, 'fifths': 22193, 'gather': 22194, 'guemos': 22195, 'génese': 22196, 'headed': 22197, 'huahua': 22198, 'izable': 22199, 'izante': 22200, 'izarem': 22201, 'izámos': 22202, 'ombros': 22203, 'orrect': 22204, 'ouette': 22205, 'people': 22206, 'profit': 22207, 'quezas': 22208, 'ranean': 22209, 'resist': 22210, 'screen': 22211, 'semana': 22212, 'taking': 22213, 'urable': 22214, 'urgeon': 22215, 'ustain': 22216, 'ustent': 22217, 'órdios': 22218, 'óticas': 22219, 'ública': 22220, 'úsculo': 22221, '▁acion': 22222, '▁acute': 22223, '▁afflu': 22224, '▁agrav': 22225, '▁amate': 22226, '▁amígd': 22227, '▁armor': 22228, '▁arras': 22229, '▁asilo': 22230, '▁ativa': 22231, '▁aérea': 22232, '▁babys': 22233, '▁banal': 22234, '▁barbe': 22235, '▁beast': 22236, '▁bible': 22237, '▁blend': 22238, '▁blows': 22239, '▁borda': 22240, '▁bossa': 22241, '▁brake': 22242, '▁bulbs': 22243, '▁bónus': 22244, '▁caber': 22245, '▁cafés': 22246, '▁calma': 22247, '▁caçar': 22248, '▁cease': 22249, '▁ceder': 22250, '▁cemit': 22251, '▁chamá': 22252, '▁chate': 22253, '▁cheat': 22254, '▁cinqu': 22255, '▁citar': 22256, '▁clubs': 22257, '▁cohes': 22258, '▁comic': 22259, '▁corta': 22260, '▁creep': 22261, '▁cried': 22262, '▁cujas': 22263, '▁cumul': 22264, '▁damas': 22265, '▁defic': 22266, '▁delhi': 22267, '▁desac': 22268, '▁desat': 22269, '▁desks': 22270, '▁deson': 22271, '▁despo': 22272, '▁disgu': 22273, '▁drain': 22274, '▁duche': 22275, '▁encam': 22276, '▁entro': 22277, '▁entry': 22278, '▁evans': 22279, '▁expor': 22280, '▁fazes': 22281, '▁febre': 22282, '▁feeds': 22283, '▁flame': 22284, '▁float': 22285, '▁frack': 22286, '▁fries': 22287, '▁geeks': 22288, '▁genom': 22289, '▁gerou': 22290, '▁grace': 22291, '▁grief': 22292, '▁grito': 22293, '▁hells': 22294, '▁homin': 22295, '▁idoso': 22296, '▁inaug': 22297, '▁incub': 22298, '▁inqui': 22299, '▁irmos': 22300, '▁joint': 22301, '▁juliá': 22302, '▁keith': 22303, '▁lagos': 22304, '▁lares': 22305, '▁lasts': 22306, '▁lente': 22307, '▁leque': 22308, '▁leves': 22309, '▁ligou': 22310, '▁loads': 22311, '▁loose': 22312, '▁lutam': 22313, '▁mantê': 22314, '▁marés': 22315, '▁medal': 22316, '▁megac': 22317, '▁mercy': 22318, '▁metaf': 22319, '▁milag': 22320, '▁mines': 22321, '▁mitos': 22322, '▁morph': 22323, '▁mozam': 22324, '▁moçam': 22325, '▁mucus': 22326, '▁mudem': 22327, '▁namib': 22328, '▁naves': 22329, '▁negar': 22330, '▁notor': 22331, '▁obser': 22332, '▁ocupa': 22333, '▁oiçam': 22334, '▁optar': 22335, '▁pegaj': 22336, '▁perpé': 22337, '▁pesos': 22338, '▁picar': 22339, '▁picks': 22340, '▁plank': 22341, '▁pombo': 22342, '▁pound': 22343, '▁preve': 22344, '▁promo': 22345, '▁prone': 22346, '▁psico': 22347, '▁quilo': 22348, '▁raros': 22349, '▁realm': 22350, '▁renda': 22351, '▁reter': 22352, '▁rings': 22353, '▁riots': 22354, '▁rotas': 22355, '▁rotor': 22356, '▁sachs': 22357, '▁shiny': 22358, '▁siege': 22359, '▁sigam': 22360, '▁soava': 22361, '▁solta': 22362, '▁spade': 22363, '▁spong': 22364, '▁stamp': 22365, '▁stead': 22366, '▁steak': 22367, '▁stole': 22368, '▁subúr': 22369, '▁symph': 22370, '▁sábio': 22371, '▁sócio': 22372, '▁taxes': 22373, '▁teens': 22374, '▁templ': 22375, '▁thigh': 22376, '▁torch': 22377, '▁tower': 22378, '▁treta': 22379, '▁truce': 22380, '▁usamo': 22381, '▁vacin': 22382, '▁viaja': 22383, '▁vigar': 22384, '▁virão': 22385, '▁yards': 22386, '▁yosem': 22387, '▁útero': 22388, 'african': 22389, 'emakers': 22390, 'enciado': 22391, 'entares': 22392, 'entimes': 22393, 'icilina': 22394, 'icillin': 22395, 'inteiro': 22396, 'ogramas': 22397, 'quisite': 22398, 'sharing': 22399, '▁abraço': 22400, '▁acorda': 22401, '▁activa': 22402, '▁acumul': 22403, '▁adição': 22404, '▁adorar': 22405, '▁agarra': 22406, '▁aguard': 22407, '▁airbag': 22408, '▁alavan': 22409, '▁aliens': 22410, '▁alquim': 22411, '▁anomal': 22412, '▁apoiam': 22413, '▁apples': 22414, '▁apress': 22415, '▁arranh': 22416, '▁arrows': 22417, '▁ativar': 22418, '▁attorn': 22419, '▁autumn': 22420, '▁avatar': 22421, '▁avenue': 22422, '▁ballot': 22423, '▁beside': 22424, '▁biased': 22425, '▁bienal': 22426, '▁binary': 22427, '▁bitten': 22428, '▁bolsas': 22429, '▁bombar': 22430, '▁bosnia': 22431, '▁brakes': 22432, '▁bucket': 22433, '▁bíblia': 22434, '▁calado': 22435, '▁camion': 22436, '▁camisa': 22437, '▁canyon': 22438, '▁cargos': 22439, '▁cattle': 22440, '▁causal': 22441, '▁cedars': 22442, '▁chamas': 22443, '▁cheeks': 22444, '▁ciclos': 22445, '▁cintil': 22446, '▁clarão': 22447, '▁colaps': 22448, '▁contei': 22449, '▁costly': 22450, '▁covers': 22451, '▁cólera': 22452, '▁damien': 22453, '▁decode': 22454, '▁desceu': 22455, '▁desord': 22456, '▁destac': 22457, '▁dirigi': 22458, '▁discom': 22459, '▁discos': 22460, '▁dispor': 22461, '▁dissip': 22462, '▁divine': 22463, '▁doador': 22464, '▁donors': 22465, '▁doubts': 22466, '▁dúzias': 22467, '▁eldest': 22468, '▁embarc': 22469, '▁emitir': 22470, '▁engren': 22471, '▁enviem': 22472, '▁enxaqu': 22473, '▁erosão': 22474, '▁estagn': 22475, '▁evolui': 22476, '▁falsas': 22477, '▁faltar': 22478, '▁fantoc': 22479, '▁firmly': 22480, '▁fiscal': 22481, '▁fruits': 22482, '▁fundar': 22483, '▁fundir': 22484, '▁futura': 22485, '▁gangst': 22486, '▁gastam': 22487, '▁geiger': 22488, '▁giraff': 22489, '▁glamor': 22490, '▁gorill': 22491, '▁gostei': 22492, '▁gramas': 22493, '▁gratos': 22494, '▁greeks': 22495, '▁guiado': 22496, '▁guided': 22497, '▁harass': 22498, '▁harmon': 22499, '▁hindus': 22500, '▁honors': 22501, '▁humane': 22502, '▁húmido': 22503, '▁incand': 22504, '▁indoor': 22505, '▁inefic': 22506, '▁inquis': 22507, '▁insert': 22508, '▁intuit': 22509, '▁inútil': 22510, '▁issued': 22511, '▁jersey': 22512, '▁kenyan': 22513, '▁kidnap': 22514, '▁lindas': 22515, '▁loaded': 22516, '▁maluca': 22517, '▁mandou': 22518, '▁mangas': 22519, '▁massas': 22520, '▁mature': 22521, '▁metais': 22522, '▁micron': 22523, '▁morada': 22524, '▁mostre': 22525, '▁multim': 22526, '▁murray': 22527, '▁máxima': 22528, '▁médios': 22529, '▁nevada': 22530, '▁ninety': 22531, '▁obesos': 22532, '▁obteve': 22533, '▁oferta': 22534, '▁pacote': 22535, '▁patrão': 22536, '▁pensas': 22537, '▁percet': 22538, '▁pergam': 22539, '▁pessim': 22540, '▁petrol': 22541, '▁pilhas': 22542, '▁pilots': 22543, '▁pintei': 22544, '▁plural': 22545, '▁poemas': 22546, '▁poetic': 22547, '▁poison': 22548, '▁popped': 22549, '▁poroso': 22550, '▁portos': 22551, '▁porção': 22552, '▁praias': 22553, '▁precau': 22554, '▁predis': 22555, '▁prizes': 22556, '▁proton': 22557, '▁pseudo': 22558, '▁quadri': 22559, '▁queens': 22560, '▁ranges': 22561, '▁rebeld': 22562, '▁repito': 22563, '▁retail': 22564, '▁revolt': 22565, '▁rookie': 22566, '▁routes': 22567, '▁ruínas': 22568, '▁saindo': 22569, '▁saltou': 22570, '▁scenes': 22571, '▁scheme': 22572, '▁scroll': 22573, '▁sentam': 22574, '▁sermon': 22575, '▁serves': 22576, '▁singer': 22577, '▁slices': 22578, '▁slowed': 22579, '▁somali': 22580, '▁sorrir': 22581, '▁sphere': 22582, '▁stabil': 22583, '▁stairs': 22584, '▁stakes': 22585, '▁syrian': 22586, '▁sólida': 22587, '▁thesis': 22588, '▁throws': 22589, '▁tirado': 22590, '▁toalha': 22591, '▁torres': 22592, '▁trolls': 22593, '▁turmas': 22594, '▁twelve': 22595, '▁unable': 22596, '▁underp': 22597, '▁unpack': 22598, '▁upload': 22599, '▁urânio': 22600, '▁vacant': 22601, '▁vacuum': 22602, '▁valves': 22603, '▁variet': 22604, '▁veneno': 22605, '▁viajam': 22606, '▁viesse': 22607, '▁violar': 22608, '▁válida': 22609, '▁waking': 22610, '▁webcam': 22611, '▁wishes': 22612, '▁writes': 22613, '▁éticas': 22614, '▁ênfase': 22615, '▁ícones': 22616, '▁óptica': 22617, 'iability': 22618, 'ografias': 22619, '▁abriram': 22620, '▁achámos': 22621, '▁afirmar': 22622, '▁aliança': 22623, '▁alterou': 22624, '▁ameaçar': 22625, '▁anteced': 22626, '▁apanhou': 22627, '▁apertar': 22628, '▁apontou': 22629, '▁arguing': 22630, '▁armadas': 22631, '▁arquivo': 22632, '▁assento': 22633, '▁assisti': 22634, '▁assumem': 22635, '▁atentos': 22636, '▁atração': 22637, '▁auscult': 22638, '▁automat': 22639, '▁avaliam': 22640, '▁balines': 22641, '▁baseiam': 22642, '▁biochem': 22643, '▁biólogo': 22644, '▁blessed': 22645, '▁blogues': 22646, '▁bombing': 22647, '▁bottles': 22648, '▁braking': 22649, '▁branded': 22650, '▁broadly': 22651, '▁cadáver': 22652, '▁camarão': 22653, '▁capitão': 22654, '▁captura': 22655, '▁carrier': 22656, '▁carries': 22657, '▁castigo': 22658, '▁categor': 22659, '▁caution': 22660, '▁cemeter': 22661, '▁cheaply': 22662, '▁cholera': 22663, '▁clicker': 22664, '▁coberto': 22665, '▁colmeia': 22666, '▁commons': 22667, '▁compara': 22668, '▁condens': 22669, '▁condesc': 22670, '▁confiam': 22671, '▁confuso': 22672, '▁consolo': 22673, '▁convite': 22674, '▁culpada': 22675, '▁curtain': 22676, '▁dangers': 22677, '▁defesas': 22678, '▁definem': 22679, '▁defines': 22680, '▁denmark': 22681, '▁desconf': 22682, '▁destrut': 22683, '▁desviar': 22684, '▁dictate': 22685, '▁doubled': 22686, '▁dreamed': 22687, '▁dropout': 22688, '▁dívidas': 22689, '▁easiest': 22690, '▁eclipse': 22691, '▁elastic': 22692, '▁embelez': 22693, '▁embrulh': 22694, '▁emergir': 22695, '▁emissão': 22696, '▁encaixa': 22697, '▁encarar': 22698, '▁encript': 22699, '▁encrypt': 22700, '▁enfraqu': 22701, '▁entrava': 22702, '▁epiphan': 22703, '▁erosion': 22704, '▁escalar': 22705, '▁esgotos': 22706, '▁espanto': 22707, '▁estatal': 22708, '▁esticar': 22709, '▁estudam': 22710, '▁eternal': 22711, '▁examine': 22712, '▁exchang': 22713, '▁excruci': 22714, '▁exhilar': 22715, '▁existam': 22716, '▁expande': 22717, '▁exposto': 22718, '▁faltava': 22719, '▁filmado': 22720, '▁firstly': 22721, '▁flatten': 22722, '▁flooded': 22723, '▁fossils': 22724, '▁frações': 22725, '▁gatinho': 22726, '▁gelatin': 22727, '▁higiene': 22728, '▁hopeful': 22729, '▁hélices': 22730, '▁idiotas': 22731, '▁ilusões': 22732, '▁imposed': 22733, '▁indesej': 22734, '▁indicam': 22735, '▁ingénuo': 22736, '▁insecto': 22737, '▁insulin': 22738, '▁intensa': 22739, '▁intenso': 22740, '▁inúteis': 22741, '▁isolate': 22742, '▁japonês': 22743, '▁justify': 22744, '▁kadhafi': 22745, '▁lawsuit': 22746, '▁levados': 22747, '▁levamos': 22748, '▁lidamos': 22749, '▁liespot': 22750, '▁lighter': 22751, '▁lâminas': 22752, '▁manages': 22753, '▁mansion': 22754, '▁marinha': 22755, '▁martelo': 22756, '▁massiva': 22757, '▁migrant': 22758, '▁mindset': 22759, '▁miracul': 22760, '▁miséria': 22761, '▁monogam': 22762, '▁monster': 22763, '▁monstro': 22764, '▁morcego': 22765, '▁narciss': 22766, '▁nativas': 22767, '▁needing': 22768, '▁neglect': 22769, '▁newborn': 22770, '▁notação': 22771, '▁obterem': 22772, '▁odyssey': 22773, '▁oneness': 22774, '▁ordered': 22775, '▁outrora': 22776, '▁palpite': 22777, '▁paramos': 22778, '▁pension': 22779, '▁perfura': 22780, '▁phantom': 22781, '▁planner': 22782, '▁plantem': 22783, '▁plaster': 22784, '▁polling': 22785, '▁polymer': 22786, '▁popping': 22787, '▁portfol': 22788, '▁posting': 22789, '▁pragmat': 22790, '▁praying': 22791, '▁protões': 22792, '▁provoca': 22793, '▁prósper': 22794, '▁punched': 22795, '▁pétalas': 22796, '▁pósters': 22797, '▁queixar': 22798, '▁quentes': 22799, '▁quietly': 22800, '▁rabisco': 22801, '▁rainbow': 22802, '▁ranking': 22803, '▁reivind': 22804, '▁relates': 22805, '▁relying': 22806, '▁remodel': 22807, '▁remotos': 22808, '▁replied': 22809, '▁residem': 22810, '▁resilin': 22811, '▁retiram': 22812, '▁ricardo': 22813, '▁richest': 22814, '▁rituals': 22815, '▁sadness': 22816, '▁sapiens': 22817, '▁solidão': 22818, '▁sparked': 22819, '▁stratos': 22820, '▁strikes': 22821, '▁subiram': 22822, '▁subvers': 22823, '▁summary': 22824, '▁supremo': 22825, '▁tabelas': 22826, '▁technic': 22827, '▁theatre': 22828, '▁tiradas': 22829, '▁tornava': 22830, '▁tracker': 22831, '▁treason': 22832, '▁trusted': 22833, '▁turquia': 22834, '▁unclear': 22835, '▁undergo': 22836, '▁unthink': 22837, '▁utilizá': 22838, '▁vedação': 22839, '▁venture': 22840, '▁veterin': 22841, '▁vibrate': 22842, '▁viragem': 22843, '▁vitamin': 22844, '▁walters': 22845, '▁weighed': 22846, '▁whistle': 22847, '▁winning': 22848, '▁withdra': 22849, '▁yelling': 22850, '▁yorkers': 22851, 'estrutura': 22852, 'iosamente': 22853, 'odinâmica': 22854, 'ográficas': 22855, 'sucedidos': 22856, 'tenimento': 22857, '▁absoluto': 22858, '▁absorbed': 22859, '▁acumular': 22860, '▁adequate': 22861, '▁adjacent': 22862, '▁agitação': 22863, '▁ajudaria': 22864, '▁alavanca': 22865, '▁alfabeto': 22866, '▁alphabet': 22867, '▁altitude': 22868, '▁aluminum': 22869, '▁alumínio': 22870, '▁amadores': 22871, '▁apoiamos': 22872, '▁apparent': 22873, '▁aquático': 22874, '▁arteries': 22875, '▁assuming': 22876, '▁automont': 22877, '▁avoiding': 22878, '▁balanced': 22879, '▁balinese': 22880, '▁biennial': 22881, '▁borracha': 22882, '▁bothered': 22883, '▁browsing': 22884, '▁candidat': 22885, '▁capitães': 22886, '▁causados': 22887, '▁cavernas': 22888, '▁cellular': 22889, '▁certaint': 22890, '▁chamavam': 22891, '▁charming': 22892, '▁cheering': 22893, '▁chegarem': 22894, '▁churches': 22895, '▁cineasta': 22896, '▁citações': 22897, '▁clássica': 22898, '▁coerente': 22899, '▁colmeias': 22900, '▁colocamo': 22901, '▁colonial': 22902, '▁columbus': 22903, '▁conceptu': 22904, '▁concordo': 22905, '▁consenso': 22906, '▁consumed': 22907, '▁controla': 22908, '▁converts': 22909, '▁convidou': 22910, '▁corajosa': 22911, '▁costumam': 22912, '▁costumes': 22913, '▁cristãos': 22914, '▁deciding': 22915, '▁dediquei': 22916, '▁defensor': 22917, '▁derrubar': 22918, '▁descreve': 22919, '▁desculpe': 22920, '▁desmoron': 22921, '▁desvalor': 22922, '▁detector': 22923, '▁diplomas': 22924, '▁dirigida': 22925, '▁dirigido': 22926, '▁disparou': 22927, '▁disposto': 22928, '▁dividido': 22929, '▁donating': 22930, '▁doorstep': 22931, '▁doubling': 22932, '▁egoístas': 22933, '▁employee': 22934, '▁enriched': 22935, '▁entendam': 22936, '▁entradas': 22937, '▁entrámos': 22938, '▁enviaram': 22939, '▁escassez': 22940, '▁esquadra': 22941, '▁estratos': 22942, '▁estática': 22943, '▁estúpido': 22944, '▁excepção': 22945, '▁exclusão': 22946, '▁extremos': 22947, '▁fabuloso': 22948, '▁fairness': 22949, '▁falharam': 22950, '▁falsário': 22951, '▁fantasma': 22952, '▁fascínio': 22953, '▁fighters': 22954, '▁forestry': 22955, '▁founders': 22956, '▁fraqueza': 22957, '▁frontier': 22958, '▁galerias': 22959, '▁gelatina': 22960, '▁governam': 22961, '▁graphics': 22962, '▁handbags': 22963, '▁headline': 22964, '▁hectares': 22965, '▁holandês': 22966, '▁ideology': 22967, '▁imitação': 22968, '▁immunity': 22969, '▁impaired': 22970, '▁inadvert': 22971, '▁incarcer': 22972, '▁incómodo': 22973, '▁indícios': 22974, '▁ineffect': 22975, '▁infecção': 22976, '▁infernos': 22977, '▁inflated': 22978, '▁inflexão': 22979, '▁informar': 22980, '▁infrared': 22981, '▁ingleses': 22982, '▁inherent': 22983, '▁innocent': 22984, '▁instruct': 22985, '▁insulina': 22986, '▁intermin': 22987, '▁interval': 22988, '▁invasion': 22989, '▁invasiva': 22990, '▁iraniana': 22991, '▁kindness': 22992, '▁kurzweil': 22993, '▁lançaram': 22994, '▁leituras': 22995, '▁libertou': 22996, '▁licenses': 22997, '▁linkedin': 22998, '▁managers': 22999, '▁mandarin': 23000, '▁maximize': 23001, '▁medieval': 23002, '▁mentally': 23003, '▁mexicano': 23004, '▁midnight': 23005, '▁minerals': 23006, '▁mobilize': 23007, '▁montagem': 23008, '▁namorado': 23009, '▁negociar': 23010, '▁nenhumas': 23011, '▁nevoeiro': 23012, '▁oferecem': 23013, '▁olhassem': 23014, '▁oradores': 23015, '▁overhead': 23016, '▁parabéns': 23017, '▁pathogen': 23018, '▁perdidas': 23019, '▁persists': 23020, '▁planners': 23021, '▁pormenor': 23022, '▁porreiro': 23023, '▁porridge': 23024, '▁prazeres': 23025, '▁precisei': 23026, '▁predador': 23027, '▁predator': 23028, '▁predicts': 23029, '▁pressões': 23030, '▁prisoner': 23031, '▁prometeu': 23032, '▁proponho': 23033, '▁protects': 23034, '▁publicly': 23035, '▁quadrada': 23036, '▁rabiscos': 23037, '▁rainfall': 23038, '▁rebentar': 23039, '▁recolhem': 23040, '▁relativa': 23041, '▁removing': 23042, '▁repaired': 23043, '▁replicar': 23044, '▁republic': 23045, '▁requerem': 23046, '▁requerer': 23047, '▁resilina': 23048, '▁restrict': 23049, '▁resultam': 23050, '▁reuniram': 23051, '▁rewarded': 23052, '▁richness': 23053, '▁rigorous': 23054, '▁roubadas': 23055, '▁saibamos': 23056, '▁scalable': 23057, '▁scanning': 23058, '▁settings': 23059, '▁shelters': 23060, '▁siblings': 23061, '▁simplest': 23062, '▁simplify': 23063, '▁sneakers': 23064, '▁sondagem': 23065, '▁soubemos': 23066, '▁soubesse': 23067, '▁spelling': 23068, '▁spraying': 23069, '▁sucessos': 23070, '▁sudoeste': 23071, '▁suicidou': 23072, '▁superflu': 23073, '▁surfaces': 23074, '▁survives': 23075, '▁sustenta': 23076, '▁sympathy': 23077, '▁tangível': 23078, '▁terminam': 23079, '▁testamos': 23080, '▁tomarmos': 23081, '▁tomatoes': 23082, '▁treasure': 23083, '▁treinado': 23084, '▁trilhões': 23085, '▁troubled': 23086, '▁typewrit': 23087, '▁unaccept': 23088, '▁underway': 23089, '▁valiosos': 23090, '▁variável': 23091, '▁visually': 23092, '▁vitamina': 23093, '▁válvulas': 23094, '▁warheads': 23095, '▁yosemite': 23096, 'generation': 23097, '▁aceitamos': 23098, '▁achieving': 23099, '▁acompanha': 23100, '▁adaptable': 23101, '▁addiction': 23102, '▁admirável': 23103, '▁airplanes': 23104, '▁altruísta': 23105, '▁ambiguity': 23106, '▁antecipar': 23107, '▁apaixonar': 23108, '▁aplicadas': 23109, '▁apologize': 23110, '▁appealing': 23111, '▁arriscada': 23112, '▁assembled': 23113, '▁atingimos': 23114, '▁automação': 23115, '▁avançadas': 23116, '▁belonging': 23117, '▁beneficia': 23118, '▁biografia': 23119, '▁butterfly': 23120, '▁candidato': 23121, '▁capacitar': 23122, '▁catastrop': 23123, '▁chihuahua': 23124, '▁ciclovias': 23125, '▁classical': 23126, '▁condutora': 23127, '▁confirmed': 23128, '▁confronto': 23129, '▁constrang': 23130, '▁construiu': 23131, '▁contactar': 23132, '▁contacted': 23133, '▁contained': 23134, '▁contentes': 23135, '▁contestar': 23136, '▁contextos': 23137, '▁contornar': 23138, '▁creations': 23139, '▁criptodiv': 23140, '▁crocodilo': 23141, '▁definimos': 23142, '▁depositar': 23143, '▁descansar': 23144, '▁descubram': 23145, '▁desistido': 23146, '▁destinado': 23147, '▁destruído': 23148, '▁dinosaurs': 23149, '▁dinâmicas': 23150, '▁diplomats': 23151, '▁disparate': 23152, '▁distintas': 23153, '▁divididos': 23154, '▁ecológico': 23155, '▁edinburgh': 23156, '▁editorial': 23157, '▁eliminado': 23158, '▁embalagem': 23159, '▁endlessly': 23160, '▁energetic': 23161, '▁enterrado': 23162, '▁entidades': 23163, '▁erradicar': 23164, '▁escombros': 23165, '▁espécimes': 23166, '▁estimular': 23167, '▁evolucion': 23168, '▁excitação': 23169, '▁executivo': 23170, '▁expedição': 23171, '▁feminista': 23172, '▁florestal': 23173, '▁funcionem': 23174, '▁garantido': 23175, '▁gentleman': 23176, '▁greenland': 23177, '▁ignoradas': 23178, '▁imaginado': 23179, '▁implanted': 23180, '▁imunidade': 23181, '▁inclusion': 23182, '▁incluímos': 23183, '▁incomodar': 23184, '▁indicates': 23185, '▁induction': 23186, '▁infraverm': 23187, '▁instances': 23188, '▁integrate': 23189, '▁intensely': 23190, '▁intensive': 23191, '▁intercept': 23192, '▁irmandade': 23193, '▁jogadores': 23194, '▁landmines': 23195, '▁libertada': 23196, '▁longevity': 23197, '▁machinery': 23198, '▁mammalian': 23199, '▁marítimas': 23200, '▁medidores': 23201, '▁megawatts': 23202, '▁memorable': 23203, '▁mistérios': 23204, '▁navigated': 23205, '▁numeracia': 23206, '▁obsession': 23207, '▁obstáculo': 23208, '▁oferecida': 23209, '▁offspring': 23210, '▁paquistan': 23211, '▁partilhei': 23212, '▁partitura': 23213, '▁patologia': 23214, '▁perfeição': 23215, '▁performed': 23216, '▁pleasures': 23217, '▁polarized': 23218, '▁potências': 23219, '▁preparada': 23220, '▁prevalent': 23221, '▁primitive': 23222, '▁produzida': 23223, '▁psicólogo': 23224, '▁puramente': 23225, '▁qualified': 23226, '▁recomendo': 23227, '▁redefinir': 23228, '▁reduzidas': 23229, '▁reflectir': 23230, '▁regressei': 23231, '▁rejection': 23232, '▁repetição': 23233, '▁reproduce': 23234, '▁república': 23235, '▁resisting': 23236, '▁respected': 23237, '▁respondem': 23238, '▁retiramos': 23239, '▁retirarem': 23240, '▁revelaram': 23241, '▁rewilding': 23242, '▁ridicular': 23243, '▁routinely': 23244, '▁sacrifice': 23245, '▁sanguínea': 23246, '▁satisfied': 23247, '▁schooling': 23248, '▁screaming': 23249, '▁serotonin': 23250, '▁sidewalks': 23251, '▁simplista': 23252, '▁sintética': 23253, '▁socioecon': 23254, '▁southwest': 23255, '▁strongest': 23256, '▁sucedidos': 23257, '▁suspended': 23258, '▁tangíveis': 23259, '▁tentarmos': 23260, '▁therapist': 23261, '▁toughness': 23262, '▁trabalhem': 23263, '▁troubling': 23264, '▁unwilling': 23265, '▁utilities': 23266, '▁worldview': 23267, 'fabrication': 23268, '▁aborrecida': 23269, '▁adaptation': 23270, '▁aggressive': 23271, '▁alcançámos': 23272, '▁alimentada': 23273, '▁ambiciosos': 23274, '▁americanas': 23275, '▁analytical': 23276, '▁arquitecto': 23277, '▁assemelhar': 23278, '▁assustados': 23279, '▁aumentando': 23280, '▁autoestima': 23281, '▁barulhento': 23282, '▁biológicas': 23283, '▁britânicas': 23284, '▁caregiving': 23285, '▁celebração': 23286, '▁centímetro': 23287, '▁cognitivas': 23288, '▁complement': 23289, '▁compromise': 23290, '▁concebemos': 23291, '▁conduzimos': 23292, '▁conseguirá': 23293, '▁constituem': 23294, '▁construtor': 23295, '▁consumidor': 23296, '▁contadores': 23297, '▁containers': 23298, '▁counseling': 23299, '▁degradação': 23300, '▁delicadeza': 23301, '▁delivering': 23302, '▁demasiadas': 23303, '▁demografia': 23304, '▁demonstrou': 23305, '▁denisovans': 23306, '▁desenrolar': 23307, '▁devastação': 23308, '▁dinossauro': 23309, '▁disappears': 23310, '▁ecológicas': 23311, '▁eletrónico': 23312, '▁emprestado': 23313, '▁enfermeira': 23314, '▁enterprise': 23315, '▁escondidos': 23316, '▁escrevendo': 23317, '▁escreveram': 23318, '▁espantosos': 23319, '▁expectancy': 23320, '▁explosions': 23321, '▁exposições': 23322, '▁fidelidade': 23323, '▁formidável': 23324, '▁frequently': 23325, '▁fundadores': 23326, '▁gigantesco': 23327, '▁humanities': 23328, '▁imaginable': 23329, '▁imperativo': 23330, '▁infantário': 23331, '▁infinitely': 23332, '▁inflection': 23333, '▁instructor': 23334, '▁interferir': 23335, '▁intermédio': 23336, '▁irrational': 23337, '▁justamente': 23338, '▁leveraging': 23339, '▁liberdades': 23340, '▁mentirosos': 23341, '▁microscopy': 23342, '▁milímetros': 23343, '▁minúsculos': 23344, '▁motivating': 23345, '▁moçambique': 23346, '▁multiplied': 23347, '▁oftentimes': 23348, '▁oppression': 23349, '▁organizado': 23350, '▁outrageous': 23351, '▁passageiro': 23352, '▁penicilina': 23353, '▁penicillin': 23354, '▁perceptual': 23355, '▁performers': 23356, '▁perguntado': 23357, '▁permanecem': 23358, '▁permaneceu': 23359, '▁permitirem': 23360, '▁pesticides': 23361, '▁planificar': 23362, '▁predictive': 23363, '▁previsível': 23364, '▁primórdios': 23365, '▁priorities': 23366, '▁protocolos': 23367, '▁prototypes': 23368, '▁provincial': 23369, '▁psiquiatra': 23370, '▁publicámos': 23371, '▁quinhentos': 23372, '▁recipiente': 23373, '▁reconheçam': 23374, '▁registered': 23375, '▁relevância': 23376, '▁residência': 23377, '▁restraints': 23378, '▁scriptures': 23379, '▁semelhança': 23380, '▁serotonina': 23381, '▁silhouette': 23382, '▁sobreviveu': 23383, '▁statements': 23384, '▁submarinos': 23385, '▁superpower': 23386, '▁supportive': 23387, '▁suspicious': 23388, '▁telefonema': 23389, '▁thankfully': 23390, '▁trajetória': 23391, '▁transistor': 23392, '▁transporta': 23393, '▁unfinished': 23394, '▁usefulness': 23395, '▁utilizados': 23396, '▁utilizamos': 23397, '▁vaccinated': 23398, '▁vegetables': 23399, '▁ventilated': 23400, '▁vizinhança': 23401, '▁wavelength': 23402, '▁yourselves': 23403, '▁accommodate': 23404, '▁acostumados': 23405, '▁administrar': 23406, '▁alucinações': 23407, '▁ambassadors': 23408, '▁ambiguidade': 23409, '▁antigamente': 23410, '▁apaixonados': 23411, '▁aperceberam': 23412, '▁aperfeiçoar': 23413, '▁aprendermos': 23414, '▁apresentado': 23415, '▁arqueólogos': 23416, '▁arquitectos': 23417, '▁assustadora': 23418, '▁autoestrada': 23419, '▁brotherhood': 23420, '▁calculadora': 23421, '▁capacitação': 23422, '▁carpinteiro': 23423, '▁codificadas': 23424, '▁colaborador': 23425, '▁combinações': 23426, '▁comparative': 23427, '▁competentes': 23428, '▁consistente': 23429, '▁consolation': 23430, '▁constituído': 23431, '▁contributed': 23432, '▁conversámos': 23433, '▁corporações': 23434, '▁counterintu': 23435, '▁declaration': 23436, '▁declarações': 23437, '▁democracies': 23438, '▁demonstrado': 23439, '▁desenvolvem': 23440, '▁desinteress': 23441, '▁diferencial': 23442, '▁disciplinas': 23443, '▁distribuída': 23444, '▁efficiently': 23445, '▁eliminating': 23446, '▁enfermeiros': 23447, '▁erradicação': 23448, '▁especulação': 23449, '▁esperávamos': 23450, '▁espirituais': 23451, '▁estimativas': 23452, '▁existential': 23453, '▁experientes': 23454, '▁expetativas': 23455, '▁explicações': 23456, '▁filantropia': 23457, '▁fluctuation': 23458, '▁forgiveness': 23459, '▁hostilidade': 23460, '▁humanidades': 23461, '▁illustrates': 23462, '▁imprudência': 23463, '▁inesperados': 23464, '▁inevitáveis': 23465, '▁interpretem': 23466, '▁interviewed': 23467, '▁involvement': 23468, '▁marinheiros': 23469, '▁microscopic': 23470, '▁modalidades': 23471, '▁multiplicar': 23472, '▁neurogénese': 23473, '▁noninvasive': 23474, '▁normalidade': 23475, '▁operational': 23476, '▁organizados': 23477, '▁passageiros': 23478, '▁pedestrians': 23479, '▁percorremos': 23480, '▁permanently': 23481, '▁pretendemos': 23482, '▁previsíveis': 23483, '▁progression': 23484, '▁progressive': 23485, '▁psicológica': 23486, '▁quarteirões': 23487, '▁quiséssemos': 23488, '▁recommended': 23489, '▁recompensas': 23490, '▁remotamente': 23491, '▁sacrifícios': 23492, '▁satisfeitos': 23493, '▁semelhanças': 23494, '▁sensitivity': 23495, '▁sentimental': 23496, '▁sistemática': 23497, '▁specialists': 23498, '▁superpowers': 23499, '▁telescópios': 23500, '▁temporarily': 23501, '▁transplante': 23502, '▁unconscious': 23503, '▁universally': 23504, '▁unthinkable': 23505, 'idimensionais': 23506, '▁acceleration': 23507, '▁assustadoras': 23508, '▁certificação': 23509, '▁collectively': 23510, '▁compreendida': 23511, '▁concentrados': 23512, '▁confrontados': 23513, '▁considerando': 23514, '▁continuously': 23515, '▁democráticas': 23516, '▁desagradável': 23517, '▁desaparecido': 23518, '▁determinação': 23519, '▁dificilmente': 23520, '▁disfuncional': 23521, '▁empresariais': 23522, '▁exhilarating': 23523, '▁experienciar': 23524, '▁exploradores': 23525, '▁falsificação': 23526, '▁headquarters': 23527, '▁hypothetical': 23528, '▁implementado': 23529, '▁inconsciente': 23530, '▁infidelidade': 23531, '▁intensamente': 23532, '▁interactivos': 23533, '▁interconnect': 23534, '▁intersection': 23535, '▁investigador': 23536, '▁metropolitan': 23537, '▁misericórdia': 23538, '▁mosquiteiros': 23539, '▁notavelmente': 23540, '▁omnipresente': 23541, '▁persistência': 23542, '▁photographed': 23543, '▁planificação': 23544, '▁populacional': 23545, '▁presidencial': 23546, '▁psychiatrist': 23547, '▁quantitative': 23548, '▁recklessness': 23549, '▁recrutamento': 23550, '▁relacionamos': 23551, '▁representada': 23552, '▁reprimitivar': 23553, '▁stratosphere': 23554, '▁tecnológicas': 23555, '▁tecnológicos': 23556, '▁testosterona': 23557, '▁testosterone': 23558, '▁trajectories': 23559, '▁architectural': 23560, '▁authoritarian': 23561, '▁biotechnology': 23562, '▁breakthroughs': 23563, '▁concentration': 23564, '▁considerarmos': 23565, '▁continuamente': 23566, '▁contraception': 23567, '▁decididamente': 23568, '▁desconhecidos': 23569, '▁dysfunctional': 23570, '▁especialidade': 23571, '▁estranhamente': 23572, '▁fertilizantes': 23573, '▁geneticamente': 23574, '▁instinctively': 23575, '▁intentionally': 23576, '▁interpersonal': 23577, '▁interpretação': 23578, '▁manifestações': 23579, '▁manufacturers': 23580, '▁multinational': 23581, '▁multiplicação': 23582, '▁neurotransmit': 23583, '▁proprietários': 23584, '▁revolutionize': 23585, '▁terrivelmente': 23586, '▁transformamos': 23587, '▁vulnerability': 23588, '▁administrative': 23589, '▁classificações': 23590, '▁confiabilidade': 23591, '▁constitutional': 23592, '▁dessalinização': 23593, '▁exclusivamente': 23594, '▁hallucinations': 23595, '▁invisibilidade': 23596, '▁miniaturização': 23597, '▁nanotecnologia': 23598, '▁neurotransmiss': 23599, '▁oftalmologista': 23600, '▁posicionamento': 23601, '▁professionally': 23602, '▁regulamentação': 23603, '▁representantes': 23604, '▁revolucionário': 23605, '▁significativos': 23606, '▁understandable': 23607, '▁automaticamente': 23608, '▁inevitavelmente': 23609, '▁matematicamente': 23610, '▁miniaturization': 23611, '▁presumivelmente': 23612, '▁vulnerabilidade': 23613, '14': 23614, '18': 23615, '29': 23616, '42': 23617, '78': 23618, 'cd': 23619, 'cm': 23620, 'ev': 23621, 'fs': 23622, 'fu': 23623, 'gd': 23624, 'gy': 23625, 'ml': 23626, 'nn': 23627, 'yd': 23628, 'yr': 23629, 'yu': 23630, 'áz': 23631, 'úl': 23632, ':30': 23633, 'aid': 23634, 'aka': 23635, 'amá': 23636, 'apy': 23637, 'asm': 23638, 'auh': 23639, 'avi': 23640, 'beh': 23641, 'cci': 23642, 'cei': 23643, 'cuo': 23644, 'enk': 23645, 'etz': 23646, 'fet': 23647, 'fin': 23648, 'fox': 23649, 'fre': 23650, 'fób': 23651, 'glo': 23652, 'gui': 23653, 'hib': 23654, 'hic': 23655, 'huh': 23656, 'hui': 23657, 'iba': 23658, 'icy': 23659, 'ifs': 23660, 'ilv': 23661, 'ilà': 23662, 'ipe': 23663, 'iry': 23664, 'iso': 23665, 'itm': 23666, 'kar': 23667, 'kcd': 23668, 'luz': 23669, 'mem': 23670, 'mst': 23671, 'nie': 23672, 'ofo': 23673, 'oln': 23674, 'omb': 23675, 'orá': 23676, 'owe': 23677, 'ppy': 23678, 'psi': 23679, 'quo': 23680, 'six': 23681, 'tim': 23682, 'tta': 23683, 'tuo': 23684, 'uci': 23685, 'ulu': 23686, 'uru': 23687, 'vac': 23688, 'was': 23689, 'wid': 23690, 'ycl': 23691, 'you': 23692, 'yps': 23693, 'ésb': 23694, '▁51': 23695, '▁6.': 23696, '▁88': 23697, '▁98': 23698, '▁fg': 23699, '▁hó': 23700, '▁jc': 23701, '▁jd': 23702, '▁jm': 23703, '▁kb': 23704, '▁kh': 23705, '▁ks': 23706, '▁mh': 23707, '▁nn': 23708, '▁rt': 23709, '▁sè': 23710, '▁ww': 23711, '▁xy': 23712, '▁yu': 23713, '▁—-': 23714, 'agan': 23715, 'ahed': 23716, 'aire': 23717, 'alay': 23718, 'alda': 23719, 'alph': 23720, 'anço': 23721, 'arsh': 23722, 'arte': 23723, 'ason': 23724, 'assa': 23725, 'assy': 23726, 'auss': 23727, 'aver': 23728, 'avia': 23729, 'avin': 23730, 'avos': 23731, 'ayed': 23732, 'bear': 23733, 'beis': 23734, 'bell': 23735, 'bian': 23736, 'cely': 23737, 'cran': 23738, 'dled': 23739, 'dopa': 23740, 'econ': 23741, 'edly': 23742, 'elda': 23743, 'ella': 23744, 'enia': 23745, 'enre': 23746, 'ersk': 23747, 'esco': 23748, 'esqu': 23749, 'ethe': 23750, 'fted': 23751, 'ghar': 23752, 'gles': 23753, 'glow': 23754, 'gâng': 23755, 'heem': 23756, 'himi': 23757, 'hire': 23758, 'hole': 23759, 'holy': 23760, 'hors': 23761, 'htag': 23762, 'huhu': 23763, 'iagu': 23764, 'iari': 23765, 'iary': 23766, 'ichi': 23767, 'iere': 23768, 'igan': 23769, 'iman': 23770, 'impí': 23771, 'inoa': 23772, 'itic': 23773, 'izem': 23774, 'jazz': 23775, 'lios': 23776, 'liès': 23777, 'lvia': 23778, 'mass': 23779, 'mile': 23780, 'ndos': 23781, 'nett': 23782, 'ocom': 23783, 'onim': 23784, 'opad': 23785, 'ordo': 23786, 'oros': 23787, 'otas': 23788, 'othy': 23789, 'otiv': 23790, 'ppam': 23791, 'rett': 23792, 'reza': 23793, 'riel': 23794, 'ruir': 23795, 'sche': 23796, 'sequ': 23797, 'sida': 23798, 'turn': 23799, 'uela': 23800, 'uges': 23801, 'urus': 23802, 'vamo': 23803, 'velt': 23804, 'vena': 23805, 'verb': 23806, 'vies': 23807, 'vios': 23808, 'walk': 23809, 'xeis': 23810, 'ycin': 23811, 'yses': 23812, 'água': 23813, 'ávia': 23814, 'ígio': 23815, 'ísca': 23816, 'ócia': 23817, 'óias': 23818, 'óide': 23819, 'úgio': 23820, '▁123': 23821, '▁124': 23822, '▁127': 23823, '▁128': 23824, '▁132': 23825, '▁136': 23826, '▁168': 23827, '▁177': 23828, '▁3,5': 23829, '▁abc': 23830, '▁abu': 23831, '▁amn': 23832, '▁asa': 23833, '▁aze': 23834, '▁baz': 23835, '▁bie': 23836, '▁bov': 23837, '▁cnn': 23838, '▁dip': 23839, '▁dug': 23840, '▁dói': 23841, '▁elo': 23842, '▁fls': 23843, '▁geh': 23844, '▁giz': 23845, '▁gle': 23846, '▁gne': 23847, '▁gnh': 23848, '▁goz': 23849, '▁gym': 23850, '▁hoc': 23851, '▁hod': 23852, '▁hrr': 23853, '▁ion': 23854, '▁ipc': 23855, '▁kaf': 23856, '▁kam': 23857, '▁ker': 23858, '▁kyi': 23859, '▁len': 23860, '▁lex': 23861, '▁lil': 23862, '▁lus': 23863, '▁mrs': 23864, '▁nfl': 23865, '▁nir': 23866, '▁noc': 23867, '▁nít': 23868, '▁orn': 23869, '▁pup': 23870, '▁rez': 23871, '▁rol': 23872, '▁rót': 23873, '▁sis': 23874, '▁sri': 23875, '▁sto': 23876, '▁suu': 23877, '▁sét': 23878, '▁tré': 23879, '▁tvs': 23880, '▁vid': 23881, '▁viú': 23882, '▁vês': 23883, '▁woo': 23884, '▁yak': 23885, '▁yin': 23886, '▁zig': 23887, 'aceit': 23888, 'acial': 23889, 'actic': 23890, 'allas': 23891, 'amine': 23892, 'anded': 23893, 'andos': 23894, 'austo': 23895, 'avors': 23896, 'azing': 23897, 'backs': 23898, 'banon': 23899, 'bitro': 23900, 'built': 23901, 'celos': 23902, 'cidas': 23903, 'click': 23904, 'cloud': 23905, 'confl': 23906, 'creat': 23907, 'cules': 23908, 'drive': 23909, 'ectar': 23910, 'ectoc': 23911, 'emost': 23912, 'entam': 23913, 'entro': 23914, 'erved': 23915, 'esses': 23916, 'feita': 23917, 'ffles': 23918, 'forto': 23919, 'found': 23920, 'garde': 23921, 'gener': 23922, 'giene': 23923, 'icked': 23924, 'icule': 23925, 'idado': 23926, 'ifada': 23927, 'illed': 23928, 'inkra': 23929, 'inois': 23930, 'iovas': 23931, 'irrel': 23932, 'issos': 23933, 'ivale': 23934, 'jante': 23935, 'lined': 23936, 'loves': 23937, 'metic': 23938, 'munic': 23939, 'ocate': 23940, 'oeste': 23941, 'ogurt': 23942, 'ogéne': 23943, 'ompat': 23944, 'onham': 23945, 'onial': 23946, 'onium': 23947, 'orial': 23948, 'ospel': 23949, 'ospil': 23950, 'passa': 23951, 'qaeda': 23952, 'ravio': 23953, 'reach': 23954, 'reiro': 23955, 'reter': 23956, 'rinas': 23957, 'riram': 23958, 'rists': 23959, 'rogen': 23960, 'rotar': 23961, 'roteg': 23962, 'shore': 23963, 'sinai': 23964, 'stock': 23965, 'story': 23966, 'teros': 23967, 'ucose': 23968, 'uddin': 23969, 'urich': 23970, 'utter': 23971, 'viais': 23972, 'vidos': 23973, 'yllis': 23974, 'ypsol': 23975, 'zinho': 23976, 'ídeos': 23977, 'ílios': 23978, 'íssem': 23979, 'óides': 23980, 'ónimo': 23981, 'órica': 23982, 'órida': 23983, 'ótipo': 23984, 'ômbia': 23985, '▁100-': 23986, '▁1200': 23987, '▁1750': 23988, '▁1830': 23989, '▁1840': 23990, '▁1879': 23991, '▁1906': 23992, '▁1914': 23993, '▁1918': 23994, '▁1925': 23995, '▁1939': 23996, '▁1940': 23997, '▁1947': 23998, '▁1951': 23999, '▁1954': 24000, '▁1971': 24001, '▁2060': 24002, '▁abaf': 24003, '▁acam': 24004, '▁acar': 24005, '▁acet': 24006, '▁aero': 24007, '▁afog': 24008, '▁aidg': 24009, '▁amad': 24010, '▁amém': 24011, '▁andy': 24012, '▁angh': 24013, '▁angi': 24014, '▁apof': 24015, '▁apos': 24016, '▁arru': 24017, '▁atar': 24018, '▁auge': 24019, '▁auro': 24020, '▁bags': 24021, '▁bart': 24022, '▁batt': 24023, '▁bauh': 24024, '▁beds': 24025, '▁bern': 24026, '▁bion': 24027, '▁bore': 24028, '▁bowl': 24029, '▁bugs': 24030, '▁cais': 24031, '▁carl': 24032, '▁chir': 24033, '▁cobr': 24034, '▁cogs': 24035, '▁colá': 24036, '▁crem': 24037, '▁crux': 24038, '▁cuba': 24039, '▁davi': 24040, '▁dice': 24041, '▁dizê': 24042, '▁drip': 24043, '▁edim': 24044, '▁efém': 24045, '▁elyn': 24046, '▁empo': 24047, '▁euph': 24048, '▁evoc': 24049, '▁exag': 24050, '▁excl': 24051, '▁eyew': 24052, '▁fade': 24053, '▁feio': 24054, '▁fier': 24055, '▁fina': 24056, '▁fisi': 24057, '▁folh': 24058, '▁foun': 24059, '▁fret': 24060, '▁geol': 24061, '▁glób': 24062, '▁grip': 24063, '▁guts': 24064, '▁hept': 24065, '▁herb': 24066, '▁homs': 24067, '▁html': 24068, '▁ibra': 24069, '▁inal': 24070, '▁juro': 24071, '▁kahn': 24072, '▁kale': 24073, '▁kiln': 24074, '▁knee': 24075, '▁knit': 24076, '▁kung': 24077, '▁lang': 24078, '▁lant': 24079, '▁laos': 24080, '▁leop': 24081, '▁linc': 24082, '▁lith': 24083, '▁loft': 24084, '▁lois': 24085, '▁lump': 24086, '▁lésb': 24087, '▁mali': 24088, '▁masa': 24089, '▁mato': 24090, '▁minh': 24091, '▁mizz': 24092, '▁mola': 24093, '▁moms': 24094, '▁mona': 24095, '▁mori': 24096, '▁nair': 24097, '▁naná': 24098, '▁neil': 24099, '▁neoc': 24100, '▁nons': 24101, '▁nord': 24102, '▁orth': 24103, '▁pern': 24104, '▁pest': 24105, '▁pets': 24106, '▁pins': 24107, '▁pits': 24108, '▁pran': 24109, '▁puma': 24110, '▁pôde': 24111, '▁rank': 24112, '▁rash': 24113, '▁rasp': 24114, '▁reav': 24115, '▁relv': 24116, '▁revi': 24117, '▁rhet': 24118, '▁ribs': 24119, '▁rotc': 24120, '▁salm': 24121, '▁sank': 24122, '▁sans': 24123, '▁sarg': 24124, '▁sinf': 24125, '▁skys': 24126, '▁slim': 24127, '▁smug': 24128, '▁soam': 24129, '▁sued': 24130, '▁sujo': 24131, '▁suor': 24132, '▁syll': 24133, '▁temo': 24134, '▁tese': 24135, '▁thum': 24136, '▁tire': 24137, '▁tune': 24138, '▁tuts': 24139, '▁unch': 24140, '▁unra': 24141, '▁vase': 24142, '▁vera': 24143, '▁vern': 24144, '▁vier': 24145, '▁vine': 24146, '▁vlad': 24147, '▁voam': 24148, '▁whoo': 24149, '▁wong': 24150, '▁wyss': 24151, '▁xkcd': 24152, '▁ying': 24153, 'alaias': 24154, 'alista': 24155, 'atable': 24156, 'atados': 24157, 'change': 24158, 'clique': 24159, 'cobrir': 24160, 'consum': 24161, 'cratic': 24162, 'célula': 24163, 'dinger': 24164, 'ecedor': 24165, 'econds': 24166, 'enberg': 24167, 'enders': 24168, 'engenh': 24169, 'enheim': 24170, 'enreid': 24171, 'enções': 24172, 'eridge': 24173, 'estado': 24174, 'fiança': 24175, 'global': 24176, 'gregor': 24177, 'houses': 24178, 'ileaks': 24179, 'imagin': 24180, 'inging': 24181, 'iramos': 24182, 'israel': 24183, 'itated': 24184, 'mation': 24185, 'nought': 24186, 'ocampo': 24187, 'ofobia': 24188, 'orexia': 24189, 'orking': 24190, 'owners': 24191, 'quinho': 24192, 'racção': 24193, 'ridden': 24194, 'roughs': 24195, 'sharif': 24196, 'stairs': 24197, 'timore': 24198, 'turing': 24199, 'ulares': 24200, 'uleiro': 24201, 'ullate': 24202, 'urgers': 24203, 'utável': 24204, 'vindas': 24205, 'virais': 24206, 'ázquez': 24207, 'énicos': 24208, 'éricos': 24209, 'étrico': 24210, 'íficos': 24211, '▁1,500': 24212, '▁2,500': 24213, '▁3.000': 24214, '▁7,000': 24215, '▁8,000': 24216, '▁aaaaa': 24217, '▁acron': 24218, '▁acted': 24219, '▁aguda': 24220, '▁aires': 24221, '▁allen': 24222, '▁aluna': 24223, '▁alven': 24224, '▁amado': 24225, '▁ammun': 24226, '▁amygd': 24227, '▁anecd': 24228, '▁ataca': 24229, '▁ateus': 24230, '▁avali': 24231, '▁avant': 24232, '▁avari': 24233, '▁backs': 24234, '▁barba': 24235, '▁beans': 24236, '▁beats': 24237, '▁bikes': 24238, '▁bills': 24239, '▁bolos': 24240, '▁bonus': 24241, '▁boone': 24242, '▁boots': 24243, '▁botas': 24244, '▁breed': 24245, '▁bunny': 24246, '▁cader': 24247, '▁caric': 24248, '▁casey': 24249, '▁cerco': 24250, '▁cerve': 24251, '▁charm': 24252, '▁chess': 24253, '▁chove': 24254, '▁clips': 24255, '▁copas': 24256, '▁corps': 24257, '▁crank': 24258, '▁crush': 24259, '▁curie': 24260, '▁daddy': 24261, '▁dalia': 24262, '▁danny': 24263, '▁darpa': 24264, '▁decib': 24265, '▁delin': 24266, '▁denny': 24267, '▁desbl': 24268, '▁desdo': 24269, '▁desol': 24270, '▁deusa': 24271, '▁dicas': 24272, '▁dimit': 24273, '▁ditas': 24274, '▁dolby': 24275, '▁dough': 24276, '▁drums': 24277, '▁duros': 24278, '▁enchê': 24279, '▁escoc': 24280, '▁escul': 24281, '▁ester': 24282, '▁estip': 24283, '▁estra': 24284, '▁estup': 24285, '▁etnia': 24286, '▁euler': 24287, '▁evita': 24288, '▁exams': 24289, '▁exige': 24290, '▁farei': 24291, '▁farto': 24292, '▁fecal': 24293, '▁felix': 24294, '▁feroz': 24295, '▁fills': 24296, '▁finas': 24297, '▁fiéis': 24298, '▁fobia': 24299, '▁fores': 24300, '▁forty': 24301, '▁franz': 24302, '▁freak': 24303, '▁fúria': 24304, '▁gains': 24305, '▁gauss': 24306, '▁gayle': 24307, '▁girou': 24308, '▁glial': 24309, '▁glory': 24310, '▁golfo': 24311, '▁gozar': 24312, '▁grato': 24313, '▁greed': 24314, '▁grelh': 24315, '▁gucci': 24316, '▁guias': 24317, '▁hairs': 24318, '▁hamas': 24319, '▁hanks': 24320, '▁harsh': 24321, '▁hatch': 24322, '▁havoc': 24323, '▁hawai': 24324, '▁hazel': 24325, '▁hemor': 24326, '▁hipér': 24327, '▁hives': 24328, '▁homen': 24329, '▁hover': 24330, '▁hurry': 24331, '▁illeg': 24332, '▁imers': 24333, '▁induz': 24334, '▁injet': 24335, '▁insid': 24336, '▁intit': 24337, '▁iogur': 24338, '▁ipods': 24339, '▁irish': 24340, '▁jails': 24341, '▁jason': 24342, '▁jelly': 24343, '▁joins': 24344, '▁jonas': 24345, '▁jumbo': 24346, '▁kamen': 24347, '▁karen': 24348, '▁lacks': 24349, '▁laden': 24350, '▁lance': 24351, '▁lança': 24352, '▁lapar': 24353, '▁laund': 24354, '▁lewis': 24355, '▁liars': 24356, '▁linux': 24357, '▁lutou': 24358, '▁lyric': 24359, '▁léila': 24360, '▁magna': 24361, '▁magoa': 24362, '▁maltr': 24363, '▁manal': 24364, '▁manga': 24365, '▁mango': 24366, '▁mares': 24367, '▁merce': 24368, '▁moram': 24369, '▁movia': 24370, '▁nadam': 24371, '▁nagas': 24372, '▁nepal': 24373, '▁niece': 24374, '▁ninth': 24375, '▁noted': 24376, '▁obitu': 24377, '▁odeio': 24378, '▁odiar': 24379, '▁ofens': 24380, '▁ohhhh': 24381, '▁olmst': 24382, '▁oncos': 24383, '▁oprah': 24384, '▁orang': 24385, '▁orfan': 24386, '▁oscil': 24387, '▁paley': 24388, '▁palma': 24389, '▁papas': 24390, '▁patag': 24391, '▁pavna': 24392, '▁pedro': 24393, '▁pepsi': 24394, '▁pesar': 24395, '▁piled': 24396, '▁piles': 24397, '▁pinta': 24398, '▁pinto': 24399, '▁pipes': 24400, '▁pixel': 24401, '▁poems': 24402, '▁porte': 24403, '▁ports': 24404, '▁poupa': 24405, '▁preca': 24406, '▁pulls': 24407, '▁puppy': 24408, '▁putin': 24409, '▁pêlos': 24410, '▁query': 24411, '▁rajiv': 24412, '▁ralph': 24413, '▁raras': 24414, '▁raste': 24415, '▁reage': 24416, '▁recap': 24417, '▁recar': 24418, '▁recta': 24419, '▁reign': 24420, '▁reinc': 24421, '▁relie': 24422, '▁remem': 24423, '▁reply': 24424, '▁rescu': 24425, '▁retom': 24426, '▁retra': 24427, '▁rooft': 24428, '▁roose': 24429, '▁rotul': 24430, '▁russa': 24431, '▁résum': 24432, '▁saiam': 24433, '▁saint': 24434, '▁sangr': 24435, '▁scaff': 24436, '▁scans': 24437, '▁scars': 24438, '▁scope': 24439, '▁scrut': 24440, '▁scuba': 24441, '▁secas': 24442, '▁seduz': 24443, '▁serei': 24444, '▁seren': 24445, '▁setas': 24446, '▁setup': 24447, '▁shack': 24448, '▁sheep': 24449, '▁shore': 24450, '▁shura': 24451, '▁sinta': 24452, '▁sixty': 24453, '▁slave': 24454, '▁slept': 24455, '▁socor': 24456, '▁spoof': 24457, '▁stare': 24458, '▁stiff': 24459, '▁surto': 24460, '▁suína': 24461, '▁sword': 24462, '▁synch': 24463, '▁tagar': 24464, '▁temem': 24465, '▁temer': 24466, '▁terei': 24467, '▁tocou': 24468, '▁trago': 24469, '▁trait': 24470, '▁tramp': 24471, '▁trase': 24472, '▁trazê': 24473, '▁trunk': 24474, '▁turno': 24475, '▁twain': 24476, '▁ténue': 24477, '▁unaff': 24478, '▁unfam': 24479, '▁usage': 24480, '▁vague': 24481, '▁vales': 24482, '▁vents': 24483, '▁venue': 24484, '▁versa': 24485, '▁vesta': 24486, '▁voilà': 24487, '▁wages': 24488, '▁warri': 24489, '▁weeds': 24490, '▁whats': 24491, '▁widow': 24492, '▁winds': 24493, '▁yorke': 24494, '▁zetas': 24495, '▁árduo': 24496, '▁âmago': 24497, '▁ópera': 24498, 'almoços': 24499, 'athetic': 24500, 'blowing': 24501, 'chasing': 24502, 'conserv': 24503, 'eleiras': 24504, 'fabrico': 24505, 'ference': 24506, 'graphic': 24507, 'healthy': 24508, 'ifiquei': 24509, 'ilvânia': 24510, 'iscover': 24511, 'ophobia': 24512, 'respect': 24513, 'rofilia': 24514, 'seeking': 24515, 'ulações': 24516, 'written': 24517, 'ycloped': 24518, 'íssimas': 24519, '▁10.000': 24520, '▁11,000': 24521, '▁aboody': 24522, '▁abrevi': 24523, '▁abroad': 24524, '▁abusos': 24525, '▁acorde': 24526, '▁actuar': 24527, '▁aderir': 24528, '▁admito': 24529, '▁adored': 24530, '▁affirm': 24531, '▁airpix': 24532, '▁alicer': 24533, '▁angela': 24534, '▁antigu': 24535, '▁apagar': 24536, '▁apanha': 24537, '▁apocal': 24538, '▁applau': 24539, '▁asleep': 24540, '▁assegu': 24541, '▁atraem': 24542, '▁atraiu': 24543, '▁austen': 24544, '▁azeite': 24545, '▁babush': 24546, '▁baixou': 24547, '▁balcão': 24548, '▁barcos': 24549, '▁barras': 24550, '▁batman': 24551, '▁beijos': 24552, '▁bieber': 24553, '▁billie': 24554, '▁biomed': 24555, '▁bitter': 24556, '▁blades': 24557, '▁boleia': 24558, '▁budrus': 24559, '▁buenos': 24560, '▁buffet': 24561, '▁bêbado': 24562, '▁canopy': 24563, '▁carlos': 24564, '▁carson': 24565, '▁cartel': 24566, '▁casual': 24567, '▁caírem': 24568, '▁chamin': 24569, '▁chegue': 24570, '▁chichi': 24571, '▁chumbo': 24572, '▁chuvas': 24573, '▁ciente': 24574, '▁cleans': 24575, '▁colina': 24576, '▁comets': 24577, '▁commod': 24578, '▁compro': 24579, '▁corros': 24580, '▁crater': 24581, '▁creche': 24582, '▁cruise': 24583, '▁crunch': 24584, '▁culpar': 24585, '▁curtis': 24586, '▁dallas': 24587, '▁defect': 24588, '▁deform': 24589, '▁demons': 24590, '▁denver': 24591, '▁depths': 24592, '▁dermos': 24593, '▁derram': 24594, '▁descem': 24595, '▁detest': 24596, '▁detido': 24597, '▁dissec': 24598, '▁disson': 24599, '▁ditado': 24600, '▁edific': 24601, '▁editar': 24602, '▁edmund': 24603, '▁eighth': 24604, '▁elders': 24605, '▁eleito': 24606, '▁encarn': 24607, '▁encode': 24608, '▁entity': 24609, '▁entrem': 24610, '▁entusi': 24611, '▁envies': 24612, '▁episód': 24613, '▁equity': 24614, '▁espanc': 24615, '▁estudá': 24616, '▁ethnic': 24617, '▁expend': 24618, '▁expuls': 24619, '▁facult': 24620, '▁faiths': 24621, '▁falhei': 24622, '▁fatias': 24623, '▁fizera': 24624, '▁forged': 24625, '▁fotões': 24626, '▁fracos': 24627, '▁freeze': 24628, '▁frenes': 24629, '▁funded': 24630, '▁fundou': 24631, '▁fóruns': 24632, '▁gamble': 24633, '▁geneva': 24634, '▁ginger': 24635, '▁gneezy': 24636, '▁goethe': 24637, '▁gospel': 24638, '▁gossip': 24639, '▁gravel': 24640, '▁grease': 24641, '▁gregos': 24642, '▁grosso': 24643, '▁habits': 24644, '▁haters': 24645, '▁hawken': 24646, '▁hectoc': 24647, '▁hockey': 24648, '▁hondur': 24649, '▁hugely': 24650, '▁hyster': 24651, '▁hábeis': 24652, '▁hélice': 24653, '▁hóquei': 24654, '▁incans': 24655, '▁indign': 24656, '▁infund': 24657, '▁inicio': 24658, '▁instig': 24659, '▁insufl': 24660, '▁interl': 24661, '▁intros': 24662, '▁inward': 24663, '▁irresp': 24664, '▁jardin': 24665, '▁judges': 24666, '▁judith': 24667, '▁julián': 24668, '▁junior': 24669, '▁justos': 24670, '▁juízes': 24671, '▁keller': 24672, '▁khaled': 24673, '▁kimmel': 24674, '▁ladder': 24675, '▁lament': 24676, '▁leslie': 24677, '▁libyan': 24678, '▁listas': 24679, '▁liters': 24680, '▁líbano': 24681, '▁maersk': 24682, '▁mahler': 24683, '▁malnut': 24684, '▁manada': 24685, '▁mandam': 24686, '▁marian': 24687, '▁marlin': 24688, '▁martha': 24689, '▁masses': 24690, '▁memoir': 24691, '▁merkel': 24692, '▁metals': 24693, '▁michal': 24694, '▁millis': 24695, '▁misfit': 24696, '▁mixing': 24697, '▁moholy': 24698, '▁morgan': 24699, '▁motins': 24700, '▁moussa': 24701, '▁multic': 24702, '▁mumbai': 24703, '▁méliès': 24704, '▁namely': 24705, '▁nativa': 24706, '▁nomear': 24707, '▁nozzle': 24708, '▁obtain': 24709, '▁oculus': 24710, '▁ocupam': 24711, '▁odeiam': 24712, '▁ogivas': 24713, '▁olfato': 24714, '▁optics': 24715, '▁outfit': 24716, '▁padron': 24717, '▁papaya': 24718, '▁parava': 24719, '▁partiu': 24720, '▁pastor': 24721, '▁patron': 24722, '▁pequim': 24723, '▁pickup': 24724, '▁pirata': 24725, '▁planal': 24726, '▁plaque': 24727, '▁poised': 24728, '▁poliom': 24729, '▁pollut': 24730, '▁poorly': 24731, '▁poured': 24732, '▁prazos': 24733, '▁preach': 24734, '▁pregui': 24735, '▁prende': 24736, '▁priced': 24737, '▁priest': 24738, '▁prince': 24739, '▁prévio': 24740, '▁punish': 24741, '▁puppet': 24742, '▁pushes': 24743, '▁píxeis': 24744, '▁queixa': 24745, '▁quetta': 24746, '▁quinoa': 24747, '▁rabbit': 24748, '▁raheem': 24749, '▁recome': 24750, '▁refers': 24751, '▁repugn': 24752, '▁resumo': 24753, '▁robbie': 24754, '▁roched': 24755, '▁rodovi': 24756, '▁rospil': 24757, '▁rotate': 24758, '▁rubens': 24759, '▁rígido': 24760, '▁saddam': 24761, '▁saliva': 24762, '▁salvam': 24763, '▁salvos': 24764, '▁santee': 24765, '▁seafar': 24766, '▁seguia': 24767, '▁sentes': 24768, '▁serviu': 24769, '▁sewage': 24770, '▁shoots': 24771, '▁shovel': 24772, '▁skinny': 24773, '▁slaves': 24774, '▁sleeve': 24775, '▁slinky': 24776, '▁smiles': 24777, '▁sociop': 24778, '▁sofria': 24779, '▁spacex': 24780, '▁stacks': 24781, '▁steady': 24782, '▁stockp': 24783, '▁stocks': 24784, '▁storms': 24785, '▁straws': 24786, '▁subaqu': 24787, '▁summed': 24788, '▁surdas': 24789, '▁sylvia': 24790, '▁sèvres': 24791, '▁sérias': 24792, '▁tabaco': 24793, '▁tedmed': 24794, '▁testim': 24795, '▁thirds': 24796, '▁tigres': 24797, '▁tracks': 24798, '▁travis': 24799, '▁travão': 24800, '▁trivia': 24801, '▁trufas': 24802, '▁túmulo': 24803, '▁unesco': 24804, '▁unfair': 24805, '▁unions': 24806, '▁update': 24807, '▁variar': 24808, '▁vascon': 24809, '▁venceu': 24810, '▁veriam': 24811, '▁vermes': 24812, '▁viajou': 24813, '▁vibrar': 24814, '▁virmos': 24815, '▁vitais': 24816, '▁voltas': 24817, '▁walter': 24818, '▁warren': 24819, '▁weaker': 24820, '▁weekly': 24821, '▁wounds': 24822, '▁xadrez': 24823, '▁yields': 24824, '▁yogurt': 24825, '▁íntima': 24826, '▁óptima': 24827, 'breaking': 24828, 'building': 24829, 'ceptions': 24830, 'coreanos': 24831, 'estradas': 24832, 'ferência': 24833, 'ffenreid': 24834, 'gânglios': 24835, 'ifferent': 24836, 'impíadas': 24837, 'jordânia': 24838, 'noughtus': 24839, 'orescent': 24840, 'otherapy': 24841, 'riamente': 24842, 'rophilia': 24843, 'rophobic': 24844, 'rostatic': 24845, 'speaking': 24846, '▁300,000': 24847, '▁abençoe': 24848, '▁acalmar': 24849, '▁acharam': 24850, '▁acordou': 24851, '▁activar': 24852, '▁acusado': 24853, '▁adinkra': 24854, '▁adotado': 24855, '▁adultas': 24856, '▁afetada': 24857, '▁aggress': 24858, '▁agrupar': 24859, '▁airline': 24860, '▁altered': 24861, '▁amarras': 24862, '▁animado': 24863, '▁ansiosa': 24864, '▁ansioso': 24865, '▁anónimo': 24866, '▁apetite': 24867, '▁apontam': 24868, '▁archive': 24869, '▁ateísmo': 24870, '▁atheism': 24871, '▁atletas': 24872, '▁audácia': 24873, '▁balança': 24874, '▁bankers': 24875, '▁barbara': 24876, '▁bauhaus': 24877, '▁beaches': 24878, '▁beatbox': 24879, '▁beatles': 24880, '▁bebidas': 24881, '▁bigodes': 24882, '▁biomass': 24883, '▁bioquím': 24884, '▁biotech': 24885, '▁bizarra': 24886, '▁blindly': 24887, '▁blocked': 24888, '▁bombers': 24889, '▁boomers': 24890, '▁brahimi': 24891, '▁carpete': 24892, '▁carrots': 24893, '▁catalog': 24894, '▁cativar': 24895, '▁caverna': 24896, '▁chagall': 24897, '▁changer': 24898, '▁charley': 24899, '▁cheated': 24900, '▁cheiros': 24901, '▁chocado': 24902, '▁chávena': 24903, '▁cientes': 24904, '▁climbed': 24905, '▁cockpit': 24906, '▁colégio': 24907, '▁cometas': 24908, '▁compará': 24909, '▁compram': 24910, '▁conject': 24911, '▁consert': 24912, '▁contada': 24913, '▁convict': 24914, '▁cooling': 24915, '▁coordin': 24916, '▁corrido': 24917, '▁crafted': 24918, '▁crooked': 24919, '▁darling': 24920, '▁declive': 24921, '▁decorre': 24922, '▁defeito': 24923, '▁deitada': 24924, '▁demoram': 24925, '▁denunci': 24926, '▁deparam': 24927, '▁deposit': 24928, '▁desisti': 24929, '▁destrói': 24930, '▁detects': 24931, '▁detetor': 24932, '▁digitar': 24933, '▁dilemma': 24934, '▁disagre': 24935, '▁discern': 24936, '▁dischar': 24937, '▁dissuas': 24938, '▁disturb': 24939, '▁donated': 24940, '▁dorothy': 24941, '▁dígitos': 24942, '▁eduardo': 24943, '▁edwards': 24944, '▁egípcia': 24945, '▁electro': 24946, '▁eletrão': 24947, '▁elusive': 24948, '▁embassy': 24949, '▁emblema': 24950, '▁enlight': 24951, '▁ensured': 24952, '▁entende': 24953, '▁entrado': 24954, '▁escrevê': 24955, '▁escutei': 24956, '▁escócia': 24957, '▁esmagar': 24958, '▁estarei': 24959, '▁estende': 24960, '▁estrume': 24961, '▁extensa': 24962, '▁faleceu': 24963, '▁fearful': 24964, '▁feridos': 24965, '▁filling': 24966, '▁firefox': 24967, '▁fitting': 24968, '▁fiáveis': 24969, '▁fluidos': 24970, '▁flórida': 24971, '▁foolish': 24972, '▁forgery': 24973, '▁fortuna': 24974, '▁freaked': 24975, '▁fundada': 24976, '▁galileu': 24977, '▁gangsta': 24978, '▁gangues': 24979, '▁gateway': 24980, '▁georges': 24981, '▁gilbert': 24982, '▁glasses': 24983, '▁glucose': 24984, '▁hashtag': 24985, '▁hidrost': 24986, '▁himalay': 24987, '▁holiday': 24988, '▁hostile': 24989, '▁hustles': 24990, '▁hygiene': 24991, '▁ibrahim': 24992, '▁imaginá': 24993, '▁impenet': 24994, '▁impregn': 24995, '▁inaceit': 24996, '▁incerto': 24997, '▁indução': 24998, '▁insegur': 24999, '▁intacto': 25000, '▁iphones': 25001, '▁ireland': 25002, '▁irlanda': 25003, '▁jarrett': 25004, '▁jessica': 25005, '▁karachi': 25006, '▁kidneys': 25007, '▁knocked': 25008, '▁koreans': 25009, '▁lasting': 25010, '▁latente': 25011, '▁learner': 25012, '▁lebanon': 25013, '▁leonard': 25014, '▁levarem': 25015, '▁ligamos': 25016, '▁lincoln': 25017, '▁locally': 25018, '▁logging': 25019, '▁longest': 25020, '▁lutámos': 25021, '▁macular': 25022, '▁mammoth': 25023, '▁manager': 25024, '▁mandato': 25025, '▁manipul': 25026, '▁marcado': 25027, '▁masonry': 25028, '▁massivo': 25029, '▁mataram': 25030, '▁mckenna': 25031, '▁merecia': 25032, '▁mesopot': 25033, '▁meticul': 25034, '▁microns': 25035, '▁minimal': 25036, '▁mizzone': 25037, '▁modesto': 25038, '▁mohamed': 25039, '▁motivar': 25040, '▁movemos': 25041, '▁mudarem': 25042, '▁mutante': 25043, '▁márquez': 25044, '▁nalguma': 25045, '▁nearest': 25046, '▁needles': 25047, '▁nichols': 25048, '▁nirvana': 25049, '▁noventa': 25050, '▁nómadas': 25051, '▁orleans': 25052, '▁orleães': 25053, '▁paragem': 25054, '▁paramed': 25055, '▁pararam': 25056, '▁parámos': 25057, '▁payload': 25058, '▁pegaram': 25059, '▁pegarem': 25060, '▁percebê': 25061, '▁phyllis': 25062, '▁pigeons': 25063, '▁pillars': 25064, '▁pilotos': 25065, '▁pirates': 25066, '▁plunder': 25067, '▁portões': 25068, '▁possuir': 25069, '▁potenci': 25070, '▁prefiro': 25071, '▁presumo': 25072, '▁proclam': 25073, '▁prometi': 25074, '▁protons': 25075, '▁pumping': 25076, '▁purific': 25077, '▁quebrou': 25078, '▁rebelde': 25079, '▁rebuilt': 25080, '▁refúgio': 25081, '▁remonta': 25082, '▁renunci': 25083, '▁reparam': 25084, '▁repeats': 25085, '▁repleto': 25086, '▁retalho': 25087, '▁returns': 25088, '▁rhythms': 25089, '▁risadas': 25090, '▁rodeado': 25091, '▁roubado': 25092, '▁saberia': 25093, '▁salinas': 25094, '▁scarlet': 25095, '▁screwed': 25096, '▁secrecy': 25097, '▁sensata': 25098, '▁sermões': 25099, '▁sessões': 25100, '▁shhhhhh': 25101, '▁shipped': 25102, '▁shriram': 25103, '▁shuffle': 25104, '▁simpson': 25105, '▁skilled': 25106, '▁snowden': 25107, '▁sombria': 25108, '▁spitzer': 25109, '▁sponsor': 25110, '▁springs': 25111, '▁sticker': 25112, '▁strands': 25113, '▁streams': 25114, '▁subsequ': 25115, '▁subsist': 25116, '▁suffers': 25117, '▁summers': 25118, '▁surfing': 25119, '▁swallow': 25120, '▁sweater': 25121, '▁symptom': 25122, '▁síntese': 25123, '▁talents': 25124, '▁tearing': 25125, '▁tememos': 25126, '▁tencion': 25127, '▁ternura': 25128, '▁thunder': 25129, '▁tivémos': 25130, '▁tortura': 25131, '▁trading': 25132, '▁traçado': 25133, '▁turtles': 25134, '▁títulos': 25135, '▁tóxicos': 25136, '▁unified': 25137, '▁uranium': 25138, '▁valiosa': 25139, '▁vasquez': 25140, '▁viewers': 25141, '▁violino': 25142, '▁vizinha': 25143, '▁voltará': 25144, '▁warrant': 25145, '▁wharton': 25146, '▁wooster': 25147, '▁worship': 25148, '▁zimbabu': 25149, '▁zodíaco': 25150, '▁árbitro': 25151, 'iorquinos': 25152, 'knowledge': 25153, 'protected': 25154, 'represent': 25155, '▁abandona': 25156, '▁acusação': 25157, '▁adaptive': 25158, '▁adesivos': 25159, '▁advertis': 25160, '▁airlines': 25161, '▁ajudarem': 25162, '▁alarming': 25163, '▁alcançou': 25164, '▁alliance': 25165, '▁almofada': 25166, '▁analyses': 25167, '▁ancestor': 25168, '▁angariar': 25169, '▁anghiari': 25170, '▁ansiosos': 25171, '▁anunciar': 25172, '▁apanhada': 25173, '▁aplaudir': 25174, '▁aprovado': 25175, '▁archives': 25176, '▁ardentes': 25177, '▁arranjou': 25178, '▁arrepend': 25179, '▁artifact': 25180, '▁asteroid': 25181, '▁atirador': 25182, '▁attended': 25183, '▁attorney': 25184, '▁auditiva': 25185, '▁bankrupt': 25186, '▁beatjazz': 25187, '▁benjamín': 25188, '▁benéfico': 25189, '▁betrayal': 25190, '▁biomassa': 25191, '▁bleeding': 25192, '▁bloggers': 25193, '▁bombarde': 25194, '▁breeding': 25195, '▁bullying': 25196, '▁calendar': 25197, '▁calypsol': 25198, '▁camarões': 25199, '▁campeões': 25200, '▁carpetes': 25201, '▁causadas': 25202, '▁ceremony': 25203, '▁cervical': 25204, '▁chambers': 25205, '▁chamemos': 25206, '▁cheating': 25207, '▁circulam': 25208, '▁clapping': 25209, '▁coherent': 25210, '▁colorido': 25211, '▁colômbia': 25212, '▁comprado': 25213, '▁concerts': 25214, '▁conceção': 25215, '▁concurso': 25216, '▁conheceu': 25217, '▁contando': 25218, '▁contents': 25219, '▁contexts': 25220, '▁convencê': 25221, '▁converte': 25222, '▁corridas': 25223, '▁cortical': 25224, '▁criticar': 25225, '▁damaging': 25226, '▁declined': 25227, '▁defeitos': 25228, '▁delicacy': 25229, '▁derreter': 25230, '▁desapont': 25231, '▁desequil': 25232, '▁desfavor': 25233, '▁detected': 25234, '▁deutsche': 25235, '▁develops': 25236, '▁diamante': 25237, '▁diminuem': 25238, '▁dinâmico': 25239, '▁direcion': 25240, '▁disposta': 25241, '▁disserem': 25242, '▁dizíamos': 25243, '▁doadores': 25244, '▁dolorosa': 25245, '▁doutrina': 25246, '▁dyslexic': 25247, '▁educator': 25248, '▁elevador': 25249, '▁elevator': 25250, '▁emphasis': 25251, '▁employer': 25252, '▁empurrão': 25253, '▁encolheu': 25254, '▁encontrá': 25255, '▁endanger': 25256, '▁enganado': 25257, '▁entitled': 25258, '▁entraram': 25259, '▁entrarem': 25260, '▁entregou': 25261, '▁envision': 25262, '▁epiphany': 25263, '▁equidade': 25264, '▁equipped': 25265, '▁equivale': 25266, '▁escalope': 25267, '▁escandal': 25268, '▁escolham': 25269, '▁escolheu': 25270, '▁esforçar': 25271, '▁esmagado': 25272, '▁estender': 25273, '▁estático': 25274, '▁estética': 25275, '▁evaluate': 25276, '▁evitamos': 25277, '▁execução': 25278, '▁exploded': 25279, '▁extintos': 25280, '▁extraído': 25281, '▁falência': 25282, '▁faríamos': 25283, '▁fechadas': 25284, '▁feminism': 25285, '▁ficariam': 25286, '▁ficheiro': 25287, '▁flooding': 25288, '▁florença': 25289, '▁fluentes': 25290, '▁focarmos': 25291, '▁foremost': 25292, '▁formando': 25293, '▁formaram': 25294, '▁founding': 25295, '▁franklin': 25296, '▁freedoms': 25297, '▁garrafas': 25298, '▁gastámos': 25299, '▁genitais': 25300, '▁geopolit': 25301, '▁gestores': 25302, '▁goldberg': 25303, '▁gorgeous': 25304, '▁governed': 25305, '▁grasshop': 25306, '▁griselda': 25307, '▁grávidas': 25308, '▁homeland': 25309, '▁illinois': 25310, '▁impacted': 25311, '▁imperial': 25312, '▁incluído': 25313, '▁incompat': 25314, '▁indígena': 25315, '▁instalei': 25316, '▁intermit': 25317, '▁intifada': 25318, '▁invasive': 25319, '▁inúmeros': 25320, '▁irrevers': 25321, '▁islândia': 25322, '▁jamaican': 25323, '▁japonesa': 25324, '▁kahneman': 25325, '▁labrador': 25326, '▁laparosc': 25327, '▁legítimo': 25328, '▁lembrava': 25329, '▁listener': 25330, '▁livraria': 25331, '▁mantendo': 25332, '▁marinhos': 25333, '▁marketer': 25334, '▁mastered': 25335, '▁meanings': 25336, '▁mexicana': 25337, '▁microfin': 25338, '▁minerais': 25339, '▁minimize': 25340, '▁mistrust': 25341, '▁misturam': 25342, '▁mitchell': 25343, '▁modified': 25344, '▁monocult': 25345, '▁monument': 25346, '▁mostrada': 25347, '▁mostrava': 25348, '▁motivado': 25349, '▁máscaras': 25350, '▁múltipla': 25351, '▁nagasaki': 25352, '▁nascidos': 25353, '▁nervosas': 25354, '▁neurológ': 25355, '▁nicholas': 25356, '▁nitrogen': 25357, '▁nonsense': 25358, '▁nordeste': 25359, '▁observer': 25360, '▁obsoleto': 25361, '▁offshore': 25362, '▁operador': 25363, '▁opressão': 25364, '▁optimize': 25365, '▁oratória': 25366, '▁paralelo': 25367, '▁paranoia': 25368, '▁paraplég': 25369, '▁passadas': 25370, '▁pathetic': 25371, '▁paviment': 25372, '▁picquart': 25373, '▁pigments': 25374, '▁pioneiro': 25375, '▁piratear': 25376, '▁plutónio': 25377, '▁politely': 25378, '▁polímero': 25379, '▁pontiagu': 25380, '▁preacher': 25381, '▁preenche': 25382, '▁preferia': 25383, '▁prejudic': 25384, '▁preparei': 25385, '▁presents': 25386, '▁prevents': 25387, '▁princesa': 25388, '▁procurei': 25389, '▁proibido': 25390, '▁protetor': 25391, '▁provider': 25392, '▁provocou': 25393, '▁práticos': 25394, '▁punished': 25395, '▁pusermos': 25396, '▁quartile': 25397, '▁reacções': 25398, '▁readings': 25399, '▁realizes': 25400, '▁receiver': 25401, '▁reclamar': 25402, '▁recorrer': 25403, '▁recreate': 25404, '▁recrutar': 25405, '▁reflects': 25406, '▁reforçar': 25407, '▁registry': 25408, '▁rejected': 25409, '▁rejeitar': 25410, '▁reprodut': 25411, '▁requests': 25412, '▁respects': 25413, '▁revistas': 25414, '▁rhetoric': 25415, '▁ridícula': 25416, '▁rigoroso': 25417, '▁robinson': 25418, '▁roedores': 25419, '▁salaries': 25420, '▁secretos': 25421, '▁semester': 25422, '▁semestre': 25423, '▁sensibil': 25424, '▁sensível': 25425, '▁sergeant': 25426, '▁sessions': 25427, '▁simetria': 25428, '▁sobrecar': 25429, '▁sobrinha': 25430, '▁souberam': 25431, '▁squirrel': 25432, '▁stimulus': 25433, '▁strapped': 25434, '▁stumbled': 25435, '▁sugestão': 25436, '▁sujeitas': 25437, '▁suspensa': 25438, '▁symphony': 25439, '▁tranquil': 25440, '▁ultravio': 25441, '▁unsatisf': 25442, '▁unstable': 25443, '▁vendidas': 25444, '▁veterano': 25445, '▁vivermos': 25446, '▁vladimir': 25447, '▁wearable': 25448, '▁weekends': 25449, '▁windmill': 25450, 'anciamento': 25451, 'ustainable': 25452, 'ustentável': 25453, '▁abandonou': 25454, '▁academics': 25455, '▁accepting': 25456, '▁aceitaram': 25457, '▁acordamos': 25458, '▁acreditou': 25459, '▁activated': 25460, '▁acusações': 25461, '▁adaptaram': 25462, '▁addressed': 25463, '▁adivinhem': 25464, '▁adulthood': 25465, '▁afastados': 25466, '▁afastamos': 25467, '▁afterglow': 25468, '▁alavancas': 25469, '▁alexandre': 25470, '▁alvenaria': 25471, '▁amarrados': 25472, '▁ampullate': 25473, '▁analogous': 25474, '▁analítico': 25475, '▁anestesia': 25476, '▁anunciado': 25477, '▁apanhados': 25478, '▁apanhamos': 25479, '▁appointed': 25480, '▁apresentá': 25481, '▁aproximam': 25482, '▁artesanal': 25483, '▁atingidos': 25484, '▁atribuída': 25485, '▁attackers': 25486, '▁balancing': 25487, '▁baltimore': 25488, '▁benefited': 25489, '▁bloomberg': 25490, '▁bluegrass': 25491, '▁breakdown': 25492, '▁broadband': 25493, '▁burroughs': 25494, '▁caminhada': 25495, '▁campainha': 25496, '▁canadiano': 25497, '▁capturing': 25498, '▁cardiopad': 25499, '▁cardiovas': 25500, '▁carreiras': 25501, '▁carrinhos': 25502, '▁ceasefire': 25503, '▁celulares': 25504, '▁cerimónia': 25505, '▁certainty': 25506, '▁christine': 25507, '▁cinquenta': 25508, '▁cinzentas': 25509, '▁claridade': 25510, '▁coleridge': 25511, '▁companion': 25512, '▁concebida': 25513, '▁condenado': 25514, '▁confessar': 25515, '▁confiável': 25516, '▁confundir': 25517, '▁considera': 25518, '▁constitui': 25519, '▁contradit': 25520, '▁contratar': 25521, '▁convenção': 25522, '▁converted': 25523, '▁convicção': 25524, '▁convidada': 25525, '▁convidado': 25526, '▁copenhaga': 25527, '▁corajosas': 25528, '▁correctos': 25529, '▁counselor': 25530, '▁curvatura': 25531, '▁databases': 25532, '▁decentral': 25533, '▁declining': 25534, '▁delicioso': 25535, '▁delusions': 25536, '▁deprimido': 25537, '▁descartes': 25538, '▁descrimin': 25539, '▁designado': 25540, '▁desperceb': 25541, '▁desproteg': 25542, '▁detectors': 25543, '▁diferenci': 25544, '▁dinamarca': 25545, '▁diretores': 25546, '▁discussed': 25547, '▁dismissed': 25548, '▁distintos': 25549, '▁dramática': 25550, '▁edimburgo': 25551, '▁embarquei': 25552, '▁emphasize': 25553, '▁encantado': 25554, '▁engraçada': 25555, '▁ensinamos': 25556, '▁entendido': 25557, '▁envelhece': 25558, '▁eradicate': 25559, '▁espalhada': 25560, '▁espalhado': 25561, '▁esperavam': 25562, '▁esperemos': 25563, '▁espíritos': 25564, '▁estupidez': 25565, '▁estáticos': 25566, '▁etheridge': 25567, '▁evangelho': 25568, '▁evidencia': 25569, '▁expliquei': 25570, '▁explorers': 25571, '▁feminismo': 25572, '▁forbidden': 25573, '▁fotovolta': 25574, '▁fotógrafa': 25575, '▁francesca': 25576, '▁gafanhoto': 25577, '▁generates': 25578, '▁geografia': 25579, '▁geography': 25580, '▁grandioso': 25581, '▁gratuitas': 25582, '▁gravações': 25583, '▁headaches': 25584, '▁highlands': 25585, '▁himalaias': 25586, '▁hipocampo': 25587, '▁horrified': 25588, '▁hostility': 25589, '▁iluminado': 25590, '▁immersive': 25591, '▁imperfect': 25592, '▁indicated': 25593, '▁indicação': 25594, '▁infelizes': 25595, '▁infiltrar': 25596, '▁inocência': 25597, '▁inscrever': 25598, '▁inspected': 25599, '▁instância': 25600, '▁intervalo': 25601, '▁intuitive': 25602, '▁invenções': 25603, '▁involving': 25604, '▁islamitas': 25605, '▁judgments': 25606, '▁levantado': 25607, '▁libraries': 25608, '▁lightning': 25609, '▁macgregor': 25610, '▁masculine': 25611, '▁massively': 25612, '▁miserable': 25613, '▁modificar': 25614, '▁monumento': 25615, '▁moradores': 25616, '▁mostrarem': 25617, '▁mysteries': 25618, '▁necessity': 25619, '▁networked': 25620, '▁obcecados': 25621, '▁observing': 25622, '▁oppressed': 25623, '▁oprimidos': 25624, '▁partially': 25625, '▁pathogens': 25626, '▁pedestres': 25627, '▁penetrate': 25628, '▁pequenina': 25629, '▁plutonium': 25630, '▁portfolio': 25631, '▁powerless': 25632, '▁practiced': 25633, '▁precaução': 25634, '▁predators': 25635, '▁pressures': 25636, '▁pretendem': 25637, '▁pronúncia': 25638, '▁protocols': 25639, '▁psicótica': 25640, '▁publicada': 25641, '▁querermos': 25642, '▁radiohead': 25643, '▁raisuddin': 25644, '▁razoáveis': 25645, '▁reception': 25646, '▁reconcile': 25647, '▁recusaram': 25648, '▁reduzimos': 25649, '▁refeições': 25650, '▁regressou': 25651, '▁relaciona': 25652, '▁relembrar': 25653, '▁repararem': 25654, '▁reservoir': 25655, '▁resonance': 25656, '▁restaurar': 25657, '▁resulting': 25658, '▁retention': 25659, '▁revealing': 25660, '▁riverside': 25661, '▁roosevelt': 25662, '▁scripture': 25663, '▁secondary': 25664, '▁seductive': 25665, '▁sentinela': 25666, '▁sequenced': 25667, '▁seriedade': 25668, '▁shoulders': 25669, '▁simulated': 25670, '▁sinalizar': 25671, '▁startling': 25672, '▁strangely': 25673, '▁subsídios': 25674, '▁successes': 25675, '▁sugerindo': 25676, '▁suposição': 25677, '▁tabuleiro': 25678, '▁tedglobal': 25679, '▁temperate': 25680, '▁testament': 25681, '▁traseiras': 25682, '▁tribunais': 25683, '▁undermine': 25684, '▁unhealthy': 25685, '▁unicórnio': 25686, '▁unnatural': 25687, '▁varieties': 25688, '▁velázquez': 25689, '▁venezuela': 25690, '▁verificou': 25691, '▁vestuário': 25692, '▁viajantes': 25693, '▁violentos': 25694, '▁vislumbre': 25695, '▁warehouse': 25696, '▁wikileaks': 25697, '▁woodstock': 25698, '▁worthless': 25699, '▁zonamento': 25700, 'eterminação': 25701, '▁acompanham': 25702, '▁acontecera': 25703, '▁activating': 25704, '▁advocating': 25705, '▁afirmações': 25706, '▁agradáveis': 25707, '▁alienígena': 25708, '▁alojamento': 25709, '▁altruistic': 25710, '▁ammunition': 25711, '▁analisámos': 25712, '▁anatomical': 25713, '▁angariação': 25714, '▁approached': 25715, '▁arrogância': 25716, '▁astonished': 25717, '▁attraction': 25718, '▁attributed': 25719, '▁aumentaram': 25720, '▁automation': 25721, '▁automotive': 25722, '▁babylonian': 25723, '▁biofabrico': 25724, '▁blueprints': 25725, '▁britânicos': 25726, '▁centimeter': 25727, '▁charleston': 25728, '▁climáticos': 25729, '▁compartilh': 25730, '▁concebidos': 25731, '▁conduziram': 25732, '▁confrontos': 25733, '▁conquistar': 25734, '▁conscience': 25735, '▁conscienci': 25736, '▁consideram': 25737, '▁consulting': 25738, '▁convenient': 25739, '▁conversely': 25740, '▁conviction': 25741, '▁copenhagen': 25742, '▁corporação': 25743, '▁correlated': 25744, '▁correlação': 25745, '▁cruzamento': 25746, '▁cuidadores': 25747, '▁cultivamos': 25748, '▁currículos': 25749, '▁danificada': 25750, '▁definitive': 25751, '▁depressing': 25752, '▁desafiante': 25753, '▁descentral': 25754, '▁devastador': 25755, '▁diminuíram': 25756, '▁diplomatas': 25757, '▁discipline': 25758, '▁discomfort': 25759, '▁discussing': 25760, '▁disgusting': 25761, '▁driverless': 25762, '▁eliminated': 25763, '▁empréstimo': 25764, '▁encantador': 25765, '▁encontrada': 25766, '▁encontramo': 25767, '▁encycloped': 25768, '▁envolvendo': 25769, '▁enxaquecas': 25770, '▁escolherem': 25771, '▁escolhidos': 25772, '▁esmagadora': 25773, '▁espantosas': 25774, '▁esquecerei': 25775, '▁estudiosos': 25776, '▁exploramos': 25777, '▁extremismo': 25778, '▁firmemente': 25779, '▁fornecedor': 25780, '▁fragmentos': 25781, '▁frustrante': 25782, '▁gigantesca': 25783, '▁habitações': 25784, '▁headphones': 25785, '▁homosexual': 25786, '▁huntington': 25787, '▁ignorantes': 25788, '▁imaginamos': 25789, '▁impotentes': 25790, '▁impressões': 25791, '▁imunitária': 25792, '▁incompleta': 25793, '▁inesperada': 25794, '▁influencia': 25795, '▁ingredient': 25796, '▁inorgânica': 25797, '▁interessei': 25798, '▁interpesso': 25799, '▁inventaram': 25800, '▁inventions': 25801, '▁invitation': 25802, '▁irracional': 25803, '▁landscapes': 25804, '▁liberating': 25805, '▁libertamos': 25806, '▁linfáticos': 25807, '▁livelihood': 25808, '▁localizado': 25809, '▁localmente': 25810, '▁lucrativos': 25811, '▁mapeamento': 25812, '▁marcadores': 25813, '▁misterioso': 25814, '▁modalities': 25815, '▁motivações': 25816, '▁mozambique': 25817, '▁necrofilia': 25818, '▁obligation': 25819, '▁observador': 25820, '▁oncosearch': 25821, '▁organizada': 25822, '▁passadeira': 25823, '▁perceberem': 25824, '▁perfection': 25825, '▁pergaminho': 25826, '▁pesquisado': 25827, '▁possibilit': 25828, '▁predadores': 25829, '▁predicting': 25830, '▁prejudicar': 25831, '▁preparadas': 25832, '▁presidents': 25833, '▁prevention': 25834, '▁profitable': 25835, '▁projetarem': 25836, '▁psicólogos': 25837, '▁questioned': 25838, '▁questionei': 25839, '▁randomness': 25840, '▁reciclagem': 25841, '▁recovering': 25842, '▁relacionam': 25843, '▁repeatedly': 25844, '▁resolvidas': 25845, '▁respectful': 25846, '▁revelation': 25847, '▁sacrifices': 25848, '▁seamlessly': 25849, '▁signatures': 25850, '▁simulações': 25851, '▁strawberry': 25852, '▁strengthen': 25853, '▁structured': 25854, '▁suggestion': 25855, '▁superiores': 25856, '▁talentosos': 25857, '▁telescopes': 25858, '▁translates': 25859, '▁traumático': 25860, '▁typewriter': 25861, '▁ultrapassa': 25862, '▁unfamiliar': 25863, '▁utilizadas': 25864, '▁vertically': 25865, '▁voltaremos': 25866, '▁workplaces': 25867, 'acionalmente': 25868, '▁aborrecidos': 25869, '▁acreditarem': 25870, '▁actividades': 25871, '▁adolescents': 25872, '▁arqueologia': 25873, '▁aspirations': 25874, '▁atendimento': 25875, '▁bibliotecas': 25876, '▁bloodstream': 25877, '▁catastrophe': 25878, '▁celebrating': 25879, '▁centrifuges': 25880, '▁chromosomes': 25881, '▁circulation': 25882, '▁cisjordânia': 25883, '▁coincidence': 25884, '▁compression': 25885, '▁conclusions': 25886, '▁concordaram': 25887, '▁conhecíamos': 25888, '▁conselheiro': 25889, '▁consistency': 25890, '▁continually': 25891, '▁contradição': 25892, '▁controversy': 25893, '▁correctness': 25894, '▁credibility': 25895, '▁cromossomas': 25896, '▁cruzamentos': 25897, '▁degradation': 25898, '▁desesperada': 25899, '▁devastation': 25900, '▁dicionários': 25901, '▁digitalizar': 25902, '▁eficazmente': 25903, '▁electrónico': 25904, '▁eletrónicos': 25905, '▁encorajamos': 25906, '▁enfermeiras': 25907, '▁engrenagens': 25908, '▁enlouquecer': 25909, '▁enterprises': 25910, '▁equilibrado': 25911, '▁erradamente': 25912, '▁escolheriam': 25913, '▁escolhermos': 25914, '▁exclusively': 25915, '▁existencial': 25916, '▁expectativa': 25917, '▁extremistas': 25918, '▁fascination': 25919, '▁fertilizers': 25920, '▁filosóficos': 25921, '▁flourishing': 25922, '▁frantically': 25923, '▁funcionaram': 25924, '▁highlighted': 25925, '▁hydrostatic': 25926, '▁ilustrações': 25927, '▁impossíveis': 25928, '▁incremental': 25929, '▁inefficient': 25930, '▁inesperadas': 25931, '▁ingrediente': 25932, '▁intencional': 25933, '▁interativos': 25934, '▁interligado': 25935, '▁interrogate': 25936, '▁intimamente': 25937, '▁linguística': 25938, '▁modificadas': 25939, '▁necrophilia': 25940, '▁nonviolence': 25941, '▁noticiários': 25942, '▁overwhelmed': 25943, '▁partilhadas': 25944, '▁partilhando': 25945, '▁pensilvânia': 25946, '▁percebermos': 25947, '▁perguntando': 25948, '▁perguntasse': 25949, '▁perseguição': 25950, '▁perturbador': 25951, '▁portugueses': 25952, '▁possibilita': 25953, '▁prejudicial': 25954, '▁provocative': 25955, '▁psiquiatras': 25956, '▁publication': 25957, '▁reconhecido': 25958, '▁referências': 25959, '▁relacionada': 25960, '▁residential': 25961, '▁secundários': 25962, '▁simulations': 25963, '▁soubéssemos': 25964, '▁speculation': 25965, '▁superrabbit': 25966, '▁sustentação': 25967, '▁testemunhei': 25968, '▁threatening': 25969, '▁trajetórias': 25970, '▁transportam': 25971, '▁ultrapassou': 25972, '▁utilitarian': 25973, '▁valorizamos': 25974, '▁vasconcelos': 25975, '▁velocidades': 25976, '▁ventilation': 25977, '▁verificámos': 25978, 'determination': 25979, '▁achievements': 25980, '▁adolescência': 25981, '▁attenborough': 25982, '▁automontagem': 25983, '▁breadwinners': 25984, '▁civilizações': 25985, '▁compromissos': 25986, '▁concentrated': 25987, '▁connectivity': 25988, '▁consciencial': 25989, '▁consideremos': 25990, '▁constipações': 25991, '▁constructing': 25992, '▁contaminação': 25993, '▁contracepção': 25994, '▁convincentes': 25995, '▁corporativos': 25996, '▁correspondem': 25997, '▁criptografia': 25998, '▁cryptography': 25999, '▁demonstraram': 26000, '▁descodificar': 26001, '▁desperdícios': 26002, '▁desvalorizar': 26003, '▁diapositivos': 26004, '▁differential': 26005, '▁displacement': 26006, '▁documentário': 26007, '▁economically': 26008, '▁embarrassing': 26009, '▁envelhecemos': 26010, '▁envergonhado': 26011, '▁estratosfera': 26012, '▁frankenstein': 26013, '▁generalizado': 26014, '▁gratefulness': 26015, '▁humanitários': 26016, '▁illuminating': 26017, '▁impressionou': 26018, '▁imprevisível': 26019, '▁inflammation': 26020, '▁insecticides': 26021, '▁interligadas': 26022, '▁interviewing': 26023, '▁manipulating': 26024, '▁manufactured': 26025, '▁manufacturer': 26026, '▁mechanically': 26027, '▁microfluidos': 26028, '▁nanoparticle': 26029, '▁neurological': 26030, '▁parcialmente': 26031, '▁peterborough': 26032, '▁poliomielite': 26033, '▁popularidade': 26034, '▁pressupostos': 26035, '▁proporcional': 26036, '▁proporcionam': 26037, '▁proportional': 26038, '▁proprietário': 26039, '▁qualificados': 26040, '▁rastreamento': 26041, '▁refrigerator': 26042, '▁reproductive': 26043, '▁reservatório': 26044, '▁reutilizável': 26045, '▁satisfaction': 26046, '▁scholarships': 26047, '▁significados': 26048, '▁similarities': 26049, '▁sobrevivente': 26050, '▁sofisticadas': 26051, '▁transcrições': 26052, '▁transportado': 26053, '▁unacceptable': 26054, '▁unexpectedly': 26055, '▁acrescentando': 26056, '▁aleatoriedade': 26057, '▁automatically': 26058, '▁compreenderam': 26059, '▁computational': 26060, '▁consideration': 26061, '▁contradiction': 26062, '▁contribuições': 26063, '▁contributions': 26064, '▁convencionais': 26065, '▁correctamente': 26066, '▁degraffenreid': 26067, '▁desnecessário': 26068, '▁diagnosticada': 26069, '▁dreadnoughtus': 26070, '▁embarrassment': 26071, '▁espetaculares': 26072, '▁farmacêuticas': 26073, '▁habitualmente': 26074, '▁identificação': 26075, '▁illustrations': 26076, '▁inspirational': 26077, '▁investigating': 26078, '▁investigações': 26079, '▁mecanicamente': 26080, '▁mediterranean': 26081, '▁misunderstood': 26082, '▁monitorização': 26083, '▁nanopartícula': 26084, '▁participatory': 26085, '▁pesquisadores': 26086, '▁psychiatrists': 26087, '▁psychologists': 26088, '▁reconstructed': 26089, '▁representados': 26090, '▁representavam': 26091, '▁spontaneously': 26092, '▁transformador': 26093, '▁transformaram': 26094, '▁unsustainable': 26095, '▁acidentalmente': 26096, '▁biofabrication': 26097, '▁constitucional': 26098, '▁correspondente': 26099, '▁encontrássemos': 26100, '▁entretenimento': 26101, '▁espantosamente': 26102, '▁gravitacionais': 26103, '▁implementation': 26104, '▁interpretation': 26105, '▁multiplication': 26106, '▁personalidades': 26107, '▁reconstructing': 26108, '▁representações': 26109, '▁transferências': 26110, '▁underestimated': 26111, '▁universalmente': 26112, '▁correspondência': 26113, '▁desconfortáveis': 26114, '▁extraordinarily': 26115, '▁instantaneously': 26116, '▁micrometeorites': 26117, '▁micrometeoritos': 26118, '▁representatives': 26119, '▁temporariamente': 26120, ',8': 26121, '.-': 26122, '02': 26123, '28': 26124, 'aj': 26125, 'cá': 26126, 'fc': 26127, 'fá': 26128, 'hl': 26129, 'oy': 26130, 'rg': 26131, '▁́': 26132, '100': 26133, 'aba': 26134, 'abs': 26135, 'atl': 26136, 'avo': 26137, 'avs': 26138, 'avô': 26139, 'aye': 26140, 'azy': 26141, 'bao': 26142, 'bas': 26143, 'bee': 26144, 'bua': 26145, 'cat': 26146, 'chi': 26147, 'cop': 26148, 'cou': 26149, 'ctu': 26150, 'cun': 26151, 'dog': 26152, 'equ': 26153, 'esi': 26154, 'fim': 26155, 'ggy': 26156, 'hem': 26157, 'hey': 26158, 'iah': 26159, 'ibr': 26160, 'inn': 26161, 'ité': 26162, 'kil': 26163, 'lit': 26164, 'lla': 26165, 'lob': 26166, 'mom': 26167, 'not': 26168, 'ogy': 26169, 'olu': 26170, 'oly': 26171, 'osé': 26172, 'otá': 26173, 'ova': 26174, 'pah': 26175, 'pho': 26176, 'pus': 26177, 'raf': 26178, 'rap': 26179, 'rik': 26180, 'rue': 26181, 'saw': 26182, 'sim': 26183, 'som': 26184, 'top': 26185, 'tor': 26186, 'tou': 26187, 'tro': 26188, 'uem': 26189, 'ugs': 26190, 'upo': 26191, 'utz': 26192, 'vah': 26193, 'whe': 26194, 'wig': 26195, 'çal': 26196, 'éia': 26197, 'ípt': 26198, '▁59': 26199, '▁ja': 26200, '▁lã': 26201, '▁np': 26202, '▁ny': 26203, '▁oo': 26204, '▁sq': 26205, '▁xi': 26206, 'acha': 26207, 'agás': 26208, 'aise': 26209, 'alor': 26210, 'ango': 26211, 'anne': 26212, 'anso': 26213, 'anut': 26214, 'arty': 26215, 'asso': 26216, 'atus': 26217, 'bery': 26218, 'bito': 26219, 'bole': 26220, 'bone': 26221, 'bons': 26222, 'bulo': 26223, 'burn': 26224, 'cart': 26225, 'chup': 26226, 'crib': 26227, 'east': 26228, 'ebra': 26229, 'edia': 26230, 'eing': 26231, 'eiri': 26232, 'elem': 26233, 'ello': 26234, 'elor': 26235, 'emes': 26236, 'enne': 26237, 'enth': 26238, 'ergy': 26239, 'eros': 26240, 'erts': 26241, 'esty': 26242, 'feed': 26243, 'gher': 26244, 'grav': 26245, 'grow': 26246, 'hill': 26247, 'home': 26248, 'hora': 26249, 'ijam': 26250, 'illy': 26251, 'inee': 26252, 'inge': 26253, 'ingo': 26254, 'inia': 26255, 'ioca': 26256, 'isan': 26257, 'isas': 26258, 'izei': 26259, 'izer': 26260, 'nals': 26261, 'nard': 26262, 'odem': 26263, 'olly': 26264, 'ondo': 26265, 'onex': 26266, 'onna': 26267, 'oses': 26268, 'otip': 26269, 'otle': 26270, 'ousy': 26271, 'plet': 26272, 'plor': 26273, 'proc': 26274, 'psia': 26275, 'quio': 26276, 'racy': 26277, 'rent': 26278, 'riba': 26279, 'rido': 26280, 'rolo': 26281, 'shit': 26282, 'tman': 26283, 'tron': 26284, 'ucos': 26285, 'ufas': 26286, 'ugal': 26287, 'uled': 26288, 'uosa': 26289, 'urei': 26290, 'urem': 26291, 'uret': 26292, 'usos': 26293, 'wall': 26294, 'wich': 26295, 'worm': 26296, 'xter': 26297, 'ívoc': 26298, '▁1.6': 26299, '▁11/': 26300, '▁14-': 26301, '▁15-': 26302, '▁17-': 26303, '▁17.': 26304, '▁170': 26305, '▁172': 26306, '▁2,7': 26307, '▁470': 26308, '▁50/': 26309, '▁80-': 26310, '▁abe': 26311, '▁ape': 26312, '▁aur': 26313, '▁bop': 26314, '▁buf': 26315, '▁bên': 26316, '▁cac': 26317, '▁cdc': 26318, '▁ceg': 26319, '▁cet': 26320, '▁coh': 26321, '▁cus': 26322, '▁côn': 26323, '▁diy': 26324, '▁duz': 26325, '▁fax': 26326, '▁fof': 26327, '▁fos': 26328, '▁gim': 26329, '▁jab': 26330, '▁kay': 26331, '▁kol': 26332, '▁maz': 26333, '▁mmm': 26334, '▁moi': 26335, '▁nag': 26336, '▁nap': 26337, '▁nih': 26338, '▁ont': 26339, '▁pow': 26340, '▁riu': 26341, '▁riv': 26342, '▁sha': 26343, '▁sib': 26344, '▁sno': 26345, '▁toe': 26346, '▁tox': 26347, '▁tul': 26348, '▁zoo': 26349, '▁étn': 26350, '▁órf': 26351, 'adder': 26352, 'ahili': 26353, 'ained': 26354, 'antas': 26355, 'aranh': 26356, 'asant': 26357, 'astro': 26358, 'atada': 26359, 'atile': 26360, 'avers': 26361, 'azana': 26362, 'azzar': 26363, 'barde': 26364, 'beria': 26365, 'blood': 26366, 'bread': 26367, 'brevi': 26368, 'canad': 26369, 'ceras': 26370, 'citos': 26371, 'count': 26372, 'cracy': 26373, 'dense': 26374, 'digit': 26375, 'duzir': 26376, 'eciam': 26377, 'edged': 26378, 'elect': 26379, 'enais': 26380, 'endor': 26381, 'ensos': 26382, 'estat': 26383, 'estru': 26384, 'first': 26385, 'foria': 26386, 'forms': 26387, 'fting': 26388, 'gados': 26389, 'gebra': 26390, 'hanço': 26391, 'hidro': 26392, 'holes': 26393, 'iclop': 26394, 'idora': 26395, 'ifico': 26396, 'ights': 26397, 'integ': 26398, 'invas': 26399, 'irava': 26400, 'isola': 26401, 'isson': 26402, 'ituir': 26403, 'letos': 26404, 'month': 26405, 'mount': 26406, 'mouth': 26407, 'ogene': 26408, 'ograp': 26409, 'orado': 26410, 'order': 26411, 'ortex': 26412, 'ortos': 26413, 'ossex': 26414, 'ostic': 26415, 'ounce': 26416, 'ourge': 26417, 'ousal': 26418, 'parts': 26419, 'pilot': 26420, 'plano': 26421, 'plica': 26422, 'ppies': 26423, 'ratos': 26424, 'repar': 26425, 'resol': 26426, 'ricts': 26427, 'rines': 26428, 'rocin': 26429, 'rocos': 26430, 'sazar': 26431, 'seven': 26432, 'strip': 26433, 'thous': 26434, 'three': 26435, 'train': 26436, 'uates': 26437, 'width': 26438, 'wired': 26439, 'wling': 26440, 'zinha': 26441, 'çaram': 26442, 'émico': 26443, 'ílico': 26444, 'írica': 26445, '▁1956': 26446, '▁2500': 26447, '▁abal': 26448, '▁adds': 26449, '▁agra': 26450, '▁amas': 26451, '▁amos': 26452, '▁amph': 26453, '▁anot': 26454, '▁apod': 26455, '▁asma': 26456, '▁asne': 26457, '▁ator': 26458, '▁aung': 26459, '▁bald': 26460, '▁banh': 26461, '▁bark': 26462, '▁barn': 26463, '▁bata': 26464, '▁beco': 26465, '▁beef': 26466, '▁bife': 26467, '▁blas': 26468, '▁brav': 26469, '▁brow': 26470, '▁buda': 26471, '▁bulk': 26472, '▁bury': 26473, '▁cala': 26474, '▁cane': 26475, '▁ceos': 26476, '▁cimo': 26477, '▁cler': 26478, '▁clic': 26479, '▁coes': 26480, '▁coto': 26481, '▁crab': 26482, '▁crio': 26483, '▁criá': 26484, '▁crua': 26485, '▁cubs': 26486, '▁céle': 26487, '▁dane': 26488, '▁dedu': 26489, '▁deli': 26490, '▁dera': 26491, '▁derr': 26492, '▁deva': 26493, '▁dips': 26494, '▁dirá': 26495, '▁doss': 26496, '▁dvds': 26497, '▁epif': 26498, '▁evap': 26499, '▁exon': 26500, '▁fama': 26501, '▁fare': 26502, '▁fark': 26503, '▁faye': 26504, '▁feas': 26505, '▁fees': 26506, '▁flap': 26507, '▁fuse': 26508, '▁geys': 26509, '▁ghet': 26510, '▁glim': 26511, '▁glow': 26512, '▁gote': 26513, '▁gron': 26514, '▁gugg': 26515, '▁halt': 26516, '▁heir': 26517, '▁horn': 26518, '▁hose': 26519, '▁imbu': 26520, '▁imer': 26521, '▁ipcc': 26522, '▁jesu': 26523, '▁joga': 26524, '▁josé': 26525, '▁knob': 26526, '▁lamp': 26527, '▁lava': 26528, '▁lazy': 26529, '▁lend': 26530, '▁levo': 26531, '▁leão': 26532, '▁ligá': 26533, '▁load': 26534, '▁loos': 26535, '▁luto': 26536, '▁magr': 26537, '▁mano': 26538, '▁matá': 26539, '▁mend': 26540, '▁mera': 26541, '▁mesh': 26542, '▁mexe': 26543, '▁moro': 26544, '▁mosa': 26545, '▁mour': 26546, '▁mude': 26547, '▁mudo': 26548, '▁murm': 26549, '▁musk': 26550, '▁nuns': 26551, '▁obey': 26552, '▁oliv': 26553, '▁onze': 26554, '▁oops': 26555, '▁orqu': 26556, '▁orto': 26557, '▁oven': 26558, '▁plag': 26559, '▁plen': 26560, '▁plun': 26561, '▁poça': 26562, '▁prad': 26563, '▁pray': 26564, '▁quim': 26565, '▁rans': 26566, '▁rasg': 26567, '▁romp': 26568, '▁ruin': 26569, '▁saia': 26570, '▁salp': 26571, '▁saus': 26572, '▁saír': 26573, '▁shah': 26574, '▁sind': 26575, '▁sino': 26576, '▁skim': 26577, '▁slap': 26578, '▁sped': 26579, '▁stal': 26580, '▁stap': 26581, '▁stif': 26582, '▁suav': 26583, '▁suja': 26584, '▁swap': 26585, '▁tolo': 26586, '▁tomé': 26587, '▁toys': 26588, '▁tram': 26589, '▁tras': 26590, '▁trol': 26591, '▁unsc': 26592, '▁usos': 26593, '▁vein': 26594, '▁vírg': 26595, '▁wets': 26596, '▁zeit': 26597, '▁ópio': 26598, 'alized': 26599, 'aments': 26600, 'andest': 26601, 'ankton': 26602, 'ariano': 26603, 'assete': 26604, 'asting': 26605, 'chment': 26606, 'cência': 26607, 'eating': 26608, 'eccion': 26609, 'enance': 26610, 'engers': 26611, 'entado': 26612, 'entric': 26613, 'esaver': 26614, 'escent': 26615, 'esters': 26616, 'flower': 26617, 'garraf': 26618, 'iastic': 26619, 'iatric': 26620, 'iberal': 26621, 'ievais': 26622, 'ifting': 26623, 'iments': 26624, 'inhada': 26625, 'iously': 26626, 'irante': 26627, 'iretro': 26628, 'isions': 26629, 'itadas': 26630, 'itados': 26631, 'itante': 26632, 'itched': 26633, 'itness': 26634, 'izavam': 26635, 'jetiva': 26636, 'keeper': 26637, 'likely': 26638, 'mentia': 26639, 'oderes': 26640, 'omoção': 26641, 'oração': 26642, 'ouring': 26643, 'plicar': 26644, 'reates': 26645, 'rentes': 26646, 'rition': 26647, 'romper': 26648, 'schild': 26649, 'terdam': 26650, 'terdão': 26651, 'ternet': 26652, 'urando': 26653, 'ursday': 26654, 'utzpah': 26655, 'ântica': 26656, 'çarmos': 26657, 'ólicas': 26658, 'ólitos': 26659, 'ópicos': 26660, 'óteles': 26661, '▁abdom': 26662, '▁abria': 26663, '▁acabo': 26664, '▁acalm': 26665, '▁acent': 26666, '▁admin': 26667, '▁adver': 26668, '▁afund': 26669, '▁alber': 26670, '▁algas': 26671, '▁aloud': 26672, '▁alpha': 26673, '▁altar': 26674, '▁aniqu': 26675, '▁apare': 26676, '▁aptos': 26677, '▁arith': 26678, '▁aritm': 26679, '▁arose': 26680, '▁atemp': 26681, '▁aterr': 26682, '▁atorm': 26683, '▁atuar': 26684, '▁auras': 26685, '▁azoto': 26686, '▁balde': 26687, '▁bands': 26688, '▁bangs': 26689, '▁bares': 26690, '▁beard': 26691, '▁bebem': 26692, '▁beers': 26693, '▁bells': 26694, '▁belos': 26695, '▁belsh': 26696, '▁blade': 26697, '▁blobs': 26698, '▁blogs': 26699, '▁bonit': 26700, '▁bride': 26701, '▁brine': 26702, '▁brisa': 26703, '▁bryan': 26704, '▁bucky': 26705, '▁cabul': 26706, '▁cafes': 26707, '▁calam': 26708, '▁casei': 26709, '▁cavar': 26710, '▁chego': 26711, '▁choro': 26712, '▁chunk': 26713, '▁churn': 26714, '▁ciber': 26715, '▁cinza': 26716, '▁claus': 26717, '▁clipe': 26718, '▁coaut': 26719, '▁cogum': 26720, '▁colec': 26721, '▁colom': 26722, '▁comed': 26723, '▁corde': 26724, '▁corol': 26725, '▁coron': 26726, '▁corão': 26727, '▁cough': 26728, '▁crate': 26729, '▁creem': 26730, '▁cumpr': 26731, '▁curbs': 26732, '▁cures': 26733, '▁darão': 26734, '▁decap': 26735, '▁descu': 26736, '▁dials': 26737, '▁diary': 26738, '▁diets': 26739, '▁dislé': 26740, '▁dizes': 26741, '▁doido': 26742, '▁domar': 26743, '▁donas': 26744, '▁doses': 26745, '▁downs': 26746, '▁draft': 26747, '▁dunas': 26748, '▁dunes': 26749, '▁elbow': 26750, '▁eleva': 26751, '▁emigr': 26752, '▁enhan': 26753, '▁epile': 26754, '▁esban': 26755, '▁estet': 26756, '▁exata': 26757, '▁expul': 26758, '▁fault': 26759, '▁feces': 26760, '▁figur': 26761, '▁filed': 26762, '▁files': 26763, '▁fired': 26764, '▁fitas': 26765, '▁flaut': 26766, '▁floyd': 26767, '▁flush': 26768, '▁flute': 26769, '▁fogos': 26770, '▁folds': 26771, '▁foref': 26772, '▁fours': 26773, '▁fruto': 26774, '▁galão': 26775, '▁gerem': 26776, '▁germe': 26777, '▁gesso': 26778, '▁gesto': 26779, '▁gifts': 26780, '▁gloss': 26781, '▁grama': 26782, '▁grega': 26783, '▁hiato': 26784, '▁hindi': 26785, '▁hints': 26786, '▁hobby': 26787, '▁indom': 26788, '▁inert': 26789, '▁jacto': 26790, '▁juicy': 26791, '▁kafka': 26792, '▁karma': 26793, '▁lakes': 26794, '▁letal': 26795, '▁limbo': 26796, '▁lists': 26797, '▁lonel': 26798, '▁loses': 26799, '▁lousy': 26800, '▁lover': 26801, '▁lunar': 26802, '▁maneu': 26803, '▁maths': 26804, '▁melod': 26805, '▁menti': 26806, '▁merge': 26807, '▁metod': 26808, '▁mitoc': 26809, '▁miúda': 26810, '▁moose': 26811, '▁morar': 26812, '▁mutil': 26813, '▁myths': 26814, '▁nanos': 26815, '▁nasal': 26816, '▁noble': 26817, '▁numas': 26818, '▁opium': 26819, '▁overl': 26820, '▁overs': 26821, '▁padre': 26822, '▁parse': 26823, '▁passá': 26824, '▁patóg': 26825, '▁pedal': 26826, '▁pegam': 26827, '▁pegue': 26828, '▁penas': 26829, '▁penny': 26830, '▁perip': 26831, '▁peçam': 26832, '▁pills': 26833, '▁pisca': 26834, '▁pisos': 26835, '▁plena': 26836, '▁plent': 26837, '▁ponha': 26838, '▁pools': 26839, '▁posit': 26840, '▁pseud': 26841, '▁punho': 26842, '▁purse': 26843, '▁qatar': 26844, '▁quake': 26845, '▁quios': 26846, '▁rains': 26847, '▁rainy': 26848, '▁reads': 26849, '▁recal': 26850, '▁regar': 26851, '▁regen': 26852, '▁releg': 26853, '▁roman': 26854, '▁roost': 26855, '▁ruled': 26856, '▁sacos': 26857, '▁salsa': 26858, '▁sands': 26859, '▁sapat': 26860, '▁scalp': 26861, '▁scram': 26862, '▁sejas': 26863, '▁sexto': 26864, '▁shalt': 26865, '▁shook': 26866, '▁shred': 26867, '▁smash': 26868, '▁somem': 26869, '▁souls': 26870, '▁stair': 26871, '▁stall': 26872, '▁starr': 26873, '▁stats': 26874, '▁stems': 26875, '▁stool': 26876, '▁sucks': 26877, '▁sujas': 26878, '▁swine': 26879, '▁tapar': 26880, '▁tapir': 26881, '▁tarte': 26882, '▁tenda': 26883, '▁tenra': 26884, '▁tense': 26885, '▁testa': 26886, '▁testá': 26887, '▁tides': 26888, '▁tique': 26889, '▁tocam': 26890, '▁torne': 26891, '▁tours': 26892, '▁trará': 26893, '▁tratá': 26894, '▁traço': 26895, '▁trope': 26896, '▁tubes': 26897, '▁typed': 26898, '▁tábua': 26899, '▁táxis': 26900, '▁uncon': 26901, '▁unhas': 26902, '▁unida': 26903, '▁unite': 26904, '▁unple': 26905, '▁untou': 26906, '▁upris': 26907, '▁urina': 26908, '▁urnas': 26909, '▁utens': 26910, '▁viena': 26911, '▁vilas': 26912, '▁viúva': 26913, '▁votes': 26914, '▁vácuo': 26915, '▁vício': 26916, '▁warps': 26917, '▁wells': 26918, '▁widen': 26919, '▁woven': 26920, '▁zones': 26921, '▁ácido': 26922, '▁ético': 26923, 'adeiras': 26924, 'agascar': 26925, 'agáscar': 26926, 'anguejo': 26927, 'aterais': 26928, 'comings': 26929, 'células': 26930, 'derabad': 26931, 'elulose': 26932, 'estados': 26933, 'igrafia': 26934, 'igramas': 26935, 'induced': 26936, 'inhadas': 26937, 'inidade': 26938, 'itating': 26939, 'itorium': 26940, 'ivermos': 26941, 'ivessem': 26942, 'izáveis': 26943, 'million': 26944, 'máticos': 26945, 'ometric': 26946, 'osidade': 26947, 'project': 26948, 'queiros': 26949, 'reading': 26950, 'section': 26951, 'starter': 26952, 'tioning': 26953, 'urações': 26954, 'winning': 26955, 'xterity': 26956, 'ásticos': 26957, 'étricas': 26958, '▁17,000': 26959, '▁25.000': 26960, '▁75,000': 26961, '▁90,000': 26962, '▁abater': 26963, '▁abraçá': 26964, '▁absent': 26965, '▁accion': 26966, '▁aceitá': 26967, '▁acomod': 26968, '▁acumen': 26969, '▁adesão': 26970, '▁affair': 26971, '▁agrees': 26972, '▁almond': 26973, '▁amante': 26974, '▁amazes': 26975, '▁amável': 26976, '▁antena': 26977, '▁apavor': 26978, '▁aperto': 26979, '▁aquari': 26980, '▁aquece': 26981, '▁archer': 26982, '▁arenas': 26983, '▁argues': 26984, '▁arises': 26985, '▁arrisc': 26986, '▁assent': 26987, '▁asthma': 26988, '▁atenas': 26989, '▁atract': 26990, '▁atraso': 26991, '▁autobi': 26992, '▁autogu': 26993, '▁awards': 26994, '▁baixam': 26995, '▁balanç': 26996, '▁barren': 26997, '▁bastou': 26998, '▁bathtu': 26999, '▁batota': 27000, '▁benção': 27001, '▁bidire': 27002, '▁bilbao': 27003, '▁biomim': 27004, '▁bochec': 27005, '▁boulev': 27006, '▁breeze': 27007, '▁breves': 27008, '▁brinco': 27009, '▁bulgar': 27010, '▁busted': 27011, '▁bênção': 27012, '▁caneca': 27013, '▁captou': 27014, '▁cartaz': 27015, '▁castig': 27016, '▁cataly': 27017, '▁cautel': 27018, '▁census': 27019, '▁cereal': 27020, '▁champs': 27021, '▁charco': 27022, '▁cheque': 27023, '▁clocks': 27024, '▁cloned': 27025, '▁cobrar': 27026, '▁cobrem': 27027, '▁colada': 27028, '▁column': 27029, '▁comiss': 27030, '▁comité': 27031, '▁compus': 27032, '▁condom': 27033, '▁confid': 27034, '▁contos': 27035, '▁cooled': 27036, '▁copies': 27037, '▁copper': 27038, '▁courty': 27039, '▁coward': 27040, '▁creepy': 27041, '▁cuidam': 27042, '▁curvar': 27043, '▁cybers': 27044, '▁cycles': 27045, '▁cívico': 27046, '▁debris': 27047, '▁decomp': 27048, '▁densas': 27049, '▁derrub': 27050, '▁desaje': 27051, '▁desalo': 27052, '▁descal': 27053, '▁despro': 27054, '▁dining': 27055, '▁discot': 27056, '▁disser': 27057, '▁diving': 27058, '▁divino': 27059, '▁doidos': 27060, '▁dormem': 27061, '▁dotcom': 27062, '▁duvido': 27063, '▁eighty': 27064, '▁embara': 27065, '▁endere': 27066, '▁erguer': 27067, '▁escova': 27068, '▁escând': 27069, '▁estate': 27070, '▁estrag': 27071, '▁eterna': 27072, '▁ethere': 27073, '▁exacto': 27074, '▁excret': 27075, '▁exibem': 27076, '▁exijam': 27077, '▁expose': 27078, '▁extrav': 27079, '▁eyebro': 27080, '▁fading': 27081, '▁falham': 27082, '▁fazemo': 27083, '▁faísca': 27084, '▁fechem': 27085, '▁fences': 27086, '▁ferida': 27087, '▁festiv': 27088, '▁filmed': 27089, '▁fizemo': 27090, '▁flavor': 27091, '▁forese': 27092, '▁forums': 27093, '▁frasco': 27094, '▁frenet': 27095, '▁frenzy': 27096, '▁fritas': 27097, '▁frutos': 27098, '▁ganhos': 27099, '▁gelada': 27100, '▁gentle': 27101, '▁gerada': 27102, '▁germin': 27103, '▁gramat': 27104, '▁gripes': 27105, '▁génios': 27106, '▁hamlet': 27107, '▁hawaii': 27108, '▁healed': 27109, '▁hibern': 27110, '▁hienas': 27111, '▁hiring': 27112, '▁hostil': 27113, '▁ignora': 27114, '▁ilustr': 27115, '▁impost': 27116, '▁impris': 27117, '▁impuls': 27118, '▁imunes': 27119, '▁imóvel': 27120, '▁indesc': 27121, '▁indire': 27122, '▁infuse': 27123, '▁inicia': 27124, '▁inland': 27125, '▁insaci': 27126, '▁inseto': 27127, '▁jargon': 27128, '▁lanter': 27129, '▁lately': 27130, '▁latter': 27131, '▁leaned': 27132, '▁lentos': 27133, '▁levará': 27134, '▁levers': 27135, '▁lidera': 27136, '▁limpam': 27137, '▁limpos': 27138, '▁listed': 27139, '▁lonely': 27140, '▁loving': 27141, '▁lumiar': 27142, '▁léxico': 27143, '▁lógico': 27144, '▁maciça': 27145, '▁maciço': 27146, '▁magoar': 27147, '▁manure': 27148, '▁marcus': 27149, '▁marfim': 27150, '▁marker': 27151, '▁mascar': 27152, '▁matado': 27153, '▁meadow': 27154, '▁mensal': 27155, '▁mercen': 27156, '▁milhar': 27157, '▁mitoch': 27158, '▁modela': 27159, '▁modify': 27160, '▁moedas': 27161, '▁monica': 27162, '▁motifs': 27163, '▁motriz': 27164, '▁multas': 27165, '▁mutual': 27166, '▁mágica': 27167, '▁nectar': 27168, '▁negoce': 27169, '▁novels': 27170, '▁obriga': 27171, '▁obstru': 27172, '▁obtido': 27173, '▁ocular': 27174, '▁openly': 27175, '▁panamá': 27176, '▁papaia': 27177, '▁pareço': 27178, '▁perfis': 27179, '▁perito': 27180, '▁picada': 27181, '▁poland': 27182, '▁pollin': 27183, '▁pombos': 27184, '▁postal': 27185, '▁potent': 27186, '▁prelim': 27187, '▁premat': 27188, '▁previu': 27189, '▁prohib': 27190, '▁promot': 27191, '▁propel': 27192, '▁proves': 27193, '▁provêm': 27194, '▁psican': 27195, '▁psique': 27196, '▁psyche': 27197, '▁pumped': 27198, '▁radius': 27199, '▁ranked': 27200, '▁rascun': 27201, '▁reapar': 27202, '▁recusa': 27203, '▁recycl': 27204, '▁redire': 27205, '▁restau': 27206, '▁restos': 27207, '▁retrie': 27208, '▁ricans': 27209, '▁ripple': 27210, '▁rotura': 27211, '▁ruidos': 27212, '▁runner': 27213, '▁runway': 27214, '▁rádios': 27215, '▁rígida': 27216, '▁sabido': 27217, '▁sahara': 27218, '▁sapato': 27219, '▁shocks': 27220, '▁sitcom': 27221, '▁sketch': 27222, '▁smiled': 27223, '▁sonoro': 27224, '▁spears': 27225, '▁spouse': 27226, '▁sprawl': 27227, '▁sprint': 27228, '▁stamps': 27229, '▁starck': 27230, '▁stated': 27231, '▁strain': 27232, '▁strife': 27233, '▁styles': 27234, '▁subtil': 27235, '▁sundar': 27236, '▁syllab': 27237, '▁sérios': 27238, '▁sírios': 27239, '▁takers': 27240, '▁teimos': 27241, '▁thirst': 27242, '▁tomado': 27243, '▁traced': 27244, '▁traded': 27245, '▁trazia': 27246, '▁traçar': 27247, '▁treaty': 27248, '▁tribes': 27249, '▁tribos': 27250, '▁triplo': 27251, '▁tronco': 27252, '▁trégua': 27253, '▁tucked': 27254, '▁turbul': 27255, '▁turtle': 27256, '▁térreo': 27257, '▁tímida': 27258, '▁unsafe': 27259, '▁vantaj': 27260, '▁varied': 27261, '▁vastas': 27262, '▁veados': 27263, '▁ventos': 27264, '▁viação': 27265, '▁vienna': 27266, '▁vindas': 27267, '▁virado': 27268, '▁virgem': 27269, '▁visits': 27270, '▁válido': 27271, '▁víamos': 27272, '▁whisky': 27273, '▁willow': 27274, '▁yorque': 27275, '▁zipper': 27276, '▁àquilo': 27277, 'assemble': 27278, 'atoriais': 27279, 'cleaning': 27280, 'ellulose': 27281, 'espacial': 27282, 'ficiency': 27283, 'friendly': 27284, 'hidrofób': 27285, 'ificamos': 27286, 'interpre': 27287, 'namental': 27288, 'nutrição': 27289, 'obsessed': 27290, 'ositores': 27291, 'standing': 27292, 'urreição': 27293, '▁200.000': 27294, '▁250,000': 27295, '▁400,000': 27296, '▁500,000': 27297, '▁700,000': 27298, '▁abbrevi': 27299, '▁accents': 27300, '▁accused': 27301, '▁aceitam': 27302, '▁aceites': 27303, '▁acquire': 27304, '▁acronym': 27305, '▁adaptam': 27306, '▁admired': 27307, '▁adoptar': 27308, '▁advento': 27309, '▁adviser': 27310, '▁afirmam': 27311, '▁afirmou': 27312, '▁agarrei': 27313, '▁agarrou': 27314, '▁alchemy': 27315, '▁algebra': 27316, '▁aliviar': 27317, '▁aluguer': 27318, '▁amplify': 27319, '▁analfab': 27320, '▁anticor': 27321, '▁anónima': 27322, '▁aprenda': 27323, '▁argélia': 27324, '▁arrange': 27325, '▁arranha': 27326, '▁arranjo': 27327, '▁arrebat': 27328, '▁arrives': 27329, '▁assured': 27330, '▁atacado': 27331, '▁aterrar': 27332, '▁atheist': 27333, '▁atrever': 27334, '▁atuação': 27335, '▁austria': 27336, '▁autodes': 27337, '▁autores': 27338, '▁auxílio': 27339, '▁avenida': 27340, '▁aversão': 27341, '▁aviação': 27342, '▁avoided': 27343, '▁backing': 27344, '▁bancada': 27345, '▁banging': 27346, '▁bebemos': 27347, '▁behaved': 27348, '▁bending': 27349, '▁besouro': 27350, '▁betting': 27351, '▁blinded': 27352, '▁bombard': 27353, '▁brewing': 27354, '▁bullies': 27355, '▁cabelos': 27356, '▁cabinet': 27357, '▁caminha': 27358, '▁campeon': 27359, '▁canning': 27360, '▁carater': 27361, '▁cardiac': 27362, '▁careers': 27363, '▁casados': 27364, '▁cascade': 27365, '▁causava': 27366, '▁centena': 27367, '▁chamber': 27368, '▁chaotic': 27369, '▁chocada': 27370, '▁chorava': 27371, '▁circulo': 27372, '▁citando': 27373, '▁clarify': 27374, '▁clínico': 27375, '▁cobarde': 27376, '▁colagem': 27377, '▁colamos': 27378, '▁collide': 27379, '▁collins': 27380, '▁compreh': 27381, '▁compris': 27382, '▁compute': 27383, '▁concert': 27384, '▁conchas': 27385, '▁conhecê': 27386, '▁convent': 27387, '▁convuls': 27388, '▁costumo': 27389, '▁cotovel': 27390, '▁cracked': 27391, '▁crosses': 27392, '▁crowded': 27393, '▁cêntimo': 27394, '▁darkest': 27395, '▁davinia': 27396, '▁decente': 27397, '▁decreas': 27398, '▁decurso': 27399, '▁defende': 27400, '▁deficit': 27401, '▁definiu': 27402, '▁deflect': 27403, '▁deitava': 27404, '▁deixada': 27405, '▁demorei': 27406, '▁desgast': 27407, '▁desires': 27408, '▁desmist': 27409, '▁despeda': 27410, '▁destiny': 27411, '▁difusor': 27412, '▁diretas': 27413, '▁discard': 27414, '▁dissect': 27415, '▁distill': 27416, '▁divides': 27417, '▁dourado': 27418, '▁drowned': 27419, '▁editora': 27420, '▁edições': 27421, '▁educada': 27422, '▁efémera': 27423, '▁emaranh': 27424, '▁encaixe': 27425, '▁engolir': 27426, '▁entrará': 27427, '▁entrela': 27428, '▁enviada': 27429, '▁erradic': 27430, '▁escolho': 27431, '▁esconde': 27432, '▁escuras': 27433, '▁espalhe': 27434, '▁espessa': 27435, '▁esquecê': 27436, '▁esquilo': 27437, '▁estavas': 27438, '▁esticou': 27439, '▁estreia': 27440, '▁euforia': 27441, '▁exagero': 27442, '▁explicá': 27443, '▁explode': 27444, '▁extingu': 27445, '▁famosas': 27446, '▁fellows': 27447, '▁ficarão': 27448, '▁ficasse': 27449, '▁fixação': 27450, '▁fizémos': 27451, '▁flutuam': 27452, '▁focuses': 27453, '▁forçada': 27454, '▁framing': 27455, '▁fraught': 27456, '▁freiras': 27457, '▁fósforo': 27458, '▁ganhava': 27459, '▁gardens': 27460, '▁garment': 27461, '▁gelados': 27462, '▁gestual': 27463, '▁girafas': 27464, '▁glacial': 27465, '▁goddess': 27466, '▁grandpa': 27467, '▁guardam': 27468, '▁géneros': 27469, '▁handing': 27470, '▁harming': 27471, '▁heating': 27472, '▁heroína': 27473, '▁hesitar': 27474, '▁ideally': 27475, '▁ignição': 27476, '▁imobili': 27477, '▁impulse': 27478, '▁imóveis': 27479, '▁inexper': 27480, '▁inmates': 27481, '▁inquiry': 27482, '▁inspira': 27483, '▁insulto': 27484, '▁intacta': 27485, '▁intertw': 27486, '▁inversa': 27487, '▁inverte': 27488, '▁invocar': 27489, '▁iogurte': 27490, '▁jardine': 27491, '▁jewelry': 27492, '▁lamento': 27493, '▁lançada': 27494, '▁laranja': 27495, '▁latrina': 27496, '▁latrine': 27497, '▁laundry': 27498, '▁leaflet': 27499, '▁leaning': 27500, '▁lembrou': 27501, '▁lesbian': 27502, '▁levaria': 27503, '▁levavam': 27504, '▁leveled': 27505, '▁lexicon': 27506, '▁ligaram': 27507, '▁ligeira': 27508, '▁likable': 27509, '▁lineage': 27510, '▁liquids': 27511, '▁lurking': 27512, '▁lutaram': 27513, '▁madness': 27514, '▁madonna': 27515, '▁malucos': 27516, '▁mangoes': 27517, '▁matarem': 27518, '▁matched': 27519, '▁materna': 27520, '▁maynard': 27521, '▁medição': 27522, '▁melinda': 27523, '▁mineira': 27524, '▁mixture': 27525, '▁mobília': 27526, '▁montada': 27527, '▁morriam': 27528, '▁motorbi': 27529, '▁movendo': 27530, '▁moverem': 27531, '▁mágicas': 27532, '▁navegam': 27533, '▁nucleus': 27534, '▁obscuro': 27535, '▁observá': 27536, '▁ocultas': 27537, '▁optical': 27538, '▁orienta': 27539, '▁outlets': 27540, '▁ouvinte': 27541, '▁ouviste': 27542, '▁packets': 27543, '▁pacotes': 27544, '▁palette': 27545, '▁parados': 27546, '▁paraméd': 27547, '▁pararem': 27548, '▁partial': 27549, '▁parting': 27550, '▁parágra': 27551, '▁passivo': 27552, '▁patogén': 27553, '▁pedagog': 27554, '▁pedirem': 27555, '▁penises': 27556, '▁pennies': 27557, '▁perpetr': 27558, '▁photons': 27559, '▁pistola': 27560, '▁plugged': 27561, '▁plummet': 27562, '▁poderes': 27563, '▁polares': 27564, '▁possuía': 27565, '▁postura': 27566, '▁prefere': 27567, '▁prestem': 27568, '▁punhado': 27569, '▁quoting': 27570, '▁ranging': 27571, '▁ratinho': 27572, '▁realçar': 27573, '▁receios': 27574, '▁recorre': 27575, '▁recreio': 27576, '▁recusou': 27577, '▁redonda': 27578, '▁refined': 27579, '▁reforço': 27580, '▁reframe': 27581, '▁relatos': 27582, '▁relaxed': 27583, '▁remotas': 27584, '▁renting': 27585, '▁reparou': 27586, '▁repetem': 27587, '▁rescued': 27588, '▁ressoar': 27589, '▁restava': 27590, '▁resurre': 27591, '▁revelam': 27592, '▁rewards': 27593, '▁risking': 27594, '▁roaring': 27595, '▁rodents': 27596, '▁roundab': 27597, '▁réplica': 27598, '▁salvado': 27599, '▁sampled': 27600, '▁scripts': 27601, '▁seasons': 27602, '▁sedutor': 27603, '▁segment': 27604, '▁sensual': 27605, '▁separam': 27606, '▁sermons': 27607, '▁setores': 27608, '▁shallow': 27609, '▁shepher': 27610, '▁shooter': 27611, '▁shuttle': 27612, '▁siberia': 27613, '▁sibling': 27614, '▁sibéria': 27615, '▁simular': 27616, '▁sinapse': 27617, '▁sincron': 27618, '▁skaters': 27619, '▁spinner': 27620, '▁spirits': 27621, '▁spotted': 27622, '▁subcont': 27623, '▁suburbs': 27624, '▁sufocar': 27625, '▁suprema': 27626, '▁surgido': 27627, '▁swahili': 27628, '▁synapse': 27629, '▁tablets': 27630, '▁tackled': 27631, '▁tactile': 27632, '▁tapping': 27633, '▁tensões': 27634, '▁tesouro': 27635, '▁testado': 27636, '▁textile': 27637, '▁teórico': 27638, '▁thanked': 27639, '▁thirdly': 27640, '▁tipping': 27641, '▁tirarem': 27642, '▁tirámos': 27643, '▁titânio': 27644, '▁tolerar': 27645, '▁tomemos': 27646, '▁torture': 27647, '▁tracked': 27648, '▁tractor': 27649, '▁trampol': 27650, '▁trechos': 27651, '▁treinei': 27652, '▁tribute': 27653, '▁tristes': 27654, '▁trojans': 27655, '▁tubarão': 27656, '▁turbina': 27657, '▁turismo': 27658, '▁turnout': 27659, '▁unleash': 27660, '▁urgency': 27661, '▁variado': 27662, '▁vibrant': 27663, '▁viciada': 27664, '▁viciado': 27665, '▁violada': 27666, '▁virgens': 27667, '▁vivendo': 27668, '▁volante': 27669, '▁weeding': 27670, '▁wetsuit': 27671, '▁zooming': 27672, '▁álgebra': 27673, 'imentação': 27674, 'intensive': 27675, 'ographing': 27676, 'oplankton': 27677, 'oplâncton': 27678, 'organized': 27679, 'reatening': 27680, 'rificação': 27681, 'riquenhos': 27682, 'ufficient': 27683, 'unicações': 27684, '▁abranger': 27685, '▁abstrato': 27686, '▁acquired': 27687, '▁adapting': 27688, '▁admitted': 27689, '▁adopting': 27690, '▁advogada': 27691, '▁afastado': 27692, '▁agressor': 27693, '▁agressão': 27694, '▁alargado': 27695, '▁alastrar': 27696, '▁alquimia': 27697, '▁amarelos': 27698, '▁amazonas': 27699, '▁amendoim': 27700, '▁amigável': 27701, '▁analyzed': 27702, '▁anomalia': 27703, '▁apercebe': 27704, '▁apoiados': 27705, '▁apoiaram': 27706, '▁aptidões': 27707, '▁arranjei': 27708, '▁artérias': 27709, '▁asneiras': 27710, '▁assaults': 27711, '▁atheists': 27712, '▁athletes': 27713, '▁atraídos': 27714, '▁auditory': 27715, '▁bachelor': 27716, '▁bancária': 27717, '▁bancário': 27718, '▁bandidos': 27719, '▁belsazar': 27720, '▁besouros': 27721, '▁bilhetes': 27722, '▁blackout': 27723, '▁bloqueia': 27724, '▁bridging': 27725, '▁budapest': 27726, '▁cabeludo': 27727, '▁cakewalk': 27728, '▁caminham': 27729, '▁caminhei': 27730, '▁camisola': 27731, '▁capacete': 27732, '▁capitais': 27733, '▁carriage': 27734, '▁carrinho': 27735, '▁cartazes': 27736, '▁causando': 27737, '▁cedência': 27738, '▁centavos': 27739, '▁centered': 27740, '▁centrada': 27741, '▁cervejas': 27742, '▁chamaria': 27743, '▁chapters': 27744, '▁chatting': 27745, '▁chinesas': 27746, '▁chocados': 27747, '▁chutzpah': 27748, '▁cicatriz': 27749, '▁clandest': 27750, '▁coercion': 27751, '▁colecion': 27752, '▁colheita': 27753, '▁colleges': 27754, '▁comeriam': 27755, '▁cometido': 27756, '▁commands': 27757, '▁commonly': 27758, '▁comporta': 27759, '▁composta': 27760, '▁conceder': 27761, '▁concerto': 27762, '▁concorda': 27763, '▁concreto': 27764, '▁conduzia': 27765, '▁consulta': 27766, '▁contagem': 27767, '▁convenci': 27768, '▁cooperam': 27769, '▁corretas': 27770, '▁cortamos': 27771, '▁cortinas': 27772, '▁costelas': 27773, '▁creators': 27774, '▁credible': 27775, '▁credível': 27776, '▁criações': 27777, '▁cultured': 27778, '▁decentes': 27779, '▁declared': 27780, '▁decompos': 27781, '▁dedicada': 27782, '▁dedicado': 27783, '▁defendem': 27784, '▁delinear': 27785, '▁delivers': 27786, '▁delusion': 27787, '▁dementia': 27788, '▁denisova': 27789, '▁dentário': 27790, '▁desafiou': 27791, '▁desagreg': 27792, '▁descanso': 27793, '▁desceram': 27794, '▁descolar': 27795, '▁descrevo': 27796, '▁deslizam': 27797, '▁destreza': 27798, '▁diagonal': 27799, '▁digestão': 27800, '▁discount': 27801, '▁displace': 27802, '▁disprove': 27803, '▁dissolve': 27804, '▁distress': 27805, '▁ditadura': 27806, '▁doctrine': 27807, '▁drilling': 27808, '▁earnings': 27809, '▁editores': 27810, '▁electrom': 27811, '▁electrão': 27812, '▁eminente': 27813, '▁encaixam': 27814, '▁encaminh': 27815, '▁enciclop': 27816, '▁enduring': 27817, '▁engarraf': 27818, '▁ensinava': 27819, '▁entirety': 27820, '▁enviadas': 27821, '▁envolveu': 27822, '▁estimula': 27823, '▁estudant': 27824, '▁excluded': 27825, '▁expandem': 27826, '▁explique': 27827, '▁explodem': 27828, '▁explodiu': 27829, '▁exposing': 27830, '▁expresso': 27831, '▁extração': 27832, '▁fabricam': 27833, '▁falhanço': 27834, '▁fantoche': 27835, '▁ficassem': 27836, '▁filmagem': 27837, '▁finances': 27838, '▁foguetes': 27839, '▁fomentar': 27840, '▁formarem': 27841, '▁formatos': 27842, '▁formigas': 27843, '▁formular': 27844, '▁freezing': 27845, '▁frenesim': 27846, '▁frontais': 27847, '▁ganhámos': 27848, '▁genetics': 27849, '▁genomics': 27850, '▁genómica': 27851, '▁girassol': 27852, '▁glóbulos': 27853, '▁gostaram': 27854, '▁gostarem': 27855, '▁grounded': 27856, '▁guarante': 27857, '▁guardian': 27858, '▁habitual': 27859, '▁handling': 27860, '▁havíamos': 27861, '▁hemorrag': 27862, '▁horrific': 27863, '▁humidade': 27864, '▁hóspedes': 27865, '▁iluminar': 27866, '▁iminente': 27867, '▁imposing': 27868, '▁imutável': 27869, '▁incêndio': 27870, '▁inerente': 27871, '▁inexplic': 27872, '▁infetado': 27873, '▁injeções': 27874, '▁inocente': 27875, '▁insatisf': 27876, '▁insistir': 27877, '▁inteiros': 27878, '▁internas': 27879, '▁inverter': 27880, '▁involunt': 27881, '▁irlandês': 27882, '▁islâmica': 27883, '▁isolados': 27884, '▁italiano': 27885, '▁jantares': 27886, '▁juntavam': 27887, '▁lançados': 27888, '▁laureate': 27889, '▁liberate': 27890, '▁ligarmos': 27891, '▁limiting': 27892, '▁malarial': 27893, '▁mamífero': 27894, '▁marcámos': 27895, '▁marketed': 27896, '▁maternal': 27897, '▁mediocre': 27898, '▁melhoram': 27899, '▁melhorou': 27900, '▁melodies': 27901, '▁mentimos': 27902, '▁mentiram': 27903, '▁mercador': 27904, '▁migraine': 27905, '▁migrants': 27906, '▁minhocas': 27907, '▁misturas': 27908, '▁moderada': 27909, '▁monstros': 27910, '▁montante': 27911, '▁montámos': 27912, '▁multifac': 27913, '▁multitas': 27914, '▁musician': 27915, '▁mutantes': 27916, '▁negativa': 27917, '▁nigerian': 27918, '▁numerous': 27919, '▁oculares': 27920, '▁orientar': 27921, '▁originar': 27922, '▁parafras': 27923, '▁paraqued': 27924, '▁pararmos': 27925, '▁pastilha': 27926, '▁patrocin': 27927, '▁penetrar': 27928, '▁pensarão': 27929, '▁perdidos': 27930, '▁permitia': 27931, '▁persiste': 27932, '▁pertença': 27933, '▁perturba': 27934, '▁pipeline': 27935, '▁pleasant': 27936, '▁poluente': 27937, '▁polémica': 27938, '▁pontinho': 27939, '▁potatoes': 27940, '▁pounding': 27941, '▁pregador': 27942, '▁preocupo': 27943, '▁producer': 27944, '▁produtor': 27945, '▁proposal': 27946, '▁provaram': 27947, '▁purchase': 27948, '▁pushcart': 27949, '▁péssimas': 27950, '▁quadrant': 27951, '▁qualific': 27952, '▁quantify': 27953, '▁quantity': 27954, '▁quiseram': 27955, '▁ratazana': 27956, '▁realizou': 27957, '▁reaprove': 27958, '▁rebeldes': 27959, '▁receives': 27960, '▁recycled': 27961, '▁reduzido': 27962, '▁refletem': 27963, '▁reformas': 27964, '▁regulate': 27965, '▁relógios': 27966, '▁remotely': 27967, '▁remédios': 27968, '▁rendered': 27969, '▁reorient': 27970, '▁resemble': 27971, '▁resolved': 27972, '▁resolvem': 27973, '▁respeita': 27974, '▁restante': 27975, '▁restored': 27976, '▁retirada': 27977, '▁retrofit': 27978, '▁reversed': 27979, '▁revoltas': 27980, '▁ridicule': 27981, '▁rochedos': 27982, '▁roseanne': 27983, '▁roterdão': 27984, '▁roubados': 27985, '▁salmoura': 27986, '▁sargento': 27987, '▁saudades': 27988, '▁scarcity': 27989, '▁searched': 27990, '▁sedutora': 27991, '▁seguirem': 27992, '▁segundas': 27993, '▁semicond': 27994, '▁sentamos': 27995, '▁sentença': 27996, '▁sentinel': 27997, '▁separada': 27998, '▁sessenta': 27999, '▁settling': 28000, '▁silently': 28001, '▁skeletal': 28002, '▁sofreram': 28003, '▁sometime': 28004, '▁sonicate': 28005, '▁sotaques': 28006, '▁submeter': 28007, '▁suicidal': 28008, '▁suitable': 28009, '▁superhyd': 28010, '▁symmetry': 28011, '▁systemic': 28012, '▁tamanhos': 28013, '▁tambores': 28014, '▁tensions': 28015, '▁tentasse': 28016, '▁terminou': 28017, '▁teóricos': 28018, '▁thorough': 28019, '▁thursday': 28020, '▁titanium': 28021, '▁tolerate': 28022, '▁tornaria': 28023, '▁trabalhe': 28024, '▁trazendo': 28025, '▁trazidos': 28026, '▁trending': 28027, '▁triliões': 28028, '▁trusting': 28029, '▁unlikely': 28030, '▁unlocked': 28031, '▁unnecess': 28032, '▁upstream': 28033, '▁vestidos': 28034, '▁viajamos': 28035, '▁vibrante': 28036, '▁vicinity': 28037, '▁virtuoso': 28038, '▁vitórias': 28039, '▁voltasse': 28040, '▁whatsapp': 28041, '▁whitopia': 28042, '▁writings': 28043, '▁zimbabué': 28044, 'controlled': 28045, 'discipline': 28046, 'estruturas': 28047, 'passageiro': 28048, 'traumático': 28049, '▁abandonam': 28050, '▁acreditei': 28051, '▁adaptados': 28052, '▁adaptarem': 28053, '▁adormecer': 28054, '▁adversity': 28055, '▁afastadas': 28056, '▁afastaram': 28057, '▁afectados': 28058, '▁affluence': 28059, '▁africanas': 28060, '▁agregados': 28061, '▁agressiva': 28062, '▁alarmante': 28063, '▁alienação': 28064, '▁alteraram': 28065, '▁alterámos': 28066, '▁altruists': 28067, '▁ameaçados': 28068, '▁analyzing': 28069, '▁antiretro': 28070, '▁apanharam': 28071, '▁aprovação': 28072, '▁aristotle': 28073, '▁artifício': 28074, '▁assistant': 28075, '▁assombros': 28076, '▁assumimos': 28077, '▁asteroids': 28078, '▁aterragem': 28079, '▁atingiram': 28080, '▁atraentes': 28081, '▁audacious': 28082, '▁autêntica': 28083, '▁babushkas': 28084, '▁bathrooms': 28085, '▁bhutanese': 28086, '▁biography': 28087, '▁boardroom': 28088, '▁borboleta': 28089, '▁budapeste': 28090, '▁calcanhar': 28091, '▁candidata': 28092, '▁capítulos': 28093, '▁caravanas': 28094, '▁cardboard': 28095, '▁cardíacas': 28096, '▁cardíacos': 28097, '▁carteiras': 28098, '▁cativante': 28099, '▁cherished': 28100, '▁cineastas': 28101, '▁cirúrgica': 28102, '▁clássicos': 28103, '▁colocados': 28104, '▁coloridos': 28105, '▁combinada': 28106, '▁combining': 28107, '▁compelled': 28108, '▁completos': 28109, '▁compounds': 28110, '▁compraram': 28111, '▁conciliar': 28112, '▁concordou': 28113, '▁conducted': 28114, '▁conduzido': 28115, '▁confinada': 28116, '▁confirmar': 28117, '▁conscient': 28118, '▁consertar': 28119, '▁consoante': 28120, '▁consumido': 28121, '▁contagion': 28122, '▁continuum': 28123, '▁contribui': 28124, '▁controver': 28125, '▁conversei': 28126, '▁crescerem': 28127, '▁darwinian': 28128, '▁decorated': 28129, '▁dedicação': 28130, '▁defecação': 28131, '▁delegação': 28132, '▁delirante': 28133, '▁dentistas': 28134, '▁desbloque': 28135, '▁desejavam': 28136, '▁desencora': 28137, '▁desirable': 28138, '▁desligada': 28139, '▁desmontar': 28140, '▁despedida': 28141, '▁desvendar': 28142, '▁detecting': 28143, '▁developer': 28144, '▁dexterity': 28145, '▁dezassete': 28146, '▁diagramas': 28147, '▁digitally': 28148, '▁dinamismo': 28149, '▁dinâmicos': 28150, '▁directive': 28151, '▁direcções': 28152, '▁disintegr': 28153, '▁dispersão': 28154, '▁dissermos': 28155, '▁dissuasão': 28156, '▁distorção': 28157, '▁dominance': 28158, '▁donations': 28159, '▁educativa': 28160, '▁electoral': 28161, '▁embaixada': 28162, '▁empregado': 28163, '▁emprestar': 28164, '▁encontrem': 28165, '▁encrypted': 28166, '▁enraizada': 28167, '▁ensinadas': 28168, '▁entregues': 28169, '▁episódios': 28170, '▁esmagador': 28171, '▁espantada': 28172, '▁especific': 28173, '▁esperando': 28174, '▁esperarem': 28175, '▁esplendor': 28176, '▁esquecido': 28177, '▁esquizofr': 28178, '▁estreitos': 28179, '▁estudando': 28180, '▁estudaram': 28181, '▁estúpidas': 28182, '▁estúpidos': 28183, '▁ethnicity': 28184, '▁evacuação': 28185, '▁evolvable': 28186, '▁examining': 28187, '▁excavated': 28188, '▁executive': 28189, '▁expansive': 28190, '▁explicava': 28191, '▁explorado': 28192, '▁exquisite': 28193, '▁extending': 28194, '▁extensive': 28195, '▁extremism': 28196, '▁fabricado': 28197, '▁femininas': 28198, '▁fieldwork': 28199, '▁filipinas': 28200, '▁filmagens': 28201, '▁finalizar': 28202, '▁fisheries': 28203, '▁flowering': 28204, '▁flutuante': 28205, '▁fogueiras': 28206, '▁formações': 28207, '▁fractions': 28208, '▁fragments': 28209, '▁frustrada': 28210, '▁fundações': 28211, '▁galleries': 28212, '▁gardening': 28213, '▁governing': 28214, '▁graduates': 28215, '▁habitable': 28216, '▁hebraicas': 28217, '▁himalayas': 28218, '▁historian': 28219, '▁icebergue': 28220, '▁improvise': 28221, '▁inanimate': 28222, '▁inclinado': 28223, '▁inclusivo': 28224, '▁indicador': 28225, '▁infecções': 28226, '▁inherited': 28227, '▁inspirada': 28228, '▁instincts': 28229, '▁instintos': 28230, '▁integrada': 28231, '▁intervene': 28232, '▁intestine': 28233, '▁invasivas': 28234, '▁irrespons': 28235, '▁isolating': 28236, '▁jellyfish': 28237, '▁judiciais': 28238, '▁kidnapped': 28239, '▁launching': 28240, '▁laureates': 28241, '▁liberated': 28242, '▁lifesaver': 28243, '▁lucrativa': 28244, '▁magnético': 28245, '▁magnífica': 28246, '▁maiúsculo': 28247, '▁malicious': 28248, '▁masculina': 28249, '▁medievais': 28250, '▁meditação': 28251, '▁melhorada': 28252, '▁membranas': 28253, '▁ministros': 28254, '▁modelação': 28255, '▁monopólio': 28256, '▁mortífero': 28257, '▁motivates': 28258, '▁multidões': 28259, '▁narration': 28260, '▁necessita': 28261, '▁nutritivo': 28262, '▁obrigação': 28263, '▁observava': 28264, '▁ocorreram': 28265, '▁offensive': 28266, '▁olímpicos': 28267, '▁operadora': 28268, '▁orchestra': 28269, '▁palhinhas': 28270, '▁paragraph': 28271, '▁parchment': 28272, '▁parecidos': 28273, '▁partilhou': 28274, '▁patagonia': 28275, '▁paternity': 28276, '▁pathology': 28277, '▁performer': 28278, '▁permanece': 28279, '▁perplexed': 28280, '▁persuasão': 28281, '▁pigmentos': 28282, '▁planetary': 28283, '▁plentiful': 28284, '▁polinizar': 28285, '▁poluentes': 28286, '▁populated': 28287, '▁porcelana': 28288, '▁possuímos': 28289, '▁pouquinho': 28290, '▁preciosas': 28291, '▁preferred': 28292, '▁prejudice': 28293, '▁premature': 28294, '▁preocupes': 28295, '▁primitiva': 28296, '▁proceeded': 28297, '▁processor': 28298, '▁projectar': 28299, '▁projected': 28300, '▁propensas': 28301, '▁propostas': 28302, '▁provision': 28303, '▁purchased': 28304, '▁purchases': 28305, '▁quadrante': 28306, '▁queiramos': 28307, '▁questiona': 28308, '▁realistas': 28309, '▁recolhida': 28310, '▁recuperam': 28311, '▁recycling': 28312, '▁redefined': 28313, '▁regenerar': 28314, '▁regionais': 28315, '▁regulação': 28316, '▁rehearsal': 28317, '▁reimplant': 28318, '▁reinforce': 28319, '▁releasing': 28320, '▁relocated': 28321, '▁reparamos': 28322, '▁reprogram': 28323, '▁repulsiva': 28324, '▁repulsive': 28325, '▁requiring': 28326, '▁resistant': 28327, '▁respeitar': 28328, '▁restritas': 28329, '▁retirámos': 28330, '▁revelando': 28331, '▁romântico': 28332, '▁rotterdam': 28333, '▁sanguíneo': 28334, '▁scenarios': 28335, '▁scratched': 28336, '▁seafarers': 28337, '▁selecting': 28338, '▁selective': 28339, '▁sentirmos': 28340, '▁sentíamos': 28341, '▁shhhhhhhh': 28342, '▁simpática': 28343, '▁simulador': 28344, '▁solitária': 28345, '▁solitário': 28346, '▁someplace': 28347, '▁southeast': 28348, '▁spectacle': 28349, '▁strategic': 28350, '▁stressful': 28351, '▁stretches': 28352, '▁subjetiva': 28353, '▁subsidies': 28354, '▁substitui': 28355, '▁subúrbios': 28356, '▁sugestões': 28357, '▁sunflower': 28358, '▁suspeitos': 28359, '▁suspicion': 28360, '▁switching': 28361, '▁temporais': 28362, '▁terceiros': 28363, '▁terminais': 28364, '▁testified': 28365, '▁testimony': 28366, '▁therapies': 28367, '▁threatens': 28368, '▁transmiss': 28369, '▁travelers': 28370, '▁treinadas': 28371, '▁trouxemos': 28372, '▁uncertain': 28373, '▁unleashed': 28374, '▁vacinação': 28375, '▁variantes': 28376, '▁vegetação': 28377, '▁ventilado': 28378, '▁veterinar': 28379, '▁violações': 28380, '▁wealthier': 28381, '▁wrestling': 28382, 'retrovirais': 28383, '▁abundantes': 28384, '▁accumulate': 28385, '▁adjacentes': 28386, '▁admiration': 28387, '▁adrenaline': 28388, '▁aeroportos': 28389, '▁aggression': 28390, '▁agressivos': 28391, '▁aleatórios': 28392, '▁alienation': 28393, '▁ancestrais': 28394, '▁anesthesia': 28395, '▁angariámos': 28396, '▁anticipate': 28397, '▁anunciaram': 28398, '▁apresentei': 28399, '▁arithmetic': 28400, '▁ascendente': 28401, '▁aspirações': 28402, '▁assassinos': 28403, '▁assembling': 28404, '▁asteroides': 28405, '▁astounding': 28406, '▁astronauta': 28407, '▁ativamente': 28408, '▁aumentamos': 28409, '▁autorizado': 28410, '▁avançarmos': 28411, '▁banqueiros': 28412, '▁beekeepers': 28413, '▁belshazzar': 28414, '▁beneficial': 28415, '▁beneficiam': 28416, '▁brasileiro': 28417, '▁calculámos': 28418, '▁calendário': 28419, '▁caligrafia': 28420, '▁caminhamos': 28421, '▁captioning': 28422, '▁censorship': 28423, '▁christians': 28424, '▁cobertores': 28425, '▁combinados': 28426, '▁comediante': 28427, '▁commentary': 28428, '▁commenting': 28429, '▁comparable': 28430, '▁concluindo': 28431, '▁condenação': 28432, '▁condescend': 28433, '▁conduzirem': 28434, '▁conectados': 28435, '▁confrontar': 28436, '▁conhecendo': 28437, '▁consumimos': 28438, '▁continuado': 28439, '▁continuará': 28440, '▁contraintu': 28441, '▁contrapart': 28442, '▁convencida': 28443, '▁convention': 28444, '▁conversion': 28445, '▁crescentes': 28446, '▁cuidadosos': 28447, '▁culturally': 28448, '▁definitiva': 28449, '▁definições': 28450, '▁delegation': 28451, '▁deliberate': 28452, '▁desconcert': 28453, '▁desempenha': 28454, '▁deslocação': 28455, '▁desvanecer': 28456, '▁determinam': 28457, '▁determinou': 28458, '▁detonation': 28459, '▁discharged': 28460, '▁disrespect': 28461, '▁distorcida': 28462, '▁distracção': 28463, '▁doutorados': 28464, '▁eléctricas': 28465, '▁embalagens': 28466, '▁enlouquece': 28467, '▁equatorial': 28468, '▁esclarecer': 28469, '▁escolheram': 28470, '▁escolheria': 28471, '▁estabelece': 28472, '▁evacuation': 28473, '▁evaporação': 28474, '▁excellence': 28475, '▁excitantes': 28476, '▁executivos': 28477, '▁expedition': 28478, '▁eyewitness': 28479, '▁faculdades': 28480, '▁ficaríamos': 28481, '▁filmmakers': 28482, '▁formidable': 28483, '▁fossilized': 28484, '▁frequentar': 28485, '▁funcionais': 28486, '▁geográfica': 28487, '▁graduation': 28488, '▁gravemente': 28489, '▁guggenheim': 28490, '▁hamburgers': 28491, '▁harnessing': 28492, '▁historians': 28493, '▁históricas': 28494, '▁horrifying': 28495, '▁humiliated': 28496, '▁illiterate': 28497, '▁imitadores': 28498, '▁impensável': 28499, '▁implementá': 28500, '▁importamos': 28501, '▁inadequado': 28502, '▁incidência': 28503, '▁incompleto': 28504, '▁inevitably': 28505, '▁inferiores': 28506, '▁inflamação': 28507, '▁instalados': 28508, '▁installing': 28509, '▁interrogar': 28510, '▁interstate': 28511, '▁intestinos': 28512, '▁intrínseca': 28513, '▁iproniazid': 28514, '▁legalmente': 28515, '▁liberation': 28516, '▁localizada': 28517, '▁madagascar': 28518, '▁madagáscar': 28519, '▁magníficos': 28520, '▁masculinos': 28521, '▁microbiana': 28522, '▁miligramas': 28523, '▁millennial': 28524, '▁miraculous': 28525, '▁misturadas': 28526, '▁mobilizing': 28527, '▁navigating': 28528, '▁negociação': 28529, '▁networking': 28530, '▁obrigações': 28531, '▁observando': 28532, '▁observarem': 28533, '▁occasional': 28534, '▁oferecemos': 28535, '▁olimpíadas': 28536, '▁oppressive': 28537, '▁orgulhosos': 28538, '▁orientador': 28539, '▁paramedics': 28540, '▁paraplegic': 28541, '▁passengers': 28542, '▁pedestrian': 28543, '▁pequeninas': 28544, '▁perguntamo': 28545, '▁permitimos': 28546, '▁persuasion': 28547, '▁poderiamos': 28548, '▁polarizada': 28549, '▁pollutants': 28550, '▁precaution': 28551, '▁precisarem': 28552, '▁precisasse': 28553, '▁precisemos': 28554, '▁preference': 28555, '▁preocupava': 28556, '▁pretending': 28557, '▁procurarem': 28558, '▁produzindo': 28559, '▁produziram': 28560, '▁propensity': 28561, '▁propósitos': 28562, '▁prosperous': 28563, '▁protegerem': 28564, '▁protesters': 28565, '▁providenci': 28566, '▁psicopatas': 28567, '▁psychoanal': 28568, '▁purchasing': 28569, '▁quilómetro': 28570, '▁quotidiano': 28571, '▁reasonably': 28572, '▁recipients': 28573, '▁reclaiming': 28574, '▁recognizes': 28575, '▁recorrendo': 28576, '▁redefining': 28577, '▁rediscover': 28578, '▁references': 28579, '▁reformular': 28580, '▁regulators': 28581, '▁relativity': 28582, '▁repetitive': 28583, '▁replicated': 28584, '▁replicação': 28585, '▁repurposed': 28586, '▁residentes': 28587, '▁resolvemos': 28588, '▁resolveram': 28589, '▁resolverem': 28590, '▁respiramos': 28591, '▁retrospect': 28592, '▁revelações': 28593, '▁sacrificar': 28594, '▁satisfeito': 28595, '▁satisfying': 28596, '▁scratching': 28597, '▁secondhand': 28598, '▁secretismo': 28599, '▁secretário': 28600, '▁sensoriais': 28601, '▁separately': 28602, '▁servidores': 28603, '▁skepticism': 28604, '▁soviéticos': 28605, '▁specialize': 28606, '▁stereotype': 28607, '▁stretching': 28608, '▁subjective': 28609, '▁telephones': 28610, '▁toothbrush': 28611, '▁ultrassons': 28612, '▁unexplored': 28613, '▁unleashing': 28614, '▁unpleasant': 28615, '▁unraveling': 28616, '▁utilitário': 28617, '▁variedades': 28618, '▁voluntário': 28619, '▁weaknesses': 28620, '▁worthwhile': 28621, '▁abertamente': 28622, '▁acompanhada': 28623, '▁acreditando': 28624, '▁acreditavam': 28625, '▁activamente': 28626, '▁adicionamos': 28627, '▁adicionámos': 28628, '▁adversidade': 28629, '▁ambulâncias': 28630, '▁antibiótico': 28631, '▁antiguidade': 28632, '▁apicultores': 28633, '▁archaeology': 28634, '▁aristóteles': 28635, '▁assassínios': 28636, '▁assinaturas': 28637, '▁astrofísica': 28638, '▁australiana': 28639, '▁australiano': 28640, '▁brancotopia': 28641, '▁bureaucracy': 28642, '▁burocrática': 28643, '▁calculators': 28644, '▁cartografia': 28645, '▁complaining': 28646, '▁complicados': 28647, '▁compreendam': 28648, '▁comprimidos': 28649, '▁comunitária': 28650, '▁concordamos': 28651, '▁conflicting': 28652, '▁conhecermos': 28653, '▁construtiva': 28654, '▁conterrâneo': 28655, '▁continuarão': 28656, '▁continuámos': 28657, '▁convenceram': 28658, '▁correlation': 28659, '▁decorrentes': 28660, '▁definitions': 28661, '▁denisovanos': 28662, '▁denominador': 28663, '▁denominator': 28664, '▁departments': 28665, '▁descobertos': 28666, '▁desconforto': 28667, '▁desportivos': 28668, '▁devastadora': 28669, '▁disciplines': 28670, '▁discovering': 28671, '▁dispendioso': 28672, '▁dissidentes': 28673, '▁dynamically': 28674, '▁encantadora': 28675, '▁encontradas': 28676, '▁enfrentaram': 28677, '▁enfrentámos': 28678, '▁enriquecido': 28679, '▁eradication': 28680, '▁estabelecem': 28681, '▁estabeleceu': 28682, '▁estrangeira': 28683, '▁eternamente': 28684, '▁frustrações': 28685, '▁fundraising': 28686, '▁gotejamento': 28687, '▁gravitation': 28688, '▁gronelândia': 28689, '▁ideological': 28690, '▁ilegalmente': 28691, '▁illustrated': 28692, '▁imaginassem': 28693, '▁imaginative': 28694, '▁imagiologia': 28695, '▁impressiona': 28696, '▁impressions': 28697, '▁impulsionar': 28698, '▁imunitárias': 28699, '▁inaceitável': 28700, '▁ineffective': 28701, '▁ineficiente': 28702, '▁influenciam': 28703, '▁integrating': 28704, '▁intentional': 28705, '▁introducing': 28706, '▁introspeção': 28707, '▁intuitively': 28708, '▁iproniazida': 28709, '▁irrelevante': 28710, '▁localizadas': 28711, '▁maintaining': 28712, '▁manipulated': 28713, '▁manipulação': 28714, '▁meaningless': 28715, '▁microscopes': 28716, '▁microscopia': 28717, '▁misinterpre': 28718, '▁motivations': 28719, '▁negotiation': 28720, '▁neighboring': 28721, '▁nitidamente': 28722, '▁partilharam': 28723, '▁paternidade': 28724, '▁persistence': 28725, '▁philippines': 28726, '▁possessions': 28727, '▁prateleiras': 28728, '▁preocupamos': 28729, '▁prisioneiro': 28730, '▁profundezas': 28731, '▁prostitutas': 28732, '▁protections': 28733, '▁proveniente': 28734, '▁psychopaths': 28735, '▁quantificar': 28736, '▁recruitment': 28737, '▁redescobrir': 28738, '▁reguladores': 28739, '▁reliability': 28740, '▁reorganizar': 28741, '▁replication': 28742, '▁representou': 28743, '▁repurposing': 28744, '▁sacrificing': 28745, '▁schizophren': 28746, '▁seventeenth': 28747, '▁sexualidade': 28748, '▁sobrevivido': 28749, '▁sofisticado': 28750, '▁substituída': 28751, '▁substâncias': 28752, '▁superfícies': 28753, '▁sustainably': 28754, '▁technically': 28755, '▁traffickers': 28756, '▁traficantes': 28757, '▁transferida': 28758, '▁transmitido': 28759, '▁ultimamente': 28760, '▁unfortunate': 28761, '▁vaccination': 28762, '▁accidentally': 28763, '▁accumulating': 28764, '▁additionally': 28765, '▁adicionarmos': 28766, '▁antecedência': 28767, '▁arrangements': 28768, '▁articulações': 28769, '▁aterrorizada': 28770, '▁breadwinning': 28771, '▁bureaucratic': 28772, '▁calculadoras': 28773, '▁cancerígenas': 28774, '▁certificates': 28775, '▁colaborativa': 28776, '▁commercially': 28777, '▁commissioner': 28778, '▁compensation': 28779, '▁competitivos': 28780, '▁comunitárias': 28781, '▁concentrarmo': 28782, '▁consideraram': 28783, '▁considerável': 28784, '▁consistência': 28785, '▁constituency': 28786, '▁contributing': 28787, '▁debilitating': 28788, '▁demonstramos': 28789, '▁descendentes': 28790, '▁descobrirmos': 28791, '▁desvantagens': 28792, '▁determinadas': 28793, '▁dictatorship': 28794, '▁dictionaries': 28795, '▁documentação': 28796, '▁educadamente': 28797, '▁embaixadores': 28798, '▁espectadores': 28799, '▁esquecimento': 28800, '▁establishing': 28801, '▁excruciating': 28802, '▁experiential': 28803, '▁explanations': 28804, '▁fertilização': 28805, '▁frigoríficos': 28806, '▁frustrations': 28807, '▁generalizada': 28808, '▁illumination': 28809, '▁incarcerated': 28810, '▁incidentally': 28811, '▁individually': 28812, '▁influenciado': 28813, '▁inspiradoras': 28814, '▁inspiradores': 28815, '▁instantâneos': 28816, '▁intelectuais': 28817, '▁interligação': 28818, '▁interminável': 28819, '▁interpreting': 28820, '▁legisladores': 28821, '▁levantamento': 28822, '▁malnutrition': 28823, '▁masterpieces': 28824, '▁mediterrâneo': 28825, '▁microfluidic': 28826, '▁nanocelulose': 28827, '▁nanomaterial': 28828, '▁neurologista': 28829, '▁nomeadamente': 28830, '▁operacionais': 28831, '▁palestinians': 28832, '▁passionately': 28833, '▁permaneceram': 28834, '▁precisaremos': 28835, '▁preservativo': 28836, '▁procurávamos': 28837, '▁psicológicas': 28838, '▁psicossocial': 28839, '▁quadriplegic': 28840, '▁relacionados': 28841, '▁relatividade': 28842, '▁residenciais': 28843, '▁restrictions': 28844, '▁revestimento': 28845, '▁schwarzchild': 28846, '▁shortcomings': 28847, '▁significaria': 28848, '▁stakeholders': 28849, '▁standardized': 28850, '▁superpoderes': 28851, '▁surroundings': 28852, '▁tecnicamente': 28853, '▁transitional': 28854, '▁transmitidas': 28855, '▁transporting': 28856, '▁tremendously': 28857, '▁unemployment': 28858, '▁adequadamente': 28859, '▁apresentações': 28860, '▁auscultadores': 28861, '▁bidimensional': 28862, '▁catastróficas': 28863, '▁comprometeram': 28864, '▁configurações': 28865, '▁confrontation': 28866, '▁contamination': 28867, '▁criativamente': 28868, '▁criptodivisas': 28869, '▁decentralized': 28870, '▁demonstrações': 28871, '▁departamentos': 28872, '▁desconhecidas': 28873, '▁desenvolverem': 28874, '▁desenvolvidas': 28875, '▁digitalização': 28876, '▁distinguished': 28877, '▁documentation': 28878, '▁empreendedora': 28879, '▁encontraremos': 28880, '▁especializado': 28881, '▁especuladores': 28882, '▁evolucionária': 28883, '▁experimenting': 28884, '▁historiadores': 28885, '▁identificados': 28886, '▁implementação': 28887, '▁imprevisíveis': 28888, '▁inerentemente': 28889, '▁installations': 28890, '▁instructional': 28891, '▁insustentável': 28892, '▁investigadora': 28893, '▁investigative': 28894, '▁melhoramentos': 28895, '▁misconception': 28896, '▁nanocellulose': 28897, '▁neurociências': 28898, '▁palestinianos': 28899, '▁photographing': 28900, '▁presidenciais': 28901, '▁razoavelmente': 28902, '▁repetidamente': 28903, '▁representadas': 28904, '▁schwarzschild': 28905, '▁transparentes': 28906, '▁ultrapassaram': 28907, '▁uncertainties': 28908, '▁underestimate': 28909, '▁accomplishment': 28910, '▁biologicamente': 28911, '▁caraterísticas': 28912, '▁compreendermos': 28913, '▁contextualizar': 28914, '▁contraceptivos': 28915, '▁correspondence': 28916, '▁diagnosticados': 28917, '▁differentiated': 28918, '▁dramaticamente': 28919, '▁evolutionarily': 28920, '▁experimentamos': 28921, '▁experimentarem': 28922, '▁explicitamente': 28923, '▁extraterrestre': 28924, '▁freneticamente': 28925, '▁interpretações': 28926, '▁multinacionais': 28927, '▁organizational': 28928, '▁reconstruction': 28929, '▁revolucionária': 28930, '▁scientifically': 28931, '▁undergraduates': 28932, '▁understandably': 28933, '▁antidepressants': 28934, '▁antidepressivos': 28935, '▁cientificamente': 28936, '▁espontaneamente': 28937, '▁fundamentalists': 28938, '▁individualmente': 28939, '▁inesperadamente': 28940, '▁insignificância': 28941, '▁instintivamente': 28942, '▁responsabilizar': 28943, '▁silenciosamente': 28944, '▁tridimensionais': 28945, \"'9\": 28946, '.8': 28947, '10': 28948, '24': 28949, '48': 28950, '49': 28951, '52': 28952, 'ao': 28953, 'bg': 28954, 'di': 28955, 'fb': 28956, 'iã': 28957, 'mu': 28958, 'mw': 28959, 'qo': 28960, 'rö': 28961, 'sk': 28962, 'tc': 28963, 'tt': 28964, 'wr': 28965, 'xa': 28966, 'ร่': 28967, 'อย': 28968, '▁อ': 28969, '-10': 28970, '-19': 28971, ':45': 28972, 'aip': 28973, 'alh': 28974, 'ams': 28975, 'asg': 28976, 'auc': 28977, 'aux': 28978, 'aze': 28979, 'azi': 28980, 'bes': 28981, 'bgb': 28982, 'bir': 28983, 'blr': 28984, 'but': 28985, 'cad': 28986, 'dah': 28987, 'doc': 28988, 'dow': 28989, 'dsp': 28990, 'ecê': 28991, 'eia': 28992, 'elp': 28993, 'emn': 28994, 'eny': 28995, 'ené': 28996, 'erd': 28997, 'eur': 28998, 'eye': 28999, 'ezi': 29000, 'fem': 29001, 'fib': 29002, 'gap': 29003, 'gli': 29004, 'gru': 29005, 'his': 29006, 'ibi': 29007, 'idt': 29008, 'idu': 29009, 'iem': 29010, 'ifa': 29011, 'iku': 29012, 'imi': 29013, 'iox': 29014, 'jes': 29015, 'jid': 29016, 'jor': 29017, 'kef': 29018, 'kom': 29019, 'kyo': 29020, 'lei': 29021, 'lic': 29022, 'lma': 29023, 'lyc': 29024, 'mac': 29025, 'max': 29026, 'mid': 29027, 'nip': 29028, 'oka': 29029, 'oos': 29030, 'opp': 29031, 'orf': 29032, 'oul': 29033, 'owa': 29034, 'pox': 29035, 'psy': 29036, 'rup': 29037, 'rôn': 29038, 'sac': 29039, 'tel': 29040, 'tiv': 29041, 'tox': 29042, 'tão': 29043, 'ulg': 29044, 'upé': 29045, 'uzz': 29046, 'van': 29047, 'vaz': 29048, 'vin': 29049, 'von': 29050, 'web': 29051, 'wom': 29052, 'yne': 29053, 'yor': 29054, 'áce': 29055, 'êis': 29056, 'ígr': 29057, 'íqu': 29058, 'ítm': 29059, 'ízo': 29060, '▁1/': 29061, '▁5,': 29062, '▁73': 29063, '▁bv': 29064, '▁bw': 29065, '▁ct': 29066, '▁dj': 29067, '▁dl': 29068, '▁ff': 29069, '▁gc': 29070, '▁gy': 29071, '▁jk': 29072, '▁js': 29073, '▁jt': 29074, '▁kr': 29075, '▁ll': 29076, '▁md': 29077, '▁mg': 29078, '▁mí': 29079, '▁sb': 29080, '▁sg': 29081, '▁tj': 29082, '▁tl': 29083, '▁ul': 29084, '▁ya': 29085, '▁ye': 29086, '1416': 29087, 'abag': 29088, 'abra': 29089, 'acre': 29090, 'aday': 29091, 'adus': 29092, 'agin': 29093, 'agra': 29094, 'agua': 29095, 'agus': 29096, 'aism': 29097, 'ajud': 29098, 'aler': 29099, 'anol': 29100, 'araz': 29101, 'arel': 29102, 'artz': 29103, 'agh': 29104, 'asun': 29105, 'atri': 29106, 'atul': 29107, 'aude': 29108, 'augh': 29109, 'azzo': 29110, 'bias': 29111, 'bilh': 29112, 'bler': 29113, 'cabe': 29114, 'cais': 29115, 'cano': 29116, 'chip': 29117, 'chão': 29118, 'coat': 29119, 'cull': 29120, 'céus': 29121, 'ders': 29122, 'dine': 29123, 'drop': 29124, 'ecei': 29125, 'eiem': 29126, 'elle': 29127, 'emed': 29128, 'emor': 29129, 'enah': 29130, 'eson': 29131, 'espa': 29132, 'eyed': 29133, 'ezer': 29134, 'feit': 29135, 'fált': 29136, 'gala': 29137, 'geti': 29138, 'gets': 29139, 'girl': 29140, 'gled': 29141, 'good': 29142, 'goto': 29143, 'graf': 29144, 'grim': 29145, 'grip': 29146, 'gueu': 29147, 'hans': 29148, 'hare': 29149, 'heas': 29150, 'hens': 29151, 'hift': 29152, 'hine': 29153, 'hões': 29154, 'iami': 29155, 'idah': 29156, 'iels': 29157, 'ifal': 29158, 'ifax': 29159, 'ilst': 29160, 'imbo': 29161, 'inoc': 29162, 'inst': 29163, 'irky': 29164, 'irus': 29165, 'isha': 29166, 'isht': 29167, 'itou': 29168, 'ivio': 29169, 'iças': 29170, 'jold': 29171, 'jsen': 29172, 'karz': 29173, 'kels': 29174, 'lair': 29175, 'leaf': 29176, 'leum': 29177, 'lies': 29178, 'liot': 29179, 'list': 29180, 'lito': 29181, 'lone': 29182, 'lose': 29183, 'mana': 29184, 'meen': 29185, 'metz': 29186, 'neis': 29187, 'neut': 29188, 'news': 29189, 'note': 29190, 'occo': 29191, 'odka': 29192, 'oids': 29193, 'oker': 29194, 'omon': 29195, 'onos': 29196, 'ooka': 29197, 'oons': 29198, 'opro': 29199, 'orse': 29200, 'orão': 29201, 'oshi': 29202, 'osis': 29203, 'izi': 29204, 'úss': 29205, 'alvo': 29206, 'bows': 29207, 'cope': 29208, 'jorn': 29209, 'osni': 29210, 'ossu': 29211, 'otid': 29212, 'oufl': 29213, 'pace': 29214, 'pado': 29215, 'paid': 29216, 'pans': 29217, 'path': 29218, 'phne': 29219, 'pill': 29220, 'pole': 29221, 'pont': 29222, 'ppel': 29223, 'pper': 29224, 'prar': 29225, 'pros': 29226, 'pted': 29227, 'pton': 29228, 'quex': 29229, 'rans': 29230, 'rata': 29231, 'reos': 29232, 'rets': 29233, 'rilá': 29234, 'risk': 29235, 'rius': 29236, 'roso': 29237, 'seen': 29238, 'sens': 29239, 'soft': 29240, 'sold': 29241, 'stam': 29242, 'star': 29243, 'stic': 29244, 'text': 29245, 'than': 29246, 'tina': 29247, 'turb': 29248, 'ubby': 29249, 'uber': 29250, 'ubst': 29251, 'udge': 29252, 'ulou': 29253, 'umen': 29254, 'undi': 29255, 'urit': 29256, 'usha': 29257, 'uzzi': 29258, 'wait': 29259, 'wifi': 29260, 'will': 29261, 'wire': 29262, 'xton': 29263, 'ynth': 29264, 'zzie': 29265, 'árqu': 29266, 'çosa': 29267, 'émen': 29268, 'íamo': 29269, 'íbia': 29270, 'ície': 29271, 'íola': 29272, 'ívia': 29273, 'úcio': 29274, 'úria': 29275, 'ร่อย': 29276, \"▁'40\": 29277, '▁1,1': 29278, '▁1,7': 29279, '▁107': 29280, '▁109': 29281, '▁112': 29282, '▁143': 29283, '▁151': 29284, '▁156': 29285, '▁157': 29286, '▁164': 29287, '▁179': 29288, '▁181': 29289, '▁2.6': 29290, '▁2.7': 29291, '▁25-': 29292, '▁25.': 29293, '▁27-': 29294, '▁270': 29295, '▁280': 29296, '▁3,1': 29297, '▁317': 29298, '▁320': 29299, '▁330': 29300, '▁370': 29301, '▁420': 29302, '▁430': 29303, 'bib': 29304, 'czy': 29305, 'cony': 29306, 'fael': 29307, 'prom': 29308, 'rize': 29309, 'sein': 29310, 'usas': 29311, 'árie': 29312, '▁114': 29313, '▁135': 29314, '▁512': 29315, '▁539': 29316, '▁aak': 29317, '▁aba': 29318, '▁abl': 29319, '▁ala': 29320, '▁amr': 29321, '▁ari': 29322, '▁ark': 29323, '▁atr': 29324, '▁bac': 29325, '▁bmw': 29326, '▁bog': 29327, '▁buz': 29328, '▁bye': 29329, '▁clã': 29330, '▁crp': 29331, '▁cyc': 29332, '▁cét': 29333, '▁doa': 29334, '▁doe': 29335, '▁drc': 29336, '▁dye': 29337, '▁dês': 29338, '▁eel': 29339, '▁eia': 29340, '▁epa': 29341, '▁eve': 29342, '▁fee': 29343, '▁fmi': 29344, '▁fow': 29345, '▁fus': 29346, '▁fér': 29347, '▁gad': 29348, '▁gav': 29349, '▁gev': 29350, '▁glu': 29351, '▁gui': 29352, '▁gus': 29353, '▁hed': 29354, '▁hex': 29355, '▁imf': 29356, '▁imã': 29357, '▁ivy': 29358, '▁jay': 29359, '▁kai': 29360, '▁kem': 29361, '▁klu': 29362, '▁kne': 29363, '▁lip': 29364, '▁lod': 29365, '▁loo': 29366, '▁luf': 29367, '▁mcc': 29368, '▁mcg': 29369, '▁mís': 29370, '▁nao': 29371, '▁naz': 29372, '▁neo': 29373, '▁nfb': 29374, '▁orl': 29375, '▁ort': 29376, '▁prá': 29377, '▁psa': 29378, '▁roy': 29379, '▁sao': 29380, '▁sef': 29381, '▁ses': 29382, '▁shh': 29383, '▁shü': 29384, '▁sow': 29385, '▁ssl': 29386, '▁sty': 29387, '▁swo': 29388, '▁sát': 29389, '▁sís': 29390, '▁sós': 29391, '▁súb': 29392, '▁thy': 29393, '▁tib': 29394, '▁tid': 29395, '▁tiê': 29396, '▁tmm': 29397, '▁tob': 29398, '▁tuf': 29399, '▁tyr': 29400, '▁vad': 29401, '▁vet': 29402, '▁vio': 29403, 'ofa': 29404, 'conj': 29405, 'escu': 29406, 'ouns': 29407, 'sees': 29408, 'írus': 29409, \"▁'50\": 29410, '▁12-': 29411, '▁40-': 29412, '▁550': 29413, '▁640': 29414, '▁bai': 29415, '▁mow': 29416, '▁von': 29417, '▁wig': 29418, '▁wiz': 29419, '▁xer': 29420, '▁xyz': 29421, '▁yay': 29422, '▁yep': 29423, '▁yut': 29424, '▁zen': 29425, '▁ziz': 29426, 'abaab': 29427, 'abyte': 29428, 'acies': 29429, 'acity': 29430, 'activ': 29431, 'aghet': 29432, 'aires': 29433, 'algar': 29434, 'altar': 29435, 'ancet': 29436, 'anche': 29437, 'andan': 29438, 'andex': 29439, 'angri': 29440, 'antos': 29441, 'arche': 29442, 'arder': 29443, 'ascos': 29444, 'asmos': 29445, 'astas': 29446, 'atics': 29447, 'atsby': 29448, 'atubo': 29449, 'aying': 29450, 'bborn': 29451, 'books': 29452, 'calho': 29453, 'categ': 29454, 'china': 29455, 'cisão': 29456, 'coded': 29457, 'craft': 29458, 'death': 29459, 'dutos': 29460, 'earam': 29461, 'earth': 29462, 'ecoin': 29463, 'ecost': 29464, 'ellar': 29465, 'elsea': 29466, 'eming': 29467, 'encer': 29468, 'endez': 29469, 'endic': 29470, 'endip': 29471, 'ereen': 29472, 'eregr': 29473, 'eresa': 29474, 'eroon': 29475, 'escer': 29476, 'estas': 29477, 'etian': 29478, 'ettes': 29479, 'europ': 29480, 'exist': 29481, 'exupé': 29482, 'fords': 29483, 'frame': 29484, 'fusos': 29485, 'gadas': 29486, 'gance': 29487, 'grade': 29488, 'grand': 29489, 'great': 29490, 'grown': 29491, 'guard': 29492, 'hamas': 29493, 'haust': 29494, 'hered': 29495, 'hound': 29496, 'iated': 29497, 'ibrid': 29498, 'ichos': 29499, 'ichot': 29500, 'iciar': 29501, 'idote': 29502, 'idrat': 29503, 'oui': 29504, 'íno': 29505, 'buch': 29506, 'cole': 29507, 'onah': 29508, '▁0,3': 29509, '▁240': 29510, 'guete': 29511, 'ificá': 29512, 'igada': 29513, 'igenm': 29514, 'igned': 29515, 'ilion': 29516, 'iloto': 29517, 'ilson': 29518, 'ilton': 29519, 'imura': 29520, 'insky': 29521, 'ioxid': 29522, 'ipers': 29523, 'isher': 29524, 'ishna': 29525, 'ithic': 29526, 'izava': 29527, 'jados': 29528, 'kirts': 29529, 'knife': 29530, 'langu': 29531, 'laved': 29532, 'lenol': 29533, 'letim': 29534, 'liers': 29535, 'local': 29536, 'mânia': 29537, 'nings': 29538, 'nipeg': 29539, 'nosis': 29540, 'odles': 29541, 'olhar': 29542, 'ollen': 29543, 'ondas': 29544, 'orece': 29545, 'ormal': 29546, 'ormon': 29547, 'orreg': 29548, 'orrer': 29549, 'ossad': 29550, 'ostar': 29551, 'otsie': 29552, 'peace': 29553, 'peras': 29554, 'pical': 29555, 'pipes': 29556, 'plain': 29557, 'polar': 29558, 'ponte': 29559, 'poral': 29560, 'pound': 29561, 'prosy': 29562, 'quila': 29563, 'quist': 29564, 'racts': 29565, 'rante': 29566, 'rarem': 29567, 'rassa': 29568, 'ravid': 29569, 'regar': 29570, 'relig': 29571, 'respe': 29572, 'resse': 29573, 'retos': 29574, 'rigan': 29575, 'rofes': 29576, 'rosso': 29577, 'ruger': 29578, 'seiam': 29579, 'smith': 29580, 'space': 29581, 'stick': 29582, 'store': 29583, 'style': 29584, 'teric': 29585, 'track': 29586, 'ubert': 29587, 'ugais': 29588, 'ulous': 29589, 'umpet': 29590, 'undra': 29591, 'unted': 29592, 'uport': 29593, 'uprof': 29594, 'urece': 29595, 'ureen': 29596, 'ursão': 29597, 'value': 29598, 'verly': 29599, 'vonne': 29600, 'wartz': 29601, 'wheel': 29602, 'women': 29603, 'yanka': 29604, 'ymers': 29605, 'álise': 29606, 'âneas': 29607, 'çaria': 29608, 'çasse': 29609, 'çámos': 29610, 'éctar': 29611, 'édias': 29612, 'élado': 29613, 'élica': 29614, 'érbio': 29615, 'érpre': 29616, 'ídoto': 29617, 'ódica': 29618, 'ólice': 29619, 'óprio': 29620, 'ósito': 29621, 'ótida': 29622, 'ústia': 29623, '▁1323': 29624, '▁17,5': 29625, '▁17.5': 29626, '▁1700': 29627, '▁1812': 29628, '▁1833': 29629, '▁1850': 29630, '▁1876': 29631, '▁1908': 29632, '▁1915': 29633, '▁1919': 29634, '▁1928': 29635, '▁1931': 29636, '▁1943': 29637, '▁1944': 29638, '▁1958': 29639, '▁1969': 29640, '▁1977': 29641, '▁2022': 29642, '▁2027': 29643, '▁2042': 29644, '▁7000': 29645, '▁9000': 29646, '▁abdi': 29647, '▁abed': 29648, '▁ache': 29649, '▁adri': 29650, '▁affl': 29651, '▁afix': 29652, '▁akan': 29653, '▁akin': 29654, '▁anas': 29655, '▁anca': 29656, '▁anex': 29657, '▁angl': 29658, '▁anta': 29659, '▁ants': 29660, '▁anul': 29661, '▁apex': 29662, '▁apps': 29663, '▁aref': 29664, '▁atol': 29665, '▁atxy': 29666, '▁awak': 29667, '▁baff': 29668, '▁baía': 29669, '▁beth': 29670, '▁blis': 29671, '▁boic': 29672, '▁boyd': 29673, '▁bred': 29674, '▁bros': 29675, '▁bulb': 29676, '▁bulg': 29677, '▁bund': 29678, '▁búss': 29679, '▁caia': 29680, '▁cano': 29681, '▁carn': 29682, '▁cbgb': 29683, '▁chau': 29684, '▁chet': 29685, '▁chil': 29686, '▁cind': 29687, '▁cisa': 29688, '▁cium': 29689, '▁clap': 29690, '▁clav': 29691, '▁clut': 29692, '▁coat': 29693, '▁comê': 29694, '▁copa': 29695, '▁crav': 29696, '▁cáps': 29697, '▁dana': 29698, '▁dans': 29699, '▁deca': 29700, '▁defy': 29701, '▁delí': 29702, '▁deny': 29703, '▁deqo': 29704, '▁dilu': 29705, '▁diop': 29706, '▁dock': 29707, '▁doha': 29708, '▁dome': 29709, '▁drun': 29710, '▁dwar': 29711, '▁ebox': 29712, '▁ejac': 29713, '▁enfi': 29714, '▁envy': 29715, '▁enér': 29716, '▁epfl': 29717, '▁erud': 29718, '▁esot': 29719, '▁esto': 29720, '▁esté': 29721, '▁fanc': 29722, '▁feki': 29723, '▁fibr': 29724, '▁fist': 29725, '▁flut': 29726, '▁foca': 29727, '▁forj': 29728, '▁fris': 29729, '▁frog': 29730, '▁fume': 29731, '▁furo': 29732, '▁fury': 29733, '▁gaia': 29734, '▁gajo': 29735, '▁gart': 29736, '▁gezi': 29737, '▁glic': 29738, '▁goat': 29739, '▁goof': 29740, '▁graf': 29741, '▁grie': 29742, '▁guft': 29743, '▁gumi': 29744, '▁gung': 29745, '▁gêis': 29746, '▁hapl': 29747, '▁hats': 29748, '▁heck': 29749, '▁hein': 29750, '▁hort': 29751, '▁hugs': 29752, '▁hutu': 29753, '▁hype': 29754, '▁imam': 29755, '▁imor': 29756, '▁inco': 29757, '▁inut': 29758, '▁iowa': 29759, '▁itch': 29760, '▁jenk': 29761, '▁joey': 29762, '▁juan': 29763, '▁judy': 29764, '▁kall': 29765, '▁kant': 29766, '▁keen': 29767, '▁kemp': 29768, '▁kens': 29769, '▁kiev': 29770, '▁kobe': 29771, '▁leah': 29772, '▁leak': 29773, '▁leuc': 29774, '▁leuk': 29775, '▁levy': 29776, '▁lily': 29777, '▁loaf': 29778, '▁lomb': 29779, '▁luca': 29780, '▁lucy': 29781, '▁lula': 29782, '▁lute': 29783, '▁lyne': 29784, '▁macy': 29785, '▁malé': 29786, '▁mccl': 29787, '▁melt': 29788, '▁memo': 29789, '▁mero': 29790, '▁mias': 29791, '▁midw': 29792, '▁moan': 29793, '▁moby': 29794, '▁muir': 29795, '▁mura': 29796, '▁myop': 29797, '▁nail': 29798, '▁neal': 29799, '▁nell': 29800, '▁nico': 29801, '▁nint': 29802, '▁nyan': 29803, '▁nãos': 29804, '▁obje': 29805, '▁obtê': 29806, '▁odor': 29807, '▁omin': 29808, '▁omit': 29809, '▁otto': 29810, '▁outp': 29811, '▁ouça': 29812, '▁ovel': 29813, '▁palo': 29814, '▁papá': 29815, '▁pave': 29816, '▁pawa': 29817, '▁phyt': 29818, '▁pipa': 29819, '▁piri': 29820, '▁pisa': 29821, '▁piss': 29822, '▁ploc': 29823, '▁poli': 29824, '▁pony': 29825, '▁poof': 29826, '▁pope': 29827, '▁pots': 29828, '▁pyth': 29829, '▁pênd': 29830, '▁qing': 29831, '▁rach': 29832, '▁rags': 29833, '▁ramp': 29834, '▁raíz': 29835, '▁rear': 29836, '▁reci': 29837, '▁reel': 29838, '▁reún': 29839, '▁riam': 29840, '▁rick': 29841, '▁rotu': 29842, '▁rovs': 29843, '▁rows': 29844, '▁rube': 29845, '▁rupt': 29846, '▁sais': 29847, '▁sams': 29848, '▁sarc': 29849, '▁sars': 29850, '▁scha': 29851, '▁seio': 29852, '▁sere': 29853, '▁sham': 29854, '▁shhh': 29855, '▁sica': 29856, '▁sidd': 29857, '▁sigo': 29858, '▁slid': 29859, '▁sole': 29860, '▁somi': 29861, '▁sorr': 29862, '▁spit': 29863, '▁sput': 29864, '▁stip': 29865, '▁suba': 29866, '▁suin': 29867, '▁sula': 29868, '▁sulf': 29869, '▁sums': 29870, '▁swir': 29871, '▁tina': 29872, '▁tinh': 29873, '▁tips': 29874, '▁tirá': 29875, '▁tops': 29876, '▁tore': 29877, '▁tosc': 29878, '▁tres': 29879, '▁tric': 29880, '▁trom': 29881, '▁truc': 29882, '▁tsuk': 29883, '▁usuf': 29884, '▁uvul': 29885, '▁vaiv': 29886, '▁vaso': 29887, '▁veil': 29888, '▁veld': 29889, '▁vemo': 29890, '▁vimo': 29891, '▁vint': 29892, '▁voei': 29893, '▁wage': 29894, '▁wand': 29895, '▁wang': 29896, '▁wess': 29897, '▁whip': 29898, '▁wifi': 29899, '▁wiki': 29900, '▁wint': 29901, '▁wipe': 29902, '▁womb': 29903, '▁worn': 29904, '▁wrtc': 29905, '▁yell': 29906, '▁yuyu': 29907, '▁zhen': 29908, '▁zool': 29909, '▁zoro': 29910, '▁áust': 29911, '▁ínte': 29912, 'actory': 29913, 'amycin': 29914, 'ançois': 29915, 'aporte': 29916, 'arazzi': 29917, 'assist': 29918, 'asungu': 29919, 'athize': 29920, 'atismo': 29921, 'bility': 29922, 'bright': 29923, 'broken': 29924, 'buster': 29925, 'claude': 29926, 'compet': 29927, 'conect': 29928, 'conhec': 29929, 'consin': 29930, 'couver': 29931, 'crates': 29932, 'domést': 29933, 'ductor': 29934, 'effici': 29935, 'eladus': 29936, 'eleira': 29937, 'eleito': 29938, 'emento': 29939, 'endida': 29940, 'entada': 29941, 'erated': 29942, 'ersons': 29943, 'erving': 29944, 'esabag': 29945, 'espaço': 29946, 'esquel': 29947, 'etadas': 29948, 'etores': 29949, 'factos': 29950, 'faring': 29951, 'feição': 29952, 'fellow': 29953, 'heaven': 29954, 'hrined': 29955, 'iances': 29956, 'ichini': 29957, 'idalgo': 29958, 'idária': 29959, 'igente': 29960, 'igrade': 29961, 'igrams': 29962, 'illain': 29963, 'import': 29964, 'inaria': 29965, 'indade': 29966, 'inding': 29967, 'indler': 29968, 'indust': 29969, 'inence': 29970, 'inetes': 29971, 'infect': 29972, 'intosh': 29973, 'invent': 29974, 'iplano': 29975, 'iquely': 29976, 'iravam': 29977, 'itaram': 29978, 'iteiro': 29979, 'laimed': 29980, 'leader': 29981, 'lectic': 29982, 'lights': 29983, 'liness': 29984, 'losure': 29985, 'lândia': 29986, 'morden': 29987, 'mpilot': 29988, 'namics': 29989, 'nesota': 29990, 'odemus': 29991, 'offend': 29992, 'ograma': 29993, 'olates': 29994, 'olites': 29995, 'ometry': 29996, 'omical': 29997, 'onstru': 29998, 'oplast': 29999, 'oscale': 30000, 'oscope': 30001, 'otomia': 30002, 'pheric': 30003, 'placed': 30004, 'ppling': 30005, 'pshire': 30006, 'radura': 30007, 'rainec': 30008, 'render': 30009, 'retion': 30010, 'ributo': 30011, 'rivial': 30012, 'rotado': 30013, 'rowave': 30014, 'sangue': 30015, 'shirts': 30016, 'states': 30017, 'stones': 30018, 'sville': 30019, 'tening': 30020, 'tensão': 30021, 'tronic': 30022, 'ugenah': 30023, 'urecer': 30024, 'uripot': 30025, 'ursões': 30026, 'verted': 30027, 'writer': 30028, 'zinhos': 30029, 'éclair': 30030, 'íticas': 30031, 'ívoros': 30032, 'ótipos': 30033, '▁1,200': 30034, '▁1,600': 30035, '▁1,800': 30036, '▁4.000': 30037, '▁50-60': 30038, '▁50/50': 30039, '▁6.000': 30040, '▁abrem': 30041, '▁accus': 30042, '▁acous': 30043, '▁actos': 30044, '▁adore': 30045, '▁afegã': 30046, '▁aimed': 30047, '▁aired': 30048, '▁akron': 30049, '▁algae': 30050, '▁algar': 30051, '▁alger': 30052, '▁alois': 30053, '▁ancor': 30054, '▁andre': 30055, '▁aneur': 30056, '▁angel': 30057, '▁antiv': 30058, '▁antro': 30059, '▁apênd': 30060, '▁aquis': 30061, '▁arcus': 30062, '▁arias': 30063, '▁arise': 30064, '▁artie': 30065, '▁arupa': 30066, '▁atrop': 30067, '▁babri': 30068, '▁bacia': 30069, '▁bambi': 30070, '▁banir': 30071, '▁berço': 30072, '▁biode': 30073, '▁bison': 30074, '▁blake': 30075, '▁bloss': 30076, '▁blues': 30077, '▁boats': 30078, '▁bobby': 30079, '▁boost': 30080, '▁boris': 30081, '▁botox': 30082, '▁bould': 30083, '▁brené': 30084, '▁broch': 30085, '▁bruta': 30086, '▁brute': 30087, '▁bumps': 30088, '▁burns': 30089, '▁burnt': 30090, '▁buscá': 30091, '▁byron': 30092, '▁calão': 30093, '▁camas': 30094, '▁capta': 30095, '▁carac': 30096, '▁carlo': 30097, '▁cater': 30098, '▁cathy': 30099, '▁caído': 30100, '▁ceaus': 30101, '▁centr': 30102, '▁cesto': 30103, '▁cetic': 30104, '▁chame': 30105, '▁chato': 30106, '▁cilia': 30107, '▁clark': 30108, '▁clerk': 30109, '▁clump': 30110, '▁clunk': 30111, '▁codex': 30112, '▁comam': 30113, '▁comia': 30114, '▁cords': 30115, '▁coroa': 30116, '▁coxas': 30117, '▁criem': 30118, '▁croch': 30119, '▁cryst': 30120, '▁curse': 30121, '▁cólon': 30122, '▁daesh': 30123, '▁danço': 30124, '▁davis': 30125, '▁davos': 30126, '▁dealt': 30127, '▁debra': 30128, '▁decad': 30129, '▁dehyd': 30130, '▁demon': 30131, '▁desab': 30132, '▁deten': 30133, '▁deves': 30134, '▁diane': 30135, '▁digna': 30136, '▁ditam': 30137, '▁dobra': 30138, '▁dried': 30139, '▁dumbo': 30140, '▁dwell': 30141, '▁dyson': 30142, '▁eliot': 30143, '▁eloqu': 30144, '▁emper': 30145, '▁emplo': 30146, '▁enact': 30147, '▁enche': 30148, '▁encur': 30149, '▁enlar': 30150, '▁enron': 30151, '▁erick': 30152, '▁erwin': 30153, '▁essay': 30154, '▁estag': 30155, '▁estal': 30156, '▁esvaz': 30157, '▁ethel': 30158, '▁evitá': 30159, '▁fadas': 30160, '▁fades': 30161, '▁fargo': 30162, '▁fatos': 30163, '▁fatty': 30164, '▁feast': 30165, '▁feixe': 30166, '▁ferve': 30167, '▁fiery': 30168, '▁firms': 30169, '▁flags': 30170, '▁flock': 30171, '▁fluor': 30172, '▁fotoc': 30173, '▁freer': 30174, '▁fugiu': 30175, '▁fulla': 30176, '▁fungi': 30177, '▁gague': 30178, '▁ganga': 30179, '▁gehry': 30180, '▁genus': 30181, '▁giles': 30182, '▁gland': 30183, '▁glove': 30184, '▁golpe': 30185, '▁gotas': 30186, '▁grape': 30187, '▁grava': 30188, '▁grids': 30189, '▁grimm': 30190, '▁grizz': 30191, '▁gruta': 30192, '▁haidt': 30193, '▁halul': 30194, '▁hangs': 30195, '▁hanna': 30196, '▁haram': 30197, '▁harps': 30198, '▁hears': 30199, '▁heats': 30200, '▁heels': 30201, '▁henri': 30202, '▁hered': 30203, '▁hertz': 30204, '▁hitch': 30205, '▁holog': 30206, '▁homof': 30207, '▁hosni': 30208, '▁hélio': 30209, '▁idios': 30210, '▁imbib': 30211, '▁imerg': 30212, '▁immor': 30213, '▁inata': 30214, '▁incra': 30215, '▁indec': 30216, '▁indul': 30217, '▁insan': 30218, '▁insur': 30219, '▁intru': 30220, '▁invoc': 30221, '▁ipsos': 30222, '▁iraqi': 30223, '▁irene': 30224, '▁ishii': 30225, '▁itaip': 30226, '▁jeans': 30227, '▁jonah': 30228, '▁jorge': 30229, '▁joyce': 30230, '▁jubil': 30231, '▁judic': 30232, '▁jumps': 30233, '▁juízo': 30234, '▁kongō': 30235, '▁larry': 30236, '▁lazer': 30237, '▁leaps': 30238, '▁lease': 30239, '▁lebed': 30240, '▁leded': 30241, '▁lemos': 30242, '▁lenda': 30243, '▁lendo': 30244, '▁lepra': 30245, '▁lesse': 30246, '▁linch': 30247, '▁lined': 30248, '▁lisht': 30249, '▁loiça': 30250, '▁luvas': 30251, '▁lélia': 30252, '▁madru': 30253, '▁malek': 30254, '▁manda': 30255, '▁mangu': 30256, '▁manto': 30257, '▁marla': 30258, '▁masse': 30259, '▁mates': 30260, '▁mcdow': 30261, '▁medem': 30262, '▁megap': 30263, '▁miami': 30264, '▁milan': 30265, '▁mills': 30266, '▁mogli': 30267, '▁molda': 30268, '▁molho': 30269, '▁monde': 30270, '▁morra': 30271, '▁morse': 30272, '▁mortg': 30273, '▁mosca': 30274, '▁motas': 30275, '▁motoc': 30276, '▁motos': 30277, '▁motto': 30278, '▁mufti': 30279, '▁mwizi': 30280, '▁mário': 30281, '▁nause': 30282, '▁neoec': 30283, '▁nerds': 30284, '▁nicer': 30285, '▁nicks': 30286, '▁nietz': 30287, '▁notem': 30288, '▁nurem': 30289, '▁obeso': 30290, '▁oddly': 30291, '▁omagh': 30292, '▁oppon': 30293, '▁optei': 30294, '▁orais': 30295, '▁osama': 30296, '▁oshea': 30297, '▁osmos': 30298, '▁overr': 30299, '▁oxfam': 30300, '▁ozone': 30301, '▁ozono': 30302, '▁ozzie': 30303, '▁packs': 30304, '▁pacto': 30305, '▁pagas': 30306, '▁pagou': 30307, '▁paran': 30308, '▁parâm': 30309, '▁patos': 30310, '▁paved': 30311, '▁peaks': 30312, '▁pedac': 30313, '▁pedag': 30314, '▁pelop': 30315, '▁perry': 30316, '▁pesam': 30317, '▁phill': 30318, '▁pinos': 30319, '▁pisar': 30320, '▁pitts': 30321, '▁poets': 30322, '▁polis': 30323, '▁pomar': 30324, '▁porem': 30325, '▁pores': 30326, '▁poros': 30327, '▁posts': 30328, '▁poços': 30329, '▁prada': 30330, '▁praga': 30331, '▁prend': 30332, '▁prist': 30333, '▁probi': 30334, '▁prole': 30335, '▁prose': 30336, '▁proxy': 30337, '▁puber': 30338, '▁punha': 30339, '▁punir': 30340, '▁puser': 30341, '▁quota': 30342, '▁rahul': 30343, '▁ramon': 30344, '▁razan': 30345, '▁razem': 30346, '▁reclu': 30347, '▁reesc': 30348, '▁remun': 30349, '▁resin': 30350, '▁retas': 30351, '▁reviv': 30352, '▁rifle': 30353, '▁rigid': 30354, '▁rolls': 30355, '▁rudim': 30356, '▁sagan': 30357, '▁sages': 30358, '▁salim': 30359, '▁sapos': 30360, '▁scala': 30361, '▁scent': 30362, '▁schrö': 30363, '▁scout': 30364, '▁scrib': 30365, '▁selma': 30366, '▁sento': 30367, '▁shadi': 30368, '▁shand': 30369, '▁shark': 30370, '▁sheet': 30371, '▁sibil': 30372, '▁sinos': 30373, '▁sipes': 30374, '▁situa': 30375, '▁sixth': 30376, '▁skier': 30377, '▁sniff': 30378, '▁socio': 30379, '▁socks': 30380, '▁sofri': 30381, '▁sofro': 30382, '▁somar': 30383, '▁sonda': 30384, '▁spans': 30385, '▁spart': 30386, '▁stagn': 30387, '▁stark': 30388, '▁stato': 30389, '▁stero': 30390, '▁subsa': 30391, '▁sufoc': 30392, '▁supor': 30393, '▁surda': 30394, '▁susan': 30395, '▁sushi': 30396, '▁swear': 30397, '▁swell': 30398, '▁síndr': 30399, '▁tabby': 30400, '▁tabus': 30401, '▁taker': 30402, '▁tampa': 30403, '▁tapes': 30404, '▁taças': 30405, '▁teias': 30406, '▁tente': 30407, '▁tiles': 30408, '▁tokyo': 30409, '▁tonal': 30410, '▁tonga': 30411, '▁torre': 30412, '▁tract': 30413, '▁trair': 30414, '▁traps': 30415, '▁trava': 30416, '▁tubul': 30417, '▁tutsi': 30418, '▁umbre': 30419, '▁unama': 30420, '▁undes': 30421, '▁uneth': 30422, '▁unrem': 30423, '▁urano': 30424, '▁urine': 30425, '▁usaid': 30426, '▁uvula': 30427, '▁vagab': 30428, '▁valeu': 30429, '▁valha': 30430, '▁valia': 30431, '▁velas': 30432, '▁vendi': 30433, '▁venus': 30434, '▁veria': 30435, '▁vires': 30436, '▁viste': 30437, '▁vitam': 30438, '▁vodka': 30439, '▁volts': 30440, '▁volum': 30441, '▁votam': 30442, '▁voter': 30443, '▁vénia': 30444, '▁waltz': 30445, '▁wavin': 30446, '▁weave': 30447, '▁whoom': 30448, '▁wreck': 30449, '▁yahoo': 30450, '▁yearn': 30451, '▁yeats': 30452, '▁zeros': 30453, '▁árido': 30454, '▁ímpar': 30455, '▁ótica': 30456, '▁อร่อย': 30457, 'adinhos': 30458, 'aghetti': 30459, 'amicina': 30460, 'arelato': 30461, 'arregue': 30462, 'atemala': 30463, 'atorium': 30464, 'balance': 30465, 'cabeças': 30466, 'cadabra': 30467, 'cements': 30468, 'conform': 30469, 'control': 30470, 'covered': 30471, 'crapers': 30472, 'creatic': 30473, 'culares': 30474, 'culloch': 30475, 'elysees': 30476, 'ensível': 30477, 'escente': 30478, 'exupéry': 30479, 'ficiais': 30480, 'founded': 30481, 'fourths': 30482, 'fulfill': 30483, 'funding': 30484, 'grimage': 30485, 'gráfica': 30486, 'gráfico': 30487, 'iceless': 30488, 'ikuppam': 30489, 'izarmos': 30490, 'keeping': 30491, 'lasting': 30492, 'leaning': 30493, 'massive': 30494, 'mingham': 30495, 'neutral': 30496, 'nóstico': 30497, 'ogéneos': 30498, 'olítica': 30499, 'ometria': 30500, 'onsider': 30501, 'ordable': 30502, 'oscópio': 30503, 'ouflage': 30504, 'posição': 30505, 'rabbits': 30506, 'riously': 30507, 'rologia': 30508, 'sociais': 30509, 'termais': 30510, 'thermal': 30511, 'uflagem': 30512, 'umented': 30513, 'unction': 30514, 'visuais': 30515, 'êntrico': 30516, 'ígrados': 30517, '▁60,000': 30518, '▁90.000': 30519, '▁aakash': 30520, '▁abolir': 30521, '▁acasal': 30522, '▁aceita': 30523, '▁acenar': 30524, '▁adoção': 30525, '▁adrian': 30526, '▁advise': 30527, '▁afetou': 30528, '▁aguent': 30529, '▁alasca': 30530, '▁aleató': 30531, '▁alexis': 30532, '▁amanda': 30533, '▁amphib': 30534, '▁amster': 30535, '▁analie': 30536, '▁anchor': 30537, '▁animar': 30538, '▁anonim': 30539, '▁anuais': 30540, '▁apathy': 30541, '▁apatia': 30542, '▁apoder': 30543, '▁apoiou': 30544, '▁arbitr': 30545, '▁arcade': 30546, '▁areias': 30547, '▁arriba': 30548, '▁artery': 30549, '▁arusha': 30550, '▁asfált': 30551, '▁ashley': 30552, '▁assure': 30553, '▁astrón': 30554, '▁atacam': 30555, '▁atirou': 30556, '▁attest': 30557, '▁atwood': 30558, '▁autora': 30559, '▁avança': 30560, '▁avisos': 30561, '▁aéreas': 30562, '▁baldes': 30563, '▁balões': 30564, '▁banned': 30565, '▁barber': 30566, '▁barric': 30567, '▁batata': 30568, '▁beijar': 30569, '▁bernie': 30570, '▁betume': 30571, '▁binder': 30572, '▁biocom': 30573, '▁bipart': 30574, '▁blaise': 30575, '▁blamed': 30576, '▁bleach': 30577, '▁boeing': 30578, '▁bogotá': 30579, '▁bordas': 30580, '▁borges': 30581, '▁bounce': 30582, '▁bounds': 30583, '▁bowles': 30584, '▁brahui': 30585, '▁brides': 30586, '▁browse': 30587, '▁bujold': 30588, '▁bumble': 30589, '▁bunker': 30590, '▁cabina': 30591, '▁caindo': 30592, '▁calmos': 30593, '▁cancel': 30594, '▁cargas': 30595, '▁carlin': 30596, '▁cativa': 30597, '▁cative': 30598, '▁cavitt': 30599, '▁cheikh': 30600, '▁chrome': 30601, '▁chubby': 30602, '▁chunks': 30603, '▁cinder': 30604, '▁claras': 30605, '▁cliché': 30606, '▁coated': 30607, '▁cofund': 30608, '▁cohort': 30609, '▁comiam': 30610, '▁concoc': 30611, '▁conviv': 30612, '▁convol': 30613, '▁cooler': 30614, '▁copern': 30615, '▁coping': 30616, '▁cowboy': 30617, '▁crappy': 30618, '▁cremos': 30619, '▁crente': 30620, '▁cronin': 30621, '▁crosso': 30622, '▁cruéis': 30623, '▁cuecas': 30624, '▁culmin': 30625, '▁curtos': 30626, '▁cylind': 30627, '▁cético': 30628, '▁cílios': 30629, '▁cívica': 30630, '▁códice': 30631, '▁cúbico': 30632, '▁dançam': 30633, '▁daphne': 30634, '▁darfur': 30635, '▁dariam': 30636, '▁darker': 30637, '▁decree': 30638, '▁deemed': 30639, '▁defino': 30640, '▁deflag': 30641, '▁denser': 30642, '▁deport': 30643, '▁derret': 30644, '▁desarm': 30645, '▁deseja': 30646, '▁deslum': 30647, '▁devias': 30648, '▁devida': 30649, '▁dialog': 30650, '▁diaper': 30651, '▁dichot': 30652, '▁dignas': 30653, '▁disast': 30654, '▁diseng': 30655, '▁disput': 30656, '▁doable': 30657, '▁doando': 30658, '▁donate': 30659, '▁dormia': 30660, '▁dracon': 30661, '▁dravid': 30662, '▁dreamt': 30663, '▁drinks': 30664, '▁dumbed': 30665, '▁dumped': 30666, '▁edison': 30667, '▁eigenm': 30668, '▁eletro': 30669, '▁elliot': 30670, '▁ellory': 30671, '▁ementa': 30672, '▁emitem': 30673, '▁engord': 30674, '▁engulf': 30675, '▁ensiná': 30676, '▁entail': 30677, '▁entang': 30678, '▁entedi': 30679, '▁enunci': 30680, '▁equipe': 30681, '▁ergueu': 30682, '▁esboço': 30683, '▁escrev': 30684, '▁escute': 30685, '▁esgoto': 30686, '▁espart': 30687, '▁espert': 30688, '▁esprem': 30689, '▁essays': 30690, '▁estalo': 30691, '▁esther': 30692, '▁estrem': 30693, '▁estrit': 30694, '▁estuda': 30695, '▁evitem': 30696, '▁exatas': 30697, '▁extern': 30698, '▁exuber': 30699, '▁facade': 30700, '▁faceta': 30701, '▁falido': 30702, '▁farrar': 30703, '▁fatwas': 30704, '▁fazêmo': 30705, '▁fermat': 30706, '▁fibros': 30707, '▁fierce': 30708, '▁finest': 30709, '▁finito': 30710, '▁fitbit': 30711, '▁flagel': 30712, '▁flappy': 30713, '▁flawed': 30714, '▁floods': 30715, '▁floral': 30716, '▁focado': 30717, '▁forbes': 30718, '▁forbid': 30719, '▁fowler': 30720, '▁fralda': 30721, '▁framed': 30722, '▁franco': 30723, '▁frates': 30724, '▁fresco': 30725, '▁fridge': 30726, '▁frosty': 30727, '▁fundei': 30728, '▁fungos': 30729, '▁galena': 30730, '▁gallup': 30731, '▁garoto': 30732, '▁gatsby': 30733, '▁gently': 30734, '▁geogra': 30735, '▁gerado': 30736, '▁gerido': 30737, '▁giants': 30738, '▁giroux': 30739, '▁glória': 30740, '▁gostas': 30741, '▁grants': 30742, '▁gravei': 30743, '▁gritou': 30744, '▁grosse': 30745, '▁gémeas': 30746, '▁hanson': 30747, '▁harlan': 30748, '▁harvey': 30749, '▁hatred': 30750, '▁hazara': 30751, '▁hazrat': 30752, '▁heated': 30753, '▁helium': 30754, '▁helmet': 30755, '▁herald': 30756, '▁herbic': 30757, '▁hibrid': 30758, '▁hilton': 30759, '▁hinton': 30760, '▁hippie': 30761, '▁hunted': 30762, '▁húmida': 30763, '▁ideals': 30764, '▁inacab': 30765, '▁incluí': 30766, '▁indist': 30767, '▁infind': 30768, '▁interd': 30769, '▁jabbar': 30770, '▁joking': 30771, '▁jorgen': 30772, '▁joyful': 30773, '▁jurisd': 30774, '▁kanchi': 30775, '▁kettle': 30776, '▁kevlar': 30777, '▁kicker': 30778, '▁kindle': 30779, '▁kitten': 30780, '▁koblin': 30781, '▁koller': 30782, '▁krills': 30783, '▁kuwait': 30784, '▁lancet': 30785, '▁langer': 30786, '▁latent': 30787, '▁laying': 30788, '▁liking': 30789, '▁limita': 30790, '▁limpia': 30791, '▁lively': 30792, '▁longín': 30793, '▁lovins': 30794, '▁ludwig': 30795, '▁luskin': 30796, '▁lyrics': 30797, '▁macros': 30798, '▁madame': 30799, '▁majest': 30800, '▁makeup': 30801, '▁mancha': 30802, '▁manila': 30803, '▁marble': 30804, '▁marcel': 30805, '▁marder': 30806, '▁mashup': 30807, '▁masjid': 30808, '▁massey': 30809, '▁mayors': 30810, '▁median': 30811, '▁medica': 30812, '▁mentor': 30813, '▁menção': 30814, '▁mereço': 30815, '▁metást': 30816, '▁microm': 30817, '▁micror': 30818, '▁miller': 30819, '▁milton': 30820, '▁misbeh': 30821, '▁misuse': 30822, '▁molded': 30823, '▁monash': 30824, '▁mormon': 30825, '▁morpho': 30826, '▁morris': 30827, '▁mosque': 30828, '▁mossad': 30829, '▁mowgli': 30830, '▁mudará': 30831, '▁mudava': 30832, '▁mumita': 30833, '▁músico': 30834, '▁nathan': 30835, '▁nativo': 30836, '▁nebras': 30837, '▁newest': 30838, '▁norris': 30839, '▁norton': 30840, '▁néctar': 30841, '▁obtida': 30842, '▁octave': 30843, '▁oitava': 30844, '▁opaque': 30845, '▁oriund': 30846, '▁orwell': 30847, '▁ostrac': 30848, '▁outlaw': 30849, '▁overhe': 30850, '▁owning': 30851, '▁paleta': 30852, '▁panama': 30853, '▁paragu': 30854, '▁partem': 30855, '▁pascal': 30856, '▁patroc': 30857, '▁paulie': 30858, '▁paused': 30859, '▁paypal': 30860, '▁peanut': 30861, '▁pendur': 30862, '▁penile': 30863, '▁peregr': 30864, '▁perfum': 30865, '▁perony': 30866, '▁persas': 30867, '▁pesada': 30868, '▁peters': 30869, '▁photoc': 30870, '▁picket': 30871, '▁pillow': 30872, '▁pincel': 30873, '▁pintor': 30874, '▁plague': 30875, '▁plumas': 30876, '▁plumes': 30877, '▁podemo': 30878, '▁poetas': 30879, '▁polite': 30880, '▁poorer': 30881, '▁precar': 30882, '▁pressa': 30883, '▁privat': 30884, '▁proana': 30885, '▁proeza': 30886, '▁profan': 30887, '▁profer': 30888, '▁pulgas': 30889, '▁pulver': 30890, '▁punctu': 30891, '▁pálido': 30892, '▁pátios': 30893, '▁pátria': 30894, '▁quadru': 30895, '▁quarks': 30896, '▁racist': 30897, '▁rafael': 30898, '▁raping': 30899, '▁rashid': 30900, '▁ratios': 30901, '▁reagan': 30902, '▁reclus': 30903, '▁recuso': 30904, '▁reféns': 30905, '▁reggie': 30906, '▁relied': 30907, '▁relies': 30908, '▁remota': 30909, '▁rented': 30910, '▁resgat': 30911, '▁resina': 30912, '▁restam': 30913, '▁retiro': 30914, '▁reverb': 30915, '▁revert': 30916, '▁revira': 30917, '▁rielly': 30918, '▁ripped': 30919, '▁roadbl': 30920, '▁rockef': 30921, '▁rodent': 30922, '▁roller': 30923, '▁romant': 30924, '▁ronald': 30925, '▁ruined': 30926, '▁rushed': 30927, '▁sacerd': 30928, '▁saltam': 30929, '▁saltei': 30930, '▁salvas': 30931, '▁sandra': 30932, '▁satire': 30933, '▁saudis': 30934, '▁seeded': 30935, '▁seeker': 30936, '▁senado': 30937, '▁senate': 30938, '▁senesc': 30939, '▁separa': 30940, '▁serial': 30941, '▁shaken': 30942, '▁sharon': 30943, '▁sheikh': 30944, '▁shield': 30945, '▁sights': 30946, '▁sirens': 30947, '▁sirius': 30948, '▁sirvam': 30949, '▁situam': 30950, '▁skiing': 30951, '▁slider': 30952, '▁smelly': 30953, '▁sobrep': 30954, '▁softer': 30955, '▁solely': 30956, '▁sonata': 30957, '▁sophia': 30958, '▁sophos': 30959, '▁soprar': 30960, '▁specul': 30961, '▁spells': 30962, '▁spiked': 30963, '▁spikes': 30964, '▁splash': 30965, '▁sprung': 30966, '▁squint': 30967, '▁stance': 30968, '▁staple': 30969, '▁steril': 30970, '▁stevie': 30971, '▁strand': 30972, '▁straus': 30973, '▁strips': 30974, '▁stuart': 30975, '▁subiam': 30976, '▁subido': 30977, '▁submer': 30978, '▁submun': 30979, '▁subpro': 30980, '▁sughar': 30981, '▁sulfur': 30982, '▁summit': 30983, '▁sumner': 30984, '▁suprem': 30985, '▁sétimo': 30986, '▁tactic': 30987, '▁tapete': 30988, '▁tapped': 30989, '▁teresa': 30990, '▁testei': 30991, '▁texted': 30992, '▁thelma': 30993, '▁thighs': 30994, '▁thrill': 30995, '▁thumbs': 30996, '▁tigers': 30997, '▁timesc': 30998, '▁tirana': 30999, '▁tocada': 31000, '▁toquei': 31001, '▁totais': 31002, '▁tratou': 31003, '▁treina': 31004, '▁trigon': 31005, '▁trinch': 31006, '▁tripod': 31007, '▁triunf': 31008, '▁trocad': 31009, '▁trocam': 31010, '▁troops': 31011, '▁tumble': 31012, '▁tumblr': 31013, '▁tundra': 31014, '▁turere': 31015, '▁turnos': 31016, '▁tuscan': 31017, '▁tímido': 31018, '▁tóquio': 31019, '▁túneis': 31020, '▁unreal': 31021, '▁untrue': 31022, '▁uptake': 31023, '▁uranus': 31024, '▁vancom': 31025, '▁variam': 31026, '▁vazias': 31027, '▁vendeu': 31028, '▁venues': 31029, '▁videoc': 31030, '▁viewer': 31031, '▁vincul': 31032, '▁viriam': 31033, '▁visitá': 31034, '▁vivida': 31035, '▁voyage': 31036, '▁warmth': 31037, '▁warned': 31038, '▁warner': 31039, '▁watery': 31040, '▁whilst': 31041, '▁wijsen': 31042, '▁wiring': 31043, '▁witten': 31044, '▁worthy': 31045, '▁yakima': 31046, '▁yandex': 31047, '▁yelled': 31048, '▁yoruba': 31049, '▁yutaka': 31050, '▁yvonne': 31051, '▁zurich': 31052, '▁ácidos': 31053, '▁ándale': 31054, '▁épocas': 31055, 'abelecer': 31056, 'aginável': 31057, 'alização': 31058, 'appropri': 31059, 'assembly': 31060, 'centered': 31061, 'controll': 31062, 'cultural': 31063, 'economic': 31064, 'elétrica': 31065, 'estimate': 31066, 'ficially': 31067, 'françois': 31068, 'heastern': 31069, 'icultura': 31070, 'iminares': 31071, 'inesacco': 31072, 'inteiros': 31073, 'ionality': 31074, 'itamento': 31075, 'ivocally': 31076, 'language': 31077, 'namorado': 31078, 'omething': 31079, 'pedition': 31080, 'potência': 31081, 'ractical': 31082, 'smanship': 31083, 'stranded': 31084, 'tainable': 31085, 'thousand': 31086, 'violence': 31087, '▁150.000': 31088, '▁155,000': 31089, '▁abdicar': 31090, '▁abraços': 31091, '▁abusivo': 31092, '▁acabara': 31093, '▁aceitem': 31094, '▁acendem': 31095, '▁acendeu': 31096, '▁acordei': 31097, '▁activas': 31098, '▁activos': 31099, '▁adotivo': 31100, '▁adverse': 31101, '▁afastou': 31102, '▁afegãos': 31103, '▁agradar': 31104, '▁airways': 31105, '▁ajudado': 31106, '▁ajustam': 31107, '▁alcorão': 31108, '▁alegres': 31109, '▁alertar': 31110, '▁alfabet': 31111, '▁alinhar': 31112, '▁altifal': 31113, '▁amarela': 31114, '▁amateur': 31115, '▁analisá': 31116, '▁andando': 31117, '▁andámos': 31118, '▁anedota': 31119, '▁angular': 31120, '▁anseiam': 31121, '▁antenna': 31122, '▁antique': 31123, '▁apendic': 31124, '▁apparel': 31125, '▁aprovar': 31126, '▁apólice': 31127, '▁aquifer': 31128, '▁artéria': 31129, '▁assumed': 31130, '▁aurasma': 31131, '▁autista': 31132, '▁autocol': 31133, '▁autossu': 31134, '▁bahamas': 31135, '▁balcony': 31136, '▁ballbot': 31137, '▁bandura': 31138, '▁barnett': 31139, '▁batting': 31140, '▁bazooka': 31141, '▁bearing': 31142, '▁beavers': 31143, '▁bengala': 31144, '▁bettina': 31145, '▁beverly': 31146, '▁binding': 31147, '▁bionics': 31148, '▁bisbilh': 31149, '▁bitumen': 31150, '▁blanket': 31151, '▁boletim': 31152, '▁bonecas': 31153, '▁booking': 31154, '▁brakarz': 31155, '▁brianna': 31156, '▁britney': 31157, '▁brittle': 31158, '▁brugger': 31159, '▁burundi': 31160, '▁buzzing': 31161, '▁bússola': 31162, '▁caderno': 31163, '▁calcutá': 31164, '▁camping': 31165, '▁carotid': 31166, '▁cassini': 31167, '▁caótica': 31168, '▁cerrado': 31169, '▁charlot': 31170, '▁chegara': 31171, '▁chelsea': 31172, '▁chooses': 31173, '▁chopped': 31174, '▁circund': 31175, '▁clausen': 31176, '▁cocaine': 31177, '▁cocaína': 31178, '▁coerção': 31179, '▁colidem': 31180, '▁colleen': 31181, '▁colonos': 31182, '▁colorir': 31183, '▁comidas': 31184, '▁comprem': 31185, '▁compõem': 31186, '▁concede': 31187, '▁concess': 31188, '▁concili': 31189, '▁concuss': 31190, '▁conduta': 31191, '▁confuci': 31192, '▁console': 31193, '▁constat': 31194, '▁conting': 31195, '▁converg': 31196, '▁convido': 31197, '▁copular': 31198, '▁costing': 31199, '▁cowshed': 31200, '▁crashed': 31201, '▁cryptic': 31202, '▁cultivo': 31203, '▁cunhado': 31204, '▁custará': 31205, '▁custava': 31206, '▁cutaway': 31207, '▁cósmica': 31208, '▁cósmico': 31209, '▁daniels': 31210, '▁darknet': 31211, '▁dataset': 31212, '▁debated': 31213, '▁decreto': 31214, '▁deduzir': 31215, '▁dehuman': 31216, '▁demanda': 31217, '▁demitir': 31218, '▁dennett': 31219, '▁dentada': 31220, '▁desafia': 31221, '▁desanim': 31222, '▁desktop': 31223, '▁desloca': 31224, '▁desprez': 31225, '▁desuman': 31226, '▁desvios': 31227, '▁devamos': 31228, '▁deveras': 31229, '▁devoted': 31230, '▁dialect': 31231, '▁diapers': 31232, '▁digress': 31233, '▁dimitri': 31234, '▁discont': 31235, '▁dissera': 31236, '▁distint': 31237, '▁diversa': 31238, '▁dividem': 31239, '▁divisas': 31240, '▁divorce': 31241, '▁docente': 31242, '▁dolphin': 31243, '▁doodles': 31244, '▁dragged': 31245, '▁dresses': 31246, '▁drifted': 31247, '▁dropper': 31248, '▁earning': 31249, '▁elegant': 31250, '▁eleitos': 31251, '▁eletrôn': 31252, '▁elimina': 31253, '▁emailed': 31254, '▁emergem': 31255, '▁empenho': 31256, '▁empires': 31257, '▁empurra': 31258, '▁endemic': 31259, '▁enlatar': 31260, '▁entenda': 31261, '▁entregá': 31262, '▁enxames': 31263, '▁equador': 31264, '▁equívoc': 31265, '▁escasso': 31266, '▁escavar': 31267, '▁escutam': 31268, '▁espadas': 31269, '▁esposas': 31270, '▁espreit': 31271, '▁esquiar': 31272, '▁estadia': 31273, '▁estelar': 31274, '▁estonia': 31275, '▁estufas': 31276, '▁estupef': 31277, '▁estátua': 31278, '▁estónia': 31279, '▁evacuar': 31280, '▁evangel': 31281, '▁excites': 31282, '▁excuses': 31283, '▁extends': 31284, '▁extenso': 31285, '▁eyebrow': 31286, '▁fabrica': 31287, '▁fachada': 31288, '▁faculty': 31289, '▁falaria': 31290, '▁falhado': 31291, '▁fallout': 31292, '▁fascina': 31293, '▁fascist': 31294, '▁fazenda': 31295, '▁ficções': 31296, '▁filtros': 31297, '▁fischer': 31298, '▁fission': 31299, '▁focagem': 31300, '▁foguete': 31301, '▁forcing': 31302, '▁formada': 31303, '▁founder': 31304, '▁fractal': 31305, '▁frascos': 31306, '▁freeing': 31307, '▁freeman': 31308, '▁freeway': 31309, '▁futures': 31310, '▁gabriel': 31311, '▁gallons': 31312, '▁gandhis': 31313, '▁gartner': 31314, '▁genebra': 31315, '▁genuine': 31316, '▁geology': 31317, '▁gerimos': 31318, '▁germans': 31319, '▁geysers': 31320, '▁glowing': 31321, '▁gripped': 31322, '▁grávida': 31323, '▁guiding': 31324, '▁gunshot': 31325, '▁habitam': 31326, '▁halifax': 31327, '▁handles': 31328, '▁hannity': 31329, '▁havemos': 31330, '▁hayward': 31331, '▁hazaras': 31332, '▁heiberg': 31333, '▁heights': 31334, '▁helices': 31335, '▁herding': 31336, '▁hidalgo': 31337, '▁hiroshi': 31338, '▁horário': 31339, '▁hostage': 31340, '▁hottest': 31341, '▁hunters': 31342, '▁hurting': 31343, '▁hussein': 31344, '▁híbrido': 31345, '▁ibuprof': 31346, '▁ignores': 31347, '▁iguaria': 31348, '▁importo': 31349, '▁imposto': 31350, '▁incapaz': 31351, '▁incidir': 31352, '▁incomum': 31353, '▁indiana': 31354, '▁infetar': 31355, '▁influen': 31356, '▁ingerir': 31357, '▁inhaler': 31358, '▁inigual': 31359, '▁integra': 31360, '▁inventa': 31361, '▁investe': 31362, '▁irradia': 31363, '▁issuing': 31364, '▁jacuzzi': 31365, '▁jeffrey': 31366, '▁jenkins': 31367, '▁judaism': 31368, '▁juntamo': 31369, '▁jurispr': 31370, '▁kasungu': 31371, '▁ketchup': 31372, '▁kicking': 31373, '▁krishna': 31374, '▁laboral': 31375, '▁latinas': 31376, '▁lending': 31377, '▁leopard': 31378, '▁leprosy': 31379, '▁lesions': 31380, '▁levadas': 31381, '▁liderei': 31382, '▁lifting': 31383, '▁ligeiro': 31384, '▁linking': 31385, '▁listing': 31386, '▁livable': 31387, '▁locking': 31388, '▁locutor': 31389, '▁lowered': 31390, '▁macedon': 31391, '▁madeire': 31392, '▁mailbox': 31393, '▁malevol': 31394, '▁mallory': 31395, '▁manchas': 31396, '▁mantida': 31397, '▁maníaco': 31398, '▁maquilh': 31399, '▁maquina': 31400, '▁marcada': 31401, '▁markers': 31402, '▁markham': 31403, '▁marseus': 31404, '▁maureen': 31405, '▁mcgowan': 31406, '▁medalha': 31407, '▁mediate': 31408, '▁mediums': 31409, '▁miasmas': 31410, '▁migrate': 31411, '▁mississ': 31412, '▁mobsoft': 31413, '▁mogahed': 31414, '▁moldado': 31415, '▁monstru': 31416, '▁montado': 31417, '▁monthly': 31418, '▁morally': 31419, '▁mordomo': 31420, '▁morocco': 31421, '▁morphed': 31422, '▁mosques': 31423, '▁mounted': 31424, '▁mudando': 31425, '▁multics': 31426, '▁mundano': 31427, '▁muralha': 31428, '▁mágicos': 31429, '▁máscara': 31430, '▁métrica': 31431, '▁mísseis': 31432, '▁módulos': 31433, '▁narrows': 31434, '▁natalia': 31435, '▁nativos': 31436, '▁nenhuns': 31437, '▁neurops': 31438, '▁niestat': 31439, '▁nomeado': 31440, '▁nominee': 31441, '▁noodles': 31442, '▁notices': 31443, '▁notámos': 31444, '▁nourish': 31445, '▁nursery': 31446, '▁observa': 31447, '▁obtendo': 31448, '▁ocorria': 31449, '▁oitenta': 31450, '▁olhares': 31451, '▁oppress': 31452, '▁orbital': 31453, '▁orbitar': 31454, '▁orchard': 31455, '▁ordenar': 31456, '▁orlando': 31457, '▁ousados': 31458, '▁ovelhas': 31459, '▁ovários': 31460, '▁packing': 31461, '▁palazzo': 31462, '▁parades': 31463, '▁parasse': 31464, '▁paravac': 31465, '▁parente': 31466, '▁patriar': 31467, '▁patrões': 31468, '▁pedisse': 31469, '▁peering': 31470, '▁pellets': 31471, '▁penetra': 31472, '▁permane': 31473, '▁permiss': 31474, '▁perspic': 31475, '▁pharmac': 31476, '▁picadas': 31477, '▁pickens': 31478, '▁pintado': 31479, '▁pioneer': 31480, '▁pitched': 31481, '▁planned': 31482, '▁pleased': 31483, '▁pledged': 31484, '▁podendo': 31485, '▁poderei': 31486, '▁policia': 31487, '▁polónia': 31488, '▁poético': 31489, '▁praised': 31490, '▁prancha': 31491, '▁prehist': 31492, '▁prepara': 31493, '▁prepará': 31494, '▁pressed': 31495, '▁prestam': 31496, '▁presume': 31497, '▁prevejo': 31498, '▁probing': 31499, '▁profeta': 31500, '▁progeny': 31501, '▁publicá': 31502, '▁puserem': 31503, '▁péssimo': 31504, '▁qingmin': 31505, '▁quebram': 31506, '▁queixou': 31507, '▁quentin': 31508, '▁rabassa': 31509, '▁rafidah': 31510, '▁reacted': 31511, '▁realist': 31512, '▁recebia': 31513, '▁recolhi': 31514, '▁reconst': 31515, '▁recreat': 31516, '▁recriar': 31517, '▁recusei': 31518, '▁reencam': 31519, '▁referem': 31520, '▁reforms': 31521, '▁regista': 31522, '▁regrets': 31523, '▁relaxar': 31524, '▁relvado': 31525, '▁removal': 31526, '▁removes': 31527, '▁renewed': 31528, '▁repower': 31529, '▁residue': 31530, '▁resiste': 31531, '▁resists': 31532, '▁retirou': 31533, '▁revised': 31534, '▁rightly': 31535, '▁riskier': 31536, '▁robusto': 31537, '▁rodeada': 31538, '▁rotates': 31539, '▁rotação': 31540, '▁rushing': 31541, '▁rígidos': 31542, '▁rótulos': 31543, '▁sabores': 31544, '▁sailors': 31545, '▁sairmos': 31546, '▁sanders': 31547, '▁sanford': 31548, '▁sankofa': 31549, '▁satisfy': 31550, '▁savanna': 31551, '▁scandal': 31552, '▁scandin': 31553, '▁scatter': 31554, '▁schemes': 31555, '▁scrolls': 31556, '▁sedaris': 31557, '▁semicon': 31558, '▁seminal': 31559, '▁sequest': 31560, '▁serpent': 31561, '▁serviam': 31562, '▁shangri': 31563, '▁shaping': 31564, '▁shekels': 31565, '▁shelves': 31566, '▁shereen': 31567, '▁shermer': 31568, '▁sinking': 31569, '▁sintoma': 31570, '▁sirleaf': 31571, '▁skinner': 31572, '▁smashed': 31573, '▁socorro': 31574, '▁solicit': 31575, '▁sombrio': 31576, '▁soviets': 31577, '▁spatial': 31578, '▁sponges': 31579, '▁squeeze': 31580, '▁startup': 31581, '▁stimuli': 31582, '▁stromat': 31583, '▁sudeste': 31584, '▁sugerem': 31585, '▁suposta': 31586, '▁swollen': 31587, '▁tanagra': 31588, '▁tapioca': 31589, '▁teclado': 31590, '▁telekom': 31591, '▁tequila': 31592, '▁terrace': 31593, '▁terraço': 31594, '▁thereby': 31595, '▁therein': 31596, '▁theresa': 31597, '▁threads': 31598, '▁tickets': 31599, '▁tightly': 31600, '▁toaster': 31601, '▁tobacco': 31602, '▁tomando': 31603, '▁tootsie': 31604, '▁torrent': 31605, '▁tougher': 31606, '▁tourist': 31607, '▁traduzi': 31608, '▁trajeto': 31609, '▁translú': 31610, '▁trazida': 31611, '▁tributo': 31612, '▁trilhos': 31613, '▁trilogy': 31614, '▁triunfo': 31615, '▁tunnels': 31616, '▁turbine': 31617, '▁twisted': 31618, '▁tylenol': 31619, '▁térmico': 31620, '▁túmulos': 31621, '▁unaware': 31622, '▁unequal': 31623, '▁uruguai': 31624, '▁uruguay': 31625, '▁utopias': 31626, '▁variada': 31627, '▁varíola': 31628, '▁vendiam': 31629, '▁vendido': 31630, '▁vibrato': 31631, '▁vicioso': 31632, '▁viessem': 31633, '▁villain': 31634, '▁vintage': 31635, '▁viraram': 31636, '▁virgins': 31637, '▁visions': 31638, '▁vividly': 31639, '▁vocação': 31640, '▁volcano': 31641, '▁votação': 31642, '▁wagging': 31643, '▁waldorf': 31644, '▁wallets': 31645, '▁wasting': 31646, '▁weakest': 31647, '▁webster': 31648, '▁weights': 31649, '▁welfare': 31650, '▁whatnot': 31651, '▁wintris': 31652, '▁wishful': 31653, '▁wolmetz': 31654, '▁woolard': 31655, '▁worries': 31656, '▁zangada': 31657, '▁zizzing': 31658, '▁zoroast': 31659, '▁àquelas': 31660, '▁árctico': 31661, '▁áustria': 31662, '▁óptimos': 31663, 'americans': 31664, 'ationally': 31665, 'boyfriend': 31666, 'cientific': 31667, 'connected': 31668, 'criptions': 31669, 'esabagina': 31670, 'ficientes': 31671, 'ficiência': 31672, 'haustible': 31673, 'ifference': 31674, 'important': 31675, 'odynamics': 31676, 'ographics': 31677, 'organisms': 31678, 'ossexuais': 31679, 'resistant': 31680, 'terrorism': 31681, 'traumatic': 31682, 'ventional': 31683, '▁abrahams': 31684, '▁acabavam': 31685, '▁acelerou': 31686, '▁acolhido': 31687, '▁acomodar': 31688, '▁acredite': 31689, '▁acrílico': 31690, '▁activado': 31691, '▁adjusted': 31692, '▁adoravam': 31693, '▁adultery': 31694, '▁agarrada': 31695, '▁aircraft': 31696, '▁airports': 31697, '▁ajudando': 31698, '▁ajudarão': 31699, '▁ajudavam': 31700, '▁ajudámos': 31701, '▁ambíguas': 31702, '▁ameaçado': 31703, '▁analisam': 31704, '▁analista': 31705, '▁analysts': 31706, '▁andersen': 31707, '▁angústia': 31708, '▁anorexia': 31709, '▁antidote': 31710, '▁antioxid': 31711, '▁antídoto': 31712, '▁anónimos': 31713, '▁apercebo': 31714, '▁aplicamo': 31715, '▁appetite': 31716, '▁apreciam': 31717, '▁aprision': 31718, '▁aquarius': 31719, '▁archivio': 31720, '▁arkansas': 31721, '▁arrastar': 31722, '▁arredond': 31723, '▁arriving': 31724, '▁arrojada': 31725, '▁assinado': 31726, '▁atacámos': 31727, '▁atingida': 31728, '▁aumentos': 31729, '▁austrian': 31730, '▁autodesk': 31731, '▁autonomy': 31732, '▁auxiliar': 31733, '▁avariado': 31734, '▁baixaram': 31735, '▁balloons': 31736, '▁bancadas': 31737, '▁banquete': 31738, '▁barbaria': 31739, '▁barbaric': 31740, '▁barbeiro': 31741, '▁barbárie': 31742, '▁barragem': 31743, '▁barulhos': 31744, '▁baseadas': 31745, '▁baseando': 31746, '▁belonged': 31747, '▁biosfera': 31748, '▁blankets': 31749, '▁bloqueio': 31750, '▁borrowed': 31751, '▁bouncing': 31752, '▁breathed': 31753, '▁brighter': 31754, '▁bullshit': 31755, '▁bypassed': 31756, '▁cadastro': 31757, '▁calculou': 31758, '▁caltrans': 31759, '▁cameroon': 31760, '▁captains': 31761, '▁carregam': 31762, '▁carótida': 31763, '▁cascalho': 31764, '▁cassette': 31765, '▁castores': 31766, '▁catarina': 31767, '▁catching': 31768, '▁cautious': 31769, '▁cemetery': 31770, '▁censored': 31771, '▁chamando': 31772, '▁chamarem': 31773, '▁chaminés': 31774, '▁checkers': 31775, '▁checking': 31776, '▁choravam': 31777, '▁claiming': 31778, '▁classify': 31779, '▁cleverly': 31780, '▁codifica': 31781, '▁cogumelo': 31782, '▁cohesive': 31783, '▁colisões': 31784, '▁colocámo': 31785, '▁colombia': 31786, '▁colorida': 31787, '▁comedian': 31788, '▁commemor': 31789, '▁commuter': 31790, '▁competem': 31791, '▁competit': 31792, '▁comprida': 31793, '▁comunhão': 31794, '▁conceive': 31795, '▁concluiu': 31796, '▁conectar': 31797, '▁confúcio': 31798, '▁consecut': 31799, '▁contador': 31800, '▁contaram': 31801, '▁contavam': 31802, '▁controlá': 31803, '▁converge': 31804, '▁cookbook': 31805, '▁corantes': 31806, '▁corrupto': 31807, '▁costeira': 31808, '▁cotovelo': 31809, '▁coursera': 31810, '▁cozinham': 31811, '▁crashing': 31812, '▁crawling': 31813, '▁criadora': 31814, '▁cristais': 31815, '▁culpados': 31816, '▁curiosas': 31817, '▁daninhas': 31818, '▁decifrar': 31819, '▁decompor': 31820, '▁decrimin': 31821, '▁defeated': 31822, '▁defiance': 31823, '▁definida': 31824, '▁deitamos': 31825, '▁deixasse': 31826, '▁delicado': 31827, '▁delicate': 31828, '▁demorará': 31829, '▁demência': 31830, '▁dentista': 31831, '▁dentária': 31832, '▁depended': 31833, '▁deployed': 31834, '▁derrotar': 31835, '▁descarga': 31836, '▁descemos': 31837, '▁desenham': 31838, '▁desenhou': 31839, '▁desenrol': 31840, '▁desenter': 31841, '▁desidrat': 31842, '▁deslocam': 31843, '▁desordem': 31844, '▁despedir': 31845, '▁despesas': 31846, '▁desrespe': 31847, '▁destroys': 31848, '▁devastar': 31849, '▁diamonds': 31850, '▁dictator': 31851, '▁dificult': 31852, '▁dilemmas': 31853, '▁discordo': 31854, '▁discoura': 31855, '▁discutem': 31856, '▁disparos': 31857, '▁displays': 31858, '▁disposal': 31859, '▁disseste': 31860, '▁distinto': 31861, '▁distrust': 31862, '▁diálogos': 31863, '▁dolphins': 31864, '▁dominado': 31865, '▁donation': 31866, '▁drainage': 31867, '▁duzentos': 31868, '▁educadas': 31869, '▁embodied': 31870, '▁embutida': 31871, '▁employed': 31872, '▁empowers': 31873, '▁empírica': 31874, '▁encarreg': 31875, '▁encomend': 31876, '▁encostas': 31877, '▁encélado': 31878, '▁enfrenta': 31879, '▁enganosa': 31880, '▁enrolled': 31881, '▁enslaved': 31882, '▁ensuring': 31883, '▁entendia': 31884, '▁enviamos': 31885, '▁envolvam': 31886, '▁epifania': 31887, '▁episodes': 31888, '▁erection': 31889, '▁escandin': 31890, '▁escaping': 31891, '▁esculpir': 31892, '▁esoteric': 31893, '▁espasmos': 31894, '▁esponjas': 31895, '▁esqueceu': 31896, '▁esquemas': 31897, '▁estreito': 31898, '▁estromat': 31899, '▁estábulo': 31900, '▁ethereum': 31901, '▁ethernet': 31902, '▁eventual': 31903, '▁exabytes': 31904, '▁excecion': 31905, '▁executam': 31906, '▁exemplar': 31907, '▁existido': 31908, '▁explicam': 31909, '▁explored': 31910, '▁expressa': 31911, '▁extremas': 31912, '▁failures': 31913, '▁fanciful': 31914, '▁festejar': 31915, '▁fictions': 31916, '▁fleeting': 31917, '▁fogueira': 31918, '▁formulas': 31919, '▁formámos': 31920, '▁fossemos': 31921, '▁fountain': 31922, '▁francesa': 31923, '▁freaking': 31924, '▁fundador': 31925, '▁fundiram': 31926, '▁fórmulas': 31927, '▁fósforos': 31928, '▁ganância': 31929, '▁generais': 31930, '▁genérica': 31931, '▁geologia': 31932, '▁giffords': 31933, '▁giraffes': 31934, '▁glândula': 31935, '▁goodwill': 31936, '▁gorillas': 31937, '▁governor': 31938, '▁grandeza': 31939, '▁gravador': 31940, '▁greeting': 31941, '▁guardada': 31942, '▁handheld': 31943, '▁handmade': 31944, '▁hebraica': 31945, '▁heinrich': 31946, '▁hidratos': 31947, '▁hierárqu': 31948, '▁holistic': 31949, '▁homogene': 31950, '▁hovering': 31951, '▁humbling': 31952, '▁humildes': 31953, '▁humorous': 31954, '▁ignorado': 31955, '▁ignorant': 31956, '▁impenetr': 31957, '▁implicar': 31958, '▁impresso': 31959, '▁improves': 31960, '▁impérios': 31961, '▁inchados': 31962, '▁incompre': 31963, '▁indianos': 31964, '▁inexplor': 31965, '▁infectar': 31966, '▁inflação': 31967, '▁inimigas': 31968, '▁injected': 31969, '▁injecção': 31970, '▁insegura': 31971, '▁inseguro': 31972, '▁inserted': 31973, '▁insistiu': 31974, '▁inspeção': 31975, '▁instalou': 31976, '▁insuport': 31977, '▁intercâm': 31978, '▁interloc': 31979, '▁intermed': 31980, '▁intersec': 31981, '▁intérpre': 31982, '▁inundado': 31983, '▁invernos': 31984, '▁investor': 31985, '▁inviting': 31986, '▁iraniano': 31987, '▁journals': 31988, '▁junction': 31989, '▁juntando': 31990, '▁juntámos': 31991, '▁keyboard': 31992, '▁knocking': 31993, '▁lanterna': 31994, '▁lançador': 31995, '▁latitude': 31996, '▁launches': 31997, '▁lawndale': 31998, '▁lawsuits': 31999, '▁liberals': 32000, '▁lidarmos': 32001, '▁likewise': 32002, '▁limbaugh': 32003, '▁madrassa': 32004, '▁magician': 32005, '▁maleável': 32006, '▁maneuver': 32007, '▁mantenho': 32008, '▁mapeámos': 32009, '▁marathon': 32010, '▁maratona': 32011, '▁marcador': 32012, '▁marcante': 32013, '▁marcaram': 32014, '▁marching': 32015, '▁marrocos': 32016, '▁maryland': 32017, '▁mastigar': 32018, '▁matchers': 32019, '▁matching': 32020, '▁mediated': 32021, '▁medíocre': 32022, '▁melendez': 32023, '▁mesquita': 32024, '▁michaela': 32025, '▁michigan': 32026, '▁micróbio': 32027, '▁milésimo': 32028, '▁missiles': 32029, '▁mistress': 32030, '▁moderate': 32031, '▁monopoly': 32032, '▁montreal': 32033, '▁morremos': 32034, '▁morreria': 32035, '▁motivate': 32036, '▁motorola': 32037, '▁movermos': 32038, '▁mulberry': 32039, '▁muscular': 32040, '▁nalgumas': 32041, '▁neonatal': 32042, '▁neurotox': 32043, '▁nintendo': 32044, '▁notation': 32045, '▁notações': 32046, '▁numérica': 32047, '▁obstante': 32048, '▁ocasiões': 32049, '▁ofereceu': 32050, '▁okrainec': 32051, '▁olmstead': 32052, '▁olímpico': 32053, '▁operates': 32054, '▁optimist': 32055, '▁ordenado': 32056, '▁organics': 32057, '▁originou': 32058, '▁outraged': 32059, '▁overconf': 32060, '▁pacífica': 32061, '▁palpável': 32062, '▁pandemia': 32063, '▁pandemic': 32064, '▁parafuso': 32065, '▁partiram': 32066, '▁passasse': 32067, '▁paternal': 32068, '▁pavement': 32069, '▁percebes': 32070, '▁percebia': 32071, '▁performs': 32072, '▁peripher': 32073, '▁persians': 32074, '▁pinatubo': 32075, '▁pluripot': 32076, '▁podiamos': 32077, '▁polaroid': 32078, '▁policiar': 32079, '▁policing': 32080, '▁polymers': 32081, '▁portland': 32082, '▁preciosa': 32083, '▁premiere': 32084, '▁preparou': 32085, '▁preserve': 32086, '▁pressent': 32087, '▁presumir': 32088, '▁pretendo': 32089, '▁priyanka': 32090, '▁processa': 32091, '▁profetas': 32092, '▁programá': 32093, '▁promises': 32094, '▁propagam': 32095, '▁prophets': 32096, '▁propolis': 32097, '▁proposto': 32098, '▁province': 32099, '▁provocam': 32100, '▁própolis': 32101, '▁publicam': 32102, '▁pulitzer': 32103, '▁quadrilá': 32104, '▁quantias': 32105, '▁quarenta': 32106, '▁quebrada': 32107, '▁quebrado': 32108, '▁queimado': 32109, '▁quereria': 32110, '▁rabiscam': 32111, '▁racistas': 32112, '▁rascunho': 32113, '▁reactive': 32114, '▁reagiram': 32115, '▁reappear': 32116, '▁reasoner': 32117, '▁rebentou': 32118, '▁recebiam': 32119, '▁reckless': 32120, '▁recolheu': 32121, '▁recorder': 32122, '▁redefine': 32123, '▁redesenh': 32124, '▁redirect': 32125, '▁reduções': 32126, '▁reestrut': 32127, '▁refinery': 32128, '▁reflexos': 32129, '▁reflitam': 32130, '▁registam': 32131, '▁regressa': 32132, '▁reintegr': 32133, '▁relating': 32134, '▁relegate': 32135, '▁removido': 32136, '▁repentin': 32137, '▁repetida': 32138, '▁reserved': 32139, '▁residual': 32140, '▁resolvam': 32141, '▁resolveu': 32142, '▁restless': 32143, '▁retórica': 32144, '▁reverter': 32145, '▁rightful': 32146, '▁rigorosa': 32147, '▁romances': 32148, '▁rotating': 32149, '▁russians': 32150, '▁saborear': 32151, '▁sagrados': 32152, '▁salpicos': 32153, '▁salvavam': 32154, '▁saramago': 32155, '▁satisfaz': 32156, '▁savannah': 32157, '▁scaffold': 32158, '▁scarcely': 32159, '▁schedule': 32160, '▁schubert': 32161, '▁schwartz': 32162, '▁scottish': 32163, '▁screened': 32164, '▁scripted': 32165, '▁scrutiny': 32166, '▁seawater': 32167, '▁semanais': 32168, '▁sentaram': 32169, '▁sentarem': 32170, '▁sentient': 32171, '▁separado': 32172, '▁serendip': 32173, '▁settlers': 32174, '▁sharmeen': 32175, '▁sherlock': 32176, '▁simpsons': 32177, '▁sinfonia': 32178, '▁sintamos': 32179, '▁slipping': 32180, '▁smallpox': 32181, '▁sobering': 32182, '▁sobreaqu': 32183, '▁sobremes': 32184, '▁societal': 32185, '▁sofremos': 32186, '▁solitude': 32187, '▁sorrisos': 32188, '▁sounding': 32189, '▁spilling': 32190, '▁spinning': 32191, '▁startups': 32192, '▁steroids': 32193, '▁striving': 32194, '▁stubborn': 32195, '▁stunning': 32196, '▁sturgeon': 32197, '▁submundo': 32198, '▁subordin': 32199, '▁subornar': 32200, '▁suicides': 32201, '▁sulaiman': 32202, '▁supervil': 32203, '▁suponham': 32204, '▁suscitar': 32205, '▁synchron': 32206, '▁tackling': 32207, '▁tagarela': 32208, '▁takeaway': 32209, '▁tatuagem': 32210, '▁telegram': 32211, '▁template': 32212, '▁tempting': 32213, '▁tenciono': 32214, '▁tentador': 32215, '▁tentavam': 32216, '▁terabyte': 32217, '▁terapias': 32218, '▁terapêut': 32219, '▁testámos': 32220, '▁tinhamos': 32221, '▁tornasse': 32222, '▁tornavam': 32223, '▁torradas': 32224, '▁toughest': 32225, '▁traduziu': 32226, '▁transits': 32227, '▁traseiro': 32228, '▁trazemos': 32229, '▁triggers': 32230, '▁triumphs': 32231, '▁triviais': 32232, '▁truckers': 32233, '▁truffles': 32234, '▁turistas': 32235, '▁turnover': 32236, '▁térmicas': 32237, '▁undermin': 32238, '▁unimagin': 32239, '▁uniquely': 32240, '▁urbanism': 32241, '▁urbanize': 32242, '▁utilizem': 32243, '▁variants': 32244, '▁venetian': 32245, '▁verbally': 32246, '▁vestígio': 32247, '▁vineyard': 32248, '▁visitado': 32249, '▁volatile': 32250, '▁voláteis': 32251, '▁vulgares': 32252, '▁wasteful': 32253, '▁wellness': 32254, '▁wessling': 32255, '▁westboro': 32256, '▁whitacre': 32257, '▁winnipeg': 32258, '▁wobbling': 32259, '▁wrapping': 32260, '▁zangados': 32261, 'assembling': 32262, 'domésticos': 32263, 'eccionámos': 32264, 'engineered': 32265, 'ientemente': 32266, 'ossistemas': 32267, 'performing': 32268, 'planetária': 32269, 'resolution': 32270, 'rospection': 32271, '▁abençoado': 32272, '▁absolutos': 32273, '▁absorvida': 32274, '▁abstracta': 32275, '▁acelerada': 32276, '▁acidental': 32277, '▁acoustics': 32278, '▁acumulado': 32279, '▁addresses': 32280, '▁adequadas': 32281, '▁adequados': 32282, '▁adicionei': 32283, '▁adicionou': 32284, '▁adultério': 32285, '▁aesthetic': 32286, '▁afastarem': 32287, '▁afastarmo': 32288, '▁agarrando': 32289, '▁agonizing': 32290, '▁agressivo': 32291, '▁ahmedabad': 32292, '▁alcançado': 32293, '▁alegações': 32294, '▁alicerces': 32295, '▁alienated': 32296, '▁allegedly': 32297, '▁ambiciosa': 32298, '▁ambiguous': 32299, '▁ameaçador': 32300, '▁ampliamos': 32301, '▁amígdalas': 32302, '▁analistas': 32303, '▁analogias': 32304, '▁analogies': 32305, '▁analógico': 32306, '▁anesthesi': 32307, '▁angariado': 32308, '▁animações': 32309, '▁antarctic': 32310, '▁apareciam': 32311, '▁apertadas': 32312, '▁apoiantes': 32313, '▁aprendida': 32314, '▁aprovados': 32315, '▁arbitrary': 32316, '▁arrefecer': 32317, '▁artifacts': 32318, '▁assassino': 32319, '▁asseguram': 32320, '▁assemelha': 32321, '▁assertive': 32322, '▁assinaram': 32323, '▁assinámos': 32324, '▁assumindo': 32325, '▁asteroide': 32326, '▁astronomy': 32327, '▁aterrador': 32328, '▁atualizar': 32329, '▁aumentado': 32330, '▁austríaco': 32331, '▁avaliados': 32332, '▁babilónio': 32333, '▁balineses': 32334, '▁balística': 32335, '▁bandeiras': 32336, '▁bandwidth': 32337, '▁banquetes': 32338, '▁basements': 32339, '▁bedridden': 32340, '▁biodegrad': 32341, '▁biometric': 32342, '▁biosphere': 32343, '▁bochechas': 32344, '▁bookstore': 32345, '▁boulevard': 32346, '▁brutality': 32347, '▁captivity': 32348, '▁capturado': 32349, '▁caregiver': 32350, '▁castanhos': 32351, '▁caterpill': 32352, '▁cativeiro': 32353, '▁ceausescu': 32354, '▁celestial': 32355, '▁cemitério': 32356, '▁ceticismo': 32357, '▁chartered': 32358, '▁ciclistas': 32359, '▁cilindros': 32360, '▁cingulado': 32361, '▁cirúrgico': 32362, '▁civilians': 32363, '▁climático': 32364, '▁cocktails': 32365, '▁codificar': 32366, '▁coerência': 32367, '▁cognition': 32368, '▁colateral': 32369, '▁colliding': 32370, '▁colocasse': 32371, '▁coloridas': 32372, '▁colorimos': 32373, '▁comedians': 32374, '▁cometemos': 32375, '▁comissões': 32376, '▁compensar': 32377, '▁competent': 32378, '▁completar': 32379, '▁complicar': 32380, '▁compostas': 32381, '▁compramos': 32382, '▁condenses': 32383, '▁conectado': 32384, '▁confundem': 32385, '▁congelada': 32386, '▁consistia': 32387, '▁constatar': 32388, '▁continuem': 32389, '▁convenceu': 32390, '▁corrected': 32391, '▁cozinhada': 32392, '▁criminoso': 32393, '▁crocodile': 32394, '▁deceptive': 32395, '▁decreases': 32396, '▁dedicados': 32397, '▁dedicaram': 32398, '▁deixassem': 32399, '▁demoraram': 32400, '▁demoravam': 32401, '▁dentistry': 32402, '▁departure': 32403, '▁derrubado': 32404, '▁desacordo': 32405, '▁descarreg': 32406, '▁desconect': 32407, '▁desconfio': 32408, '▁desejável': 32409, '▁desiludir': 32410, '▁desilusão': 32411, '▁detective': 32412, '▁detestava': 32413, '▁devastada': 32414, '▁deveremos': 32415, '▁diamantes': 32416, '▁dichotomy': 32417, '▁dicotomia': 32418, '▁difracção': 32419, '▁digestion': 32420, '▁digestivo': 32421, '▁directiva': 32422, '▁directors': 32423, '▁discursos': 32424, '▁disguised': 32425, '▁disgusted': 32426, '▁disléxico': 32427, '▁dispersas': 32428, '▁distraído': 32429, '▁districts': 32430, '▁diversify': 32431, '▁divisions': 32432, '▁dolorosas': 32433, '▁doméstico': 32434, '▁donativos': 32435, '▁downloads': 32436, '▁drivegrip': 32437, '▁duplicate': 32438, '▁duradoura': 32439, '▁edificios': 32440, '▁efectivos': 32441, '▁elaborada': 32442, '▁electrões': 32443, '▁elegância': 32444, '▁elétricas': 32445, '▁employers': 32446, '▁empurrado': 32447, '▁enceladus': 32448, '▁endeavors': 32449, '▁enjoyable': 32450, '▁enquadrar': 32451, '▁enshrined': 32452, '▁ensinarem': 32453, '▁entrarmos': 32454, '▁envelopes': 32455, '▁epicentro': 32456, '▁epidémica': 32457, '▁equitable': 32458, '▁escavação': 32459, '▁escândalo': 32460, '▁espancada': 32461, '▁espanhóis': 32462, '▁espantado': 32463, '▁esquiador': 32464, '▁estilista': 32465, '▁estudarem': 32466, '▁ethically': 32467, '▁evolutiva': 32468, '▁excessiva': 32469, '▁excessivo': 32470, '▁exchanges': 32471, '▁exclusiva': 32472, '▁excrement': 32473, '▁exercerem': 32474, '▁exercitar': 32475, '▁existimos': 32476, '▁existirão': 32477, '▁exossomas': 32478, '▁exploited': 32479, '▁extensões': 32480, '▁extremist': 32481, '▁fabricada': 32482, '▁fantasmas': 32483, '▁favoritas': 32484, '▁fictional': 32485, '▁filaments': 32486, '▁filipinos': 32487, '▁financiam': 32488, '▁financing': 32489, '▁fixamente': 32490, '▁flattened': 32491, '▁fracassos': 32492, '▁fragmento': 32493, '▁fraquezas': 32494, '▁futurista': 32495, '▁generosas': 32496, '▁genuinely': 32497, '▁genéricos': 32498, '▁gigabytes': 32499, '▁glamorous': 32500, '▁golfinhos': 32501, '▁gratuitos': 32502, '▁guardadas': 32503, '▁guardiões': 32504, '▁guatemala': 32505, '▁hampshire': 32506, '▁haplotype': 32507, '▁headphone': 32508, '▁highsmith': 32509, '▁humilhada': 32510, '▁hyderabad': 32511, '▁icelandic': 32512, '▁illegally': 32513, '▁iluminada': 32514, '▁imensidão': 32515, '▁imigrante': 32516, '▁imitation': 32517, '▁immensity': 32518, '▁immunized': 32519, '▁impacting': 32520, '▁impending': 32521, '▁implantes': 32522, '▁impopular': 32523, '▁inability': 32524, '▁incentivo': 32525, '▁incidence': 32526, '▁incorrect': 32527, '▁indicator': 32528, '▁influente': 32529, '▁infracção': 32530, '▁ingenious': 32531, '▁ingerimos': 32532, '▁ingesting': 32533, '▁injection': 32534, '▁inspector': 32535, '▁intensiva': 32536, '▁intensivo': 32537, '▁intracran': 32538, '▁intrigada': 32539, '▁inventada': 32540, '▁invertebr': 32541, '▁islamists': 32542, '▁juntarmos': 32543, '▁licenciar': 32544, '▁lifespans': 32545, '▁limburger': 32546, '▁logically': 32547, '▁macedónia': 32548, '▁macintosh': 32549, '▁magazines': 32550, '▁makeshift': 32551, '▁malicioso': 32552, '▁mangueira': 32553, '▁maratonas': 32554, '▁marvelous': 32555, '▁matriarch': 32556, '▁mcculloch': 32557, '▁membranes': 32558, '▁memorando': 32559, '▁mencionou': 32560, '▁mercearia': 32561, '▁mesquitas': 32562, '▁microwave': 32563, '▁migrantes': 32564, '▁miniatura': 32565, '▁minimally': 32566, '▁minnesota': 32567, '▁minúscula': 32568, '▁misplaced': 32569, '▁misturada': 32570, '▁misturado': 32571, '▁mobilized': 32572, '▁modernity': 32573, '▁modificou': 32574, '▁moussaoui': 32575, '▁munitions': 32576, '▁muttering': 32577, '▁muçulmana': 32578, '▁nanoscale': 32579, '▁nicodemus': 32580, '▁nietzsche': 32581, '▁numerosas': 32582, '▁nuremberg': 32583, '▁nurturing': 32584, '▁obrigados': 32585, '▁observado': 32586, '▁occasions': 32587, '▁occupying': 32588, '▁ocupantes': 32589, '▁oferecido': 32590, '▁offenders': 32591, '▁oncologia': 32592, '▁orfanatos': 32593, '▁organizou': 32594, '▁otherness': 32595, '▁otimistas': 32596, '▁outskirts': 32597, '▁pakistani': 32598, '▁palmpilot': 32599, '▁paparazzi': 32600, '▁parafusos': 32601, '▁paralelos': 32602, '▁parasitas': 32603, '▁parasites': 32604, '▁patentear': 32605, '▁pensariam': 32606, '▁pensassem': 32607, '▁pentecost': 32608, '▁percorreu': 32609, '▁perfeitas': 32610, '▁perplexos': 32611, '▁pertencem': 32612, '▁pertencia': 32613, '▁pesquisei': 32614, '▁pesticide': 32615, '▁plausível': 32616, '▁plunderer': 32617, '▁pollinate': 32618, '▁polímeros': 32619, '▁portrayed': 32620, '▁positivos': 32621, '▁pradarias': 32622, '▁preguiços': 32623, '▁primárias': 32624, '▁primários': 32625, '▁processam': 32626, '▁produtiva': 32627, '▁prognosis': 32628, '▁projecção': 32629, '▁prolongar': 32630, '▁promessas': 32631, '▁promissor': 32632, '▁promoting': 32633, '▁protecion': 32634, '▁protestar': 32635, '▁proximity': 32636, '▁prudência': 32637, '▁psicopata': 32638, '▁psicóloga': 32639, '▁questiono': 32640, '▁quiosques': 32641, '▁quânticas': 32642, '▁raciocina': 32643, '▁racionais': 32644, '▁rapamycin': 32645, '▁realizada': 32646, '▁receberia': 32647, '▁reconhecê': 32648, '▁reconheço': 32649, '▁recruited': 32650, '▁recuperou': 32651, '▁referring': 32652, '▁refinaria': 32653, '▁reformado': 32654, '▁regarding': 32655, '▁regulares': 32656, '▁reimagine': 32657, '▁remembers': 32658, '▁remixable': 32659, '▁removemos': 32660, '▁renegades': 32661, '▁renegados': 32662, '▁renovação': 32663, '▁repeating': 32664, '▁repressão': 32665, '▁requisito': 32666, '▁residente': 32667, '▁respeitam': 32668, '▁restolhar': 32669, '▁resumindo': 32670, '▁retaining': 32671, '▁retirados': 32672, '▁retiraram': 32673, '▁revisores': 32674, '▁rewarding': 32675, '▁rigorosas': 32676, '▁romântica': 32677, '▁sanitário': 32678, '▁saqueador': 32679, '▁scheduled': 32680, '▁schindler': 32681, '▁sectarian': 32682, '▁seleccion': 32683, '▁sensações': 32684, '▁sensorial': 32685, '▁sentarmos': 32686, '▁sentiment': 32687, '▁sentissem': 32688, '▁serengeti': 32689, '▁shrinking': 32690, '▁simbólica': 32691, '▁simbólico': 32692, '▁simulator': 32693, '▁sketching': 32694, '▁soberania': 32695, '▁sobrestim': 32696, '▁spaghetti': 32697, '▁splitting': 32698, '▁squeezing': 32699, '▁starlight': 32700, '▁stimulate': 32701, '▁stockpile': 32702, '▁stripling': 32703, '▁subconsci': 32704, '▁submitted': 32705, '▁substrate': 32706, '▁substrato': 32707, '▁suicídios': 32708, '▁surpassed': 32709, '▁suspeitas': 32710, '▁synthesis': 32711, '▁targeting': 32712, '▁terapeuta': 32713, '▁terrestre': 32714, '▁tetraplég': 32715, '▁thickness': 32716, '▁torturada': 32717, '▁torturado': 32718, '▁traduzida': 32719, '▁trafalgar': 32720, '▁ultrassom': 32721, '▁uncharted': 32722, '▁undertake': 32723, '▁underwear': 32724, '▁underwent': 32725, '▁unethical': 32726, '▁unfolding': 32727, '▁unificada': 32728, '▁uniformly': 32729, '▁unpopular': 32730, '▁urbanismo': 32731, '▁urbanized': 32732, '▁urgências': 32733, '▁vancouver': 32734, '▁veneziano': 32735, '▁verticais': 32736, '▁viewpoint': 32737, '▁virtuosos': 32738, '▁vitoriana': 32739, '▁voltarmos': 32740, '▁voluntary': 32741, '▁wandering': 32742, '▁winehouse': 32743, '▁wisconsin': 32744, '▁witnesses': 32745, '▁xenofobia': 32746, 'engineering': 32747, 'hidrofóbico': 32748, 'threatening': 32749, '▁abandonado': 32750, '▁accidental': 32751, '▁acelerador': 32752, '▁acousmatic': 32753, '▁admissions': 32754, '▁adversário': 32755, '▁aggregates': 32756, '▁agressivas': 32757, '▁algarismos': 32758, '▁alteridade': 32759, '▁ambulances': 32760, '▁animations': 32761, '▁anualmente': 32762, '▁aparecendo': 32763, '▁appliances': 32764, '▁aprendendo': 32765, '▁apropriada': 32766, '▁aprovision': 32767, '▁aproximado': 32768, '▁aproximava': 32769, '▁aritmética': 32770, '▁armazenado': 32771, '▁artefactos': 32772, '▁assembleia': 32773, '▁assessment': 32774, '▁assistants': 32775, '▁associamos': 32776, '▁astronomer': 32777, '▁astronomia': 32778, '▁asymmetric': 32779, '▁atribuídas': 32780, '▁atrocities': 32781, '▁attachment': 32782, '▁attendance': 32783, '▁auditorium': 32784, '▁aumentados': 32785, '▁ballistics': 32786, '▁barbearias': 32787, '▁betterment': 32788, '▁biocombust': 32789, '▁birmingham': 32790, '▁birthplace': 32791, '▁brightness': 32792, '▁camouflage': 32793, '▁campeonato': 32794, '▁camuflagem': 32795, '▁candidatar': 32796, '▁caranguejo': 32797, '▁carregadas': 32798, '▁cartoonist': 32799, '▁centigrade': 32800, '▁chegávamos': 32801, '▁chocolates': 32802, '▁clinicians': 32803, '▁colaterais': 32804, '▁colectivas': 32805, '▁colesterol': 32806, '▁collisions': 32807, '▁comandante': 32808, '▁combinando': 32809, '▁comparados': 32810, '▁comparável': 32811, '▁compassivo': 32812, '▁compliment': 32813, '▁composites': 32814, '▁compressed': 32815, '▁condenadas': 32816, '▁condenados': 32817, '▁conducting': 32818, '▁conduzindo': 32819, '▁confirming': 32820, '▁congeladas': 32821, '▁congelados': 32822, '▁conhecerem': 32823, '▁constantes': 32824, '▁constituir': 32825, '▁contaminar': 32826, '▁contemplar': 32827, '▁contribuiu': 32828, '▁convidaram': 32829, '▁courtyards': 32830, '▁criticized': 32831, '▁cultivámos': 32832, '▁cumulative': 32833, '▁dançarinos': 32834, '▁dedication': 32835, '▁defecation': 32836, '▁defendemos': 32837, '▁defensores': 32838, '▁deficiente': 32839, '▁definirmos': 32840, '▁demasiados': 32841, '▁dependemos': 32842, '▁dependente': 32843, '▁depressões': 32844, '▁deprimidos': 32845, '▁desafiador': 32846, '▁descontinu': 32847, '▁desemprego': 32848, '▁desenhamos': 32849, '▁desenhámos': 32850, '▁desistimos': 32851, '▁destruídas': 32852, '▁deteriorar': 32853, '▁diagnosing': 32854, '▁diminished': 32855, '▁disruptive': 32856, '▁dissidents': 32857, '▁distracted': 32858, '▁distribute': 32859, '▁dividirmos': 32860, '▁downstairs': 32861, '▁dramáticas': 32862, '▁educativos': 32863, '▁eigenmodes': 32864, '▁eliminação': 32865, '▁embaixador': 32866, '▁embaraçoso': 32867, '▁empregador': 32868, '▁encounters': 32869, '▁encourages': 32870, '▁endangered': 32871, '▁energizing': 32872, '▁engravidar': 32873, '▁entenderem': 32874, '▁entendidas': 32875, '▁esculturas': 32876, '▁espalhadas': 32877, '▁espalhados': 32878, '▁esparguete': 32879, '▁esqueceram': 32880, '▁estabiliza': 32881, '▁estendidos': 32882, '▁estereotip': 32883, '▁estilhaços': 32884, '▁eternidade': 32885, '▁eticamente': 32886, '▁executives': 32887, '▁exercising': 32888, '▁extracting': 32889, '▁extremists': 32890, '▁fatalities': 32891, '▁federation': 32892, '▁feministas': 32893, '▁fertilizer': 32894, '▁filamentos': 32895, '▁fisiologia': 32896, '▁florestais': 32897, '▁flutuantes': 32898, '▁footprints': 32899, '▁foreground': 32900, '▁frequentes': 32901, '▁frustração': 32902, '▁funcionado': 32903, '▁gammaknife': 32904, '▁goodfellow': 32905, '▁governador': 32906, '▁governados': 32907, '▁graduating': 32908, '▁greenpeace': 32909, '▁guerreiros': 32910, '▁harvesting': 32911, '▁haveríamos': 32912, '▁heartbreak': 32913, '▁hemorragia': 32914, '▁hesitation': 32915, '▁hominídeos': 32916, '▁idealmente': 32917, '▁imaginarem': 32918, '▁imipramina': 32919, '▁imipramine': 32920, '▁implicated': 32921, '▁implicação': 32922, '▁imprisoned': 32923, '▁improvisar': 32924, '▁incansável': 32925, '▁incentivar': 32926, '▁incertezas': 32927, '▁incessante': 32928, '▁incubadora': 32929, '▁indicadora': 32930, '▁indication': 32931, '▁indicações': 32932, '▁influences': 32933, '▁informados': 32934, '▁innovating': 32935, '▁insecurity': 32936, '▁insensível': 32937, '▁instintiva': 32938, '▁instrutora': 32939, '▁insulation': 32940, '▁integrante': 32941, '▁intensivos': 32942, '▁interativa': 32943, '▁interligar': 32944, '▁intervalos': 32945, '▁intestinal': 32946, '▁intimately': 32947, '▁intuitions': 32948, '▁inundações': 32949, '▁irritantes': 32950, '▁jardinagem': 32951, '▁jeffersons': 32952, '▁kensington': 32953, '▁kilómetros': 32954, '▁langerhans': 32955, '▁libertaram': 32956, '▁lifestyles': 32957, '▁linguistic': 32958, '▁liquidsore': 32959, '▁localidade': 32960, '▁loneliness': 32961, '▁louisville': 32962, '▁magníficas': 32963, '▁maintained': 32964, '▁manchester': 32965, '▁manufatura': 32966, '▁maquinaria': 32967, '▁measurable': 32968, '▁meditation': 32969, '▁mentioning': 32970, '▁meshugenah': 32971, '▁metastatic': 32972, '▁microfones': 32973, '▁milligrams': 32974, '▁misteriosa': 32975, '▁monolithic': 32976, '▁moralmente': 32977, '▁movimentam': 32978, '▁myopically': 32979, '▁nanometers': 32980, '▁nanómetros': 32981, '▁operadoras': 32982, '▁organizers': 32983, '▁orphanages': 32984, '▁outperform': 32985, '▁paintbrush': 32986, '▁palestinos': 32987, '▁paliativos': 32988, '▁pancreatic': 32989, '▁paralisada': 32990, '▁participam': 32991, '▁parâmetros': 32992, '▁passaporte': 32993, '▁percepções': 32994, '▁perguntámo': 32995, '▁persecuted': 32996, '▁pilgrimage': 32997, '▁plasticity': 32998, '▁popularity': 32999, '▁portadoras': 33000, '▁possession': 33001, '▁prateleira': 33002, '▁precedente': 33003, '▁preferimos': 33004, '▁preferirem': 33005, '▁preocupamo': 33006, '▁preparamos': 33007, '▁prepararam': 33008, '▁pressionar': 33009, '▁prevailing': 33010, '▁prevalecer': 33011, '▁prevalence': 33012, '▁preventing': 33013, '▁primitivos': 33014, '▁processada': 33015, '▁procuravam': 33016, '▁produzidas': 33017, '▁produzidos': 33018, '▁produzirem': 33019, '▁prolongado': 33020, '▁proporções': 33021, '▁protegidos': 33022, '▁prototyped': 33023, '▁psychiatry': 33024, '▁publicadas': 33025, '▁publicamos': 33026, '▁questionna': 33027, '▁rapamicina': 33028, '▁realizámos': 33029, '▁reaparecer': 33030, '▁reassuring': 33031, '▁recarregar': 33032, '▁reconsider': 33033, '▁recorremos': 33034, '▁redesenhar': 33035, '▁reformados': 33036, '▁regenerate': 33037, '▁reluctance': 33038, '▁relutância': 33039, '▁repetition': 33040, '▁representá': 33041, '▁researched': 33042, '▁resiliente': 33043, '▁resolvesse': 33044, '▁respecting': 33045, '▁respeitoso': 33046, '▁responders': 33047, '▁resultante': 33048, '▁retirarmos': 33049, '▁retornaram': 33050, '▁rodoviária': 33051, '▁rustichini': 33052, '▁saberíamos': 33053, '▁sacramento': 33054, '▁sacrifício': 33055, '▁sculptural': 33056, '▁segregated': 33057, '▁separating': 33058, '▁sintetizar': 33059, '▁sobrevalor': 33060, '▁sonication': 33061, '▁speedstrip': 33062, '▁stomachion': 33063, '▁stressante': 33064, '▁submitting': 33065, '▁substituto': 33066, '▁supervisor': 33067, '▁supervisão': 33068, '▁suposições': 33069, '▁supposedly': 33070, '▁synthesize': 33071, '▁technician': 33072, '▁terminámos': 33073, '▁thoroughly': 33074, '▁thousandth': 33075, '▁tomografia': 33076, '▁torradeira': 33077, '▁tradutores': 33078, '▁trafficked': 33079, '▁tragically': 33080, '▁transforms': 33081, '▁transmitem': 33082, '▁turbulenta': 33083, '▁undergoing': 33084, '▁underworld': 33085, '▁unemployed': 33086, '▁unicamente': 33087, '▁valorizado': 33088, '▁vegetarian': 33089, '▁visibility': 33090, '▁vitorianos': 33091, '▁voluntária': 33092, '▁waterfront': 33093, '▁wellington': 33094, '▁witnessing': 33095, '▁xenophobia': 33096, 'governmental': 33097, '▁abandonados': 33098, '▁abracadabra': 33099, '▁abrangentes': 33100, '▁accumulated': 33101, '▁acontecendo': 33102, '▁acreditemos': 33103, '▁adolescence': 33104, '▁alienígenas': 33105, '▁antepassado': 33106, '▁anticipated': 33107, '▁appreciated': 33108, '▁aproximamos': 33109, '▁armazenadas': 33110, '▁armazenados': 33111, '▁arrangement': 33112, '▁assassinado': 33113, '▁atmospheric': 33114, '▁atrocidades': 33115, '▁autoguiados': 33116, '▁autorizados': 33117, '▁bacharelato': 33118, '▁biomolecule': 33119, '▁biomolécula': 33120, '▁blockbuster': 33121, '▁brutalidade': 33122, '▁camionistas': 33123, '▁catástrofes': 33124, '▁celebridade': 33125, '▁centimeters': 33126, '▁centígrados': 33127, '▁certifiquem': 33128, '▁cholesterol': 33129, '▁cibernético': 33130, '▁cognitively': 33131, '▁compararmos': 33132, '▁compartment': 33133, '▁competitiva': 33134, '▁competitivo': 33135, '▁concentrada': 33136, '▁concentramo': 33137, '▁concentrate': 33138, '▁conseguindo': 33139, '▁constipação': 33140, '▁constituída': 33141, '▁constrained': 33142, '▁construtivo': 33143, '▁consultores': 33144, '▁consultoria': 33145, '▁contaminate': 33146, '▁continuaram': 33147, '▁continuarem': 33148, '▁continuação': 33149, '▁contributes': 33150, '▁controlados': 33151, '▁convencidos': 33152, '▁conveniente': 33153, '▁conversamos': 33154, '▁conversação': 33155, '▁cooperative': 33156, '▁cordeirinho': 33157, '▁coreografia': 33158, '▁cumprimento': 33159, '▁danificadas': 33160, '▁deficientes': 33161, '▁democracyos': 33162, '▁descarregar': 33163, '▁descobrindo': 33164, '▁descobrirem': 33165, '▁desnutrição': 33166, '▁desperation': 33167, '▁desvantagem': 33168, '▁devidamente': 33169, '▁diffraction': 33170, '▁disparidade': 33171, '▁distraction': 33172, '▁documentado': 33173, '▁dosomething': 33174, '▁drugsheaven': 33175, '▁electromagn': 33176, '▁elementares': 33177, '▁empolgantes': 33178, '▁encontrando': 33179, '▁encontrarão': 33180, '▁encorajados': 33181, '▁entusiasmar': 33182, '▁especulador': 33183, '▁estruturado': 33184, '▁examination': 33185, '▁exhibitions': 33186, '▁experimentá': 33187, '▁extensively': 33188, '▁extremadura': 33189, '▁fermentação': 33190, '▁financially': 33191, '▁fluorescent': 33192, '▁fotográfica': 33193, '▁fragilidade': 33194, '▁frustration': 33195, '▁fulfillment': 33196, '▁funcionária': 33197, '▁geneticists': 33198, '▁grasshopper': 33199, '▁hipertensão': 33200, '▁historiador': 33201, '▁horrorizada': 33202, '▁identificam': 33203, '▁identifying': 33204, '▁impractical': 33205, '▁impressoras': 33206, '▁incomodados': 33207, '▁incorporate': 33208, '▁influências': 33209, '▁informativo': 33210, '▁inquisitive': 33211, '▁insegurança': 33212, '▁instability': 33213, '▁instructors': 33214, '▁instrutores': 33215, '▁intangíveis': 33216, '▁integrative': 33217, '▁interromper': 33218, '▁intertwined': 33219, '▁introduzido': 33220, '▁introverted': 33221, '▁inutilidade': 33222, '▁julgamentos': 33223, '▁kallikuppam': 33224, '▁kickstarter': 33225, '▁liespotters': 33226, '▁lightweight': 33227, '▁livelihoods': 33228, '▁localidades': 33229, '▁localizados': 33230, '▁manualmente': 33231, '▁mecanização': 33232, '▁mentalmente': 33233, '▁mercadorias': 33234, '▁metabólicos': 33235, '▁millimeters': 33236, '▁mindfulness': 33237, '▁minoritária': 33238, '▁mobilização': 33239, '▁modernidade': 33240, '▁moleculares': 33241, '▁mosquiteiro': 33242, '▁multimilion': 33243, '▁neurológico': 33244, '▁objectively': 33245, '▁orientation': 33246, '▁orientações': 33247, '▁parafrasear': 33248, '▁paralisados': 33249, '▁paramédicos': 33250, '▁partilhavam': 33251, '▁partilhámos': 33252, '▁pluralidade': 33253, '▁pornography': 33254, '▁precisarmos': 33255, '▁preferences': 33256, '▁preferência': 33257, '▁preocuparem': 33258, '▁prevalência': 33259, '▁prognóstico': 33260, '▁promissoras': 33261, '▁prospective': 33262, '▁prostitutes': 33263, '▁protestaram': 33264, '▁prototyping': 33265, '▁providencia': 33266, '▁providência': 33267, '▁psiquiatria': 33268, '▁publicações': 33269, '▁questionado': 33270, '▁radioactive': 33271, '▁ramificação': 33272, '▁recompensar': 33273, '▁reconhecida': 33274, '▁recuperaram': 33275, '▁redefinimos': 33276, '▁redistribut': 33277, '▁regeneração': 33278, '▁reivindicar': 33279, '▁replicating': 33280, '▁reportagens': 33281, '▁repositório': 33282, '▁respondidas': 33283, '▁restauração': 33284, '▁restoration': 33285, '▁rockefeller': 33286, '▁rudimentary': 33287, '▁schrödinger': 33288, '▁secundárias': 33289, '▁seguramente': 33290, '▁settlements': 33291, '▁shhhhhhhhhh': 33292, '▁simplifying': 33293, '▁skyscrapers': 33294, '▁substantial': 33295, '▁suggestions': 33296, '▁susceptible': 33297, '▁tastemakers': 33298, '▁temporárias': 33299, '▁terrestrial': 33300, '▁therapeutic': 33301, '▁transcripts': 33302, '▁transferido': 33303, '▁transformei': 33304, '▁translators': 33305, '▁traumatismo': 33306, '▁traumatized': 33307, '▁unprotected': 33308, '▁uselessness': 33309, '▁utilizarmos': 33310, '▁valorização': 33311, '▁vegetariano': 33312, '▁verificamos': 33313, '▁verificação': 33314, '▁veterinário': 33315, '▁viabilidade': 33316, '▁visualizing': 33317, '▁wonderfully': 33318, '▁acknowledged': 33319, '▁acreditarmos': 33320, '▁aerodinâmica': 33321, '▁aggressively': 33322, '▁alegadamente': 33323, '▁anticipation': 33324, '▁antiretrovir': 33325, '▁apresentámos': 33326, '▁arqueológica': 33327, '▁aspirational': 33328, '▁assimétricas': 33329, '▁astronomical': 33330, '▁asymmetrical': 33331, '▁aterrorizado': 33332, '▁atravessaram': 33333, '▁autonomously': 33334, '▁biologically': 33335, '▁biomolecules': 33336, '▁biomoléculas': 33337, '▁broadcasting': 33338, '▁certificados': 33339, '▁circumstance': 33340, '▁classificado': 33341, '▁complication': 33342, '▁compreendiam': 33343, '▁compreendido': 33344, '▁comprometido': 33345, '▁confirmation': 33346, '▁considerable': 33347, '▁consistently': 33348, '▁continuidade': 33349, '▁contradições': 33350, '▁contribuíram': 33351, '▁criticamente': 33352, '▁degeneration': 33353, '▁democráticos': 33354, '▁demographics': 33355, '▁demonstrando': 33356, '▁desagregação': 33357, '▁desajustados': 33358, '▁desconfiança': 33359, '▁desconhecida': 33360, '▁determinante': 33361, '▁digitalmente': 33362, '▁disadvantage': 33363, '▁disagreeable': 33364, '▁disagreement': 33365, '▁disseminador': 33366, '▁distribuídos': 33367, '▁diversificar': 33368, '▁electrónicos': 33369, '▁enciclopédia': 33370, '▁encontrariam': 33371, '▁encountering': 33372, '▁encyclopedia': 33373, '▁enthusiastic': 33374, '▁equivalentes': 33375, '▁escolaridade': 33376, '▁estabelecida': 33377, '▁estrangeiras': 33378, '▁estritamente': 33379, '▁experimentem': 33380, '▁experimentos': 33381, '▁fisioterapia': 33382, '▁fitoplâncton': 33383, '▁fotovoltaica': 33384, '▁generalidade': 33385, '▁hidrostático': 33386, '▁hidrotermais': 33387, '▁horizontally': 33388, '▁hydrothermal': 33389, '▁improvisação': 33390, '▁inconsistent': 33391, '▁indifference': 33392, '▁influenciada': 33393, '▁infringement': 33394, '▁inimaginável': 33395, '▁insuficiente': 33396, '▁intencionais': 33397, '▁interpessoal': 33398, '▁introduzindo': 33399, '▁introvertido': 33400, '▁investigated': 33401, '▁investigámos': 33402, '▁justinesacco': 33403, '▁laboratorial': 33404, '▁localizações': 33405, '▁manifestação': 33406, '▁manipulation': 33407, '▁maravilhados': 33408, '▁materialista': 33409, '▁meaningfully': 33410, '▁microfinance': 33411, '▁microscópico': 33412, '▁microscópios': 33413, '▁mitocondrial': 33414, '▁mosquiteiras': 33415, '▁nextpedition': 33416, '▁optimization': 33417, '▁overestimate': 33418, '▁parcialidade': 33419, '▁participaram': 33420, '▁partnerships': 33421, '▁peregrinação': 33422, '▁performances': 33423, '▁perguntarmos': 33424, '▁perguntassem': 33425, '▁perseverança': 33426, '▁personalizar': 33427, '▁photographic': 33428, '▁possibilitar': 33429, '▁preliminares': 33430, '▁prescription': 33431, '▁programadora': 33432, '▁proporcionou': 33433, '▁provenientes': 33434, '▁providenciar': 33435, '▁psiquiátrico': 33436, '▁quantitativa': 33437, '▁radioterapia': 33438, '▁refrigeração': 33439, '▁regenerativa': 33440, '▁regenerative': 33441, '▁rejuvenescer': 33442, '▁relentlessly': 33443, '▁repercussões': 33444, '▁ressurreição': 33445, '▁rusesabagina': 33446, '▁semanalmente': 33447, '▁sequenciação': 33448, '▁similarmente': 33449, '▁subsistência': 33450, '▁superrabbits': 33451, '▁supervillain': 33452, '▁surpreendida': 33453, '▁therapeutics': 33454, '▁trabalharmos': 33455, '▁transformada': 33456, '▁transplantes': 33457, '▁ultravioleta': 33458, '▁unaffordable': 33459, '▁unimaginable': 33460, '▁visibilidade': 33461, '▁williamsburg': 33462, '▁acknowledging': 33463, '▁acrescentamos': 33464, '▁advertisement': 33465, '▁agressividade': 33466, '▁announcements': 33467, '▁archeologists': 33468, '▁autonomamente': 33469, '▁beneficiaries': 33470, '▁centrifugador': 33471, '▁circumference': 33472, '▁civilizations': 33473, '▁coletivamente': 33474, '▁complications': 33475, '▁compreenderem': 33476, '▁compreendidas': 33477, '▁compreensível': 33478, '▁conectividade': 33479, '▁constructions': 33480, '▁contabilistas': 33481, '▁corresponding': 33482, '▁craftsmanship': 33483, '▁criminalidade': 33484, '▁culturalmente': 33485, '▁cybercriminal': 33486, '▁demonstrating': 33487, '▁desempregados': 33488, '▁desigualdades': 33489, '▁determination': 33490, '▁developmental': 33491, '▁differentiate': 33492, '▁enquadramento': 33493, '▁enviesamentos': 33494, '▁estabelecidas': 33495, '▁experimentado': 33496, '▁externalities': 33497, '▁falsificações': 33498, '▁fertilization': 33499, '▁functionality': 33500, '▁governamental': 33501, '▁hidroelétrica': 33502, '▁inconsistente': 33503, '▁inconveniente': 33504, '▁inexhaustible': 33505, '▁instabilidade': 33506, '▁intelligently': 33507, '▁interruptores': 33508, '▁introspection': 33509, '▁laboratoriais': 33510, '▁manifestantes': 33511, '▁materialistic': 33512, '▁mechanization': 33513, '▁mitochondrial': 33514, '▁nanoparticles': 33515, '▁paquistaneses': 33516, '▁partilhávamos': 33517, '▁pequeníssimos': 33518, '▁personalizado': 33519, '▁perturbadoras': 33520, '▁phytoplankton': 33521, '▁precisaríamos': 33522, '▁primeiramente': 33523, '▁progressistas': 33524, '▁psicossociais': 33525, '▁psiquiátricos': 33526, '▁quimioterapia': 33527, '▁reconstruídas': 33528, '▁reconstruímos': 33529, '▁reconstruíram': 33530, '▁refrigerators': 33531, '▁repercussions': 33532, '▁statistically': 33533, '▁stromatolites': 33534, '▁superpotência': 33535, '▁testemunharam': 33536, '▁testemunhámos': 33537, '▁trabalhávamos': 33538, '▁traumatizados': 33539, '▁tremendamente': 33540, '▁trivialidades': 33541, '▁unequivocally': 33542, '▁uniformemente': 33543, '▁violentamente': 33544, '▁visualizações': 33545, '▁administrativa': 33546, '▁aleatóriamente': 33547, '▁ambientalistas': 33548, '▁anthropologist': 33549, '▁archaeologists': 33550, '▁cardiovascular': 33551, '▁configurations': 33552, '▁contradictions': 33553, '▁criminalização': 33554, '▁cryptocurrency': 33555, '▁democratização': 33556, '▁demonstrations': 33557, '▁desfavorecidos': 33558, '▁ecologicamente': 33559, '▁economicamente': 33560, '▁enriquecimento': 33561, '▁entusiasmantes': 33562, '▁especializadas': 33563, '▁estromatólitos': 33564, '▁funcionalidade': 33565, '▁identification': 33566, '▁inacreditáveis': 33567, '▁industrialized': 33568, '▁infravermelhos': 33569, '▁inspeccionámos': 33570, '▁intervenientes': 33571, '▁intuitivamente': 33572, '▁misconceptions': 33573, '▁nanopartículas': 33574, '▁overwhelmingly': 33575, '▁personalização': 33576, '▁posteriormente': 33577, '▁repentinamente': 33578, '▁semicondutores': 33579, '▁supercomputers': 33580, '▁transformações': 33581, '▁unconventional': 33582, '▁universitárias': 33583, '▁accomplishments': 33584, '▁antecipadamente': 33585, '▁apaixonadamente': 33586, '▁centrifugadoras': 33587, '▁correlacionadas': 33588, '▁deliberadamente': 33589, '▁democratization': 33590, '▁descentralizada': 33591, '▁disponibilidade': 33592, '▁environmentally': 33593, '▁estabelecimento': 33594, '▁funcionalidades': 33595, '▁geograficamente': 33596, '▁lamentavelmente': 33597, '▁permanentemente': 33598, '▁technologically': 33599, '▁transformadoras': 33600, '▁transformations': 33601, ',9': 33602, '.3': 33603, '/-': 33604, '01': 33605, '19': 33606, '87': 33607, '90': 33608, '98': 33609, 'aó': 33610, 'dl': 33611, 'ej': 33612, 'já': 33613, 'qa': 33614, 'rê': 33615, 'áb': 33616, 'éx': 33617, '▁\\x93': 33618, '300': 33619, 'adn': 33620, 'amb': 33621, 'any': 33622, 'asy': 33623, 'aws': 33624, 'ben': 33625, 'bod': 33626, 'bug': 33627, 'cru': 33628, 'dal': 33629, 'def': 33630, 'det': 33631, 'eci': 33632, 'ecn': 33633, 'fru': 33634, 'hum': 33635, 'hyn': 33636, 'ifo': 33637, 'iju': 33638, 'inf': 33639, 'inv': 33640, 'irk': 33641, 'itá': 33642, 'jee': 33643, 'lep': 33644, 'lif': 33645, 'lut': 33646, 'nik': 33647, 'ocy': 33648, 'oky': 33649, 'oli': 33650, 'orh': 33651, 'pta': 33652, 'rax': 33653, 'tie': 33654, 'uan': 33655, 'ubl': 33656, 'ulz': 33657, 'urb': 33658, 'urp': 33659, 'usc': 33660, 'vig': 33661, 'wat': 33662, 'xas': 33663, 'yad': 33664, 'êmo': 33665, 'ías': 33666, 'úrp': 33667, \"▁'5\": 33668, '▁00': 33669, '▁4:': 33670, '▁cg': 33671, '▁dc': 33672, '▁gm': 33673, '▁lú': 33674, '▁sj': 33675, '▁vs': 33676, '▁xá': 33677, ',500': 33678, 'abuc': 33679, 'acad': 33680, 'acob': 33681, 'acot': 33682, 'alan': 33683, 'alis': 33684, 'amia': 33685, 'amus': 33686, 'arit': 33687, 'asia': 33688, 'baia': 33689, 'bean': 33690, 'beit': 33691, 'berm': 33692, 'bico': 33693, 'bils': 33694, 'bulb': 33695, 'chan': 33696, 'chio': 33697, 'ciss': 33698, 'cken': 33699, 'coli': 33700, 'cora': 33701, 'cruz': 33702, 'ctil': 33703, 'abo': 33704, 'cav': 33705, 'mob': 33706, 'uei': 33707, 'zer': 33708, '▁-1': 33709, '▁87': 33710, '▁bd': 33711, 'atlo': 33712, 'beat': 33713, 'brus': 33714, 'decl': 33715, 'dest': 33716, 'dica': 33717, 'each': 33718, 'echo': 33719, 'eous': 33720, 'está': 33721, 'etit': 33722, 'eurs': 33723, 'evol': 33724, 'ffle': 33725, 'fled': 33726, 'fram': 33727, 'furt': 33728, 'gara': 33729, 'garo': 33730, 'gged': 33731, 'gios': 33732, 'hack': 33733, 'hade': 33734, 'hall': 33735, 'hdad': 33736, 'help': 33737, 'horn': 33738, 'iamo': 33739, 'iasm': 33740, 'icio': 33741, 'icto': 33742, 'igue': 33743, 'illa': 33744, 'imic': 33745, 'ippi': 33746, 'ipél': 33747, 'iree': 33748, 'isco': 33749, 'isma': 33750, 'ivia': 33751, 'iéis': 33752, 'java': 33753, 'juge': 33754, 'juíz': 33755, 'jões': 33756, 'kill': 33757, 'leos': 33758, 'levi': 33759, 'link': 33760, 'loom': 33761, 'lord': 33762, 'mand': 33763, 'meas': 33764, 'mies': 33765, 'most': 33766, 'niez': 33767, 'nine': 33768, 'oelh': 33769, 'ofre': 33770, 'ogas': 33771, 'oles': 33772, 'oliv': 33773, 'omor': 33774, 'onge': 33775, 'opus': 33776, 'orne': 33777, 'orno': 33778, 'orus': 33779, 'otor': 33780, 'otri': 33781, 'otry': 33782, 'otão': 33783, 'ours': 33784, 'pago': 33785, 'peto': 33786, 'pida': 33787, 'pide': 33788, 'ralh': 33789, 'rals': 33790, 'reco': 33791, 'redo': 33792, 'rier': 33793, 'rilh': 33794, 'rise': 33795, 'rite': 33796, 'rota': 33797, 'sels': 33798, 'site': 33799, 'some': 33800, 'sono': 33801, 'tilo': 33802, 'tone': 33803, '56': 33804, 'má': 33805, 'chs': 33806, 'ocr': 33807, 'çao': 33808, 'ïve': 33809, 'abre': 33810, 'aint': 33811, 'aleg': 33812, 'azed': 33813, 'dust': 33814, 'fear': 33815, 'ghum': 33816, 'host': 33817, 'lace': 33818, 'mers': 33819, 'orof': 33820, 'para': 33821, 'torn': 33822, 'ueta': 33823, 'ulei': 33824, 'umbe': 33825, 'umer': 33826, 'urve': 33827, 'uten': 33828, 'você': 33829, 'xtil': 33830, 'ynec': 33831, 'your': 33832, 'zier': 33833, 'ábue': 33834, 'áfor': 33835, 'ânde': 33836, 'ânsc': 33837, 'ídia': 33838, 'íqua': 33839, 'ísse': 33840, 'ócol': 33841, 'ódia': 33842, '▁+/-': 33843, '▁0,4': 33844, '▁0.1': 33845, '▁0.4': 33846, '▁1.1': 33847, '▁1/6': 33848, '▁101': 33849, '▁104': 33850, '▁171': 33851, '▁2,0': 33852, '▁2,3': 33853, '▁2,6': 33854, '▁2.2': 33855, '▁2.3': 33856, '▁220': 33857, '▁260': 33858, '▁3,2': 33859, '▁3.1': 33860, '▁3.2': 33861, '▁36.': 33862, '▁4.5': 33863, '▁45-': 33864, '▁530': 33865, '▁7,2': 33866, '▁alv': 33867, '▁atm': 33868, '▁bif': 33869, '▁blu': 33870, '▁bél': 33871, '▁búl': 33872, '▁cim': 33873, '▁clé': 33874, '▁csi': 33875, '▁cúm': 33876, '▁cúp': 33877, '▁dís': 33878, '▁ees': 33879, '▁ene': 33880, '▁ero': 33881, '▁euf': 33882, '▁eva': 33883, '▁exo': 33884, '▁fie': 33885, '▁gna': 33886, '▁het': 33887, '▁hub': 33888, '▁irs': 33889, '▁ião': 33890, '▁jau': 33891, '▁kap': 33892, '▁lap': 33893, '▁lax': 33894, '▁lfc': 33895, '▁lop': 33896, '▁nah': 33897, '▁noj': 33898, '▁nus': 33899, '▁obe': 33900, '▁oun': 33901, '▁pam': 33902, '▁rav': 33903, 'fed': 33904, 'foc': 33905, 'sec': 33906, 'angs': 33907, 'apot': 33908, 'dies': 33909, 'iani': 33910, 'ulto': 33911, '▁rea': 33912, '▁reú': 33913, '▁rov': 33914, '▁rue': 33915, '▁suj': 33916, '▁sut': 33917, '▁tbd': 33918, '▁thr': 33919, '▁tic': 33920, '▁til': 33921, '▁tró': 33922, '▁unk': 33923, '▁unm': 33924, '▁unn': 33925, '▁vap': 33926, '▁vog': 33927, '▁véu': 33928, '▁vís': 33929, '▁www': 33930, '▁yup': 33931, '-1000': 33932, 'adnez': 33933, 'agear': 33934, 'amour': 33935, 'angos': 33936, 'araoh': 33937, 'ardes': 33938, 'ariar': 33939, 'asses': 33940, 'assic': 33941, 'assos': 33942, 'athed': 33943, 'aways': 33944, 'ayers': 33945, 'aysia': 33946, 'beard': 33947, 'birds': 33948, 'blast': 33949, 'bound': 33950, 'camos': 33951, 'canic': 33952, 'caças': 33953, 'ccoli': 33954, 'ceeds': 33955, 'check': 33956, 'chool': 33957, 'ciado': 33958, 'cible': 33959, 'circu': 33960, 'comed': 33961, 'creas': 33962, 'cribe': 33963, 'ctura': 33964, 'dated': 33965, 'ditis': 33966, 'drawn': 33967, 'ducts': 33968, 'ebted': 33969, 'echos': 33970, 'ectom': 33971, 'elina': 33972, 'emark': 33973, 'endum': 33974, 'enorh': 33975, 'ensed': 33976, 'ensic': 33977, 'entre': 33978, 'esgot': 33979, 'essia': 33980, 'extro': 33981, 'falfa': 33982, 'femin': 33983, 'finas': 33984, 'foles': 33985, 'fruit': 33986, 'fólio': 33987, 'gante': 33988, 'geful': 33989, 'gibre': 33990, 'gradu': 33991, 'henes': 33992, 'horse': 33993, 'hovah': 33994, 'hythm': 33995, 'iando': 33996, 'iasse': 33997, 'ibles': 33998, 'icine': 33999, 'icist': 34000, 'iguel': 34001, 'illes': 34002, 'imate': 34003, 'div': 34004, 'ésc': 34005, 'arms': 34006, 'krit': 34007, 'odés': 34008, 'watt': 34009, 'ásio': 34010, 'ásis': 34011, 'ésio': 34012, '▁13.': 34013, '▁duo': 34014, '▁gul': 34015, 'idels': 34016, 'ioter': 34017, 'ishaw': 34018, 'isine': 34019, 'istak': 34020, 'itary': 34021, 'itava': 34022, 'izamo': 34023, 'kelet': 34024, 'ladec': 34025, 'lagem': 34026, 'lapse': 34027, 'laves': 34028, 'learn': 34029, 'mesmo': 34030, 'mobil': 34031, 'moreg': 34032, 'norte': 34033, 'ocres': 34034, 'oding': 34035, 'odont': 34036, 'onais': 34037, 'onics': 34038, 'onies': 34039, 'oning': 34040, 'ophon': 34041, 'oping': 34042, 'opted': 34043, 'orded': 34044, 'ortar': 34045, 'ostat': 34046, 'oughs': 34047, 'pares': 34048, 'paste': 34049, 'pland': 34050, 'poder': 34051, 'poken': 34052, 'polis': 34053, 'pover': 34054, 'quexó': 34055, 'ranny': 34056, 'rasto': 34057, 'rinos': 34058, 'rites': 34059, 'ritre': 34060, 'roads': 34061, 'roint': 34062, 'ropor': 34063, 'ruído': 34064, 'rylic': 34065, 'shelf': 34066, 'shell': 34067, 'start': 34068, 'swing': 34069, 'theme': 34070, 'trada': 34071, 'ulars': 34072, 'uling': 34073, 'umber': 34074, 'undit': 34075, 'unhas': 34076, 'upper': 34077, 'vação': 34078, 'vocês': 34079, 'vície': 34080, 'woman': 34081, 'ícies': 34082, 'ícita': 34083, 'ícito': 34084, 'ótilo': 34085, 'ômico': 34086, 'úbita': 34087, '▁1300': 34088, '▁136.': 34089, '▁1953': 34090, '▁1965': 34091, '▁4800': 34092, '▁8000': 34093, '▁abat': 34094, '▁abom': 34095, '▁aced': 34096, '▁aces': 34097, '▁acin': 34098, '▁aflu': 34099, '▁alce': 34100, '▁aldo': 34101, '▁alfa': 34102, '▁aloc': 34103, 'uja': 34104, '▁ow': 34105, 'cral': 34106, 'ujah': 34107, '▁jaz': 34108, 'erves': 34109, 'merse': 34110, 'morte': 34111, 'ptors': 34112, '▁amem': 34113, '▁anci': 34114, '▁andr': 34115, '▁arom': 34116, '▁atal': 34117, '▁atro': 34118, '▁axes': 34119, '▁bait': 34120, '▁bead': 34121, '▁bent': 34122, '▁bfib': 34123, '▁blat': 34124, '▁bled': 34125, '▁blob': 34126, '▁bour': 34127, '▁brac': 34128, '▁bule': 34129, '▁buoy': 34130, '▁cana': 34131, '▁cann': 34132, '▁cate': 34133, '▁chal': 34134, '▁chis': 34135, '▁colh': 34136, '▁coqu': 34137, '▁cove': 34138, '▁cram': 34139, '▁cric': 34140, '▁crie': 34141, '▁curá': 34142, '▁cícl': 34143, '▁darn': 34144, '▁dart': 34145, '▁dend': 34146, '▁dica': 34147, '▁duet': 34148, '▁dyer': 34149, '▁ence': 34150, '▁enfe': 34151, '▁ento': 34152, '▁ergo': 34153, '▁erot': 34154, '▁esgu': 34155, '▁exal': 34156, '▁fada': 34157, '▁fame': 34158, '▁feit': 34159, '▁filh': 34160, '▁fofa': 34161, '▁foge': 34162, '▁fugi': 34163, '▁funk': 34164, '▁fuss': 34165, '▁fúne': 34166, '▁gays': 34167, '▁geng': 34168, '▁glyc': 34169, '▁gogh': 34170, '▁gosh': 34171, '▁guna': 34172, '▁gust': 34173, '▁hait': 34174, '▁harp': 34175, '▁hass': 34176, '▁herr': 34177, '▁hike': 34178, '▁hisp': 34179, '▁hive': 34180, '▁humm': 34181, '▁idas': 34182, '▁info': 34183, '▁inks': 34184, '▁inve': 34185, '▁irás': 34186, '▁isay': 34187, '▁isil': 34188, '▁jarg': 34189, '▁jiad': 34190, '▁kins': 34191, '▁kios': 34192, '▁kite': 34193, '▁kpis': 34194, '▁leds': 34195, '▁lenç': 34196, '▁ling': 34197, '▁loom': 34198, '▁lêem': 34199, '▁maim': 34200, '▁meld': 34201, '▁mete': 34202, '▁moma': 34203, 'fts': 34204, 'ônd': 34205, 'gery': 34206, 'gian': 34207, 'iraq': 34208, 'ásia': 34209, '▁365': 34210, '▁cud': 34211, '▁veg': 34212, 'cesse': 34213, 'etric': 34214, 'iclar': 34215, 'idays': 34216, 'micos': 34217, 'utivo': 34218, 'ércia': 34219, '▁bass': 34220, '▁liam': 34221, '▁malv': 34222, '▁mono': 34223, '▁morb': 34224, '▁mota': 34225, '▁mova': 34226, '▁movo': 34227, '▁movê': 34228, '▁neph': 34229, '▁noes': 34230, '▁nono': 34231, '▁nont': 34232, '▁noon': 34233, '▁nope': 34234, '▁nódo': 34235, '▁ofic': 34236, '▁oval': 34237, '▁pads': 34238, '▁pagá': 34239, '▁palá': 34240, '▁parc': 34241, '▁pata': 34242, '▁peat': 34243, '▁peão': 34244, '▁pine': 34245, '▁pitt': 34246, '▁pork': 34247, '▁pote': 34248, '▁prai': 34249, '▁prep': 34250, '▁prod': 34251, '▁purg': 34252, '▁pânt': 34253, '▁pães': 34254, '▁péro': 34255, '▁pêlo': 34256, '▁pêra': 34257, '▁pólo': 34258, '▁pôst': 34259, '▁púrp': 34260, '▁rave': 34261, '▁resh': 34262, '▁reta': 34263, '▁rija': 34264, '▁riot': 34265, '▁risd': 34266, '▁rote': 34267, '▁roxo': 34268, '▁rítm': 34269, '▁sals': 34270, '▁seme': 34271, '▁snot': 34272, '▁sois': 34273, '▁soot': 34274, '▁soou': 34275, '▁spig': 34276, '▁spun': 34277, '▁sten': 34278, '▁subi': 34279, '▁suck': 34280, '▁taco': 34281, '▁tame': 34282, '▁terr': 34283, '▁thai': 34284, '▁thar': 34285, '▁thug': 34286, '▁tilt': 34287, '▁toco': 34288, '▁torm': 34289, '▁twit': 34290, '▁uavs': 34291, '▁unap': 34292, '▁unar': 34293, '▁unat': 34294, '▁unbe': 34295, '▁unqu': 34296, '▁unto': 34297, '▁unve': 34298, '▁unís': 34299, '▁vagu': 34300, '▁vamo': 34301, '▁vamp': 34302, '▁vect': 34303, 'boa': 34304, 'gre': 34305, 'mus': 34306, 'ubo': 34307, 'ucy': 34308, 'uga': 34309, 'bied': 34310, 'educ': 34311, 'flex': 34312, 'lake': 34313, 'lama': 34314, 'lave': 34315, 'tuce': 34316, 'ajuda': 34317, 'biose': 34318, 'bious': 34319, 'gundo': 34320, 'ifton': 34321, 'impro': 34322, 'phins': 34323, 'storm': 34324, 'weigh': 34325, 'órcio': 34326, '▁cobi': 34327, '▁gobi': 34328, '▁loqu': 34329, '▁morf': 34330, '▁ping': 34331, '▁rabo': 34332, '▁verd': 34333, '▁voos': 34334, '▁vulc': 34335, '▁wack': 34336, '▁xant': 34337, '▁zach': 34338, '▁zâng': 34339, 'abucod': 34340, 'abário': 34341, 'achute': 34342, 'acious': 34343, 'actual': 34344, 'adados': 34345, 'adouro': 34346, 'agarta': 34347, 'agente': 34348, 'aholic': 34349, 'alidez': 34350, 'alline': 34351, 'amação': 34352, 'anatom': 34353, 'anciar': 34354, 'anding': 34355, 'andros': 34356, 'ançosa': 34357, 'aranha': 34358, 'arrega': 34359, 'ateado': 34360, 'ateiro': 34361, 'athlon': 34362, 'atient': 34363, 'atores': 34364, 'bergam': 34365, 'biosis': 34366, 'blower': 34367, 'bodied': 34368, 'border': 34369, 'branca': 34370, 'brante': 34371, 'breaks': 34372, 'casses': 34373, 'cessem': 34374, 'chable': 34375, 'coated': 34376, 'commun': 34377, 'effect': 34378, 'encias': 34379, 'endido': 34380, 'eneres': 34381, 'enment': 34382, 'ensivo': 34383, 'ername': 34384, 'esteem': 34385, 'estorm': 34386, 'etismo': 34387, 'female': 34388, 'frames': 34389, 'franca': 34390, 'férico': 34391, 'guards': 34392, 'guided': 34393, 'haired': 34394, 'handed': 34395, 'heiros': 34396, 'henian': 34397, 'holder': 34398, 'iantes': 34399, 'ibular': 34400, 'icitis': 34401, 'idasse': 34402, 'idosas': 34403, '68': 34404, 'elt': 34405, 'rons': 34406, 'sinc': 34407, 'íaca': 34408, '▁qiu': 34409, 'esium': 34410, 'gings': 34411, 'ibust': 34412, 'outed': 34413, 'ument': 34414, '▁anew': 34415, '▁ateu': 34416, '▁binó': 34417, '▁boar': 34418, '▁sled': 34419, '▁uniu': 34420, 'chings': 34421, 'iaries': 34422, 'ificou': 34423, 'igação': 34424, 'ijuana': 34425, 'illary': 34426, 'illers': 34427, 'ilocks': 34428, 'inadas': 34429, 'ingual': 34430, 'inning': 34431, 'inocer': 34432, 'insurg': 34433, 'iraque': 34434, 'irical': 34435, 'irinto': 34436, 'irring': 34437, 'iscipl': 34438, 'itismo': 34439, 'ivable': 34440, 'ivoire': 34441, 'ivores': 34442, 'izemos': 34443, 'juízos': 34444, 'looked': 34445, 'master': 34446, 'motion': 34447, 'neário': 34448, 'nostic': 34449, 'ochrom': 34450, 'odesic': 34451, 'ogenia': 34452, 'onilha': 34453, 'onosor': 34454, 'orting': 34455, 'otylus': 34456, 'otypes': 34457, 'ounced': 34458, 'pendre': 34459, 'phobia': 34460, 'piloto': 34461, 'quemos': 34462, 'quiano': 34463, 'ragens': 34464, 'rapnel': 34465, 'remoto': 34466, 'repair': 34467, 'ressem': 34468, 'ringir': 34469, 'rities': 34470, 'romagn': 34471, 'rotécn': 34472, 'rupção': 34473, 'rypton': 34474, 'rónica': 34475, 'seller': 34476, 'semita': 34477, 'sexual': 34478, 'terços': 34479, 'themed': 34480, 'tinted': 34481, 'tually': 34482, 'ucesso': 34483, 'unting': 34484, 'utable': 34485, 'venção': 34486, 'versus': 34487, 'volume': 34488, 'ystems': 34489, 'ássico': 34490, 'âmpago': 34491, 'ândega': 34492, 'çalhos': 34493, 'émicas': 34494, 'éritos': 34495, 'éscimo': 34496, 'ésicos': 34497, 'ítimos': 34498, 'ócolos': 34499, 'ópolis': 34500, 'óricas': 34501, 'ósitos': 34502, '▁1,300': 34503, 'cium': 34504, 'corp': 34505, 'haha': 34506, 'inis': 34507, 'rify': 34508, '▁fús': 34509, 'cials': 34510, 'ciana': 34511, 'forma': 34512, 'paper': 34513, 'roved': 34514, 'ópico': 34515, '▁inof': 34516, '▁jato': 34517, '▁racy': 34518, '▁typo': 34519, 'arsity': 34520, 'atched': 34521, 'athers': 34522, 'establ': 34523, 'giving': 34524, 'itures': 34525, 'ostato': 34526, '▁1,400': 34527, '▁50-50': 34528, '▁9,000': 34529, '▁abate': 34530, '▁abdóm': 34531, '▁abyss': 34532, '▁acolá': 34533, '▁adere': 34534, '▁adoec': 34535, '▁afins': 34536, '▁afrik': 34537, '▁agend': 34538, '▁agrar': 34539, '▁alcat': 34540, '▁alist': 34541, '▁alloc': 34542, '▁almas': 34543, '▁amort': 34544, '▁amput': 34545, '▁andas': 34546, '▁andor': 34547, '▁antip': 34548, '▁anéis': 34549, '▁aprop': 34550, '▁aroma': 34551, '▁aspar': 34552, '▁atent': 34553, '▁autop': 34554, '▁avery': 34555, '▁avist': 34556, '▁awash': 34557, '▁axiom': 34558, '▁aéreo': 34559, '▁badge': 34560, '▁baggy': 34561, '▁bambu': 34562, '▁basin': 34563, '▁batch': 34564, '▁beads': 34565, '▁beams': 34566, '▁bicos': 34567, '▁bliss': 34568, '▁bluff': 34569, '▁boast': 34570, '▁bount': 34571, '▁brind': 34572, '▁brink': 34573, '▁broca': 34574, '▁burma': 34575, '▁buroc': 34576, '▁butan': 34577, '▁bypro': 34578, '▁calib': 34579, '▁cambo': 34580, '▁carve': 34581, '▁chade': 34582, '▁chasm': 34583, '▁chirp': 34584, '▁chlor': 34585, '▁chora': 34586, '▁circo': 34587, '▁clico': 34588, '▁clone': 34589, '▁coded': 34590, '▁coins': 34591, '▁colei': 34592, '▁comma': 34593, '▁conju': 34594, '▁cooks': 34595, '▁coopt': 34596, '▁corro': 34597, '▁cozem': 34598, '▁crane': 34599, '▁crípt': 34600, '▁cubos': 34601, '▁cured': 34602, '▁dared': 34603, 'phy': 34604, 'yen': 34605, 'íli': 34606, '▁kl': 34607, 'edro': 34608, 'glac': 34609, 'iope': 34610, 'rimi': 34611, 'ruck': 34612, 'ómio': 34613, '▁50.': 34614, '▁bak': 34615, '▁dod': 34616, 'after': 34617, 'athic': 34618, 'cença': 34619, 'gling': 34620, 'ismic': 34621, 'punch': 34622, '▁fuck': 34623, 'abited': 34624, 'ailing': 34625, 'lement': 34626, 'mático': 34627, 'orters': 34628, '▁achat': 34629, '▁cabra': 34630, '▁carts': 34631, '▁catál': 34632, '▁dated': 34633, '▁debts': 34634, '▁decip': 34635, '▁deita': 34636, '▁deitá': 34637, '▁dente': 34638, '▁deple': 34639, '▁deris': 34640, '▁desin': 34641, '▁desma': 34642, '▁devam': 34643, '▁devor': 34644, '▁dhabi': 34645, '▁dizim': 34646, '▁donut': 34647, '▁drank': 34648, '▁ducks': 34649, '▁dueto': 34650, '▁duque': 34651, '▁dusty': 34652, '▁duvid': 34653, '▁educa': 34654, '▁efetu': 34655, '▁embro': 34656, '▁enerv': 34657, '▁enthr': 34658, '▁enven': 34659, '▁escad': 34660, '▁estir': 34661, '▁evoke': 34662, '▁excep': 34663, '▁excis': 34664, '▁expel': 34665, '▁fable': 34666, '▁faded': 34667, '▁faraó': 34668, '▁feias': 34669, '▁fiada': 34670, '▁ficas': 34671, '▁fines': 34672, '▁firef': 34673, '▁fists': 34674, '▁fiver': 34675, '▁fixar': 34676, '▁fixas': 34677, '▁fixos': 34678, '▁flups': 34679, '▁focal': 34680, '▁folcl': 34681, '▁folga': 34682, '▁frias': 34683, '▁froze': 34684, '▁funky': 34685, '▁fútil': 34686, '▁gaita': 34687, '▁gamut': 34688, '▁gangs': 34689, '▁ganhá': 34690, '▁ginec': 34691, '▁glued': 34692, '▁goofy': 34693, '▁groan': 34694, '▁gynec': 34695, '▁gémeo': 34696, '▁havai': 34697, '▁helix': 34698, '▁homer': 34699, '▁humid': 34700, '▁idosa': 34701, '▁impac': 34702, '▁impar': 34703, '▁ns': 34704, 'grou': 34705, 'jama': 34706, 'íris': 34707, '▁cín': 34708, 'enias': 34709, 'leiro': 34710, 'ógica': 34711, '▁1400': 34712, '▁fern': 34713, '▁hipó': 34714, '▁lure': 34715, '▁piec': 34716, '▁sóis': 34717, '▁ursa': 34718, '▁weas': 34719, 'icated': 34720, '▁glide': 34721, '▁inaud': 34722, '▁inbox': 34723, '▁indig': 34724, '▁insin': 34725, '▁invit': 34726, '▁ipads': 34727, '▁irrem': 34728, '▁itens': 34729, '▁ivory': 34730, '▁iémen': 34731, '▁jacob': 34732, '▁jarra': 34733, '▁jaula': 34734, '▁joach': 34735, '▁juice': 34736, '▁juros': 34737, '▁jóias': 34738, '▁kicks': 34739, '▁kluwe': 34740, '▁lajes': 34741, '▁lamin': 34742, '▁lanka': 34743, '▁laran': 34744, '▁latim': 34745, '▁leash': 34746, '▁legos': 34747, '▁lenha': 34748, '▁lidos': 34749, '▁litig': 34750, '▁lobes': 34751, '▁locom': 34752, '▁lofty': 34753, '▁lorde': 34754, '▁lords': 34755, '▁lotes': 34756, '▁lotus': 34757, '▁lucra': 34758, '▁macia': 34759, '▁madre': 34760, '▁malau': 34761, '▁malfe': 34762, '▁malta': 34763, '▁masks': 34764, '▁mathe': 34765, '▁maçar': 34766, '▁megal': 34767, '▁menus': 34768, '▁meros': 34769, '▁metál': 34770, '▁miniv': 34771, '▁mommy': 34772, '▁monot': 34773, '▁montá': 34774, '▁monót': 34775, '▁motim': 34776, '▁mourn': 34777, '▁muros': 34778, '▁murro': 34779, '▁mútuo': 34780, '▁nails': 34781, '▁naïve': 34782, '▁nerdy': 34783, '▁nihil': 34784, '▁nivel': 34785, '▁noivo': 34786, '▁notou': 34787, '▁nouns': 34788, '▁oasis': 34789, '▁obliv': 34790, '▁olive': 34791, '▁onion': 34792, '▁onsen': 34793, '▁onset': 34794, '▁orçam': 34795, '▁ovens': 34796, '▁oásis': 34797, '▁paira': 34798, '▁palha': 34799, '▁patog': 34800, '▁pavor': 34801, '▁pazes': 34802, '▁pejor': 34803, 'ask': 34804, 'een': 34805, 'ová': 34806, 'elan': 34807, 'âmia': 34808, '▁ank': 34809, '▁gee': 34810, '▁urs': 34811, 'blown': 34812, 'iered': 34813, 'vindo': 34814, '▁achá': 34815, '▁autó': 34816, '▁madr': 34817, 'cavalo': 34818, 'uccess': 34819, 'âmicas': 34820, 'ógrafo': 34821, '▁achem': 34822, '▁adhes': 34823, '▁greve': 34824, '▁halve': 34825, '▁heady': 34826, '▁jeová': 34827, '▁lifet': 34828, '▁mosco': 34829, '▁pengu': 34830, '▁pente': 34831, '▁perif': 34832, '▁pingu': 34833, '▁pintá': 34834, '▁pisei': 34835, '▁plana': 34836, '▁poleg': 34837, '▁poles': 34838, '▁pomba': 34839, '▁ponho': 34840, '▁posta': 34841, '▁potty': 34842, '▁prado': 34843, '▁prata': 34844, '▁prego': 34845, '▁probe': 34846, '▁prosa': 34847, '▁prová': 34848, '▁puxei': 34849, '▁puxou': 34850, '▁pódio': 34851, '▁quads': 34852, '▁quasi': 34853, '▁queue': 34854, '▁quilt': 34855, '▁rabbi': 34856, '▁races': 34857, '▁radii': 34858, '▁ranks': 34859, '▁rapos': 34860, '▁rapto': 34861, '▁recit': 34862, '▁remor': 34863, '▁renal': 34864, '▁rende': 34865, '▁reori': 34866, '▁repel': 34867, '▁repos': 34868, '▁repre': 34869, '▁repôr': 34870, '▁retoc': 34871, '▁retwe': 34872, '▁revig': 34873, '▁rezar': 34874, '▁reúne': 34875, '▁rican': 34876, '▁rober': 34877, '▁rouba': 34878, '▁rover': 34879, '▁rugby': 34880, '▁ruido': 34881, '▁ruler': 34882, '▁rácio': 34883, '▁saara': 34884, '▁sabot': 34885, '▁saias': 34886, '▁salif': 34887, '▁saliv': 34888, '▁salts': 34889, '▁santo': 34890, '▁scorn': 34891, '▁scorp': 34892, '▁secar': 34893, '▁selos': 34894, '▁shaky': 34895, '▁sheds': 34896, '▁silos': 34897, '▁skins': 34898, '▁skirt': 34899, '▁slabs': 34900, '▁slang': 34901, '▁slate': 34902, '▁slows': 34903, 'exp': 34904, 'dojo': 34905, '▁0.3': 34906, '▁bár': 34907, 'glass': 34908, 'énico': 34909, 'ífera': 34910, '▁cova': 34911, '▁dors': 34912, '▁idol': 34913, '▁pano': 34914, '▁swam': 34915, '▁typh': 34916, 'iddled': 34917, 'imenta': 34918, '▁advém': 34919, '▁ambum': 34920, '▁batia': 34921, '▁cande': 34922, '▁dedut': 34923, '▁ganhe': 34924, '▁manly': 34925, '▁poker': 34926, '▁polvo': 34927, '▁snowy': 34928, '▁sobra': 34929, '▁solic': 34930, '▁solos': 34931, '▁sopro': 34932, '▁spani': 34933, '▁spike': 34934, '▁spits': 34935, '▁steth': 34936, '▁sujar': 34937, '▁supra': 34938, '▁surdo': 34939, '▁suíço': 34940, '▁swarm': 34941, '▁swind': 34942, '▁sábia': 34943, '▁sânsc': 34944, '▁sótão': 34945, '▁tacos': 34946, '▁tales': 34947, '▁tecer': 34948, '▁tecto': 34949, '▁teeny': 34950, '▁thorn': 34951, '▁thrun': 34952, '▁thump': 34953, '▁tidal': 34954, '▁tires': 34955, '▁tiros': 34956, '▁token': 34957, '▁tolos': 34958, '▁torto': 34959, '▁touro': 34960, '▁traga': 34961, '▁trato': 34962, '▁tread': 34963, '▁troço': 34964, '▁tróia': 34965, '▁tuned': 34966, '▁tusks': 34967, '▁tying': 34968, '▁ténia': 34969, '▁ucran': 34970, '▁undoc': 34971, '▁unfor': 34972, '▁uninh': 34973, '▁unity': 34974, '▁unman': 34975, '▁unsur': 34976, '▁usámo': 34977, '▁valas': 34978, '▁vangu': 34979, '▁vazia': 34980, '▁veado': 34981, '▁vence': 34982, '▁venom': 34983, '▁verte': 34984, '▁voila': 34985, '▁wakes': 34986, '▁wards': 34987, '▁wears': 34988, '▁whack': 34989, '▁whoop': 34990, '▁whore': 34991, '▁willy': 34992, '▁wonka': 34993, '▁wraps': 34994, '▁yemen': 34995, '▁zacar': 34996, '▁zebra': 34997, '▁zooms': 34998, '▁ânsia': 34999, '▁óleos': 35000, 'abditis': 35001, 'adapted': 35002, 'agogues': 35003, 'narr': 35004, '▁125': 35005, '▁ceb': 35006, 'idors': 35007, 'meter': 35008, 'owels': 35009, 'ratic': 35010, 'scape': 35011, 'third': 35012, 'ívoro': 35013, '▁curb': 35014, '▁deed': 35015, '▁isco': 35016, '▁roer': 35017, 'icatos': 35018, 'saving': 35019, '▁agudo': 35020, '▁crave': 35021, '▁glaze': 35022, '▁goats': 35023, '▁jatos': 35024, '▁russo': 35025, '▁topso': 35026, 'andaria': 35027, 'annical': 35028, 'apeutas': 35029, 'ardship': 35030, 'assemos': 35031, 'ativity': 35032, 'bermans': 35033, 'celular': 35034, 'cheiros': 35035, 'cionada': 35036, 'cissors': 35037, 'coberta': 35038, 'coleira': 35039, 'coreana': 35040, 'cribing': 35041, 'direita': 35042, 'duction': 35043, 'emaking': 35044, 'encefal': 35045, 'estinal': 35046, 'ettling': 35047, 'fledged': 35048, 'flowers': 35049, 'focused': 35050, 'founder': 35051, 'garious': 35052, 'growing': 35053, 'hearted': 35054, 'icities': 35055, 'iliated': 35056, 'inhados': 35057, 'inência': 35058, 'ipélago': 35059, 'istical': 35060, 'itações': 35061, 'itching': 35062, 'knownst': 35063, 'ladeche': 35064, 'leading': 35065, 'marinho': 35066, 'matical': 35067, 'meaning': 35068, 'nascido': 35069, 'oculars': 35070, 'ogénese': 35071, 'olivros': 35072, 'ondezas': 35073, 'onexões': 35074, 'onymous': 35075, 'ophilia': 35076, 'oppable': 35077, 'orpiões': 35078, 'osaurus': 35079, 'pitched': 35080, 'racting': 35081, 'radores': 35082, 'recolet': 35083, 'redited': 35084, 'retched': 35085, 'riminar': 35086, 'ritível': 35087, 'rizante': 35088, 'rupções': 35089, 'sexuais': 35090, 'tension': 35091, 'ubstitu': 35092, 'udentes': 35093, 'ulantes': 35094, 'uráveis': 35095, 'versial': 35096, 'violent': 35097, 'western': 35098, 'ópteros': 35099, 'óstenes': 35100, '▁13,000': 35101, '▁14,000': 35102, '▁23,000': 35103, '▁zy': 35104, 'cape': 35105, 'fires': 35106, 'ineal': 35107, 'lexia': 35108, '▁atíp': 35109, '▁euro': 35110, '▁pact': 35111, '▁plex': 35112, 'crição': 35113, 'iremen': 35114, 'radora': 35115, 'valued': 35116, '▁batem': 35117, '▁fetos': 35118, '▁fibro': 35119, '▁fluem': 35120, '▁jared': 35121, '▁labia': 35122, '▁odeia': 35123, '▁vases': 35124, '▁verbs': 35125, 'ophobic': 35126, '▁24,000': 35127, '▁38,000': 35128, '▁45,000': 35129, '▁50.000': 35130, '▁abanar': 35131, '▁abomin': 35132, '▁abriam': 35133, '▁abrupt': 35134, '▁abstra': 35135, '▁abusar': 35136, '▁abuser': 35137, '▁acende': 35138, '▁acentu': 35139, '▁acerta': 35140, '▁achado': 35141, '▁acresc': 35142, '▁acusar': 35143, '▁aderiu': 35144, '▁adestr': 35145, '▁adorou': 35146, '▁advanc': 35147, '▁afegão': 35148, '▁afixar': 35149, '▁afogar': 35150, '▁agarre': 35151, '▁agarro': 35152, '▁agimos': 35153, '▁agnóst': 35154, '▁ajoelh': 35155, '▁ajudas': 35156, '▁ajudei': 35157, '▁albeit': 35158, '▁alegam': 35159, '▁alegre': 35160, '▁allevi': 35161, '▁alterá': 35162, '▁ambucy': 35163, '▁ampola': 35164, '▁anfite': 35165, '▁angust': 35166, '▁apagam': 35167, '▁apelar': 35168, '▁appall': 35169, '▁aquana': 35170, '▁armies': 35171, '▁arrays': 35172, '▁atacou': 35173, '▁atrito': 35174, '▁atrium': 35175, '▁atroph': 35176, '▁attent': 35177, '▁avaria': 35178, '▁avisou': 35179, '▁avoids': 35180, '▁aéreos': 35181, '▁backse': 35182, '▁banker': 35183, '▁beacon': 35184, '▁beeper': 35185, '▁bilhão': 35186, '▁bilion': 35187, '▁biting': 35188, '▁blinks': 35189, '▁bombed': 35190, '▁bomber': 35191, '▁bonobo': 35192, '▁booked': 35193, '▁boomer': 35194, '▁booths': 35195, '▁bouncy': 35196, '▁bovino': 35197, '▁bowden': 35198, '▁boycot': 35199, '▁braces': 35200, '▁brainw': 35201, '▁breach': 35202, '▁bribed': 35203, 'fat': 35204, 'uch': 35205, '▁ía': 35206, '▁óv': 35207, 'alls': 35208, 'empr': 35209, 'lder': 35210, 'romp': 35211, '▁16-': 35212, '▁52-': 35213, '▁70-': 35214, 'bolic': 35215, 'cious': 35216, 'ctual': 35217, '▁cush': 35218, '▁dona': 35219, '▁jars': 35220, '▁lids': 35221, '▁louv': 35222, '▁mexo': 35223, 'presso': 35224, '▁ajudo': 35225, '▁baked': 35226, '▁cinem': 35227, '▁groom': 35228, '▁harpa': 35229, '▁inexp': 35230, '▁nodos': 35231, '▁steer': 35232, '▁appreh': 35233, '▁buddha': 35234, '▁buffer': 35235, '▁burrow': 35236, '▁bursts': 35237, '▁bushes': 35238, '▁buyers': 35239, '▁cabras': 35240, '▁calada': 35241, '▁calçar': 35242, '▁cambod': 35243, '▁camelo': 35244, '▁canals': 35245, '▁cantam': 35246, '▁capela': 35247, '▁carris': 35248, '▁censor': 35249, '▁chapel': 35250, '▁charme': 35251, '▁charms': 35252, '▁cheats': 35253, '▁chewed': 35254, '▁chique': 35255, '▁chocar': 35256, '▁choked': 35257, '▁choram': 35258, '▁chorei': 35259, '▁choveu': 35260, '▁cincos': 35261, '▁cintos': 35262, '▁circus': 35263, '▁claire': 35264, '▁clerks': 35265, '▁clorof': 35266, '▁cloudy': 35267, '▁cobaia': 35268, '▁cobras': 35269, '▁cobria': 35270, '▁coesão': 35271, '▁colder': 35272, '▁colise': 35273, '▁collar': 35274, '▁comprá': 35275, '▁concha': 35276, '▁concis': 35277, '▁confio': 35278, '▁conflu': 35279, '▁congén': 35280, '▁connor': 35281, '▁consag': 35282, '▁contor': 35283, '▁convés': 35284, '▁corpus': 35285, '▁corrim': 35286, '▁couves': 35287, '▁cravam': 35288, '▁credos': 35289, '▁cunhou': 35290, '▁cupões': 35291, '▁custou': 35292, '▁cálcio': 35293, '▁cópula': 35294, '▁cúpula': 35295, '▁daring': 35296, '▁dealer': 35297, '▁debunk': 35298, '▁decres': 35299, '▁deduct': 35300, '▁demost': 35301, '▁desfaz': 35302, '▁desfil': 35303, 'iè': 35304, '-50': 35305, 'chu': 35306, 'eded': 35307, 'eçam': 35308, 'iscu': 35309, '▁11-': 35310, '▁750': 35311, '▁aww': 35312, 'agged': 35313, 'ardas': 35314, '▁7500': 35315, '▁jets': 35316, '▁lich': 35317, '▁maze': 35318, '▁plea': 35319, '▁vets': 35320, 'arkers': 35321, 'famous': 35322, 'ossoma': 35323, '▁arbor': 35324, '▁hosts': 35325, '▁sauce': 35326, '▁unreg': 35327, '▁vendê': 35328, 'arkable': 35329, 'semitic': 35330, '▁aderem': 35331, '▁arames': 35332, '▁bebida': 35333, '▁cruzar': 35334, '▁dessem': 35335, '▁desvio': 35336, '▁deteta': 35337, '▁deverá': 35338, '▁devils': 35339, '▁devise': 35340, '▁devoid': 35341, '▁devote': 35342, '▁dietas': 35343, '▁dirijo': 35344, '▁dishon': 35345, '▁disill': 35346, '▁dissem': 35347, '▁dividi': 35348, '▁divina': 35349, '▁doaram': 35350, '▁dobras': 35351, '▁domina': 35352, '▁doomed': 35353, '▁doubly': 35354, '▁dragon': 35355, '▁dramat': 35356, '▁drying': 35357, '▁duties': 35358, '▁echoes': 35359, '▁eleger': 35360, '▁elicit': 35361, '▁emagre': 35362, '▁embell': 35363, '▁embryo': 35364, '▁encaps': 35365, '▁enchem': 35366, '▁encomp': 35367, '▁erased': 35368, '▁ereção': 35369, '▁eritre': 35370, '▁escada': 35371, '▁escort': 35372, '▁esfome': 35373, '▁espere': 35374, '▁esplan': 35375, '▁esponj': 35376, '▁esporá': 35377, '▁estamo': 35378, '▁estand': 35379, '▁estica': 35380, '▁etched': 35381, '▁eterno': 35382, '▁etária': 35383, '▁exacta': 35384, '▁excise': 35385, '▁excite': 35386, '▁exibir': 35387, '▁exigem': 35388, '▁existo': 35389, '▁expõem': 35390, '▁extraí': 35391, '▁falhem': 35392, '▁fendas': 35393, '▁ferver': 35394, '▁fervor': 35395, '▁fieira': 35396, '▁filipe': 35397, '▁finjam': 35398, '▁flamen': 35399, '▁flames': 35400, '▁flauta': 35401, '▁flecha': 35402, '▁fluida': 35403, 'comm': 35404, 'como': 35405, 'lash': 35406, 'reli': 35407, '▁jug': 35408, 'astru': 35409, 'chart': 35410, 'owned': 35411, 'uckle': 35412, '▁alug': 35413, '▁desd': 35414, '▁fuma': 35415, '▁ineg': 35416, '▁kane': 35417, '▁oils': 35418, 'escala': 35419, '▁macio': 35420, '▁saldo': 35421, '▁sequo': 35422, '▁squat': 35423, '▁verbo': 35424, 'arching': 35425, 'marital': 35426, 'ventura': 35427, '▁blurry': 35428, '▁cortou': 35429, '▁flutua': 35430, '▁forage': 35431, '▁formei': 35432, '▁formul': 35433, '▁fornos': 35434, '▁forçou': 35435, '▁fotoss': 35436, '▁franca': 35437, '▁frango': 35438, '▁fundem': 35439, '▁fuzile': 35440, '▁fértil': 35441, '▁galhos': 35442, '▁gaming': 35443, '▁ganhem': 35444, '▁garras': 35445, '▁geodés': 35446, '▁gestor': 35447, '▁ghetto': 35448, '▁ghosts': 35449, '▁gifted': 35450, '▁girafa': 35451, '▁gloria': 35452, '▁gloves': 35453, '▁gordas': 35454, '▁gorila': 35455, '▁gostou': 35456, '▁gotcha': 35457, '▁gothic': 35458, '▁granny': 35459, '▁grelha': 35460, '▁greves': 35461, '▁gritam': 35462, '▁gritem': 35463, '▁grutas': 35464, '▁gótica': 35465, '▁hacked': 35466, '▁harmed': 35467, '▁hetain': 35468, '▁hiperb': 35469, '▁hister': 35470, '▁homero': 35471, '▁hoover': 35472, '▁hostis': 35473, '▁hotter': 35474, '▁hubris': 35475, '▁hughes': 35476, '▁humong': 35477, '▁hunker': 35478, '▁hyenas': 35479, '▁hálito': 35480, '▁idioma': 35481, '▁idiots': 35482, '▁ignorá': 35483, '▁iludir': 35484, '▁imbibe': 35485, '▁imerso': 35486, '▁imobil': 35487, '▁impeça': 35488, '▁impõem': 35489, '▁inchar': 35490, '▁indemn': 35491, '▁inputs': 35492, '▁intake': 35493, '▁intrud': 35494, '▁invade': 35495, '▁invoke': 35496, '▁isaiah': 35497, '▁isaías': 35498, '▁isento': 35499, '▁jailed': 35500, '▁jarras': 35501, '▁joelho': 35502, '▁jogada': 35503, '91': 35504, '▁odm': 35505, 'celer': 35506, '▁boyz': 35507, '▁fete': 35508, '▁mute': 35509, '▁uvas': 35510, 'colect': 35511, 'itches': 35512, 'tailed': 35513, '▁acabe': 35514, '▁rebar': 35515, '▁rebus': 35516, '▁sorgo': 35517, '▁verge': 35518, '▁cidadã': 35519, '▁denied': 35520, '▁gastou': 35521, '▁jogado': 35522, '▁jorrar': 35523, '▁kiosks': 35524, '▁lacked': 35525, '▁lançam': 35526, '▁largos': 35527, '▁ledger': 35528, '▁lenses': 35529, '▁letais': 35530, '▁levada': 35531, '▁levámo': 35532, '▁lidado': 35533, '▁liguem': 35534, '▁limpas': 35535, '▁liquor': 35536, '▁lisboa': 35537, '▁lisbon': 35538, '▁litter': 35539, '▁locate': 35540, '▁locust': 35541, '▁looped': 35542, '▁looted': 35543, '▁lotado': 35544, '▁lucrar': 35545, '▁lápide': 35546, '▁maduro': 35547, '▁magoou': 35548, '▁majors': 35549, '▁malfun': 35550, '▁mamute': 35551, '▁mansão': 35552, '▁masons': 35553, '▁mediar': 35554, '▁medusa': 35555, '▁mentiu': 35556, '▁merged': 35557, '▁metido': 35558, '▁michel': 35559, '▁microd': 35560, '▁mighty': 35561, '▁miguel': 35562, '▁mimics': 35563, '▁miniat': 35564, '▁misery': 35565, '▁miúdas': 35566, '▁module': 35567, '▁morava': 35568, '▁morram': 35569, '▁mortar': 35570, '▁mosaic': 35571, '▁mostar': 35572, '▁movido': 35573, '▁médias': 35574, '▁narrar': 35575, '▁neatly': 35576, '▁nebuch': 35577, '▁neonic': 35578, '▁neutra': 35579, '▁niches': 35580, '▁nichos': 35581, '▁noivas': 35582, '▁nomads': 35583, '▁novela': 35584, '▁nudges': 35585, '▁nutrir': 35586, '▁nítida': 35587, '▁nódoas': 35588, '▁oculta': 35589, '▁oitavo': 35590, '▁olhado': 35591, '▁oozing': 35592, '▁operas': 35593, '▁orador': 35594, '▁paguem': 35595, '▁palcos': 35596, '▁pancre': 35597, '▁panela': 35598, '▁papeis': 35599, '▁parisi': 35600, '▁parlam': 35601, '▁partis': 35602, '▁pasmem': 35603, '▁pastry': 35604, '▁pedais': 35605, '▁peluda': 35606, '▁pelvis': 35607, '▁penico': 35608, '▁pensos': 35609, '▁pepino': 35610, '▁pepper': 35611, '▁persia': 35612, '▁pesava': 35613, '▁pescas': 35614, '▁phases': 35615, '▁philip': 35616, '▁phobia': 35617, '▁pierce': 35618, '▁piorar': 35619, '▁pipoca': 35620, '▁plains': 35621, '▁planto': 35622, '▁platão': 35623, '▁podium': 35624, '▁pointy': 35625, '▁pontua': 35626, '▁pormos': 35627, '▁portão': 35628, '▁posses': 35629, '▁pousar': 35630, '▁powder': 35631, '▁pragas': 35632, '▁prague': 35633, '▁praise': 35634, '▁pratos': 35635, '▁preces': 35636, '▁prenda': 35637, '▁presta': 35638, '▁primas': 35639, '▁primed': 35640, '▁prompt': 35641, '▁provín': 35642, '▁prévia': 35643, '▁puddle': 35644, '▁pundit': 35645, '▁punhos': 35646, '▁purest': 35647, '▁pérsia': 35648, '▁quieta': 35649, '▁quintu': 35650, '▁quotes': 35651, '▁raging': 35652, '▁rahman': 35653, '▁rained': 35654, '▁raptos': 35655, '▁rascal': 35656, '▁ration': 35657, '▁reacts': 35658, '▁realms': 35659, '▁realça': 35660, '▁rebels': 35661, '▁recapt': 35662, '▁recast': 35663, '▁recebê': 35664, '▁recont': 35665, '▁recurs': 35666, '▁reduzi': 35667, '▁reeduc': 35668, '▁refutá': 35669, '▁remake': 35670, '▁remitt': 35671, '▁removê': 35672, '▁renome': 35673, '▁repens': 35674, '▁repeti': 35675, '▁restar': 35676, '▁restou': 35677, '▁retrat': 35678, '▁retros': 35679, '▁reuniu': 35680, '▁revelo': 35681, '▁revive': 35682, '▁reúnem': 35683, '▁ribbon': 35684, '▁risked': 35685, '▁rivals': 35686, '▁rodapé': 35687, '▁rodear': 35688, '▁roedor': 35689, '▁romper': 35690, '▁rotund': 35691, '▁roubam': 35692, '▁roubei': 35693, '▁rowdie': 35694, '▁rugged': 35695, '▁rulers': 35696, '▁ruling': 35697, '▁rustle': 35698, '▁ruídos': 35699, '▁rácios': 35700, '▁résumé': 35701, '▁safwat': 35702, '▁sairam': 35703, '▁saleem': 35704, '▁saloon': 35705, '▁salute': 35706, '▁salões': 35707, '▁savior': 35708, '▁scarce': 35709, '▁schism': 35710, '▁schulz': 35711, '▁scotch': 35712, '▁scrape': 35713, '▁screws': 35714, '▁sealed': 35715, '▁seduce': 35716, '▁seized': 35717, '▁seldom': 35718, '▁sensed': 35719, '▁servia': 35720, '▁servis': 35721, '▁severa': 35722, '▁sexier': 35723, '▁shaved': 35724, '▁shores': 35725, '▁sickly': 35726, '▁sinist': 35727, '▁sinton': 35728, '▁sisaff': 35729, '▁situar': 35730, '▁skirts': 35731, '▁sliced': 35732, '▁smiley': 35733, '▁snakes': 35734, '▁sofist': 35735, '▁somber': 35736, '▁sondar': 35737, '▁sorriu': 35738, '▁sorrow': 35739, '▁sorted': 35740, '▁spades': 35741, '▁spokes': 35742, '▁sponge': 35743, '▁spongy': 35744, '▁squash': 35745, '▁squeez': 35746, '▁squish': 35747, '▁stains': 35748, '▁stamen': 35749, '▁starve': 35750, '▁statue': 35751, '▁stifle': 35752, '▁suaíli': 35753, '▁subdiv': 35754, '▁subgru': 35755, '▁subset': 35756, '▁subtly': 35757, '▁succum': 35758, '▁sugado': 35759, '▁summon': 35760, '▁sunset': 35761, '▁supple': 35762, '▁surdos': 35763, '▁surfar': 35764, '▁surjam': 35765, '▁surtos': 35766, '▁swarms': 35767, '▁sweets': 35768, '▁sábias': 35769, '▁sátira': 35770, '▁símios': 35771, '▁súbita': 35772, '▁taboos': 35773, '▁tambem': 35774, '▁taming': 35775, '▁tamper': 35776, '▁tarmac': 35777, '▁tasted': 35778, '▁teamed': 35779, '▁teapot': 35780, '▁teclar': 35781, '▁teclas': 35782, '▁tended': 35783, '▁tennis': 35784, '▁throes': 35785, '▁tigela': 35786, '▁timely': 35787, '▁tirava': 35788, '▁titles': 35789, '▁tomtom': 35790, '▁toquem': 35791, '▁tornoz': 35792, '▁tossed': 35793, '▁tragam': 35794, '▁traiço': 35795, '▁transt': 35796, '▁tratos': 35797, '▁trecho': 35798, '▁treine': 35799, '▁tremia': 35800, '▁trenós': 35801, '▁trival': 35802, '▁tropas': 35803, '▁trovão': 35804, '▁tubing': 35805, '▁twists': 35806, '▁táctil': 35807, '▁tática': 35808, '▁tóxico': 35809, '▁ubíqua': 35810, '▁ukrain': 35811, '▁ultima': 35812, '▁uneven': 35813, '▁unific': 35814, '▁unirem': 35815, '▁unites': 35816, '▁unload': 35817, '▁unseen': 35818, '▁upland': 35819, '▁usable': 35820, '▁usaria': 35821, '▁usemos': 35822, '▁utopia': 35823, '▁vaivém': 35824, '▁valent': 35825, '▁varies': 35826, '▁vendia': 35827, '▁ventre': 35828, '▁verbos': 35829, '▁verify': 35830, '▁vestia': 35831, '▁viajem': 35832, '▁videoj': 35833, '▁vigiar': 35834, '▁vindos': 35835, '▁vingar': 35836, '▁virais': 35837, '▁voador': 35838, '▁vogais': 35839, '▁voltem': 35840, '▁votado': 35841, '▁vowels': 35842, '▁vulcão': 35843, '▁vívida': 35844, '▁walrus': 35845, '▁wander': 35846, '▁washes': 35847, '▁wholly': 35848, '▁wildly': 35849, '▁windsh': 35850, '▁wiping': 35851, '▁woohoo': 35852, '▁woolly': 35853, '▁yankee': 35854, '▁zoning': 35855, '▁áspera': 35856, '▁âmbito': 35857, '▁âncora': 35858, '▁ímpeto': 35859, '▁índico': 35860, '▁óbvios': 35861, '▁órfãos': 35862, '▁ótimos': 35863, 'adnezzar': 35864, 'africano': 35865, 'agements': 35866, 'approved': 35867, 'ateriais': 35868, 'canadian': 35869, 'ceptores': 35870, 'computer': 35871, 'conflict': 35872, 'distance': 35873, 'ecedores': 35874, 'elliform': 35875, 'enciados': 35876, 'engineer': 35877, 'ensorial': 35878, 'história': 35879, 'icionado': 35880, 'ificável': 35881, 'internet': 35882, 'invented': 35883, 'iousness': 35884, 'itioning': 35885, 'lineares': 35886, 'lomerate': 35887, 'ogenesis': 35888, 'onteante': 35889, 'ordenado': 35890, 'organism': 35891, 'otically': 35892, 'preneurs': 35893, 'ransport': 35894, 'ribuição': 35895, 'segundos': 35896, 'sounding': 35897, 'sucedida': 35898, 'ualizado': 35899, 'vasively': 35900, 'ynthesis': 35901, 'êntricas': 35902, '▁140,000': 35903, '▁160,000': 35904, '▁160.000': 35905, '▁250.000': 35906, '▁450,000': 35907, '▁800,000': 35908, '▁abafado': 35909, '▁abalada': 35910, '▁abdomen': 35911, '▁abdómen': 35912, '▁abolish': 35913, '▁abranda': 35914, '▁abriria': 35915, '▁absorve': 35916, '▁acabava': 35917, '▁acendia': 35918, '▁acetate': 35919, '▁acetato': 35920, '▁acordam': 35921, '▁acrylic': 35922, '▁actores': 35923, '▁acusada': 35924, '▁adesivo': 35925, '▁admirer': 35926, '▁advisor': 35927, '▁afectou': 35928, '▁afghans': 35929, '▁afortun': 35930, '▁agregam': 35931, '▁agregar': 35932, '▁ajudava': 35933, '▁alcançá': 35934, '▁alertas': 35935, '▁alfalfa': 35936, '▁aligned': 35937, '▁alongar': 35938, '▁amarrar': 35939, '▁ampliam': 35940, '▁analyst': 35941, '▁anestes': 35942, '▁animate': 35943, '▁aniquil': 35944, '▁anomaly': 35945, '▁antagon': 35946, '▁análogo': 35947, '▁apareci': 35948, '▁apareço': 35949, '▁aplicou': 35950, '▁apostei': 35951, '▁approve': 35952, '▁aprecio': 35953, '▁aprovou': 35954, '▁aquiles': 35955, '▁arbusto': 35956, '▁arestas': 35957, '▁argiope': 35958, '▁armário': 35959, '▁arranja': 35960, '▁arrisca': 35961, '▁arrumar': 35962, '▁artesan': 35963, '▁aspirin': 35964, '▁assenta': 35965, '▁assimil': 35966, '▁assinei': 35967, '▁atenuar': 35968, '▁atraído': 35969, '▁audible': 35970, '▁aumente': 35971, '▁aurochs': 35972, '▁auroque': 35973, '▁authors': 35974, '▁awarded': 35975, '▁axónios': 35976, '▁baffled': 35977, '▁bagdade': 35978, '▁baghdad': 35979, '▁baixado': 35980, '▁bastava': 35981, '▁batemos': 35982, '▁bathtub': 35983, '▁batidas': 35984, '▁bedtime': 35985, '▁begging': 35986, '▁behaves': 35987, '▁benches': 35988, '▁benigna': 35989, '▁benigno': 35990, '▁bercken': 35991, '▁bigotry': 35992, '▁binário': 35993, '▁bisonte': 35994, '▁bladder': 35995, '▁blazing': 35996, '▁bolacha': 35997, '▁bolivia': 35998, '▁bolívia': 35999, '▁bombaim': 36000, '▁bombear': 36001, '▁booming': 36002, '▁borrões': 36003, '▁bothers': 36004, '▁bravery': 36005, '▁breasts': 36006, '▁brilham': 36007, '▁brincam': 36008, '▁bruises': 36009, '▁buckets': 36010, '▁buffalo': 36011, '▁buffers': 36012, '▁buzinas': 36013, '▁caberia': 36014, '▁caenorh': 36015, '▁calcium': 36016, '▁campeão': 36017, '▁cansado': 36018, '▁capitol': 36019, '▁capsule': 36020, '▁captive': 36021, '▁carimbo': 36022, '▁carinho': 36023, '▁carrega': 36024, '▁casaram': 36025, '▁catalis': 36026, '▁catches': 36027, '▁cateter': 36028, '▁causada': 36029, '▁caveira': 36030, '▁caótico': 36031, '▁cereals': 36032, '▁chamamo': 36033, '▁chapéus': 36034, '▁chatter': 36035, '▁chegará': 36036, '▁cheguem': 36037, '▁cheirar': 36038, '▁chewing': 36039, '▁cimeira': 36040, '▁circula': 36041, '▁clashes': 36042, '▁clearer': 36043, '▁clichés': 36044, '▁clicked': 36045, '▁cliques': 36046, '▁cloning': 36047, '▁coaches': 36048, '▁coastal': 36049, '▁coaster': 36050, '▁coelhos': 36051, '▁cohorts': 36052, '▁colbert': 36053, '▁colchão': 36054, '▁coldest': 36055, '▁coleira': 36056, '▁colinas': 36057, '▁cometeu': 36058, '▁comidos': 36059, '▁compose': 36060, '▁concise': 36061, '▁confiem': 36062, '▁confins': 36063, '▁congreg': 36064, '▁conjunt': 36065, '▁consign': 36066, '▁consola': 36067, '▁contato': 36068, '▁contava': 36069, '▁contida': 36070, '▁convida': 36071, '▁cookies': 36072, '▁copiado': 36073, '▁corante': 36074, '▁cowards': 36075, '▁crammed': 36076, '▁craving': 36077, '▁criaste': 36078, '▁criavam': 36079, '▁critics': 36080, '▁cuisine': 36081, '▁cultiva': 36082, '▁cumpriu': 36083, '▁curados': 36084, '▁curtail': 36085, '▁cyclist': 36086, '▁cynical': 36087, '▁cápsula': 36088, '▁cívicos': 36089, '▁cônjuge': 36090, '▁cúbicos': 36091, '▁damages': 36092, '▁damasco': 36093, '▁daremos': 36094, '▁decency': 36095, '▁dedicou': 36096, '▁defeitu': 36097, '▁defendo': 36098, '▁defiant': 36099, '▁deixará': 36100, '▁deleite': 36101, '▁deparou': 36102, '▁derrame': 36103, '▁derrete': 36104, '▁descent': 36105, '▁descida': 36106, '▁desejem': 36107, '▁desenha': 36108, '▁deserta': 36109, '▁desilud': 36110, '▁despach': 36111, '▁despejo': 36112, '▁despesa': 36113, '▁detesto': 36114, '▁detidos': 36115, '▁deveres': 36116, '▁devolvê': 36117, '▁diffuse': 36118, '▁dilemas': 36119, '▁dinners': 36120, '▁dirigia': 36121, '▁dispens': 36122, '▁disprop': 36123, '▁disputa': 36124, '▁dispute': 36125, '▁dissipa': 36126, '▁ditador': 36127, '▁doações': 36128, '▁dobrada': 36129, '▁domains': 36130, '▁dominam': 36131, '▁dormant': 36132, '▁dossier': 36133, '▁dotados': 36134, '▁doubles': 36135, '▁doubted': 36136, '▁dragons': 36137, '▁dragões': 36138, '▁drawers': 36139, '▁droplet': 36140, '▁drunken': 36141, '▁dubious': 36142, '▁duvidar': 36143, '▁earthly': 36144, '▁echoing': 36145, '▁educado': 36146, '▁elogios': 36147, '▁embater': 36148, '▁embrion': 36149, '▁embrião': 36150, '▁emitted': 36151, '▁emotivo': 36152, '▁empacot': 36153, '▁empobre': 36154, '▁empurrá': 36155, '▁encanto': 36156, '▁encarei': 36157, '▁encodes': 36158, '▁enfarte': 36159, '▁enferru': 36160, '▁enforce': 36161, '▁ensaiar': 36162, '▁ensangu': 36163, '▁ensinei': 36164, '▁enslave': 36165, '▁entendê': 36166, '▁entorse': 36167, '▁entries': 36168, '▁envolvi': 36169, '▁enxofre': 36170, '▁equator': 36171, '▁erasing': 36172, '▁errands': 36173, '▁erratic': 36174, '▁esboços': 36175, '▁escapes': 36176, '▁escapou': 36177, '▁escocês': 36178, '▁escorre': 36179, '▁escravo': 36180, '▁escutas': 36181, '▁esgotar': 36182, '▁espetar': 36183, '▁espinha': 36184, '▁esponja': 36185, '▁estacas': 36186, '▁esteril': 36187, '▁estimar': 36188, '▁everest': 36189, '▁evident': 36190, '▁evoluem': 36191, '▁exactos': 36192, '▁exagger': 36193, '▁exausta': 36194, '▁exausto': 36195, '▁exceeds': 36196, '▁excerto': 36197, '▁excluir': 36198, '▁exibido': 36199, '▁exigirá': 36200, '▁exosome': 36201, '▁exótico': 36202, '▁eyeball': 36203, '▁facetas': 36204, '▁faminto': 36205, '▁fantast': 36206, '▁fatigue': 36207, '▁favores': 36208, '▁fibroid': 36209, '▁fibroma': 36210, '▁fifteen': 36211, '▁fighter': 36212, '▁filters': 36213, '▁finança': 36214, '▁firemen': 36215, '▁fiscais': 36216, '▁flights': 36217, '▁flowery': 36218, '▁fluente': 36219, '▁focadas': 36220, '▁focamos': 36221, '▁folhear': 36222, '▁forense': 36223, '▁fotorre': 36224, '▁fracked': 36225, '▁fraudul': 36226, '▁freezer': 36227, '▁freight': 36228, '▁frentes': 36229, '▁frisson': 36230, '▁frontal': 36231, '▁fueling': 36232, '▁fulcral': 36233, '▁furious': 36234, '▁futured': 36235, '▁fármaco': 36236, '▁ganhado': 36237, '▁garanto': 36238, '▁garniez': 36239, '▁gavetas': 36240, '▁geniais': 36241, '▁genuíno': 36242, '▁geradas': 36243, '▁gerbils': 36244, '▁gesture': 36245, '▁ginásio': 36246, '▁giraffe': 36247, '▁girlies': 36248, '▁glimmer': 36249, '▁gnawing': 36250, '▁googled': 36251, '▁gorilas': 36252, '▁gorilla': 36253, '▁grabbed': 36254, '▁grizzly': 36255, '▁guarded': 36256, '▁guessed': 36257, '▁guesses': 36258, '▁guppies': 36259, '▁hallway': 36260, '▁handler': 36261, '▁hateful': 36262, '▁hazards': 36263, '▁headway': 36264, '▁hipoman': 36265, '▁hosting': 36266, '▁houvera': 36267, '▁hóspede': 36268, '▁ignorem': 36269, '▁igualar': 36270, '▁imagina': 36271, '▁imergir': 36272, '▁immerse': 36273, '▁impeach': 36274, '▁impedem': 36275, '▁implied': 36276, '▁impover': 36277, '▁imprint': 36278, '▁impunes': 36279, '▁inacess': 36280, '▁inating': 36281, '▁inciner': 36282, '▁inconst': 36283, '▁indelic': 36284, '▁indians': 36285, '▁indulge': 36286, '▁inesgot': 36287, '▁inexist': 36288, '▁infiéis': 36289, '▁infused': 36290, '▁inherit': 36291, '▁inhibit': 36292, '▁injeção': 36293, '▁injusto': 36294, '▁insisti': 36295, '▁insuper': 36296, '▁interst': 36297, '▁intrans': 36298, '▁intruso': 36299, '▁invadir': 36300, '▁invaria': 36301, '▁jamming': 36302, '▁javalis': 36303, '▁jehovah': 36304, '▁joachim': 36305, '▁julgado': 36306, '▁juntava': 36307, '▁juntámo': 36308, '▁juvenil': 36309, '▁kenyans': 36310, '▁killers': 36311, '▁kissing': 36312, '▁krypton': 36313, '▁lacking': 36314, '▁lagarta': 36315, '▁latency': 36316, '▁latinos': 36317, '▁lavagem': 36318, '▁layered': 36319, '▁leaking': 36320, '▁leisure': 36321, '▁lengths': 36322, '▁lettuce': 36323, '▁levante': 36324, '▁levarão': 36325, '▁libertá': 36326, '▁lidarem': 36327, '▁ligámos': 36328, '▁limitou': 36329, '▁litoral': 36330, '▁lixeira': 36331, '▁loading': 36332, '▁lobbied': 36333, '▁loggers': 36334, '▁looping': 36335, '▁lunares': 36336, '▁lutamos': 36337, '▁lutando': 36338, '▁macrosc': 36339, '▁maduros': 36340, '▁maligno': 36341, '▁malásia': 36342, '▁managua': 36343, '▁mandado': 36344, '▁manhole': 36345, '▁manágua': 36346, '▁marbles': 36347, '▁marched': 36348, '▁massage': 36349, '▁masturb': 36350, '▁matando': 36351, '▁measles': 36352, '▁menstru': 36353, '▁mentors': 36354, '▁mercury': 36355, '▁merecer': 36356, '▁messing': 36357, '▁metralh': 36358, '▁microbi': 36359, '▁milisse': 36360, '▁mineiro': 36361, '▁minimum': 36362, '▁minivan': 36363, '▁misfits': 36364, '▁misused': 36365, '▁modules': 36366, '▁moldova': 36367, '▁moramos': 36368, '▁mostrem': 36369, '▁motions': 36370, '▁movable': 36371, '▁movidos': 36372, '▁mudasse': 36373, '▁mutants': 36374, '▁nabucod': 36375, '▁nadador': 36376, '▁nagging': 36377, '▁namibia': 36378, '▁namorar': 36379, '▁namíbia': 36380, '▁narciso': 36381, '▁nascida': 36382, '▁natação': 36383, '▁nesting': 36384, '▁neurode': 36385, '▁neutros': 36386, '▁nomadic': 36387, '▁nomeada': 36388, '▁nomeiem': 36389, '▁notaram': 36390, '▁nuanced': 36391, '▁nursing': 36392, '▁obtidos': 36393, '▁octopus': 36394, '▁ocultar': 36395, '▁ofereço': 36396, '▁offense': 36397, '▁olhasse': 36398, '▁ominous': 36399, '▁onboard': 36400, '▁optimal': 36401, '▁oratory': 36402, '▁orphans': 36403, '▁ousamos': 36404, '▁outfits': 36405, '▁outlook': 36406, '▁overlap': 36407, '▁overuse': 36408, '▁pagaria': 36409, '▁pagámos': 36410, '▁pancada': 36411, '▁paraleg': 36412, '▁pareces': 36413, '▁pareçam': 36414, '▁passará': 36415, '▁pedalar': 36416, '▁pedindo': 36417, '▁peeling': 36418, '▁pelotão': 36419, '▁pendura': 36420, '▁pensões': 36421, '▁perceba': 36422, '▁perdoar': 36423, '▁permits': 36424, '▁perpend': 36425, '▁persona': 36426, '▁pesadas': 36427, '▁pesaria': 36428, '▁pharaoh': 36429, '▁pintava': 36430, '▁pirated': 36431, '▁pitcher': 36432, '▁pivotal': 36433, '▁planeia': 36434, '▁plantam': 36435, '▁plantei': 36436, '▁platéia': 36437, '▁playoff': 36438, '▁plunged': 36439, '▁podcast': 36440, '▁postais': 36441, '▁posture': 36442, '▁potency': 36443, '▁poupada': 36444, '▁prayers': 36445, '▁prelude': 36446, '▁premiar': 36447, '▁prestei': 36448, '▁preveem': 36449, '▁preview': 36450, '▁primado': 36451, '▁proibir': 36452, '▁prometo': 36453, '▁promove': 36454, '▁propels': 36455, '▁prophet': 36456, '▁propuls': 36457, '▁protegê': 36458, '▁proudly': 36459, '▁provado': 36460, '▁proverb': 36461, '▁provoke': 36462, '▁psicose': 36463, '▁punição': 36464, '▁puxamos': 36465, '▁puzzles': 36466, '▁péssima': 36467, '▁pêndulo': 36468, '▁púrpura': 36469, '▁qualify': 36470, '▁quartas': 36471, '▁quicker': 36472, '▁quietos': 36473, '▁quinine': 36474, '▁racista': 36475, '▁racists': 36476, '▁railing': 36477, '▁rampant': 36478, '▁randoms': 36479, '▁readily': 36480, '▁readout': 36481, '▁rearran': 36482, '▁reativa': 36483, '▁recalib': 36484, '▁recapit': 36485, '▁recarga': 36486, '▁receção': 36487, '▁recipes': 36488, '▁recitar': 36489, '▁recolhe': 36490, '▁recorda': 36491, '▁recusam': 36492, '▁recycle': 36493, '▁redondo': 36494, '▁reduziu': 36495, '▁reescre': 36496, '▁refazer': 36497, '▁referiu': 36498, '▁reforça': 36499, '▁refresh': 36500, '▁refusal': 36501, '▁reincid': 36502, '▁relegar': 36503, '▁remarks': 36504, '▁remessa': 36505, '▁reminis': 36506, '▁removem': 36507, '▁renamed': 36508, '▁renovar': 36509, '▁reorder': 36510, '▁repetiu': 36511, '▁repress': 36512, '▁resgate': 36513, '▁ressent': 36514, '▁ressusc': 36515, '▁resumiu': 36516, '▁retocar': 36517, '▁retomar': 36518, '▁retrain': 36519, '▁retrial': 36520, '▁reunimo': 36521, '▁reversa': 36522, '▁revisit': 36523, '▁revisor': 36524, '▁rewired': 36525, '▁rigidez': 36526, '▁rinocer': 36527, '▁robusta': 36528, '▁roiling': 36529, '▁rooftop': 36530, '▁roomful': 36531, '▁rooting': 36532, '▁rotting': 36533, '▁rounded': 36534, '▁rwandan': 36535, '▁résumés': 36536, '▁sacudir': 36537, '▁salgado': 36538, '▁salient': 36539, '▁salivar': 36540, '▁samarit': 36541, '▁sarampo': 36542, '▁sausage': 36543, '▁sawdust': 36544, '▁scanned': 36545, '▁scourge': 36546, '▁seduzir': 36547, '▁seekers': 36548, '▁segurei': 36549, '▁seismic': 36550, '▁semáfor': 36551, '▁sensato': 36552, '▁sentava': 36553, '▁sentira': 36554, '▁sentámo': 36555, '▁separou': 36556, '▁sereias': 36557, '▁servers': 36558, '▁servido': 36559, '▁servirá': 36560, '▁setenta': 36561, '▁seventy': 36562, '▁shatter': 36563, '▁shaving': 36564, '▁showers': 36565, '▁shrinks': 36566, '▁sincero': 36567, '▁singles': 36568, '▁situado': 36569, '▁sizable': 36570, '▁slammed': 36571, '▁sliding': 36572, '▁slipped': 36573, '▁sneaker': 36574, '▁snipers': 36575, '▁sobranc': 36576, '▁sobress': 36577, '▁sofrido': 36578, '▁solaren': 36579, '▁solomon': 36580, '▁somados': 36581, '▁sonhado': 36582, '▁sonhava': 36583, '▁sorghum': 36584, '▁sorriam': 36585, '▁spelled': 36586, '▁spousal': 36587, '▁spouses': 36588, '▁stabbed': 36589, '▁stained': 36590, '▁stellar': 36591, '▁storing': 36592, '▁strokes': 36593, '▁stuffed': 36594, '▁stunned': 36595, '▁stutter': 36596, '▁stylish': 36597, '▁suborno': 36598, '▁subterr': 36599, '▁subways': 36600, '▁sucumbe': 36601, '▁sumário': 36602, '▁superam': 36603, '▁sólidos': 36604, '▁tanager': 36605, '▁tardias': 36606, '▁taxista': 36607, '▁teeming': 36608, '▁tellers': 36609, '▁tenuous': 36610, '▁terrain': 36611, '▁testify': 36612, '▁teórica': 36613, '▁thinker': 36614, '▁thirsty': 36615, '▁thrives': 36616, '▁thyroid': 36617, '▁tirania': 36618, '▁tiveste': 36619, '▁tocaram': 36620, '▁todavia': 36621, '▁toddler': 36622, '▁tomámos': 36623, '▁toolbox': 36624, '▁toranja': 36625, '▁tourism': 36626, '▁traitor': 36627, '▁traumas': 36628, '▁treinam': 36629, '▁treinos': 36630, '▁trickle': 36631, '▁trilião': 36632, '▁tripled': 36633, '▁trishaw': 36634, '▁tristem': 36635, '▁trolley': 36636, '▁troncos': 36637, '▁trophic': 36638, '▁tropics': 36639, '▁trágica': 36640, '▁tubular': 36641, '▁turkish': 36642, '▁tuscany': 36643, '▁tyranny': 36644, '▁tímidas': 36645, '▁tímidos': 36646, '▁típicas': 36647, '▁unarmed': 36648, '▁unirmos': 36649, '▁unkempt': 36650, '▁upgrade': 36651, '▁upright': 36652, '▁usassem': 36653, '▁uterine': 36654, '▁utilizo': 36655, '▁utopian': 36656, '▁utópica': 36657, '▁vaginal': 36658, '▁validar': 36659, '▁valleys': 36660, '▁valuing': 36661, '▁varanda': 36662, '▁varsity': 36663, '▁vermont': 36664, '▁vestida': 36665, '▁viajado': 36666, '▁vincent': 36667, '▁viremos': 36668, '▁visuals': 36669, '▁vivenci': 36670, '▁voltado': 36671, '▁voltava': 36672, '▁warfare': 36673, '▁warrior': 36674, '▁webpage': 36675, '▁whereby': 36676, '▁zângãos': 36677, '▁íntimos': 36678, 'acionária': 36679, 'alization': 36680, 'atlântico': 36681, 'community': 36682, 'consuming': 36683, 'dependent': 36684, 'detection': 36685, 'esqueleto': 36686, 'fronteiri': 36687, 'gatherers': 36688, 'heartedly': 36689, 'identally': 36690, 'intenance': 36691, 'interrupt': 36692, 'isciplina': 36693, 'kilometer': 36694, 'modifying': 36695, 'mountable': 36696, 'narrative': 36697, 'ogenicity': 36698, 'ortionate': 36699, 'ounceable': 36700, 'ownership': 36701, 'placeable': 36702, 'planetary': 36703, 'resourced': 36704, 'rotécnica': 36705, 'uccessful': 36706, '▁abanamos': 36707, '▁abolição': 36708, '▁absorção': 36709, '▁abstrata': 36710, '▁absurdas': 36711, '▁acabarem': 36712, '▁acabasse': 36713, '▁acamadas': 36714, '▁acasalar': 36715, '▁accessed': 36716, '▁achilles': 36717, '▁acusaram': 36718, '▁acústico': 36719, '▁aderiram': 36720, '▁admissão': 36721, '▁adoptado': 36722, '▁adoração': 36723, '▁advising': 36724, '▁advocacy': 36725, '▁afastemo': 36726, '▁afectado': 36727, '▁agnostic': 36728, '▁agrarian': 36729, '▁airborne': 36730, '▁ajudasse': 36731, '▁albergam': 36732, '▁algerian': 36733, '▁aliviado': 36734, '▁allocate': 36735, '▁alpendre': 36736, '▁alterada': 36737, '▁amateurs': 36738, '▁ameaçada': 36739, '▁amenable': 36740, '▁amoreira': 36741, '▁amygdala': 36742, '▁américas': 36743, '▁amígdala': 36744, '▁analisou': 36745, '▁ancestry': 36746, '▁andaimes': 36747, '▁anecdote': 36748, '▁angariou': 36749, '▁announce': 36750, '▁aparenta': 36751, '▁aparente': 36752, '▁apertada': 36753, '▁aperture': 36754, '▁apliquem': 36755, '▁apofenia': 36756, '▁apoiadas': 36757, '▁apontada': 36758, '▁approval': 36759, '▁apreciem': 36760, '▁aprovada': 36761, '▁aquecido': 36762, '▁aquífero': 36763, '▁arguably': 36764, '▁armazéns': 36765, '▁arquivar': 36766, '▁arranhão': 36767, '▁arsenais': 36768, '▁aspirina': 36769, '▁assessed': 36770, '▁assinala': 36771, '▁assistiu': 36772, '▁associam': 36773, '▁atacarem': 36774, '▁atempada': 36775, '▁atestado': 36776, '▁athenian': 36777, '▁athletic': 36778, '▁atorment': 36779, '▁atributo': 36780, '▁atómicos': 36781, '▁audacity': 36782, '▁autónoma': 36783, '▁backseat': 36784, '▁backward': 36785, '▁bagpipes': 36786, '▁balançar': 36787, '▁banheira': 36788, '▁baralhar': 36789, '▁barefoot': 36790, '▁baseline': 36791, '▁battling': 36792, '▁beautify': 36793, '▁bedrooms': 36794, '▁behaving': 36795, '▁believer': 36796, '▁bikeways': 36797, '▁birdsong': 36798, '▁blinking': 36799, '▁bombeada': 36800, '▁bombings': 36801, '▁bookshop': 36802, '▁boulders': 36803, '▁brasilia': 36804, '▁brasília': 36805, '▁brilhava': 36806, '▁brincava': 36807, '▁broccoli': 36808, '▁brócolos': 36809, '▁bubbling': 36810, '▁builders': 36811, '▁cablagem': 36812, '▁caixotes': 36813, '▁calculam': 36814, '▁calligra': 36815, '▁calvície': 36816, '▁caminhão': 36817, '▁cansados': 36818, '▁capitals': 36819, '▁captaram': 36820, '▁capturas': 36821, '▁captures': 36822, '▁caracóis': 36823, '▁caravana': 36824, '▁carcaças': 36825, '▁carolina': 36826, '▁carriers': 36827, '▁cartoons': 36828, '▁cascades': 36829, '▁cascatas': 36830, '▁caseiras': 36831, '▁cassetes': 36832, '▁causaria': 36833, '▁cenouras': 36834, '▁centelha': 36835, '▁centrado': 36836, '▁certezas': 36837, '▁cetamina': 36838, '▁chaleira': 36839, '▁charcoal': 36840, '▁cheapest': 36841, '▁chegadas': 36842, '▁chegares': 36843, '▁chegasse': 36844, '▁chegavam': 36845, '▁cheirava': 36846, '▁childish': 36847, '▁ciclista': 36848, '▁cigarros': 36849, '▁ciumento': 36850, '▁cleaners': 36851, '▁cleanest': 36852, '▁clicking': 36853, '▁clonados': 36854, '▁clonagem': 36855, '▁coauthor': 36856, '▁cobardes': 36857, '▁cobertos': 36858, '▁cobrimos': 36859, '▁cobriram': 36860, '▁cognição': 36861, '▁cohesion': 36862, '▁coincide': 36863, '▁coisinha': 36864, '▁colocava': 36865, '▁combatem': 36866, '▁comeback': 36867, '▁comentar': 36868, '▁comentou': 36869, '▁começara': 36870, '▁compares': 36871, '▁computar': 36872, '▁concebeu': 36873, '▁condenar': 36874, '▁confirma': 36875, '▁confunde': 36876, '▁confusos': 36877, '▁constell': 36878, '▁construi': 36879, '▁construo': 36880, '▁contadas': 36881, '▁contasse': 36882, '▁convento': 36883, '▁convertê': 36884, '▁convites': 36885, '▁copernic': 36886, '▁copiaram': 36887, '▁copiarem': 36888, '▁copulate': 36889, '▁coreanos': 36890, '▁correram': 36891, '▁correria': 36892, '▁coughing': 36893, '▁craniano': 36894, '▁credited': 36895, '▁critério': 36896, '▁cruciais': 36897, '▁crumpled': 36898, '▁cruzadas': 36899, '▁cruzados': 36900, '▁créditos': 36901, '▁crónicos': 36902, '▁culprits': 36903, '▁cultivam': 36904, '▁currents': 36905, '▁curtains': 36906, '▁custaria': 36907, '▁cutaways': 36908, '▁cyclical': 36909, '▁célebres': 36910, '▁damascus': 36911, '▁danielle': 36912, '▁dançamos': 36913, '▁deadline': 36914, '▁debatiam': 36915, '▁decibels': 36916, '▁decibéis': 36917, '▁decidido': 36918, '▁declarar': 36919, '▁declarou': 36920, '▁decência': 36921, '▁degrades': 36922, '▁deixarei': 36923, '▁delícias': 36924, '▁delírios': 36925, '▁demanded': 36926, '▁demorado': 36927, '▁dentists': 36928, '▁dentures': 36929, '▁denúncia': 36930, '▁deparamo': 36931, '▁deposits': 36932, '▁deprived': 36933, '▁derivada': 36934, '▁derivado': 36935, '▁desafiam': 36936, '▁desafiei': 36937, '▁descolor': 36938, '▁desconto': 36939, '▁descrita': 36940, '▁deserved': 36941, '▁desfazer': 36942, '▁desfecho': 36943, '▁desfeito': 36944, '▁desfiles': 36945, '▁desgosto': 36946, '▁desinteg': 36947, '▁desistem': 36948, '▁desistiu': 36949, '▁desmotiv': 36950, '▁desolate': 36951, '▁desperta': 36952, '▁despolet': 36953, '▁desprezo': 36954, '▁destaque': 36955, '▁destilar': 36956, '▁destined': 36957, '▁destinos': 36958, '▁detained': 36959, '▁detenção': 36960, '▁devotion': 36961, '▁diagrams': 36962, '▁didactic': 36963, '▁digitize': 36964, '▁directas': 36965, '▁direitas': 36966, '▁disclose': 36967, '▁discreta': 36968, '▁discrete': 36969, '▁dislexia': 36970, '▁disparam': 36971, '▁dispersa': 36972, '▁dispomos': 36973, '▁dissecar': 36974, '▁distrair': 36975, '▁diverged': 36976, '▁dominada': 36977, '▁doorbell': 36978, '▁doughnut': 36979, '▁downplay': 36980, '▁dragging': 36981, '▁drenagem': 36982, '▁drowning': 36983, '▁drástica': 36984, '▁eclectic': 36985, '▁editoras': 36986, '▁educador': 36987, '▁eighteen': 36988, '▁elevates': 36989, '▁emailing': 36990, '▁embarked': 36991, '▁empenhar': 36992, '▁empregar': 36993, '▁encerrar': 36994, '▁encurral': 36995, '▁energies': 36996, '▁enforced': 36997, '▁enfurece': 36998, '▁enganada': 36999, '▁engender': 37000, '▁enhanced': 37001, '▁enquadra': 37002, '▁enrolado': 37003, '▁ensinamo': 37004, '▁entendeu': 37005, '▁entities': 37006, '▁enviámos': 37007, '▁envolvia': 37008, '▁enérgica': 37009, '▁equestre': 37010, '▁erectile': 37011, '▁esbanjar': 37012, '▁escalada': 37013, '▁escapism': 37014, '▁escassos': 37015, '▁espargos': 37016, '▁estendem': 37017, '▁esticada': 37018, '▁estragar': 37019, '▁estragos': 37020, '▁estrateg': 37021, '▁estreita': 37022, '▁estudava': 37023, '▁estádios': 37024, '▁estágios': 37025, '▁eternity': 37026, '▁euphoria': 37027, '▁evacuate': 37028, '▁evaporar': 37029, '▁evereste': 37030, '▁evitando': 37031, '▁exagerar': 37032, '▁examined': 37033, '▁exaustos': 37034, '▁excerpts': 37035, '▁excertos': 37036, '▁excitado': 37037, '▁excluída': 37038, '▁exibição': 37039, '▁exigindo': 37040, '▁existent': 37041, '▁expandiu': 37042, '▁expenses': 37043, '▁expulsos': 37044, '▁externas': 37045, '▁extravag': 37046, '▁faithful': 37047, '▁falharem': 37048, '▁faltavam': 37049, '▁fascinou': 37050, '▁favorece': 37051, '▁feasible': 37052, '▁fechando': 37053, '▁fervente': 37054, '▁fidelity': 37055, '▁filament': 37056, '▁filibust': 37057, '▁filmamos': 37058, '▁filmámos': 37059, '▁filtered': 37060, '▁filtrada': 37061, '▁financed': 37062, '▁fingimos': 37063, '▁fisioter': 37064, '▁flashing': 37065, '▁flipping': 37066, '▁foraging': 37067, '▁forensic': 37068, '▁foreseen': 37069, '▁formadas': 37070, '▁forçadas': 37071, '▁forçando': 37072, '▁forçaram': 37073, '▁furacões': 37074, '▁ganhando': 37075, '▁ganhaste': 37076, '▁gastaram': 37077, '▁generoso': 37078, '▁gengibre': 37079, '▁gengivas': 37080, '▁genérico': 37081, '▁geodesic': 37082, '▁geolocal': 37083, '▁germanic': 37084, '▁geólogos': 37085, '▁gloriosa': 37086, '▁golfinho': 37087, '▁gorduras': 37088, '▁gostemos': 37089, '▁grabbing': 37090, '▁gravadas': 37091, '▁gravaram': 37092, '▁greenest': 37093, '▁gêiseres': 37094, '▁habituar': 37095, '▁haunting': 37096, '▁headache': 37097, '▁honeybee': 37098, '▁hurtling': 37099, '▁ignoring': 37100, '▁imbuídos': 37101, '▁immature': 37102, '▁immersed': 37103, '▁implante': 37104, '▁imunogen': 37105, '▁inalador': 37106, '▁inclined': 37107, '▁incomoda': 37108, '▁inconceb': 37109, '▁incredul': 37110, '▁incrimin': 37111, '▁indebted': 37112, '▁indicado': 37113, '▁indicted': 37114, '▁indiscre': 37115, '▁induzida': 37116, '▁ineficaz': 37117, '▁inequity': 37118, '▁infidels': 37119, '▁intactos': 37120, '▁intergal': 37121, '▁interrel': 37122, '▁intervir': 37123, '▁invaders': 37124, '▁inventam': 37125, '▁inversão': 37126, '▁inverted': 37127, '▁irresist': 37128, '▁islamist': 37129, '▁isoladas': 37130, '▁italiana': 37131, '▁johnston': 37132, '▁journeys': 37133, '▁judaísmo': 37134, '▁ketamine': 37135, '▁keystone': 37136, '▁labeling': 37137, '▁laborers': 37138, '▁lagostas': 37139, '▁lamentar': 37140, '▁landfill': 37141, '▁lançamos': 37142, '▁laterais': 37143, '▁latrinas': 37144, '▁latrines': 37145, '▁lavassem': 37146, '▁layering': 37147, '▁lecionar': 37148, '▁lembrado': 37149, '▁leucemia': 37150, '▁leukemia': 37151, '▁libertei': 37152, '▁licensed': 37153, '▁lobsters': 37154, '▁lovelock': 37155, '▁luminosa': 37156, '▁luminoso': 37157, '▁lunático': 37158, '▁lésbicas': 37159, '▁líquidas': 37160, '▁líquidos': 37161, '▁magnésio': 37162, '▁majestic': 37163, '▁malaysia': 37164, '▁maldição': 37165, '▁manteiga': 37166, '▁mantenha': 37167, '▁mantidas': 37168, '▁mantidos': 37169, '▁marcação': 37170, '▁martelar': 37171, '▁massacre': 37172, '▁matthews': 37173, '▁meantime': 37174, '▁medalhas': 37175, '▁megastru': 37176, '▁melanoma': 37177, '▁melodias': 37178, '▁menciono': 37179, '▁mentores': 37180, '▁merciful': 37181, '▁mexicans': 37182, '▁milagres': 37183, '▁mindless': 37184, '▁miracles': 37185, '▁mistaken': 37186, '▁mochilas': 37187, '▁modelado': 37188, '▁moisture': 37189, '▁moldados': 37190, '▁moldávia': 37191, '▁monarchy': 37192, '▁monitors': 37193, '▁monogamy': 37194, '▁monsters': 37195, '▁moonshot': 37196, '▁mutually': 37197, '▁mythical': 37198, '▁métricas': 37199, '▁nameless': 37200, '▁nascença': 37201, '▁nebraska': 37202, '▁neurosur': 37203, '▁neurotic': 37204, '▁novinhos': 37205, '▁nurtured': 37206, '▁nutshell': 37207, '▁obscured': 37208, '▁obsoleta': 37209, '▁ocupamos': 37210, '▁odisseia': 37211, '▁ofensiva': 37212, '▁olímpica': 37213, '▁operados': 37214, '▁orchestr': 37215, '▁otimizar': 37216, '▁outdated': 37217, '▁outliers': 37218, '▁outreach': 37219, '▁outsider': 37220, '▁outweigh': 37221, '▁overlook': 37222, '▁override': 37223, '▁padarias': 37224, '▁padrasto': 37225, '▁palpites': 37226, '▁panicked': 37227, '▁paralela': 37228, '▁parceira': 37229, '▁parciais': 37230, '▁parentes': 37231, '▁partilho': 37232, '▁partirem': 37233, '▁passaria': 37234, '▁passemos': 37235, '▁passivos': 37236, '▁passport': 37237, '▁patético': 37238, '▁pegajosa': 37239, '▁peguemos': 37240, '▁película': 37241, '▁pendulum': 37242, '▁penetram': 37243, '▁percorrê': 37244, '▁perdendo': 37245, '▁periodic': 37246, '▁perplexo': 37247, '▁perpétua': 37248, '▁perpétuo': 37249, '▁pertenço': 37250, '▁pianinho': 37251, '▁pinguins': 37252, '▁pintadas': 37253, '▁pioravam': 37254, '▁planalto': 37255, '▁planeada': 37256, '▁plankton': 37257, '▁plâncton': 37258, '▁poderias': 37259, '▁politica': 37260, '▁pontocom': 37261, '▁ponytail': 37262, '▁porreira': 37263, '▁portions': 37264, '▁possivel': 37265, '▁potholes': 37266, '▁praticam': 37267, '▁preferir': 37268, '▁pregamos': 37269, '▁prevemos': 37270, '▁previmos': 37271, '▁pristine': 37272, '▁probable': 37273, '▁proclaim': 37274, '▁procurou': 37275, '▁produzam': 37276, '▁profiles': 37277, '▁prometer': 37278, '▁promiscu': 37279, '▁promoção': 37280, '▁proposit': 37281, '▁prosecut': 37282, '▁práctica': 37283, '▁próspera': 37284, '▁próspero': 37285, '▁puzzling': 37286, '▁pyramids': 37287, '▁péssimos': 37288, '▁pôsteres': 37289, '▁queniano': 37290, '▁rachelle': 37291, '▁radicals': 37292, '▁radioact': 37293, '▁rainbows': 37294, '▁rallying': 37295, '▁rastrear': 37296, '▁raveling': 37297, '▁reactors': 37298, '▁realizam': 37299, '▁realizem': 37300, '▁reasoned': 37301, '▁reassess': 37302, '▁reatores': 37303, '▁reciclar': 37304, '▁recordam': 37305, '▁recordem': 37306, '▁recortar': 37307, '▁recortes': 37308, '▁recrutam': 37309, '▁recuando': 37310, '▁recupera': 37311, '▁reducion': 37312, '▁reeleito': 37313, '▁referred': 37314, '▁reflecte': 37315, '▁refusing': 37316, '▁registou': 37317, '▁rehearse': 37318, '▁rejeitou': 37319, '▁relativo': 37320, '▁relieved': 37321, '▁renovado': 37322, '▁rentável': 37323, '▁replaces': 37324, '▁reportar': 37325, '▁reservar': 37326, '▁reservem': 37327, '▁reserves': 37328, '▁resonate': 37329, '▁respirei': 37330, '▁respondo': 37331, '▁restrita': 37332, '▁restrito': 37333, '▁retalhos': 37334, '▁retroced': 37335, '▁reunidos': 37336, '▁revelada': 37337, '▁revision': 37338, '▁rhythmic': 37339, '▁ringtone': 37340, '▁riquezas': 37341, '▁robótico': 37342, '▁rodeados': 37343, '▁rooftops': 37344, '▁salvação': 37345, '▁sandwich': 37346, '▁sanskrit': 37347, '▁sarilhos': 37348, '▁scarless': 37349, '▁scissors': 37350, '▁seahorse': 37351, '▁seamless': 37352, '▁securely': 37353, '▁segmento': 37354, '▁seletivo': 37355, '▁selfless': 37356, '▁sentadas': 37357, '▁sentarmo': 37358, '▁sentindo': 37359, '▁sentiria': 37360, '▁sentiste': 37361, '▁serpente': 37362, '▁shedding': 37363, '▁shortest': 37364, '▁shrapnel': 37365, '▁shuffled': 37366, '▁silences': 37367, '▁silhueta': 37368, '▁sinceros': 37369, '▁sinónimo': 37370, '▁situated': 37371, '▁slamming': 37372, '▁smartest': 37373, '▁snapshot': 37374, '▁snowball': 37375, '▁sobrepor': 37376, '▁socrates': 37377, '▁solucion': 37378, '▁solvable': 37379, '▁sombrias': 37380, '▁sparking': 37381, '▁speeches': 37382, '▁splashes': 37383, '▁sporting': 37384, '▁stalking': 37385, '▁starters': 37386, '▁steaming': 37387, '▁steepest': 37388, '▁stirring': 37389, '▁stresses': 37390, '▁stroking': 37391, '▁submeteu': 37392, '▁subprime': 37393, '▁substeps': 37394, '▁subsídio': 37395, '▁subtract': 37396, '▁sugerido': 37397, '▁sundance': 37398, '▁sunshine': 37399, '▁suportam': 37400, '▁suppress': 37401, '▁suprimir': 37402, '▁surgirem': 37403, '▁surveyed': 37404, '▁sustento': 37405, '▁sweeping': 37406, '▁síndroma': 37407, '▁sócrates': 37408, '▁teamwork': 37409, '▁tedtalks': 37410, '▁tendenci': 37411, '▁terminei': 37412, '▁testados': 37413, '▁tethered': 37414, '▁textiles': 37415, '▁thankful': 37416, '▁thanking': 37417, '▁theorist': 37418, '▁thinkers': 37419, '▁tirarmos': 37420, '▁tirânico': 37421, '▁tivesses': 37422, '▁tolerant': 37423, '▁torneira': 37424, '▁totality': 37425, '▁traidora': 37426, '▁tratadas': 37427, '▁tratasse': 37428, '▁tratavam': 37429, '▁trenches': 37430, '▁trespass': 37431, '▁trickery': 37432, '▁tropecei': 37433, '▁trópicos': 37434, '▁tubagens': 37435, '▁tunisian': 37436, '▁tutoring': 37437, '▁ugliness': 37438, '▁umbrella': 37439, '▁unapolog': 37440, '▁unbroken': 37441, '▁undersea': 37442, '▁unifying': 37443, '▁untapped': 37444, '▁uníssono': 37445, '▁username': 37446, '▁utilizou': 37447, '▁validade': 37448, '▁valoriza': 37449, '▁vanishes': 37450, '▁variadas': 37451, '▁vaselina': 37452, '▁vaseline': 37453, '▁vedações': 37454, '▁vegetais': 37455, '▁vendemos': 37456, '▁vengeful': 37457, '▁vestimos': 37458, '▁viajámos': 37459, '▁vidrados': 37460, '▁vigorous': 37461, '▁virtuous': 37462, '▁viveiros': 37463, '▁volcanic': 37464, '▁voltarão': 37465, '▁vírgulas': 37466, '▁vísceras': 37467, '▁warranty': 37468, '▁warriors': 37469, '▁watering': 37470, '▁weaponry': 37471, '▁welcomed': 37472, '▁wetlands': 37473, '▁withdraw': 37474, '▁workshop': 37475, '▁youthful': 37476, '▁zacarias': 37477, '▁zimbábue': 37478, 'computador': 37479, 'engenharia': 37480, 'eticamente': 37481, 'fabricated': 37482, 'fulfilling': 37483, 'ibilidades': 37484, 'ificadores': 37485, 'onferência': 37486, 'oreceptors': 37487, 'terrorismo': 37488, '▁abandonei': 37489, '▁abolished': 37490, '▁abolition': 37491, '▁académica': 37492, '▁acariciar': 37493, '▁aceitarem': 37494, '▁aceitasse': 37495, '▁acordaram': 37496, '▁acordámos': 37497, '▁adaptadas': 37498, '▁additions': 37499, '▁adhesives': 37500, '▁adivinham': 37501, '▁adjusting': 37502, '▁admirador': 37503, '▁admirados': 37504, '▁admitirei': 37505, '▁adoráveis': 37506, '▁adrenalin': 37507, '▁advancing': 37508, '▁adversary': 37509, '▁advertise': 37510, '▁advocates': 37511, '▁afterward': 37512, '▁agarraram': 37513, '▁agradecia': 37514, '▁agressões': 37515, '▁alfinetes': 37516, '▁alfândega': 37517, '▁alienados': 37518, '▁alignment': 37519, '▁alterando': 37520, '▁altiplano': 37521, '▁amazónica': 37522, '▁amsterdam': 37523, '▁amygdalas': 37524, '▁anonimato': 37525, '▁apanhadas': 37526, '▁apanhador': 37527, '▁apavorado': 37528, '▁apercebam': 37529, '▁aplicando': 37530, '▁aplicámos': 37531, '▁aplicável': 37532, '▁apofenias': 37533, '▁appearing': 37534, '▁aprendemo': 37535, '▁aprendiam': 37536, '▁aprovadas': 37537, '▁aproximou': 37538, '▁aquisição': 37539, '▁argentine': 37540, '▁argumenta': 37541, '▁armamento': 37542, '▁armazenam': 37543, '▁arquiteto': 37544, '▁arrogante': 37545, '▁asparagus': 37546, '▁assinalar': 37547, '▁assistiam': 37548, '▁assumirem': 37549, '▁assustada': 37550, '▁assustado': 37551, '▁astrónomo': 37552, '▁atingirem': 37553, '▁attempted': 37554, '▁attendant': 37555, '▁attribute': 37556, '▁avaliamos': 37557, '▁avançamos': 37558, '▁backpacks': 37559, '▁bailarina': 37560, '▁bailarino': 37561, '▁balneário': 37562, '▁banqueiro': 37563, '▁batedores': 37564, '▁benéficas': 37565, '▁bilingual': 37566, '▁billboard': 37567, '▁billionth': 37568, '▁binóculos': 37569, '▁bioinform': 37570, '▁blindfold': 37571, '▁bloqueada': 37572, '▁bloqueiam': 37573, '▁bombistas': 37574, '▁bothering': 37575, '▁brightest': 37576, '▁cachorros': 37577, '▁cadáveres': 37578, '▁calculado': 37579, '▁caminhava': 37580, '▁caminhões': 37581, '▁canadiana': 37582, '▁canalizar': 37583, '▁cansativa': 37584, '▁carbonate': 37585, '▁carbonato': 37586, '▁carcasses': 37587, '▁cegamente': 37588, '▁cellphone': 37589, '▁centrados': 37590, '▁certified': 37591, '▁cingulate': 37592, '▁civilized': 37593, '▁classmate': 37594, '▁coalition': 37595, '▁cochineal': 37596, '▁cofounder': 37597, '▁coherence': 37598, '▁coincided': 37599, '▁coincidiu': 37600, '▁coleccion': 37601, '▁coletivos': 37602, '▁collector': 37603, '▁colocavam': 37604, '▁colonized': 37605, '▁colorless': 37606, '▁combustão': 37607, '▁comemorar': 37608, '▁cometidos': 37609, '▁começasse': 37610, '▁commander': 37611, '▁commodity': 37612, '▁communism': 37613, '▁communist': 37614, '▁completas': 37615, '▁composite': 37616, '▁compravam': 37617, '▁compremos': 37618, '▁comprised': 37619, '▁comprovar': 37620, '▁comprámos': 37621, '▁comunismo': 37622, '▁concentra': 37623, '▁concepção': 37624, '▁concluída': 37625, '▁concluído': 37626, '▁concordem': 37627, '▁concretas': 37628, '▁condemned': 37629, '▁conduzida': 37630, '▁confessou': 37631, '▁confiarem': 37632, '▁confirmou': 37633, '▁confucius': 37634, '▁confusing': 37635, '▁congested': 37636, '▁conquered': 37637, '▁considers': 37638, '▁consistiu': 37639, '▁construía': 37640, '▁consumida': 37641, '▁contactei': 37642, '▁contadora': 37643, '▁contenção': 37644, '▁continham': 37645, '▁contratem': 37646, '▁controlou': 37647, '▁convergir': 37648, '▁conversão': 37649, '▁corajosos': 37650, '▁correctas': 37651, '▁corridors': 37652, '▁corruptos': 37653, '▁cosmology': 37654, '▁costeiras': 37655, '▁courtship': 37656, '▁cozinhado': 37657, '▁criticize': 37658, '▁crucially': 37659, '▁crumbling': 37660, '▁cuidadosa': 37661, '▁cultivada': 37662, '▁customize': 37663, '▁cylinders': 37664, '▁danificar': 37665, '▁dançarina': 37666, '▁dartmouth': 37667, '▁deadlines': 37668, '▁debilitar': 37669, '▁dedicadas': 37670, '▁defeating': 37671, '▁definidas': 37672, '▁definidos': 37673, '▁degeneres': 37674, '▁degradado': 37675, '▁degrading': 37676, '▁deliciosa': 37677, '▁demanding': 37678, '▁demolição': 37679, '▁demoraria': 37680, '▁dependiam': 37681, '▁descrevem': 37682, '▁desejarem': 37683, '▁desempenh': 37684, '▁desligado': 37685, '▁desolador': 37686, '▁desonesto': 37687, '▁despedido': 37688, '▁despertou': 37689, '▁desportos': 37690, '▁despropor': 37691, '▁detalhado': 37692, '▁detectado': 37693, '▁detention': 37694, '▁deterrent': 37695, '▁detetados': 37696, '▁detetores': 37697, '▁detonação': 37698, '▁devastado': 37699, '▁dialogues': 37700, '▁digestive': 37701, '▁digressão': 37702, '▁diminuído': 37703, '▁directing': 37704, '▁dirigimos': 37705, '▁discordam': 37706, '▁discourse': 37707, '▁discutido': 37708, '▁disparity': 37709, '▁dissolver': 37710, '▁distantly': 37711, '▁distorcer': 37712, '▁distribut': 37713, '▁distribuí': 37714, '▁ditadores': 37715, '▁ditaduras': 37716, '▁dividiram': 37717, '▁divorciar': 37718, '▁dobermans': 37719, '▁dolorosos': 37720, '▁dominadas': 37721, '▁dominados': 37722, '▁dominican': 37723, '▁draglines': 37724, '▁duplicado': 37725, '▁educating': 37726, '▁elaborate': 37727, '▁embryonic': 37728, '▁emergiram': 37729, '▁empathize': 37730, '▁empirical': 37731, '▁employing': 37732, '▁empolgado': 37733, '▁empregada': 37734, '▁encaixava': 37735, '▁encaramos': 37736, '▁energized': 37737, '▁enfatizar': 37738, '▁engenhosa': 37739, '▁enjoyment': 37740, '▁ensinados': 37741, '▁ensinando': 37742, '▁entendida': 37743, '▁enterrada': 37744, '▁entranhas': 37745, '▁equipados': 37746, '▁escalável': 37747, '▁escolhida': 37748, '▁escreviam': 37749, '▁escutamos': 37750, '▁esgotante': 37751, '▁esmagados': 37752, '▁espanhola': 37753, '▁esperaria': 37754, '▁esquisita': 37755, '▁esquisito': 37756, '▁estaduais': 37757, '▁estrangul': 37758, '▁estreitas': 37759, '▁estáticas': 37760, '▁estímulos': 37761, '▁ethiopian': 37762, '▁etiquette': 37763, '▁europeias': 37764, '▁evaluated': 37765, '▁exactidão': 37766, '▁excentric': 37767, '▁exchanged': 37768, '▁excluídos': 37769, '▁execution': 37770, '▁existiram': 37771, '▁existiria': 37772, '▁exoskelet': 37773, '▁exploding': 37774, '▁explorada': 37775, '▁explícita': 37776, '▁extracted': 37777, '▁extracção': 37778, '▁extraindo': 37779, '▁fabulosas': 37780, '▁falávamos': 37781, '▁fanatismo': 37782, '▁fantasias': 37783, '▁fantasies': 37784, '▁fascinada': 37785, '▁fascistas': 37786, '▁fatphobia': 37787, '▁favorecer': 37788, '▁featuring': 37789, '▁femininos': 37790, '▁ficaremos': 37791, '▁ficheiros': 37792, '▁fictícias': 37793, '▁filtering': 37794, '▁fisherman': 37795, '▁fixedness': 37796, '▁followers': 37797, '▁forefront': 37798, '▁forgeries': 37799, '▁formulate': 37800, '▁frustrado': 37801, '▁fumegante': 37802, '▁garantias': 37803, '▁garantida': 37804, '▁gardeners': 37805, '▁gastarmos': 37806, '▁gastroint': 37807, '▁genitalia': 37808, '▁girassóis': 37809, '▁glamoroso': 37810, '▁gostassem': 37811, '▁governado': 37812, '▁governors': 37813, '▁gradients': 37814, '▁grandezas': 37815, '▁grappling': 37816, '▁grassland': 37817, '▁greatness': 37818, '▁greenways': 37819, '▁guardamos': 37820, '▁guardians': 37821, '▁habituado': 37822, '▁hallmarks': 37823, '▁hardwired': 37824, '▁heartbeat': 37825, '▁hipérides': 37826, '▁holandesa': 37827, '▁holocaust': 37828, '▁holística': 37829, '▁homegrown': 37830, '▁homenagem': 37831, '▁hondurans': 37832, '▁hyperbole': 37833, '▁hyperides': 37834, '▁idealista': 37835, '▁idiossinc': 37836, '▁ignoramos': 37837, '▁ilimitada': 37838, '▁ilimitado': 37839, '▁illiberal': 37840, '▁illusions': 37841, '▁imbalance': 37842, '▁immutable': 37843, '▁impercept': 37844, '▁impotente': 37845, '▁inacabada': 37846, '▁incendiou': 37847, '▁incentive': 37848, '▁inception': 37849, '▁inclinada': 37850, '▁incubator': 37851, '▁incursões': 37852, '▁incêndios': 37853, '▁indelible': 37854, '▁indomável': 37855, '▁inerentes': 37856, '▁infetados': 37857, '▁infinitas': 37858, '▁influenza': 37859, '▁informada': 37860, '▁informado': 37861, '▁informais': 37862, '▁infundida': 37863, '▁inhibited': 37864, '▁iniciaram': 37865, '▁inocentes': 37866, '▁inseguros': 37867, '▁insidious': 37868, '▁instalada': 37869, '▁instrutor': 37870, '▁instáveis': 37871, '▁insucesso': 37872, '▁intelecto': 37873, '▁intellect': 37874, '▁interplay': 37875, '▁interromp': 37876, '▁intimidar': 37877, '▁intuições': 37878, '▁inundação': 37879, '▁invalidez': 37880, '▁invasores': 37881, '▁iraquiano': 37882, '▁irremedia': 37883, '▁irritação': 37884, '▁islâmicas': 37885, '▁iteration': 37886, '▁japoneses': 37887, '▁jurídicas': 37888, '▁jurídicos': 37889, '▁justified': 37890, '▁kilometer': 37891, '▁labirinto': 37892, '▁legendary': 37893, '▁lembramos': 37894, '▁lembravam': 37895, '▁levantamo': 37896, '▁levemente': 37897, '▁leveraged': 37898, '▁lifetimes': 37899, '▁linguists': 37900, '▁localized': 37901, '▁locomoção': 37902, '▁longínquo': 37903, '▁lucrativo': 37904, '▁lunchtime': 37905, '▁lynchings': 37906, '▁madrugada': 37907, '▁magically': 37908, '▁magnesium': 37909, '▁malfeitor': 37910, '▁malignant': 37911, '▁manicómio': 37912, '▁mantermos': 37913, '▁marathons': 37914, '▁marcantes': 37915, '▁marginais': 37916, '▁marijuana': 37917, '▁marketers': 37918, '▁maternity': 37919, '▁matriarca': 37920, '▁maximized': 37921, '▁medíocres': 37922, '▁memorized': 37923, '▁mentality': 37924, '▁merecedor': 37925, '▁merecemos': 37926, '▁mergulhei': 37927, '▁messenger': 37928, '▁microempr': 37929, '▁migratory': 37930, '▁migrações': 37931, '▁millionth': 37932, '▁minimizar': 37933, '▁misbehave': 37934, '▁miserável': 37935, '▁mitologia': 37936, '▁modernist': 37937, '▁monarquia': 37938, '▁monitored': 37939, '▁monogamia': 37940, '▁monuments': 37941, '▁moratória': 37942, '▁morbidity': 37943, '▁mostrarei': 37944, '▁mostraria': 37945, '▁mostravam': 37946, '▁motivadas': 37947, '▁motivante': 37948, '▁muçulmano': 37949, '▁mythology': 37950, '▁nanometer': 37951, '▁nanómetro': 37952, '▁narcissus': 37953, '▁narrativo': 37954, '▁navegação': 37955, '▁neglected': 37956, '▁negoceiam': 37957, '▁neocortex': 37958, '▁neocórtex': 37959, '▁nigeriano': 37960, '▁nomeassem': 37961, '▁nonprofit': 37962, '▁northeast': 37963, '▁novidades': 37964, '▁numerical': 37965, '▁numéricas': 37966, '▁nutritiva': 37967, '▁obsoletos': 37968, '▁obteremos': 37969, '▁optimized': 37970, '▁organizer': 37971, '▁outbreaks': 37972, '▁outsights': 37973, '▁overwhelm': 37974, '▁packaging': 37975, '▁paliativa': 37976, '▁paperwork': 37977, '▁parabiose': 37978, '▁parachute': 37979, '▁paralelas': 37980, '▁parallels': 37981, '▁pareceram': 37982, '▁parecerem': 37983, '▁pareceria': 37984, '▁parecesse': 37985, '▁partilhas': 37986, '▁parágrafo': 37987, '▁passagens': 37988, '▁pastorear': 37989, '▁patriarch': 37990, '▁pavimentá': 37991, '▁pedreiros': 37992, '▁pegajosas': 37993, '▁pendurada': 37994, '▁percursos': 37995, '▁perfurado': 37996, '▁perimeter': 37997, '▁permaneço': 37998, '▁permeable': 37999, '▁permitiam': 38000, '▁permitted': 38001, '▁perpetual': 38002, '▁persianas': 38003, '▁persuaded': 38004, '▁perturbar': 38005, '▁pioneered': 38006, '▁pirateado': 38007, '▁pirâmides': 38008, '▁placement': 38009, '▁planaltos': 38010, '▁planeamos': 38011, '▁plantadas': 38012, '▁plausible': 38013, '▁plenitude': 38014, '▁plummeted': 38015, '▁plurality': 38016, '▁pointless': 38017, '▁polegares': 38018, '▁policemen': 38019, '▁polinizam': 38020, '▁porcelain': 38021, '▁porreiros': 38022, '▁posterior': 38023, '▁pragmatic': 38024, '▁praticada': 38025, '▁praticado': 38026, '▁preceding': 38027, '▁preciosos': 38028, '▁precisará': 38029, '▁predictor': 38030, '▁preditivo': 38031, '▁preenchem': 38032, '▁prejudica': 38033, '▁prejuízos': 38034, '▁prematuro': 38035, '▁preocupou': 38036, '▁prescribe': 38037, '▁prestarem': 38038, '▁prestígio': 38039, '▁presunção': 38040, '▁pretendia': 38041, '▁prevalece': 38042, '▁priceless': 38043, '▁privately': 38044, '▁produtivo': 38045, '▁produziam': 38046, '▁projector': 38047, '▁prometida': 38048, '▁promotion': 38049, '▁propensos': 38050, '▁propensão': 38051, '▁proposing': 38052, '▁protested': 38053, '▁providers': 38054, '▁provérbio': 38055, '▁psychosis': 38056, '▁publicity': 38057, '▁punctures': 38058, '▁quebraram': 38059, '▁queimados': 38060, '▁quenianos': 38061, '▁queriamos': 38062, '▁radiating': 38063, '▁rastreios': 38064, '▁rearrange': 38065, '▁recetores': 38066, '▁reciclado': 38067, '▁recolhido': 38068, '▁recomeçar': 38069, '▁reconfort': 38070, '▁reconnect': 38071, '▁referendo': 38072, '▁reflectem': 38073, '▁reformers': 38074, '▁refrescar': 38075, '▁refugiado': 38076, '▁regulated': 38077, '▁relâmpago': 38078, '▁rendering': 38079, '▁renunciar': 38080, '▁replicado': 38081, '▁requested': 38082, '▁residence': 38083, '▁ressaltar': 38084, '▁restoring': 38085, '▁retrieval': 38086, '▁returning': 38087, '▁robóticos': 38088, '▁rupestres': 38089, '▁sangrento': 38090, '▁sanitária': 38091, '▁scattered': 38092, '▁schedules': 38093, '▁scorpions': 38094, '▁secretive': 38095, '▁segurarem': 38096, '▁sentenced': 38097, '▁separates': 38098, '▁seventeen': 38099, '▁signaling': 38100, '▁silabário': 38101, '▁silêncios': 38102, '▁simboliza': 38103, '▁simulando': 38104, '▁sincerely': 38105, '▁slightest': 38106, '▁snapshots': 38107, '▁sobremesa': 38108, '▁sobrevivi': 38109, '▁sociology': 38110, '▁solteiras': 38111, '▁sonicação': 38112, '▁soviético': 38113, '▁spaceship': 38114, '▁spacetime': 38115, '▁specialty': 38116, '▁specifics': 38117, '▁spinneret': 38118, '▁spiraling': 38119, '▁spotlight': 38120, '▁staircase': 38121, '▁standford': 38122, '▁starshade': 38123, '▁steepness': 38124, '▁strangest': 38125, '▁streaming': 38126, '▁stripping': 38127, '▁stumbling': 38128, '▁stupidity': 38129, '▁subestima': 38130, '▁submarina': 38131, '▁substituí': 38132, '▁sugeriram': 38133, '▁superchar': 38134, '▁syllabary': 38135, '▁sânscrito': 38136, '▁tartaruga': 38137, '▁teammates': 38138, '▁telefonou': 38139, '▁templates': 38140, '▁temporada': 38141, '▁termorreg': 38142, '▁terremoto': 38143, '▁testarmos': 38144, '▁thermoreg': 38145, '▁thrilling': 38146, '▁todmorden': 38147, '▁tomateiro': 38148, '▁trademark': 38149, '▁tradeoffs': 38150, '▁traduzimo': 38151, '▁trampolim': 38152, '▁transação': 38153, '▁transfere': 38154, '▁transferi': 38155, '▁transient': 38156, '▁transvers': 38157, '▁tratassem': 38158, '▁travessia': 38159, '▁treadmill': 38160, '▁triggered': 38161, '▁triplicar': 38162, '▁uncovered': 38163, '▁untouched': 38164, '▁uplifting': 38165, '▁uprisings': 38166, '▁validated': 38167, '▁valuation': 38168, '▁vanguarda': 38169, '▁vanishing': 38170, '▁vantajoso': 38171, '▁vaporized': 38172, '▁vegetable': 38173, '▁vencedora': 38174, '▁verificam': 38175, '▁vertentes': 38176, '▁vibration': 38177, '▁vibrações': 38178, '▁vigarista': 38179, '▁vigilante': 38180, '▁violation': 38181, '▁violently': 38182, '▁violinist': 38183, '▁virginity': 38184, '▁visualizá': 38185, '▁vivamente': 38186, '▁vivenciar': 38187, '▁voltassem': 38188, '▁wavebands': 38189, '▁weirdness': 38190, '▁whichever': 38191, '▁withdrawn': 38192, '▁zacharias': 38193, '▁zoológico': 38194, 'africanismo': 38195, 'appropriate': 38196, 'cionalidade': 38197, 'established': 38198, 'munications': 38199, 'organização': 38200, 'recoletores': 38201, '▁abandoning': 38202, '▁abençoados': 38203, '▁abominação': 38204, '▁abordarmos': 38205, '▁abraçarmos': 38206, '▁abstractas': 38207, '▁abundantly': 38208, '▁accentuate': 38209, '▁accredited': 38210, '▁aceitarmos': 38211, '▁aceitáveis': 38212, '▁acertarmos': 38213, '▁acionistas': 38214, '▁aconselhar': 38215, '▁activistas': 38216, '▁adaptáveis': 38217, '▁administer': 38218, '▁admittedly': 38219, '▁adquiridas': 38220, '▁adquirimos': 38221, '▁adquiriram': 38222, '▁advertised': 38223, '▁aesthetics': 38224, '▁agenticity': 38225, '▁agressores': 38226, '▁aguentamos': 38227, '▁alcoholism': 38228, '▁alienating': 38229, '▁alimentado': 38230, '▁alucinação': 38231, '▁amadurecer': 38232, '▁ambulantes': 38233, '▁anfitriões': 38234, '▁angariamos': 38235, '▁announcing': 38236, '▁apendicite': 38237, '▁applicable': 38238, '▁apreciarem': 38239, '▁apreciação': 38240, '▁aprendeste': 38241, '▁argumentam': 38242, '▁armazenada': 38243, '▁arranjados': 38244, '▁arranjamos': 38245, '▁arranjaram': 38246, '▁arrepender': 38247, '▁articulate': 38248, '▁asfálticas': 38249, '▁assegurada': 38250, '▁assemelham': 38251, '▁assinalada': 38252, '▁assistiram': 38253, '▁associadas': 38254, '▁assombroso': 38255, '▁assustadas': 38256, '▁atravessou': 38257, '▁atribuímos': 38258, '▁augmenting': 38259, '▁autênticas': 38260, '▁autênticos': 38261, '▁babysitter': 38262, '▁bacteriano': 38263, '▁bankruptcy': 38264, '▁binoculars': 38265, '▁biografias': 38266, '▁biomarkers': 38267, '▁biomedical': 38268, '▁biomimetic': 38269, '▁bioquímica': 38270, '▁blackbeard': 38271, '▁blackberry': 38272, '▁blackboard': 38273, '▁bloqueando': 38274, '▁bodyguards': 38275, '▁bombardear': 38276, '▁bonitinhas': 38277, '▁borboletas': 38278, '▁brilliance': 38279, '▁burocracia': 38280, '▁cabeçalhos': 38281, '▁calculando': 38282, '▁castigados': 38283, '▁casualties': 38284, '▁celestiais': 38285, '▁cellphones': 38286, '▁cemeteries': 38287, '▁cemitérios': 38288, '▁chamamento': 38289, '▁chromosome': 38290, '▁cientifica': 38291, '▁cigarettes': 38292, '▁cintilante': 38293, '▁circumvent': 38294, '▁clarificar': 38295, '▁cochonilha': 38296, '▁cofundador': 38297, '▁collateral': 38298, '▁combinadas': 38299, '▁combustion': 38300, '▁comforting': 38301, '▁comissária': 38302, '▁comparadas': 38303, '▁comparamos': 38304, '▁comparando': 38305, '▁comparámos': 38306, '▁compatible': 38307, '▁compatível': 38308, '▁competence': 38309, '▁completing': 38310, '▁compounded': 38311, '▁comunicado': 38312, '▁concerning': 38313, '▁concluding': 38314, '▁condemning': 38315, '▁condutoras': 38316, '▁confinados': 38317, '▁confiáveis': 38318, '▁confrontei': 38319, '▁conheceram': 38320, '▁conhecesse': 38321, '▁conjectura': 38322, '▁conjecture': 38323, '▁considerou': 38324, '▁constitute': 38325, '▁constraint': 38326, '▁construido': 38327, '▁consumista': 38328, '▁contagious': 38329, '▁containing': 38330, '▁contestant': 38331, '▁contraband': 38332, '▁contributo': 38333, '▁controlava': 38334, '▁copulation': 38335, '▁cosmologia': 38336, '▁counselors': 38337, '▁cozinhamos': 38338, '▁credential': 38339, '▁criticados': 38340, '▁cromossoma': 38341, '▁cultivated': 38342, '▁currencies': 38343, '▁curricular': 38344, '▁cybercrime': 38345, '▁cyberspace': 38346, '▁danificado': 38347, '▁darwiniana': 38348, '▁dashboards': 38349, '▁decadência': 38350, '▁decorative': 38351, '▁definitivo': 38352, '▁degradados': 38353, '▁dehydrated': 38354, '▁deliciosas': 38355, '▁delightful': 38356, '▁democratas': 38357, '▁demolition': 38358, '▁demóstenes': 38359, '▁denisovano': 38360, '▁dependency': 38361, '▁deprimente': 38362, '▁derradeiro': 38363, '▁descrições': 38364, '▁desenhados': 38365, '▁desenhando': 38366, '▁desenhavam': 38367, '▁desenvolva': 38368, '▁desenvolvê': 38369, '▁designadas': 38370, '▁desligadas': 38371, '▁deslocadas': 38372, '▁deslocaram': 38373, '▁destinadas': 38374, '▁destrutiva': 38375, '▁destruídos': 38376, '▁destruímos': 38377, '▁detalhadas': 38378, '▁detalhados': 38379, '▁detections': 38380, '▁detectores': 38381, '▁deterrence': 38382, '▁detrimento': 38383, '▁deviations': 38384, '▁diferencia': 38385, '▁dificultam': 38386, '▁diretrizes': 38387, '▁disastrous': 38388, '▁discutimos': 38389, '▁dismissive': 38390, '▁displacing': 38391, '▁dissection': 38392, '▁distanciar': 38393, '▁distraught': 38394, '▁divertidas': 38395, '▁dominicana': 38396, '▁domésticas': 38397, '▁dormitório': 38398, '▁downstream': 38399, '▁duplamente': 38400, '▁duplicaram': 38401, '▁duradouros': 38402, '▁economical': 38403, '▁editoriais': 38404, '▁educativas': 38405, '▁eleitorais': 38406, '▁eletromagn': 38407, '▁embrulhado': 38408, '▁empathetic': 38409, '▁empurrando': 38410, '▁encantados': 38411, '▁encarregue': 38412, '▁encomendar': 38413, '▁endorfinas': 38414, '▁endorphins': 38415, '▁enfermeiro': 38416, '▁enfrentado': 38417, '▁engravidou': 38418, '▁engraçadas': 38419, '▁engraçados': 38420, '▁enrichment': 38421, '▁enriquecer': 38422, '▁entenderam': 38423, '▁enthralled': 38424, '▁enthusiasm': 38425, '▁entregavam': 38426, '▁envelhecem': 38427, '▁envolveram': 38428, '▁envolverem': 38429, '▁eradicated': 38430, '▁escolhidas': 38431, '▁escorpiões': 38432, '▁espalharem': 38433, '▁esperarmos': 38434, '▁espremedor': 38435, '▁esqueceste': 38436, '▁estagnadas': 38437, '▁estudantil': 38438, '▁excitation': 38439, '▁exclusivas': 38440, '▁expedições': 38441, '▁explicamos': 38442, '▁explorados': 38443, '▁explorando': 38444, '▁explosives': 38445, '▁explosivos': 38446, '▁expressway': 38447, '▁extrapolar': 38448, '▁exuberante': 38449, '▁fabricated': 38450, '▁fabricação': 38451, '▁falsificar': 38452, '▁filosófica': 38453, '▁flashbacks': 38454, '▁formulação': 38455, '▁fornecerem': 38456, '▁fotógrafos': 38457, '▁frequentei': 38458, '▁frustradas': 38459, '▁frustrados': 38460, '▁futuristic': 38461, '▁gafanhotos': 38462, '▁geneticist': 38463, '▁geologists': 38464, '▁glorificar': 38465, '▁goldilocks': 38466, '▁governante': 38467, '▁gradientes': 38468, '▁gramatical': 38469, '▁grapefruit': 38470, '▁grasslands': 38471, '▁gregarious': 38472, '▁guaranteed': 38473, '▁highlights': 38474, '▁hipotético': 38475, '▁holocausto': 38476, '▁homenagear': 38477, '▁households': 38478, '▁humilhante': 38479, '▁hyperbolic': 38480, '▁hypotheses': 38481, '▁hysterical': 38482, '▁idealistic': 38483, '▁identifica': 38484, '▁iluminando': 38485, '▁imaginaria': 38486, '▁imaginemos': 38487, '▁imaginável': 38488, '▁immorality': 38489, '▁importavam': 38490, '▁impotência': 38491, '▁incentivam': 38492, '▁incomodado': 38493, '▁indefinido': 38494, '▁indicating': 38495, '▁indistingu': 38496, '▁ineficazes': 38497, '▁infectadas': 38498, '▁infectados': 38499, '▁influentes': 38500, '▁informaram': 38501, '▁injustiças': 38502, '▁inorgânico': 38503, '▁inquéritos': 38504, '▁insaciável': 38505, '▁inscrições': 38506, '▁inspiraram': 38507, '▁instalamos': 38508, '▁instalaram': 38509, '▁insubstitu': 38510, '▁integradas': 38511, '▁internship': 38512, '▁intimidade': 38513, '▁intitulado': 38514, '▁introduzem': 38515, '▁intrínseco': 38516, '▁inventadas': 38517, '▁investidor': 38518, '▁investirem': 38519, '▁irrealista': 38520, '▁irrelevant': 38521, '▁itinerante': 38522, '▁kidnappers': 38523, '▁kidnapping': 38524, '▁lavandaria': 38525, '▁licenciado': 38526, '▁lifesaving': 38527, '▁linguistas': 38528, '▁logistical': 38529, '▁logísticos': 38530, '▁madeireira': 38531, '▁magnifying': 38532, '▁mainframes': 38533, '▁manipulado': 38534, '▁mantivemos': 38535, '▁masculinas': 38536, '▁materially': 38537, '▁megacities': 38538, '▁melhorados': 38539, '▁melhorando': 38540, '▁melhoraram': 38541, '▁memoráveis': 38542, '▁metabolism': 38543, '▁metabolize': 38544, '▁metabólica': 38545, '▁metastases': 38546, '▁metástases': 38547, '▁micronesia': 38548, '▁micronésia': 38549, '▁migrations': 38550, '▁militarily': 38551, '▁minorities': 38552, '▁misturados': 38553, '▁misturaram': 38554, '▁misturámos': 38555, '▁modificada': 38556, '▁momentânea': 38557, '▁monitoriza': 38558, '▁monolítica': 38559, '▁monumentos': 38560, '▁moratorium': 38561, '▁motherland': 38562, '▁motorbikes': 38563, '▁motoristas': 38564, '▁muçulmanas': 38565, '▁narradores': 38566, '▁necrologia': 38567, '▁noticiário': 38568, '▁obituaries': 38569, '▁objectives': 38570, '▁obtivermos': 38571, '▁ocasionais': 38572, '▁oferecendo': 38573, '▁ofereceram': 38574, '▁officially': 38575, '▁opressivas': 38576, '▁outpouring': 38577, '▁overweight': 38578, '▁padronizar': 38579, '▁parabiosis': 38580, '▁parameters': 38581, '▁paraquedas': 38582, '▁partidária': 38583, '▁partituras': 38584, '▁passávamos': 38585, '▁patogénico': 38586, '▁patriarchy': 38587, '▁pegássemos': 38588, '▁penetrates': 38589, '▁penetração': 38590, '▁pensadores': 38591, '▁pequeninos': 38592, '▁perceberão': 38593, '▁perceiving': 38594, '▁peripheral': 38595, '▁permitidas': 38596, '▁permitisse': 38597, '▁physiology': 38598, '▁pioneering': 38599, '▁planetária': 38600, '▁porventura': 38601, '▁positively': 38602, '▁powerfully': 38603, '▁pragmatism': 38604, '▁praticamos': 38605, '▁praticarem': 38606, '▁precisámos': 38607, '▁preenchida': 38608, '▁preenchido': 38609, '▁produtivas': 38610, '▁produtivos': 38611, '▁programado': 38612, '▁projectado': 38613, '▁projetadas': 38614, '▁proliferar': 38615, '▁promissora': 38616, '▁promovemos': 38617, '▁promovendo': 38618, '▁propellers': 38619, '▁prosecuted': 38620, '▁prostituta': 38621, '▁protesting': 38622, '▁protocells': 38623, '▁provocador': 38624, '▁psicopatia': 38625, '▁pudessemos': 38626, '▁quadrangle': 38627, '▁randomized': 38628, '▁realizadas': 38629, '▁realizarem': 38630, '▁reconheceu': 38631, '▁reconquist': 38632, '▁reconstruí': 38633, '▁recordação': 38634, '▁recordemos': 38635, '▁recordings': 38636, '▁recyclable': 38637, '▁redesigned': 38638, '▁redondezas': 38639, '▁redundancy': 38640, '▁referendum': 38641, '▁reformarem': 38642, '▁registamos': 38643, '▁registries': 38644, '▁reimaginar': 38645, '▁reintroduz': 38646, '▁rejeitados': 38647, '▁rejuvenate': 38648, '▁relocation': 38649, '▁renascença': 38650, '▁repetitivo': 38651, '▁reposicion': 38652, '▁repository': 38653, '▁represente': 38654, '▁repression': 38655, '▁repugnante': 38656, '▁resolveria': 38657, '▁respondiam': 38658, '▁respondido': 38659, '▁responsive': 38660, '▁restringir': 38661, '▁reverência': 38662, '▁roadblocks': 38663, '▁roundabout': 38664, '▁rudimentar': 38665, '▁satisfeita': 38666, '▁scrambling': 38667, '▁segregação': 38668, '▁seguidores': 38669, '▁seguimento': 38670, '▁selecionar': 38671, '▁sentiments': 38672, '▁shockingly': 38673, '▁signifique': 38674, '▁sindicatos': 38675, '▁skateboard': 38676, '▁sobrevivem': 38677, '▁sociologia': 38678, '▁sociopolit': 38679, '▁solitários': 38680, '▁sorridente': 38681, '▁soundtrack': 38682, '▁speculated': 38683, '▁stabilized': 38684, '▁standpoint': 38685, '▁stationary': 38686, '▁stepfather': 38687, '▁subversive': 38688, '▁subversivo': 38689, '▁summertime': 38690, '▁sunflowers': 38691, '▁superpoder': 38692, '▁suportável': 38693, '▁supporters': 38694, '▁sustentada': 38695, '▁sustentado': 38696, '▁temperadas': 38697, '▁temporária': 38698, '▁temporário': 38699, '▁therapists': 38700, '▁thereafter': 38701, '▁toothpaste': 38702, '▁traficadas': 38703, '▁tranquilos': 38704, '▁transcende': 38705, '▁transcends': 38706, '▁trimestres': 38707, '▁tyrannical': 38708, '▁ultrapasse': 38709, '▁ultrasonic': 38710, '▁unexploded': 38711, '▁utilizaram': 38712, '▁vegetation': 38713, '▁verifiquei': 38714, '▁victorians': 38715, '▁vietnamese': 38716, '▁vigaristas': 38717, '▁violations': 38718, '▁violinista': 38719, '▁virgindade': 38720, '▁warehouses': 38721, '▁whispering': 38722, '▁wonderland': 38723, '▁workaholic': 38724, 'conservative': 38725, '▁abomination': 38726, '▁abrangência': 38727, '▁abreviatura': 38728, '▁accelerated': 38729, '▁accelerator': 38730, '▁acreditasse': 38731, '▁acrescentou': 38732, '▁adestradora': 38733, '▁aglomeração': 38734, '▁agradecerem': 38735, '▁alimentadas': 38736, '▁alinhamento': 38737, '▁alternating': 38738, '▁alternation': 38739, '▁alternância': 38740, '▁amendoeiras': 38741, '▁analisarmos': 38742, '▁anonymously': 38743, '▁antecipação': 38744, '▁apaixonadas': 38745, '▁apaixonamos': 38746, '▁apanhadores': 38747, '▁apercebamos': 38748, '▁apercebendo': 38749, '▁aposentação': 38750, '▁appallingly': 38751, '▁aproveitado': 38752, '▁aproximámos': 38753, '▁arbitrarily': 38754, '▁aristocracy': 38755, '▁arquipélago': 38756, '▁ascendentes': 38757, '▁assassinato': 38758, '▁assimétrica': 38759, '▁aterrorizar': 38760, '▁atmosférico': 38761, '▁atravessado': 38762, '▁atribuições': 38763, '▁audiolivros': 38764, '▁automobiles': 38765, '▁bacterianas': 38766, '▁bangladeche': 38767, '▁beneficiary': 38768, '▁brilliantly': 38769, '▁campaigning': 38770, '▁caracteriza': 38771, '▁carneirinho': 38772, '▁cartography': 38773, '▁caterpillar': 38774, '▁celebrities': 38775, '▁chemistries': 38776, '▁ciberespaço': 38777, '▁cibernética': 38778, '▁circulatory': 38779, '▁circundante': 38780, '▁codificados': 38781, '▁coefficient': 38782, '▁coeficiente': 38783, '▁colonização': 38784, '▁colonoscopy': 38785, '▁comemoração': 38786, '▁commercials': 38787, '▁comparativa': 38788, '▁compatíveis': 38789, '▁competições': 38790, '▁compliments': 38791, '▁concentrado': 38792, '▁concorrente': 38793, '▁conditioned': 38794, '▁conferences': 38795, '▁conjunction': 38796, '▁conquistado': 38797, '▁constitutes': 38798, '▁consultancy': 38799, '▁consultants': 38800, '▁consultório': 38801, '▁consumerism': 38802, '▁contactámos': 38803, '▁contagiosas': 38804, '▁continuaria': 38805, '▁continuavam': 38806, '▁contractual': 38807, '▁contratuais': 38808, '▁controlamos': 38809, '▁controverso': 38810, '▁convencemos': 38811, '▁convencendo': 38812, '▁convenhamos': 38813, '▁convertemos': 38814, '▁cooperating': 38815, '▁cozinheiros': 38816, '▁criminalize': 38817, '▁cultivation': 38818, '▁cultivators': 38819, '▁decoradores': 38820, '▁decorativas': 38821, '▁democratize': 38822, '▁demosthenes': 38823, '▁deployments': 38824, '▁deprivation': 38825, '▁desafiantes': 38826, '▁desajeitada': 38827, '▁desajustada': 38828, '▁desajustado': 38829, '▁desaparecia': 38830, '▁descontrolo': 38831, '▁descreveram': 38832, '▁desencadear': 38833, '▁desencadeia': 38834, '▁despedaçada': 38835, '▁desprovidas': 38836, '▁deteriorate': 38837, '▁discouraged': 38838, '▁disillusion': 38839, '▁disparities': 38840, '▁dispersants': 38841, '▁distinguish': 38842, '▁disturbance': 38843, '▁dormitórios': 38844, '▁electrified': 38845, '▁eletrizante': 38846, '▁encontrados': 38847, '▁encontrasse': 38848, '▁enfraquecer': 38849, '▁engagements': 38850, '▁enormemente': 38851, '▁entendessem': 38852, '▁entusiastas': 38853, '▁envelhecido': 38854, '▁equilibrada': 38855, '▁escandaloso': 38856, '▁escapatória': 38857, '▁escolhessem': 38858, '▁esgotamento': 38859, '▁esperançosa': 38860, '▁espetadores': 38861, '▁espetáculos': 38862, '▁esquelética': 38863, '▁estereótipo': 38864, '▁estimulados': 38865, '▁estimulação': 38866, '▁estonteante': 38867, '▁estruturais': 38868, '▁evaporation': 38869, '▁excecionais': 38870, '▁excrementos': 38871, '▁expectation': 38872, '▁experiencia': 38873, '▁extinguiram': 38874, '▁extrapolate': 38875, '▁fallibility': 38876, '▁fashionable': 38877, '▁fiabilidade': 38878, '▁filantropos': 38879, '▁fisiológica': 38880, '▁fluctuating': 38881, '▁formulation': 38882, '▁fornecermos': 38883, '▁fragmentado': 38884, '▁friendships': 38885, '▁funcionasse': 38886, '▁gentilmente': 38887, '▁geográficas': 38888, '▁geolocation': 38889, '▁geopolitics': 38890, '▁geopolítica': 38891, '▁gigantescas': 38892, '▁gingerbread': 38893, '▁governantes': 38894, '▁grammatical': 38895, '▁greenhouses': 38896, '▁handwriting': 38897, '▁handwritten': 38898, '▁hectocótilo': 38899, '▁helpfulness': 38900, '▁hondurenhos': 38901, '▁iluminações': 38902, '▁imaginariam': 38903, '▁imaginarmos': 38904, '▁imaginativa': 38905, '▁imagináveis': 38906, '▁imensamente': 38907, '▁imoralidade': 38908, '▁imperfeição': 38909, '▁improvisada': 38910, '▁impulsionou': 38911, '▁imunológico': 38912, '▁inatingível': 38913, '▁incorporado': 38914, '▁indesejadas': 38915, '▁indiferença': 38916, '▁infecciosas': 38917, '▁infindáveis': 38918, '▁influencing': 38919, '▁influenciou': 38920, '▁inhabitants': 38921, '▁inigualável': 38922, '▁insecticida': 38923, '▁insensitive': 38924, '▁intangibles': 38925, '▁interactiva': 38926, '▁interagimos': 38927, '▁interceptar': 38928, '▁interchange': 38929, '▁intercâmbio': 38930, '▁interessava': 38931, '▁interfering': 38932, '▁introversão': 38933, '▁intrínsecas': 38934, '▁intérpretes': 38935, '▁invitations': 38936, '▁jardineiros': 38937, '▁justificado': 38938, '▁linguistics': 38939, '▁mantenhamos': 38940, '▁manufacture': 38941, '▁manufaturas': 38942, '▁maravilhado': 38943, '▁maternidade': 38944, '▁megacidades': 38945, '▁melhorarmos': 38946, '▁mergulhador': 38947, '▁mesopotamia': 38948, '▁mesopotâmia': 38949, '▁metabolismo': 38950, '▁metabolizar': 38951, '▁methodology': 38952, '▁metodologia': 38953, '▁microbianos': 38954, '▁microphones': 38955, '▁milionésimo': 38956, '▁millionaire': 38957, '▁millisecond': 38958, '▁miniaturize': 38959, '▁mississippi': 38960, '▁mobilizando': 38961, '▁morbilidade': 38962, '▁motorcycles': 38963, '▁nanoseconds': 38964, '▁nationalism': 38965, '▁nothingness': 38966, '▁organizamos': 38967, '▁organizaram': 38968, '▁organizámos': 38969, '▁outsourcing': 38970, '▁overarching': 38971, '▁pancreático': 38972, '▁paquistanês': 38973, '▁paralizados': 38974, '▁participado': 38975, '▁passássemos': 38976, '▁penetration': 38977, '▁pentecostal': 38978, '▁percebíamos': 38979, '▁perderíamos': 38980, '▁perguntarem': 38981, '▁permanentes': 38982, '▁permitirmos': 38983, '▁perseguidos': 38984, '▁persistente': 38985, '▁perturbante': 38986, '▁pollinating': 38987, '▁pontiagudas': 38988, '▁pontiagudos': 38989, '▁pragmatismo': 38990, '▁preguiçosos': 38991, '▁prehistoric': 38992, '▁preliminary': 38993, '▁prescribing': 38994, '▁pressuposto': 38995, '▁prestigious': 38996, '▁presumption': 38997, '▁processados': 38998, '▁processaram': 38999, '▁procurassem': 39000, '▁proficiency': 39001, '▁prohibition': 39002, '▁projectista': 39003, '▁projetistas': 39004, '▁proportions': 39005, '▁provocadora': 39006, '▁psychoanaly': 39007, '▁psychopathy': 39008, '▁purificação': 39009, '▁quarterback': 39010, '▁quereríamos': 39011, '▁quotidianas': 39012, '▁recicláveis': 39013, '▁recipientes': 39014, '▁recomendada': 39015, '▁reconciliar': 39016, '▁recuperarem': 39017, '▁redundância': 39018, '▁reflectindo': 39019, '▁reflectisse': 39020, '▁regressamos': 39021, '▁regressaram': 39022, '▁regressarem': 39023, '▁regressemos': 39024, '▁rejuvenated': 39025, '▁remittances': 39026, '▁repercussão': 39027, '▁reprogramar': 39028, '▁republicano': 39029, '▁reputations': 39030, '▁reservation': 39031, '▁resolvermos': 39032, '▁resourceful': 39033, '▁respectable': 39034, '▁respondendo': 39035, '▁responsibly': 39036, '▁resultantes': 39037, '▁revelations': 39038, '▁reverberant': 39039, '▁reviravolta': 39040, '▁romanticize': 39041, '▁salamanders': 39042, '▁salamandras': 39043, '▁salespeople': 39044, '▁scandinavia': 39045, '▁secretárias': 39046, '▁selectively': 39047, '▁sensacional': 39048, '▁serendipity': 39049, '▁significará': 39050, '▁silenciosas': 39051, '▁silenciosos': 39052, '▁sinalizados': 39053, '▁sinceridade': 39054, '▁slaughtered': 39055, '▁soletradora': 39056, '▁specificity': 39057, '▁speculative': 39058, '▁spinosaurus': 39059, '▁spontaneous': 39060, '▁standardize': 39061, '▁stethoscope': 39062, '▁stewardship': 39063, '▁subaquática': 39064, '▁subaquático': 39065, '▁subestimado': 39066, '▁subprodutos': 39067, '▁subsaariana': 39068, '▁substancial': 39069, '▁substituído': 39070, '▁subterrâneo': 39071, '▁subtraction': 39072, '▁suscetíveis': 39073, '▁sympathetic': 39074, '▁territorial': 39075, '▁tornássemos': 39076, '▁transaction': 39077, '▁transbordam': 39078, '▁transbordar': 39079, '▁transcender': 39080, '▁transcribed': 39081, '▁transformer': 39082, '▁translating': 39083, '▁transmitted': 39084, '▁transplants': 39085, '▁tripulações': 39086, '▁tristemente': 39087, '▁ultrapassam': 39088, '▁unbeknownst': 39089, '▁undesirable': 39090, '▁undifferent': 39091, '▁unimportant': 39092, '▁unnecessary': 39093, '▁unrealistic': 39094, '▁unstoppable': 39095, '▁verbalmente': 39096, '▁verificaram': 39097, '▁visualmente': 39098, '▁voluntariar': 39099, 'controversial': 39100, 'entrepreneurs': 39101, 'governamental': 39102, '▁academically': 39103, '▁agenticidade': 39104, '▁altifalantes': 39105, '▁announcement': 39106, '▁anthropology': 39107, '▁antropologia': 39108, '▁antropólogos': 39109, '▁appendicitis': 39110, '▁apresentados': 39111, '▁apresentaram': 39112, '▁apresentarem': 39113, '▁aproveitador': 39114, '▁aprovisionar': 39115, '▁argumentaria': 39116, '▁arqueológico': 39117, '▁artificially': 39118, '▁assassinadas': 39119, '▁assassinated': 39120, '▁assentamento': 39121, '▁astronómicas': 39122, '▁autoritários': 39123, '▁availability': 39124, '▁beneficiário': 39125, '▁bidirecional': 39126, '▁biochemistry': 39127, '▁carpinteiros': 39128, '▁carregamento': 39129, '▁catastrófica': 39130, '▁chemotherapy': 39131, '▁choreography': 39132, '▁climatéricas': 39133, '▁colaboradora': 39134, '▁colonoscopia': 39135, '▁combinatória': 39136, '▁começássemos': 39137, '▁communicated': 39138, '▁compartilhar': 39139, '▁compensações': 39140, '▁competitions': 39141, '▁complementam': 39142, '▁compositores': 39143, '▁comunitários': 39144, '▁concentradas': 39145, '▁conceptually': 39146, '▁condicionada': 39147, '▁conferencing': 39148, '▁conformidade': 39149, '▁conseguiriam': 39150, '▁considerably': 39151, '▁constituents': 39152, '▁construirmos': 39153, '▁construtores': 39154, '▁contaminated': 39155, '▁contemplação': 39156, '▁continuation': 39157, '▁contributors': 39158, '▁conversações': 39159, '▁cosmological': 39160, '▁cosmologists': 39161, '▁counterparts': 39162, '▁crowdfunding': 39163, '▁deliberately': 39164, '▁democratizar': 39165, '▁democratized': 39166, '▁demonstrámos': 39167, '▁desarmamento': 39168, '▁desbloqueado': 39169, '▁descobrissem': 39170, '▁descontraída': 39171, '▁deslumbrante': 39172, '▁determinados': 39173, '▁diferenciada': 39174, '▁direcionados': 39175, '▁dispendiosos': 39176, '▁dispersantes': 39177, '▁ecologically': 39178, '▁educacionais': 39179, '▁efficiencies': 39180, '▁embaixadoras': 39181, '▁empenhamento': 39182, '▁empregadores': 39183, '▁encantadoras': 39184, '▁entertaining': 39185, '▁equivalência': 39186, '▁escandinávia': 39187, '▁esquizofonia': 39188, '▁estetoscópio': 39189, '▁estratégicos': 39190, '▁estruturados': 39191, '▁exclusionary': 39192, '▁exemplificar': 39193, '▁exoesqueleto': 39194, '▁expenditures': 39195, '▁experienciei': 39196, '▁experimented': 39197, '▁experimenter': 39198, '▁farmacêutico': 39199, '▁fertilizante': 39200, '▁flageliforme': 39201, '▁flagelliform': 39202, '▁fluentemente': 39203, '▁fluorescente': 39204, '▁fornecedores': 39205, '▁fotossíntese': 39206, '▁foundational': 39207, '▁fundamentals': 39208, '▁gamification': 39209, '▁geneticistas': 39210, '▁geographical': 39211, '▁governmental': 39212, '▁grandmothers': 39213, '▁gratificação': 39214, '▁habilitações': 39215, '▁hallucinates': 39216, '▁hectocotylus': 39217, '▁heterosexual': 39218, '▁horrorizadas': 39219, '▁hospitalized': 39220, '▁hypertension': 39221, '▁identificado': 39222, '▁impenetrável': 39223, '▁imperfection': 39224, '▁impoverished': 39225, '▁incandescent': 39226, '▁inconvenient': 39227, '▁indesejáveis': 39228, '▁indiferentes': 39229, '▁inexplicável': 39230, '▁inexplorados': 39231, '▁inflationary': 39232, '▁ingenuamente': 39233, '▁insecticidas': 39234, '▁inspirations': 39235, '▁insufficient': 39236, '▁intimidating': 39237, '▁intolerância': 39238, '▁introversion': 39239, '▁irreversible': 39240, '▁irreversível': 39241, '▁justificação': 39242, '▁laparoscopic': 39243, '▁linchamentos': 39244, '▁manifestaram': 39245, '▁massivamente': 39246, '▁milliseconds': 39247, '▁misrepresent': 39248, '▁mobilization': 39249, '▁modernização': 39250, '▁monoculturas': 39251, '▁monocultures': 39252, '▁multitasking': 39253, '▁nacionalismo': 39254, '▁negatividade': 39255, '▁neurológicas': 39256, '▁neurosurgeon': 39257, '▁northeastern': 39258, '▁oficialmente': 39259, '▁paraplégicos': 39260, '▁participante': 39261, '▁participarem': 39262, '▁partisanship': 39263, '▁patternicity': 39264, '▁percentagens': 39265, '▁perpetrators': 39266, '▁perseverance': 39267, '▁photoshopped': 39268, '▁policymakers': 39269, '▁precipitação': 39270, '▁predominante': 39271, '▁prejudiciais': 39272, '▁preparedness': 39273, '▁pressionamos': 39274, '▁privilegiado': 39275, '▁procrastinar': 39276, '▁proliferação': 39277, '▁psicoterapia': 39278, '▁psiquiátrica': 39279, '▁publicitária': 39280, '▁quadrilátero': 39281, '▁recomendaria': 39282, '▁reconhecerem': 39283, '▁reconhecesse': 39284, '▁reformadores': 39285, '▁regularidade': 39286, '▁reincidentes': 39287, '▁reintroduced': 39288, '▁renascimento': 39289, '▁repositories': 39290, '▁repositórios': 39291, '▁restabelecer': 39292, '▁resurrection': 39293, '▁revolucionou': 39294, '▁ridiculously': 39295, '▁rotatividade': 39296, '▁schizophonia': 39297, '▁secretamente': 39298, '▁sensibilizar': 39299, '▁significavam': 39300, '▁sintetizador': 39301, '▁sobreviverem': 39302, '▁sobreviveria': 39303, '▁sofisticação': 39304, '▁substituídas': 39305, '▁superficiais': 39306, '▁supermarkets': 39307, '▁susceptíveis': 39308, '▁synthesizing': 39309, '▁teoricamente': 39310, '▁totalitarian': 39311, '▁trabalhadora': 39312, '▁transformers': 39313, '▁transgressão': 39314, '▁transmitidos': 39315, '▁unattainable': 39316, '▁unbelievably': 39317, '▁underpinning': 39318, '▁undocumented': 39319, '▁unremarkable': 39320, '▁unsatisfying': 39321, '▁unsuccessful': 39322, '▁urgentemente': 39323, '▁veterinarian': 39324, '▁veterinários': 39325, '▁volunteering': 39326, '▁alfabetização': 39327, '▁appropriately': 39328, '▁arranjássemos': 39329, '▁autobiografia': 39330, '▁automatizadas': 39331, '▁beneficiários': 39332, '▁collaborating': 39333, '▁compreendidos': 39334, '▁comprometidos': 39335, '▁concentrações': 39336, '▁conciliadores': 39337, '▁concretização': 39338, '▁considerassem': 39339, '▁considerações': 39340, '▁contemplating': 39341, '▁contemplation': 39342, '▁continuaremos': 39343, '▁contradictory': 39344, '▁contrapartida': 39345, '▁contribuintes': 39346, '▁controladores': 39347, '▁cryptographic': 39348, '▁desaparecidas': 39349, '▁desatualizado': 39350, '▁desenvolvendo': 39351, '▁desequilíbrio': 39352, '▁desmistificar': 39353, '▁despercebidos': 39354, '▁deterministic': 39355, '▁dictatorships': 39356, '▁dinamicamente': 39357, '▁disrespectful': 39358, '▁distinguishes': 39359, '▁distribuições': 39360, '▁documentários': 39361, '▁effectiveness': 39362, '▁emagrecimento': 39363, '▁embelezamento': 39364, '▁enlightenment': 39365, '▁envergonhados': 39366, '▁estabilização': 39367, '▁establishment': 39368, '▁extensibility': 39369, '▁farmacêuticos': 39370, '▁financiadores': 39371, '▁fluorescentes': 39372, '▁forgetfulness': 39373, '▁generalização': 39374, '▁geoengenharia': 39375, '▁gratification': 39376, '▁hallucination': 39377, '▁heartbreaking': 39378, '▁heterossexual': 39379, '▁hospitalizada': 39380, '▁improvisation': 39381, '▁inadvertently': 39382, '▁incapacidades': 39383, '▁inconscientes': 39384, '▁indescritível': 39385, '▁influenciados': 39386, '▁infravermelha': 39387, '▁intercultural': 39388, '▁intermediário': 39389, '▁interpretamos': 39390, '▁irreplaceable': 39391, '▁laparoscópica': 39392, '▁materialmente': 39393, '▁meteorológico': 39394, '▁methodologies': 39395, '▁metralhadoras': 39396, '▁metropolitano': 39397, '▁microscópicas': 39398, '▁modernization': 39399, '▁modificadoras': 39400, '▁multinacional': 39401, '▁multiplicados': 39402, '▁nabucodonosor': 39403, '▁nanomaterials': 39404, '▁noninvasively': 39405, '▁objetivamente': 39406, '▁omnipresentes': 39407, '▁organizadores': 39408, '▁pacientemente': 39409, '▁parlamentares': 39410, '▁participassem': 39411, '▁perpendicular': 39412, '▁personalities': 39413, '▁photographers': 39414, '▁physiological': 39415, '▁precisássemos': 39416, '▁predominantly': 39417, '▁presentations': 39418, '▁presentemente': 39419, '▁procrastinate': 39420, '▁proliferation': 39421, '▁pronounceable': 39422, '▁pronunciation': 39423, '▁protagonistas': 39424, '▁psychotherapy': 39425, '▁publicitários': 39426, '▁qualitatively': 39427, '▁questionnaire': 39428, '▁refrigerantes': 39429, '▁refrigeration': 39430, '▁representando': 39431, '▁representante': 39432, '▁representarem': 39433, '▁ridicularizar': 39434, '▁rigorosamente': 39435, '▁schizophrenic': 39436, '▁semiconductor': 39437, '▁separadamente': 39438, '▁sobrecarregar': 39439, '▁strengthening': 39440, '▁suinicultores': 39441, '▁termodinâmica': 39442, '▁theoretically': 39443, '▁tranquilidade': 39444, '▁transgressões': 39445, '▁transportados': 39446, '▁ultrapassadas': 39447, '▁urbanizadores': 39448, '▁adaptabilidade': 39449, '▁antidepressant': 39450, '▁antidepressivo': 39451, '▁astrophysicist': 39452, '▁autodisciplina': 39453, '▁beautification': 39454, '▁businesspeople': 39455, '▁caenorhabditis': 39456, '▁centrifugadora': 39457, '▁circunferência': 39458, '▁coincidentally': 39459, '▁condescendente': 39460, '▁contabilístico': 39461, '▁contraceptives': 39462, '▁contraditórios': 39463, '▁descobriríamos': 39464, '▁diagnosticaram': 39465, '▁distanciamento': 39466, '▁empreendedoras': 39467, '▁encontraríamos': 39468, '▁engarrafamento': 39469, '▁especificidade': 39470, '▁experienciamos': 39471, '▁geoengineering': 39472, '▁geographically': 39473, '▁geolocalização': 39474, '▁hospitalização': 39475, '▁immunogenicity': 39476, '▁insurmountable': 39477, '▁intensivamente': 39478, '▁intermediaries': 39479, '▁intermediários': 39480, '▁investigations': 39481, '▁megastructures': 39482, '▁microorganisms': 39483, '▁nebuchadnezzar': 39484, '▁neurocirurgião': 39485, '▁orgulhosamente': 39486, '▁overconfidence': 39487, '▁patternicities': 39488, '▁photoreceptors': 39489, '▁photosynthesis': 39490, '▁procrastinação': 39491, '▁qualifications': 39492, '▁quantitatively': 39493, '▁sequestradores': 39494, '▁sophistication': 39495, '▁sucessivamente': 39496, '▁susceptibility': 39497, '▁transformadora': 39498, '▁transfronteiri': 39499, '▁transgressores': 39500, '▁transmissíveis': 39501, '▁ultrapassarmos': 39502, '▁anthropologists': 39503, '▁aperfeiçoamento': 39504, '▁apropriadamente': 39505, '▁arbitrariamente': 39506, '▁biofluorescence': 39507, '▁bombardeamentos': 39508, '▁centrifugadores': 39509, '▁collaboratively': 39510, '▁complicatedness': 39511, '▁comportamentais': 39512, '▁criminalization': 39513, '▁degenerescência': 39514, '▁electromagnetic': 39515, '▁empreendimentos': 39516, '▁esmagadoramente': 39517, '▁esquizofrénicos': 39518, '▁excentricidades': 39519, '▁extensibilidade': 39520, '▁fotorreceptores': 39521, '▁gravitationally': 39522, '▁horizontalmente': 39523, '▁imunogenicidade': 39524, '▁incessantemente': 39525, '▁incompreensível': 39526, '▁indefinidamente': 39527, '▁individualidade': 39528, '▁infrastructures': 39529, '▁internationally': 39530, '▁interpretations': 39531, '▁misteriosamente': 39532, '▁neoecossistemas': 39533, '▁pharmaceuticals': 39534, '▁physiologically': 39535, '▁procrastination': 39536, '▁procrastinators': 39537, '▁programmability': 39538, '▁sobrevalorizado': 39539, '▁suscetibilidade': 39540, '▁voluntariamente': 39541, \"'33\": 39542, '+20': 39543, \"-'9\": 39544, '-16': 39545, '.72': 39546, '25.': 39547, '254': 39548, '3.7': 39549, '456': 39550, '472': 39551, '618': 39552, '628': 39553, '999': 39554, 'bnb': 39555, 'buk': 39556, 'cía': 39557, 'hmi': 39558, 'hya': 39559, 'uki': 39560, 'wzi': 39561, 'árg': 39562, '▁+2': 39563, '▁qi': 39564, '-50-': 39565, '/100': 39566, '1978': 39567, '2472': 39568, 'avvy': 39569, 'azaa': 39570, 'bbed': 39571, 'bczy': 39572, 'bedo': 39573, 'caux': 39574, 'cups': 39575, 'czyc': 39576, 'dini': 39577, 'disc': 39578, 'ebbe': 39579, 'enko': 39580, 'fali': 39581, 'frag': 39582, 'fuel': 39583, 'htun': 39584, 'iabá': 39585, 'ieki': 39586, 'inmu': 39587, 'ière': 39588, 'joya': 39589, 'ktor': 39590, 'levé': 39591, 'lová': 39592, 'nati': 39593, 'naya': 39594, 'nski': 39595, 'oiço': 39596, 'olfs': 39597, 'oooo': 39598, 'peak': 39599, 'polu': 39600, 'pzig': 39601, 'smen': 39602, 'ubov': 39603, 'frog': 39604, 'urfs': 39605, 'wafi': 39606, 'wald': 39607, 'zerz': 39608, 'zhou': 39609, 'zijo': 39610, 'ālep': 39611, 'ōfun': 39612, \"▁'47\": 39613, \"▁'51\": 39614, \"▁'96\": 39615, \"▁'97\": 39616, '▁0,0': 39617, '▁008': 39618, '▁2,2': 39619, '▁26-': 39620, '▁266': 39621, '▁267': 39622, '▁3,9': 39623, '▁4.2': 39624, '▁474': 39625, '▁481': 39626, '▁4:0': 39627, '▁536': 39628, '▁540': 39629, '▁559': 39630, '▁6.5': 39631, '▁610': 39632, '▁651': 39633, '▁665': 39634, '▁7.0': 39635, '▁725': 39636, '▁770': 39637, '▁785': 39638, '▁8.3': 39639, '▁8.8': 39640, '▁855': 39641, '▁99.': 39642, '▁ayr': 39643, '▁bao': 39644, '▁bbn': 39645, '▁cfc': 39646, '▁css': 39647, '▁djs': 39648, '▁déj': 39649, '▁ggq': 39650, '▁ggy': 39651, '▁hdl': 39652, '▁klm': 39653, '▁ldl': 39654, '▁lpj': 39655, '▁msn': 39656, '▁npi': 39657, '▁píx': 39658, '▁tbc': 39659, '▁tác': 39660, '▁tár': 39661, '▁uaa': 39662, '▁xii': 39663, '62852': 39664, 'abbir': 39665, 'addin': 39666, 'agoya': 39667, 'akani': 39668, 'algia': 39669, 'ambul': 39670, 'anbul': 39671, 'armac': 39672, 'arrog': 39673, 'asgou': 39674, 'asgow': 39675, 'asthu': 39676, 'avati': 39677, 'awiya': 39678, 'axing': 39679, 'azaki': 39680, 'baghd': 39681, 'benef': 39682, 'blitz': 39683, 'buque': 39684, 'bytes': 39685, 'calib': 39686, 'capes': 39687, 'chefe': 39688, 'chiev': 39689, 'chkin': 39690, 'coder': 39691, 'defin': 39692, 'downe': 39693, 'enlen': 39694, 'epsie': 39695, 'erank': 39696, 'etzel': 39697, 'falom': 39698, 'fazer': 39699, 'ghazi': 39700, 'green': 39701, 'greme': 39702, 'grove': 39703, 'kami': 39704, 'íbas': 39705, '▁pyl': 39706, 'helia': 39707, 'helix': 39708, 'henge': 39709, 'hengr': 39710, 'hertz': 39711, 'hosts': 39712, 'iably': 39713, 'iffin': 39714, 'innon': 39715, 'irsty': 39716, 'irtam': 39717, 'izzie': 39718, 'jolfs': 39719, 'juges': 39720, 'karat': 39721, 'kebox': 39722, 'khart': 39723, 'kinib': 39724, 'kshmi': 39725, 'laday': 39726, 'lifos': 39727, 'links': 39728, 'locks': 39729, 'longo': 39730, 'memor': 39731, 'monar': 39732, 'morta': 39733, 'motiv': 39734, 'muçul': 39735, 'móide': 39736, 'nacle': 39737, 'natal': 39738, 'nison': 39739, 'nobot': 39740, 'odeme': 39741, 'oglob': 39742, 'olova': 39743, 'olsky': 39744, 'oluch': 39745, 'omami': 39746, 'ombed': 39747, 'omori': 39748, 'ooooo': 39749, 'oween': 39750, 'patri': 39751, 'piece': 39752, 'privi': 39753, 'ranea': 39754, 'reyek': 39755, 'riani': 39756, 'riqui': 39757, 'ristj': 39758, 'robôs': 39759, 'roupa': 39760, 'sabre': 39761, 'small': 39762, 'steps': 39763, 'storp': 39764, 'texto': 39765, 'torio': 39766, 'touch': 39767, 'trude': 39768, 'trust': 39769, 'tucho': 39770, 'ullah': 39771, 'umann': 39772, 'urian': 39773, 'vedev': 39774, 'walks': 39775, 'yalan': 39776, 'ybczy': 39777, 'yllic': 39778, 'yneux': 39779, 'zerzh': 39780, 'áceas': 39781, 'ácica': 39782, 'árdio': 39783, 'çatal': 39784, 'óneis': 39785, 'órmon': 39786, '▁1.18': 39787, '▁1298': 39788, '▁130-': 39789, '▁1311': 39790, '▁1564': 39791, '▁1656': 39792, '▁1680': 39793, '▁1759': 39794, '▁1809': 39795, '▁1824': 39796, '▁1847': 39797, '▁1853': 39798, '▁1856': 39799, '▁1868': 39800, '▁1870': 39801, '▁1872': 39802, '▁1898': 39803, 'maus': 39804, '▁5,5': 39805, '▁6,5': 39806, 'arães': 39807, 'heard': 39808, 'jahid': 39809, 'namic': 39810, 'íacas': 39811, '▁1917': 39812, '▁1924': 39813, '▁1926': 39814, '▁1927': 39815, '▁1936': 39816, '▁1961': 39817, '▁2070': 39818, '▁2191': 39819, '▁250-': 39820, '▁2800': 39821, '▁35.8': 39822, \"▁4'33\": 39823, '▁6.02': 39824, '▁6:30': 39825, '▁78.3': 39826, '▁7:45': 39827, '▁akal': 39828, '▁ashê': 39829, '▁ausp': 39830, '▁awww': 39831, '▁baza': 39832, '▁bhub': 39833, '▁boul': 39834, '▁bóia': 39835, '▁caçá': 39836, '▁caía': 39837, '▁caíu': 39838, '▁cfcs': 39839, '▁chih': 39840, '▁cilí': 39841, '▁clãs': 39842, '▁coct': 39843, '▁cpus': 39844, '▁doob': 39845, '▁déjà': 39846, '▁déli': 39847, '▁eneb': 39848, '▁ersk': 39849, '▁fahr': 39850, '▁fauc': 39851, '▁feeb': 39852, '▁fiji': 39853, '▁flea': 39854, '▁fmla': 39855, '▁fmri': 39856, '▁gaga': 39857, '▁gaij': 39858, '▁gimm': 39859, '▁gini': 39860, '▁giul': 39861, '▁gizé': 39862, '▁gonz': 39863, '▁gorg': 39864, '▁gpus': 39865, '▁hawa': 39866, '▁hobb': 39867, '▁inox': 39868, '▁jams': 39869, '▁jigs': 39870, '▁jinn': 39871, '▁kalp': 39872, '▁khal': 39873, '▁kirk': 39874, '▁knox': 39875, '▁kurt': 39876, '▁leni': 39877, '▁liab': 39878, '▁liso': 39879, '▁lixe': 39880, '▁lyft': 39881, '▁lynx': 39882, '▁mahm': 39883, '▁mcch': 39884, '▁mcve': 39885, '▁miko': 39886, '▁': 39887, 'e': 39888, 'a': 39889, 'o': 39890, 's': 39891, 't': 39892, 'i': 39893, 'r': 39894, 'n': 39895, 'd': 39896, 'm': 39897, 'u': 39898, 'l': 39899, 'c': 39900, 'h': 39901, 'p': 39902, 'g': 39903, '.': 39904, 'f': 39905, ',': 39906, 'v': 39907, 'b': 39908, 'w': 39909, 'y': 39910, \"'\": 39911, 'q': 39912, 'k': 39913, 'ã': 39914, '`': 39915, 'é': 39916, 'z': 39917, 'á': 39918, 'ç': 39919, 'x': 39920, '-': 39921, 'j': 39922, 'í': 39923, '0': 39924, 'ó': 39925, '?': 39926, 'ê': 39927, ':': 39928, '—': 39929, '1': 39930, ')': 39931, '(': 39932, 'õ': 39933, '2': 39934, 'ú': 39935, 'à': 39936, '5': 39937, '9': 39938, '3': 39939, '4': 39940, 'â': 39941, '8': 39942, '7': 39943, '6': 39944, ';': 39945, '♫': 39946, '!': 39947, '%': 39948, '[': 39949, ']': 39950, 'ô': 39951, '♪': 39952, '/': 39953, '–': 39954, '$': 39955, '”': 39956, '“': 39957, '+': 39958, '’': 39959, '&': 39960, '=': 39961, '^': 39962, 'è': 39963, '#': 39964, 'ñ': 39965, '€': 39966, 'ü': 39967, 'ö': 39968, 'อ': 39969, '‘': 39970, 'ā': 39971, 'ō': 39972, '́': 39973, 'ย': 39974, 'ร': 39975, '่': 39976, '\\x93': 39977, '\\x94': 39978, 'ï': 39979, '>': 39980, '@': 39981, 'M': 39982, 'T': 39983, '_': 39984, '\\x96': 39985, 'ä': 39986, 'ī': 39987, 'ū': 39988, 'ẽ': 39989, '⁄': 39990, '*': 39991, '\\\\': 39992, '©': 39993, '«': 39994, '°': 39995, '»': 39996, 'ë': 39997, 'ù': 39998, 'ő': 39999}\n"
          ],
          "name": "stdout"
        }
      ]
    },
    {
      "cell_type": "code",
      "metadata": {
        "id": "qPxuvaapaHbT",
        "colab_type": "code",
        "outputId": "37b569aa-f450-4322-8fbc-05a296c9f180",
        "colab": {
          "base_uri": "https://localhost:8080/",
          "height": 178
        }
      },
      "source": [
        "print(\"총 단어 수\", sp.get_piece_size())\n",
        "# 토큰화\n",
        "print(\"포르투갈어\", pt[0])\n",
        "print(\"영어\", eng[0])\n",
        "print(\"포르투갈어 인덱스 부여\", sp.EncodeAsIds(pt[0]))\n",
        "print(\"인덱스를 토큰으로(포르투갈어)\", sp.EncodeAsPieces(pt[0]))\n",
        "print(\"인덱스를 토큰으로(영어)\", sp.EncodeAsPieces(eng[0]))\n",
        "#토큰 -> 문자열\n",
        "print(\"토큰을 원래 문장으로\", sp.DecodePieces(sp.EncodeAsPieces(eng[0])))\n",
        "print(\"시작단어\",sp.id_to_piece(2), \"끝단어\",sp.id_to_piece(3))"
      ],
      "execution_count": 13,
      "outputs": [
        {
          "output_type": "stream",
          "text": [
            "총 단어 수 40000\n",
            "포르투갈어 e quando melhoramos a procura , tiramos a única vantagem da impressão , que é a serendipidade .\n",
            "영어 and when you improve searchability , you actually take away the one advantage of print , which is serendipity .\n",
            "포르투갈어 인덱스 부여 [8, 347, 883, 168, 4, 3646, 6, 13430, 4, 2292, 9068, 138, 7232, 6, 56, 89, 4, 32173, 260, 7]\n",
            "인덱스를 토큰으로(포르투갈어) ['▁e', '▁quando', '▁melhor', 'amos', '▁a', '▁procura', '▁,', '▁tiramos', '▁a', '▁única', '▁vantagem', '▁da', '▁impressão', '▁,', '▁que', '▁é', '▁a', '▁serendip', 'idade', '▁.']\n",
            "인덱스를 토큰으로(영어) ['▁and', '▁when', '▁you', '▁improve', '▁search', 'ability', '▁,', '▁you', '▁actually', '▁take', '▁away', '▁the', '▁one', '▁advantage', '▁of', '▁print', '▁,', '▁which', '▁is', '▁serendipity', '▁.']\n",
            "토큰을 원래 문장으로 and when you improve searchability , you actually take away the one advantage of print , which is serendipity .\n",
            "시작단어 <s> 끝단어 </s>\n"
          ],
          "name": "stdout"
        }
      ]
    },
    {
      "cell_type": "markdown",
      "metadata": {
        "id": "EzWum7GSxnGR",
        "colab_type": "text"
      },
      "source": [
        "텐서플로우에서 활용할 수 있도록 train 데이터를 만들어 보겠다.  \n",
        "포르투갈어 <구분자> 영어 <끝> 의 구성을 취할 것이다."
      ]
    },
    {
      "cell_type": "code",
      "metadata": {
        "id": "IUfXWdmZRRu9",
        "colab_type": "code",
        "colab": {}
      },
      "source": [
        "def encode(lang1, lang2):\n",
        "  # 포르투갈어 + <영어 시작> + 영어 + <영어 끝>\n",
        "  lang = sp.EncodeAsIds(lang1) + [sp.piece_to_id(\"<s>\")] + sp.EncodeAsIds(lang2) + [sp.piece_to_id(\"</s>\")]# 포르투갈 어를 인코딩 할 때 시작 단어를 의미하는 숫자와, 끝 단어를 의미하는 숫자가 붙음\n",
        "  # 텐서플로우에서 활용할 수 있는 텐서로 바꿔준다\n",
        "  lang = tf.convert_to_tensor(lang)\n",
        "  # 텐서의 모양을 정해줘야 함, 문장의 길이는 변하므로 [None]으로\n",
        "  lang.set_shape([None])\n",
        "  return lang"
      ],
      "execution_count": 0,
      "outputs": []
    },
    {
      "cell_type": "code",
      "metadata": {
        "id": "DsUDmo4VStuN",
        "colab_type": "code",
        "outputId": "2ef68e44-cd4b-42e4-9ea1-03eb902193c7",
        "colab": {
          "base_uri": "https://localhost:8080/",
          "height": 70
        }
      },
      "source": [
        "print(encode(pt[1], eng[1]))"
      ],
      "execution_count": 15,
      "outputs": [
        {
          "output_type": "stream",
          "text": [
            "tf.Tensor(\n",
            "[  174     8    96   981  9414  5329 12064   121     2   180   190   306\n",
            "    84   439  7192   121     3], shape=(17,), dtype=int32)\n"
          ],
          "name": "stdout"
        }
      ]
    },
    {
      "cell_type": "code",
      "metadata": {
        "id": "IPrLGQA7UXiq",
        "colab_type": "code",
        "colab": {}
      },
      "source": [
        "# texts = 트레인 데이터 셋\n",
        "# texts_val = valid 데이터 셋\n",
        "texts = [encode(x,y) for x,y in zip(pt, eng)]\n",
        "texts_val = [encode(x,y) for x,y in zip(pt_val, eng_val)]"
      ],
      "execution_count": 0,
      "outputs": []
    },
    {
      "cell_type": "code",
      "metadata": {
        "id": "dm5mNWQ_ZJU0",
        "colab_type": "code",
        "colab": {}
      },
      "source": [
        "MAX_LENGTH = 100\n",
        "BUFFER_SIZE = 60000\n",
        "BATCH_SIZE = 64\n",
        "\n",
        "# 만약 문장이 인코딩 되었을 때, 인코딩 된 길이가 100을 초과하면 데이터에서 배제하고자 하는 필터 함수임\n",
        "def filter_max_length(x, max_length=MAX_LENGTH):\n",
        "  return tf.size(x) <= max_length"
      ],
      "execution_count": 0,
      "outputs": []
    },
    {
      "cell_type": "code",
      "metadata": {
        "id": "2ywdburBW00Y",
        "colab_type": "code",
        "colab": {}
      },
      "source": [
        "# Train 데이터(texts)를 generator를 활용하여 텐서플로우 dataset을 만듦\n",
        "def generator():\n",
        "    for el in texts:\n",
        "        yield el\n",
        "dataset = tf.data.Dataset.from_generator(generator,\n",
        "                                           output_types= tf.int64)\n",
        "dataset = dataset.filter(filter_max_length) # 길이가 100 초과하면 날리기\n",
        "dataset = dataset.cache() # cache를 활용해서 데이터를 로드할 때 빠른 처리를 기대해 봄\n",
        "dataset = dataset.shuffle(BUFFER_SIZE).padded_batch(BATCH_SIZE, padded_shapes=[None]) # padded_batch 불러오기\n",
        "dataset = dataset.prefetch(tf.data.experimental.AUTOTUNE) # 데이터가 훈련되는 사이에, 데이터를 미리 준비해 놓음"
      ],
      "execution_count": 0,
      "outputs": []
    },
    {
      "cell_type": "code",
      "metadata": {
        "id": "2VznQe_jZiRE",
        "colab_type": "code",
        "colab": {}
      },
      "source": [
        "# valid 데이터 또한 텐서플로우 dataset으로 만들기\n",
        "def val_generator():\n",
        "    for el in texts_val:\n",
        "        yield el\n",
        "val_dataset = tf.data.Dataset.from_generator(val_generator,\n",
        "                                           output_types= tf.int64)\n",
        "val_dataset = val_dataset.filter(filter_max_length).padded_batch(BATCH_SIZE, padded_shapes=[None])"
      ],
      "execution_count": 0,
      "outputs": []
    },
    {
      "cell_type": "markdown",
      "metadata": {
        "id": "YJFiSxGQd4G7",
        "colab_type": "text"
      },
      "source": [
        "# GPT2 모델 쌓기"
      ]
    },
    {
      "cell_type": "markdown",
      "metadata": {
        "id": "ldtyS4zGzQtZ",
        "colab_type": "text"
      },
      "source": [
        "## 임베딩\n",
        "임베딩 레이어를 통해 단어 하나하나를 고차원으로 만들어 줌  \n",
        "임베딩은 포지션 임베딩과 언어 임베딩으로 이루어져 있습니다.  \n",
        "**인풋 -> [batch_size, 문장 길이]**  \n",
        "**아웃풋 -> [batch_size, 문장 길이, 임베딩 차원]**  \n",
        "![Imgur](https://i.imgur.com/KVkleNI.png)  \n",
        "같은 단어가 임베딩 되었더라도, 포지션 임베딩이 합쳐서 문장 내부의 단어의 순서에 따라 임베딩 값은 달라지게 됩니다.\n",
        "![Imgur](https://i.imgur.com/sSnVRpY.png)  "
      ]
    },
    {
      "cell_type": "code",
      "metadata": {
        "id": "XipSmIjNSj_e",
        "colab_type": "code",
        "colab": {}
      },
      "source": [
        "# 단어 임베딩 정의\n",
        "class EmbeddingLayer(tf.keras.layers.Layer):\n",
        "\n",
        "  def __init__(self, vocab_size, embedding_size, initializer=None, stddev=0.02, mean=0.0):\n",
        "    super().__init__(self)\n",
        "    self.vocab_size = vocab_size # 훈련할 데이터의 vocab size\n",
        "    self.embedding_size = embedding_size # 단어가 고차원으로 임베딩되는 차원\n",
        "    self.stddev = stddev # 초기 임베딩 계수들의 표준편차\n",
        "    self.mean = mean # 초기 임베딩 계수들의 평균\n",
        "    self.initializer = initializer\n",
        "    if self.initializer is None:\n",
        "      self.initializer = tf.random_normal_initializer(mean=self.mean,\n",
        "                                                      stddev = self.stddev) # N~(0, 2^2)의 분포로 초기 계수를 정규화\n",
        "  def build(self, input_shape):\n",
        "     with tf.name_scope(\"embedding_weights\"):\n",
        "      self.embedding_weights = self.add_weight(\n",
        "          \"weights\",\n",
        "          shape=[self.vocab_size, self.embedding_size],\n",
        "          dtype=\"float32\",\n",
        "          initializer=self.initializer) # [vocab_size, embedding_size]의 계수 정의\n",
        "  \n",
        "  def call(self, inputs, mode=\"embedding\", scale=False):\n",
        "    if mode == \"embedding\":\n",
        "      return self.embedding(inputs, scale=scale) # embedding 모드이면, 인풋 단어를 임베딩 할 때 사용한다\n",
        "    elif mode == \"projection\":\n",
        "      return self.projection(inputs) # projection 모드이면, 최종 출력 값에 임베딩 계수들을 다시 곱해준다\n",
        "    else:\n",
        "      raise ValueError(\"mode {} is not valid.\".format(mode))\n",
        "  \n",
        "  def embedding(self, inputs, scale=False):\n",
        "    with tf.name_scope(\"embedding\"):\n",
        "      mask = tf.cast(tf.not_equal(inputs, 0), tf.float32) # 마스크를 만들어서 패딩인 부분을 0으로 마스크\n",
        "      inputs = tf.cast(inputs, tf.int32) # 인풋 값을 텐서로 바꿔줌, input_shape -> [batch_size, length]\n",
        "\n",
        "      embeddings = tf.nn.embedding_lookup(self.embedding_weights, inputs) # 임베딩 룩업 테이블을 곱해서 단어를 임베딩\n",
        "      # embeddings_shape -> [batch_size, length, embedding_size]\n",
        "      # mask size is converted to [batch_size, length, 1]\n",
        "      embeddings *= tf.expand_dims(mask, -1)\n",
        "\n",
        "      if scale:\n",
        "        embeddings *= self.embedding_size ** 0.5\n",
        "\n",
        "      return embeddings\n",
        "  \n",
        "  # GPT2 최종 출력 값에, 임베딩 벡터를 다시 곱해줌\n",
        "  def projection(self, inputs):\n",
        "    with tf.name_scope(\"output_layer\"):\n",
        "      batch_size = tf.shape(inputs)[0]\n",
        "      seq_len = tf.shape(inputs)[1]\n",
        "      # 출력 값의 input shape [batch_size, seq_len, d_model] 이다\n",
        "      # seq_len : 문장 길이, d_model = 단어 embedding 차원\n",
        "      h_flat = tf.reshape(inputs, [-1, self.embedding_size])\n",
        "      # h_flat shape = [batch_size*seq_len, d_model]\n",
        "      logits = tf.matmul(h_flat, self.embedding_weights, transpose_b=True)\n",
        "      # logits shape = [batch_size*seq_len, vocab_size]\n",
        "      return tf.reshape(logits, [batch_size, seq_len, self.vocab_size])\n",
        "      # final output shape = [batch_size, seq_len, vocab_size]\n",
        "\n",
        "# 포지셔널 임베딩 정의\n",
        "class PositionEmbeddingLayer(tf.keras.layers.Layer):\n",
        "\n",
        "  def __init__(self, position_seq, pos_embedding_size, trainable=True, stddev=0.02, mean=0.0):\n",
        "    tf.keras.layers.Layer.__init__(self, name=\"PositionEmbeddingLayer\")\n",
        "    \n",
        "    self.position_seq = position_seq # 보통 적당히 큰 숫자(10000) 정도로 입력한다음 문장의 길이에 맞게 자름\n",
        "    self.hidden_size = pos_embedding_size\n",
        "    self.trainable = trainable\n",
        "    self.stddev = stddev\n",
        "    self.mean = mean\n",
        "\n",
        "    if trainable:\n",
        "      self.position_embedding = EmbeddingLayer(self.position_seq, self.hidden_size, stddev=self.stddev, mean=self.mean)\n",
        "\n",
        "  def call(self, inputs, start=1):\n",
        "    with tf.name_scope(\"pos_embedding\"):\n",
        "      if self.trainable:\n",
        "        batch_size = tf.shape(inputs)[0]\n",
        "        batch_seq = tf.shape(inputs)[1]\n",
        "\n",
        "        positions = tf.reshape(tf.tile(tf.range(start, batch_seq + start), [batch_size]), [batch_size, batch_seq])\n",
        "        # positions는 직접 해보면 좋음\n",
        "        positions = tf.cast(positions, tf.int32)\n",
        "        position_mask = tf.cast(tf.not_equal(inputs, 0), tf.int32)\n",
        "        positions *= position_mask\n",
        "\n",
        "        return self.position_embedding(positions)\n",
        "\n",
        "      else:\n",
        "        return self.get_position_sinusoid(self.position_seq, self.hidden_size) # 트랜스포머에서 한 것과 유사함. 생략해도 좋음\n",
        "\n",
        "  @staticmethod\n",
        "  def get_position_sinusoid(seq_len, hidden_size, min_timescale=1.0, max_timescale=1.0e4):\n",
        "    position = tf.cast(tf.range(seq_len), tf.float32)\n",
        "    num_timescales = hidden_size // 2\n",
        "    log_timescale_increment = (math.log(float(max_timescale) / float(min_timescale)) / (tf.cast(num_timescales, tf.float32) - 1))\n",
        "    inv_timescales = min_timescale * tf.exp(tf.cast(tf.range(num_timescales), tf.float32) * -log_timescale_increment)\n",
        "    scaled_time = tf.expand_dims(position, 1) * tf.expand_dims(inv_timescales, 0)\n",
        "    signal = tf.concat([tf.sin(scaled_time), tf.cos(scaled_time)], axis=1)\n",
        "    return signal"
      ],
      "execution_count": 0,
      "outputs": []
    },
    {
      "cell_type": "code",
      "metadata": {
        "id": "dgtM6_lWUd39",
        "colab_type": "code",
        "outputId": "756f917f-ae86-449e-cf99-0f6c83c6dc20",
        "colab": {
          "base_uri": "https://localhost:8080/",
          "height": 263
        }
      },
      "source": [
        "embed_test = EmbeddingLayer(10000, 512)\n",
        "embed_test(np.random.uniform(size=(1,40)).astype('float32'))"
      ],
      "execution_count": 21,
      "outputs": [
        {
          "output_type": "execute_result",
          "data": {
            "text/plain": [
              "<tf.Tensor: shape=(1, 40, 512), dtype=float32, numpy=\n",
              "array([[[ 0.02587487, -0.01541876, -0.0180132 , ...,  0.00371212,\n",
              "          0.01483497,  0.00364437],\n",
              "        [ 0.02587487, -0.01541876, -0.0180132 , ...,  0.00371212,\n",
              "          0.01483497,  0.00364437],\n",
              "        [ 0.02587487, -0.01541876, -0.0180132 , ...,  0.00371212,\n",
              "          0.01483497,  0.00364437],\n",
              "        ...,\n",
              "        [ 0.02587487, -0.01541876, -0.0180132 , ...,  0.00371212,\n",
              "          0.01483497,  0.00364437],\n",
              "        [ 0.02587487, -0.01541876, -0.0180132 , ...,  0.00371212,\n",
              "          0.01483497,  0.00364437],\n",
              "        [ 0.02587487, -0.01541876, -0.0180132 , ...,  0.00371212,\n",
              "          0.01483497,  0.00364437]]], dtype=float32)>"
            ]
          },
          "metadata": {
            "tags": []
          },
          "execution_count": 21
        }
      ]
    },
    {
      "cell_type": "code",
      "metadata": {
        "id": "Q68pXeNUeQ7f",
        "colab_type": "code",
        "outputId": "7901eca0-8485-46f5-e88b-48a003965db9",
        "colab": {
          "base_uri": "https://localhost:8080/",
          "height": 263
        }
      },
      "source": [
        "test = np.random.uniform(size=(1,40)).astype('float32')\n",
        "pos_embed_test = EmbeddingLayer(test.shape[-1], 512)\n",
        "pos_embed_test(test)"
      ],
      "execution_count": 22,
      "outputs": [
        {
          "output_type": "execute_result",
          "data": {
            "text/plain": [
              "<tf.Tensor: shape=(1, 40, 512), dtype=float32, numpy=\n",
              "array([[[ 0.0144738 ,  0.02034662, -0.03761116, ..., -0.00787539,\n",
              "         -0.03269539,  0.01726196],\n",
              "        [ 0.0144738 ,  0.02034662, -0.03761116, ..., -0.00787539,\n",
              "         -0.03269539,  0.01726196],\n",
              "        [ 0.0144738 ,  0.02034662, -0.03761116, ..., -0.00787539,\n",
              "         -0.03269539,  0.01726196],\n",
              "        ...,\n",
              "        [ 0.0144738 ,  0.02034662, -0.03761116, ..., -0.00787539,\n",
              "         -0.03269539,  0.01726196],\n",
              "        [ 0.0144738 ,  0.02034662, -0.03761116, ..., -0.00787539,\n",
              "         -0.03269539,  0.01726196],\n",
              "        [ 0.0144738 ,  0.02034662, -0.03761116, ..., -0.00787539,\n",
              "         -0.03269539,  0.01726196]]], dtype=float32)>"
            ]
          },
          "metadata": {
            "tags": []
          },
          "execution_count": 22
        }
      ]
    },
    {
      "cell_type": "markdown",
      "metadata": {
        "id": "YErejcMV7yxF",
        "colab_type": "text"
      },
      "source": [
        "## 멀티헤드 어텐션  \n",
        "심화 2에서 봤던 트랜스포머의 멀티 헤드 어텐션과 거의 비슷함  \n",
        "http://jalammar.github.io/illustrated-gpt2/ 에 아주 설명이 잘 되어 있음  \n"
      ]
    },
    {
      "cell_type": "code",
      "metadata": {
        "id": "dsvUy4Jz7bKL",
        "colab_type": "code",
        "colab": {}
      },
      "source": [
        "class MultiHeadAttention(tf.keras.layers.Layer):\n",
        "  def __init__(self, d_model, num_heads, att_dropout=0.1, residual_dropout=0.1, scale=True):\n",
        "    super().__init__(self, name=\"MultiHeadAttention\")\n",
        "    self.num_heads = num_heads # 병렬로 나눠서 처리할 숫자\n",
        "    self.d_model = d_model # 임베딩 차원\n",
        "    self.att_dropout = att_dropout # 어텐션 드롭아웃\n",
        "    self.residual_dropout = residual_dropout # 레지듀얼 드롭아웃\n",
        "    self.scale = scale # 스케일링 할지 말지 (Query * Value의 값을 SQRT(임베딩차원) 으로 나눔)\n",
        "\n",
        "    assert d_model % self.num_heads == 0\n",
        "\n",
        "    self.depth = d_model // self.num_heads\n",
        "\n",
        "    self.c_attn = tf.keras.layers.Dense(self.d_model * 3) # 출력 차원을 3배로 한 다음에 q, k, v로 나눔 \n",
        "    self.c_proj = tf.keras.layers.Dense(self.d_model)\n",
        "\n",
        "  def split_heads(self, x):\n",
        "    batch_size = tf.shape(x)[0]\n",
        "    x = tf.reshape(x, (batch_size, -1, self.num_heads, self.depth))\n",
        "    return tf.transpose(x, perm=[0,2,1,3])\n",
        "\n",
        "  def multihead_attention(self, q, k, v, training, mask=None):\n",
        "    # depth : d_model // seq_len\n",
        "    # q_shape : [batch_size, num_heads, seq_q, depth]\n",
        "    # k_shape : [batch_size, num_heads, seq_k, depth]\n",
        "    # v_shape : [batch_size, num_heads, seq_v, depth]\n",
        "\n",
        "    matmul_qk = tf.matmul(q, k, transpose_b=True) # shape -> [batch_size, num_heads, seq_q, seq_k]\n",
        "    if self.scale:\n",
        "      dk = tf.cast(tf.shape(k)[-1], tf.float32)\n",
        "      matmul_qk = matmul_qk / tf.math.sqrt(dk)\n",
        "\n",
        "    if mask is not None:\n",
        "      matmul_qk += (mask * -1e9) # 마스크를 곱해준다\n",
        "\n",
        "    attention_weights = tf.nn.softmax(matmul_qk, axis=-1) # shape -> [batch_size, num_heads, seq_q, seq_k]\n",
        "\n",
        "    if training:\n",
        "      attention_weights = tf.nn.dropout(attention_weights, rate=self.att_dropout, name=\"attn_dropout\")\n",
        "    output = tf.matmul(attention_weights, v) # output shape -> [batch_size, num_heads, seq_q, depth]\n",
        "\n",
        "    return output, attention_weights\n",
        "\n",
        "  def merge_heads(self, x):\n",
        "    batch_size = tf.shape(x)[0]\n",
        "    # x shape -> [batch_size, num_heads, seq_q, depth]\n",
        "    x = tf.transpose(x, perm=[0,2,1,3])\n",
        "    # x shape -> [batch_size, seq_q, num_heads, depth]\n",
        "    merged = tf.reshape(x, (batch_size, -1, self.d_model))\n",
        "    # merged shape -> [batch_size, seq_q, d_model]\n",
        "    return merged\n",
        "\n",
        "  def call(self, x, mask=None, past_layer=None, training=True):\n",
        "    # input x shape -> [batch_size, seq_len, d_model]\n",
        "    x = self.c_attn(x)\n",
        "    # x shape -> [batch_size, seq_len, d_model * 3]\n",
        "    query, key, value = tf.split(x, 3, axis=2)\n",
        "    # query_shape -> [batch_size, seq_len, d_model]\n",
        "    # key_shape -> [batch_size, seq_len, d_model]\n",
        "    # value_shape -> [batch_size, seq_len, d_model]\n",
        "\n",
        "    query = self.split_heads(query)\n",
        "    key = self.split_heads(key)\n",
        "    value = self.split_heads(value)\n",
        "\n",
        "    # query_shape -> [batch_size, num_heads, seq_len, d_model // num_heads]\n",
        "    # key_shape -> [batch_size, num_heads, seq_len, d_model // num_heads]\n",
        "    # value_shape -> [batch_size, num_heads, seq_len, d_model // num_heads]\n",
        "\n",
        "    # past -> 과거 자료 활용\n",
        "    # 예를 들어 \"I have my chair repaired to study NLP\"라는 문장이 있다고 하자\n",
        "    # 마지막 단어를 예측할 때 NLP라는 단어를 예측한다고 하면\n",
        "    # I have my chair repaired to study라는 문장을 GPT에 넣으면 NLP를 예측하게 된다.\n",
        "    # 그런데 i have my chair repaired to 를 활용해서 study 라는 단어도 예측했을 것이다.\n",
        "    # 따라서 i have my chair repaired to 를 GPT에 넣었을 때의 출력을 재활용하면\n",
        "    # study라는 단어만 신경망을 거치면 되므로 예측 속도가 상당히 빨라지게 된다.\n",
        "\n",
        "    if past_layer is not None:\n",
        "      # past_layer의 shape은 [batch_size, 2, num_heads, seq_past_len, d_model // num_heads]\n",
        "      past_key, past_value = tf.unstack(past_layer, axis=1)\n",
        "      # past_key_shape = [batch_size, num_heads, seq_past_len, d_model // num_heads]\n",
        "      # past_value_shape = [batch_size, num_heads, seq_past_len, d_model // num_heads]\n",
        "      key = tf.concat([past_key, key], axis=-2)\n",
        "      \n",
        "      value = tf.concat([past_value, value], axis=-2)\n",
        "      # key_value_shape = [batch_size, num_heads, seq_past_len + seq_len, d_model // num_heads]\n",
        "      # value_value_shape = [batch_size, num_heads, seq_past_len + seq_len, d_model // num_heads]\n",
        "    present = tf.stack([key, value], axis=1)\n",
        "    # present shape -> [batch_size, 2, num_heads, seq_past_len + seq_len, d_model // num_heads]\n",
        "    scaled_attention, attention_weights = self.multihead_attention(query, key, value, training, mask)\n",
        "    #scaled_attention shape -> [batch_size, num_heads, seq_len, d_model // num_heads]\n",
        "    #attention_weights_shape -> [batch_size, num_heads, seq_len, seq_past_len + seq_len, d_model // num_heads]\n",
        "    concat_attention = self.merge_heads(scaled_attention)\n",
        "    # concat_attention shape -> [batch_size, seq_len, d_model]\n",
        "    output = self.c_proj(concat_attention)\n",
        "\n",
        "    if training:\n",
        "      output = tf.nn.dropout(output, rate=self.residual_dropout, name=\"resid_dropout\")\n",
        "    # output shape -> [batch_size, seq_len, d_model]\n",
        "    return output, present"
      ],
      "execution_count": 0,
      "outputs": []
    },
    {
      "cell_type": "code",
      "metadata": {
        "id": "mr8Qm4kZ_aH0",
        "colab_type": "code",
        "outputId": "848a6c71-f761-426f-fe13-6e0135f76d42",
        "colab": {
          "base_uri": "https://localhost:8080/",
          "height": 281
        }
      },
      "source": [
        "test = np.random.uniform(size=(1,40,512))\n",
        "test = test.astype('float32')\n",
        "print(test.shape)\n",
        "attn = MultiHeadAttention(512, 8)\n",
        "attn_out, _ = attn(test)\n",
        "print(attn_out)"
      ],
      "execution_count": 24,
      "outputs": [
        {
          "output_type": "stream",
          "text": [
            "(1, 40, 512)\n",
            "tf.Tensor(\n",
            "[[[ 0.36504117  0.2511495  -0.05450708 ... -0.20046467  0.83729035\n",
            "   -0.03749627]\n",
            "  [ 0.47126028  0.         -0.01367733 ... -0.21993867  0.8900477\n",
            "   -0.07379715]\n",
            "  [ 0.38910648  0.1985568   0.01552593 ... -0.20587088  0.83503234\n",
            "   -0.04676378]\n",
            "  ...\n",
            "  [ 0.438052    0.25525603 -0.02727513 ... -0.21067962  0.8397159\n",
            "   -0.03844841]\n",
            "  [ 0.39441177  0.26700345 -0.07513139 ... -0.19191273  0.\n",
            "   -0.        ]\n",
            "  [ 0.4164883   0.2260664   0.0395083  ... -0.21171942  0.8438246\n",
            "   -0.04674293]]], shape=(1, 40, 512), dtype=float32)\n"
          ],
          "name": "stdout"
        }
      ]
    },
    {
      "cell_type": "markdown",
      "metadata": {
        "id": "R9MR4354OCLi",
        "colab_type": "text"
      },
      "source": [
        "## 포인트와이즈 피드 포워드 네트워크\n",
        "멀티헤드어텐션의 아웃풋에 Weight을 곱해주어 신경망을 풍성하게 만들어줌"
      ]
    },
    {
      "cell_type": "code",
      "metadata": {
        "id": "gmkLUbyQ9FYh",
        "colab_type": "code",
        "colab": {}
      },
      "source": [
        "class FeedForward(tf.keras.layers.Layer):\n",
        "  def __init__(self, hidden_size, dff, dropout_rate=0.1, activation=tf.nn.relu):\n",
        "    super().__init__(self, name=\"FeedForward\")\n",
        "    self.hidden_size = hidden_size # d_model\n",
        "    self.dff = dff # middle dimension\n",
        "    self.activation = activation # relu \n",
        "    self.dropout_rate = dropout_rate\n",
        "\n",
        "    self.dense_layer = tf.keras.layers.Dense(self.dff)\n",
        "    self.output_dense_layer = tf.keras.layers.Dense(self.hidden_size)\n",
        "\n",
        "  def call(self, x, training=False):\n",
        "    # input x shape -> [batch_size, seq_len, d_model]\n",
        "    output = self.dense_layer(x)\n",
        "    # shape -> [batch_size, seq_len, dff]\n",
        "    output = self.activation(output)\n",
        "    output = self.output_dense_layer(output)\n",
        "    # shape -> [batch_size, seq_len, d_model]\n",
        "    if training:\n",
        "      output = tf.nn.dropout(output, rate=self.dropout_rate, name=\"feed_forward_dropout\")\n",
        "\n",
        "    return output"
      ],
      "execution_count": 0,
      "outputs": []
    },
    {
      "cell_type": "code",
      "metadata": {
        "id": "wCVk6V18CcE2",
        "colab_type": "code",
        "outputId": "6fe0abb7-bda0-4e45-b9b1-8f0eab67c572",
        "colab": {
          "base_uri": "https://localhost:8080/",
          "height": 263
        }
      },
      "source": [
        "feed = FeedForward(512, 2048)\n",
        "feed(attn_out)"
      ],
      "execution_count": 26,
      "outputs": [
        {
          "output_type": "execute_result",
          "data": {
            "text/plain": [
              "<tf.Tensor: shape=(1, 40, 512), dtype=float32, numpy=\n",
              "array([[[-0.24385557, -0.11730938, -0.1030661 , ..., -0.15606995,\n",
              "         -0.23390052, -0.02218778],\n",
              "        [-0.22112842, -0.22300558, -0.13148043, ..., -0.20515999,\n",
              "         -0.22803116, -0.19408432],\n",
              "        [-0.19557488, -0.17256711, -0.03311463, ..., -0.25110683,\n",
              "         -0.22609097, -0.08730908],\n",
              "        ...,\n",
              "        [-0.24143258, -0.07318281, -0.02359992, ..., -0.14443266,\n",
              "         -0.14642154, -0.12162777],\n",
              "        [-0.21650189, -0.18980947, -0.03953472, ..., -0.07640225,\n",
              "         -0.20449889, -0.079516  ],\n",
              "        [-0.12534687, -0.20129989, -0.09789936, ..., -0.16241832,\n",
              "         -0.1143719 , -0.05918843]]], dtype=float32)>"
            ]
          },
          "metadata": {
            "tags": []
          },
          "execution_count": 26
        }
      ]
    },
    {
      "cell_type": "markdown",
      "metadata": {
        "id": "5qZqfalAAfV_",
        "colab_type": "text"
      },
      "source": [
        "##디코더 정의"
      ]
    },
    {
      "cell_type": "code",
      "metadata": {
        "id": "Zb1s5cCKCie8",
        "colab_type": "code",
        "colab": {}
      },
      "source": [
        "class DecoderLayer(tf.keras.layers.Layer):\n",
        "  def __init__(self, d_model, num_heads, dff, i=0, dropout_rate = 0.1):\n",
        "    super().__init__(self, name=\"Decode_{}\".format(i))\n",
        "    self.d_model = d_model\n",
        "    self.num_heads = num_heads\n",
        "    self.dff = dff\n",
        "    self.dropout_rate = dropout_rate\n",
        "\n",
        "    self.mha = MultiHeadAttention(self.d_model, self.num_heads, self.dropout_rate)\n",
        "    self.feed_forward = FeedForward(self.d_model, self.dff, self.dropout_rate)\n",
        "    self.layer_norm1 = tf.keras.layers.LayerNormalization(epsilon=1e-6)\n",
        "    self.layer_norm2 = tf.keras.layers.LayerNormalization(epsilon=1e-6)\n",
        "\n",
        "  def call(self, x, training, mask, past=None):\n",
        "    # input x -> [batch_size, seq_len, d_model]\n",
        "    out, present = self.mha(self.layer_norm1(x), mask=mask, past_layer=past, training=training)\n",
        "    # out -> [batch_size, seq_len, d_model]\n",
        "    # present shape -> [batch_size, 2, num_heads, seq_past_len + seq_len, d_model // num_heads]\n",
        "    with tf.name_scope(\"residual_conn_1\"):\n",
        "      x = x + out\n",
        "    \n",
        "    out = self.feed_forward(self.layer_norm2(x), training=training)\n",
        "    with tf.name_scope(\"residual_conn_2\"):\n",
        "      x = x + out\n",
        "    return x, present"
      ],
      "execution_count": 0,
      "outputs": []
    },
    {
      "cell_type": "code",
      "metadata": {
        "id": "tedK0PoCF2JG",
        "colab_type": "code",
        "outputId": "6b0fb343-6da1-471b-92bf-8469f3da0589",
        "colab": {
          "base_uri": "https://localhost:8080/",
          "height": 1000
        }
      },
      "source": [
        "test = np.random.uniform(size=(1,40,512)).astype('float32')\n",
        "decoder = DecoderLayer(512, 8, 2048)\n",
        "decoder(test, training=False, mask=None)"
      ],
      "execution_count": 28,
      "outputs": [
        {
          "output_type": "execute_result",
          "data": {
            "text/plain": [
              "(<tf.Tensor: shape=(1, 40, 512), dtype=float32, numpy=\n",
              " array([[[ 0.52177   ,  0.15361214,  0.03117996, ...,  1.3114436 ,\n",
              "          -0.61305237,  0.9057687 ],\n",
              "         [ 0.35080394,  0.5839031 ,  0.09310269, ...,  0.23250967,\n",
              "          -0.17617369,  0.978644  ],\n",
              "         [ 0.95298916,  1.3240825 , -0.24399471, ...,  0.7709878 ,\n",
              "          -0.9760052 ,  1.2204044 ],\n",
              "         ...,\n",
              "         [ 0.8418818 ,  0.49278337, -0.1096493 , ...,  1.0561212 ,\n",
              "          -0.19908595,  0.5026806 ],\n",
              "         [ 1.1991091 ,  0.67384034,  0.8147787 , ...,  1.038263  ,\n",
              "           0.77711487, -0.21453206],\n",
              "         [ 0.81821245,  0.01035579, -0.03581214, ...,  1.6309131 ,\n",
              "          -0.431553  ,  1.6193246 ]]], dtype=float32)>,\n",
              " <tf.Tensor: shape=(1, 2, 8, 40, 64), dtype=float32, numpy=\n",
              " array([[[[[ 0.5295211 ,  0.35052192, -0.78193164, ...,  0.47537988,\n",
              "            -0.588601  ,  0.32514873],\n",
              "           [-0.78332126, -0.9649495 ,  0.51740015, ...,  1.2118709 ,\n",
              "            -0.28428847,  0.853191  ],\n",
              "           [-0.7216978 , -0.02400792, -0.26263708, ..., -0.17437437,\n",
              "             0.2508006 , -1.375628  ],\n",
              "           ...,\n",
              "           [ 0.2750008 ,  1.6418527 , -1.0616066 , ..., -0.10147923,\n",
              "             0.19677734,  1.2692636 ],\n",
              "           [ 0.24384665, -1.3000436 ,  0.4875124 , ..., -0.13826051,\n",
              "            -0.00382131,  1.4375293 ],\n",
              "           [ 0.8557229 , -0.49582705,  1.5842315 , ...,  0.33518913,\n",
              "            -0.5877415 , -0.16664891]],\n",
              " \n",
              "          [[ 0.00534137,  0.5807431 , -0.6701198 , ...,  0.36614314,\n",
              "            -0.56130844,  0.03484595],\n",
              "           [-0.33501294,  0.19720438, -0.94296587, ...,  0.9522468 ,\n",
              "             0.09967358, -1.0448759 ],\n",
              "           [ 0.12202108,  0.96635485,  0.5390885 , ...,  0.9970441 ,\n",
              "            -1.0462312 , -0.10202831],\n",
              "           ...,\n",
              "           [-0.7826361 , -0.47430396, -0.15595424, ...,  0.26023704,\n",
              "            -0.6522436 ,  1.091655  ],\n",
              "           [ 0.3966057 , -0.09273912,  0.09948277, ...,  0.05824214,\n",
              "             0.6866903 , -0.6722081 ],\n",
              "           [-0.8041398 ,  0.34621328, -0.0449453 , ...,  0.28183568,\n",
              "            -0.6346228 ,  0.37371397]],\n",
              " \n",
              "          [[-0.2065219 , -0.11114794, -0.05471465, ..., -0.11593112,\n",
              "             0.41310436,  0.7325249 ],\n",
              "           [-0.16891703, -0.46223515,  0.825713  , ...,  1.1986823 ,\n",
              "            -1.533219  , -0.7977582 ],\n",
              "           [-0.77046525, -1.3485212 , -0.9042219 , ..., -0.04582328,\n",
              "             1.6611115 , -0.39449564],\n",
              "           ...,\n",
              "           [ 0.35570532, -1.2275248 , -0.08966041, ...,  0.0287928 ,\n",
              "             0.36987782,  0.5979973 ],\n",
              "           [ 0.10282469, -0.15699607,  0.67469513, ...,  0.00810063,\n",
              "             0.15851118, -0.05022526],\n",
              "           [ 0.18389967,  0.02071135,  0.15169427, ..., -1.6969277 ,\n",
              "            -0.13344094,  0.2534638 ]],\n",
              " \n",
              "          ...,\n",
              " \n",
              "          [[-0.5375125 ,  0.6146203 , -0.16879451, ...,  0.53099704,\n",
              "            -0.01858169, -0.3585059 ],\n",
              "           [-0.589735  , -1.2160192 ,  0.42515552, ...,  0.30490372,\n",
              "            -1.0978785 , -1.6551404 ],\n",
              "           [-0.89313143, -0.67524064, -0.2027972 , ...,  0.2903939 ,\n",
              "            -0.34298757, -1.3946376 ],\n",
              "           ...,\n",
              "           [-1.138837  ,  0.582072  , -0.09262382, ...,  0.94076025,\n",
              "             0.2956219 ,  0.36854997],\n",
              "           [-0.28107327,  0.01961291,  0.7780936 , ...,  0.45020515,\n",
              "             0.52489865,  0.7814549 ],\n",
              "           [ 0.28627777, -0.44137517, -0.96466273, ...,  0.32235998,\n",
              "            -0.2975487 ,  0.04255635]],\n",
              " \n",
              "          [[ 0.33842772,  1.0215666 , -0.02757457, ..., -0.01979719,\n",
              "             0.04676148, -1.4819344 ],\n",
              "           [-0.5386967 , -0.6085513 ,  0.01916344, ..., -0.29707497,\n",
              "            -0.03326768, -1.4281014 ],\n",
              "           [ 1.133019  , -0.34118757, -0.52825594, ..., -0.1876843 ,\n",
              "            -0.07146442, -0.29123837],\n",
              "           ...,\n",
              "           [ 0.1907394 , -0.05103545,  0.37874138, ...,  0.75547045,\n",
              "            -0.5936756 , -0.77514803],\n",
              "           [-0.34553733, -0.2449579 , -0.42289716, ..., -0.07746433,\n",
              "            -0.1859241 ,  0.9393994 ],\n",
              "           [-0.23318431,  0.07947791, -0.61115015, ..., -0.34560132,\n",
              "             0.12353209,  0.8186331 ]],\n",
              " \n",
              "          [[ 0.45240724,  1.3549592 , -0.62302977, ..., -0.7439952 ,\n",
              "            -0.19319028,  0.88280565],\n",
              "           [-0.03665093,  1.1677779 ,  0.04513428, ..., -0.27340782,\n",
              "             0.06398982,  1.2526386 ],\n",
              "           [-0.35139245, -0.01372886, -0.8784919 , ..., -0.47993225,\n",
              "             0.93644667, -0.28722495],\n",
              "           ...,\n",
              "           [ 0.52001405,  0.07497907, -0.05798508, ...,  0.84046745,\n",
              "             0.39051342, -0.26976347],\n",
              "           [-1.2315077 ,  0.36668634, -0.625649  , ...,  1.0610512 ,\n",
              "             1.3443139 , -1.7912743 ],\n",
              "           [-0.9939817 , -0.4154882 ,  0.00556812, ..., -0.23454931,\n",
              "             0.62355626,  1.2039822 ]]],\n",
              " \n",
              " \n",
              "         [[[ 0.18778051,  0.12850048, -0.24428414, ...,  0.9985155 ,\n",
              "             1.106209  ,  0.21036126],\n",
              "           [-0.02483234, -0.6858008 ,  0.36451063, ...,  1.1186328 ,\n",
              "            -0.97678256,  0.47087577],\n",
              "           [ 0.17691413,  0.14126033,  1.2008818 , ..., -0.50752616,\n",
              "             0.4057612 ,  1.5613973 ],\n",
              "           ...,\n",
              "           [-0.85715306,  0.17437232,  1.144636  , ...,  0.6246586 ,\n",
              "            -0.5957898 ,  0.7820999 ],\n",
              "           [-1.2017847 , -1.589463  , -0.8934558 , ..., -0.17365219,\n",
              "            -0.9156893 ,  0.63384616],\n",
              "           [-0.17833534,  0.20895283, -0.5019906 , ..., -0.33954293,\n",
              "             0.6151433 , -1.7127198 ]],\n",
              " \n",
              "          [[-0.9949858 ,  1.1174333 , -0.89599466, ...,  0.28222   ,\n",
              "             0.10566831, -0.27662447],\n",
              "           [ 1.3853271 , -1.2938886 ,  0.20866627, ..., -0.29960078,\n",
              "            -0.20834711, -0.1505161 ],\n",
              "           [ 0.6920042 , -2.2876847 ,  0.48039383, ..., -0.22550112,\n",
              "             0.45841128,  1.5600784 ],\n",
              "           ...,\n",
              "           [ 0.3554054 ,  0.02954271, -0.552317  , ..., -0.7605137 ,\n",
              "            -0.2933822 , -0.5928128 ],\n",
              "           [ 0.16448687, -0.45537722,  0.41630167, ...,  0.67483956,\n",
              "             0.20387483, -0.4231848 ],\n",
              "           [ 0.03464928,  0.0860053 , -0.77531075, ...,  1.0608405 ,\n",
              "             0.8501984 , -0.6127    ]],\n",
              " \n",
              "          [[-1.7342845 , -0.6333    , -0.01667273, ...,  0.09457898,\n",
              "             0.5663679 ,  0.04868019],\n",
              "           [ 0.1463514 , -0.6294154 ,  0.05118197, ...,  0.6592395 ,\n",
              "            -0.24610773, -0.415357  ],\n",
              "           [-0.6330568 ,  0.21203537, -0.6300894 , ..., -0.9708314 ,\n",
              "             0.5316182 ,  0.47755533],\n",
              "           ...,\n",
              "           [-0.16468322, -1.3545799 ,  0.23866484, ...,  0.43764827,\n",
              "            -1.0050296 , -0.03023225],\n",
              "           [ 0.871935  ,  0.6085946 ,  1.0039837 , ..., -0.21811584,\n",
              "            -0.75789684, -0.75591123],\n",
              "           [ 0.23299053,  0.1307799 , -0.54792106, ...,  0.07355464,\n",
              "            -0.60325086,  0.9165962 ]],\n",
              " \n",
              "          ...,\n",
              " \n",
              "          [[-0.4215361 ,  0.3152156 , -0.02297625, ..., -0.11749628,\n",
              "            -0.16686577,  1.402213  ],\n",
              "           [-0.5467427 , -0.29265472, -0.33696365, ..., -0.29137105,\n",
              "             0.4146167 , -0.17713857],\n",
              "           [ 1.7911679 ,  0.5222453 ,  0.91947365, ...,  0.2290251 ,\n",
              "             1.326911  , -1.023339  ],\n",
              "           ...,\n",
              "           [-0.60123396, -0.22336945,  0.15225023, ..., -1.0895495 ,\n",
              "            -0.17093989, -0.1766442 ],\n",
              "           [ 1.5867662 , -1.6018379 ,  0.09093466, ...,  0.18947718,\n",
              "             0.44644356,  1.1923561 ],\n",
              "           [-0.63848275,  0.66128236,  0.61174345, ..., -0.9119749 ,\n",
              "            -1.3568797 ,  0.28857765]],\n",
              " \n",
              "          [[ 0.1683629 , -0.56720954, -0.30884722, ...,  0.85912716,\n",
              "             0.5230264 , -0.38101888],\n",
              "           [-0.6181265 ,  1.1787422 ,  0.51578796, ...,  0.13021243,\n",
              "             1.0940654 , -0.32341176],\n",
              "           [-0.4681602 , -1.0666317 ,  1.2872472 , ..., -1.3945959 ,\n",
              "             0.21047807, -0.14275128],\n",
              "           ...,\n",
              "           [ 0.29076   , -0.72777057,  0.02587932, ...,  0.96595645,\n",
              "            -0.79436535, -0.8979919 ],\n",
              "           [ 0.0356425 , -0.04353105, -0.5775361 , ...,  0.11849846,\n",
              "            -0.9972795 ,  0.5776894 ],\n",
              "           [-1.1185925 ,  0.35291585,  0.9632984 , ..., -0.49892655,\n",
              "             1.2975411 , -0.6514224 ]],\n",
              " \n",
              "          [[-0.22215855, -0.3202331 , -0.6464377 , ...,  0.7518914 ,\n",
              "             0.23899893,  1.6304514 ],\n",
              "           [ 1.4779484 ,  0.00955277, -0.44376168, ...,  0.6422557 ,\n",
              "             0.40756798, -0.8098821 ],\n",
              "           [ 0.04151171,  0.33134753, -0.55270517, ..., -0.09595621,\n",
              "             1.2428119 , -0.09581808],\n",
              "           ...,\n",
              "           [ 1.1432056 ,  1.0181189 ,  0.27629346, ...,  0.89109373,\n",
              "            -0.3499484 , -0.6170782 ],\n",
              "           [ 0.8666152 , -1.1962464 ,  1.0217056 , ...,  0.06101516,\n",
              "             0.6138774 , -0.539686  ],\n",
              "           [ 0.9420081 ,  0.6126617 , -0.89670265, ..., -0.46202463,\n",
              "            -0.28992876,  0.22718966]]]]], dtype=float32)>)"
            ]
          },
          "metadata": {
            "tags": []
          },
          "execution_count": 28
        }
      ]
    },
    {
      "cell_type": "markdown",
      "metadata": {
        "id": "S7a3xkRBBubb",
        "colab_type": "text"
      },
      "source": [
        "## 출력층 정의  \n",
        "출력증을 임베딩과 묶을지, 아니면 별도로 둘지 정할 수 있음"
      ]
    },
    {
      "cell_type": "code",
      "metadata": {
        "id": "0sz1N5QNGIZV",
        "colab_type": "code",
        "colab": {}
      },
      "source": [
        "class OutputLayer(tf.keras.layers.Layer):\n",
        "  def __init__(self, output_dim, proj_weights=None, kernel_initializer=None):\n",
        "    super().__init__(self, name=\"OutputLayer\")\n",
        "    self.proj_weights = proj_weights\n",
        "    self.output_dim = output_dim\n",
        "    self.layer_weights = None\n",
        "    self.kernel_initializer = kernel_initializer\n",
        "    self.layer_weights = tf.keras.layers.Dense(self.output_dim)\n",
        "  def call(self, x):\n",
        "    # input x shape -> [batch_size, seq_len, d_model]\n",
        "    batch, sequence, d_model = tf.shape(x)[0], tf.shape(x)[1], tf.shape(x)[-1]\n",
        "\n",
        "    if self.proj_weights is None:\n",
        "      \n",
        "      out = self.layer_weights(x)\n",
        "      # out shape -> [batch_size, seq_len, vocab_size]\n",
        "    else:\n",
        "      out = self.proj_weights(x)\n",
        "      # out shape -> [batch_size, seq_len, vocab_size]\n",
        "    out = tf.reshape(out, [batch, sequence, self.output_dim])\n",
        "    return out"
      ],
      "execution_count": 0,
      "outputs": []
    },
    {
      "cell_type": "code",
      "metadata": {
        "id": "kxFGqmGiU3eR",
        "colab_type": "code",
        "outputId": "cd1a6071-f8e1-439e-b022-6e62d806b35f",
        "colab": {
          "base_uri": "https://localhost:8080/",
          "height": 263
        }
      },
      "source": [
        "test = np.random.uniform(size=(1,40,512)).astype('float32')\n",
        "decoder = DecoderLayer(512, 8, 2048)\n",
        "decoder_out, _ = decoder(test, training=False, mask=None)\n",
        "output_layer = OutputLayer(9999)\n",
        "output_layer(decoder_out)"
      ],
      "execution_count": 30,
      "outputs": [
        {
          "output_type": "execute_result",
          "data": {
            "text/plain": [
              "<tf.Tensor: shape=(1, 40, 9999), dtype=float32, numpy=\n",
              "array([[[ 0.29190174, -0.04769421, -0.12912437, ..., -0.18792886,\n",
              "          0.10832113, -0.20609939],\n",
              "        [ 0.2645763 ,  0.31869304,  0.11690763, ...,  0.11321118,\n",
              "          0.09791943,  0.04935339],\n",
              "        [ 0.343476  ,  0.28772736,  0.11091917, ..., -0.07169732,\n",
              "         -0.15756083, -0.07677233],\n",
              "        ...,\n",
              "        [ 0.3152371 ,  0.11472939,  0.2163721 , ...,  0.01603666,\n",
              "          0.11224319, -0.27735448],\n",
              "        [-0.0053536 ,  0.08156694, -0.15305944, ...,  0.16289812,\n",
              "          0.20620155, -0.15929136],\n",
              "        [ 0.4308443 ,  0.20190167,  0.5399052 , ...,  0.19001153,\n",
              "          0.1455318 , -0.05255146]]], dtype=float32)>"
            ]
          },
          "metadata": {
            "tags": []
          },
          "execution_count": 30
        }
      ]
    },
    {
      "cell_type": "code",
      "metadata": {
        "id": "rB_ScIR6lhnU",
        "colab_type": "code",
        "colab": {}
      },
      "source": [
        "# 유틸리티 함수 정의\n",
        "def shape_as_list_2(x):\n",
        "    return [int(i) for i in tf.shape(x)]\n",
        "\n",
        "\n",
        "def gelu(x):\n",
        "    with tf.name_scope(\"gelu\"):\n",
        "        cdf = 0.5 * (1.0 + tf.tanh(\n",
        "            (np.sqrt(2 / np.pi) * (x + 0.044715 * tf.pow(x, 3)))))\n",
        "        return x * cdf\n",
        "\n",
        "\n",
        "def get_padding_mask(seq):\n",
        "    with tf.name_scope(\"Padding_Mask\"):\n",
        "        seq = tf.cast(tf.math.equal(seq, 0), tf.float32)\n",
        "\n",
        "        # add extra dimensions to add the padding\n",
        "        # to the attention logits.\n",
        "        return seq[:, tf.newaxis, tf.newaxis, :]  # (batch_size, 1, 1, seq_len)\n",
        "\n",
        "\n",
        "def attention_mask(size):\n",
        "    \"\"\"\n",
        "    if size is 4 then it returns below matrix\n",
        "       [[0., 1., 1., 1.],\n",
        "        [0., 0., 1., 1.],\n",
        "        [0., 0., 0., 1.],\n",
        "        [0., 0., 0., 0.]]\n",
        "    \"\"\"\n",
        "    with tf.name_scope(\"attention_mask\"):\n",
        "        mask = 1 - tf.linalg.band_part(tf.ones((size, size)), -1, 0)\n",
        "        return mask  # (seq_len, seq_len)\n",
        "\n",
        "\n",
        "def create_masks(inp):\n",
        "    with tf.name_scope(\"att_masking\"):\n",
        "        att_mask = attention_mask(tf.shape(inp)[1])\n",
        "        padding_mask = get_padding_mask(inp)\n",
        "        mask = tf.maximum(padding_mask, att_mask)\n",
        "\n",
        "        return mask"
      ],
      "execution_count": 0,
      "outputs": []
    },
    {
      "cell_type": "markdown",
      "metadata": {
        "id": "Jzxxwp_JCLLJ",
        "colab_type": "text"
      },
      "source": [
        "## GPT2 정의\n",
        "임베딩, 디코더, 출력층을 한번에 정의함"
      ]
    },
    {
      "cell_type": "code",
      "metadata": {
        "id": "TLC8jBL3VDhu",
        "colab_type": "code",
        "colab": {}
      },
      "source": [
        "class GPT2(tf.keras.Model):\n",
        "  def __init__(self, num_layers, d_model, num_heads, dff, max_seq_len, vocab_size,\\\n",
        "               rev_embedding_projection=True):\n",
        "    super().__init__(self, name=\"GPT2_TOTAL\")\n",
        "\n",
        "    self.rev_embedding_projection = rev_embedding_projection # 임베딩과 출력증을 묶을지\n",
        "    self.num_layers = num_layers # 디코더 층\n",
        "    self.num_heads = num_heads # 멀티 헤드 어텐션 때 헤드 숫자\n",
        "    self.dff = dff # 중간층 차원\n",
        "    self.max_seq_len = max_seq_len # position embedding시 임베딩할 최대 넓이\n",
        "    self.vocab_size = vocab_size # 단어의 수\n",
        "    self.d_model = d_model # 단어가 임베딩 될 때 차원\n",
        "    \n",
        "    self.embedding = EmbeddingLayer(self.vocab_size, self.d_model) # 단어 임베딩\n",
        "    self.pos_embedding = PositionEmbeddingLayer(self.max_seq_len, self.d_model) # 위치 임베딩\n",
        "    self.decoder_layers = [DecoderLayer(self.d_model, self.num_heads, self.dff, i) for i in range(self.num_layers)] # 디코더를 num_layers 만큼 쌓음\n",
        "    \n",
        "    if not self.rev_embedding_projection: # 만약 임베딩과 출력증을 같이 묶지 않으면\n",
        "      self.output_layer = OutputLayer(self.vocab_size)\n",
        "\n",
        "    self.layer_norm = tf.keras.layers.LayerNormalization(epsilon=1e-6)\n",
        "\n",
        "  def call(self, x, training=True, past=None):\n",
        "    \n",
        "    x = tf.cast(x, tf.int32) # [batch_size, seq_len]\n",
        "    batch, sequence = tf.shape(x)[0], tf.shape(x)[1]\n",
        "    \n",
        "    if past is None:\n",
        "      pasts = [None] * self.num_layers\n",
        "    else:\n",
        "      pasts = past\n",
        "    \n",
        "    assert len(pasts) == self.num_layers\n",
        "\n",
        "    att_mask = create_masks(x) # 어텐션 마스크\n",
        "\n",
        "    past_length = 1 if past is None else tf.shape(past)[-2]\n",
        "\n",
        "    with tf.name_scope(\"embeddings\"):\n",
        "      embedded_x = self.embedding(x)\n",
        "      hidden_states = embedded_x + self.pos_embedding(x, start=past_length) # hidden_states -> [batch_size, seq_len, d_model]\n",
        "    \n",
        "    presents = []\n",
        "    for decoder_layer, past in zip(self.decoder_layers, pasts):\n",
        "      hidden_states, present = decoder_layer(hidden_states, training, att_mask, past=past)\n",
        "      # hidden_states -> [batch_size, seq_len, d_model]\n",
        "      # present shape -> [batch_size, 2, num_heads, seq_past_len + seq_len, d_model // num_heads]\n",
        "      presents.append(present)\n",
        "\n",
        "    hidden_states = self.layer_norm(hidden_states)\n",
        "\n",
        "    if self.rev_embedding_projection: # 만약 임베딩과 출력층을 결합한다면\n",
        "      logits = self.embedding(hidden_states, mode=\"projection\")\n",
        "      # shape -> [batch_size, seq_len, vocab_size]\n",
        "    else:\n",
        "      logits = self.output_layer(hidden_states)\n",
        "      # shape -> [batch_size, seq_len, vocab_size]\n",
        "    return logits, presents\n",
        "\n"
      ],
      "execution_count": 0,
      "outputs": []
    },
    {
      "cell_type": "code",
      "metadata": {
        "id": "A19z_qA7lw9a",
        "colab_type": "code",
        "outputId": "15a80453-ff0f-44d3-f903-b3ad49408b04",
        "colab": {
          "base_uri": "https://localhost:8080/",
          "height": 281
        }
      },
      "source": [
        "x = np.random.uniform(size=(1,40)).astype('float32')\n",
        "print(x)\n",
        "gpt2 = GPT2(12, 512, 8, 2048, 400, 50000)\n",
        "a, b = gpt2(x)\n",
        "print(a)"
      ],
      "execution_count": 33,
      "outputs": [
        {
          "output_type": "stream",
          "text": [
            "[[0.92652446 0.5976662  0.7446475  0.59121805 0.28852233 0.6728189\n",
            "  0.20890617 0.35280606 0.8582742  0.744634   0.59327155 0.5983983\n",
            "  0.8249317  0.7184342  0.32953176 0.78165066 0.14222144 0.49829805\n",
            "  0.7625399  0.92798644 0.88012075 0.34390682 0.73369724 0.24327196\n",
            "  0.46360973 0.5430751  0.18734585 0.3297529  0.9618437  0.41318586\n",
            "  0.661259   0.9992953  0.7719487  0.20186128 0.3749113  0.15442254\n",
            "  0.18000929 0.10596427 0.8641406  0.50835663]]\n",
            "tf.Tensor(\n",
            "[[[0. 0. 0. ... 0. 0. 0.]\n",
            "  [0. 0. 0. ... 0. 0. 0.]\n",
            "  [0. 0. 0. ... 0. 0. 0.]\n",
            "  ...\n",
            "  [0. 0. 0. ... 0. 0. 0.]\n",
            "  [0. 0. 0. ... 0. 0. 0.]\n",
            "  [0. 0. 0. ... 0. 0. 0.]]], shape=(1, 40, 50000), dtype=float32)\n"
          ],
          "name": "stdout"
        }
      ]
    },
    {
      "cell_type": "code",
      "metadata": {
        "id": "c6LKrA6dmfCb",
        "colab_type": "code",
        "outputId": "e841997a-7c91-423a-bc86-33354cec6d44",
        "colab": {
          "base_uri": "https://localhost:8080/",
          "height": 193
        }
      },
      "source": [
        "tf.cast(x, tf.float32)"
      ],
      "execution_count": 34,
      "outputs": [
        {
          "output_type": "execute_result",
          "data": {
            "text/plain": [
              "<tf.Tensor: shape=(1, 40), dtype=float32, numpy=\n",
              "array([[0.92652446, 0.5976662 , 0.7446475 , 0.59121805, 0.28852233,\n",
              "        0.6728189 , 0.20890617, 0.35280606, 0.8582742 , 0.744634  ,\n",
              "        0.59327155, 0.5983983 , 0.8249317 , 0.7184342 , 0.32953176,\n",
              "        0.78165066, 0.14222144, 0.49829805, 0.7625399 , 0.92798644,\n",
              "        0.88012075, 0.34390682, 0.73369724, 0.24327196, 0.46360973,\n",
              "        0.5430751 , 0.18734585, 0.3297529 , 0.9618437 , 0.41318586,\n",
              "        0.661259  , 0.9992953 , 0.7719487 , 0.20186128, 0.3749113 ,\n",
              "        0.15442254, 0.18000929, 0.10596427, 0.8641406 , 0.50835663]],\n",
              "      dtype=float32)>"
            ]
          },
          "metadata": {
            "tags": []
          },
          "execution_count": 34
        }
      ]
    },
    {
      "cell_type": "markdown",
      "metadata": {
        "id": "syH_ibykd9GV",
        "colab_type": "text"
      },
      "source": [
        "# GPT2 훈련 준비하기"
      ]
    },
    {
      "cell_type": "markdown",
      "metadata": {
        "id": "1acKFmLq49Ub",
        "colab_type": "text"
      },
      "source": [
        "## 하이퍼파라미터 설정"
      ]
    },
    {
      "cell_type": "code",
      "metadata": {
        "id": "hFve0JDo48iu",
        "colab_type": "code",
        "colab": {}
      },
      "source": [
        "num_layers = 4 # 디코더 층\n",
        "d_model = 256 # 단어 임베딩 차원\n",
        "num_heads = 4 # 어텐션 크기\n",
        "dff = 512 # 중간 차원\n",
        "max_seq_len = 10000 # 위치 임베딩의 길이\n",
        "vocab_size = 40000 # 어휘 숫자"
      ],
      "execution_count": 0,
      "outputs": []
    },
    {
      "cell_type": "markdown",
      "metadata": {
        "id": "gr_D0gz2oBFI",
        "colab_type": "text"
      },
      "source": [
        "## 옵티마이저 설정"
      ]
    },
    {
      "cell_type": "code",
      "metadata": {
        "id": "Jo6MbR-DnZKQ",
        "colab_type": "code",
        "colab": {}
      },
      "source": [
        "class CustomSchedule(tf.keras.optimizers.schedules.LearningRateSchedule):\n",
        "  def __init__(self, d_model, warmup_steps=4000):\n",
        "    super(CustomSchedule, self).__init__()\n",
        "    \n",
        "    self.d_model = d_model\n",
        "    self.d_model = tf.cast(self.d_model, tf.float32)\n",
        "\n",
        "    self.warmup_steps = warmup_steps\n",
        "    \n",
        "  def __call__(self, step):\n",
        "    arg1 = tf.math.rsqrt(step)\n",
        "    arg2 = step * (self.warmup_steps ** -1.5)\n",
        "    \n",
        "    return tf.math.rsqrt(self.d_model) * tf.math.minimum(arg1, arg2)\n",
        "\n",
        "learning_rate = CustomSchedule(d_model)\n",
        "\n",
        "optimizer = tf.keras.optimizers.Adam(learning_rate, beta_1=0.9, beta_2=0.98, \n",
        "                                     epsilon=1e-9)"
      ],
      "execution_count": 0,
      "outputs": []
    },
    {
      "cell_type": "markdown",
      "metadata": {
        "id": "bSUwv5HboJUb",
        "colab_type": "text"
      },
      "source": [
        "## Loss 함수 & Accuracy 정의"
      ]
    },
    {
      "cell_type": "code",
      "metadata": {
        "id": "POwTAh-aoI5D",
        "colab_type": "code",
        "colab": {}
      },
      "source": [
        "loss_object = tf.keras.losses.SparseCategoricalCrossentropy(from_logits=True, reduction='none') #from_logits=True로 하면 Dense 이후 softmax layer 값 출력\n",
        "\n",
        "def loss_function(real, pred):\n",
        "  mask = tf.math.logical_not(tf.math.equal(real, 0)) # 예를 들어서 실제 자료(0은 패딩)가 [1,2,3,4,5,0,0,0,0,0] 이라면 [0,0,0,0,0,1,1,1,1,1]로 바꿔 줌\n",
        "                                                     # 이후 tf.math.logical_not을 활용해서 [True,True,True,True,True,False,False,False,False,False]으로 바꿔 줌\n",
        "  loss_ = loss_object(real, pred) # loss_는 패딩을 고려하지 않은 loss 값\n",
        "\n",
        "  mask = tf.cast(mask, dtype=loss_.dtype) # [True,True,True,True,True,False,False,False,False,False]를 [1,1,1,1,1,0,0,0,0,0] 으로 바꿔 줌\n",
        "  loss_ *= mask # loss에 mask를 곱해서, 패딩인 부분은 0처리 해줌\n",
        "\n",
        "  return tf.reduce_sum(loss_)/tf.reduce_sum(mask)\n",
        "\n",
        "\n",
        "# 패딩이 아닌 부분만을 가지고 정확도를 측정함\n",
        "def get_padded_accuracy(labels, logits):\n",
        "  with tf.name_scope(\"padded_accuracy\"):\n",
        "    weights = tf.cast(tf.not_equal(labels, 0), tf.float32)\n",
        "\n",
        "    outputs = tf.cast(tf.argmax(logits, axis=-1), tf.int32)\n",
        "    padded_labels = tf.cast(labels, tf.int32)\n",
        "\n",
        "    nonpad_seq = tf.math.count_nonzero(weights, dtype=tf.dtypes.float32, )\n",
        "    acc = tf.cast(tf.equal(outputs, padded_labels), tf.float32)\n",
        "\n",
        "    accuracy = tf.reduce_sum(tf.cast(acc * weights, tf.float32)) / nonpad_seq\n",
        "  \n",
        "  return tf.cast(accuracy, tf.float32)"
      ],
      "execution_count": 0,
      "outputs": []
    },
    {
      "cell_type": "markdown",
      "metadata": {
        "id": "JBidzphI5f0U",
        "colab_type": "text"
      },
      "source": [
        "## 저장 공간 설정"
      ]
    },
    {
      "cell_type": "code",
      "metadata": {
        "id": "UwkLaksO5fQs",
        "colab_type": "code",
        "colab": {}
      },
      "source": [
        "# 저장할 체크포인트 지정\n",
        "checkpoint_path = \"./\"\n",
        "\n",
        "ckpt = tf.train.Checkpoint(gpt2=gpt2,\n",
        "                           optimizer=optimizer)\n",
        "\n",
        "ckpt_manager = tf.train.CheckpointManager(ckpt, checkpoint_path, max_to_keep=5)\n",
        "\n",
        "# if a checkpoint exists, restore the latest checkpoint.\n",
        "if ckpt_manager.latest_checkpoint:\n",
        "  ckpt.restore(ckpt_manager.latest_checkpoint)\n",
        "  print ('Latest checkpoint restored!!')"
      ],
      "execution_count": 0,
      "outputs": []
    },
    {
      "cell_type": "markdown",
      "metadata": {
        "id": "eDpVqm4b50X9",
        "colab_type": "text"
      },
      "source": [
        "## Train 함수 설정"
      ]
    },
    {
      "cell_type": "code",
      "metadata": {
        "id": "Q5ArEI-s5tA7",
        "colab_type": "code",
        "colab": {}
      },
      "source": [
        "gpt2 = GPT2(num_layers = num_layers, d_model=d_model, num_heads=num_heads, dff=dff, max_seq_len=max_seq_len, vocab_size=vocab_size)\n",
        "train_step_signature = [tf.TensorSpec(shape=(None, None), dtype=tf.int64)]\n",
        "\n",
        "# tf.function을 사용하면 그래프를 미리 컴파일 하기 때문에 속도가 상당히 빠름\n",
        "# 같은 GPU여도 케라스에 비해서 체감상 7~8배 정도의 차이가 나는 것 같음\n",
        "@tf.function(input_signature=train_step_signature)\n",
        "def train_step(inputs, grad_clip=True, clip_value=2.5):\n",
        "  inp = inputs[:, :-1]\n",
        "  tar = inputs[:, 1:]\n",
        "  \n",
        "  with tf.GradientTape() as tape:\n",
        "    predictions, _ = gpt2(inp, True)\n",
        "    loss = loss_function(tar, predictions)\n",
        "\n",
        "  gradients = tape.gradient(loss, gpt2.trainable_variables)  \n",
        "  if grad_clip:\n",
        "    gradients = [(tf.clip_by_value(grad, -clip_value, clip_value)) for grad in gradients]  \n",
        "  optimizer.apply_gradients(zip(gradients, gpt2.trainable_variables))\n",
        "  \n",
        "  accuracy = get_padded_accuracy(tar, predictions)\n",
        "  return loss, accuracy"
      ],
      "execution_count": 0,
      "outputs": []
    },
    {
      "cell_type": "markdown",
      "metadata": {
        "id": "rQKMRUm_eBgd",
        "colab_type": "text"
      },
      "source": [
        "# 모델 훈련 및 추론"
      ]
    },
    {
      "cell_type": "markdown",
      "metadata": {
        "id": "pd8T2bUq7UrW",
        "colab_type": "text"
      },
      "source": [
        "## 모델 훈련"
      ]
    },
    {
      "cell_type": "code",
      "metadata": {
        "id": "8c_d4Dwv7P2f",
        "colab_type": "code",
        "outputId": "c90163dd-1677-426a-927c-a79757220f03",
        "colab": {
          "base_uri": "https://localhost:8080/",
          "height": 1000
        }
      },
      "source": [
        "import time\n",
        "# 20 에포크 훈련\n",
        "for epoch in range(20):\n",
        "  start = time.time()\n",
        "  \n",
        "  #train_loss.reset_states()\n",
        "  #train_accuracy.reset_states()\n",
        "  \n",
        "  # input : 포루투갈어, tar : 영어\n",
        "  for (batch, inp) in enumerate(dataset):\n",
        "    loss, accuracy = train_step(inp)\n",
        "    \n",
        "    if batch % 50 == 0:\n",
        "      print ('Epoch {} Batch {} Loss {:.4f} Accuracy {:.4f}'.format(\n",
        "          epoch + 1, batch, loss, accuracy))\n",
        "      \n",
        "  if (epoch + 1) % 5 == 0:\n",
        "    ckpt_save_path = ckpt_manager.save()\n",
        "    print ('Saving checkpoint for epoch {} at {}'.format(epoch+1,\n",
        "                                                         ckpt_save_path))\n",
        "    \n",
        "  print ('Epoch {} Loss {:.4f} Accuracy {:.4f}'.format(epoch + 1, \n",
        "                                                loss, \n",
        "                                                accuracy))\n",
        "\n",
        "  print ('Time taken for 1 epoch: {} secs\\n'.format(time.time() - start))"
      ],
      "execution_count": 47,
      "outputs": [
        {
          "output_type": "stream",
          "text": [
            "Epoch 1 Batch 0 Loss 10.6782 Accuracy 0.0000\n",
            "Epoch 1 Batch 50 Loss 10.4638 Accuracy 0.0000\n",
            "Epoch 1 Batch 100 Loss 10.0336 Accuracy 0.0622\n",
            "Epoch 1 Batch 150 Loss 9.5644 Accuracy 0.0575\n",
            "Epoch 1 Batch 200 Loss 8.9974 Accuracy 0.0607\n",
            "Epoch 1 Batch 250 Loss 8.2888 Accuracy 0.0882\n",
            "Epoch 1 Batch 300 Loss 7.6124 Accuracy 0.1133\n",
            "Epoch 1 Batch 350 Loss 7.0304 Accuracy 0.1078\n",
            "Epoch 1 Batch 400 Loss 6.7934 Accuracy 0.1247\n",
            "Epoch 1 Batch 450 Loss 6.3527 Accuracy 0.1515\n",
            "Epoch 1 Batch 500 Loss 6.3763 Accuracy 0.1507\n",
            "Epoch 1 Batch 550 Loss 6.2209 Accuracy 0.1614\n",
            "Epoch 1 Batch 600 Loss 6.0919 Accuracy 0.1762\n",
            "Epoch 1 Batch 650 Loss 5.9941 Accuracy 0.1757\n",
            "Epoch 1 Batch 700 Loss 5.8707 Accuracy 0.1843\n",
            "Epoch 1 Batch 750 Loss 5.8646 Accuracy 0.1721\n",
            "Epoch 1 Loss 5.8836 Accuracy 0.1981\n",
            "Time taken for 1 epoch: 140.41279816627502 secs\n",
            "\n",
            "Epoch 2 Batch 0 Loss 5.5627 Accuracy 0.2089\n",
            "Epoch 2 Batch 50 Loss 5.5822 Accuracy 0.2027\n",
            "Epoch 2 Batch 100 Loss 5.8121 Accuracy 0.1878\n",
            "Epoch 2 Batch 150 Loss 5.6438 Accuracy 0.2052\n",
            "Epoch 2 Batch 200 Loss 5.4057 Accuracy 0.2396\n",
            "Epoch 2 Batch 250 Loss 5.3901 Accuracy 0.2341\n",
            "Epoch 2 Batch 300 Loss 5.4849 Accuracy 0.2313\n",
            "Epoch 2 Batch 350 Loss 5.3506 Accuracy 0.2367\n",
            "Epoch 2 Batch 400 Loss 5.4495 Accuracy 0.2244\n",
            "Epoch 2 Batch 450 Loss 5.3617 Accuracy 0.2470\n",
            "Epoch 2 Batch 500 Loss 5.2825 Accuracy 0.2483\n",
            "Epoch 2 Batch 550 Loss 5.1721 Accuracy 0.2550\n",
            "Epoch 2 Batch 600 Loss 5.2303 Accuracy 0.2381\n",
            "Epoch 2 Batch 650 Loss 5.1619 Accuracy 0.2529\n",
            "Epoch 2 Batch 700 Loss 5.1746 Accuracy 0.2489\n",
            "Epoch 2 Batch 750 Loss 4.9771 Accuracy 0.2733\n",
            "Epoch 2 Loss 4.9686 Accuracy 0.2642\n",
            "Time taken for 1 epoch: 134.6857054233551 secs\n",
            "\n",
            "Epoch 3 Batch 0 Loss 4.9754 Accuracy 0.2650\n",
            "Epoch 3 Batch 50 Loss 5.0880 Accuracy 0.2631\n",
            "Epoch 3 Batch 100 Loss 4.7538 Accuracy 0.2846\n",
            "Epoch 3 Batch 150 Loss 4.6921 Accuracy 0.3013\n",
            "Epoch 3 Batch 200 Loss 4.8682 Accuracy 0.2927\n",
            "Epoch 3 Batch 250 Loss 4.9878 Accuracy 0.2747\n",
            "Epoch 3 Batch 300 Loss 4.9746 Accuracy 0.2708\n",
            "Epoch 3 Batch 350 Loss 4.5972 Accuracy 0.2866\n",
            "Epoch 3 Batch 400 Loss 4.7812 Accuracy 0.3056\n",
            "Epoch 3 Batch 450 Loss 4.8625 Accuracy 0.2668\n",
            "Epoch 3 Batch 500 Loss 4.8735 Accuracy 0.2897\n",
            "Epoch 3 Batch 550 Loss 4.6450 Accuracy 0.2925\n",
            "Epoch 3 Batch 600 Loss 4.8395 Accuracy 0.2833\n",
            "Epoch 3 Batch 650 Loss 4.4587 Accuracy 0.3275\n",
            "Epoch 3 Batch 700 Loss 4.5466 Accuracy 0.2950\n",
            "Epoch 3 Batch 750 Loss 4.4071 Accuracy 0.3274\n",
            "Epoch 3 Loss 4.4544 Accuracy 0.3451\n",
            "Time taken for 1 epoch: 135.04405188560486 secs\n",
            "\n",
            "Epoch 4 Batch 0 Loss 4.4485 Accuracy 0.3145\n",
            "Epoch 4 Batch 50 Loss 4.4545 Accuracy 0.3210\n",
            "Epoch 4 Batch 100 Loss 4.5231 Accuracy 0.3037\n",
            "Epoch 4 Batch 150 Loss 4.2238 Accuracy 0.3426\n",
            "Epoch 4 Batch 200 Loss 4.4399 Accuracy 0.3242\n",
            "Epoch 4 Batch 250 Loss 4.4531 Accuracy 0.3206\n",
            "Epoch 4 Batch 300 Loss 4.1340 Accuracy 0.3569\n",
            "Epoch 4 Batch 350 Loss 4.3270 Accuracy 0.3453\n",
            "Epoch 4 Batch 400 Loss 4.4010 Accuracy 0.3248\n",
            "Epoch 4 Batch 450 Loss 4.3339 Accuracy 0.3226\n",
            "Epoch 4 Batch 500 Loss 4.0169 Accuracy 0.3671\n",
            "Epoch 4 Batch 550 Loss 3.9984 Accuracy 0.3647\n",
            "Epoch 4 Batch 600 Loss 4.2970 Accuracy 0.3228\n",
            "Epoch 4 Batch 650 Loss 4.4131 Accuracy 0.3177\n",
            "Epoch 4 Batch 700 Loss 4.2110 Accuracy 0.3486\n",
            "Epoch 4 Batch 750 Loss 4.3390 Accuracy 0.3555\n",
            "Epoch 4 Loss 4.2510 Accuracy 0.3345\n",
            "Time taken for 1 epoch: 134.85982942581177 secs\n",
            "\n",
            "Epoch 5 Batch 0 Loss 4.0853 Accuracy 0.3385\n",
            "Epoch 5 Batch 50 Loss 3.9323 Accuracy 0.3731\n",
            "Epoch 5 Batch 100 Loss 3.9540 Accuracy 0.3673\n",
            "Epoch 5 Batch 150 Loss 4.0953 Accuracy 0.3693\n",
            "Epoch 5 Batch 200 Loss 4.1039 Accuracy 0.3726\n",
            "Epoch 5 Batch 250 Loss 4.0941 Accuracy 0.3714\n",
            "Epoch 5 Batch 300 Loss 3.9685 Accuracy 0.3655\n",
            "Epoch 5 Batch 350 Loss 4.0331 Accuracy 0.3720\n",
            "Epoch 5 Batch 400 Loss 3.8250 Accuracy 0.3763\n",
            "Epoch 5 Batch 450 Loss 3.9167 Accuracy 0.3790\n",
            "Epoch 5 Batch 500 Loss 3.8242 Accuracy 0.3830\n",
            "Epoch 5 Batch 550 Loss 4.1322 Accuracy 0.3459\n",
            "Epoch 5 Batch 600 Loss 3.9322 Accuracy 0.3546\n",
            "Epoch 5 Batch 650 Loss 4.0253 Accuracy 0.3626\n",
            "Epoch 5 Batch 700 Loss 3.8159 Accuracy 0.3870\n",
            "Epoch 5 Batch 750 Loss 4.0078 Accuracy 0.3689\n",
            "Saving checkpoint for epoch 5 at ./ckpt-1\n",
            "Epoch 5 Loss 4.2180 Accuracy 0.3538\n",
            "Time taken for 1 epoch: 135.38144207000732 secs\n",
            "\n",
            "Epoch 6 Batch 0 Loss 3.4224 Accuracy 0.4172\n",
            "Epoch 6 Batch 50 Loss 3.7795 Accuracy 0.3961\n",
            "Epoch 6 Batch 100 Loss 3.8428 Accuracy 0.3767\n",
            "Epoch 6 Batch 150 Loss 3.7930 Accuracy 0.3799\n",
            "Epoch 6 Batch 200 Loss 3.8180 Accuracy 0.3709\n",
            "Epoch 6 Batch 250 Loss 3.6153 Accuracy 0.4012\n",
            "Epoch 6 Batch 300 Loss 3.7997 Accuracy 0.3955\n",
            "Epoch 6 Batch 350 Loss 3.7423 Accuracy 0.4107\n",
            "Epoch 6 Batch 400 Loss 3.7216 Accuracy 0.3964\n",
            "Epoch 6 Batch 450 Loss 3.9254 Accuracy 0.3734\n",
            "Epoch 6 Batch 500 Loss 3.7458 Accuracy 0.3967\n",
            "Epoch 6 Batch 550 Loss 3.5754 Accuracy 0.4317\n",
            "Epoch 6 Batch 600 Loss 4.0082 Accuracy 0.3635\n",
            "Epoch 6 Batch 650 Loss 3.6135 Accuracy 0.4032\n",
            "Epoch 6 Batch 700 Loss 3.7042 Accuracy 0.3961\n",
            "Epoch 6 Batch 750 Loss 3.9017 Accuracy 0.3808\n",
            "Epoch 6 Loss 3.7344 Accuracy 0.3636\n",
            "Time taken for 1 epoch: 134.71867108345032 secs\n",
            "\n",
            "Epoch 7 Batch 0 Loss 3.3409 Accuracy 0.4327\n",
            "Epoch 7 Batch 50 Loss 3.2683 Accuracy 0.4463\n",
            "Epoch 7 Batch 100 Loss 3.4888 Accuracy 0.4059\n",
            "Epoch 7 Batch 150 Loss 3.5338 Accuracy 0.4054\n",
            "Epoch 7 Batch 200 Loss 3.4432 Accuracy 0.4331\n",
            "Epoch 7 Batch 250 Loss 3.1245 Accuracy 0.4699\n",
            "Epoch 7 Batch 300 Loss 3.6338 Accuracy 0.3896\n",
            "Epoch 7 Batch 350 Loss 3.3813 Accuracy 0.4289\n",
            "Epoch 7 Batch 400 Loss 3.3241 Accuracy 0.4477\n",
            "Epoch 7 Batch 450 Loss 3.5601 Accuracy 0.4152\n",
            "Epoch 7 Batch 500 Loss 3.7047 Accuracy 0.3955\n",
            "Epoch 7 Batch 550 Loss 3.5472 Accuracy 0.4197\n",
            "Epoch 7 Batch 600 Loss 3.6954 Accuracy 0.3969\n",
            "Epoch 7 Batch 650 Loss 3.3911 Accuracy 0.4252\n",
            "Epoch 7 Batch 700 Loss 3.6318 Accuracy 0.4102\n",
            "Epoch 7 Batch 750 Loss 3.6027 Accuracy 0.4012\n",
            "Epoch 7 Loss 3.5758 Accuracy 0.4029\n",
            "Time taken for 1 epoch: 134.8662486076355 secs\n",
            "\n",
            "Epoch 8 Batch 0 Loss 3.2422 Accuracy 0.4466\n",
            "Epoch 8 Batch 50 Loss 3.3051 Accuracy 0.4316\n",
            "Epoch 8 Batch 100 Loss 3.2044 Accuracy 0.4473\n",
            "Epoch 8 Batch 150 Loss 3.3473 Accuracy 0.4300\n",
            "Epoch 8 Batch 200 Loss 3.3567 Accuracy 0.4301\n",
            "Epoch 8 Batch 250 Loss 3.3108 Accuracy 0.4323\n",
            "Epoch 8 Batch 300 Loss 3.4545 Accuracy 0.4167\n",
            "Epoch 8 Batch 350 Loss 3.3585 Accuracy 0.4320\n",
            "Epoch 8 Batch 400 Loss 3.4352 Accuracy 0.4349\n",
            "Epoch 8 Batch 450 Loss 3.6676 Accuracy 0.4035\n",
            "Epoch 8 Batch 500 Loss 3.3474 Accuracy 0.4421\n",
            "Epoch 8 Batch 550 Loss 3.5719 Accuracy 0.4037\n",
            "Epoch 8 Batch 600 Loss 3.4364 Accuracy 0.4354\n",
            "Epoch 8 Batch 650 Loss 3.4227 Accuracy 0.4261\n",
            "Epoch 8 Batch 700 Loss 3.4874 Accuracy 0.4262\n",
            "Epoch 8 Batch 750 Loss 3.3343 Accuracy 0.4242\n",
            "Epoch 8 Loss 3.6294 Accuracy 0.4347\n",
            "Time taken for 1 epoch: 134.87765669822693 secs\n",
            "\n",
            "Epoch 9 Batch 0 Loss 3.0378 Accuracy 0.4713\n",
            "Epoch 9 Batch 50 Loss 3.3619 Accuracy 0.4330\n",
            "Epoch 9 Batch 100 Loss 3.2011 Accuracy 0.4458\n",
            "Epoch 9 Batch 150 Loss 3.0503 Accuracy 0.4629\n",
            "Epoch 9 Batch 200 Loss 3.2551 Accuracy 0.4335\n",
            "Epoch 9 Batch 250 Loss 3.3650 Accuracy 0.4249\n",
            "Epoch 9 Batch 300 Loss 3.0496 Accuracy 0.4659\n",
            "Epoch 9 Batch 350 Loss 3.3783 Accuracy 0.4405\n",
            "Epoch 9 Batch 400 Loss 3.2540 Accuracy 0.4545\n",
            "Epoch 9 Batch 450 Loss 3.3063 Accuracy 0.4369\n",
            "Epoch 9 Batch 500 Loss 3.3208 Accuracy 0.4359\n",
            "Epoch 9 Batch 550 Loss 3.4402 Accuracy 0.4221\n",
            "Epoch 9 Batch 600 Loss 3.2228 Accuracy 0.4488\n",
            "Epoch 9 Batch 650 Loss 3.5020 Accuracy 0.4267\n",
            "Epoch 9 Batch 700 Loss 3.2919 Accuracy 0.4472\n",
            "Epoch 9 Batch 750 Loss 3.2563 Accuracy 0.4508\n",
            "Epoch 9 Loss 3.1557 Accuracy 0.4648\n",
            "Time taken for 1 epoch: 134.7785506248474 secs\n",
            "\n",
            "Epoch 10 Batch 0 Loss 3.1402 Accuracy 0.4516\n",
            "Epoch 10 Batch 50 Loss 3.0306 Accuracy 0.4506\n",
            "Epoch 10 Batch 100 Loss 3.1355 Accuracy 0.4525\n",
            "Epoch 10 Batch 150 Loss 2.9370 Accuracy 0.4801\n",
            "Epoch 10 Batch 200 Loss 3.2787 Accuracy 0.4221\n",
            "Epoch 10 Batch 250 Loss 3.0480 Accuracy 0.4536\n",
            "Epoch 10 Batch 300 Loss 3.1744 Accuracy 0.4443\n",
            "Epoch 10 Batch 350 Loss 3.0301 Accuracy 0.4536\n",
            "Epoch 10 Batch 400 Loss 3.1721 Accuracy 0.4496\n",
            "Epoch 10 Batch 450 Loss 3.1930 Accuracy 0.4467\n",
            "Epoch 10 Batch 500 Loss 3.1146 Accuracy 0.4696\n",
            "Epoch 10 Batch 550 Loss 3.0976 Accuracy 0.4756\n",
            "Epoch 10 Batch 600 Loss 3.1817 Accuracy 0.4389\n",
            "Epoch 10 Batch 650 Loss 3.3162 Accuracy 0.4256\n",
            "Epoch 10 Batch 700 Loss 3.3062 Accuracy 0.4452\n",
            "Epoch 10 Batch 750 Loss 3.4136 Accuracy 0.4300\n",
            "Saving checkpoint for epoch 10 at ./ckpt-2\n",
            "Epoch 10 Loss 3.2530 Accuracy 0.4565\n",
            "Time taken for 1 epoch: 135.2323489189148 secs\n",
            "\n",
            "Epoch 11 Batch 0 Loss 2.9556 Accuracy 0.4573\n",
            "Epoch 11 Batch 50 Loss 3.0246 Accuracy 0.4576\n",
            "Epoch 11 Batch 100 Loss 2.8638 Accuracy 0.4708\n",
            "Epoch 11 Batch 150 Loss 2.8254 Accuracy 0.4730\n",
            "Epoch 11 Batch 200 Loss 3.0876 Accuracy 0.4559\n",
            "Epoch 11 Batch 250 Loss 2.9619 Accuracy 0.4711\n",
            "Epoch 11 Batch 300 Loss 3.1945 Accuracy 0.4416\n",
            "Epoch 11 Batch 350 Loss 2.8926 Accuracy 0.4900\n",
            "Epoch 11 Batch 400 Loss 2.9798 Accuracy 0.4637\n",
            "Epoch 11 Batch 450 Loss 3.1803 Accuracy 0.4644\n",
            "Epoch 11 Batch 500 Loss 3.1915 Accuracy 0.4413\n",
            "Epoch 11 Batch 550 Loss 3.0837 Accuracy 0.4663\n",
            "Epoch 11 Batch 600 Loss 3.2374 Accuracy 0.4518\n",
            "Epoch 11 Batch 650 Loss 3.2555 Accuracy 0.4336\n",
            "Epoch 11 Batch 700 Loss 3.1862 Accuracy 0.4475\n",
            "Epoch 11 Batch 750 Loss 3.2015 Accuracy 0.4464\n",
            "Epoch 11 Loss 3.1622 Accuracy 0.4410\n",
            "Time taken for 1 epoch: 134.76283884048462 secs\n",
            "\n",
            "Epoch 12 Batch 0 Loss 2.9743 Accuracy 0.4601\n",
            "Epoch 12 Batch 50 Loss 2.9393 Accuracy 0.4695\n",
            "Epoch 12 Batch 100 Loss 2.9251 Accuracy 0.4697\n",
            "Epoch 12 Batch 150 Loss 2.8902 Accuracy 0.4684\n",
            "Epoch 12 Batch 200 Loss 2.8952 Accuracy 0.4806\n",
            "Epoch 12 Batch 250 Loss 3.0325 Accuracy 0.4451\n",
            "Epoch 12 Batch 300 Loss 3.1280 Accuracy 0.4581\n",
            "Epoch 12 Batch 350 Loss 3.1357 Accuracy 0.4522\n",
            "Epoch 12 Batch 400 Loss 2.9582 Accuracy 0.4777\n",
            "Epoch 12 Batch 450 Loss 3.1528 Accuracy 0.4590\n",
            "Epoch 12 Batch 500 Loss 2.8639 Accuracy 0.4850\n",
            "Epoch 12 Batch 550 Loss 3.1158 Accuracy 0.4611\n",
            "Epoch 12 Batch 600 Loss 3.0711 Accuracy 0.4677\n",
            "Epoch 12 Batch 650 Loss 3.1580 Accuracy 0.4568\n",
            "Epoch 12 Batch 700 Loss 3.2638 Accuracy 0.4349\n",
            "Epoch 12 Batch 750 Loss 3.1596 Accuracy 0.4519\n",
            "Epoch 12 Loss 3.1347 Accuracy 0.4518\n",
            "Time taken for 1 epoch: 134.87539672851562 secs\n",
            "\n",
            "Epoch 13 Batch 0 Loss 2.7378 Accuracy 0.4984\n",
            "Epoch 13 Batch 50 Loss 2.7545 Accuracy 0.4980\n",
            "Epoch 13 Batch 100 Loss 2.8892 Accuracy 0.4764\n",
            "Epoch 13 Batch 150 Loss 2.9364 Accuracy 0.4692\n",
            "Epoch 13 Batch 200 Loss 2.8384 Accuracy 0.4777\n",
            "Epoch 13 Batch 250 Loss 2.7082 Accuracy 0.4895\n",
            "Epoch 13 Batch 300 Loss 2.9860 Accuracy 0.4846\n",
            "Epoch 13 Batch 350 Loss 2.8693 Accuracy 0.4833\n",
            "Epoch 13 Batch 400 Loss 3.0381 Accuracy 0.4671\n",
            "Epoch 13 Batch 450 Loss 2.8259 Accuracy 0.4889\n",
            "Epoch 13 Batch 500 Loss 3.0146 Accuracy 0.4702\n",
            "Epoch 13 Batch 550 Loss 3.0215 Accuracy 0.4836\n",
            "Epoch 13 Batch 600 Loss 3.0613 Accuracy 0.4628\n",
            "Epoch 13 Batch 650 Loss 2.9865 Accuracy 0.4738\n",
            "Epoch 13 Batch 700 Loss 2.9742 Accuracy 0.4786\n",
            "Epoch 13 Batch 750 Loss 2.9839 Accuracy 0.4796\n",
            "Epoch 13 Loss 3.3338 Accuracy 0.4342\n",
            "Time taken for 1 epoch: 134.98351669311523 secs\n",
            "\n",
            "Epoch 14 Batch 0 Loss 2.8114 Accuracy 0.4867\n",
            "Epoch 14 Batch 50 Loss 2.8164 Accuracy 0.4898\n",
            "Epoch 14 Batch 100 Loss 2.8399 Accuracy 0.4773\n",
            "Epoch 14 Batch 150 Loss 2.9022 Accuracy 0.4731\n",
            "Epoch 14 Batch 200 Loss 2.8249 Accuracy 0.4717\n",
            "Epoch 14 Batch 250 Loss 3.0984 Accuracy 0.4463\n",
            "Epoch 14 Batch 300 Loss 2.7944 Accuracy 0.4929\n",
            "Epoch 14 Batch 350 Loss 2.8325 Accuracy 0.4819\n",
            "Epoch 14 Batch 400 Loss 2.8066 Accuracy 0.4848\n",
            "Epoch 14 Batch 450 Loss 2.8918 Accuracy 0.4788\n",
            "Epoch 14 Batch 500 Loss 2.9776 Accuracy 0.4903\n",
            "Epoch 14 Batch 550 Loss 2.8485 Accuracy 0.4849\n",
            "Epoch 14 Batch 600 Loss 2.9457 Accuracy 0.4894\n",
            "Epoch 14 Batch 650 Loss 2.9598 Accuracy 0.4782\n",
            "Epoch 14 Batch 700 Loss 2.9238 Accuracy 0.4710\n",
            "Epoch 14 Batch 750 Loss 2.9922 Accuracy 0.4724\n",
            "Epoch 14 Loss 2.9501 Accuracy 0.4805\n",
            "Time taken for 1 epoch: 134.84282898902893 secs\n",
            "\n",
            "Epoch 15 Batch 0 Loss 2.7259 Accuracy 0.5011\n",
            "Epoch 15 Batch 50 Loss 2.6470 Accuracy 0.5039\n",
            "Epoch 15 Batch 100 Loss 2.9588 Accuracy 0.4673\n",
            "Epoch 15 Batch 150 Loss 2.8309 Accuracy 0.4886\n",
            "Epoch 15 Batch 200 Loss 2.7743 Accuracy 0.4985\n",
            "Epoch 15 Batch 250 Loss 2.8762 Accuracy 0.4732\n",
            "Epoch 15 Batch 300 Loss 2.9200 Accuracy 0.4681\n",
            "Epoch 15 Batch 350 Loss 2.8482 Accuracy 0.4706\n",
            "Epoch 15 Batch 400 Loss 2.9390 Accuracy 0.4736\n",
            "Epoch 15 Batch 450 Loss 2.9392 Accuracy 0.4775\n",
            "Epoch 15 Batch 500 Loss 2.8551 Accuracy 0.4925\n",
            "Epoch 15 Batch 550 Loss 2.9254 Accuracy 0.4815\n",
            "Epoch 15 Batch 600 Loss 2.9886 Accuracy 0.4749\n",
            "Epoch 15 Batch 650 Loss 3.0504 Accuracy 0.4562\n",
            "Epoch 15 Batch 700 Loss 3.0008 Accuracy 0.4806\n",
            "Epoch 15 Batch 750 Loss 3.0286 Accuracy 0.4570\n",
            "Saving checkpoint for epoch 15 at ./ckpt-3\n",
            "Epoch 15 Loss 3.1510 Accuracy 0.4739\n",
            "Time taken for 1 epoch: 134.92807507514954 secs\n",
            "\n",
            "Epoch 16 Batch 0 Loss 2.6421 Accuracy 0.5005\n",
            "Epoch 16 Batch 50 Loss 2.7735 Accuracy 0.4857\n",
            "Epoch 16 Batch 100 Loss 2.6697 Accuracy 0.5005\n",
            "Epoch 16 Batch 150 Loss 2.6715 Accuracy 0.5144\n",
            "Epoch 16 Batch 200 Loss 2.7084 Accuracy 0.4929\n",
            "Epoch 16 Batch 250 Loss 2.8552 Accuracy 0.4793\n",
            "Epoch 16 Batch 300 Loss 2.8750 Accuracy 0.4936\n",
            "Epoch 16 Batch 350 Loss 2.6555 Accuracy 0.5237\n",
            "Epoch 16 Batch 400 Loss 2.6773 Accuracy 0.5135\n",
            "Epoch 16 Batch 450 Loss 2.9398 Accuracy 0.4673\n",
            "Epoch 16 Batch 500 Loss 2.9356 Accuracy 0.4718\n",
            "Epoch 16 Batch 550 Loss 2.8893 Accuracy 0.4843\n",
            "Epoch 16 Batch 600 Loss 2.9796 Accuracy 0.4683\n",
            "Epoch 16 Batch 650 Loss 2.7893 Accuracy 0.4971\n",
            "Epoch 16 Batch 700 Loss 2.8062 Accuracy 0.4924\n",
            "Epoch 16 Batch 750 Loss 2.8656 Accuracy 0.4854\n",
            "Epoch 16 Loss 3.0842 Accuracy 0.4629\n",
            "Time taken for 1 epoch: 134.86419868469238 secs\n",
            "\n",
            "Epoch 17 Batch 0 Loss 2.5613 Accuracy 0.5236\n",
            "Epoch 17 Batch 50 Loss 2.5850 Accuracy 0.5271\n",
            "Epoch 17 Batch 100 Loss 2.6251 Accuracy 0.5033\n",
            "Epoch 17 Batch 150 Loss 2.7764 Accuracy 0.4760\n",
            "Epoch 17 Batch 200 Loss 2.7982 Accuracy 0.4817\n",
            "Epoch 17 Batch 250 Loss 2.8459 Accuracy 0.4911\n",
            "Epoch 17 Batch 300 Loss 2.7797 Accuracy 0.4937\n",
            "Epoch 17 Batch 350 Loss 2.6838 Accuracy 0.5044\n",
            "Epoch 17 Batch 400 Loss 2.7739 Accuracy 0.4963\n",
            "Epoch 17 Batch 450 Loss 2.8795 Accuracy 0.4736\n",
            "Epoch 17 Batch 500 Loss 2.7497 Accuracy 0.5021\n",
            "Epoch 17 Batch 550 Loss 2.9382 Accuracy 0.4735\n",
            "Epoch 17 Batch 600 Loss 2.8001 Accuracy 0.4935\n",
            "Epoch 17 Batch 650 Loss 2.8719 Accuracy 0.4703\n",
            "Epoch 17 Batch 700 Loss 2.8046 Accuracy 0.4945\n",
            "Epoch 17 Batch 750 Loss 2.9815 Accuracy 0.4471\n",
            "Epoch 17 Loss 3.1002 Accuracy 0.4647\n",
            "Time taken for 1 epoch: 134.8899052143097 secs\n",
            "\n",
            "Epoch 18 Batch 0 Loss 2.6274 Accuracy 0.5049\n",
            "Epoch 18 Batch 50 Loss 2.5798 Accuracy 0.5221\n",
            "Epoch 18 Batch 100 Loss 2.6416 Accuracy 0.5160\n",
            "Epoch 18 Batch 150 Loss 2.7441 Accuracy 0.4951\n",
            "Epoch 18 Batch 200 Loss 2.8907 Accuracy 0.4830\n",
            "Epoch 18 Batch 250 Loss 2.8445 Accuracy 0.4857\n",
            "Epoch 18 Batch 300 Loss 2.8967 Accuracy 0.4704\n",
            "Epoch 18 Batch 350 Loss 2.8342 Accuracy 0.4827\n",
            "Epoch 18 Batch 400 Loss 2.8594 Accuracy 0.4848\n",
            "Epoch 18 Batch 450 Loss 2.7225 Accuracy 0.4949\n",
            "Epoch 18 Batch 500 Loss 2.7885 Accuracy 0.5030\n",
            "Epoch 18 Batch 550 Loss 2.7851 Accuracy 0.4848\n",
            "Epoch 18 Batch 600 Loss 2.8675 Accuracy 0.4912\n",
            "Epoch 18 Batch 650 Loss 2.9371 Accuracy 0.4734\n",
            "Epoch 18 Batch 700 Loss 2.8822 Accuracy 0.4727\n",
            "Epoch 18 Batch 750 Loss 2.8740 Accuracy 0.4864\n",
            "Epoch 18 Loss 2.9063 Accuracy 0.4788\n",
            "Time taken for 1 epoch: 134.66810727119446 secs\n",
            "\n",
            "Epoch 19 Batch 0 Loss 2.6131 Accuracy 0.5045\n",
            "Epoch 19 Batch 50 Loss 2.6032 Accuracy 0.5080\n",
            "Epoch 19 Batch 100 Loss 2.6387 Accuracy 0.5002\n",
            "Epoch 19 Batch 150 Loss 2.7780 Accuracy 0.4911\n",
            "Epoch 19 Batch 200 Loss 2.7008 Accuracy 0.5059\n",
            "Epoch 19 Batch 250 Loss 2.6414 Accuracy 0.4889\n",
            "Epoch 19 Batch 300 Loss 2.7956 Accuracy 0.4957\n",
            "Epoch 19 Batch 350 Loss 2.7696 Accuracy 0.4899\n",
            "Epoch 19 Batch 400 Loss 2.6582 Accuracy 0.5089\n",
            "Epoch 19 Batch 450 Loss 2.6946 Accuracy 0.5083\n",
            "Epoch 19 Batch 500 Loss 2.7588 Accuracy 0.4909\n",
            "Epoch 19 Batch 550 Loss 2.8136 Accuracy 0.4821\n",
            "Epoch 19 Batch 600 Loss 2.9098 Accuracy 0.4725\n",
            "Epoch 19 Batch 650 Loss 2.8473 Accuracy 0.4759\n",
            "Epoch 19 Batch 700 Loss 2.9083 Accuracy 0.4972\n",
            "Epoch 19 Batch 750 Loss 2.6687 Accuracy 0.5049\n",
            "Epoch 19 Loss 2.7093 Accuracy 0.5063\n",
            "Time taken for 1 epoch: 134.93919014930725 secs\n",
            "\n",
            "Epoch 20 Batch 0 Loss 2.5442 Accuracy 0.5103\n",
            "Epoch 20 Batch 50 Loss 2.5865 Accuracy 0.5239\n",
            "Epoch 20 Batch 100 Loss 2.5000 Accuracy 0.5216\n",
            "Epoch 20 Batch 150 Loss 2.5946 Accuracy 0.5211\n",
            "Epoch 20 Batch 200 Loss 2.5279 Accuracy 0.5093\n",
            "Epoch 20 Batch 250 Loss 2.5292 Accuracy 0.5262\n",
            "Epoch 20 Batch 300 Loss 2.5698 Accuracy 0.5202\n",
            "Epoch 20 Batch 350 Loss 2.7670 Accuracy 0.4915\n",
            "Epoch 20 Batch 400 Loss 2.6324 Accuracy 0.5172\n",
            "Epoch 20 Batch 450 Loss 2.7708 Accuracy 0.4973\n",
            "Epoch 20 Batch 500 Loss 2.8643 Accuracy 0.4807\n",
            "Epoch 20 Batch 550 Loss 2.8833 Accuracy 0.4684\n",
            "Epoch 20 Batch 600 Loss 2.7743 Accuracy 0.4941\n",
            "Epoch 20 Batch 650 Loss 2.8646 Accuracy 0.4904\n",
            "Epoch 20 Batch 700 Loss 2.7316 Accuracy 0.4985\n",
            "Epoch 20 Batch 750 Loss 2.8770 Accuracy 0.4969\n",
            "Saving checkpoint for epoch 20 at ./ckpt-4\n",
            "Epoch 20 Loss 2.8206 Accuracy 0.5114\n",
            "Time taken for 1 epoch: 134.8425681591034 secs\n",
            "\n"
          ],
          "name": "stdout"
        }
      ]
    },
    {
      "cell_type": "markdown",
      "metadata": {
        "id": "0JuBp1iK7Sdd",
        "colab_type": "text"
      },
      "source": [
        "## 추론\n",
        "기존 transformer와 다른 점은 추론 시 softmax 이후 가장 높은 확률 만을 정답으로 보지 않는다는 점입니다.  \n",
        "예를 들어서 설명드리자면 기존 추론 방식은 마지막 softmax(logits)의 값이 [0.5, 0.2, 0.1, 0.1, 0.05, 0.05] 라면 0.5가 속해있는 인덱스인 0을 정답으로 취합니다.   \n",
        "하지만 GPT2의 추론에서는 정답 softmax 값에서 상위 k개의 값을 랜덤으로 뽑아서 정답으로 활용하게 됩니다.  \n",
        "사실 가장 큰 확률을 가진 인덱스가 정답인 것이 타당합니다. 그러나 다른 관점에서 보면 확률 리스트 **[0.5, 0.2, 0.1, 0.1, 0.05, 0.05]에서 보면 0.5가 아닌 부분도** **50% 만큼 존재하는 것이고**, 이 말은 즉슨 50%의 확률로 정답 인덱스가 0이 아닐 수도 있기에 가장 개연성이 높은 값 말고도 다른 값을 고려하겠다는 뜻입니다.  \n",
        "\n",
        "\n",
        "**top_k_logits** 함수와 **top_p_logits** 함수가 활용됩니다.  \n",
        "top_k_logits는 출력 값에서 상위 k개만큼만 남기고 나머지는 0으로 처리합니다.  \n",
        "만약에 logits이 [0.5, 0.2, 0.1, 0.1, 0.05, 0.05]이고, k=3이면 결과는 [0.5, 0.2, 0.1, 0, 0, 0]가 됩니다. \n",
        "\n",
        "top_p_logits 는 임계 확률 p를 정하고 누적 확률분포를 구합니다. 그 전에는 확률을 큰 수부터 sort가 이루어집니다.  \n",
        "이후 임계확률 p를 넘어서는 부분부터는 0으로 처리합니다.\n",
        "p의 기준점을 0.7이라고 하겠습니다.  \n",
        "만약에 input이 [0.1, 0.05, 0.05, 0.5, 0.2, 0.1] 라면 **sort**가 되어서 [0.5, 0.2, 0.1, 0.1, 0.05, 0.05] 가 되고, **누적확률 분포**는 [0.5, 0.7, 0.8, 0.9, 0.95, 1.0]이 되는데 0.7이 넘는 점부터는 0이가 곱해지게 됩니다.  \n",
        "그래서 임계점이 넘는 부분은 0처리가 되어서 결과는 [0.5, 0.7, 0, 0, 0, 0]이 됩니다.  \n",
        "헷갈리실 수 있는데 아래 코드에서 -1e10을 곱한 이유는 tf.random.categorical 함수를 적용하기 위해서입니다. 이 함수는 softmax 함수가 적용되지 않은 logits를 인풋으로 받습니다."
      ]
    },
    {
      "cell_type": "markdown",
      "metadata": {
        "id": "zVIofAmaeohK",
        "colab_type": "text"
      },
      "source": [
        "Temperature 변수는 1을 기준으로 1보다 낮으면 추론 시 텍스트가 생성될 때 높은 확률의 단어 위주로 추론하게 되고,   \n",
        "Temperature 변수가 1보다 크면 확률이 낮은 단어도 고려하게 됩니다.  \n",
        "코드를 보시면  \n",
        "<b>logits = logits[:, -1, :] / tf.cast(temperature, tf.float32)</b>  \n",
        "logits을 temperature로 나눠주게 되는데, softmax = softmax(logits)일 때,     \n",
        "\n",
        "만약 softmax 결과가 [0.8, 0.1, 0.1] 이라면 <b>temperature가 1보다 크면</b> softmax의 결과가 [0.75, 0.125, 0.125]와 같이 되어서 <b>낮은 확률의 값이 올라가서 top_k와 top_p 안에 들어갈 확률이 높아집니다.</b>  \n",
        "  \n",
        "반대로 <b>temperature가 1보다 작으면</b> 반대로 작용해서 [0.9, 0.05, 0.05]와 같이 softmax 함수가 바뀌게 됩니다. 따라서 <b>높은 확률의 단어만 집중적으로 뽑히게 됩니다.</b>"
      ]
    },
    {
      "cell_type": "code",
      "metadata": {
        "id": "KNxygKKZ7SCp",
        "colab_type": "code",
        "colab": {}
      },
      "source": [
        "# logits input : [batch_size, vocab_size]\n",
        "def top_k_logits(logits, k):\n",
        "  if k == 0:\n",
        "    return logits\n",
        "  \n",
        "  values, _ = tf.math.top_k(logits, k=k) # logits 중 상위 k개를 뽑는다\n",
        "  min_values = values[:, -1] # 가장 작은 값\n",
        "\n",
        "  return tf.where(logits < min_values, tf.ones_like(logits, dtype=logits.dtype) * -1e10, logits) # 만약 logits이 가장 작은 값보다 작으면, -1e10 처리한다.\n",
        "\n",
        "def top_p_logits(logits, p):\n",
        "  batch = tf.shape(logits)[0]\n",
        "\n",
        "  sorted_logits = tf.sort(logits, direction='DESCENDING', axis=-1) # logits을 softmax 함수를 적용해서 확률로 만든 후 큰 값이 가장 위로 나오게 sort한다\n",
        "  cumulative_probs = tf.cumsum(tf.nn.softmax(sorted_logits, axis=-1), axis=-1) # 누적확률분포를 구한다\n",
        "  indices = tf.stack([tf.range(0, batch), tf.maximum(tf.reduce_sum(tf.cast(cumulative_probs <= p, tf.int32), axis=-1) -1, 0)], axis=-1) \n",
        "  # 누적 확률 분포가 임계점 p 를 넘어서기 직전의 인덱스를 구한다\n",
        "  # indices shape -> [batch_size, 1]\n",
        "\n",
        "  min_values = tf.gather_nd(sorted_logits, indices) # 배치별 최소 확률\n",
        "  \n",
        "  return tf.where(logits < min_values, tf.ones_like(logits) * -1e10, logits) # batch 에서 최소 확률보다 작은 부분은 -1e10을 곱한다.\n",
        "\n",
        "def sample_sequence(context=None, seq_len=512, temperature = 1, top_k=8, top_p=8, nucleus_sampling=True):\n",
        "  # context 변수는 string 으로 받는다.\n",
        "\n",
        "  if context == None:\n",
        "    print(\"Feed me some context to generate a text..........\")\n",
        "  \n",
        "  bos_token = [2] # 영어의 시작 부분 \n",
        "  eos_token = [3] # 영어의 끝나는 부분\n",
        "\n",
        "  context = tf.cast(sp.EncodeAsIds(context) + eos_token, dtype=tf.int32)\n",
        "  # 인풋은 포르투갈 어 + 영어의 시작 토큰임\n",
        "\n",
        "  context = tf.expand_dims(context, 0)\n",
        "  # context를 텐서로 바꿔주고, shape을 [1, seq_len]으로 바꿔준다.\n",
        "\n",
        "  prev = context\n",
        "  output = context\n",
        "  past = None\n",
        "  # 처음에는 입력된 것이 없기 때문에 past에 아무것도 없다.\n",
        "  # 하지만 입력이 되면 past 변수가 나오고 이거를 순환해서 계속 input으로 활용한다.\n",
        "  \n",
        "  for i in range(seq_len):\n",
        "    logits, past = gpt2(prev, training=False, past=past)\n",
        "    logits = logits[:, -1, :] / tf.cast(temperature, tf.float32)\n",
        "    logits = top_k_logits(logits, k=top_k)\n",
        "    \n",
        "    if nucleus_sampling:\n",
        "\n",
        "      logits = top_p_logits(logits, p=top_p)\n",
        "    samples = tf.random.categorical(logits, num_samples=1, dtype=tf.int32)\n",
        "\n",
        "    if tf.equal(samples, eos_token):\n",
        "      break\n",
        "\n",
        "    output = tf.concat([output, samples], axis=-1)\n",
        "    prev = samples\n",
        "\n",
        "  result = tf.squeeze(output, axis=0)\n",
        "  result = result.numpy().tolist()\n",
        "  result = sp.DecodeIds(result)\n",
        "  result = result.replace(\"<s>\", \"[Translated to]==>\")\n",
        "  return result"
      ],
      "execution_count": 0,
      "outputs": []
    },
    {
      "cell_type": "code",
      "metadata": {
        "id": "MdwzkWpAEnyR",
        "colab_type": "code",
        "colab": {
          "base_uri": "https://localhost:8080/",
          "height": 34
        },
        "outputId": "20b51deb-020a-4c83-ad06-7c8815d96370"
      },
      "source": [
        "sample_sequence(\"este é um problema que temos que resolver.\", temperature=1.5)"
      ],
      "execution_count": 52,
      "outputs": [
        {
          "output_type": "execute_result",
          "data": {
            "text/plain": [
              "\"este é um problema que temos que resolver. . that 's a problem we have to address .\""
            ]
          },
          "metadata": {
            "tags": []
          },
          "execution_count": 52
        }
      ]
    },
    {
      "cell_type": "code",
      "metadata": {
        "id": "MgLHIwpt2exB",
        "colab_type": "code",
        "colab": {
          "base_uri": "https://localhost:8080/",
          "height": 52
        },
        "outputId": "bd8b8f09-904d-4870-f3b2-bd4568600c7f"
      },
      "source": [
        "pt_val[1], eng_val[1]"
      ],
      "execution_count": 53,
      "outputs": [
        {
          "output_type": "execute_result",
          "data": {
            "text/plain": [
              "('estava sempre preocupado em ser apanhado e enviado de volta .',\n",
              " 'i was always worried about being caught and sent back .')"
            ]
          },
          "metadata": {
            "tags": []
          },
          "execution_count": 53
        }
      ]
    },
    {
      "cell_type": "code",
      "metadata": {
        "id": "pzhzNh9KJSfI",
        "colab_type": "code",
        "colab": {
          "base_uri": "https://localhost:8080/",
          "height": 1000
        },
        "outputId": "e9eea768-761f-4bdc-add1-67e0d1620d08"
      },
      "source": [
        "for i in range(300,400):\n",
        "  print(sample_sequence(pt_val[i], temperature=0.7, top_k=5), \"<<answer>> :\", eng_val[i])"
      ],
      "execution_count": 54,
      "outputs": [
        {
          "output_type": "stream",
          "text": [
            "vários anos depois do projeto do relógio a energia solar , uma jovem minha conhecida sugeriu que talvez sexo seja tão bom por causa dos cinco sentidos . answer : many years after the solar powered clocks project , a young lady i knew suggested maybe sex is so good because of the five senses .\n",
            "duas semanas depois , toda a gente estava a tentar entrar na nossa aula . two weeks later , everyone was trying to get in our class . answer : two weeks later , everyone was trying to get into our class .\n",
            "antes disso , tinha trabalhado em pintura . , i had worked in paint . answer : prior to this time , i had been working as a painter .\n",
            "todos juntos construímos humanae . we all made up the first together . answer : we all together build humanae .\n",
            "qual será a cor dos vossos filhos ? who will be the color ? answer : what will be the color of your children ?\n",
            "eles até usarão ferramentas como o scuinst trojan para infetar o seu computador com um trojan , que lhes permite ver toda sua comunicação ; ouvir as suas discussões online ; armazenar passwords . . ( risos ) they even use tools like the plavitized tools to plant his computer with a single thing with him , which allows you to see all their online objects ; to touch their online devices . answer : they will even use tools like state trojan to infect your computer with a trojan , which enables them to watch all your communication , to listen to your online discussions , to collect your passwords .\n",
            "passaram 25 anos inteiros até que as instituições médicas britânicas - as instituições médicas britânicas e americanas abandonassem a prática de fazer raios-x a grávidas . she 've been 25 years of all-time institutions , and american institutions , which british institutions and american institutions would follow-by-one ptsd , to make 32 . answer : it was fully 25 years before the british and medical — british and american medical establishments abandoned the practice of x-raying pregnant women .\n",
            "aqui está o meu relógio . here is my watch . answer : here 's my clock .\n",
            "veja , até agora , nós designers , concentramo-nos principalmente em fazer com que as coisas pareçam lindas , e com um pequeno retoque , o que significa que temos ignorado os outros três sentidos . . look at now , we 've even been able to think , really , we focused on making it very beautiful , and with a little retouus , which means that we have to organize other senses . answer : you see , up till now , us designers , we 've mainly focused on making things look very pretty , and a little bit of touch , which means we 've ignored the other three senses .\n",
            "como é que ela sabia que estava certa ? , really know she knew i was right ? answer : so , how did she know that she was right ?\n",
            "o problema difícil que alice escolheu foi a crescente incidência de cancros infantis . , que ela queria que ele queria que ele queria . the hard problem that alice invited is the growing electric farmers 'd die from the children 'd want him . answer : the hard problem that alice chose was the rising incidence of childhood cancers .\n",
            "ah : é capaz de o fazer em inglês e depois em coreano também . : it is able to do this in english and then and then that korean in korean . answer : ah : you can do english , then korean as well .\n",
            "vou defini-las aqui : vocês têm a ilustração . who are setting them up here : you 've got illustration of values . answer : i 'll define them here : you have the visual .\n",
            "mas depois a grande fome começou em 1994 . got the great famine started to 1994 . answer : but then the great famine began in 1994 .\n",
            "em vez disso , basta ver o filme até ao fim . next time , just watch the end . answer : we , instead , just watch the end of the movie .\n",
            "e gostava de vos convidar a abrir os ouvidos , a abrir os olhos , a fazer parte da nossa cultura e a experimentar a nossa língua visual . , i 'd like to invite you to open your ears , to do the part of our culture and try to make our visual language . answer : and i 'd like to invite you to open your ears , to open your eyes , take part in our culture and experience our visual language .\n",
            "este problema tem-me incomodado há mais de uma década . problem is it has over a decade . answer : this problem 's been bugging me for well over a decade .\n",
            "de repente percebi que humanae era útil para muitas pessoas . a suddenly i realized that it was useful for a lot of people . answer : suddenly i realized that humanae was useful for many people .\n",
            "o som fazia parte da minha vida , estão na minha cabeça todos os dias . sounds out of my life , are in my mind every day . answer : sound was very much a part of my life , really , on my mind every day .\n",
            "por isso , posso dizer-vos o quão longe chegámos nos 12 anos seguintes . risos ) and , i 'm telling you how far that we 've been 12 . answer : so i can tell you how far we have come in the ensuing 12 years .\n",
            "e digo que esta é uma altura fantástica para ser professor de matemática porque temos as ferramentas para criar este currículo de grande qualidade no nosso bolso . , i say , an amazing time for being mathematics because we have the tools to create this field of a great quality of our pocket . answer : and why this is an amazing time to be a math teacher right now is because we have the tools to create this high-quality curriculum in our front pocket .\n",
            "eram os homens de aspeto mais terrível que possam imaginar . , they were looking more terrible men that might imagine . answer : they were the ugliest looking men you can ever see .\n",
            "o mais importante a fazer é localizar as duas grandes partes . important to do is track the two great parts . answer : the most important thing to do is to track the two biggest parts .\n",
            "pomos nomes no quadro , juntamo-los a palpites e os miúdos aderem . é tudo isso que temos de fazer . we get the names the picture , we bring them back the old stage , and the kids are going to do . answer : we put names on the board , attach them to guesses , and kids have bought in here .\n",
            "sim , precisamos de nos focar , sim , precisamos nos concentrar , mas precisamos também de nos lembrar que inovação , criatividade , inspiração — todas essas coisas aparecem quando alargamos o nosso campo de visão , quando recuamos , quando afastamos a imagem . . yeah , we need to focus on , yes , we need to focus , but we need to remind us that innovation , all of these things coming from , all these things coming back , when we go back , when you move across , when answer : so , yes , we need to focus , yes , we need to concentrate , but we also need to remember that innovation , ingenuity , inspiration — these things come when we broaden our field of vision when we step back when we zoom out .\n",
            "mas a surpresa não é essa . surprise . answer : but the surprise is yet to come .\n",
            "os dados estavam lá , eram públicos , estavam em livre acesso , mas ninguém quis saber . . the data were there , they were in free , they were in free , but nobody wanted to know . answer : the data was out there , it was open , it was freely available , but nobody wanted to know .\n",
            "85 % é realmente um grande número . army really is a big number one . answer : eighty-five percent is a really big number .\n",
            "`` ele disse isto : `` '' se eu tivesse perguntado às pessoas o que elas queriam , elas teriam dito cavalos mais rápidos . '' '' hoje , nós como sociedade , enfrentamos muitos , muitos problemas difíceis . '' . '' `` he said this : `` '' if i knew what they wanted to be told to people who would have told more short-by . '' '' today , we 've face many , many problems . '' answer : `` he had this to say : `` '' if i had asked people what they wanted , they would have said faster horses . '' '' today , we as a society are faced with many , many difficult problems . ''\n",
            "`` estes tipos fazem as suas fortunas online , mas fazem-nas por meios ilegais usando coisas como `` '' banking trojans '' '' para roubar dinheiro das nossas contas enquanto fazemos movimentos bancários online ; ou com `` '' keyloggers '' '' para armazenar a informação do nosso cartão de crédito enquanto fazemos compras online através de um computador infetado . '' kind of pair-mutas online to online money online , or with video networks as we do video-mhel comigo , or with peer answer : these guys make their fortunes online , but they make it through the illegal means of using things like banking trojans to steal money from our bank accounts while we do online banking , or with keyloggers to collect our credit card information while we are doing online shopping from an infected computer .\n",
            "devem apanhar a ideia . pick the idea . answer : you get the idea .\n",
            "nós ganhámos literalmente uma quota de mercado . actually lose a market . answer : we literally gained market share .\n",
            "mais carpetes por homem/hora . man 'd step back to me . answer : more carpet per man-hour .\n",
            "`` `` '' ah , então quer mesmo vir aqui para a escola ? '' , `` ah , `` '' e quem é que eu ? '' '' '' ? '' '' `` `` oh , why would i mean to school ? '' '' answer : `` `` '' oh , so you really want to go to school here ? ''\n",
            "no verão , vamos nadar . summer , in the summer , you are going to swim . answer : in summer you go swimming .\n",
            "tudo o que fiz foi pensado para me manter interessado . all i did was thought to keep interest . answer : everything i did was thoughtfully designed to get me engaged .\n",
            "quem sou eu ? who am i ? answer : who am i ?\n",
            "no entanto , o xadrez é um domínio de perfeita objetividade . , a evolução , as about it 's a perfect domain . answer : and yet , chess is a domain of perfect objectivity .\n",
            "`` esta `` '' performance '' '' global é a minha cura para o cancro de acesso público . '' one global performance is my cure for the teacher . answer : this global performance is my open-source cure for cancer .\n",
            "percebi que este era um momento simbólico na minha vida . got that this was an absolute moment in my life . answer : i realized that this was a symbolic moment in my life .\n",
            "a matéria negra é algo que não gosta muito de interagir , exceto através da gravidade e , é claro , gostaríamos de aprender mais sobre ela . ? the dark matter is something you do n't like you like so love to interact with , except by gravity and , of course , we would like to learn more about it . answer : dark matter is something that does n't like to interact very much , except through gravity , and of course we would like to learn more about it .\n",
            "`` ele chamou a isto : `` '' uma impaciência com a irresolução '' '' . somos impacientes com coisas que não se resolvem rapidamente . '' flem : `` '' a minha primeira mensagem . '' `` he called this is `` '' a nickname with the sun with the sun with the things that we do n't solve very soon . '' '' we 're tested very quickly . '' answer : `` he called it , `` '' an impatience with irresolution . '' '' you 're impatient with things that do n't resolve quickly . ''\n",
            "o que é que se faz com certificados ? who does it make it work with ? answer : what do you do with certificates ?\n",
            "isto pagou todos os custos pela transformação da interface . took all the money for transformation interface . answer : this has paid all the costs for the transformation of interface .\n",
            "os meus alunos , adultos e crianças , pintam os seus autorretratos , tentando descobrir a sua cor única . , adult , adults , and children , painting their individual color . answer : my students , both adults and kids , paint their self-portraits , trying to discover their own unique color .\n",
            "sabem que as crianças dormem melhor com barulho . know the children will sleep that young children will live with noise . answer : you know that children sleep better in noise .\n",
            "a sede da empresa é aqui mesmo . gostaria de vos contar , porque , se não fosse a verdade , não se pode fazer , então , como é que a maioria do vosso corpo , a favor de um carro ? the company here is here . i 'd like to tell you , because , if it 's not true , that , it could n't do , so , what do you do for a majority of your body ? answer : the company headquarters are right here .\n",
            "estão preparados ? 's ready ? answer : you guys ready ?\n",
            "estão em todo o lado e são relativamente baratas . e as ferramentas para o distribuir livremente , sob licenças abertas nunca foram tão baratas e generalizadas . a sua comida , a comida é o que está a fazer . they 're everywhere and they 're pretty cheap , and the tools to deliver freely , to be as cheaper , to get very low-cost , unless they are doing so cheap and general . answer : it 's ubiquitous and fairly cheap , and the tools to distribute it freely under open licenses has also never been cheaper or more ubiquitous .\n",
            "mas um dia , voltei para casa e a minha mãe adotiva tinha feito asas de frango para o jantar . one day , i went home and my mom finally had made wings from a centrifuge to dinner . answer : but one day , i came home and my foster mother had made chicken wings for dinner .\n",
            "cá no fundo , sempre sentira que o som era uma coisa vossa , uma coisa de pessoas que ouvem . , i 've always experienced that sound was one of you who hear . answer : in the back of my mind , i 've always felt that sound was your thing , a hearing person 's thing .\n",
            "uma vez que os aglomerados de galáxias são partes representativas do universo , em versão reduzida , o universo at a tiny , the hundred galaxies are extinct , between the tiny parts of universe , the reduced track . answer : since galaxy clusters are representative slices of the universe , scaled-down versions .\n",
            "existe um declive , entre 2001 e 2003 : um declive quando as nossas vendas , durante um período de três anos , caíram 17 % . ' there 's an oil and 2003 : one bar , between our sales , over a period of three years , fell in a period of three years , and this one . answer : there is a dip there , from 2001 to 2003 : a dip when our sales , over a three-year period , were down 17 percent .\n",
            "como podem ver , as lâmpadas ficam viradas para fora , porque é daí que vêm os leões . , as you can see , the light coming out , because it 's what 's the lions come from there . answer : as you can see , the bulbs face outside , because that 's where the lions come from .\n",
            "quero dizer-vos que , se pudermos separar isto de forma diferente , e construir os problemas com os alunos , podemos ter tudo o que procuramos em termos de resolução paciente de problemas . . i mean , if we could really separate this differently , and build the problems with the students , we can get all the problems with the kids that we 're looking for a problem-out with specific problems . answer : so i want to put to you that if we can separate these in a different way and build them up with students , we can have everything we 're looking for in terms of patient problem solving .\n",
            "a privacidade está em causa . privacy is on ? answer : privacy is implied .\n",
            "( aplausos ) ( aplausos ) ( aplausos ) ( applause ) ( applause ) ( applause ) answer : ( applause )\n",
            "outro problema é a falta de motivação . problem is the lack of driving . answer : the other problem you 're going to run into is a lack of motivation .\n",
            "a matemática faz o mundo ter sentido . math is making the world trade-se alive . answer : math makes sense of the world .\n",
            "eu consigo diagnosticar o problema de forma mais específica na matemática . able to quickly myself to shake the specificness of the mathematics . answer : so i can diagnose the problem a little more specifically in math .\n",
            "muito obrigado . rt : obrigado . ( aplausos ) thanks . ( aplausos ) answer : thank you so much.rt : thank you . ( applause )\n",
            "precisamos de implementar sistematicamente o acesso imediato a aconselhamento legal . need to implement the immediate aftermath of the immediate reaction . answer : we need to systematically implement early access to counsel .\n",
            "e arranjei uma interruptor onde posso ligar ou desligar as luzes . got a page [ i can connect on and turn that light . answer : and i got a switch where i can switch on the lights , on and off .\n",
            "e foi assim que nasceu humanae . this is born . answer : and that is how humanae was born .\n",
            "este é um retrato de família . this is a family described . answer : this is a family portrait .\n",
            "e a terceira , é o compromisso . the third , is commitment . answer : and the third is commitment .\n",
            "assim , uma pergunta em particular que temos é como é que a energia negra afeta o universo às escalas maiores ? , a resposta que temos ? so one question that we have is as much as is that black energy affect the universe at the larger ? answer : so , one particular question that we have is , how does dark energy affect the universe at the largest scales ?\n",
            "ah : claro , por favor . . i , yeah . answer : ah : sure , please .\n",
            "e , neste infantário , estas crianças demonstram uma enorme concentração nas aulas . , in this truck , these children show a huge cultural report . answer : and in this kindergarten , these children show amazing concentration in class .\n",
            "a gravidade extrema destes sistemas acelera partículas de gás a grandes velocidades e grandes velocidades significam altas temperaturas . a gravidadeal gravityis , o que significa que o nosso sistema é de uma forma que não estamos a tentar fazer . gravity of these systems gets mapped to big gas particles , and large maps they mean high weather , which means that our system is in a way that your system is not trying to do . answer : the extreme gravity of these systems is accelerating particles of gas to great speeds , and great speeds means great temperatures .\n",
            "reparem primeiro que o problema tem três dados no enunciado , cada um dos quais vai ser usado numa fórmula algures , eventualmente , que o aluno vai então calcular . look first that the problem has three data points on the ground , each one of which is going to be used in a formula somewhere , eventually , that the student is going to follow . answer : notice , first of all here , that you have exactly three pieces of information there , each of which will figure into a formula somewhere , eventually , which the student will then compute .\n",
            "`` perguntaram-me : `` '' o que é que anda a fazer ? '' . ( risos ) `` they asked me , `` '' what are you doing ? '' '' answer : `` they asked me , `` '' what are you doing ? ''\n",
            "e isso significa também que temos de estar preparados para mudar de mentalidade . , it means we have to be ready for changing mindset . answer : and it also means that we have to be prepared to change our minds .\n",
            "materiais renováveis ou recicláveis são 25 % do total e estão em rápido crescimento . fonte drugs , and they 're 25 percent of the total growth and they 're fast growth . answer : renewable or recyclable materials are 25 percent of the total , and growing rapidly .\n",
            "um é a falta de iniciativa ; se os vossos alunos não tomarem a iniciativa . one is the lack of ownership ; you make n't make your initiative . answer : one is a lack of initiative ; your students do n't self-start .\n",
            "os guardas fronteiriços norte-coreanos frequentemente atiram e matam as pessoas que tentam atravessar a fronteira sem permissão . podia ter acontecido . some sub-saharan africans he often produced , and kill people who try to get the border . answer : north korean border guards often shoot and kill people trying to cross the border without permission .\n",
            "isso significa que temos de resistir ao impulso neurobiológico , o que significa que preferimos de facto pessoas mais parecidas connosco , e significa que temos de procurar pessoas com diferentes formações , de diferentes disciplinas , diferentes maneiras de pensar e diferentes experiências e encontrar maneiras de trabalhar com elas . . that means we have to resist the push to the push and take part of these other times that we like to get out of living books , and it means that you have to look , different experiences and work in answer : that means we have to resist the neurobiological drive , which means that we really prefer people mostly like ourselves , and it means we have to seek out people with different backgrounds , different disciplines , different ways of thinking and different experience , and find ways to engage with them .\n",
            "( aplausos ) ( aplausos ) answer : ( applause )\n",
            "ela trabalhou com um especialista em estatística chamado george kneale e george era basicamente tudo o que alice não era . , she worked with a attending george fry , and george 's basically all he was n't . answer : she worked with a statistician named george kneale , and george was pretty much everything that alice was n't .\n",
            "`` e eu disse : `` '' sim '' '' . então , pus as luzes . podem ver no fundo , aquelas são as luzes para os leões . '' . '' `` and i said , `` '' yeah . '' '' so i put the lights out there on the eye , those are the lights to see on the moon , the lights to tears . '' answer : `` and i said , `` '' yes . '' '' so i put the lights . you can see at the back , those are the lion lights . ''\n",
            "o mais barato , mais seguro barril de petróleo que existe é o que não é utilizado através de eficiências . cheaper , cheaper , more than oil is what you have is n't used through ends of favor . answer : the cheapest , most secure barrel of oil there is is the one not used through efficiencies .\n",
            "e elas não o conseguem porque as pessoas que nelas trabalham têm demasiado receio do conflito . . and they ca n't , because people who are so scared of what they work too , and that is much of course . answer : and they ca n't because the people inside of them are too afraid of conflict .\n",
            "numa terça-feira de manhã , em março de 1996 , estava a conversar com pessoas , como fazia a cada oportunidade , naquela época , trazendo-os junto e muitas vezes sem saber se estava a criar uma ligação . ? on a tuesday morning , in march , in december of 1996 , i was speaking with people , as i had a opportunity , given it back and often without knowing it was making a connection . answer : on a tuesday morning in march of 1996 , i was talking to people , as i did at every opportunity back then , bringing them along and often not knowing whether i was connecting .\n",
            "uma chimpanzé idosa tinha acordado com uma paralisia facial e os veterinários receavam que ela tivesse tido um acidente vascular . , a young old woman who stood with an empty field bank and were expected to have a horrority . answer : an elderly female chimpanzee had woken up with a facial droop and the veterinarians were worried that she 'd had a stroke .\n",
            "e a razão pelo qual é tão quente leva-nos ao diapositivo anterior . the reason is so hot one takes us to the final slide . answer : and the reason why it 's so hot goes back to the previous slide .\n",
            "porque simplesmente não se investe esse tipo de energia e de tempo se realmente não houver interesse . , because you simply put that kind of energy , if you do n't have enough interest . answer : because you simply wo n't commit that kind of energy and time if you do n't really care .\n",
            "e , a propósito , ele condenou-me como um saqueador da terra . , by the way , he 'd kind of like a land in a land . answer : and by the way he convicted me as a plunderer of the earth .\n",
            "mas queremos o mesmo afeganistão de antigamente . really want to afghanistan in this epidemic . answer : but we want the same afghanistan we had before .\n",
            "numa era de hostilidade global e de mudanças climáticas , eu estou aqui para responder à pergunta mais importante : por que diabo é que o sexo é tão bom ? ? it was of global hostility and climate change , i 'm here to answer the most important question : why is sex is sex is so good ? answer : in an age of global strife and climate change , i 'm here to answer the all important question : why is sex so damn good ?\n",
            "`` há três anos , lançámos uma carpete em placas para a casa , sob a marca flor ( pronuncia-se `` '' floor '' '' = chão ) , soletrada f-l-o-r , com erro ortográfico . '' . six years ago , we launched one , under one-called gallery bottle , under the grass had launched . answer : three years ago we launched carpet tile for the home , under the brand flor , misspelled f-l-o-r .\n",
            "eles têm que se obrigar a sobreviver , ter esperança para sobreviver , mas eles não o podem fazer sem ajuda . who must make survive , have hope to survive , but they ca n't do n't be able to survive without assistance . answer : they have to force themselves to survive , have hope to survive , but they can not make it without help .\n",
            "portanto , ao falarmos de valores estamos a falar de factos . , let we talk about facts we are talking about facts . answer : so , in talking about values we are talking about facts .\n",
            "o que é que podia dar errado ? who could give it wrong ? answer : what could go wrong ?\n",
            "aqui está um pequeno vídeo para mostrar como funciona . here 's a little clip going to show how it works . answer : here 's a quick video to show you how it works .\n",
            "`` `` '' porque devo preocupar-me ? '' , why should i care ? answer : why should i worry ?\n",
            "já não se deixam intimidar pela matemática , porque estamos lentamente a redefinir o conceito de matemática . é a europa , a europa , está agora . no , they 're not going to focus on math , because we 're slowly growing the concept of mathematics . answer : we 're no longer intimidated by math , because we 're slowly redefining what math is .\n",
            "o meu pai tentou arduamente motivar-me para os estudos , mas não funcionou . . my father tried enough to get me into the polls , but it did n't work . answer : my father tried very hard to motivate me into studying , but it did n't work .\n",
            "alguém entrou e eles foram profundamente hackados . who walked and they were deeply focused on . answer : somebody broke in and they hacked it thoroughly .\n",
            "( risos ) o que é uma coisa boa , se pensarmos bem . podemos partilhar o nosso cancro . ( risos ) ( laughter ) which is a good thing , if we think good thing . we can share our cancer . answer : ( laughter ) which is a nice thing , if you think about it , we can share our cancer .\n",
            "e eu mesmo conheci esta pessoa nos primeiros dias desta escalada de montanha . , i really met this person in the early days from this mountain . answer : and i myself met this person in the early days of this mountain climb .\n"
          ],
          "name": "stdout"
        }
      ]
    }
  ]
}